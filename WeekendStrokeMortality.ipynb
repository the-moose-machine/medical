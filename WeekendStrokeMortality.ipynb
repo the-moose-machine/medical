{
  "nbformat": 4,
  "nbformat_minor": 0,
  "metadata": {
    "colab": {
      "name": "WeekendStrokeMortality.ipynb",
      "provenance": [],
      "collapsed_sections": [
        "1hY_KJKV2VZ2",
        "d_4rWlougLII",
        "ecv_33Aygob6",
        "hDU3pczpgscu",
        "3V1TtBdRhEED",
        "xlq9rjkzlQ7p",
        "3y8QGyjUlTvY",
        "cpVzKhs9ll1X",
        "tAtYT-ZbmMbZ",
        "9PCqOUxZnpu4",
        "oIubJvc-rPBF",
        "1Tq3G7o_s4MA",
        "WNf9bkXIt3Yj",
        "4kwqasfmvkwE",
        "avmp0hpPvpGY",
        "cs7uo-5jwZRo",
        "2AN87LnqxFhP",
        "m-hr5m8gxXfY",
        "sZ-4LlmZx_jD",
        "X_QgRci-zAuz",
        "Tur3aBt80OVa",
        "-OH_qrNr3evD",
        "AAXwezS62qpO",
        "BWh_uRYc2oQe",
        "lPpUZRCo2f9e",
        "UdCVGuUi2jxu",
        "Jp9REoQK9fuS"
      ],
      "authorship_tag": "ABX9TyM+bMQPqZGDS3ZJqKXuL6gM",
      "include_colab_link": true
    },
    "kernelspec": {
      "name": "python3",
      "display_name": "Python 3"
    }
  },
  "cells": [
    {
      "cell_type": "markdown",
      "metadata": {
        "id": "view-in-github",
        "colab_type": "text"
      },
      "source": [
        "<a href=\"https://colab.research.google.com/github/the-moose-machine/medical/blob/master/WeekendStrokeMortality.ipynb\" target=\"_parent\"><img src=\"https://colab.research.google.com/assets/colab-badge.svg\" alt=\"Open In Colab\"/></a>"
      ]
    },
    {
      "cell_type": "markdown",
      "metadata": {
        "id": "mS1Bm5o7fkTt",
        "colab_type": "text"
      },
      "source": [
        "#The Weekend Effect of Mortality in Stroke Patients\n",
        "Developed at the Hack Aotearoa 2020 datathon."
      ]
    },
    {
      "cell_type": "markdown",
      "metadata": {
        "id": "1hY_KJKV2VZ2",
        "colab_type": "text"
      },
      "source": [
        "#Methodology Summary"
      ]
    },
    {
      "cell_type": "markdown",
      "metadata": {
        "id": "BiHZumAF2Xn-",
        "colab_type": "text"
      },
      "source": [
        "Platform: Google Colab\n",
        "Language: Python\n",
        "Packages: pandas, numpy, statsmodels, tableone, mimiciii\n",
        "Algorithm: generalised linear model\n",
        "\n",
        "Data: MIMIC-III tables: clinical, derived. Merged on 'subject_id', 'hadm_id', 'icustay_id'\n",
        "\n",
        "Data Processing: \n",
        "Dropping values:\n",
        "1. All rows with null values in the icu9_code field since only stroke patients were studied.\n",
        "2. Patient ages >= 90\n",
        "\n",
        "Data Size: 4,322 incidents for 3,729 individual patients\n",
        "\n",
        "Grouping by\n",
        "1. Days of the week: Weekdays and weekends\n",
        "2. Day of admission to ICU\n",
        "2. Day of admission to Hospital\n",
        "2. Ethnicity: White, black and other\n",
        "3. Home Discharge: Home or to other health providers\n",
        "4. Survival Period: short term < 6 months or long term >6 months\n",
        "5. Admission type: emergency (emergency and urgent) or elective\n",
        "6. GCS values: Mild -> GCS 13-15, Moderate -> GCS 9-12 OR Severe -> GCS 3-8\n",
        "\n",
        "Model: \n",
        "Generalised Linear Model\n",
        "binomial classifiers\n",
        "Adjusted for age, gender and type of admission, "
      ]
    },
    {
      "cell_type": "markdown",
      "metadata": {
        "id": "WSHQexg8f6da",
        "colab_type": "text"
      },
      "source": [
        "#Imports and Installations"
      ]
    },
    {
      "cell_type": "code",
      "metadata": {
        "id": "1QUd3gYcf9x3",
        "colab_type": "code",
        "colab": {}
      },
      "source": [
        "# Data processing libraries\n",
        "import pandas as pd\n",
        "import numpy as np\n",
        "import itertools\n",
        "\n",
        "# Stats libraries\n",
        "import statsmodels.api as sm\n",
        "import statsmodels.formula.api as smf\n",
        "import scipy.stats\n",
        "\n",
        "# Image libraries\n",
        "import matplotlib.pyplot as plt\n",
        "\n",
        "\n",
        "# Make pandas dataframes prettier\n",
        "from IPython.display import display, HTML\n",
        "\n",
        "# Access data using Google BigQuery.\n",
        "import os\n",
        "from google.colab import auth\n",
        "from google.cloud import bigquery"
      ],
      "execution_count": 0,
      "outputs": []
    },
    {
      "cell_type": "code",
      "metadata": {
        "id": "NCm1xUu7gIzY",
        "colab_type": "code",
        "outputId": "7ba3f15c-583a-42e1-f628-53fced626b7b",
        "colab": {
          "base_uri": "https://localhost:8080/",
          "height": 266
        }
      },
      "source": [
        "# install and import tableone\n",
        "!pip install tableone\n",
        "from tableone import TableOne"
      ],
      "execution_count": 0,
      "outputs": [
        {
          "output_type": "stream",
          "text": [
            "Collecting tableone\n",
            "  Downloading https://files.pythonhosted.org/packages/f2/72/df127c2b5b202fadf2db463783f419a441415399930ab106289d1b695eb5/tableone-0.6.6-py2.py3-none-any.whl\n",
            "Requirement already satisfied: scipy>=0.18.1 in /usr/local/lib/python3.6/dist-packages (from tableone) (1.4.1)\n",
            "Requirement already satisfied: numpy>=1.12.1 in /usr/local/lib/python3.6/dist-packages (from tableone) (1.17.5)\n",
            "Requirement already satisfied: pandas>=0.22.0 in /usr/local/lib/python3.6/dist-packages (from tableone) (0.25.3)\n",
            "Requirement already satisfied: statsmodels>=0.8.0 in /usr/local/lib/python3.6/dist-packages (from tableone) (0.10.2)\n",
            "Requirement already satisfied: tabulate>=0.8.2 in /usr/local/lib/python3.6/dist-packages (from tableone) (0.8.6)\n",
            "Requirement already satisfied: pytz>=2017.2 in /usr/local/lib/python3.6/dist-packages (from pandas>=0.22.0->tableone) (2018.9)\n",
            "Requirement already satisfied: python-dateutil>=2.6.1 in /usr/local/lib/python3.6/dist-packages (from pandas>=0.22.0->tableone) (2.6.1)\n",
            "Requirement already satisfied: patsy>=0.4.0 in /usr/local/lib/python3.6/dist-packages (from statsmodels>=0.8.0->tableone) (0.5.1)\n",
            "Requirement already satisfied: six>=1.5 in /usr/local/lib/python3.6/dist-packages (from python-dateutil>=2.6.1->pandas>=0.22.0->tableone) (1.12.0)\n",
            "Installing collected packages: tableone\n",
            "Successfully installed tableone-0.6.6\n"
          ],
          "name": "stdout"
        }
      ]
    },
    {
      "cell_type": "markdown",
      "metadata": {
        "id": "d_4rWlougLII",
        "colab_type": "text"
      },
      "source": [
        "#MIMIC-III"
      ]
    },
    {
      "cell_type": "markdown",
      "metadata": {
        "id": "ecv_33Aygob6",
        "colab_type": "text"
      },
      "source": [
        "##Connect to MIMIC-III"
      ]
    },
    {
      "cell_type": "code",
      "metadata": {
        "id": "kG2MKJ5ogQVF",
        "colab_type": "code",
        "colab": {}
      },
      "source": [
        "auth.authenticate_user()"
      ],
      "execution_count": 0,
      "outputs": []
    },
    {
      "cell_type": "code",
      "metadata": {
        "id": "73muzFxngS70",
        "colab_type": "code",
        "colab": {}
      },
      "source": [
        "# add your project ID for billing\n",
        "project_id='hack-aotearoa'\n",
        "os.environ[\"GOOGLE_CLOUD_PROJECT\"]=project_id"
      ],
      "execution_count": 0,
      "outputs": []
    },
    {
      "cell_type": "markdown",
      "metadata": {
        "id": "hDU3pczpgscu",
        "colab_type": "text"
      },
      "source": [
        "##Extract Data"
      ]
    },
    {
      "cell_type": "code",
      "metadata": {
        "id": "eRlgs9ISgaG5",
        "colab_type": "code",
        "colab": {}
      },
      "source": [
        "# Run query and assign the results to a Pandas DataFrame\n",
        "# Requires the icustay_detail view from:\n",
        "# https://github.com/MIT-LCP/mimic-code/tree/master/concepts/demographics\n",
        "# And the OASIS score from:\n",
        "# https://github.com/MIT-LCP/mimic-code/tree/master/concepts/severityscores\n",
        "%%bigquery data\n",
        "\n",
        "WITH first_icu AS (\n",
        "    SELECT i.subject_id, i.hadm_id, i.icustay_id, i.gender, i.admittime admittime_hospital, \n",
        "      i.dischtime dischtime_hospital, i.los_hospital, i.admission_age, i.admission_type, \n",
        "      i.hospital_expire_flag, i.intime intime_icu, i.outtime outtime_icu, i.los_icu, \n",
        "      s.first_careunit\n",
        "    FROM `physionet-data.mimiciii_derived.icustay_detail` i\n",
        "    LEFT JOIN `physionet-data.mimiciii_clinical.icustays` s\n",
        "    ON i.icustay_id = s.icustay_id\n",
        "    WHERE i.hospstay_seq = 1\n",
        "      AND i.icustay_seq = 1\n",
        "      AND i.admission_age >= 16\n",
        ")\n",
        "SELECT f.*, o.icustay_expire_flag, o.oasis, o.oasis_prob\n",
        "FROM first_icu f\n",
        "LEFT JOIN `physionet-data.mimiciii_derived.oasis` o\n",
        "ON f.icustay_id = o.icustay_id;"
      ],
      "execution_count": 0,
      "outputs": []
    },
    {
      "cell_type": "code",
      "metadata": {
        "id": "osYyVwdeggQ6",
        "colab_type": "code",
        "colab": {}
      },
      "source": [
        "%%bigquery stroke_code\n",
        "\n",
        "SELECT *\n",
        "FROM `physionet-data.mimiciii_clinical.diagnoses_icd`\n",
        "WHERE ICD9_CODE like '433%' or icd9_CODE like '434%' or icd9_CODE like '430%' or icd9_CODE like '431%' or icd9_CODE like '432%'\n",
        ";"
      ],
      "execution_count": 0,
      "outputs": []
    },
    {
      "cell_type": "code",
      "metadata": {
        "id": "iv1uS6hGm1on",
        "colab_type": "code",
        "colab": {}
      },
      "source": [
        "%%bigquery patients\n",
        "\n",
        "SELECT *\n",
        "FROM `physionet-data.mimiciii_clinical.patients`;"
      ],
      "execution_count": 0,
      "outputs": []
    },
    {
      "cell_type": "code",
      "metadata": {
        "id": "5BG_FZO3gxBt",
        "colab_type": "code",
        "colab": {}
      },
      "source": [
        "%%bigquery admissions\n",
        "\n",
        "SELECT *\n",
        "FROM `physionet-data.mimiciii_clinical.admissions`;"
      ],
      "execution_count": 0,
      "outputs": []
    },
    {
      "cell_type": "code",
      "metadata": {
        "id": "q-kyxzJAg-2i",
        "colab_type": "code",
        "colab": {}
      },
      "source": [
        "%%bigquery gcsfirstday\n",
        "\n",
        "SELECT *\n",
        "FROM `physionet-data.mimiciii_derived.gcsfirstday`;"
      ],
      "execution_count": 0,
      "outputs": []
    },
    {
      "cell_type": "markdown",
      "metadata": {
        "id": "3V1TtBdRhEED",
        "colab_type": "text"
      },
      "source": [
        "##Load data into a single DataFrame"
      ]
    },
    {
      "cell_type": "code",
      "metadata": {
        "id": "BvDmhym5hNyT",
        "colab_type": "code",
        "outputId": "4568caa9-d337-4bd0-fd29-102209194156",
        "colab": {
          "base_uri": "https://localhost:8080/"
        }
      },
      "source": [
        "data.columns"
      ],
      "execution_count": 0,
      "outputs": [
        {
          "output_type": "execute_result",
          "data": {
            "text/plain": [
              "Index(['subject_id', 'hadm_id', 'icustay_id', 'gender', 'admittime_hospital',\n",
              "       'dischtime_hospital', 'los_hospital', 'admission_age', 'admission_type',\n",
              "       'hospital_expire_flag', 'intime_icu', 'outtime_icu', 'los_icu',\n",
              "       'first_careunit', 'icustay_expire_flag', 'oasis', 'oasis_prob'],\n",
              "      dtype='object')"
            ]
          },
          "metadata": {
            "tags": []
          },
          "execution_count": 9
        }
      ]
    },
    {
      "cell_type": "code",
      "metadata": {
        "id": "H55MkqZ0hWIT",
        "colab_type": "code",
        "outputId": "a4427769-78d1-4787-f326-4225354dceeb",
        "colab": {
          "base_uri": "https://localhost:8080/"
        }
      },
      "source": [
        "stroke_code.columns"
      ],
      "execution_count": 0,
      "outputs": [
        {
          "output_type": "execute_result",
          "data": {
            "text/plain": [
              "Index(['ROW_ID', 'SUBJECT_ID', 'HADM_ID', 'SEQ_NUM', 'ICD9_CODE'], dtype='object')"
            ]
          },
          "metadata": {
            "tags": []
          },
          "execution_count": 10
        }
      ]
    },
    {
      "cell_type": "code",
      "metadata": {
        "id": "9fsDDEyGm95I",
        "colab_type": "code",
        "outputId": "85b13c66-d844-4daa-8c0c-eb825357167d",
        "colab": {
          "base_uri": "https://localhost:8080/"
        }
      },
      "source": [
        "patients.columns"
      ],
      "execution_count": 0,
      "outputs": [
        {
          "output_type": "execute_result",
          "data": {
            "text/plain": [
              "Index(['ROW_ID', 'SUBJECT_ID', 'GENDER', 'DOB', 'DOD', 'DOD_HOSP', 'DOD_SSN',\n",
              "       'EXPIRE_FLAG'],\n",
              "      dtype='object')"
            ]
          },
          "metadata": {
            "tags": []
          },
          "execution_count": 34
        }
      ]
    },
    {
      "cell_type": "code",
      "metadata": {
        "id": "yqSEr-uqhZzj",
        "colab_type": "code",
        "outputId": "44f68615-1617-492e-f63a-b89dfaf6865b",
        "colab": {
          "base_uri": "https://localhost:8080/"
        }
      },
      "source": [
        "admissions.columns"
      ],
      "execution_count": 0,
      "outputs": [
        {
          "output_type": "execute_result",
          "data": {
            "text/plain": [
              "Index(['ROW_ID', 'SUBJECT_ID', 'HADM_ID', 'ADMITTIME', 'DISCHTIME',\n",
              "       'DEATHTIME', 'ADMISSION_TYPE', 'ADMISSION_LOCATION',\n",
              "       'DISCHARGE_LOCATION', 'INSURANCE', 'LANGUAGE', 'RELIGION',\n",
              "       'MARITAL_STATUS', 'ETHNICITY', 'EDREGTIME', 'EDOUTTIME', 'DIAGNOSIS',\n",
              "       'HOSPITAL_EXPIRE_FLAG', 'HAS_CHARTEVENTS_DATA'],\n",
              "      dtype='object')"
            ]
          },
          "metadata": {
            "tags": []
          },
          "execution_count": 11
        }
      ]
    },
    {
      "cell_type": "code",
      "metadata": {
        "id": "zYrTCAYMhbUy",
        "colab_type": "code",
        "outputId": "615aa65d-250c-44ac-d6c4-331a8dea4a1c",
        "colab": {
          "base_uri": "https://localhost:8080/"
        }
      },
      "source": [
        "gcsfirstday.columns"
      ],
      "execution_count": 0,
      "outputs": [
        {
          "output_type": "execute_result",
          "data": {
            "text/plain": [
              "Index(['SUBJECT_ID', 'HADM_ID', 'ICUSTAY_ID', 'MinGCS', 'GCSMotor',\n",
              "       'GCSVerbal', 'GCSEyes', 'EndoTrachFlag'],\n",
              "      dtype='object')"
            ]
          },
          "metadata": {
            "tags": []
          },
          "execution_count": 12
        }
      ]
    },
    {
      "cell_type": "code",
      "metadata": {
        "id": "VNPGBMighd8j",
        "colab_type": "code",
        "colab": {}
      },
      "source": [
        "#Rename columns to remove capitalization\n",
        "stroke_code = stroke_code.rename(columns={'ROW_ID':'row_id', 'SUBJECT_ID':'subject_id', 'HADM_ID':'hadm_id', 'SEQ_NUM':'seq_num', 'ICD9_CODE':'icd9_code'})\n",
        "\n",
        "patients = patients.rename(columns={'ROW_ID':'row_id', 'SUBJECT_ID':'subject_id', 'GENDER':'gender', 'DOB':'dob', 'DOD':'dod', 'DOD_HOSP':'dod_hosp', 'DOD_SSN':'dod_ssn', 'EXPIRE_FLAG':'expire_flag'})\n",
        "\n",
        "admissions = admissions.rename(columns={'ROW_ID':'row_id', 'SUBJECT_ID':'subject_id', 'HADM_ID':'hadm_id', 'ADMITTIME':'admittime', 'DISCHTIME':'dischtime',\n",
        "       'DEATHTIME':'deathtime', 'ADMISSION_TYPE':'admission_type', 'ADMISSION_LOCATION':'admission_location',\n",
        "       'DISCHARGE_LOCATION':'discharge_location', 'INSURANCE':'insurance', 'LANGUAGE':'language', 'RELIGION':'religion',\n",
        "       'MARITAL_STATUS':'marital_status', 'ETHNICITY':'ethnicity', 'EDREGTIME':'edregtime', 'EDOUTTIME':'edouttime', 'DIAGNOSIS':'diagnosis',\n",
        "       'HOSPITAL_EXPIRE_FLAG':'hospital_expire_flag', 'HAS_CHARTEVENTS_DATA':'has_chartevents_data'})\n",
        "\n",
        "gcsfirstday = gcsfirstday.rename(columns={'SUBJECT_ID':'subject_id', 'HADM_ID':'hadm_id', 'ICUSTAY_ID':'icustay_id', 'MinGCS':'mingcs', 'GCSMotor':'gcsmotor', 'GCSVerbal':'gcsverbal', 'GCSEyes':'gcseyes', 'EndoTrachFlag':'endotrachflag'})"
      ],
      "execution_count": 0,
      "outputs": []
    },
    {
      "cell_type": "code",
      "metadata": {
        "id": "MbNfT5bah8oS",
        "colab_type": "code",
        "outputId": "0402e730-b496-4bbe-ea66-340be5ab5a25",
        "colab": {
          "base_uri": "https://localhost:8080/"
        }
      },
      "source": [
        "stroke_code.columns, patients.columns, admissions.columns, gcsfirstday.columns"
      ],
      "execution_count": 0,
      "outputs": [
        {
          "output_type": "execute_result",
          "data": {
            "text/plain": [
              "(Index(['row_id', 'subject_id', 'hadm_id', 'seq_num', 'icd9_code'], dtype='object'),\n",
              " Index(['row_id', 'subject_id', 'gender', 'dob', 'dod', 'dod_hosp', 'dod_ssn',\n",
              "        'expire_flag'],\n",
              "       dtype='object'),\n",
              " Index(['row_id', 'subject_id', 'hadm_id', 'admittime', 'dischtime',\n",
              "        'deathtime', 'admission_type', 'admission_location',\n",
              "        'discharge_location', 'insurance', 'language', 'religion',\n",
              "        'marital_status', 'ethnicity', 'edregtime', 'edouttime', 'diagnosis',\n",
              "        'hospital_expire_flag', 'has_chartevents_data'],\n",
              "       dtype='object'),\n",
              " Index(['subject_id', 'hadm_id', 'icustay_id', 'mingcs', 'gcsmotor',\n",
              "        'gcsverbal', 'gcseyes', 'endotrachflag'],\n",
              "       dtype='object'))"
            ]
          },
          "metadata": {
            "tags": []
          },
          "execution_count": 36
        }
      ]
    },
    {
      "cell_type": "code",
      "metadata": {
        "id": "daHlDA07iHcl",
        "colab_type": "code",
        "outputId": "d61d3fe3-7394-4a57-82fd-1e76ccaf2056",
        "colab": {
          "base_uri": "https://localhost:8080/"
        }
      },
      "source": [
        "data.shape, stroke_code.shape, admissions.shape, gcsfirstday.shape"
      ],
      "execution_count": 0,
      "outputs": [
        {
          "output_type": "execute_result",
          "data": {
            "text/plain": [
              "((38558, 17), (5386, 5), (58976, 19), (61532, 8))"
            ]
          },
          "metadata": {
            "tags": []
          },
          "execution_count": 16
        }
      ]
    },
    {
      "cell_type": "code",
      "metadata": {
        "id": "7Wzqy-RKiiXS",
        "colab_type": "code",
        "colab": {}
      },
      "source": [
        "df = pd.merge(data, stroke_code, how='left', on=['subject_id', 'hadm_id'])"
      ],
      "execution_count": 0,
      "outputs": []
    },
    {
      "cell_type": "markdown",
      "metadata": {
        "id": "xlq9rjkzlQ7p",
        "colab_type": "text"
      },
      "source": [
        "#Data Processing"
      ]
    },
    {
      "cell_type": "markdown",
      "metadata": {
        "id": "3y8QGyjUlTvY",
        "colab_type": "text"
      },
      "source": [
        "##Dropping Null Values"
      ]
    },
    {
      "cell_type": "code",
      "metadata": {
        "id": "n_gfCpl8irfS",
        "colab_type": "code",
        "outputId": "c22d5ba1-2bcb-4ffd-e2b4-20a1482a3ba3",
        "colab": {
          "base_uri": "https://localhost:8080/"
        }
      },
      "source": [
        "df.columns"
      ],
      "execution_count": 0,
      "outputs": [
        {
          "output_type": "execute_result",
          "data": {
            "text/plain": [
              "Index(['subject_id', 'hadm_id', 'icustay_id', 'gender', 'admittime_hospital',\n",
              "       'dischtime_hospital', 'los_hospital', 'admission_age', 'admission_type',\n",
              "       'hospital_expire_flag', 'intime_icu', 'outtime_icu', 'los_icu',\n",
              "       'first_careunit', 'icustay_expire_flag', 'oasis', 'oasis_prob',\n",
              "       'row_id', 'seq_num', 'icd9_code'],\n",
              "      dtype='object')"
            ]
          },
          "metadata": {
            "tags": []
          },
          "execution_count": 19
        }
      ]
    },
    {
      "cell_type": "code",
      "metadata": {
        "id": "C9ukivuBi1IC",
        "colab_type": "code",
        "outputId": "a0f8b31a-a573-437b-8f05-4a667082b6e0",
        "colab": {
          "base_uri": "https://localhost:8080/"
        }
      },
      "source": [
        "df.shape"
      ],
      "execution_count": 0,
      "outputs": [
        {
          "output_type": "execute_result",
          "data": {
            "text/plain": [
              "(39187, 20)"
            ]
          },
          "metadata": {
            "tags": []
          },
          "execution_count": 20
        }
      ]
    },
    {
      "cell_type": "code",
      "metadata": {
        "id": "AEHf4dtfi2Ny",
        "colab_type": "code",
        "outputId": "8fe3fa98-e787-4023-92fc-c57d0bc5404d",
        "colab": {
          "base_uri": "https://localhost:8080/"
        }
      },
      "source": [
        "#Check the various categories in icd9_code data\n",
        "df.icd9_code.sort_values().unique()"
      ],
      "execution_count": 0,
      "outputs": [
        {
          "output_type": "execute_result",
          "data": {
            "text/plain": [
              "array(['430', '431', '4320', '4321', '4329', '43300', '43301', '43310',\n",
              "       '43311', '43320', '43321', '43330', '43331', '43380', '43381',\n",
              "       '43391', '43400', '43401', '43410', '43411', '43490', '43491', nan],\n",
              "      dtype=object)"
            ]
          },
          "metadata": {
            "tags": []
          },
          "execution_count": 21
        }
      ]
    },
    {
      "cell_type": "markdown",
      "metadata": {
        "id": "SOJHN_1xqhBn",
        "colab_type": "text"
      },
      "source": [
        "These codes correspond to stroke patients"
      ]
    },
    {
      "cell_type": "code",
      "metadata": {
        "id": "9W4rs8pcjIPi",
        "colab_type": "code",
        "outputId": "6bc7f9ec-f4c5-4f48-97d9-734708672be4",
        "colab": {
          "base_uri": "https://localhost:8080/"
        }
      },
      "source": [
        "#Visualise the null values\n",
        "import missingno as msno\n",
        "msno.matrix(df)"
      ],
      "execution_count": 0,
      "outputs": [
        {
          "output_type": "execute_result",
          "data": {
            "text/plain": [
              "<matplotlib.axes._subplots.AxesSubplot at 0x7f2182728860>"
            ]
          },
          "metadata": {
            "tags": []
          },
          "execution_count": 23
        },
        {
          "output_type": "display_data",
          "data": {
            "image/png": "[encoded data removed]",
            "text/plain": [
              "<Figure size 1800x720 with 2 Axes>"
            ]
          },
          "metadata": {
            "tags": []
          }
        }
      ]
    },
    {
      "cell_type": "markdown",
      "metadata": {
        "id": "t80ptKskkHEN",
        "colab_type": "text"
      },
      "source": [
        "Several null values are present in row_id, seq_num and icd9_code. Minimal null values are present in outcome_icu and los_icu"
      ]
    },
    {
      "cell_type": "code",
      "metadata": {
        "id": "7kcmZ2YPjA7g",
        "colab_type": "code",
        "colab": {}
      },
      "source": [
        "#Identify rows without NaN values\n",
        "nonnan_rows_age = df[df['icd9_code'].isnotnull()]\n",
        "nan_rows_age"
      ],
      "execution_count": 0,
      "outputs": []
    },
    {
      "cell_type": "code",
      "metadata": {
        "id": "GWJl7VVlkuDV",
        "colab_type": "code",
        "colab": {}
      },
      "source": [
        "#Drop the Null values of icd9_code\n",
        "data = df.dropna(subset=['icd9_code'])"
      ],
      "execution_count": 0,
      "outputs": []
    },
    {
      "cell_type": "code",
      "metadata": {
        "id": "8NkzAEy7k4xY",
        "colab_type": "code",
        "outputId": "ca3c15c0-859b-4919-a281-dba2684e4980",
        "colab": {
          "base_uri": "https://localhost:8080/"
        }
      },
      "source": [
        "data.shape"
      ],
      "execution_count": 0,
      "outputs": [
        {
          "output_type": "execute_result",
          "data": {
            "text/plain": [
              "(4585, 20)"
            ]
          },
          "metadata": {
            "tags": []
          },
          "execution_count": 26
        }
      ]
    },
    {
      "cell_type": "markdown",
      "metadata": {
        "id": "7RDueo0ak-zo",
        "colab_type": "text"
      },
      "source": [
        "Dropping the data without icd9_code values reduces the data frame from 39,187 to 4,585. It will be seen later that this corresponds to 3,729 individual patients. This indicates that some of the patients may have been admitted more than once."
      ]
    },
    {
      "cell_type": "code",
      "metadata": {
        "id": "HEufrxsdlewn",
        "colab_type": "code",
        "outputId": "e39ce6b3-ef57-4346-8a96-3e4c7886618b",
        "colab": {
          "base_uri": "https://localhost:8080/"
        }
      },
      "source": [
        "#Visualise the null values\n",
        "msno.matrix(data)"
      ],
      "execution_count": 0,
      "outputs": [
        {
          "output_type": "execute_result",
          "data": {
            "text/plain": [
              "<matplotlib.axes._subplots.AxesSubplot at 0x7f21820ae390>"
            ]
          },
          "metadata": {
            "tags": []
          },
          "execution_count": 28
        },
        {
          "output_type": "display_data",
          "data": {
            "image/png": "[encoded data removed]",
            "text/plain": [
              "<Figure size 1800x720 with 2 Axes>"
            ]
          },
          "metadata": {
            "tags": []
          }
        }
      ]
    },
    {
      "cell_type": "markdown",
      "metadata": {
        "id": "zwxuaiMjljco",
        "colab_type": "text"
      },
      "source": [
        "All the null values have been taken care of."
      ]
    },
    {
      "cell_type": "markdown",
      "metadata": {
        "id": "cpVzKhs9ll1X",
        "colab_type": "text"
      },
      "source": [
        "##Dropping patients aged >= 90"
      ]
    },
    {
      "cell_type": "code",
      "metadata": {
        "id": "QP_ovT_slze4",
        "colab_type": "code",
        "outputId": "363c5f18-079c-451f-b14a-b66f12cd54ed",
        "colab": {
          "base_uri": "https://localhost:8080/"
        }
      },
      "source": [
        "data1 = data[data.admission_age < 300]\n",
        "data1.shape"
      ],
      "execution_count": 0,
      "outputs": [
        {
          "output_type": "execute_result",
          "data": {
            "text/plain": [
              "(4322, 20)"
            ]
          },
          "metadata": {
            "tags": []
          },
          "execution_count": 29
        }
      ]
    },
    {
      "cell_type": "code",
      "metadata": {
        "id": "DLglAkd8l4yX",
        "colab_type": "code",
        "outputId": "05b511e0-a1da-429a-a902-0b67e8318b48",
        "colab": {
          "base_uri": "https://localhost:8080/"
        }
      },
      "source": [
        "data.shape[0] - data1.shape[0]"
      ],
      "execution_count": 0,
      "outputs": [
        {
          "output_type": "execute_result",
          "data": {
            "text/plain": [
              "263"
            ]
          },
          "metadata": {
            "tags": []
          },
          "execution_count": 30
        }
      ]
    },
    {
      "cell_type": "markdown",
      "metadata": {
        "id": "BeDe-tvHl9IK",
        "colab_type": "text"
      },
      "source": [
        "Another 263 patients ($5.74\\%$ of 4,585) have been removed."
      ]
    },
    {
      "cell_type": "markdown",
      "metadata": {
        "id": "tAtYT-ZbmMbZ",
        "colab_type": "text"
      },
      "source": [
        "##Merging the remaining DFs into a single DF"
      ]
    },
    {
      "cell_type": "code",
      "metadata": {
        "id": "YQ5jsJlImbCX",
        "colab_type": "code",
        "outputId": "b7f371db-f8c1-4308-83da-a16e414a4a8b",
        "colab": {
          "base_uri": "https://localhost:8080/"
        }
      },
      "source": [
        "data2 = pd.merge(data1, patients, how='left', on=['subject_id'])\n",
        "data1.shape, data2.shape"
      ],
      "execution_count": 0,
      "outputs": [
        {
          "output_type": "execute_result",
          "data": {
            "text/plain": [
              "((4322, 20), (4322, 27))"
            ]
          },
          "metadata": {
            "tags": []
          },
          "execution_count": 38
        }
      ]
    },
    {
      "cell_type": "code",
      "metadata": {
        "id": "28yxZawFmtHJ",
        "colab_type": "code",
        "outputId": "53b7a8ad-7ed1-4db4-cb44-7726552b3f62",
        "colab": {
          "base_uri": "https://localhost:8080/"
        }
      },
      "source": [
        "data3 = pd.merge(data2, admissions, how='left', on=['subject_id', 'hadm_id'])\n",
        "data1.shape, data2.shape, data3.shape"
      ],
      "execution_count": 0,
      "outputs": [
        {
          "output_type": "execute_result",
          "data": {
            "text/plain": [
              "((4322, 20), (4322, 27), (4322, 44))"
            ]
          },
          "metadata": {
            "tags": []
          },
          "execution_count": 39
        }
      ]
    },
    {
      "cell_type": "code",
      "metadata": {
        "id": "rjuG2oHRnifq",
        "colab_type": "code",
        "outputId": "7280e9d6-8770-4a9a-d7cb-7cac058d59cd",
        "colab": {
          "base_uri": "https://localhost:8080/"
        }
      },
      "source": [
        "data4 = pd.merge(data3, gcsfirstday, how='left', on=['subject_id', 'hadm_id', 'icustay_id'])\n",
        "data1.shape, data2.shape, data3.shape, data4.shape"
      ],
      "execution_count": 0,
      "outputs": [
        {
          "output_type": "execute_result",
          "data": {
            "text/plain": [
              "((4322, 20), (4322, 27), (4322, 44), (4322, 49))"
            ]
          },
          "metadata": {
            "tags": []
          },
          "execution_count": 40
        }
      ]
    },
    {
      "cell_type": "markdown",
      "metadata": {
        "id": "9PCqOUxZnpu4",
        "colab_type": "text"
      },
      "source": [
        "#Data Investigation"
      ]
    },
    {
      "cell_type": "code",
      "metadata": {
        "id": "RDzIaJnNoBVu",
        "colab_type": "code",
        "outputId": "0ad25e86-3661-4e0f-f1de-6c71ed94daf6",
        "colab": {
          "base_uri": "https://localhost:8080/",
          "height": 394
        }
      },
      "source": [
        "data4.head()"
      ],
      "execution_count": 0,
      "outputs": [
        {
          "output_type": "execute_result",
          "data": {
            "text/html": [
              "<div>\n",
              "<style scoped>\n",
              "    .dataframe tbody tr th:only-of-type {\n",
              "        vertical-align: middle;\n",
              "    }\n",
              "\n",
              "    .dataframe tbody tr th {\n",
              "        vertical-align: top;\n",
              "    }\n",
              "\n",
              "    .dataframe thead th {\n",
              "        text-align: right;\n",
              "    }\n",
              "</style>\n",
              "<table border=\"1\" class=\"dataframe\">\n",
              "  <thead>\n",
              "    <tr style=\"text-align: right;\">\n",
              "      <th></th>\n",
              "      <th>subject_id</th>\n",
              "      <th>hadm_id</th>\n",
              "      <th>icustay_id</th>\n",
              "      <th>gender_x</th>\n",
              "      <th>admittime_hospital</th>\n",
              "      <th>dischtime_hospital</th>\n",
              "      <th>los_hospital</th>\n",
              "      <th>admission_age</th>\n",
              "      <th>admission_type_x</th>\n",
              "      <th>hospital_expire_flag_x</th>\n",
              "      <th>intime_icu</th>\n",
              "      <th>outtime_icu</th>\n",
              "      <th>los_icu</th>\n",
              "      <th>first_careunit</th>\n",
              "      <th>icustay_expire_flag</th>\n",
              "      <th>oasis</th>\n",
              "      <th>oasis_prob</th>\n",
              "      <th>row_id_x</th>\n",
              "      <th>seq_num</th>\n",
              "      <th>icd9_code</th>\n",
              "      <th>row_id_y</th>\n",
              "      <th>gender_y</th>\n",
              "      <th>dob</th>\n",
              "      <th>dod</th>\n",
              "      <th>dod_hosp</th>\n",
              "      <th>dod_ssn</th>\n",
              "      <th>expire_flag</th>\n",
              "      <th>row_id</th>\n",
              "      <th>admittime</th>\n",
              "      <th>dischtime</th>\n",
              "      <th>deathtime</th>\n",
              "      <th>admission_type_y</th>\n",
              "      <th>admission_location</th>\n",
              "      <th>discharge_location</th>\n",
              "      <th>insurance</th>\n",
              "      <th>language</th>\n",
              "      <th>religion</th>\n",
              "      <th>marital_status</th>\n",
              "      <th>ethnicity</th>\n",
              "      <th>edregtime</th>\n",
              "      <th>edouttime</th>\n",
              "      <th>diagnosis</th>\n",
              "      <th>hospital_expire_flag_y</th>\n",
              "      <th>has_chartevents_data</th>\n",
              "      <th>mingcs</th>\n",
              "      <th>gcsmotor</th>\n",
              "      <th>gcsverbal</th>\n",
              "      <th>gcseyes</th>\n",
              "      <th>endotrachflag</th>\n",
              "    </tr>\n",
              "  </thead>\n",
              "  <tbody>\n",
              "    <tr>\n",
              "      <th>0</th>\n",
              "      <td>141</td>\n",
              "      <td>168006</td>\n",
              "      <td>234668</td>\n",
              "      <td>M</td>\n",
              "      <td>2140-11-06 11:07:00</td>\n",
              "      <td>2140-11-09 20:36:00</td>\n",
              "      <td>3</td>\n",
              "      <td>80</td>\n",
              "      <td>EMERGENCY</td>\n",
              "      <td>1</td>\n",
              "      <td>2140-11-06 11:09:19</td>\n",
              "      <td>2140-11-09 22:35:29</td>\n",
              "      <td>3.0</td>\n",
              "      <td>MICU</td>\n",
              "      <td>1</td>\n",
              "      <td>53</td>\n",
              "      <td>0.641734</td>\n",
              "      <td>1784.0</td>\n",
              "      <td>2.0</td>\n",
              "      <td>43491</td>\n",
              "      <td>131</td>\n",
              "      <td>M</td>\n",
              "      <td>2060-05-03</td>\n",
              "      <td>2140-11-09</td>\n",
              "      <td>2140-11-09</td>\n",
              "      <td>2140-11-09</td>\n",
              "      <td>1</td>\n",
              "      <td>190</td>\n",
              "      <td>2140-11-06 11:07:00</td>\n",
              "      <td>2140-11-09 20:36:00</td>\n",
              "      <td>2140-11-09 20:36:00</td>\n",
              "      <td>EMERGENCY</td>\n",
              "      <td>EMERGENCY ROOM ADMIT</td>\n",
              "      <td>DEAD/EXPIRED</td>\n",
              "      <td>Medicare</td>\n",
              "      <td>None</td>\n",
              "      <td>OTHER</td>\n",
              "      <td>SINGLE</td>\n",
              "      <td>OTHER</td>\n",
              "      <td>2140-11-06 07:17:00</td>\n",
              "      <td>2140-11-06 12:07:00</td>\n",
              "      <td>DRA, SAH</td>\n",
              "      <td>1</td>\n",
              "      <td>1</td>\n",
              "      <td>14.0</td>\n",
              "      <td>6.0</td>\n",
              "      <td>4.0</td>\n",
              "      <td>4.0</td>\n",
              "      <td>0.0</td>\n",
              "    </tr>\n",
              "    <tr>\n",
              "      <th>1</th>\n",
              "      <td>416</td>\n",
              "      <td>148709</td>\n",
              "      <td>226936</td>\n",
              "      <td>F</td>\n",
              "      <td>2132-07-23 14:46:00</td>\n",
              "      <td>2132-08-11 17:19:00</td>\n",
              "      <td>19</td>\n",
              "      <td>56</td>\n",
              "      <td>EMERGENCY</td>\n",
              "      <td>0</td>\n",
              "      <td>2132-07-23 14:47:03</td>\n",
              "      <td>2132-08-08 17:03:29</td>\n",
              "      <td>16.0</td>\n",
              "      <td>MICU</td>\n",
              "      <td>0</td>\n",
              "      <td>55</td>\n",
              "      <td>0.698023</td>\n",
              "      <td>5023.0</td>\n",
              "      <td>1.0</td>\n",
              "      <td>430</td>\n",
              "      <td>392</td>\n",
              "      <td>F</td>\n",
              "      <td>2076-12-12</td>\n",
              "      <td>2136-11-11</td>\n",
              "      <td>NaT</td>\n",
              "      <td>2136-11-11</td>\n",
              "      <td>1</td>\n",
              "      <td>532</td>\n",
              "      <td>2132-07-23 14:46:00</td>\n",
              "      <td>2132-08-11 17:19:00</td>\n",
              "      <td>NaT</td>\n",
              "      <td>EMERGENCY</td>\n",
              "      <td>EMERGENCY ROOM ADMIT</td>\n",
              "      <td>HOME HEALTH CARE</td>\n",
              "      <td>Medicaid</td>\n",
              "      <td>HAIT</td>\n",
              "      <td>UNOBTAINABLE</td>\n",
              "      <td>MARRIED</td>\n",
              "      <td>BLACK/AFRICAN AMERICAN</td>\n",
              "      <td>2132-07-23 09:26:00</td>\n",
              "      <td>2132-07-23 15:08:00</td>\n",
              "      <td>SAH</td>\n",
              "      <td>0</td>\n",
              "      <td>1</td>\n",
              "      <td>13.0</td>\n",
              "      <td>6.0</td>\n",
              "      <td>4.0</td>\n",
              "      <td>3.0</td>\n",
              "      <td>0.0</td>\n",
              "    </tr>\n",
              "    <tr>\n",
              "      <th>2</th>\n",
              "      <td>490</td>\n",
              "      <td>166850</td>\n",
              "      <td>222952</td>\n",
              "      <td>M</td>\n",
              "      <td>2199-12-12 19:04:00</td>\n",
              "      <td>2199-12-13 20:33:00</td>\n",
              "      <td>1</td>\n",
              "      <td>87</td>\n",
              "      <td>EMERGENCY</td>\n",
              "      <td>1</td>\n",
              "      <td>2199-12-12 21:15:58</td>\n",
              "      <td>2199-12-13 20:33:59</td>\n",
              "      <td>1.0</td>\n",
              "      <td>SICU</td>\n",
              "      <td>1</td>\n",
              "      <td>58</td>\n",
              "      <td>0.772134</td>\n",
              "      <td>5788.0</td>\n",
              "      <td>1.0</td>\n",
              "      <td>43491</td>\n",
              "      <td>463</td>\n",
              "      <td>M</td>\n",
              "      <td>2112-11-20</td>\n",
              "      <td>2199-12-13</td>\n",
              "      <td>2199-12-13</td>\n",
              "      <td>2199-12-13</td>\n",
              "      <td>1</td>\n",
              "      <td>615</td>\n",
              "      <td>2199-12-12 19:04:00</td>\n",
              "      <td>2199-12-13 20:33:00</td>\n",
              "      <td>2199-12-13 20:33:00</td>\n",
              "      <td>EMERGENCY</td>\n",
              "      <td>EMERGENCY ROOM ADMIT</td>\n",
              "      <td>DEAD/EXPIRED</td>\n",
              "      <td>Medicare</td>\n",
              "      <td>None</td>\n",
              "      <td>UNOBTAINABLE</td>\n",
              "      <td>MARRIED</td>\n",
              "      <td>WHITE</td>\n",
              "      <td>2199-12-12 17:13:00</td>\n",
              "      <td>2199-12-12 22:06:00</td>\n",
              "      <td>CEREBRAL VASCULAR ACCIDENT</td>\n",
              "      <td>1</td>\n",
              "      <td>1</td>\n",
              "      <td>6.0</td>\n",
              "      <td>4.0</td>\n",
              "      <td>1.0</td>\n",
              "      <td>1.0</td>\n",
              "      <td>0.0</td>\n",
              "    </tr>\n",
              "    <tr>\n",
              "      <th>3</th>\n",
              "      <td>490</td>\n",
              "      <td>166850</td>\n",
              "      <td>222952</td>\n",
              "      <td>M</td>\n",
              "      <td>2199-12-12 19:04:00</td>\n",
              "      <td>2199-12-13 20:33:00</td>\n",
              "      <td>1</td>\n",
              "      <td>87</td>\n",
              "      <td>EMERGENCY</td>\n",
              "      <td>1</td>\n",
              "      <td>2199-12-12 21:15:58</td>\n",
              "      <td>2199-12-13 20:33:59</td>\n",
              "      <td>1.0</td>\n",
              "      <td>SICU</td>\n",
              "      <td>1</td>\n",
              "      <td>58</td>\n",
              "      <td>0.772134</td>\n",
              "      <td>5789.0</td>\n",
              "      <td>2.0</td>\n",
              "      <td>431</td>\n",
              "      <td>463</td>\n",
              "      <td>M</td>\n",
              "      <td>2112-11-20</td>\n",
              "      <td>2199-12-13</td>\n",
              "      <td>2199-12-13</td>\n",
              "      <td>2199-12-13</td>\n",
              "      <td>1</td>\n",
              "      <td>615</td>\n",
              "      <td>2199-12-12 19:04:00</td>\n",
              "      <td>2199-12-13 20:33:00</td>\n",
              "      <td>2199-12-13 20:33:00</td>\n",
              "      <td>EMERGENCY</td>\n",
              "      <td>EMERGENCY ROOM ADMIT</td>\n",
              "      <td>DEAD/EXPIRED</td>\n",
              "      <td>Medicare</td>\n",
              "      <td>None</td>\n",
              "      <td>UNOBTAINABLE</td>\n",
              "      <td>MARRIED</td>\n",
              "      <td>WHITE</td>\n",
              "      <td>2199-12-12 17:13:00</td>\n",
              "      <td>2199-12-12 22:06:00</td>\n",
              "      <td>CEREBRAL VASCULAR ACCIDENT</td>\n",
              "      <td>1</td>\n",
              "      <td>1</td>\n",
              "      <td>6.0</td>\n",
              "      <td>4.0</td>\n",
              "      <td>1.0</td>\n",
              "      <td>1.0</td>\n",
              "      <td>0.0</td>\n",
              "    </tr>\n",
              "    <tr>\n",
              "      <th>4</th>\n",
              "      <td>831</td>\n",
              "      <td>185983</td>\n",
              "      <td>223445</td>\n",
              "      <td>F</td>\n",
              "      <td>2151-06-30 09:44:00</td>\n",
              "      <td>2151-07-15 13:50:00</td>\n",
              "      <td>15</td>\n",
              "      <td>84</td>\n",
              "      <td>EMERGENCY</td>\n",
              "      <td>0</td>\n",
              "      <td>2151-06-30 09:44:47</td>\n",
              "      <td>2151-07-03 18:15:14</td>\n",
              "      <td>3.0</td>\n",
              "      <td>SICU</td>\n",
              "      <td>0</td>\n",
              "      <td>51</td>\n",
              "      <td>0.581248</td>\n",
              "      <td>9671.0</td>\n",
              "      <td>1.0</td>\n",
              "      <td>431</td>\n",
              "      <td>784</td>\n",
              "      <td>F</td>\n",
              "      <td>2067-05-06</td>\n",
              "      <td>2151-09-10</td>\n",
              "      <td>NaT</td>\n",
              "      <td>2151-09-10</td>\n",
              "      <td>1</td>\n",
              "      <td>1031</td>\n",
              "      <td>2151-06-30 09:44:00</td>\n",
              "      <td>2151-07-15 13:50:00</td>\n",
              "      <td>None</td>\n",
              "      <td>EMERGENCY</td>\n",
              "      <td>EMERGENCY ROOM ADMIT</td>\n",
              "      <td>REHAB/DISTINCT PART HOSP</td>\n",
              "      <td>Medicare</td>\n",
              "      <td>None</td>\n",
              "      <td>JEWISH</td>\n",
              "      <td>WIDOWED</td>\n",
              "      <td>WHITE</td>\n",
              "      <td>2151-06-30 08:22:00</td>\n",
              "      <td>2151-06-30 11:10:00</td>\n",
              "      <td>STROKE/TIA</td>\n",
              "      <td>0</td>\n",
              "      <td>1</td>\n",
              "      <td>7.0</td>\n",
              "      <td>4.0</td>\n",
              "      <td>1.0</td>\n",
              "      <td>2.0</td>\n",
              "      <td>0.0</td>\n",
              "    </tr>\n",
              "  </tbody>\n",
              "</table>\n",
              "</div>"
            ],
            "text/plain": [
              "   subject_id  hadm_id  icustay_id  ... gcsverbal gcseyes endotrachflag\n",
              "0         141   168006      234668  ...       4.0     4.0           0.0\n",
              "1         416   148709      226936  ...       4.0     3.0           0.0\n",
              "2         490   166850      222952  ...       1.0     1.0           0.0\n",
              "3         490   166850      222952  ...       1.0     1.0           0.0\n",
              "4         831   185983      223445  ...       1.0     2.0           0.0\n",
              "\n",
              "[5 rows x 49 columns]"
            ]
          },
          "metadata": {
            "tags": []
          },
          "execution_count": 42
        }
      ]
    },
    {
      "cell_type": "code",
      "metadata": {
        "id": "3aSrOD7-o6BG",
        "colab_type": "code",
        "outputId": "76384156-6f14-4849-f8b6-2454d7b988c5",
        "colab": {
          "base_uri": "https://localhost:8080/",
          "height": 748
        }
      },
      "source": [
        "#Null values check\n",
        "msno.matrix(data4)"
      ],
      "execution_count": 0,
      "outputs": [
        {
          "output_type": "execute_result",
          "data": {
            "text/plain": [
              "<matplotlib.axes._subplots.AxesSubplot at 0x7f2181c5f0b8>"
            ]
          },
          "metadata": {
            "tags": []
          },
          "execution_count": 43
        },
        {
          "output_type": "display_data",
          "data": {
            "image/png": "[encoded data removed]",
            "text/plain": [
              "<Figure size 1800x720 with 2 Axes>"
            ]
          },
          "metadata": {
            "tags": []
          }
        }
      ]
    },
    {
      "cell_type": "code",
      "metadata": {
        "colab_type": "code",
        "outputId": "2e956b7b-264e-4283-d4c4-47f0c248ab3d",
        "id": "GUE_x6LUpplZ",
        "colab": {
          "base_uri": "https://localhost:8080/",
          "height": 731
        }
      },
      "source": [
        "data4.describe().Tfor col in data2:\n",
        "   print(data2[col].value_counts(dropna=False))"
      ],
      "execution_count": 0,
      "outputs": [
        {
          "output_type": "execute_result",
          "data": {
            "text/html": [
              "<div>\n",
              "<style scoped>\n",
              "    .dataframe tbody tr th:only-of-type {\n",
              "        vertical-align: middle;\n",
              "    }\n",
              "\n",
              "    .dataframe tbody tr th {\n",
              "        vertical-align: top;\n",
              "    }\n",
              "\n",
              "    .dataframe thead th {\n",
              "        text-align: right;\n",
              "    }\n",
              "</style>\n",
              "<table border=\"1\" class=\"dataframe\">\n",
              "  <thead>\n",
              "    <tr style=\"text-align: right;\">\n",
              "      <th></th>\n",
              "      <th>count</th>\n",
              "      <th>mean</th>\n",
              "      <th>std</th>\n",
              "      <th>min</th>\n",
              "      <th>25%</th>\n",
              "      <th>50%</th>\n",
              "      <th>75%</th>\n",
              "      <th>max</th>\n",
              "    </tr>\n",
              "  </thead>\n",
              "  <tbody>\n",
              "    <tr>\n",
              "      <th>subject_id</th>\n",
              "      <td>4322.0</td>\n",
              "      <td>42513.549514</td>\n",
              "      <td>29486.926723</td>\n",
              "      <td>9.000000</td>\n",
              "      <td>17081.250000</td>\n",
              "      <td>31961.000000</td>\n",
              "      <td>67943.000000</td>\n",
              "      <td>99955.000000</td>\n",
              "    </tr>\n",
              "    <tr>\n",
              "      <th>hadm_id</th>\n",
              "      <td>4322.0</td>\n",
              "      <td>149316.867191</td>\n",
              "      <td>29130.372668</td>\n",
              "      <td>100018.000000</td>\n",
              "      <td>124250.500000</td>\n",
              "      <td>148846.000000</td>\n",
              "      <td>175432.000000</td>\n",
              "      <td>199972.000000</td>\n",
              "    </tr>\n",
              "    <tr>\n",
              "      <th>icustay_id</th>\n",
              "      <td>4322.0</td>\n",
              "      <td>250066.986812</td>\n",
              "      <td>29161.040441</td>\n",
              "      <td>200019.000000</td>\n",
              "      <td>224384.250000</td>\n",
              "      <td>249555.000000</td>\n",
              "      <td>275596.750000</td>\n",
              "      <td>299973.000000</td>\n",
              "    </tr>\n",
              "    <tr>\n",
              "      <th>los_hospital</th>\n",
              "      <td>4322.0</td>\n",
              "      <td>11.389634</td>\n",
              "      <td>11.624056</td>\n",
              "      <td>0.000000</td>\n",
              "      <td>4.000000</td>\n",
              "      <td>8.000000</td>\n",
              "      <td>15.000000</td>\n",
              "      <td>132.000000</td>\n",
              "    </tr>\n",
              "    <tr>\n",
              "      <th>admission_age</th>\n",
              "      <td>4322.0</td>\n",
              "      <td>66.950023</td>\n",
              "      <td>14.692192</td>\n",
              "      <td>17.000000</td>\n",
              "      <td>58.000000</td>\n",
              "      <td>69.000000</td>\n",
              "      <td>79.000000</td>\n",
              "      <td>89.000000</td>\n",
              "    </tr>\n",
              "    <tr>\n",
              "      <th>hospital_expire_flag_x</th>\n",
              "      <td>4322.0</td>\n",
              "      <td>0.212633</td>\n",
              "      <td>0.409218</td>\n",
              "      <td>0.000000</td>\n",
              "      <td>0.000000</td>\n",
              "      <td>0.000000</td>\n",
              "      <td>0.000000</td>\n",
              "      <td>1.000000</td>\n",
              "    </tr>\n",
              "    <tr>\n",
              "      <th>los_icu</th>\n",
              "      <td>4322.0</td>\n",
              "      <td>5.592781</td>\n",
              "      <td>7.232466</td>\n",
              "      <td>0.000000</td>\n",
              "      <td>1.000000</td>\n",
              "      <td>3.000000</td>\n",
              "      <td>7.000000</td>\n",
              "      <td>65.000000</td>\n",
              "    </tr>\n",
              "    <tr>\n",
              "      <th>icustay_expire_flag</th>\n",
              "      <td>4322.0</td>\n",
              "      <td>0.158723</td>\n",
              "      <td>0.365460</td>\n",
              "      <td>0.000000</td>\n",
              "      <td>0.000000</td>\n",
              "      <td>0.000000</td>\n",
              "      <td>0.000000</td>\n",
              "      <td>1.000000</td>\n",
              "    </tr>\n",
              "    <tr>\n",
              "      <th>oasis</th>\n",
              "      <td>4322.0</td>\n",
              "      <td>32.130264</td>\n",
              "      <td>8.738740</td>\n",
              "      <td>7.000000</td>\n",
              "      <td>26.000000</td>\n",
              "      <td>32.000000</td>\n",
              "      <td>38.000000</td>\n",
              "      <td>66.000000</td>\n",
              "    </tr>\n",
              "    <tr>\n",
              "      <th>oasis_prob</th>\n",
              "      <td>4322.0</td>\n",
              "      <td>0.154712</td>\n",
              "      <td>0.142329</td>\n",
              "      <td>0.005056</td>\n",
              "      <td>0.054187</td>\n",
              "      <td>0.109623</td>\n",
              "      <td>0.209226</td>\n",
              "      <td>0.903819</td>\n",
              "    </tr>\n",
              "    <tr>\n",
              "      <th>row_id_x</th>\n",
              "      <td>4322.0</td>\n",
              "      <td>349541.312587</td>\n",
              "      <td>185454.559709</td>\n",
              "      <td>42.000000</td>\n",
              "      <td>190457.250000</td>\n",
              "      <td>367861.500000</td>\n",
              "      <td>507440.000000</td>\n",
              "      <td>650888.000000</td>\n",
              "    </tr>\n",
              "    <tr>\n",
              "      <th>seq_num</th>\n",
              "      <td>4322.0</td>\n",
              "      <td>3.083526</td>\n",
              "      <td>3.914879</td>\n",
              "      <td>1.000000</td>\n",
              "      <td>1.000000</td>\n",
              "      <td>1.000000</td>\n",
              "      <td>3.000000</td>\n",
              "      <td>30.000000</td>\n",
              "    </tr>\n",
              "    <tr>\n",
              "      <th>row_id_y</th>\n",
              "      <td>4322.0</td>\n",
              "      <td>27118.461823</td>\n",
              "      <td>13237.551459</td>\n",
              "      <td>8.000000</td>\n",
              "      <td>16156.250000</td>\n",
              "      <td>30010.000000</td>\n",
              "      <td>38197.250000</td>\n",
              "      <td>46509.000000</td>\n",
              "    </tr>\n",
              "    <tr>\n",
              "      <th>expire_flag</th>\n",
              "      <td>4322.0</td>\n",
              "      <td>0.463211</td>\n",
              "      <td>0.498702</td>\n",
              "      <td>0.000000</td>\n",
              "      <td>0.000000</td>\n",
              "      <td>0.000000</td>\n",
              "      <td>1.000000</td>\n",
              "      <td>1.000000</td>\n",
              "    </tr>\n",
              "    <tr>\n",
              "      <th>row_id</th>\n",
              "      <td>4322.0</td>\n",
              "      <td>34774.779269</td>\n",
              "      <td>16810.243212</td>\n",
              "      <td>8.000000</td>\n",
              "      <td>20888.500000</td>\n",
              "      <td>38782.500000</td>\n",
              "      <td>48778.250000</td>\n",
              "      <td>58963.000000</td>\n",
              "    </tr>\n",
              "    <tr>\n",
              "      <th>hospital_expire_flag_y</th>\n",
              "      <td>4322.0</td>\n",
              "      <td>0.212633</td>\n",
              "      <td>0.409218</td>\n",
              "      <td>0.000000</td>\n",
              "      <td>0.000000</td>\n",
              "      <td>0.000000</td>\n",
              "      <td>0.000000</td>\n",
              "      <td>1.000000</td>\n",
              "    </tr>\n",
              "    <tr>\n",
              "      <th>has_chartevents_data</th>\n",
              "      <td>4322.0</td>\n",
              "      <td>1.000000</td>\n",
              "      <td>0.000000</td>\n",
              "      <td>1.000000</td>\n",
              "      <td>1.000000</td>\n",
              "      <td>1.000000</td>\n",
              "      <td>1.000000</td>\n",
              "      <td>1.000000</td>\n",
              "    </tr>\n",
              "    <tr>\n",
              "      <th>mingcs</th>\n",
              "      <td>4291.0</td>\n",
              "      <td>12.848986</td>\n",
              "      <td>3.326174</td>\n",
              "      <td>3.000000</td>\n",
              "      <td>12.000000</td>\n",
              "      <td>14.000000</td>\n",
              "      <td>15.000000</td>\n",
              "      <td>15.000000</td>\n",
              "    </tr>\n",
              "    <tr>\n",
              "      <th>gcsmotor</th>\n",
              "      <td>4240.0</td>\n",
              "      <td>4.692925</td>\n",
              "      <td>1.851543</td>\n",
              "      <td>1.000000</td>\n",
              "      <td>4.000000</td>\n",
              "      <td>6.000000</td>\n",
              "      <td>6.000000</td>\n",
              "      <td>6.000000</td>\n",
              "    </tr>\n",
              "    <tr>\n",
              "      <th>gcsverbal</th>\n",
              "      <td>4257.0</td>\n",
              "      <td>2.523138</td>\n",
              "      <td>2.138528</td>\n",
              "      <td>0.000000</td>\n",
              "      <td>0.000000</td>\n",
              "      <td>2.000000</td>\n",
              "      <td>5.000000</td>\n",
              "      <td>5.000000</td>\n",
              "    </tr>\n",
              "    <tr>\n",
              "      <th>gcseyes</th>\n",
              "      <td>4275.0</td>\n",
              "      <td>2.588538</td>\n",
              "      <td>1.251788</td>\n",
              "      <td>1.000000</td>\n",
              "      <td>1.000000</td>\n",
              "      <td>3.000000</td>\n",
              "      <td>4.000000</td>\n",
              "      <td>4.000000</td>\n",
              "    </tr>\n",
              "    <tr>\n",
              "      <th>endotrachflag</th>\n",
              "      <td>4291.0</td>\n",
              "      <td>0.287579</td>\n",
              "      <td>0.452686</td>\n",
              "      <td>0.000000</td>\n",
              "      <td>0.000000</td>\n",
              "      <td>0.000000</td>\n",
              "      <td>1.000000</td>\n",
              "      <td>1.000000</td>\n",
              "    </tr>\n",
              "  </tbody>\n",
              "</table>\n",
              "</div>"
            ],
            "text/plain": [
              "                         count           mean  ...            75%            max\n",
              "subject_id              4322.0   42513.549514  ...   67943.000000   99955.000000\n",
              "hadm_id                 4322.0  149316.867191  ...  175432.000000  199972.000000\n",
              "icustay_id              4322.0  250066.986812  ...  275596.750000  299973.000000\n",
              "los_hospital            4322.0      11.389634  ...      15.000000     132.000000\n",
              "admission_age           4322.0      66.950023  ...      79.000000      89.000000\n",
              "hospital_expire_flag_x  4322.0       0.212633  ...       0.000000       1.000000\n",
              "los_icu                 4322.0       5.592781  ...       7.000000      65.000000\n",
              "icustay_expire_flag     4322.0       0.158723  ...       0.000000       1.000000\n",
              "oasis                   4322.0      32.130264  ...      38.000000      66.000000\n",
              "oasis_prob              4322.0       0.154712  ...       0.209226       0.903819\n",
              "row_id_x                4322.0  349541.312587  ...  507440.000000  650888.000000\n",
              "seq_num                 4322.0       3.083526  ...       3.000000      30.000000\n",
              "row_id_y                4322.0   27118.461823  ...   38197.250000   46509.000000\n",
              "expire_flag             4322.0       0.463211  ...       1.000000       1.000000\n",
              "row_id                  4322.0   34774.779269  ...   48778.250000   58963.000000\n",
              "hospital_expire_flag_y  4322.0       0.212633  ...       0.000000       1.000000\n",
              "has_chartevents_data    4322.0       1.000000  ...       1.000000       1.000000\n",
              "mingcs                  4291.0      12.848986  ...      15.000000      15.000000\n",
              "gcsmotor                4240.0       4.692925  ...       6.000000       6.000000\n",
              "gcsverbal               4257.0       2.523138  ...       5.000000       5.000000\n",
              "gcseyes                 4275.0       2.588538  ...       4.000000       4.000000\n",
              "endotrachflag           4291.0       0.287579  ...       1.000000       1.000000\n",
              "\n",
              "[22 rows x 8 columns]"
            ]
          },
          "metadata": {
            "tags": []
          },
          "execution_count": 45
        }
      ]
    },
    {
      "cell_type": "code",
      "metadata": {
        "id": "MK0_rXvFpqz2",
        "colab_type": "code",
        "outputId": "16b60ff0-2925-4f33-9e46-5c4c37cdaac9",
        "colab": {
          "base_uri": "https://localhost:8080/",
          "height": 1000
        }
      },
      "source": [
        "#Investigate contents to identify categorical and continuous data\n",
        "for col in data2:\n",
        "   print(data2[col].value_counts(dropna=False))"
      ],
      "execution_count": 0,
      "outputs": [
        {
          "output_type": "stream",
          "text": [
            "68764    5\n",
            "89901    5\n",
            "55689    4\n",
            "93394    3\n",
            "42894    3\n",
            "        ..\n",
            "56365    1\n",
            "46120    1\n",
            "19495    1\n",
            "1062     1\n",
            "32768    1\n",
            "Name: subject_id, Length: 3729, dtype: int64\n",
            "102932    5\n",
            "122252    5\n",
            "102419    4\n",
            "146861    3\n",
            "113932    3\n",
            "         ..\n",
            "181374    1\n",
            "118999    1\n",
            "171129    1\n",
            "128120    1\n",
            "114688    1\n",
            "Name: hadm_id, Length: 3729, dtype: int64\n",
            "290289    5\n",
            "207844    5\n",
            "219424    4\n",
            "287584    3\n",
            "213233    3\n",
            "         ..\n",
            "281930    1\n",
            "219853    1\n",
            "207563    1\n",
            "283332    1\n",
            "200126    1\n",
            "Name: icustay_id, Length: 3729, dtype: int64\n",
            "M    2347\n",
            "F    1975\n",
            "Name: gender_x, dtype: int64\n",
            "2106-01-10 12:15:00    5\n",
            "2179-10-13 13:15:00    5\n",
            "2186-07-28 11:06:00    4\n",
            "2154-09-01 19:02:00    3\n",
            "2176-10-24 00:43:00    3\n",
            "                      ..\n",
            "2165-06-22 01:46:00    1\n",
            "2104-12-29 16:21:00    1\n",
            "2177-07-30 12:51:00    1\n",
            "2131-04-07 13:10:00    1\n",
            "2191-09-28 19:45:00    1\n",
            "Name: admittime_hospital, Length: 3729, dtype: int64\n",
            "2179-10-22 17:35:00    5\n",
            "2106-01-16 15:50:00    5\n",
            "2186-08-01 11:55:00    4\n",
            "2125-01-29 20:25:00    3\n",
            "2117-03-07 16:50:00    3\n",
            "                      ..\n",
            "2189-07-12 18:52:00    1\n",
            "2192-05-31 16:30:00    1\n",
            "2109-09-18 15:50:00    1\n",
            "2149-03-11 03:01:00    1\n",
            "2152-04-12 10:45:00    1\n",
            "Name: dischtime_hospital, Length: 3727, dtype: int64\n",
            "4      334\n",
            "5      300\n",
            "6      280\n",
            "3      261\n",
            "7      258\n",
            "      ... \n",
            "132      1\n",
            "68       1\n",
            "72       1\n",
            "76       1\n",
            "83       1\n",
            "Name: los_hospital, Length: 86, dtype: int64\n",
            "80    149\n",
            "82    134\n",
            "79    131\n",
            "72    124\n",
            "81    121\n",
            "     ... \n",
            "20      3\n",
            "25      3\n",
            "17      2\n",
            "26      2\n",
            "18      2\n",
            "Name: admission_age, Length: 73, dtype: int64\n",
            "EMERGENCY    3879\n",
            "ELECTIVE      339\n",
            "URGENT        104\n",
            "Name: admission_type, dtype: int64\n",
            "0    3403\n",
            "1     919\n",
            "Name: hospital_expire_flag, dtype: int64\n",
            "2179-10-13 13:16:06    5\n",
            "2106-01-10 12:16:10    5\n",
            "2186-07-28 11:07:12    4\n",
            "2136-10-23 16:23:52    3\n",
            "2179-08-10 13:21:47    3\n",
            "                      ..\n",
            "2174-02-28 00:44:01    1\n",
            "2135-09-04 12:54:00    1\n",
            "2104-10-06 16:51:41    1\n",
            "2123-08-25 04:10:12    1\n",
            "2155-11-18 12:49:31    1\n",
            "Name: intime_icu, Length: 3729, dtype: int64\n",
            "2179-10-19 19:44:45    5\n",
            "2106-01-16 17:40:49    5\n",
            "2186-07-29 17:03:53    4\n",
            "2121-03-21 12:39:55    3\n",
            "2181-10-19 18:43:38    3\n",
            "                      ..\n",
            "2173-07-25 14:42:26    1\n",
            "2193-12-09 16:15:38    1\n",
            "2142-06-02 18:58:00    1\n",
            "2114-10-31 15:09:24    1\n",
            "2173-09-23 17:50:23    1\n",
            "Name: outtime_icu, Length: 3729, dtype: int64\n",
            "1.0     1157\n",
            "2.0      785\n",
            "3.0      486\n",
            "4.0      297\n",
            "5.0      217\n",
            "6.0      177\n",
            "7.0      172\n",
            "9.0      104\n",
            "8.0      102\n",
            "11.0      87\n",
            "0.0       84\n",
            "10.0      78\n",
            "14.0      58\n",
            "13.0      55\n",
            "12.0      53\n",
            "16.0      39\n",
            "15.0      32\n",
            "20.0      31\n",
            "17.0      30\n",
            "24.0      28\n",
            "19.0      27\n",
            "23.0      24\n",
            "21.0      23\n",
            "22.0      22\n",
            "18.0      21\n",
            "26.0      17\n",
            "25.0      13\n",
            "27.0      11\n",
            "28.0      10\n",
            "29.0       9\n",
            "31.0       9\n",
            "30.0       6\n",
            "32.0       5\n",
            "40.0       5\n",
            "38.0       5\n",
            "37.0       5\n",
            "42.0       4\n",
            "45.0       4\n",
            "35.0       4\n",
            "33.0       3\n",
            "36.0       3\n",
            "54.0       3\n",
            "41.0       2\n",
            "43.0       2\n",
            "52.0       2\n",
            "62.0       2\n",
            "39.0       2\n",
            "47.0       2\n",
            "65.0       1\n",
            "61.0       1\n",
            "50.0       1\n",
            "46.0       1\n",
            "34.0       1\n",
            "Name: los_icu, dtype: int64\n",
            "SICU     1936\n",
            "MICU      749\n",
            "TSICU     652\n",
            "CSRU      551\n",
            "CCU       434\n",
            "Name: first_careunit, dtype: int64\n",
            "0    3636\n",
            "1     686\n",
            "Name: icustay_expire_flag, dtype: int64\n",
            "33    215\n",
            "35    206\n",
            "32    199\n",
            "34    199\n",
            "30    191\n",
            "31    183\n",
            "29    176\n",
            "28    165\n",
            "27    164\n",
            "36    161\n",
            "23    155\n",
            "38    154\n",
            "24    149\n",
            "37    146\n",
            "25    146\n",
            "26    145\n",
            "40    129\n",
            "39    118\n",
            "22    117\n",
            "21    109\n",
            "41    108\n",
            "42     97\n",
            "43     93\n",
            "20     78\n",
            "44     72\n",
            "19     67\n",
            "18     62\n",
            "47     56\n",
            "45     53\n",
            "17     50\n",
            "48     48\n",
            "46     39\n",
            "16     35\n",
            "50     30\n",
            "51     28\n",
            "49     27\n",
            "52     20\n",
            "53     18\n",
            "15     18\n",
            "54     14\n",
            "14     14\n",
            "12     13\n",
            "13     13\n",
            "55      7\n",
            "9       4\n",
            "58      4\n",
            "59      4\n",
            "8       3\n",
            "56      3\n",
            "60      3\n",
            "57      3\n",
            "10      3\n",
            "11      3\n",
            "66      2\n",
            "7       2\n",
            "61      1\n",
            "Name: oasis, dtype: int64\n",
            "0.122701    215\n",
            "0.152892    206\n",
            "0.109623    199\n",
            "0.137099    199\n",
            "0.087098    191\n",
            "0.097783    183\n",
            "0.077479    176\n",
            "0.068843    165\n",
            "0.061106    164\n",
            "0.170145    161\n",
            "0.037612    155\n",
            "0.209226    154\n",
            "0.042509    149\n",
            "0.048012    146\n",
            "0.188911    146\n",
            "0.054187    145\n",
            "0.254529    129\n",
            "0.231102    118\n",
            "0.033259    117\n",
            "0.029395    109\n",
            "0.279468    108\n",
            "0.305849     97\n",
            "0.333566     93\n",
            "0.025967     78\n",
            "0.362484     72\n",
            "0.022930     67\n",
            "0.020241     62\n",
            "0.454600     56\n",
            "0.392432     53\n",
            "0.017861     50\n",
            "0.486353     48\n",
            "0.423212     39\n",
            "0.015757     35\n",
            "0.549933     30\n",
            "0.581248     28\n",
            "0.518217     27\n",
            "0.611922     20\n",
            "0.013897     18\n",
            "0.641734     18\n",
            "0.012254     14\n",
            "0.670490     14\n",
            "0.009522     13\n",
            "0.010803     13\n",
            "0.698023      7\n",
            "0.006515      4\n",
            "0.793786      4\n",
            "0.772134      4\n",
            "0.008392      3\n",
            "0.007394      3\n",
            "0.813877      3\n",
            "0.005740      3\n",
            "0.748927      3\n",
            "0.724202      3\n",
            "0.903819      2\n",
            "0.005056      2\n",
            "0.832423      1\n",
            "Name: oasis_prob, dtype: int64\n",
            "494662.0    1\n",
            "486560.0    1\n",
            "607625.0    1\n",
            "121168.0    1\n",
            "187039.0    1\n",
            "           ..\n",
            "105704.0    1\n",
            "479808.0    1\n",
            "619792.0    1\n",
            "326279.0    1\n",
            "2592.0      1\n",
            "Name: row_id_x, Length: 4322, dtype: int64\n",
            "1.0     2457\n",
            "2.0      582\n",
            "3.0      239\n",
            "4.0      183\n",
            "5.0      144\n",
            "6.0      124\n",
            "7.0       96\n",
            "9.0       81\n",
            "8.0       75\n",
            "10.0      71\n",
            "11.0      47\n",
            "12.0      47\n",
            "14.0      32\n",
            "13.0      29\n",
            "15.0      22\n",
            "17.0      21\n",
            "19.0      11\n",
            "16.0      10\n",
            "18.0      10\n",
            "22.0      10\n",
            "21.0       9\n",
            "23.0       7\n",
            "20.0       4\n",
            "24.0       3\n",
            "26.0       2\n",
            "29.0       2\n",
            "25.0       2\n",
            "30.0       1\n",
            "28.0       1\n",
            "Name: seq_num, dtype: int64\n",
            "431      1152\n",
            "43310     619\n",
            "430       595\n",
            "43491     591\n",
            "43411     496\n",
            "4321      261\n",
            "43330     199\n",
            "43311      97\n",
            "4329       60\n",
            "43401      50\n",
            "43331      45\n",
            "43320      38\n",
            "43301      33\n",
            "43490      21\n",
            "43321      21\n",
            "43300      14\n",
            "43410      10\n",
            "43380       7\n",
            "4320        5\n",
            "43400       4\n",
            "43391       2\n",
            "43381       2\n",
            "Name: icd9_code, dtype: int64\n",
            "43874    5\n",
            "38412    5\n",
            "34949    4\n",
            "39028    3\n",
            "44065    3\n",
            "        ..\n",
            "25678    1\n",
            "21580    1\n",
            "9282     1\n",
            "18553    1\n",
            "16384    1\n",
            "Name: row_id_y, Length: 3729, dtype: int64\n",
            "M    2347\n",
            "F    1975\n",
            "Name: gender_y, dtype: int64\n",
            "2036-01-10    5\n",
            "2130-03-25    5\n",
            "2098-04-11    5\n",
            "2105-02-15    4\n",
            "2072-06-14    4\n",
            "             ..\n",
            "2070-07-11    1\n",
            "2110-12-10    1\n",
            "2057-11-21    1\n",
            "2111-11-05    1\n",
            "2085-09-29    1\n",
            "Name: dob, Length: 3577, dtype: int64\n",
            "NaT           2320\n",
            "2106-01-16       5\n",
            "2180-01-12       5\n",
            "2123-07-07       4\n",
            "2176-11-09       3\n",
            "              ... \n",
            "2102-05-04       1\n",
            "2109-03-10       1\n",
            "2121-09-30       1\n",
            "2130-11-18       1\n",
            "2159-01-12       1\n",
            "Name: dod, Length: 1713, dtype: int64\n",
            "NaT           2974\n",
            "2180-01-12       5\n",
            "2106-01-16       5\n",
            "2117-03-07       3\n",
            "2108-06-16       3\n",
            "              ... \n",
            "2139-07-19       1\n",
            "2124-09-14       1\n",
            "2180-08-05       1\n",
            "2172-11-14       1\n",
            "2147-11-11       1\n",
            "Name: dod_hosp, Length: 1155, dtype: int64\n",
            "NaT           2692\n",
            "2197-06-28       3\n",
            "2122-10-31       3\n",
            "2127-10-03       3\n",
            "2164-06-16       3\n",
            "              ... \n",
            "2111-01-24       1\n",
            "2196-11-27       1\n",
            "2157-11-15       1\n",
            "2117-09-12       1\n",
            "2103-05-03       1\n",
            "Name: dod_ssn, Length: 1418, dtype: int64\n",
            "0    2320\n",
            "1    2002\n",
            "Name: expire_flag, dtype: int64\n"
          ],
          "name": "stdout"
        }
      ]
    },
    {
      "cell_type": "markdown",
      "metadata": {
        "id": "_Dxv1xokpwhb",
        "colab_type": "text"
      },
      "source": [
        "##Addition of Categorical Features"
      ]
    },
    {
      "cell_type": "code",
      "metadata": {
        "id": "AyE4qGbYq4y1",
        "colab_type": "code",
        "colab": {}
      },
      "source": [
        "#Add columns for days of the week\n",
        "data4['admitday_hospital'] = data4.admittime_hospital.dt.weekday_name\n",
        "data4['dischday_hospital'] = data4.dischtime_hospital.dt.weekday_name\n",
        "data4['inday_icu'] = data4.intime_icu.dt.weekday_name\n",
        "data4['inday_icu_seq'] = data4.intime_icu.dt.weekday\n",
        "data4['outday_icu'] = data4.outtime_icu.dt.weekday_name"
      ],
      "execution_count": 0,
      "outputs": []
    },
    {
      "cell_type": "code",
      "metadata": {
        "id": "QlzkaEzsrF_r",
        "colab_type": "code",
        "outputId": "8eca4e59-de76-42ee-f2c7-5983195bbb8e",
        "colab": {
          "base_uri": "https://localhost:8080/",
          "height": 153
        }
      },
      "source": [
        "data4['inday_icu'].value_counts()"
      ],
      "execution_count": 0,
      "outputs": [
        {
          "output_type": "execute_result",
          "data": {
            "text/plain": [
              "Friday       712\n",
              "Monday       690\n",
              "Tuesday      657\n",
              "Thursday     647\n",
              "Wednesday    630\n",
              "Sunday       514\n",
              "Saturday     472\n",
              "Name: inday_icu, dtype: int64"
            ]
          },
          "metadata": {
            "tags": []
          },
          "execution_count": 48
        }
      ]
    },
    {
      "cell_type": "code",
      "metadata": {
        "id": "DGmMtriGrKLW",
        "colab_type": "code",
        "outputId": "d57611ba-98bc-4e6e-8694-174a18e3a9f6",
        "colab": {
          "base_uri": "https://localhost:8080/",
          "height": 68
        }
      },
      "source": [
        "data4['inday_icu_wkd'] = np.where(data4.intime_icu.dt.weekday <= 4, \n",
        "                                 'weekday','weekend')\n",
        "data4['inday_icu_wkd'].value_counts()"
      ],
      "execution_count": 0,
      "outputs": [
        {
          "output_type": "execute_result",
          "data": {
            "text/plain": [
              "weekday    3336\n",
              "weekend     986\n",
              "Name: inday_icu_wkd, dtype: int64"
            ]
          },
          "metadata": {
            "tags": []
          },
          "execution_count": 55
        }
      ]
    },
    {
      "cell_type": "markdown",
      "metadata": {
        "id": "oIubJvc-rPBF",
        "colab_type": "text"
      },
      "source": [
        "#Table One"
      ]
    },
    {
      "cell_type": "code",
      "metadata": {
        "id": "tNnNJ6o_rm8W",
        "colab_type": "code",
        "outputId": "4a81a01c-1250-45a5-fd39-fe4bcb097c3b",
        "colab": {
          "base_uri": "https://localhost:8080/",
          "height": 34
        }
      },
      "source": [
        "'admission_type_x' in data4.columns"
      ],
      "execution_count": 0,
      "outputs": [
        {
          "output_type": "execute_result",
          "data": {
            "text/plain": [
              "True"
            ]
          },
          "metadata": {
            "tags": []
          },
          "execution_count": 62
        }
      ]
    },
    {
      "cell_type": "code",
      "metadata": {
        "id": "9wH9bwWTrXZF",
        "colab_type": "code",
        "outputId": "8867efb4-3962-4afe-fbf5-40898bdb9372",
        "colab": {
          "base_uri": "https://localhost:8080/",
          "height": 762
        }
      },
      "source": [
        "#Table One\n",
        "columns = ['gender_x', 'los_hospital', 'admission_age', 'admission_type_x', 'hospital_expire_flag_x', \n",
        "           'los_icu','icustay_expire_flag', 'oasis', 'oasis_prob', 'first_careunit',\n",
        "           'inday_icu_wkd']\n",
        "\n",
        "groupby = 'inday_icu'\n",
        "\n",
        "pval = False\n",
        "\n",
        "categorical = ['gender_x','admission_type_x','hospital_expire_flag_x','icustay_expire_flag',\n",
        "               'first_careunit','inday_icu_wkd']\n",
        "\n",
        "t = TableOne(data4, columns=columns, categorical=categorical, groupby=groupby, pval=pval)\n",
        "t.tableone"
      ],
      "execution_count": 0,
      "outputs": [
        {
          "output_type": "execute_result",
          "data": {
            "text/html": [
              "<div>\n",
              "<style scoped>\n",
              "    .dataframe tbody tr th:only-of-type {\n",
              "        vertical-align: middle;\n",
              "    }\n",
              "\n",
              "    .dataframe tbody tr th {\n",
              "        vertical-align: top;\n",
              "    }\n",
              "\n",
              "    .dataframe thead tr th {\n",
              "        text-align: left;\n",
              "    }\n",
              "</style>\n",
              "<table border=\"1\" class=\"dataframe\">\n",
              "  <thead>\n",
              "    <tr>\n",
              "      <th></th>\n",
              "      <th></th>\n",
              "      <th colspan=\"8\" halign=\"left\">Grouped by inday_icu</th>\n",
              "    </tr>\n",
              "    <tr>\n",
              "      <th></th>\n",
              "      <th></th>\n",
              "      <th>Missing</th>\n",
              "      <th>Friday</th>\n",
              "      <th>Monday</th>\n",
              "      <th>Saturday</th>\n",
              "      <th>Sunday</th>\n",
              "      <th>Thursday</th>\n",
              "      <th>Tuesday</th>\n",
              "      <th>Wednesday</th>\n",
              "    </tr>\n",
              "  </thead>\n",
              "  <tbody>\n",
              "    <tr>\n",
              "      <th>n</th>\n",
              "      <th></th>\n",
              "      <td></td>\n",
              "      <td>712</td>\n",
              "      <td>690</td>\n",
              "      <td>472</td>\n",
              "      <td>514</td>\n",
              "      <td>647</td>\n",
              "      <td>657</td>\n",
              "      <td>630</td>\n",
              "    </tr>\n",
              "    <tr>\n",
              "      <th rowspan=\"2\" valign=\"top\">gender_x</th>\n",
              "      <th>F</th>\n",
              "      <td>0</td>\n",
              "      <td>337 (47.3)</td>\n",
              "      <td>331 (48.0)</td>\n",
              "      <td>206 (43.6)</td>\n",
              "      <td>248 (48.2)</td>\n",
              "      <td>303 (46.8)</td>\n",
              "      <td>266 (40.5)</td>\n",
              "      <td>284 (45.1)</td>\n",
              "    </tr>\n",
              "    <tr>\n",
              "      <th>M</th>\n",
              "      <td></td>\n",
              "      <td>375 (52.7)</td>\n",
              "      <td>359 (52.0)</td>\n",
              "      <td>266 (56.4)</td>\n",
              "      <td>266 (51.8)</td>\n",
              "      <td>344 (53.2)</td>\n",
              "      <td>391 (59.5)</td>\n",
              "      <td>346 (54.9)</td>\n",
              "    </tr>\n",
              "    <tr>\n",
              "      <th>los_hospital</th>\n",
              "      <th></th>\n",
              "      <td>0</td>\n",
              "      <td>11.3 (10.5)</td>\n",
              "      <td>11.3 (11.5)</td>\n",
              "      <td>11.7 (12.2)</td>\n",
              "      <td>10.7 (10.6)</td>\n",
              "      <td>11.6 (13.1)</td>\n",
              "      <td>11.1 (11.0)</td>\n",
              "      <td>11.9 (12.3)</td>\n",
              "    </tr>\n",
              "    <tr>\n",
              "      <th>admission_age</th>\n",
              "      <th></th>\n",
              "      <td>0</td>\n",
              "      <td>67.6 (14.6)</td>\n",
              "      <td>67.7 (14.1)</td>\n",
              "      <td>65.9 (15.4)</td>\n",
              "      <td>65.8 (15.6)</td>\n",
              "      <td>66.5 (14.6)</td>\n",
              "      <td>67.2 (15.0)</td>\n",
              "      <td>67.4 (13.8)</td>\n",
              "    </tr>\n",
              "    <tr>\n",
              "      <th rowspan=\"3\" valign=\"top\">admission_type_x</th>\n",
              "      <th>ELECTIVE</th>\n",
              "      <td>0</td>\n",
              "      <td>46 (6.5)</td>\n",
              "      <td>55 (8.0)</td>\n",
              "      <td>7 (1.5)</td>\n",
              "      <td>5 (1.0)</td>\n",
              "      <td>69 (10.7)</td>\n",
              "      <td>80 (12.2)</td>\n",
              "      <td>77 (12.2)</td>\n",
              "    </tr>\n",
              "    <tr>\n",
              "      <th>EMERGENCY</th>\n",
              "      <td></td>\n",
              "      <td>658 (92.4)</td>\n",
              "      <td>622 (90.1)</td>\n",
              "      <td>453 (96.0)</td>\n",
              "      <td>487 (94.7)</td>\n",
              "      <td>564 (87.2)</td>\n",
              "      <td>565 (86.0)</td>\n",
              "      <td>530 (84.1)</td>\n",
              "    </tr>\n",
              "    <tr>\n",
              "      <th>URGENT</th>\n",
              "      <td></td>\n",
              "      <td>8 (1.1)</td>\n",
              "      <td>13 (1.9)</td>\n",
              "      <td>12 (2.5)</td>\n",
              "      <td>22 (4.3)</td>\n",
              "      <td>14 (2.2)</td>\n",
              "      <td>12 (1.8)</td>\n",
              "      <td>23 (3.7)</td>\n",
              "    </tr>\n",
              "    <tr>\n",
              "      <th rowspan=\"2\" valign=\"top\">hospital_expire_flag_x</th>\n",
              "      <th>0</th>\n",
              "      <td>0</td>\n",
              "      <td>564 (79.2)</td>\n",
              "      <td>559 (81.0)</td>\n",
              "      <td>347 (73.5)</td>\n",
              "      <td>374 (72.8)</td>\n",
              "      <td>524 (81.0)</td>\n",
              "      <td>527 (80.2)</td>\n",
              "      <td>508 (80.6)</td>\n",
              "    </tr>\n",
              "    <tr>\n",
              "      <th>1</th>\n",
              "      <td></td>\n",
              "      <td>148 (20.8)</td>\n",
              "      <td>131 (19.0)</td>\n",
              "      <td>125 (26.5)</td>\n",
              "      <td>140 (27.2)</td>\n",
              "      <td>123 (19.0)</td>\n",
              "      <td>130 (19.8)</td>\n",
              "      <td>122 (19.4)</td>\n",
              "    </tr>\n",
              "    <tr>\n",
              "      <th>los_icu</th>\n",
              "      <th></th>\n",
              "      <td>0</td>\n",
              "      <td>5.2 (6.2)</td>\n",
              "      <td>6.0 (8.7)</td>\n",
              "      <td>6.0 (7.1)</td>\n",
              "      <td>5.7 (6.5)</td>\n",
              "      <td>5.4 (7.2)</td>\n",
              "      <td>5.6 (7.5)</td>\n",
              "      <td>5.5 (6.9)</td>\n",
              "    </tr>\n",
              "    <tr>\n",
              "      <th rowspan=\"2\" valign=\"top\">icustay_expire_flag</th>\n",
              "      <th>0</th>\n",
              "      <td>0</td>\n",
              "      <td>605 (85.0)</td>\n",
              "      <td>585 (84.8)</td>\n",
              "      <td>389 (82.4)</td>\n",
              "      <td>406 (79.0)</td>\n",
              "      <td>554 (85.6)</td>\n",
              "      <td>558 (84.9)</td>\n",
              "      <td>539 (85.6)</td>\n",
              "    </tr>\n",
              "    <tr>\n",
              "      <th>1</th>\n",
              "      <td></td>\n",
              "      <td>107 (15.0)</td>\n",
              "      <td>105 (15.2)</td>\n",
              "      <td>83 (17.6)</td>\n",
              "      <td>108 (21.0)</td>\n",
              "      <td>93 (14.4)</td>\n",
              "      <td>99 (15.1)</td>\n",
              "      <td>91 (14.4)</td>\n",
              "    </tr>\n",
              "    <tr>\n",
              "      <th>oasis</th>\n",
              "      <th></th>\n",
              "      <td>0</td>\n",
              "      <td>32.5 (9.1)</td>\n",
              "      <td>32.1 (8.5)</td>\n",
              "      <td>32.4 (8.6)</td>\n",
              "      <td>32.8 (8.5)</td>\n",
              "      <td>31.5 (8.9)</td>\n",
              "      <td>32.0 (8.7)</td>\n",
              "      <td>31.9 (8.7)</td>\n",
              "    </tr>\n",
              "    <tr>\n",
              "      <th>oasis_prob</th>\n",
              "      <th></th>\n",
              "      <td>0</td>\n",
              "      <td>0.2 (0.2)</td>\n",
              "      <td>0.2 (0.1)</td>\n",
              "      <td>0.2 (0.1)</td>\n",
              "      <td>0.2 (0.1)</td>\n",
              "      <td>0.1 (0.1)</td>\n",
              "      <td>0.2 (0.1)</td>\n",
              "      <td>0.2 (0.1)</td>\n",
              "    </tr>\n",
              "    <tr>\n",
              "      <th rowspan=\"5\" valign=\"top\">first_careunit</th>\n",
              "      <th>CCU</th>\n",
              "      <td>0</td>\n",
              "      <td>63 (8.8)</td>\n",
              "      <td>83 (12.0)</td>\n",
              "      <td>28 (5.9)</td>\n",
              "      <td>31 (6.0)</td>\n",
              "      <td>82 (12.7)</td>\n",
              "      <td>76 (11.6)</td>\n",
              "      <td>71 (11.3)</td>\n",
              "    </tr>\n",
              "    <tr>\n",
              "      <th>CSRU</th>\n",
              "      <td></td>\n",
              "      <td>119 (16.7)</td>\n",
              "      <td>106 (15.4)</td>\n",
              "      <td>24 (5.1)</td>\n",
              "      <td>22 (4.3)</td>\n",
              "      <td>90 (13.9)</td>\n",
              "      <td>99 (15.1)</td>\n",
              "      <td>91 (14.4)</td>\n",
              "    </tr>\n",
              "    <tr>\n",
              "      <th>MICU</th>\n",
              "      <td></td>\n",
              "      <td>113 (15.9)</td>\n",
              "      <td>128 (18.6)</td>\n",
              "      <td>93 (19.7)</td>\n",
              "      <td>95 (18.5)</td>\n",
              "      <td>97 (15.0)</td>\n",
              "      <td>108 (16.4)</td>\n",
              "      <td>115 (18.3)</td>\n",
              "    </tr>\n",
              "    <tr>\n",
              "      <th>SICU</th>\n",
              "      <td></td>\n",
              "      <td>304 (42.7)</td>\n",
              "      <td>279 (40.4)</td>\n",
              "      <td>233 (49.4)</td>\n",
              "      <td>293 (57.0)</td>\n",
              "      <td>277 (42.8)</td>\n",
              "      <td>302 (46.0)</td>\n",
              "      <td>248 (39.4)</td>\n",
              "    </tr>\n",
              "    <tr>\n",
              "      <th>TSICU</th>\n",
              "      <td></td>\n",
              "      <td>113 (15.9)</td>\n",
              "      <td>94 (13.6)</td>\n",
              "      <td>94 (19.9)</td>\n",
              "      <td>73 (14.2)</td>\n",
              "      <td>101 (15.6)</td>\n",
              "      <td>72 (11.0)</td>\n",
              "      <td>105 (16.7)</td>\n",
              "    </tr>\n",
              "    <tr>\n",
              "      <th rowspan=\"2\" valign=\"top\">inday_icu_wkd</th>\n",
              "      <th>weekday</th>\n",
              "      <td>0</td>\n",
              "      <td>712 (100.0)</td>\n",
              "      <td>690 (100.0)</td>\n",
              "      <td></td>\n",
              "      <td></td>\n",
              "      <td>647 (100.0)</td>\n",
              "      <td>657 (100.0)</td>\n",
              "      <td>630 (100.0)</td>\n",
              "    </tr>\n",
              "    <tr>\n",
              "      <th>weekend</th>\n",
              "      <td></td>\n",
              "      <td></td>\n",
              "      <td></td>\n",
              "      <td>472 (100.0)</td>\n",
              "      <td>514 (100.0)</td>\n",
              "      <td></td>\n",
              "      <td></td>\n",
              "      <td></td>\n",
              "    </tr>\n",
              "  </tbody>\n",
              "</table>\n",
              "</div>"
            ],
            "text/plain": [
              "                                 Grouped by inday_icu  ...             \n",
              "                                              Missing  ...    Wednesday\n",
              "n                                                      ...          630\n",
              "gender_x               F                            0  ...   284 (45.1)\n",
              "                       M                               ...   346 (54.9)\n",
              "los_hospital                                        0  ...  11.9 (12.3)\n",
              "admission_age                                       0  ...  67.4 (13.8)\n",
              "admission_type_x       ELECTIVE                     0  ...    77 (12.2)\n",
              "                       EMERGENCY                       ...   530 (84.1)\n",
              "                       URGENT                          ...     23 (3.7)\n",
              "hospital_expire_flag_x 0                            0  ...   508 (80.6)\n",
              "                       1                               ...   122 (19.4)\n",
              "los_icu                                             0  ...    5.5 (6.9)\n",
              "icustay_expire_flag    0                            0  ...   539 (85.6)\n",
              "                       1                               ...    91 (14.4)\n",
              "oasis                                               0  ...   31.9 (8.7)\n",
              "oasis_prob                                          0  ...    0.2 (0.1)\n",
              "first_careunit         CCU                          0  ...    71 (11.3)\n",
              "                       CSRU                            ...    91 (14.4)\n",
              "                       MICU                            ...   115 (18.3)\n",
              "                       SICU                            ...   248 (39.4)\n",
              "                       TSICU                           ...   105 (16.7)\n",
              "inday_icu_wkd          weekday                      0  ...  630 (100.0)\n",
              "                       weekend                         ...             \n",
              "\n",
              "[22 rows x 8 columns]"
            ]
          },
          "metadata": {
            "tags": []
          },
          "execution_count": 63
        }
      ]
    },
    {
      "cell_type": "code",
      "metadata": {
        "id": "uEyuaTEIrkIG",
        "colab_type": "code",
        "outputId": "368ae656-8784-46ec-fb56-e646204a5a13",
        "colab": {
          "base_uri": "https://localhost:8080/",
          "height": 700
        }
      },
      "source": [
        "columns = ['gender_x', 'los_hospital', 'admission_age', 'admission_type_x', 'hospital_expire_flag_x', \n",
        "           'los_icu','icustay_expire_flag', 'oasis', 'oasis_prob', 'first_careunit']\n",
        "\n",
        "groupby = 'inday_icu_wkd'\n",
        "\n",
        "pval = False\n",
        "\n",
        "categorical = ['gender_x','admission_type_x','hospital_expire_flag_x','icustay_expire_flag',\n",
        "               'first_careunit']\n",
        "\n",
        "t = TableOne(data4, columns=columns, categorical=categorical, groupby=groupby, pval=pval)\n",
        "t.tableone"
      ],
      "execution_count": 0,
      "outputs": [
        {
          "output_type": "execute_result",
          "data": {
            "text/html": [
              "<div>\n",
              "<style scoped>\n",
              "    .dataframe tbody tr th:only-of-type {\n",
              "        vertical-align: middle;\n",
              "    }\n",
              "\n",
              "    .dataframe tbody tr th {\n",
              "        vertical-align: top;\n",
              "    }\n",
              "\n",
              "    .dataframe thead tr th {\n",
              "        text-align: left;\n",
              "    }\n",
              "</style>\n",
              "<table border=\"1\" class=\"dataframe\">\n",
              "  <thead>\n",
              "    <tr>\n",
              "      <th></th>\n",
              "      <th></th>\n",
              "      <th colspan=\"3\" halign=\"left\">Grouped by inday_icu_wkd</th>\n",
              "    </tr>\n",
              "    <tr>\n",
              "      <th></th>\n",
              "      <th></th>\n",
              "      <th>Missing</th>\n",
              "      <th>weekday</th>\n",
              "      <th>weekend</th>\n",
              "    </tr>\n",
              "  </thead>\n",
              "  <tbody>\n",
              "    <tr>\n",
              "      <th>n</th>\n",
              "      <th></th>\n",
              "      <td></td>\n",
              "      <td>3336</td>\n",
              "      <td>986</td>\n",
              "    </tr>\n",
              "    <tr>\n",
              "      <th rowspan=\"2\" valign=\"top\">gender_x</th>\n",
              "      <th>F</th>\n",
              "      <td>0</td>\n",
              "      <td>1521 (45.6)</td>\n",
              "      <td>454 (46.0)</td>\n",
              "    </tr>\n",
              "    <tr>\n",
              "      <th>M</th>\n",
              "      <td></td>\n",
              "      <td>1815 (54.4)</td>\n",
              "      <td>532 (54.0)</td>\n",
              "    </tr>\n",
              "    <tr>\n",
              "      <th>los_hospital</th>\n",
              "      <th></th>\n",
              "      <td>0</td>\n",
              "      <td>11.5 (11.7)</td>\n",
              "      <td>11.2 (11.4)</td>\n",
              "    </tr>\n",
              "    <tr>\n",
              "      <th>admission_age</th>\n",
              "      <th></th>\n",
              "      <td>0</td>\n",
              "      <td>67.3 (14.4)</td>\n",
              "      <td>65.8 (15.5)</td>\n",
              "    </tr>\n",
              "    <tr>\n",
              "      <th rowspan=\"3\" valign=\"top\">admission_type_x</th>\n",
              "      <th>ELECTIVE</th>\n",
              "      <td>0</td>\n",
              "      <td>327 (9.8)</td>\n",
              "      <td>12 (1.2)</td>\n",
              "    </tr>\n",
              "    <tr>\n",
              "      <th>EMERGENCY</th>\n",
              "      <td></td>\n",
              "      <td>2939 (88.1)</td>\n",
              "      <td>940 (95.3)</td>\n",
              "    </tr>\n",
              "    <tr>\n",
              "      <th>URGENT</th>\n",
              "      <td></td>\n",
              "      <td>70 (2.1)</td>\n",
              "      <td>34 (3.4)</td>\n",
              "    </tr>\n",
              "    <tr>\n",
              "      <th rowspan=\"2\" valign=\"top\">hospital_expire_flag_x</th>\n",
              "      <th>0</th>\n",
              "      <td>0</td>\n",
              "      <td>2682 (80.4)</td>\n",
              "      <td>721 (73.1)</td>\n",
              "    </tr>\n",
              "    <tr>\n",
              "      <th>1</th>\n",
              "      <td></td>\n",
              "      <td>654 (19.6)</td>\n",
              "      <td>265 (26.9)</td>\n",
              "    </tr>\n",
              "    <tr>\n",
              "      <th>los_icu</th>\n",
              "      <th></th>\n",
              "      <td>0</td>\n",
              "      <td>5.5 (7.4)</td>\n",
              "      <td>5.8 (6.8)</td>\n",
              "    </tr>\n",
              "    <tr>\n",
              "      <th rowspan=\"2\" valign=\"top\">icustay_expire_flag</th>\n",
              "      <th>0</th>\n",
              "      <td>0</td>\n",
              "      <td>2841 (85.2)</td>\n",
              "      <td>795 (80.6)</td>\n",
              "    </tr>\n",
              "    <tr>\n",
              "      <th>1</th>\n",
              "      <td></td>\n",
              "      <td>495 (14.8)</td>\n",
              "      <td>191 (19.4)</td>\n",
              "    </tr>\n",
              "    <tr>\n",
              "      <th>oasis</th>\n",
              "      <th></th>\n",
              "      <td>0</td>\n",
              "      <td>32.0 (8.8)</td>\n",
              "      <td>32.6 (8.5)</td>\n",
              "    </tr>\n",
              "    <tr>\n",
              "      <th>oasis_prob</th>\n",
              "      <th></th>\n",
              "      <td>0</td>\n",
              "      <td>0.2 (0.1)</td>\n",
              "      <td>0.2 (0.1)</td>\n",
              "    </tr>\n",
              "    <tr>\n",
              "      <th rowspan=\"5\" valign=\"top\">first_careunit</th>\n",
              "      <th>CCU</th>\n",
              "      <td>0</td>\n",
              "      <td>375 (11.2)</td>\n",
              "      <td>59 (6.0)</td>\n",
              "    </tr>\n",
              "    <tr>\n",
              "      <th>CSRU</th>\n",
              "      <td></td>\n",
              "      <td>505 (15.1)</td>\n",
              "      <td>46 (4.7)</td>\n",
              "    </tr>\n",
              "    <tr>\n",
              "      <th>MICU</th>\n",
              "      <td></td>\n",
              "      <td>561 (16.8)</td>\n",
              "      <td>188 (19.1)</td>\n",
              "    </tr>\n",
              "    <tr>\n",
              "      <th>SICU</th>\n",
              "      <td></td>\n",
              "      <td>1410 (42.3)</td>\n",
              "      <td>526 (53.3)</td>\n",
              "    </tr>\n",
              "    <tr>\n",
              "      <th>TSICU</th>\n",
              "      <td></td>\n",
              "      <td>485 (14.5)</td>\n",
              "      <td>167 (16.9)</td>\n",
              "    </tr>\n",
              "  </tbody>\n",
              "</table>\n",
              "</div>"
            ],
            "text/plain": [
              "                                 Grouped by inday_icu_wkd  ...             \n",
              "                                                  Missing  ...      weekend\n",
              "n                                                          ...          986\n",
              "gender_x               F                                0  ...   454 (46.0)\n",
              "                       M                                   ...   532 (54.0)\n",
              "los_hospital                                            0  ...  11.2 (11.4)\n",
              "admission_age                                           0  ...  65.8 (15.5)\n",
              "admission_type_x       ELECTIVE                         0  ...     12 (1.2)\n",
              "                       EMERGENCY                           ...   940 (95.3)\n",
              "                       URGENT                              ...     34 (3.4)\n",
              "hospital_expire_flag_x 0                                0  ...   721 (73.1)\n",
              "                       1                                   ...   265 (26.9)\n",
              "los_icu                                                 0  ...    5.8 (6.8)\n",
              "icustay_expire_flag    0                                0  ...   795 (80.6)\n",
              "                       1                                   ...   191 (19.4)\n",
              "oasis                                                   0  ...   32.6 (8.5)\n",
              "oasis_prob                                              0  ...    0.2 (0.1)\n",
              "first_careunit         CCU                              0  ...     59 (6.0)\n",
              "                       CSRU                                ...     46 (4.7)\n",
              "                       MICU                                ...   188 (19.1)\n",
              "                       SICU                                ...   526 (53.3)\n",
              "                       TSICU                               ...   167 (16.9)\n",
              "\n",
              "[20 rows x 3 columns]"
            ]
          },
          "metadata": {
            "tags": []
          },
          "execution_count": 65
        }
      ]
    },
    {
      "cell_type": "markdown",
      "metadata": {
        "id": "1Tq3G7o_s4MA",
        "colab_type": "text"
      },
      "source": [
        "#Plotting the data"
      ]
    },
    {
      "cell_type": "code",
      "metadata": {
        "id": "PgvDz9aUtEHf",
        "colab_type": "code",
        "outputId": "944f5750-eeca-47b3-9e4c-d7a8f862edd4",
        "colab": {
          "base_uri": "https://localhost:8080/",
          "height": 297
        }
      },
      "source": [
        "# Pivot data to summarise by day\n",
        "dat_dow = data4.groupby(['admission_type_x',\n",
        "                        'inday_icu_seq'])['hospital_expire_flag_x'].mean().reset_index()\n",
        "\n",
        "dat_dow = dat_dow.pivot(index='inday_icu_seq', \n",
        "                        columns='admission_type_x', values='hospital_expire_flag_x')\n",
        "\n",
        "dat_dow"
      ],
      "execution_count": 0,
      "outputs": [
        {
          "output_type": "execute_result",
          "data": {
            "text/html": [
              "<div>\n",
              "<style scoped>\n",
              "    .dataframe tbody tr th:only-of-type {\n",
              "        vertical-align: middle;\n",
              "    }\n",
              "\n",
              "    .dataframe tbody tr th {\n",
              "        vertical-align: top;\n",
              "    }\n",
              "\n",
              "    .dataframe thead th {\n",
              "        text-align: right;\n",
              "    }\n",
              "</style>\n",
              "<table border=\"1\" class=\"dataframe\">\n",
              "  <thead>\n",
              "    <tr style=\"text-align: right;\">\n",
              "      <th>admission_type_x</th>\n",
              "      <th>ELECTIVE</th>\n",
              "      <th>EMERGENCY</th>\n",
              "      <th>URGENT</th>\n",
              "    </tr>\n",
              "    <tr>\n",
              "      <th>inday_icu_seq</th>\n",
              "      <th></th>\n",
              "      <th></th>\n",
              "      <th></th>\n",
              "    </tr>\n",
              "  </thead>\n",
              "  <tbody>\n",
              "    <tr>\n",
              "      <th>0</th>\n",
              "      <td>0.018182</td>\n",
              "      <td>0.205788</td>\n",
              "      <td>0.153846</td>\n",
              "    </tr>\n",
              "    <tr>\n",
              "      <th>1</th>\n",
              "      <td>0.037500</td>\n",
              "      <td>0.215929</td>\n",
              "      <td>0.416667</td>\n",
              "    </tr>\n",
              "    <tr>\n",
              "      <th>2</th>\n",
              "      <td>0.077922</td>\n",
              "      <td>0.211321</td>\n",
              "      <td>0.173913</td>\n",
              "    </tr>\n",
              "    <tr>\n",
              "      <th>3</th>\n",
              "      <td>0.014493</td>\n",
              "      <td>0.209220</td>\n",
              "      <td>0.285714</td>\n",
              "    </tr>\n",
              "    <tr>\n",
              "      <th>4</th>\n",
              "      <td>0.043478</td>\n",
              "      <td>0.221884</td>\n",
              "      <td>0.000000</td>\n",
              "    </tr>\n",
              "    <tr>\n",
              "      <th>5</th>\n",
              "      <td>0.000000</td>\n",
              "      <td>0.264901</td>\n",
              "      <td>0.416667</td>\n",
              "    </tr>\n",
              "    <tr>\n",
              "      <th>6</th>\n",
              "      <td>0.400000</td>\n",
              "      <td>0.271047</td>\n",
              "      <td>0.272727</td>\n",
              "    </tr>\n",
              "  </tbody>\n",
              "</table>\n",
              "</div>"
            ],
            "text/plain": [
              "admission_type_x  ELECTIVE  EMERGENCY    URGENT\n",
              "inday_icu_seq                                  \n",
              "0                 0.018182   0.205788  0.153846\n",
              "1                 0.037500   0.215929  0.416667\n",
              "2                 0.077922   0.211321  0.173913\n",
              "3                 0.014493   0.209220  0.285714\n",
              "4                 0.043478   0.221884  0.000000\n",
              "5                 0.000000   0.264901  0.416667\n",
              "6                 0.400000   0.271047  0.272727"
            ]
          },
          "metadata": {
            "tags": []
          },
          "execution_count": 67
        }
      ]
    },
    {
      "cell_type": "code",
      "metadata": {
        "id": "NaufaHXLtU0_",
        "colab_type": "code",
        "outputId": "03ded93c-69dd-4523-e594-d68e50b7c9e2",
        "colab": {
          "base_uri": "https://localhost:8080/",
          "height": 297
        }
      },
      "source": [
        "# day_map = {0:'Mon', 1:'Tue', 2:'Wed', 3:'Thu', 4:'Fri', 5:'Sat', 6:'Sun'}\n",
        "ax = dat_dow.plot()\n",
        "ax.set_ylabel(\"Hospital mortality rate\")"
      ],
      "execution_count": 0,
      "outputs": [
        {
          "output_type": "execute_result",
          "data": {
            "text/plain": [
              "Text(0, 0.5, 'Hospital mortality rate')"
            ]
          },
          "metadata": {
            "tags": []
          },
          "execution_count": 68
        },
        {
          "output_type": "display_data",
          "data": {
            "image/png": "[encoded data removed]",
            "text/plain": [
              "<Figure size 432x288 with 1 Axes>"
            ]
          },
          "metadata": {
            "tags": []
          }
        }
      ]
    },
    {
      "cell_type": "markdown",
      "metadata": {
        "id": "XcCDUX9CtsQA",
        "colab_type": "text"
      },
      "source": [
        "Elective stroke patients indicate patients who have come from the operation theatre."
      ]
    },
    {
      "cell_type": "code",
      "metadata": {
        "id": "E9k-C9zYtbqu",
        "colab_type": "code",
        "outputId": "1ddaf737-53ed-4ae7-d339-c2cfcc769880",
        "colab": {
          "base_uri": "https://localhost:8080/",
          "height": 142
        }
      },
      "source": [
        "dat_wkd = data4.groupby(['admission_type_x','inday_icu_wkd'])['hospital_expire_flag_x'].mean().reset_index()\n",
        "dat_wkd = dat_wkd.pivot(index='inday_icu_wkd', columns='admission_type_x', values='hospital_expire_flag_x')\n",
        "dat_wkd.head()"
      ],
      "execution_count": 0,
      "outputs": [
        {
          "output_type": "execute_result",
          "data": {
            "text/html": [
              "<div>\n",
              "<style scoped>\n",
              "    .dataframe tbody tr th:only-of-type {\n",
              "        vertical-align: middle;\n",
              "    }\n",
              "\n",
              "    .dataframe tbody tr th {\n",
              "        vertical-align: top;\n",
              "    }\n",
              "\n",
              "    .dataframe thead th {\n",
              "        text-align: right;\n",
              "    }\n",
              "</style>\n",
              "<table border=\"1\" class=\"dataframe\">\n",
              "  <thead>\n",
              "    <tr style=\"text-align: right;\">\n",
              "      <th>admission_type_x</th>\n",
              "      <th>ELECTIVE</th>\n",
              "      <th>EMERGENCY</th>\n",
              "      <th>URGENT</th>\n",
              "    </tr>\n",
              "    <tr>\n",
              "      <th>inday_icu_wkd</th>\n",
              "      <th></th>\n",
              "      <th></th>\n",
              "      <th></th>\n",
              "    </tr>\n",
              "  </thead>\n",
              "  <tbody>\n",
              "    <tr>\n",
              "      <th>weekday</th>\n",
              "      <td>0.039755</td>\n",
              "      <td>0.212998</td>\n",
              "      <td>0.214286</td>\n",
              "    </tr>\n",
              "    <tr>\n",
              "      <th>weekend</th>\n",
              "      <td>0.166667</td>\n",
              "      <td>0.268085</td>\n",
              "      <td>0.323529</td>\n",
              "    </tr>\n",
              "  </tbody>\n",
              "</table>\n",
              "</div>"
            ],
            "text/plain": [
              "admission_type_x  ELECTIVE  EMERGENCY    URGENT\n",
              "inday_icu_wkd                                  \n",
              "weekday           0.039755   0.212998  0.214286\n",
              "weekend           0.166667   0.268085  0.323529"
            ]
          },
          "metadata": {
            "tags": []
          },
          "execution_count": 69
        }
      ]
    },
    {
      "cell_type": "code",
      "metadata": {
        "id": "f6kCuz6atqUg",
        "colab_type": "code",
        "outputId": "55c5a662-9dcc-44fb-a998-a9996229cd7a",
        "colab": {
          "base_uri": "https://localhost:8080/",
          "height": 297
        }
      },
      "source": [
        "ax = dat_wkd.plot()\n",
        "ax.set_ylabel(\"Hospital mortality rate\")"
      ],
      "execution_count": 0,
      "outputs": [
        {
          "output_type": "execute_result",
          "data": {
            "text/plain": [
              "Text(0, 0.5, 'Hospital mortality rate')"
            ]
          },
          "metadata": {
            "tags": []
          },
          "execution_count": 70
        },
        {
          "output_type": "display_data",
          "data": {
            "image/png": "[encoded data removed]",
            "text/plain": [
              "<Figure size 432x288 with 1 Axes>"
            ]
          },
          "metadata": {
            "tags": []
          }
        }
      ]
    },
    {
      "cell_type": "markdown",
      "metadata": {
        "id": "WNf9bkXIt3Yj",
        "colab_type": "text"
      },
      "source": [
        "#6-Month Mortality"
      ]
    },
    {
      "cell_type": "markdown",
      "metadata": {
        "id": "sHDY-4_kuB2A",
        "colab_type": "text"
      },
      "source": [
        "Add a column indicating the number of days that the patient survived post-discharge."
      ]
    },
    {
      "cell_type": "markdown",
      "metadata": {
        "id": "gp3wRcU5qcfp",
        "colab_type": "text"
      },
      "source": [
        "##Inclusive of in-hospital mortality"
      ]
    },
    {
      "cell_type": "code",
      "metadata": {
        "id": "SX7fZebmuZXh",
        "colab_type": "code",
        "colab": {}
      },
      "source": [
        "data4['survival_time'] = data4['dod'].sub(data4['dischtime_hospital'], axis=0)"
      ],
      "execution_count": 0,
      "outputs": []
    },
    {
      "cell_type": "code",
      "metadata": {
        "id": "zm0xTKvpudKM",
        "colab_type": "code",
        "colab": {}
      },
      "source": [
        "data4['death_post_discharge_in_days'] = np.where(data4.survival_time.dt.days <= 180, 'short_survival', 'long_survival')"
      ],
      "execution_count": 0,
      "outputs": []
    },
    {
      "cell_type": "code",
      "metadata": {
        "id": "rytCcde-vEDh",
        "colab_type": "code",
        "colab": {}
      },
      "source": [
        "#Turn it into a binary flag\n",
        "d = {'short_survival': 1, 'long_survival': 0}\n",
        "data4['survival_time_flag'] = data4['death_post_discharge_in_days'].map(d)"
      ],
      "execution_count": 0,
      "outputs": []
    },
    {
      "cell_type": "code",
      "metadata": {
        "id": "SsvFVdDNuid8",
        "colab_type": "code",
        "outputId": "4d9ca8f6-e656-4039-e3e1-5b82dcccf4c4",
        "colab": {
          "base_uri": "https://localhost:8080/",
          "height": 394
        }
      },
      "source": [
        "data4.head()"
      ],
      "execution_count": 45,
      "outputs": [
        {
          "output_type": "execute_result",
          "data": {
            "text/html": [
              "<div>\n",
              "<style scoped>\n",
              "    .dataframe tbody tr th:only-of-type {\n",
              "        vertical-align: middle;\n",
              "    }\n",
              "\n",
              "    .dataframe tbody tr th {\n",
              "        vertical-align: top;\n",
              "    }\n",
              "\n",
              "    .dataframe thead th {\n",
              "        text-align: right;\n",
              "    }\n",
              "</style>\n",
              "<table border=\"1\" class=\"dataframe\">\n",
              "  <thead>\n",
              "    <tr style=\"text-align: right;\">\n",
              "      <th></th>\n",
              "      <th>subject_id</th>\n",
              "      <th>hadm_id</th>\n",
              "      <th>icustay_id</th>\n",
              "      <th>gender_x</th>\n",
              "      <th>admittime_hospital</th>\n",
              "      <th>dischtime_hospital</th>\n",
              "      <th>los_hospital</th>\n",
              "      <th>admission_age</th>\n",
              "      <th>admission_type_x</th>\n",
              "      <th>hospital_expire_flag_x</th>\n",
              "      <th>intime_icu</th>\n",
              "      <th>outtime_icu</th>\n",
              "      <th>los_icu</th>\n",
              "      <th>first_careunit</th>\n",
              "      <th>icustay_expire_flag</th>\n",
              "      <th>oasis</th>\n",
              "      <th>oasis_prob</th>\n",
              "      <th>row_id_x</th>\n",
              "      <th>seq_num</th>\n",
              "      <th>icd9_code</th>\n",
              "      <th>row_id_y</th>\n",
              "      <th>gender_y</th>\n",
              "      <th>dob</th>\n",
              "      <th>dod</th>\n",
              "      <th>dod_hosp</th>\n",
              "      <th>dod_ssn</th>\n",
              "      <th>expire_flag</th>\n",
              "      <th>row_id</th>\n",
              "      <th>admittime</th>\n",
              "      <th>dischtime</th>\n",
              "      <th>deathtime</th>\n",
              "      <th>admission_type_y</th>\n",
              "      <th>admission_location</th>\n",
              "      <th>discharge_location</th>\n",
              "      <th>insurance</th>\n",
              "      <th>language</th>\n",
              "      <th>religion</th>\n",
              "      <th>marital_status</th>\n",
              "      <th>ethnicity</th>\n",
              "      <th>edregtime</th>\n",
              "      <th>edouttime</th>\n",
              "      <th>diagnosis</th>\n",
              "      <th>hospital_expire_flag_y</th>\n",
              "      <th>has_chartevents_data</th>\n",
              "      <th>mingcs</th>\n",
              "      <th>gcsmotor</th>\n",
              "      <th>gcsverbal</th>\n",
              "      <th>gcseyes</th>\n",
              "      <th>endotrachflag</th>\n",
              "      <th>admitday_hospital</th>\n",
              "      <th>dischday_hospital</th>\n",
              "      <th>inday_icu</th>\n",
              "      <th>inday_icu_seq</th>\n",
              "      <th>outday_icu</th>\n",
              "      <th>inday_icu_wkd</th>\n",
              "      <th>survival_time</th>\n",
              "      <th>death_post_discharge_in_days</th>\n",
              "      <th>survival_time_flag</th>\n",
              "      <th>home_discharge_bool</th>\n",
              "      <th>adm_type_2</th>\n",
              "      <th>adm_type_2_bool</th>\n",
              "      <th>home_discharge_flag</th>\n",
              "    </tr>\n",
              "  </thead>\n",
              "  <tbody>\n",
              "    <tr>\n",
              "      <th>0</th>\n",
              "      <td>141</td>\n",
              "      <td>168006</td>\n",
              "      <td>234668</td>\n",
              "      <td>M</td>\n",
              "      <td>2140-11-06 11:07:00</td>\n",
              "      <td>2140-11-09 20:36:00</td>\n",
              "      <td>3</td>\n",
              "      <td>80</td>\n",
              "      <td>EMERGENCY</td>\n",
              "      <td>1</td>\n",
              "      <td>2140-11-06 11:09:19</td>\n",
              "      <td>2140-11-09 22:35:29</td>\n",
              "      <td>3.0</td>\n",
              "      <td>MICU</td>\n",
              "      <td>1</td>\n",
              "      <td>53</td>\n",
              "      <td>0.641734</td>\n",
              "      <td>1784.0</td>\n",
              "      <td>2.0</td>\n",
              "      <td>43491</td>\n",
              "      <td>131</td>\n",
              "      <td>M</td>\n",
              "      <td>2060-05-03</td>\n",
              "      <td>2140-11-09</td>\n",
              "      <td>2140-11-09</td>\n",
              "      <td>2140-11-09</td>\n",
              "      <td>1</td>\n",
              "      <td>190</td>\n",
              "      <td>2140-11-06 11:07:00</td>\n",
              "      <td>2140-11-09 20:36:00</td>\n",
              "      <td>2140-11-09 20:36:00</td>\n",
              "      <td>EMERGENCY</td>\n",
              "      <td>EMERGENCY ROOM ADMIT</td>\n",
              "      <td>DEAD/EXPIRED</td>\n",
              "      <td>Medicare</td>\n",
              "      <td>None</td>\n",
              "      <td>OTHER</td>\n",
              "      <td>SINGLE</td>\n",
              "      <td>OTHER</td>\n",
              "      <td>2140-11-06 07:17:00</td>\n",
              "      <td>2140-11-06 12:07:00</td>\n",
              "      <td>DRA, SAH</td>\n",
              "      <td>1</td>\n",
              "      <td>1</td>\n",
              "      <td>14.0</td>\n",
              "      <td>6.0</td>\n",
              "      <td>4.0</td>\n",
              "      <td>4.0</td>\n",
              "      <td>0.0</td>\n",
              "      <td>Sunday</td>\n",
              "      <td>Wednesday</td>\n",
              "      <td>Sunday</td>\n",
              "      <td>6</td>\n",
              "      <td>Wednesday</td>\n",
              "      <td>weekend</td>\n",
              "      <td>-1 days +03:24:00</td>\n",
              "      <td>short_survival</td>\n",
              "      <td>1</td>\n",
              "      <td>False</td>\n",
              "      <td>emergency</td>\n",
              "      <td>1</td>\n",
              "      <td>0</td>\n",
              "    </tr>\n",
              "    <tr>\n",
              "      <th>1</th>\n",
              "      <td>416</td>\n",
              "      <td>148709</td>\n",
              "      <td>226936</td>\n",
              "      <td>F</td>\n",
              "      <td>2132-07-23 14:46:00</td>\n",
              "      <td>2132-08-11 17:19:00</td>\n",
              "      <td>19</td>\n",
              "      <td>56</td>\n",
              "      <td>EMERGENCY</td>\n",
              "      <td>0</td>\n",
              "      <td>2132-07-23 14:47:03</td>\n",
              "      <td>2132-08-08 17:03:29</td>\n",
              "      <td>16.0</td>\n",
              "      <td>MICU</td>\n",
              "      <td>0</td>\n",
              "      <td>55</td>\n",
              "      <td>0.698023</td>\n",
              "      <td>5023.0</td>\n",
              "      <td>1.0</td>\n",
              "      <td>430</td>\n",
              "      <td>392</td>\n",
              "      <td>F</td>\n",
              "      <td>2076-12-12</td>\n",
              "      <td>2136-11-11</td>\n",
              "      <td>NaT</td>\n",
              "      <td>2136-11-11</td>\n",
              "      <td>1</td>\n",
              "      <td>532</td>\n",
              "      <td>2132-07-23 14:46:00</td>\n",
              "      <td>2132-08-11 17:19:00</td>\n",
              "      <td>NaT</td>\n",
              "      <td>EMERGENCY</td>\n",
              "      <td>EMERGENCY ROOM ADMIT</td>\n",
              "      <td>HOME HEALTH CARE</td>\n",
              "      <td>Medicaid</td>\n",
              "      <td>HAIT</td>\n",
              "      <td>UNOBTAINABLE</td>\n",
              "      <td>MARRIED</td>\n",
              "      <td>BLACK/AFRICAN AMERICAN</td>\n",
              "      <td>2132-07-23 09:26:00</td>\n",
              "      <td>2132-07-23 15:08:00</td>\n",
              "      <td>SAH</td>\n",
              "      <td>0</td>\n",
              "      <td>1</td>\n",
              "      <td>13.0</td>\n",
              "      <td>6.0</td>\n",
              "      <td>4.0</td>\n",
              "      <td>3.0</td>\n",
              "      <td>0.0</td>\n",
              "      <td>Wednesday</td>\n",
              "      <td>Monday</td>\n",
              "      <td>Wednesday</td>\n",
              "      <td>2</td>\n",
              "      <td>Friday</td>\n",
              "      <td>weekday</td>\n",
              "      <td>1552 days 06:41:00</td>\n",
              "      <td>long_survival</td>\n",
              "      <td>0</td>\n",
              "      <td>True</td>\n",
              "      <td>emergency</td>\n",
              "      <td>1</td>\n",
              "      <td>1</td>\n",
              "    </tr>\n",
              "    <tr>\n",
              "      <th>2</th>\n",
              "      <td>490</td>\n",
              "      <td>166850</td>\n",
              "      <td>222952</td>\n",
              "      <td>M</td>\n",
              "      <td>2199-12-12 19:04:00</td>\n",
              "      <td>2199-12-13 20:33:00</td>\n",
              "      <td>1</td>\n",
              "      <td>87</td>\n",
              "      <td>EMERGENCY</td>\n",
              "      <td>1</td>\n",
              "      <td>2199-12-12 21:15:58</td>\n",
              "      <td>2199-12-13 20:33:59</td>\n",
              "      <td>1.0</td>\n",
              "      <td>SICU</td>\n",
              "      <td>1</td>\n",
              "      <td>58</td>\n",
              "      <td>0.772134</td>\n",
              "      <td>5788.0</td>\n",
              "      <td>1.0</td>\n",
              "      <td>43491</td>\n",
              "      <td>463</td>\n",
              "      <td>M</td>\n",
              "      <td>2112-11-20</td>\n",
              "      <td>2199-12-13</td>\n",
              "      <td>2199-12-13</td>\n",
              "      <td>2199-12-13</td>\n",
              "      <td>1</td>\n",
              "      <td>615</td>\n",
              "      <td>2199-12-12 19:04:00</td>\n",
              "      <td>2199-12-13 20:33:00</td>\n",
              "      <td>2199-12-13 20:33:00</td>\n",
              "      <td>EMERGENCY</td>\n",
              "      <td>EMERGENCY ROOM ADMIT</td>\n",
              "      <td>DEAD/EXPIRED</td>\n",
              "      <td>Medicare</td>\n",
              "      <td>None</td>\n",
              "      <td>UNOBTAINABLE</td>\n",
              "      <td>MARRIED</td>\n",
              "      <td>WHITE</td>\n",
              "      <td>2199-12-12 17:13:00</td>\n",
              "      <td>2199-12-12 22:06:00</td>\n",
              "      <td>CEREBRAL VASCULAR ACCIDENT</td>\n",
              "      <td>1</td>\n",
              "      <td>1</td>\n",
              "      <td>6.0</td>\n",
              "      <td>4.0</td>\n",
              "      <td>1.0</td>\n",
              "      <td>1.0</td>\n",
              "      <td>0.0</td>\n",
              "      <td>Thursday</td>\n",
              "      <td>Friday</td>\n",
              "      <td>Thursday</td>\n",
              "      <td>3</td>\n",
              "      <td>Friday</td>\n",
              "      <td>weekday</td>\n",
              "      <td>-1 days +03:27:00</td>\n",
              "      <td>short_survival</td>\n",
              "      <td>1</td>\n",
              "      <td>False</td>\n",
              "      <td>emergency</td>\n",
              "      <td>1</td>\n",
              "      <td>0</td>\n",
              "    </tr>\n",
              "    <tr>\n",
              "      <th>3</th>\n",
              "      <td>490</td>\n",
              "      <td>166850</td>\n",
              "      <td>222952</td>\n",
              "      <td>M</td>\n",
              "      <td>2199-12-12 19:04:00</td>\n",
              "      <td>2199-12-13 20:33:00</td>\n",
              "      <td>1</td>\n",
              "      <td>87</td>\n",
              "      <td>EMERGENCY</td>\n",
              "      <td>1</td>\n",
              "      <td>2199-12-12 21:15:58</td>\n",
              "      <td>2199-12-13 20:33:59</td>\n",
              "      <td>1.0</td>\n",
              "      <td>SICU</td>\n",
              "      <td>1</td>\n",
              "      <td>58</td>\n",
              "      <td>0.772134</td>\n",
              "      <td>5789.0</td>\n",
              "      <td>2.0</td>\n",
              "      <td>431</td>\n",
              "      <td>463</td>\n",
              "      <td>M</td>\n",
              "      <td>2112-11-20</td>\n",
              "      <td>2199-12-13</td>\n",
              "      <td>2199-12-13</td>\n",
              "      <td>2199-12-13</td>\n",
              "      <td>1</td>\n",
              "      <td>615</td>\n",
              "      <td>2199-12-12 19:04:00</td>\n",
              "      <td>2199-12-13 20:33:00</td>\n",
              "      <td>2199-12-13 20:33:00</td>\n",
              "      <td>EMERGENCY</td>\n",
              "      <td>EMERGENCY ROOM ADMIT</td>\n",
              "      <td>DEAD/EXPIRED</td>\n",
              "      <td>Medicare</td>\n",
              "      <td>None</td>\n",
              "      <td>UNOBTAINABLE</td>\n",
              "      <td>MARRIED</td>\n",
              "      <td>WHITE</td>\n",
              "      <td>2199-12-12 17:13:00</td>\n",
              "      <td>2199-12-12 22:06:00</td>\n",
              "      <td>CEREBRAL VASCULAR ACCIDENT</td>\n",
              "      <td>1</td>\n",
              "      <td>1</td>\n",
              "      <td>6.0</td>\n",
              "      <td>4.0</td>\n",
              "      <td>1.0</td>\n",
              "      <td>1.0</td>\n",
              "      <td>0.0</td>\n",
              "      <td>Thursday</td>\n",
              "      <td>Friday</td>\n",
              "      <td>Thursday</td>\n",
              "      <td>3</td>\n",
              "      <td>Friday</td>\n",
              "      <td>weekday</td>\n",
              "      <td>-1 days +03:27:00</td>\n",
              "      <td>short_survival</td>\n",
              "      <td>1</td>\n",
              "      <td>False</td>\n",
              "      <td>emergency</td>\n",
              "      <td>1</td>\n",
              "      <td>0</td>\n",
              "    </tr>\n",
              "    <tr>\n",
              "      <th>4</th>\n",
              "      <td>831</td>\n",
              "      <td>185983</td>\n",
              "      <td>223445</td>\n",
              "      <td>F</td>\n",
              "      <td>2151-06-30 09:44:00</td>\n",
              "      <td>2151-07-15 13:50:00</td>\n",
              "      <td>15</td>\n",
              "      <td>84</td>\n",
              "      <td>EMERGENCY</td>\n",
              "      <td>0</td>\n",
              "      <td>2151-06-30 09:44:47</td>\n",
              "      <td>2151-07-03 18:15:14</td>\n",
              "      <td>3.0</td>\n",
              "      <td>SICU</td>\n",
              "      <td>0</td>\n",
              "      <td>51</td>\n",
              "      <td>0.581248</td>\n",
              "      <td>9671.0</td>\n",
              "      <td>1.0</td>\n",
              "      <td>431</td>\n",
              "      <td>784</td>\n",
              "      <td>F</td>\n",
              "      <td>2067-05-06</td>\n",
              "      <td>2151-09-10</td>\n",
              "      <td>NaT</td>\n",
              "      <td>2151-09-10</td>\n",
              "      <td>1</td>\n",
              "      <td>1031</td>\n",
              "      <td>2151-06-30 09:44:00</td>\n",
              "      <td>2151-07-15 13:50:00</td>\n",
              "      <td>None</td>\n",
              "      <td>EMERGENCY</td>\n",
              "      <td>EMERGENCY ROOM ADMIT</td>\n",
              "      <td>REHAB/DISTINCT PART HOSP</td>\n",
              "      <td>Medicare</td>\n",
              "      <td>None</td>\n",
              "      <td>JEWISH</td>\n",
              "      <td>WIDOWED</td>\n",
              "      <td>WHITE</td>\n",
              "      <td>2151-06-30 08:22:00</td>\n",
              "      <td>2151-06-30 11:10:00</td>\n",
              "      <td>STROKE/TIA</td>\n",
              "      <td>0</td>\n",
              "      <td>1</td>\n",
              "      <td>7.0</td>\n",
              "      <td>4.0</td>\n",
              "      <td>1.0</td>\n",
              "      <td>2.0</td>\n",
              "      <td>0.0</td>\n",
              "      <td>Wednesday</td>\n",
              "      <td>Thursday</td>\n",
              "      <td>Wednesday</td>\n",
              "      <td>2</td>\n",
              "      <td>Saturday</td>\n",
              "      <td>weekday</td>\n",
              "      <td>56 days 10:10:00</td>\n",
              "      <td>short_survival</td>\n",
              "      <td>1</td>\n",
              "      <td>False</td>\n",
              "      <td>emergency</td>\n",
              "      <td>1</td>\n",
              "      <td>0</td>\n",
              "    </tr>\n",
              "  </tbody>\n",
              "</table>\n",
              "</div>"
            ],
            "text/plain": [
              "   subject_id  hadm_id  ...  adm_type_2_bool home_discharge_flag\n",
              "0         141   168006  ...                1                   0\n",
              "1         416   148709  ...                1                   1\n",
              "2         490   166850  ...                1                   0\n",
              "3         490   166850  ...                1                   0\n",
              "4         831   185983  ...                1                   0\n",
              "\n",
              "[5 rows x 62 columns]"
            ]
          },
          "metadata": {
            "tags": []
          },
          "execution_count": 45
        }
      ]
    },
    {
      "cell_type": "code",
      "metadata": {
        "id": "JTJg3VIVyzB9",
        "colab_type": "code",
        "colab": {
          "base_uri": "https://localhost:8080/",
          "height": 34
        },
        "outputId": "a85c6804-cfbb-440d-f294-344448794a78"
      },
      "source": [
        "#Patients surviving over the short term (weekday ICU admission)\n",
        "df_filtered = data4[(data4.inday_icu_wkd == 'weekday') & (data4.death_post_discharge_in_days == 'short_survival')]\n",
        "df_filtered.shape[0]"
      ],
      "execution_count": 66,
      "outputs": [
        {
          "output_type": "execute_result",
          "data": {
            "text/plain": [
              "999"
            ]
          },
          "metadata": {
            "tags": []
          },
          "execution_count": 66
        }
      ]
    },
    {
      "cell_type": "code",
      "metadata": {
        "id": "sLYFsWVJy3X9",
        "colab_type": "code",
        "colab": {
          "base_uri": "https://localhost:8080/",
          "height": 34
        },
        "outputId": "14e5af2b-769c-4267-bfb1-f815926eff3f"
      },
      "source": [
        "#Patients surviving over the short term (weekend ICU admission)\n",
        "df_filtered = data4[(data4.inday_icu_wkd == 'weekend') & (data4.death_post_discharge_in_days == 'short_survival')]\n",
        "df_filtered.shape[0]"
      ],
      "execution_count": 67,
      "outputs": [
        {
          "output_type": "execute_result",
          "data": {
            "text/plain": [
              "369"
            ]
          },
          "metadata": {
            "tags": []
          },
          "execution_count": 67
        }
      ]
    },
    {
      "cell_type": "code",
      "metadata": {
        "id": "RdoaoctYy-WN",
        "colab_type": "code",
        "colab": {
          "base_uri": "https://localhost:8080/",
          "height": 34
        },
        "outputId": "7e6ab060-5111-4951-9d6f-97ac92d9c550"
      },
      "source": [
        "#Patients surviving over the long term (weekday ICU admission)\n",
        "df_filtered = data4[(data4.inday_icu_wkd == 'weekday') & (data4.death_post_discharge_in_days == 'long_survival')]\n",
        "df_filtered.shape[0]"
      ],
      "execution_count": 68,
      "outputs": [
        {
          "output_type": "execute_result",
          "data": {
            "text/plain": [
              "2337"
            ]
          },
          "metadata": {
            "tags": []
          },
          "execution_count": 68
        }
      ]
    },
    {
      "cell_type": "code",
      "metadata": {
        "id": "HOZrrdT0zEv-",
        "colab_type": "code",
        "colab": {
          "base_uri": "https://localhost:8080/",
          "height": 34
        },
        "outputId": "4e3b0683-6dd6-4e8c-a22f-04f083a737f2"
      },
      "source": [
        "#Patients surviving over the long term (weekend ICU admission)\n",
        "df_filtered = data4[(data4.inday_icu_wkd == 'weekend') & (data4.death_post_discharge_in_days == 'long_survival')]\n",
        "df_filtered.shape[0]"
      ],
      "execution_count": 69,
      "outputs": [
        {
          "output_type": "execute_result",
          "data": {
            "text/plain": [
              "617"
            ]
          },
          "metadata": {
            "tags": []
          },
          "execution_count": 69
        }
      ]
    },
    {
      "cell_type": "markdown",
      "metadata": {
        "id": "IFfxiv3crI-4",
        "colab_type": "text"
      },
      "source": [
        "## Creation of DF of Survivors\n",
        "These are patients who were discharged alive."
      ]
    },
    {
      "cell_type": "code",
      "metadata": {
        "id": "FmCEIH5ouDaI",
        "colab_type": "code",
        "colab": {
          "base_uri": "https://localhost:8080/",
          "height": 272
        },
        "outputId": "5434f398-a476-4a15-de6b-e39b193f7209"
      },
      "source": [
        "#Check the type of discharge\n",
        "data4['discharge_location'].value_counts(dropna=False)"
      ],
      "execution_count": 46,
      "outputs": [
        {
          "output_type": "execute_result",
          "data": {
            "text/plain": [
              "REHAB/DISTINCT PART HOSP     1227\n",
              "DEAD/EXPIRED                  919\n",
              "HOME                          730\n",
              "HOME HEALTH CARE              574\n",
              "SNF                           465\n",
              "LONG TERM CARE HOSPITAL       239\n",
              "SHORT TERM HOSPITAL            68\n",
              "DISC-TRAN CANCER/CHLDRN H      42\n",
              "HOSPICE-MEDICAL FACILITY       28\n",
              "HOSPICE-HOME                   18\n",
              "LEFT AGAINST MEDICAL ADVI       6\n",
              "DISCH-TRAN TO PSYCH HOSP        4\n",
              "HOME WITH HOME IV PROVIDR       1\n",
              "OTHER FACILITY                  1\n",
              "Name: discharge_location, dtype: int64"
            ]
          },
          "metadata": {
            "tags": []
          },
          "execution_count": 46
        }
      ]
    },
    {
      "cell_type": "code",
      "metadata": {
        "id": "3JlgkMIoFPW6",
        "colab_type": "code",
        "colab": {
          "base_uri": "https://localhost:8080/",
          "height": 425
        },
        "outputId": "e60b77ec-a082-41d2-e290-20f5afc46a31"
      },
      "source": [
        "#Create DF of only those who survived\n",
        "df_survived = data4.where(data4.discharge_location.str.contains('DEAD') == False)\n",
        "df_survived.discharge_location, data4.discharge_location"
      ],
      "execution_count": 16,
      "outputs": [
        {
          "output_type": "execute_result",
          "data": {
            "text/plain": [
              "(0                            NaN\n",
              " 1               HOME HEALTH CARE\n",
              " 2                            NaN\n",
              " 3                            NaN\n",
              " 4       REHAB/DISTINCT PART HOSP\n",
              "                   ...           \n",
              " 4317            HOME HEALTH CARE\n",
              " 4318                         NaN\n",
              " 4319                         NaN\n",
              " 4320                HOSPICE-HOME\n",
              " 4321                         NaN\n",
              " Name: discharge_location, Length: 4322, dtype: object,\n",
              " 0                   DEAD/EXPIRED\n",
              " 1               HOME HEALTH CARE\n",
              " 2                   DEAD/EXPIRED\n",
              " 3                   DEAD/EXPIRED\n",
              " 4       REHAB/DISTINCT PART HOSP\n",
              "                   ...           \n",
              " 4317            HOME HEALTH CARE\n",
              " 4318                DEAD/EXPIRED\n",
              " 4319                DEAD/EXPIRED\n",
              " 4320                HOSPICE-HOME\n",
              " 4321                DEAD/EXPIRED\n",
              " Name: discharge_location, Length: 4322, dtype: object)"
            ]
          },
          "metadata": {
            "tags": []
          },
          "execution_count": 16
        }
      ]
    },
    {
      "cell_type": "code",
      "metadata": {
        "id": "ODmoRxhWJKEs",
        "colab_type": "code",
        "colab": {
          "base_uri": "https://localhost:8080/",
          "height": 34
        },
        "outputId": "6761881c-425f-493b-8850-e47da7abbb8f"
      },
      "source": [
        "#Drop the Null values of discharge_location in survivors DF\n",
        "df_survived = df_survived.dropna(subset=['discharge_location'])\n",
        "data4.shape, df_survived.shape"
      ],
      "execution_count": 17,
      "outputs": [
        {
          "output_type": "execute_result",
          "data": {
            "text/plain": [
              "((4322, 62), (3403, 62))"
            ]
          },
          "metadata": {
            "tags": []
          },
          "execution_count": 17
        }
      ]
    },
    {
      "cell_type": "markdown",
      "metadata": {
        "id": "EdpJ9hWBKJhc",
        "colab_type": "text"
      },
      "source": [
        "The 919 patients (4,322 - 3,403) who were identified as 'DEAD/EXPIRED' have been dropped from the DF. This produces a cohort of 3,403 entries of patients who survived being admitted into the ICU and were discharged."
      ]
    },
    {
      "cell_type": "code",
      "metadata": {
        "id": "RmVMwOQiu1Sw",
        "colab_type": "code",
        "colab": {
          "base_uri": "https://localhost:8080/",
          "height": 394
        },
        "outputId": "3667b179-6d0b-4025-94c5-3cd805babcab"
      },
      "source": [
        "#Verify resulting DF\n",
        "df_survived[['dischtime', 'dod','survival_time', 'death_post_discharge_in_days', 'survival_time_flag', 'discharge_location', 'home_discharge_bool', 'inday_icu_wkd']].head()"
      ],
      "execution_count": 70,
      "outputs": [
        {
          "output_type": "execute_result",
          "data": {
            "text/html": [
              "<div>\n",
              "<style scoped>\n",
              "    .dataframe tbody tr th:only-of-type {\n",
              "        vertical-align: middle;\n",
              "    }\n",
              "\n",
              "    .dataframe tbody tr th {\n",
              "        vertical-align: top;\n",
              "    }\n",
              "\n",
              "    .dataframe thead th {\n",
              "        text-align: right;\n",
              "    }\n",
              "</style>\n",
              "<table border=\"1\" class=\"dataframe\">\n",
              "  <thead>\n",
              "    <tr style=\"text-align: right;\">\n",
              "      <th></th>\n",
              "      <th>dischtime</th>\n",
              "      <th>dod</th>\n",
              "      <th>survival_time</th>\n",
              "      <th>death_post_discharge_in_days</th>\n",
              "      <th>survival_time_flag</th>\n",
              "      <th>discharge_location</th>\n",
              "      <th>home_discharge_bool</th>\n",
              "      <th>inday_icu_wkd</th>\n",
              "    </tr>\n",
              "  </thead>\n",
              "  <tbody>\n",
              "    <tr>\n",
              "      <th>1</th>\n",
              "      <td>2132-08-11 17:19:00</td>\n",
              "      <td>2136-11-11</td>\n",
              "      <td>1552 days 06:41:00</td>\n",
              "      <td>long_survival</td>\n",
              "      <td>0.0</td>\n",
              "      <td>HOME HEALTH CARE</td>\n",
              "      <td>1.0</td>\n",
              "      <td>weekday</td>\n",
              "    </tr>\n",
              "    <tr>\n",
              "      <th>4</th>\n",
              "      <td>2151-07-15 13:50:00</td>\n",
              "      <td>2151-09-10</td>\n",
              "      <td>56 days 10:10:00</td>\n",
              "      <td>short_survival</td>\n",
              "      <td>1.0</td>\n",
              "      <td>REHAB/DISTINCT PART HOSP</td>\n",
              "      <td>0.0</td>\n",
              "      <td>weekday</td>\n",
              "    </tr>\n",
              "    <tr>\n",
              "      <th>6</th>\n",
              "      <td>2138-03-06 14:00:00</td>\n",
              "      <td>NaT</td>\n",
              "      <td>NaT</td>\n",
              "      <td>long_survival</td>\n",
              "      <td>0.0</td>\n",
              "      <td>HOME</td>\n",
              "      <td>1.0</td>\n",
              "      <td>weekday</td>\n",
              "    </tr>\n",
              "    <tr>\n",
              "      <th>9</th>\n",
              "      <td>2191-05-12 15:00:00</td>\n",
              "      <td>2191-05-13</td>\n",
              "      <td>0 days 09:00:00</td>\n",
              "      <td>short_survival</td>\n",
              "      <td>1.0</td>\n",
              "      <td>SNF</td>\n",
              "      <td>0.0</td>\n",
              "      <td>weekday</td>\n",
              "    </tr>\n",
              "    <tr>\n",
              "      <th>11</th>\n",
              "      <td>2150-11-30 18:14:00</td>\n",
              "      <td>NaT</td>\n",
              "      <td>NaT</td>\n",
              "      <td>long_survival</td>\n",
              "      <td>0.0</td>\n",
              "      <td>HOME</td>\n",
              "      <td>1.0</td>\n",
              "      <td>weekday</td>\n",
              "    </tr>\n",
              "  </tbody>\n",
              "</table>\n",
              "</div>"
            ],
            "text/plain": [
              "             dischtime        dod  ... home_discharge_bool inday_icu_wkd\n",
              "1  2132-08-11 17:19:00 2136-11-11  ...                 1.0       weekday\n",
              "4  2151-07-15 13:50:00 2151-09-10  ...                 0.0       weekday\n",
              "6  2138-03-06 14:00:00        NaT  ...                 1.0       weekday\n",
              "9  2191-05-12 15:00:00 2191-05-13  ...                 0.0       weekday\n",
              "11 2150-11-30 18:14:00        NaT  ...                 1.0       weekday\n",
              "\n",
              "[5 rows x 8 columns]"
            ]
          },
          "metadata": {
            "tags": []
          },
          "execution_count": 70
        }
      ]
    },
    {
      "cell_type": "markdown",
      "metadata": {
        "id": "7z2EAqhQqj4u",
        "colab_type": "text"
      },
      "source": [
        "##Exclusive of in-hospital mortality"
      ]
    },
    {
      "cell_type": "code",
      "metadata": {
        "id": "r9DeorxUqmnX",
        "colab_type": "code",
        "colab": {
          "base_uri": "https://localhost:8080/",
          "height": 34
        },
        "outputId": "70931247-8955-4b6f-cdc1-18725fe28c71"
      },
      "source": [
        "#Patients surviving over the short term (weekday ICU admission)\n",
        "df_filtered = df_survived[(df_survived.inday_icu_wkd == 'weekday') & (df_survived.death_post_discharge_in_days == 'short_survival')]\n",
        "df_filtered.shape[0]"
      ],
      "execution_count": 61,
      "outputs": [
        {
          "output_type": "execute_result",
          "data": {
            "text/plain": [
              "345"
            ]
          },
          "metadata": {
            "tags": []
          },
          "execution_count": 61
        }
      ]
    },
    {
      "cell_type": "code",
      "metadata": {
        "id": "ilAOpPWhyIK-",
        "colab_type": "code",
        "colab": {
          "base_uri": "https://localhost:8080/",
          "height": 34
        },
        "outputId": "a35b5c02-0c4c-4e68-87b4-c131f52141d4"
      },
      "source": [
        "#Patients surviving over the short term (weekend ICU admission)\n",
        "df_filtered = df_survived[(df_survived.inday_icu_wkd == 'weekend') & (df_survived.death_post_discharge_in_days == 'short_survival')]\n",
        "df_filtered.shape[0]"
      ],
      "execution_count": 62,
      "outputs": [
        {
          "output_type": "execute_result",
          "data": {
            "text/plain": [
              "104"
            ]
          },
          "metadata": {
            "tags": []
          },
          "execution_count": 62
        }
      ]
    },
    {
      "cell_type": "code",
      "metadata": {
        "id": "l4yr8JDQyMvL",
        "colab_type": "code",
        "colab": {
          "base_uri": "https://localhost:8080/",
          "height": 34
        },
        "outputId": "e7945489-131a-4b62-a9f2-abc46dc4d747"
      },
      "source": [
        "#Patients surviving over the long term (weekday ICU admission)\n",
        "df_filtered = df_survived[(df_survived.inday_icu_wkd == 'weekday') & (df_survived.death_post_discharge_in_days == 'long_survival')]\n",
        "df_filtered.shape[0]"
      ],
      "execution_count": 63,
      "outputs": [
        {
          "output_type": "execute_result",
          "data": {
            "text/plain": [
              "2337"
            ]
          },
          "metadata": {
            "tags": []
          },
          "execution_count": 63
        }
      ]
    },
    {
      "cell_type": "code",
      "metadata": {
        "id": "90GPf8wfychr",
        "colab_type": "code",
        "colab": {
          "base_uri": "https://localhost:8080/",
          "height": 34
        },
        "outputId": "cf30df7b-c036-4f0c-9ed8-c9d26800251b"
      },
      "source": [
        "#Patients surviving over the long term (weekend ICU admission)\n",
        "df_filtered = df_survived[(df_survived.inday_icu_wkd == 'weekend') & (df_survived.death_post_discharge_in_days == 'long_survival')]\n",
        "df_filtered.shape[0]"
      ],
      "execution_count": 64,
      "outputs": [
        {
          "output_type": "execute_result",
          "data": {
            "text/plain": [
              "617"
            ]
          },
          "metadata": {
            "tags": []
          },
          "execution_count": 64
        }
      ]
    },
    {
      "cell_type": "markdown",
      "metadata": {
        "id": "4kwqasfmvkwE",
        "colab_type": "text"
      },
      "source": [
        "#Adding Ethnicity, Marital Status and Insurance Status"
      ]
    },
    {
      "cell_type": "markdown",
      "metadata": {
        "id": "avmp0hpPvpGY",
        "colab_type": "text"
      },
      "source": [
        "##Ethnicity"
      ]
    },
    {
      "cell_type": "code",
      "metadata": {
        "id": "iIpPqVQLvxCo",
        "colab_type": "code",
        "outputId": "9b919cf9-edbb-4d7c-e174-076bd595fb83",
        "colab": {
          "base_uri": "https://localhost:8080/",
          "height": 612
        }
      },
      "source": [
        "data4['ethnicity'].value_counts(dropna=False)"
      ],
      "execution_count": 0,
      "outputs": [
        {
          "output_type": "execute_result",
          "data": {
            "text/plain": [
              "WHITE                                        3125\n",
              "UNKNOWN/NOT SPECIFIED                         362\n",
              "BLACK/AFRICAN AMERICAN                        273\n",
              "HISPANIC OR LATINO                            123\n",
              "OTHER                                         109\n",
              "UNABLE TO OBTAIN                               83\n",
              "ASIAN                                          77\n",
              "PATIENT DECLINED TO ANSWER                     28\n",
              "HISPANIC/LATINO - PUERTO RICAN                 16\n",
              "ASIAN - CHINESE                                16\n",
              "HISPANIC/LATINO - DOMINICAN                    15\n",
              "MULTI RACE ETHNICITY                           10\n",
              "WHITE - RUSSIAN                                 9\n",
              "WHITE - BRAZILIAN                               8\n",
              "BLACK/CAPE VERDEAN                              8\n",
              "PORTUGUESE                                      7\n",
              "WHITE - OTHER EUROPEAN                          7\n",
              "BLACK/HAITIAN                                   7\n",
              "ASIAN - ASIAN INDIAN                            5\n",
              "HISPANIC/LATINO - GUATEMALAN                    4\n",
              "ASIAN - VIETNAMESE                              4\n",
              "HISPANIC/LATINO - COLOMBIAN                     3\n",
              "MIDDLE EASTERN                                  3\n",
              "HISPANIC/LATINO - CUBAN                         3\n",
              "BLACK/AFRICAN                                   2\n",
              "AMERICAN INDIAN/ALASKA NATIVE                   2\n",
              "WHITE - EASTERN EUROPEAN                        2\n",
              "ASIAN - OTHER                                   2\n",
              "NATIVE HAWAIIAN OR OTHER PACIFIC ISLANDER       2\n",
              "ASIAN - FILIPINO                                2\n",
              "ASIAN - CAMBODIAN                               2\n",
              "HISPANIC/LATINO - SALVADORAN                    1\n",
              "ASIAN - KOREAN                                  1\n",
              "ASIAN - JAPANESE                                1\n",
              "Name: ethnicity, dtype: int64"
            ]
          },
          "metadata": {
            "tags": []
          },
          "execution_count": 81
        }
      ]
    },
    {
      "cell_type": "markdown",
      "metadata": {
        "id": "9phwJGPgvynp",
        "colab_type": "text"
      },
      "source": [
        "Ethnicity will be categorised into BLACK, WHITE, OTHER and UNKNOWN. Run the code in the following box using the appropriate terminology."
      ]
    },
    {
      "cell_type": "code",
      "metadata": {
        "id": "JIrgEeLWv9Zo",
        "colab_type": "code",
        "outputId": "0fbfb199-6ac7-4e57-b687-11ec06689065",
        "colab": {
          "base_uri": "https://localhost:8080/",
          "height": 34
        }
      },
      "source": [
        "#Investigate stats\n",
        "#Here, calculating number of patients categorised as 'black' and admitted in the weekend\n",
        "df_filtered = data4[(data4.inday_icu_wkd == 'weekend') & (data4.ethnicity.str.contains('^BLACK'))]\n",
        "df_filtered.shape[0]"
      ],
      "execution_count": 0,
      "outputs": [
        {
          "output_type": "execute_result",
          "data": {
            "text/plain": [
              "65"
            ]
          },
          "metadata": {
            "tags": []
          },
          "execution_count": 84
        }
      ]
    },
    {
      "cell_type": "markdown",
      "metadata": {
        "id": "cs7uo-5jwZRo",
        "colab_type": "text"
      },
      "source": [
        "##Marital Status"
      ]
    },
    {
      "cell_type": "code",
      "metadata": {
        "id": "Sa40-P02w7y_",
        "colab_type": "code",
        "outputId": "861eac05-c48f-42d4-882f-99965591db9a",
        "colab": {
          "base_uri": "https://localhost:8080/",
          "height": 170
        }
      },
      "source": [
        "data4['marital_status'].value_counts(dropna=False)"
      ],
      "execution_count": 0,
      "outputs": [
        {
          "output_type": "execute_result",
          "data": {
            "text/plain": [
              "MARRIED              2257\n",
              "SINGLE                842\n",
              "WIDOWED               585\n",
              "NaN                   337\n",
              "DIVORCED              236\n",
              "UNKNOWN (DEFAULT)      38\n",
              "SEPARATED              25\n",
              "LIFE PARTNER            2\n",
              "Name: marital_status, dtype: int64"
            ]
          },
          "metadata": {
            "tags": []
          },
          "execution_count": 85
        }
      ]
    },
    {
      "cell_type": "code",
      "metadata": {
        "id": "BTt3i2tDw-_Q",
        "colab_type": "code",
        "outputId": "ddabb049-ebca-4ad6-998b-a10efd3b5cbe",
        "colab": {
          "base_uri": "https://localhost:8080/",
          "height": 34
        }
      },
      "source": [
        "#Investigate statistics\n",
        "df_filtered = data4[(data4.inday_icu_wkd == 'weekday') & (data4.marital_status == 'MARRIED')]\n",
        "df_filtered.shape[0]"
      ],
      "execution_count": 0,
      "outputs": [
        {
          "output_type": "execute_result",
          "data": {
            "text/plain": [
              "1737"
            ]
          },
          "metadata": {
            "tags": []
          },
          "execution_count": 88
        }
      ]
    },
    {
      "cell_type": "markdown",
      "metadata": {
        "id": "2AN87LnqxFhP",
        "colab_type": "text"
      },
      "source": [
        "##Insurance"
      ]
    },
    {
      "cell_type": "code",
      "metadata": {
        "id": "9G71QHgmxO6R",
        "colab_type": "code",
        "outputId": "520b00ee-1d83-478a-e706-ea99a4d3af60",
        "colab": {
          "base_uri": "https://localhost:8080/",
          "height": 119
        }
      },
      "source": [
        "data4['insurance'].value_counts(dropna=False)"
      ],
      "execution_count": 0,
      "outputs": [
        {
          "output_type": "execute_result",
          "data": {
            "text/plain": [
              "Medicare      2490\n",
              "Private       1365\n",
              "Medicaid       309\n",
              "Government     102\n",
              "Self Pay        56\n",
              "Name: insurance, dtype: int64"
            ]
          },
          "metadata": {
            "tags": []
          },
          "execution_count": 89
        }
      ]
    },
    {
      "cell_type": "code",
      "metadata": {
        "id": "5Hr8hntPxQnv",
        "colab_type": "code",
        "outputId": "061ea96d-b127-4fca-e25e-f70f22853dc6",
        "colab": {
          "base_uri": "https://localhost:8080/",
          "height": 34
        }
      },
      "source": [
        "#Investigate statistics\n",
        "df_filtered = data4[(data4.inday_icu_wkd == 'weekend') & (data4.insurance == 'Medicaid')]\n",
        "df_filtered.shape[0]"
      ],
      "execution_count": 0,
      "outputs": [
        {
          "output_type": "execute_result",
          "data": {
            "text/plain": [
              "82"
            ]
          },
          "metadata": {
            "tags": []
          },
          "execution_count": 90
        }
      ]
    },
    {
      "cell_type": "markdown",
      "metadata": {
        "id": "m-hr5m8gxXfY",
        "colab_type": "text"
      },
      "source": [
        "#GCS Values"
      ]
    },
    {
      "cell_type": "code",
      "metadata": {
        "id": "T3Q5W61ExbLQ",
        "colab_type": "code",
        "outputId": "622c877e-0807-4cfc-d7c7-325bd355f5f7",
        "colab": {
          "base_uri": "https://localhost:8080/",
          "height": 272
        }
      },
      "source": [
        "data4['mingcs'].value_counts(dropna=False)"
      ],
      "execution_count": 0,
      "outputs": [
        {
          "output_type": "execute_result",
          "data": {
            "text/plain": [
              "15.0    2140\n",
              "14.0     727\n",
              "13.0     288\n",
              "3.0      164\n",
              "12.0     154\n",
              "11.0     152\n",
              "10.0     135\n",
              "7.0      125\n",
              "9.0      115\n",
              "6.0      111\n",
              "8.0      106\n",
              "4.0       43\n",
              "NaN       31\n",
              "5.0       31\n",
              "Name: mingcs, dtype: int64"
            ]
          },
          "metadata": {
            "tags": []
          },
          "execution_count": 91
        }
      ]
    },
    {
      "cell_type": "markdown",
      "metadata": {
        "id": "rDLd7ma1xvBy",
        "colab_type": "text"
      },
      "source": [
        "These are the standards prescribed by the British Medical Journal.\n",
        "\n",
        "Mild -> GCS 13-15\n",
        "\n",
        "Moderate -> GCS 9-12\n",
        "\n",
        "Severe -> GCS 3-8"
      ]
    },
    {
      "cell_type": "code",
      "metadata": {
        "id": "wfgFAxGrx1Di",
        "colab_type": "code",
        "outputId": "6d2c8fc1-80f7-4a9d-9fa9-ffc269a594df",
        "colab": {
          "base_uri": "https://localhost:8080/",
          "height": 731
        }
      },
      "source": [
        "columns = ['gender_x', 'los_hospital', 'admission_age', 'admission_type_x', 'hospital_expire_flag_x', \n",
        "           'los_icu','icustay_expire_flag', 'oasis', 'oasis_prob', 'first_careunit', 'mingcs']\n",
        "\n",
        "groupby = 'inday_icu_wkd'\n",
        "\n",
        "pval = False\n",
        "\n",
        "categorical = ['gender_x','admission_type_x','hospital_expire_flag_x','icustay_expire_flag',\n",
        "               'first_careunit']\n",
        "\n",
        "t = TableOne(data4, columns=columns, categorical=categorical, groupby=groupby, pval=pval)\n",
        "t.tableone"
      ],
      "execution_count": 0,
      "outputs": [
        {
          "output_type": "execute_result",
          "data": {
            "text/html": [
              "<div>\n",
              "<style scoped>\n",
              "    .dataframe tbody tr th:only-of-type {\n",
              "        vertical-align: middle;\n",
              "    }\n",
              "\n",
              "    .dataframe tbody tr th {\n",
              "        vertical-align: top;\n",
              "    }\n",
              "\n",
              "    .dataframe thead tr th {\n",
              "        text-align: left;\n",
              "    }\n",
              "</style>\n",
              "<table border=\"1\" class=\"dataframe\">\n",
              "  <thead>\n",
              "    <tr>\n",
              "      <th></th>\n",
              "      <th></th>\n",
              "      <th colspan=\"3\" halign=\"left\">Grouped by inday_icu_wkd</th>\n",
              "    </tr>\n",
              "    <tr>\n",
              "      <th></th>\n",
              "      <th></th>\n",
              "      <th>Missing</th>\n",
              "      <th>weekday</th>\n",
              "      <th>weekend</th>\n",
              "    </tr>\n",
              "  </thead>\n",
              "  <tbody>\n",
              "    <tr>\n",
              "      <th>n</th>\n",
              "      <th></th>\n",
              "      <td></td>\n",
              "      <td>3336</td>\n",
              "      <td>986</td>\n",
              "    </tr>\n",
              "    <tr>\n",
              "      <th rowspan=\"2\" valign=\"top\">gender_x</th>\n",
              "      <th>F</th>\n",
              "      <td>0</td>\n",
              "      <td>1521 (45.6)</td>\n",
              "      <td>454 (46.0)</td>\n",
              "    </tr>\n",
              "    <tr>\n",
              "      <th>M</th>\n",
              "      <td></td>\n",
              "      <td>1815 (54.4)</td>\n",
              "      <td>532 (54.0)</td>\n",
              "    </tr>\n",
              "    <tr>\n",
              "      <th>los_hospital</th>\n",
              "      <th></th>\n",
              "      <td>0</td>\n",
              "      <td>11.5 (11.7)</td>\n",
              "      <td>11.2 (11.4)</td>\n",
              "    </tr>\n",
              "    <tr>\n",
              "      <th>admission_age</th>\n",
              "      <th></th>\n",
              "      <td>0</td>\n",
              "      <td>67.3 (14.4)</td>\n",
              "      <td>65.8 (15.5)</td>\n",
              "    </tr>\n",
              "    <tr>\n",
              "      <th rowspan=\"3\" valign=\"top\">admission_type_x</th>\n",
              "      <th>ELECTIVE</th>\n",
              "      <td>0</td>\n",
              "      <td>327 (9.8)</td>\n",
              "      <td>12 (1.2)</td>\n",
              "    </tr>\n",
              "    <tr>\n",
              "      <th>EMERGENCY</th>\n",
              "      <td></td>\n",
              "      <td>2939 (88.1)</td>\n",
              "      <td>940 (95.3)</td>\n",
              "    </tr>\n",
              "    <tr>\n",
              "      <th>URGENT</th>\n",
              "      <td></td>\n",
              "      <td>70 (2.1)</td>\n",
              "      <td>34 (3.4)</td>\n",
              "    </tr>\n",
              "    <tr>\n",
              "      <th rowspan=\"2\" valign=\"top\">hospital_expire_flag_x</th>\n",
              "      <th>0</th>\n",
              "      <td>0</td>\n",
              "      <td>2682 (80.4)</td>\n",
              "      <td>721 (73.1)</td>\n",
              "    </tr>\n",
              "    <tr>\n",
              "      <th>1</th>\n",
              "      <td></td>\n",
              "      <td>654 (19.6)</td>\n",
              "      <td>265 (26.9)</td>\n",
              "    </tr>\n",
              "    <tr>\n",
              "      <th>los_icu</th>\n",
              "      <th></th>\n",
              "      <td>0</td>\n",
              "      <td>5.5 (7.4)</td>\n",
              "      <td>5.8 (6.8)</td>\n",
              "    </tr>\n",
              "    <tr>\n",
              "      <th rowspan=\"2\" valign=\"top\">icustay_expire_flag</th>\n",
              "      <th>0</th>\n",
              "      <td>0</td>\n",
              "      <td>2841 (85.2)</td>\n",
              "      <td>795 (80.6)</td>\n",
              "    </tr>\n",
              "    <tr>\n",
              "      <th>1</th>\n",
              "      <td></td>\n",
              "      <td>495 (14.8)</td>\n",
              "      <td>191 (19.4)</td>\n",
              "    </tr>\n",
              "    <tr>\n",
              "      <th>oasis</th>\n",
              "      <th></th>\n",
              "      <td>0</td>\n",
              "      <td>32.0 (8.8)</td>\n",
              "      <td>32.6 (8.5)</td>\n",
              "    </tr>\n",
              "    <tr>\n",
              "      <th>oasis_prob</th>\n",
              "      <th></th>\n",
              "      <td>0</td>\n",
              "      <td>0.2 (0.1)</td>\n",
              "      <td>0.2 (0.1)</td>\n",
              "    </tr>\n",
              "    <tr>\n",
              "      <th rowspan=\"5\" valign=\"top\">first_careunit</th>\n",
              "      <th>CCU</th>\n",
              "      <td>0</td>\n",
              "      <td>375 (11.2)</td>\n",
              "      <td>59 (6.0)</td>\n",
              "    </tr>\n",
              "    <tr>\n",
              "      <th>CSRU</th>\n",
              "      <td></td>\n",
              "      <td>505 (15.1)</td>\n",
              "      <td>46 (4.7)</td>\n",
              "    </tr>\n",
              "    <tr>\n",
              "      <th>MICU</th>\n",
              "      <td></td>\n",
              "      <td>561 (16.8)</td>\n",
              "      <td>188 (19.1)</td>\n",
              "    </tr>\n",
              "    <tr>\n",
              "      <th>SICU</th>\n",
              "      <td></td>\n",
              "      <td>1410 (42.3)</td>\n",
              "      <td>526 (53.3)</td>\n",
              "    </tr>\n",
              "    <tr>\n",
              "      <th>TSICU</th>\n",
              "      <td></td>\n",
              "      <td>485 (14.5)</td>\n",
              "      <td>167 (16.9)</td>\n",
              "    </tr>\n",
              "    <tr>\n",
              "      <th>mingcs</th>\n",
              "      <th></th>\n",
              "      <td>31</td>\n",
              "      <td>12.9 (3.3)</td>\n",
              "      <td>12.6 (3.4)</td>\n",
              "    </tr>\n",
              "  </tbody>\n",
              "</table>\n",
              "</div>"
            ],
            "text/plain": [
              "                                 Grouped by inday_icu_wkd  ...             \n",
              "                                                  Missing  ...      weekend\n",
              "n                                                          ...          986\n",
              "gender_x               F                                0  ...   454 (46.0)\n",
              "                       M                                   ...   532 (54.0)\n",
              "los_hospital                                            0  ...  11.2 (11.4)\n",
              "admission_age                                           0  ...  65.8 (15.5)\n",
              "admission_type_x       ELECTIVE                         0  ...     12 (1.2)\n",
              "                       EMERGENCY                           ...   940 (95.3)\n",
              "                       URGENT                              ...     34 (3.4)\n",
              "hospital_expire_flag_x 0                                0  ...   721 (73.1)\n",
              "                       1                                   ...   265 (26.9)\n",
              "los_icu                                                 0  ...    5.8 (6.8)\n",
              "icustay_expire_flag    0                                0  ...   795 (80.6)\n",
              "                       1                                   ...   191 (19.4)\n",
              "oasis                                                   0  ...   32.6 (8.5)\n",
              "oasis_prob                                              0  ...    0.2 (0.1)\n",
              "first_careunit         CCU                              0  ...     59 (6.0)\n",
              "                       CSRU                                ...     46 (4.7)\n",
              "                       MICU                                ...   188 (19.1)\n",
              "                       SICU                                ...   526 (53.3)\n",
              "                       TSICU                               ...   167 (16.9)\n",
              "mingcs                                                 31  ...   12.6 (3.4)\n",
              "\n",
              "[21 rows x 3 columns]"
            ]
          },
          "metadata": {
            "tags": []
          },
          "execution_count": 92
        }
      ]
    },
    {
      "cell_type": "markdown",
      "metadata": {
        "id": "sZ-4LlmZx_jD",
        "colab_type": "text"
      },
      "source": [
        "#Discharge Destination"
      ]
    },
    {
      "cell_type": "markdown",
      "metadata": {
        "id": "JIB03FjDFFlc",
        "colab_type": "text"
      },
      "source": [
        "##Inclusive of in-house mortality"
      ]
    },
    {
      "cell_type": "code",
      "metadata": {
        "id": "LDxM9afuyc2D",
        "colab_type": "code",
        "outputId": "6451c0d8-d695-428f-e8e7-d6eddfbd60cd",
        "colab": {
          "base_uri": "https://localhost:8080/",
          "height": 272
        }
      },
      "source": [
        "data4['discharge_location'].value_counts(dropna=False)"
      ],
      "execution_count": 0,
      "outputs": [
        {
          "output_type": "execute_result",
          "data": {
            "text/plain": [
              "REHAB/DISTINCT PART HOSP     1227\n",
              "DEAD/EXPIRED                  919\n",
              "HOME                          730\n",
              "HOME HEALTH CARE              574\n",
              "SNF                           465\n",
              "LONG TERM CARE HOSPITAL       239\n",
              "SHORT TERM HOSPITAL            68\n",
              "DISC-TRAN CANCER/CHLDRN H      42\n",
              "HOSPICE-MEDICAL FACILITY       28\n",
              "HOSPICE-HOME                   18\n",
              "LEFT AGAINST MEDICAL ADVI       6\n",
              "DISCH-TRAN TO PSYCH HOSP        4\n",
              "OTHER FACILITY                  1\n",
              "HOME WITH HOME IV PROVIDR       1\n",
              "Name: discharge_location, dtype: int64"
            ]
          },
          "metadata": {
            "tags": []
          },
          "execution_count": 93
        }
      ]
    },
    {
      "cell_type": "code",
      "metadata": {
        "id": "wMDrEqHtyhRD",
        "colab_type": "code",
        "colab": {}
      },
      "source": [
        "#Identify all 'home' categories\n",
        "home = ['HOME', 'HOME HEALTH CARE', 'HOME WITH HOME IV PROVIDR']\n",
        "# The remaining are classified as 'other'"
      ],
      "execution_count": 0,
      "outputs": []
    },
    {
      "cell_type": "code",
      "metadata": {
        "id": "D_50PCw7yltz",
        "colab_type": "code",
        "outputId": "69c44c24-805f-44bf-e6b5-17b5f71e8da3",
        "colab": {
          "base_uri": "https://localhost:8080/",
          "height": 289
        }
      },
      "source": [
        "#Create a binary column with all 'home' categories as 1\n",
        "data4['home_discharge_bool'] = data4.discharge_location.str.contains('^HOME')\n",
        "data4.columns"
      ],
      "execution_count": 0,
      "outputs": [
        {
          "output_type": "execute_result",
          "data": {
            "text/plain": [
              "Index(['subject_id', 'hadm_id', 'icustay_id', 'gender_x', 'admittime_hospital',\n",
              "       'dischtime_hospital', 'los_hospital', 'admission_age',\n",
              "       'admission_type_x', 'hospital_expire_flag_x', 'intime_icu',\n",
              "       'outtime_icu', 'los_icu', 'first_careunit', 'icustay_expire_flag',\n",
              "       'oasis', 'oasis_prob', 'row_id_x', 'seq_num', 'icd9_code', 'row_id_y',\n",
              "       'gender_y', 'dob', 'dod', 'dod_hosp', 'dod_ssn', 'expire_flag',\n",
              "       'row_id', 'admittime', 'dischtime', 'deathtime', 'admission_type_y',\n",
              "       'admission_location', 'discharge_location', 'insurance', 'language',\n",
              "       'religion', 'marital_status', 'ethnicity', 'edregtime', 'edouttime',\n",
              "       'diagnosis', 'hospital_expire_flag_y', 'has_chartevents_data', 'mingcs',\n",
              "       'gcsmotor', 'gcsverbal', 'gcseyes', 'endotrachflag',\n",
              "       'admitday_hospital', 'dischday_hospital', 'inday_icu', 'inday_icu_seq',\n",
              "       'outday_icu', 'inday_icu_wkd', 'survival_time',\n",
              "       'death_post_discharge_in_days', 'survival_time_flag',\n",
              "       'home_discharge_bool'],\n",
              "      dtype='object')"
            ]
          },
          "metadata": {
            "tags": []
          },
          "execution_count": 95
        }
      ]
    },
    {
      "cell_type": "code",
      "metadata": {
        "id": "YKtkr7nyyuCj",
        "colab_type": "code",
        "outputId": "5207c9eb-8c1f-4c6d-9127-dbcbdb65e9f4",
        "colab": {
          "base_uri": "https://localhost:8080/",
          "height": 1000
        }
      },
      "source": [
        "data4.head(20)"
      ],
      "execution_count": 0,
      "outputs": [
        {
          "output_type": "execute_result",
          "data": {
            "text/html": [
              "<div>\n",
              "<style scoped>\n",
              "    .dataframe tbody tr th:only-of-type {\n",
              "        vertical-align: middle;\n",
              "    }\n",
              "\n",
              "    .dataframe tbody tr th {\n",
              "        vertical-align: top;\n",
              "    }\n",
              "\n",
              "    .dataframe thead th {\n",
              "        text-align: right;\n",
              "    }\n",
              "</style>\n",
              "<table border=\"1\" class=\"dataframe\">\n",
              "  <thead>\n",
              "    <tr style=\"text-align: right;\">\n",
              "      <th></th>\n",
              "      <th>subject_id</th>\n",
              "      <th>hadm_id</th>\n",
              "      <th>icustay_id</th>\n",
              "      <th>gender_x</th>\n",
              "      <th>admittime_hospital</th>\n",
              "      <th>dischtime_hospital</th>\n",
              "      <th>los_hospital</th>\n",
              "      <th>admission_age</th>\n",
              "      <th>admission_type_x</th>\n",
              "      <th>hospital_expire_flag_x</th>\n",
              "      <th>intime_icu</th>\n",
              "      <th>outtime_icu</th>\n",
              "      <th>los_icu</th>\n",
              "      <th>first_careunit</th>\n",
              "      <th>icustay_expire_flag</th>\n",
              "      <th>oasis</th>\n",
              "      <th>oasis_prob</th>\n",
              "      <th>row_id_x</th>\n",
              "      <th>seq_num</th>\n",
              "      <th>icd9_code</th>\n",
              "      <th>row_id_y</th>\n",
              "      <th>gender_y</th>\n",
              "      <th>dob</th>\n",
              "      <th>dod</th>\n",
              "      <th>dod_hosp</th>\n",
              "      <th>dod_ssn</th>\n",
              "      <th>expire_flag</th>\n",
              "      <th>row_id</th>\n",
              "      <th>admittime</th>\n",
              "      <th>dischtime</th>\n",
              "      <th>deathtime</th>\n",
              "      <th>admission_type_y</th>\n",
              "      <th>admission_location</th>\n",
              "      <th>discharge_location</th>\n",
              "      <th>insurance</th>\n",
              "      <th>language</th>\n",
              "      <th>religion</th>\n",
              "      <th>marital_status</th>\n",
              "      <th>ethnicity</th>\n",
              "      <th>edregtime</th>\n",
              "      <th>edouttime</th>\n",
              "      <th>diagnosis</th>\n",
              "      <th>hospital_expire_flag_y</th>\n",
              "      <th>has_chartevents_data</th>\n",
              "      <th>mingcs</th>\n",
              "      <th>gcsmotor</th>\n",
              "      <th>gcsverbal</th>\n",
              "      <th>gcseyes</th>\n",
              "      <th>endotrachflag</th>\n",
              "      <th>admitday_hospital</th>\n",
              "      <th>dischday_hospital</th>\n",
              "      <th>inday_icu</th>\n",
              "      <th>inday_icu_seq</th>\n",
              "      <th>outday_icu</th>\n",
              "      <th>inday_icu_wkd</th>\n",
              "      <th>survival_time</th>\n",
              "      <th>death_post_discharge_in_days</th>\n",
              "      <th>survival_time_flag</th>\n",
              "      <th>home_discharge_bool</th>\n",
              "    </tr>\n",
              "  </thead>\n",
              "  <tbody>\n",
              "    <tr>\n",
              "      <th>0</th>\n",
              "      <td>141</td>\n",
              "      <td>168006</td>\n",
              "      <td>234668</td>\n",
              "      <td>M</td>\n",
              "      <td>2140-11-06 11:07:00</td>\n",
              "      <td>2140-11-09 20:36:00</td>\n",
              "      <td>3</td>\n",
              "      <td>80</td>\n",
              "      <td>EMERGENCY</td>\n",
              "      <td>1</td>\n",
              "      <td>2140-11-06 11:09:19</td>\n",
              "      <td>2140-11-09 22:35:29</td>\n",
              "      <td>3.0</td>\n",
              "      <td>MICU</td>\n",
              "      <td>1</td>\n",
              "      <td>53</td>\n",
              "      <td>0.641734</td>\n",
              "      <td>1784.0</td>\n",
              "      <td>2.0</td>\n",
              "      <td>43491</td>\n",
              "      <td>131</td>\n",
              "      <td>M</td>\n",
              "      <td>2060-05-03</td>\n",
              "      <td>2140-11-09</td>\n",
              "      <td>2140-11-09</td>\n",
              "      <td>2140-11-09</td>\n",
              "      <td>1</td>\n",
              "      <td>190</td>\n",
              "      <td>2140-11-06 11:07:00</td>\n",
              "      <td>2140-11-09 20:36:00</td>\n",
              "      <td>2140-11-09 20:36:00</td>\n",
              "      <td>EMERGENCY</td>\n",
              "      <td>EMERGENCY ROOM ADMIT</td>\n",
              "      <td>DEAD/EXPIRED</td>\n",
              "      <td>Medicare</td>\n",
              "      <td>None</td>\n",
              "      <td>OTHER</td>\n",
              "      <td>SINGLE</td>\n",
              "      <td>OTHER</td>\n",
              "      <td>2140-11-06 07:17:00</td>\n",
              "      <td>2140-11-06 12:07:00</td>\n",
              "      <td>DRA, SAH</td>\n",
              "      <td>1</td>\n",
              "      <td>1</td>\n",
              "      <td>14.0</td>\n",
              "      <td>6.0</td>\n",
              "      <td>4.0</td>\n",
              "      <td>4.0</td>\n",
              "      <td>0.0</td>\n",
              "      <td>Sunday</td>\n",
              "      <td>Wednesday</td>\n",
              "      <td>Sunday</td>\n",
              "      <td>6</td>\n",
              "      <td>Wednesday</td>\n",
              "      <td>weekend</td>\n",
              "      <td>-1 days +03:24:00</td>\n",
              "      <td>short_survival</td>\n",
              "      <td>1</td>\n",
              "      <td>False</td>\n",
              "    </tr>\n",
              "    <tr>\n",
              "      <th>1</th>\n",
              "      <td>416</td>\n",
              "      <td>148709</td>\n",
              "      <td>226936</td>\n",
              "      <td>F</td>\n",
              "      <td>2132-07-23 14:46:00</td>\n",
              "      <td>2132-08-11 17:19:00</td>\n",
              "      <td>19</td>\n",
              "      <td>56</td>\n",
              "      <td>EMERGENCY</td>\n",
              "      <td>0</td>\n",
              "      <td>2132-07-23 14:47:03</td>\n",
              "      <td>2132-08-08 17:03:29</td>\n",
              "      <td>16.0</td>\n",
              "      <td>MICU</td>\n",
              "      <td>0</td>\n",
              "      <td>55</td>\n",
              "      <td>0.698023</td>\n",
              "      <td>5023.0</td>\n",
              "      <td>1.0</td>\n",
              "      <td>430</td>\n",
              "      <td>392</td>\n",
              "      <td>F</td>\n",
              "      <td>2076-12-12</td>\n",
              "      <td>2136-11-11</td>\n",
              "      <td>NaT</td>\n",
              "      <td>2136-11-11</td>\n",
              "      <td>1</td>\n",
              "      <td>532</td>\n",
              "      <td>2132-07-23 14:46:00</td>\n",
              "      <td>2132-08-11 17:19:00</td>\n",
              "      <td>NaT</td>\n",
              "      <td>EMERGENCY</td>\n",
              "      <td>EMERGENCY ROOM ADMIT</td>\n",
              "      <td>HOME HEALTH CARE</td>\n",
              "      <td>Medicaid</td>\n",
              "      <td>HAIT</td>\n",
              "      <td>UNOBTAINABLE</td>\n",
              "      <td>MARRIED</td>\n",
              "      <td>BLACK/AFRICAN AMERICAN</td>\n",
              "      <td>2132-07-23 09:26:00</td>\n",
              "      <td>2132-07-23 15:08:00</td>\n",
              "      <td>SAH</td>\n",
              "      <td>0</td>\n",
              "      <td>1</td>\n",
              "      <td>13.0</td>\n",
              "      <td>6.0</td>\n",
              "      <td>4.0</td>\n",
              "      <td>3.0</td>\n",
              "      <td>0.0</td>\n",
              "      <td>Wednesday</td>\n",
              "      <td>Monday</td>\n",
              "      <td>Wednesday</td>\n",
              "      <td>2</td>\n",
              "      <td>Friday</td>\n",
              "      <td>weekday</td>\n",
              "      <td>1552 days 06:41:00</td>\n",
              "      <td>long_survival</td>\n",
              "      <td>0</td>\n",
              "      <td>True</td>\n",
              "    </tr>\n",
              "    <tr>\n",
              "      <th>2</th>\n",
              "      <td>490</td>\n",
              "      <td>166850</td>\n",
              "      <td>222952</td>\n",
              "      <td>M</td>\n",
              "      <td>2199-12-12 19:04:00</td>\n",
              "      <td>2199-12-13 20:33:00</td>\n",
              "      <td>1</td>\n",
              "      <td>87</td>\n",
              "      <td>EMERGENCY</td>\n",
              "      <td>1</td>\n",
              "      <td>2199-12-12 21:15:58</td>\n",
              "      <td>2199-12-13 20:33:59</td>\n",
              "      <td>1.0</td>\n",
              "      <td>SICU</td>\n",
              "      <td>1</td>\n",
              "      <td>58</td>\n",
              "      <td>0.772134</td>\n",
              "      <td>5788.0</td>\n",
              "      <td>1.0</td>\n",
              "      <td>43491</td>\n",
              "      <td>463</td>\n",
              "      <td>M</td>\n",
              "      <td>2112-11-20</td>\n",
              "      <td>2199-12-13</td>\n",
              "      <td>2199-12-13</td>\n",
              "      <td>2199-12-13</td>\n",
              "      <td>1</td>\n",
              "      <td>615</td>\n",
              "      <td>2199-12-12 19:04:00</td>\n",
              "      <td>2199-12-13 20:33:00</td>\n",
              "      <td>2199-12-13 20:33:00</td>\n",
              "      <td>EMERGENCY</td>\n",
              "      <td>EMERGENCY ROOM ADMIT</td>\n",
              "      <td>DEAD/EXPIRED</td>\n",
              "      <td>Medicare</td>\n",
              "      <td>None</td>\n",
              "      <td>UNOBTAINABLE</td>\n",
              "      <td>MARRIED</td>\n",
              "      <td>WHITE</td>\n",
              "      <td>2199-12-12 17:13:00</td>\n",
              "      <td>2199-12-12 22:06:00</td>\n",
              "      <td>CEREBRAL VASCULAR ACCIDENT</td>\n",
              "      <td>1</td>\n",
              "      <td>1</td>\n",
              "      <td>6.0</td>\n",
              "      <td>4.0</td>\n",
              "      <td>1.0</td>\n",
              "      <td>1.0</td>\n",
              "      <td>0.0</td>\n",
              "      <td>Thursday</td>\n",
              "      <td>Friday</td>\n",
              "      <td>Thursday</td>\n",
              "      <td>3</td>\n",
              "      <td>Friday</td>\n",
              "      <td>weekday</td>\n",
              "      <td>-1 days +03:27:00</td>\n",
              "      <td>short_survival</td>\n",
              "      <td>1</td>\n",
              "      <td>False</td>\n",
              "    </tr>\n",
              "    <tr>\n",
              "      <th>3</th>\n",
              "      <td>490</td>\n",
              "      <td>166850</td>\n",
              "      <td>222952</td>\n",
              "      <td>M</td>\n",
              "      <td>2199-12-12 19:04:00</td>\n",
              "      <td>2199-12-13 20:33:00</td>\n",
              "      <td>1</td>\n",
              "      <td>87</td>\n",
              "      <td>EMERGENCY</td>\n",
              "      <td>1</td>\n",
              "      <td>2199-12-12 21:15:58</td>\n",
              "      <td>2199-12-13 20:33:59</td>\n",
              "      <td>1.0</td>\n",
              "      <td>SICU</td>\n",
              "      <td>1</td>\n",
              "      <td>58</td>\n",
              "      <td>0.772134</td>\n",
              "      <td>5789.0</td>\n",
              "      <td>2.0</td>\n",
              "      <td>431</td>\n",
              "      <td>463</td>\n",
              "      <td>M</td>\n",
              "      <td>2112-11-20</td>\n",
              "      <td>2199-12-13</td>\n",
              "      <td>2199-12-13</td>\n",
              "      <td>2199-12-13</td>\n",
              "      <td>1</td>\n",
              "      <td>615</td>\n",
              "      <td>2199-12-12 19:04:00</td>\n",
              "      <td>2199-12-13 20:33:00</td>\n",
              "      <td>2199-12-13 20:33:00</td>\n",
              "      <td>EMERGENCY</td>\n",
              "      <td>EMERGENCY ROOM ADMIT</td>\n",
              "      <td>DEAD/EXPIRED</td>\n",
              "      <td>Medicare</td>\n",
              "      <td>None</td>\n",
              "      <td>UNOBTAINABLE</td>\n",
              "      <td>MARRIED</td>\n",
              "      <td>WHITE</td>\n",
              "      <td>2199-12-12 17:13:00</td>\n",
              "      <td>2199-12-12 22:06:00</td>\n",
              "      <td>CEREBRAL VASCULAR ACCIDENT</td>\n",
              "      <td>1</td>\n",
              "      <td>1</td>\n",
              "      <td>6.0</td>\n",
              "      <td>4.0</td>\n",
              "      <td>1.0</td>\n",
              "      <td>1.0</td>\n",
              "      <td>0.0</td>\n",
              "      <td>Thursday</td>\n",
              "      <td>Friday</td>\n",
              "      <td>Thursday</td>\n",
              "      <td>3</td>\n",
              "      <td>Friday</td>\n",
              "      <td>weekday</td>\n",
              "      <td>-1 days +03:27:00</td>\n",
              "      <td>short_survival</td>\n",
              "      <td>1</td>\n",
              "      <td>False</td>\n",
              "    </tr>\n",
              "    <tr>\n",
              "      <th>4</th>\n",
              "      <td>831</td>\n",
              "      <td>185983</td>\n",
              "      <td>223445</td>\n",
              "      <td>F</td>\n",
              "      <td>2151-06-30 09:44:00</td>\n",
              "      <td>2151-07-15 13:50:00</td>\n",
              "      <td>15</td>\n",
              "      <td>84</td>\n",
              "      <td>EMERGENCY</td>\n",
              "      <td>0</td>\n",
              "      <td>2151-06-30 09:44:47</td>\n",
              "      <td>2151-07-03 18:15:14</td>\n",
              "      <td>3.0</td>\n",
              "      <td>SICU</td>\n",
              "      <td>0</td>\n",
              "      <td>51</td>\n",
              "      <td>0.581248</td>\n",
              "      <td>9671.0</td>\n",
              "      <td>1.0</td>\n",
              "      <td>431</td>\n",
              "      <td>784</td>\n",
              "      <td>F</td>\n",
              "      <td>2067-05-06</td>\n",
              "      <td>2151-09-10</td>\n",
              "      <td>NaT</td>\n",
              "      <td>2151-09-10</td>\n",
              "      <td>1</td>\n",
              "      <td>1031</td>\n",
              "      <td>2151-06-30 09:44:00</td>\n",
              "      <td>2151-07-15 13:50:00</td>\n",
              "      <td>None</td>\n",
              "      <td>EMERGENCY</td>\n",
              "      <td>EMERGENCY ROOM ADMIT</td>\n",
              "      <td>REHAB/DISTINCT PART HOSP</td>\n",
              "      <td>Medicare</td>\n",
              "      <td>None</td>\n",
              "      <td>JEWISH</td>\n",
              "      <td>WIDOWED</td>\n",
              "      <td>WHITE</td>\n",
              "      <td>2151-06-30 08:22:00</td>\n",
              "      <td>2151-06-30 11:10:00</td>\n",
              "      <td>STROKE/TIA</td>\n",
              "      <td>0</td>\n",
              "      <td>1</td>\n",
              "      <td>7.0</td>\n",
              "      <td>4.0</td>\n",
              "      <td>1.0</td>\n",
              "      <td>2.0</td>\n",
              "      <td>0.0</td>\n",
              "      <td>Wednesday</td>\n",
              "      <td>Thursday</td>\n",
              "      <td>Wednesday</td>\n",
              "      <td>2</td>\n",
              "      <td>Saturday</td>\n",
              "      <td>weekday</td>\n",
              "      <td>56 days 10:10:00</td>\n",
              "      <td>short_survival</td>\n",
              "      <td>1</td>\n",
              "      <td>False</td>\n",
              "    </tr>\n",
              "    <tr>\n",
              "      <th>5</th>\n",
              "      <td>1054</td>\n",
              "      <td>183383</td>\n",
              "      <td>288218</td>\n",
              "      <td>M</td>\n",
              "      <td>2157-01-06 17:16:00</td>\n",
              "      <td>2157-01-08 15:00:00</td>\n",
              "      <td>2</td>\n",
              "      <td>79</td>\n",
              "      <td>EMERGENCY</td>\n",
              "      <td>1</td>\n",
              "      <td>2157-01-06 17:17:38</td>\n",
              "      <td>2157-01-07 22:01:06</td>\n",
              "      <td>1.0</td>\n",
              "      <td>SICU</td>\n",
              "      <td>0</td>\n",
              "      <td>51</td>\n",
              "      <td>0.581248</td>\n",
              "      <td>12291.0</td>\n",
              "      <td>1.0</td>\n",
              "      <td>430</td>\n",
              "      <td>998</td>\n",
              "      <td>M</td>\n",
              "      <td>2078-07-15</td>\n",
              "      <td>2157-01-08</td>\n",
              "      <td>2157-01-08</td>\n",
              "      <td>NaT</td>\n",
              "      <td>1</td>\n",
              "      <td>1310</td>\n",
              "      <td>2157-01-06 17:16:00</td>\n",
              "      <td>2157-01-08 15:00:00</td>\n",
              "      <td>2157-01-08 15:00:00</td>\n",
              "      <td>EMERGENCY</td>\n",
              "      <td>EMERGENCY ROOM ADMIT</td>\n",
              "      <td>DEAD/EXPIRED</td>\n",
              "      <td>Medicare</td>\n",
              "      <td>None</td>\n",
              "      <td>PROTESTANT QUAKER</td>\n",
              "      <td>MARRIED</td>\n",
              "      <td>WHITE</td>\n",
              "      <td>2157-01-06 14:49:00</td>\n",
              "      <td>2157-01-06 18:36:00</td>\n",
              "      <td>INTRACRANIAL HEMORRHAGE</td>\n",
              "      <td>1</td>\n",
              "      <td>1</td>\n",
              "      <td>6.0</td>\n",
              "      <td>4.0</td>\n",
              "      <td>1.0</td>\n",
              "      <td>1.0</td>\n",
              "      <td>0.0</td>\n",
              "      <td>Thursday</td>\n",
              "      <td>Saturday</td>\n",
              "      <td>Thursday</td>\n",
              "      <td>3</td>\n",
              "      <td>Friday</td>\n",
              "      <td>weekday</td>\n",
              "      <td>-1 days +09:00:00</td>\n",
              "      <td>short_survival</td>\n",
              "      <td>1</td>\n",
              "      <td>False</td>\n",
              "    </tr>\n",
              "    <tr>\n",
              "      <th>6</th>\n",
              "      <td>1253</td>\n",
              "      <td>129963</td>\n",
              "      <td>246324</td>\n",
              "      <td>F</td>\n",
              "      <td>2138-02-25 07:15:00</td>\n",
              "      <td>2138-03-06 14:00:00</td>\n",
              "      <td>9</td>\n",
              "      <td>58</td>\n",
              "      <td>ELECTIVE</td>\n",
              "      <td>0</td>\n",
              "      <td>2138-02-25 14:45:22</td>\n",
              "      <td>2138-02-26 21:39:17</td>\n",
              "      <td>1.0</td>\n",
              "      <td>SICU</td>\n",
              "      <td>0</td>\n",
              "      <td>13</td>\n",
              "      <td>0.010803</td>\n",
              "      <td>14362.0</td>\n",
              "      <td>3.0</td>\n",
              "      <td>431</td>\n",
              "      <td>1189</td>\n",
              "      <td>F</td>\n",
              "      <td>2080-11-28</td>\n",
              "      <td>NaT</td>\n",
              "      <td>NaT</td>\n",
              "      <td>NaT</td>\n",
              "      <td>0</td>\n",
              "      <td>1543</td>\n",
              "      <td>2138-02-25 07:15:00</td>\n",
              "      <td>2138-03-06 14:00:00</td>\n",
              "      <td>NaT</td>\n",
              "      <td>ELECTIVE</td>\n",
              "      <td>PHYS REFERRAL/NORMAL DELI</td>\n",
              "      <td>HOME</td>\n",
              "      <td>Private</td>\n",
              "      <td>None</td>\n",
              "      <td>JEWISH</td>\n",
              "      <td>MARRIED</td>\n",
              "      <td>WHITE</td>\n",
              "      <td>NaT</td>\n",
              "      <td>NaT</td>\n",
              "      <td>ANEURYSM/SDA</td>\n",
              "      <td>0</td>\n",
              "      <td>1</td>\n",
              "      <td>15.0</td>\n",
              "      <td>6.0</td>\n",
              "      <td>5.0</td>\n",
              "      <td>4.0</td>\n",
              "      <td>0.0</td>\n",
              "      <td>Tuesday</td>\n",
              "      <td>Thursday</td>\n",
              "      <td>Tuesday</td>\n",
              "      <td>1</td>\n",
              "      <td>Wednesday</td>\n",
              "      <td>weekday</td>\n",
              "      <td>NaT</td>\n",
              "      <td>long_survival</td>\n",
              "      <td>0</td>\n",
              "      <td>True</td>\n",
              "    </tr>\n",
              "    <tr>\n",
              "      <th>7</th>\n",
              "      <td>1381</td>\n",
              "      <td>181430</td>\n",
              "      <td>291798</td>\n",
              "      <td>F</td>\n",
              "      <td>2189-01-02 14:25:00</td>\n",
              "      <td>2189-01-02 12:00:00</td>\n",
              "      <td>0</td>\n",
              "      <td>82</td>\n",
              "      <td>EMERGENCY</td>\n",
              "      <td>1</td>\n",
              "      <td>2189-01-02 14:28:39</td>\n",
              "      <td>2189-01-03 01:37:51</td>\n",
              "      <td>1.0</td>\n",
              "      <td>SICU</td>\n",
              "      <td>1</td>\n",
              "      <td>54</td>\n",
              "      <td>0.670490</td>\n",
              "      <td>15799.0</td>\n",
              "      <td>1.0</td>\n",
              "      <td>43300</td>\n",
              "      <td>1313</td>\n",
              "      <td>F</td>\n",
              "      <td>2107-07-15</td>\n",
              "      <td>2189-01-02</td>\n",
              "      <td>2189-01-02</td>\n",
              "      <td>2189-01-02</td>\n",
              "      <td>1</td>\n",
              "      <td>1699</td>\n",
              "      <td>2189-01-02 14:25:00</td>\n",
              "      <td>2189-01-02 12:00:00</td>\n",
              "      <td>2189-01-02 12:00:00</td>\n",
              "      <td>EMERGENCY</td>\n",
              "      <td>EMERGENCY ROOM ADMIT</td>\n",
              "      <td>DEAD/EXPIRED</td>\n",
              "      <td>Medicare</td>\n",
              "      <td>None</td>\n",
              "      <td>UNOBTAINABLE</td>\n",
              "      <td>MARRIED</td>\n",
              "      <td>WHITE</td>\n",
              "      <td>2189-01-02 10:31:00</td>\n",
              "      <td>2189-01-02 15:56:00</td>\n",
              "      <td>STROKE;TELEMETRY</td>\n",
              "      <td>1</td>\n",
              "      <td>1</td>\n",
              "      <td>15.0</td>\n",
              "      <td>3.0</td>\n",
              "      <td>0.0</td>\n",
              "      <td>1.0</td>\n",
              "      <td>1.0</td>\n",
              "      <td>Friday</td>\n",
              "      <td>Friday</td>\n",
              "      <td>Friday</td>\n",
              "      <td>4</td>\n",
              "      <td>Saturday</td>\n",
              "      <td>weekday</td>\n",
              "      <td>-1 days +12:00:00</td>\n",
              "      <td>short_survival</td>\n",
              "      <td>1</td>\n",
              "      <td>False</td>\n",
              "    </tr>\n",
              "    <tr>\n",
              "      <th>8</th>\n",
              "      <td>1609</td>\n",
              "      <td>152284</td>\n",
              "      <td>204311</td>\n",
              "      <td>F</td>\n",
              "      <td>2184-07-23 14:38:00</td>\n",
              "      <td>2184-07-24 15:38:00</td>\n",
              "      <td>1</td>\n",
              "      <td>80</td>\n",
              "      <td>EMERGENCY</td>\n",
              "      <td>1</td>\n",
              "      <td>2184-07-23 14:39:28</td>\n",
              "      <td>2184-07-24 17:58:01</td>\n",
              "      <td>1.0</td>\n",
              "      <td>SICU</td>\n",
              "      <td>1</td>\n",
              "      <td>52</td>\n",
              "      <td>0.611922</td>\n",
              "      <td>18103.0</td>\n",
              "      <td>1.0</td>\n",
              "      <td>4329</td>\n",
              "      <td>1523</td>\n",
              "      <td>F</td>\n",
              "      <td>2104-08-24</td>\n",
              "      <td>2184-07-24</td>\n",
              "      <td>2184-07-24</td>\n",
              "      <td>2184-07-24</td>\n",
              "      <td>1</td>\n",
              "      <td>1960</td>\n",
              "      <td>2184-07-23 14:38:00</td>\n",
              "      <td>2184-07-24 15:38:00</td>\n",
              "      <td>2184-07-24 15:38:00</td>\n",
              "      <td>EMERGENCY</td>\n",
              "      <td>EMERGENCY ROOM ADMIT</td>\n",
              "      <td>DEAD/EXPIRED</td>\n",
              "      <td>Medicare</td>\n",
              "      <td>CANT</td>\n",
              "      <td>OTHER</td>\n",
              "      <td>None</td>\n",
              "      <td>ASIAN</td>\n",
              "      <td>2184-07-23 10:01:00</td>\n",
              "      <td>2184-07-23 15:24:00</td>\n",
              "      <td>INTRACRANIAL HEMORRHAGE</td>\n",
              "      <td>1</td>\n",
              "      <td>1</td>\n",
              "      <td>15.0</td>\n",
              "      <td>1.0</td>\n",
              "      <td>0.0</td>\n",
              "      <td>1.0</td>\n",
              "      <td>1.0</td>\n",
              "      <td>Friday</td>\n",
              "      <td>Saturday</td>\n",
              "      <td>Friday</td>\n",
              "      <td>4</td>\n",
              "      <td>Saturday</td>\n",
              "      <td>weekday</td>\n",
              "      <td>-1 days +08:22:00</td>\n",
              "      <td>short_survival</td>\n",
              "      <td>1</td>\n",
              "      <td>False</td>\n",
              "    </tr>\n",
              "    <tr>\n",
              "      <th>9</th>\n",
              "      <td>2035</td>\n",
              "      <td>146528</td>\n",
              "      <td>216176</td>\n",
              "      <td>M</td>\n",
              "      <td>2191-04-19 21:10:00</td>\n",
              "      <td>2191-05-12 15:00:00</td>\n",
              "      <td>23</td>\n",
              "      <td>67</td>\n",
              "      <td>EMERGENCY</td>\n",
              "      <td>0</td>\n",
              "      <td>2191-04-19 21:13:13</td>\n",
              "      <td>2191-04-22 14:15:48</td>\n",
              "      <td>3.0</td>\n",
              "      <td>CCU</td>\n",
              "      <td>0</td>\n",
              "      <td>56</td>\n",
              "      <td>0.724202</td>\n",
              "      <td>22723.0</td>\n",
              "      <td>5.0</td>\n",
              "      <td>43491</td>\n",
              "      <td>1922</td>\n",
              "      <td>M</td>\n",
              "      <td>2124-01-14</td>\n",
              "      <td>2191-05-13</td>\n",
              "      <td>NaT</td>\n",
              "      <td>2191-05-13</td>\n",
              "      <td>1</td>\n",
              "      <td>2460</td>\n",
              "      <td>2191-04-19 21:10:00</td>\n",
              "      <td>2191-05-12 15:00:00</td>\n",
              "      <td>NaT</td>\n",
              "      <td>EMERGENCY</td>\n",
              "      <td>EMERGENCY ROOM ADMIT</td>\n",
              "      <td>SNF</td>\n",
              "      <td>Medicare</td>\n",
              "      <td>None</td>\n",
              "      <td>UNOBTAINABLE</td>\n",
              "      <td>None</td>\n",
              "      <td>WHITE</td>\n",
              "      <td>2191-04-19 17:27:00</td>\n",
              "      <td>2191-04-19 21:45:00</td>\n",
              "      <td>CONGESTIVE HEART FAILURE</td>\n",
              "      <td>0</td>\n",
              "      <td>1</td>\n",
              "      <td>7.0</td>\n",
              "      <td>4.0</td>\n",
              "      <td>2.0</td>\n",
              "      <td>1.0</td>\n",
              "      <td>0.0</td>\n",
              "      <td>Tuesday</td>\n",
              "      <td>Thursday</td>\n",
              "      <td>Tuesday</td>\n",
              "      <td>1</td>\n",
              "      <td>Friday</td>\n",
              "      <td>weekday</td>\n",
              "      <td>0 days 09:00:00</td>\n",
              "      <td>short_survival</td>\n",
              "      <td>1</td>\n",
              "      <td>False</td>\n",
              "    </tr>\n",
              "    <tr>\n",
              "      <th>10</th>\n",
              "      <td>3232</td>\n",
              "      <td>146611</td>\n",
              "      <td>275841</td>\n",
              "      <td>M</td>\n",
              "      <td>2150-04-06 11:19:00</td>\n",
              "      <td>2150-04-07 19:30:00</td>\n",
              "      <td>1</td>\n",
              "      <td>58</td>\n",
              "      <td>EMERGENCY</td>\n",
              "      <td>1</td>\n",
              "      <td>2150-04-06 11:24:00</td>\n",
              "      <td>2150-04-07 23:17:27</td>\n",
              "      <td>1.0</td>\n",
              "      <td>TSICU</td>\n",
              "      <td>1</td>\n",
              "      <td>58</td>\n",
              "      <td>0.772134</td>\n",
              "      <td>36091.0</td>\n",
              "      <td>9.0</td>\n",
              "      <td>4321</td>\n",
              "      <td>3059</td>\n",
              "      <td>M</td>\n",
              "      <td>2092-08-20</td>\n",
              "      <td>2150-04-07</td>\n",
              "      <td>2150-04-07</td>\n",
              "      <td>NaT</td>\n",
              "      <td>1</td>\n",
              "      <td>3897</td>\n",
              "      <td>2150-04-06 11:19:00</td>\n",
              "      <td>2150-04-07 19:30:00</td>\n",
              "      <td>2150-04-07 19:30:00</td>\n",
              "      <td>EMERGENCY</td>\n",
              "      <td>EMERGENCY ROOM ADMIT</td>\n",
              "      <td>DEAD/EXPIRED</td>\n",
              "      <td>Private</td>\n",
              "      <td>None</td>\n",
              "      <td>UNOBTAINABLE</td>\n",
              "      <td>None</td>\n",
              "      <td>WHITE</td>\n",
              "      <td>2150-04-06 08:16:00</td>\n",
              "      <td>2150-04-06 12:24:00</td>\n",
              "      <td>GI BLEED</td>\n",
              "      <td>1</td>\n",
              "      <td>1</td>\n",
              "      <td>15.0</td>\n",
              "      <td>1.0</td>\n",
              "      <td>0.0</td>\n",
              "      <td>1.0</td>\n",
              "      <td>1.0</td>\n",
              "      <td>Monday</td>\n",
              "      <td>Tuesday</td>\n",
              "      <td>Monday</td>\n",
              "      <td>0</td>\n",
              "      <td>Tuesday</td>\n",
              "      <td>weekday</td>\n",
              "      <td>-1 days +04:30:00</td>\n",
              "      <td>short_survival</td>\n",
              "      <td>1</td>\n",
              "      <td>False</td>\n",
              "    </tr>\n",
              "    <tr>\n",
              "      <th>11</th>\n",
              "      <td>3808</td>\n",
              "      <td>194227</td>\n",
              "      <td>201713</td>\n",
              "      <td>F</td>\n",
              "      <td>2150-11-19 18:16:00</td>\n",
              "      <td>2150-11-30 18:14:00</td>\n",
              "      <td>11</td>\n",
              "      <td>45</td>\n",
              "      <td>URGENT</td>\n",
              "      <td>0</td>\n",
              "      <td>2150-11-26 15:15:55</td>\n",
              "      <td>2150-11-28 18:00:27</td>\n",
              "      <td>2.0</td>\n",
              "      <td>MICU</td>\n",
              "      <td>0</td>\n",
              "      <td>13</td>\n",
              "      <td>0.010803</td>\n",
              "      <td>42063.0</td>\n",
              "      <td>3.0</td>\n",
              "      <td>430</td>\n",
              "      <td>3599</td>\n",
              "      <td>F</td>\n",
              "      <td>2105-03-16</td>\n",
              "      <td>NaT</td>\n",
              "      <td>NaT</td>\n",
              "      <td>NaT</td>\n",
              "      <td>0</td>\n",
              "      <td>4575</td>\n",
              "      <td>2150-11-19 18:16:00</td>\n",
              "      <td>2150-11-30 18:14:00</td>\n",
              "      <td>NaT</td>\n",
              "      <td>URGENT</td>\n",
              "      <td>PHYS REFERRAL/NORMAL DELI</td>\n",
              "      <td>HOME</td>\n",
              "      <td>Private</td>\n",
              "      <td>None</td>\n",
              "      <td>JEWISH</td>\n",
              "      <td>SINGLE</td>\n",
              "      <td>WHITE</td>\n",
              "      <td>NaT</td>\n",
              "      <td>NaT</td>\n",
              "      <td>NORMAL PREGNANCY</td>\n",
              "      <td>0</td>\n",
              "      <td>1</td>\n",
              "      <td>15.0</td>\n",
              "      <td>6.0</td>\n",
              "      <td>5.0</td>\n",
              "      <td>4.0</td>\n",
              "      <td>0.0</td>\n",
              "      <td>Thursday</td>\n",
              "      <td>Monday</td>\n",
              "      <td>Thursday</td>\n",
              "      <td>3</td>\n",
              "      <td>Saturday</td>\n",
              "      <td>weekday</td>\n",
              "      <td>NaT</td>\n",
              "      <td>long_survival</td>\n",
              "      <td>0</td>\n",
              "      <td>True</td>\n",
              "    </tr>\n",
              "    <tr>\n",
              "      <th>12</th>\n",
              "      <td>3831</td>\n",
              "      <td>112264</td>\n",
              "      <td>225380</td>\n",
              "      <td>F</td>\n",
              "      <td>2166-02-11 21:36:00</td>\n",
              "      <td>2166-02-12 12:00:00</td>\n",
              "      <td>1</td>\n",
              "      <td>87</td>\n",
              "      <td>EMERGENCY</td>\n",
              "      <td>1</td>\n",
              "      <td>2166-02-11 21:37:27</td>\n",
              "      <td>2166-02-13 07:38:37</td>\n",
              "      <td>2.0</td>\n",
              "      <td>SICU</td>\n",
              "      <td>1</td>\n",
              "      <td>55</td>\n",
              "      <td>0.698023</td>\n",
              "      <td>42334.0</td>\n",
              "      <td>1.0</td>\n",
              "      <td>431</td>\n",
              "      <td>3622</td>\n",
              "      <td>F</td>\n",
              "      <td>2079-11-28</td>\n",
              "      <td>2166-02-12</td>\n",
              "      <td>2166-02-12</td>\n",
              "      <td>NaT</td>\n",
              "      <td>1</td>\n",
              "      <td>4604</td>\n",
              "      <td>2166-02-11 21:36:00</td>\n",
              "      <td>2166-02-12 12:00:00</td>\n",
              "      <td>2166-02-12 12:00:00</td>\n",
              "      <td>EMERGENCY</td>\n",
              "      <td>EMERGENCY ROOM ADMIT</td>\n",
              "      <td>DEAD/EXPIRED</td>\n",
              "      <td>Medicare</td>\n",
              "      <td>None</td>\n",
              "      <td>UNOBTAINABLE</td>\n",
              "      <td>SINGLE</td>\n",
              "      <td>WHITE</td>\n",
              "      <td>2166-02-11 19:40:00</td>\n",
              "      <td>2166-02-11 22:39:00</td>\n",
              "      <td>HEAD BLEED</td>\n",
              "      <td>1</td>\n",
              "      <td>1</td>\n",
              "      <td>3.0</td>\n",
              "      <td>1.0</td>\n",
              "      <td>1.0</td>\n",
              "      <td>1.0</td>\n",
              "      <td>0.0</td>\n",
              "      <td>Tuesday</td>\n",
              "      <td>Wednesday</td>\n",
              "      <td>Tuesday</td>\n",
              "      <td>1</td>\n",
              "      <td>Thursday</td>\n",
              "      <td>weekday</td>\n",
              "      <td>-1 days +12:00:00</td>\n",
              "      <td>short_survival</td>\n",
              "      <td>1</td>\n",
              "      <td>False</td>\n",
              "    </tr>\n",
              "    <tr>\n",
              "      <th>13</th>\n",
              "      <td>3852</td>\n",
              "      <td>120524</td>\n",
              "      <td>263430</td>\n",
              "      <td>M</td>\n",
              "      <td>2149-12-26 14:48:00</td>\n",
              "      <td>2150-01-01 13:22:00</td>\n",
              "      <td>6</td>\n",
              "      <td>80</td>\n",
              "      <td>EMERGENCY</td>\n",
              "      <td>1</td>\n",
              "      <td>2149-12-26 14:50:09</td>\n",
              "      <td>2150-01-01 17:21:58</td>\n",
              "      <td>6.0</td>\n",
              "      <td>CSRU</td>\n",
              "      <td>1</td>\n",
              "      <td>66</td>\n",
              "      <td>0.903819</td>\n",
              "      <td>42521.0</td>\n",
              "      <td>1.0</td>\n",
              "      <td>43491</td>\n",
              "      <td>3641</td>\n",
              "      <td>M</td>\n",
              "      <td>2069-08-20</td>\n",
              "      <td>2150-01-01</td>\n",
              "      <td>2150-01-01</td>\n",
              "      <td>2150-01-01</td>\n",
              "      <td>1</td>\n",
              "      <td>4625</td>\n",
              "      <td>2149-12-26 14:48:00</td>\n",
              "      <td>2150-01-01 13:22:00</td>\n",
              "      <td>2150-01-01 13:22:00</td>\n",
              "      <td>EMERGENCY</td>\n",
              "      <td>TRANSFER FROM HOSP/EXTRAM</td>\n",
              "      <td>DEAD/EXPIRED</td>\n",
              "      <td>Medicare</td>\n",
              "      <td>HIND</td>\n",
              "      <td>UNOBTAINABLE</td>\n",
              "      <td>WIDOWED</td>\n",
              "      <td>OTHER</td>\n",
              "      <td>NaT</td>\n",
              "      <td>NaT</td>\n",
              "      <td>THORACIC AORTIC ANEURYSM</td>\n",
              "      <td>1</td>\n",
              "      <td>1</td>\n",
              "      <td>3.0</td>\n",
              "      <td>1.0</td>\n",
              "      <td>1.0</td>\n",
              "      <td>1.0</td>\n",
              "      <td>0.0</td>\n",
              "      <td>Friday</td>\n",
              "      <td>Thursday</td>\n",
              "      <td>Friday</td>\n",
              "      <td>4</td>\n",
              "      <td>Thursday</td>\n",
              "      <td>weekday</td>\n",
              "      <td>-1 days +10:38:00</td>\n",
              "      <td>short_survival</td>\n",
              "      <td>1</td>\n",
              "      <td>False</td>\n",
              "    </tr>\n",
              "    <tr>\n",
              "      <th>14</th>\n",
              "      <td>4076</td>\n",
              "      <td>137717</td>\n",
              "      <td>208541</td>\n",
              "      <td>M</td>\n",
              "      <td>2199-12-27 22:51:00</td>\n",
              "      <td>2200-01-07 10:04:00</td>\n",
              "      <td>11</td>\n",
              "      <td>50</td>\n",
              "      <td>EMERGENCY</td>\n",
              "      <td>0</td>\n",
              "      <td>2199-12-28 07:50:00</td>\n",
              "      <td>2200-01-01 21:06:00</td>\n",
              "      <td>4.0</td>\n",
              "      <td>SICU</td>\n",
              "      <td>0</td>\n",
              "      <td>13</td>\n",
              "      <td>0.010803</td>\n",
              "      <td>45636.0</td>\n",
              "      <td>1.0</td>\n",
              "      <td>430</td>\n",
              "      <td>3852</td>\n",
              "      <td>M</td>\n",
              "      <td>2149-11-12</td>\n",
              "      <td>2200-01-28</td>\n",
              "      <td>2200-01-28</td>\n",
              "      <td>2200-01-28</td>\n",
              "      <td>1</td>\n",
              "      <td>4941</td>\n",
              "      <td>2199-12-27 22:51:00</td>\n",
              "      <td>2200-01-07 10:04:00</td>\n",
              "      <td>NaT</td>\n",
              "      <td>EMERGENCY</td>\n",
              "      <td>EMERGENCY ROOM ADMIT</td>\n",
              "      <td>HOME</td>\n",
              "      <td>Private</td>\n",
              "      <td>None</td>\n",
              "      <td>CATHOLIC</td>\n",
              "      <td>MARRIED</td>\n",
              "      <td>UNKNOWN/NOT SPECIFIED</td>\n",
              "      <td>2199-12-27 06:33:00</td>\n",
              "      <td>2199-12-27 11:25:00</td>\n",
              "      <td>SAH</td>\n",
              "      <td>0</td>\n",
              "      <td>1</td>\n",
              "      <td>15.0</td>\n",
              "      <td>6.0</td>\n",
              "      <td>5.0</td>\n",
              "      <td>4.0</td>\n",
              "      <td>0.0</td>\n",
              "      <td>Friday</td>\n",
              "      <td>Tuesday</td>\n",
              "      <td>Saturday</td>\n",
              "      <td>5</td>\n",
              "      <td>Wednesday</td>\n",
              "      <td>weekend</td>\n",
              "      <td>20 days 13:56:00</td>\n",
              "      <td>short_survival</td>\n",
              "      <td>1</td>\n",
              "      <td>True</td>\n",
              "    </tr>\n",
              "    <tr>\n",
              "      <th>15</th>\n",
              "      <td>4339</td>\n",
              "      <td>178315</td>\n",
              "      <td>276382</td>\n",
              "      <td>F</td>\n",
              "      <td>2134-02-16 04:01:00</td>\n",
              "      <td>2134-02-16 12:00:00</td>\n",
              "      <td>0</td>\n",
              "      <td>86</td>\n",
              "      <td>EMERGENCY</td>\n",
              "      <td>1</td>\n",
              "      <td>2134-02-16 04:01:43</td>\n",
              "      <td>2134-02-17 00:37:28</td>\n",
              "      <td>1.0</td>\n",
              "      <td>SICU</td>\n",
              "      <td>1</td>\n",
              "      <td>53</td>\n",
              "      <td>0.641734</td>\n",
              "      <td>48545.0</td>\n",
              "      <td>1.0</td>\n",
              "      <td>430</td>\n",
              "      <td>4102</td>\n",
              "      <td>F</td>\n",
              "      <td>2048-03-21</td>\n",
              "      <td>2134-02-16</td>\n",
              "      <td>2134-02-16</td>\n",
              "      <td>2134-02-16</td>\n",
              "      <td>1</td>\n",
              "      <td>5258</td>\n",
              "      <td>2134-02-16 04:01:00</td>\n",
              "      <td>2134-02-16 12:00:00</td>\n",
              "      <td>2134-02-16 12:00:00</td>\n",
              "      <td>EMERGENCY</td>\n",
              "      <td>EMERGENCY ROOM ADMIT</td>\n",
              "      <td>DEAD/EXPIRED</td>\n",
              "      <td>Medicare</td>\n",
              "      <td>None</td>\n",
              "      <td>CATHOLIC</td>\n",
              "      <td>SINGLE</td>\n",
              "      <td>WHITE</td>\n",
              "      <td>2134-02-16 00:25:00</td>\n",
              "      <td>2134-02-16 04:56:00</td>\n",
              "      <td>SUBARACHNOID HEMORRHAGE,ANEURYSM</td>\n",
              "      <td>1</td>\n",
              "      <td>1</td>\n",
              "      <td>3.0</td>\n",
              "      <td>1.0</td>\n",
              "      <td>1.0</td>\n",
              "      <td>1.0</td>\n",
              "      <td>0.0</td>\n",
              "      <td>Tuesday</td>\n",
              "      <td>Tuesday</td>\n",
              "      <td>Tuesday</td>\n",
              "      <td>1</td>\n",
              "      <td>Wednesday</td>\n",
              "      <td>weekday</td>\n",
              "      <td>-1 days +12:00:00</td>\n",
              "      <td>short_survival</td>\n",
              "      <td>1</td>\n",
              "      <td>False</td>\n",
              "    </tr>\n",
              "    <tr>\n",
              "      <th>16</th>\n",
              "      <td>4759</td>\n",
              "      <td>179664</td>\n",
              "      <td>268219</td>\n",
              "      <td>F</td>\n",
              "      <td>2180-06-19 19:34:00</td>\n",
              "      <td>2180-08-09 18:31:00</td>\n",
              "      <td>51</td>\n",
              "      <td>70</td>\n",
              "      <td>EMERGENCY</td>\n",
              "      <td>0</td>\n",
              "      <td>2180-06-19 19:35:00</td>\n",
              "      <td>2180-07-14 16:31:19</td>\n",
              "      <td>25.0</td>\n",
              "      <td>MICU</td>\n",
              "      <td>0</td>\n",
              "      <td>54</td>\n",
              "      <td>0.670490</td>\n",
              "      <td>52958.0</td>\n",
              "      <td>5.0</td>\n",
              "      <td>43491</td>\n",
              "      <td>4506</td>\n",
              "      <td>F</td>\n",
              "      <td>2110-09-11</td>\n",
              "      <td>NaT</td>\n",
              "      <td>NaT</td>\n",
              "      <td>NaT</td>\n",
              "      <td>0</td>\n",
              "      <td>5756</td>\n",
              "      <td>2180-06-19 19:34:00</td>\n",
              "      <td>2180-08-09 18:31:00</td>\n",
              "      <td>NaT</td>\n",
              "      <td>EMERGENCY</td>\n",
              "      <td>EMERGENCY ROOM ADMIT</td>\n",
              "      <td>SNF</td>\n",
              "      <td>Private</td>\n",
              "      <td>None</td>\n",
              "      <td>NOT SPECIFIED</td>\n",
              "      <td>WIDOWED</td>\n",
              "      <td>BLACK/AFRICAN AMERICAN</td>\n",
              "      <td>2180-06-19 13:24:00</td>\n",
              "      <td>2180-06-19 22:42:00</td>\n",
              "      <td>CONGESTIVE HEART FAILURE;CHRONIC RENAL INSUFFI...</td>\n",
              "      <td>0</td>\n",
              "      <td>1</td>\n",
              "      <td>5.0</td>\n",
              "      <td>1.0</td>\n",
              "      <td>2.0</td>\n",
              "      <td>2.0</td>\n",
              "      <td>0.0</td>\n",
              "      <td>Monday</td>\n",
              "      <td>Wednesday</td>\n",
              "      <td>Monday</td>\n",
              "      <td>0</td>\n",
              "      <td>Friday</td>\n",
              "      <td>weekday</td>\n",
              "      <td>NaT</td>\n",
              "      <td>long_survival</td>\n",
              "      <td>0</td>\n",
              "      <td>False</td>\n",
              "    </tr>\n",
              "    <tr>\n",
              "      <th>17</th>\n",
              "      <td>4988</td>\n",
              "      <td>124961</td>\n",
              "      <td>264875</td>\n",
              "      <td>F</td>\n",
              "      <td>2139-05-27 01:39:00</td>\n",
              "      <td>2139-05-29 01:20:00</td>\n",
              "      <td>2</td>\n",
              "      <td>88</td>\n",
              "      <td>EMERGENCY</td>\n",
              "      <td>1</td>\n",
              "      <td>2139-05-27 01:41:45</td>\n",
              "      <td>2139-05-28 21:17:12</td>\n",
              "      <td>1.0</td>\n",
              "      <td>SICU</td>\n",
              "      <td>0</td>\n",
              "      <td>53</td>\n",
              "      <td>0.641734</td>\n",
              "      <td>55684.0</td>\n",
              "      <td>1.0</td>\n",
              "      <td>43491</td>\n",
              "      <td>4730</td>\n",
              "      <td>F</td>\n",
              "      <td>2051-03-17</td>\n",
              "      <td>2139-05-29</td>\n",
              "      <td>2139-05-29</td>\n",
              "      <td>2139-05-29</td>\n",
              "      <td>1</td>\n",
              "      <td>6051</td>\n",
              "      <td>2139-05-27 01:39:00</td>\n",
              "      <td>2139-05-29 01:20:00</td>\n",
              "      <td>2139-05-29 01:20:00</td>\n",
              "      <td>EMERGENCY</td>\n",
              "      <td>EMERGENCY ROOM ADMIT</td>\n",
              "      <td>DEAD/EXPIRED</td>\n",
              "      <td>Medicare</td>\n",
              "      <td>None</td>\n",
              "      <td>OTHER</td>\n",
              "      <td>WIDOWED</td>\n",
              "      <td>WHITE</td>\n",
              "      <td>2139-05-26 17:58:00</td>\n",
              "      <td>2139-05-27 02:50:00</td>\n",
              "      <td>STATUS EPILEPTICUS</td>\n",
              "      <td>1</td>\n",
              "      <td>1</td>\n",
              "      <td>3.0</td>\n",
              "      <td>1.0</td>\n",
              "      <td>1.0</td>\n",
              "      <td>1.0</td>\n",
              "      <td>0.0</td>\n",
              "      <td>Wednesday</td>\n",
              "      <td>Friday</td>\n",
              "      <td>Wednesday</td>\n",
              "      <td>2</td>\n",
              "      <td>Thursday</td>\n",
              "      <td>weekday</td>\n",
              "      <td>-1 days +22:40:00</td>\n",
              "      <td>short_survival</td>\n",
              "      <td>1</td>\n",
              "      <td>False</td>\n",
              "    </tr>\n",
              "    <tr>\n",
              "      <th>18</th>\n",
              "      <td>5307</td>\n",
              "      <td>168261</td>\n",
              "      <td>213258</td>\n",
              "      <td>M</td>\n",
              "      <td>2147-12-05 13:32:00</td>\n",
              "      <td>2148-01-04 09:43:00</td>\n",
              "      <td>30</td>\n",
              "      <td>73</td>\n",
              "      <td>EMERGENCY</td>\n",
              "      <td>0</td>\n",
              "      <td>2147-12-05 13:33:00</td>\n",
              "      <td>2148-01-04 09:43:00</td>\n",
              "      <td>30.0</td>\n",
              "      <td>CCU</td>\n",
              "      <td>0</td>\n",
              "      <td>52</td>\n",
              "      <td>0.611922</td>\n",
              "      <td>59419.0</td>\n",
              "      <td>1.0</td>\n",
              "      <td>431</td>\n",
              "      <td>5030</td>\n",
              "      <td>M</td>\n",
              "      <td>2074-11-18</td>\n",
              "      <td>2152-08-26</td>\n",
              "      <td>NaT</td>\n",
              "      <td>2152-08-26</td>\n",
              "      <td>1</td>\n",
              "      <td>6455</td>\n",
              "      <td>2147-12-05 13:32:00</td>\n",
              "      <td>2148-01-04 09:43:00</td>\n",
              "      <td>None</td>\n",
              "      <td>EMERGENCY</td>\n",
              "      <td>EMERGENCY ROOM ADMIT</td>\n",
              "      <td>DISC-TRAN CANCER/CHLDRN H</td>\n",
              "      <td>Medicare</td>\n",
              "      <td>None</td>\n",
              "      <td>JEWISH</td>\n",
              "      <td>MARRIED</td>\n",
              "      <td>WHITE</td>\n",
              "      <td>2147-12-05 09:14:00</td>\n",
              "      <td>2147-12-05 14:37:00</td>\n",
              "      <td>ICH</td>\n",
              "      <td>0</td>\n",
              "      <td>1</td>\n",
              "      <td>6.0</td>\n",
              "      <td>4.0</td>\n",
              "      <td>1.0</td>\n",
              "      <td>1.0</td>\n",
              "      <td>0.0</td>\n",
              "      <td>Tuesday</td>\n",
              "      <td>Thursday</td>\n",
              "      <td>Tuesday</td>\n",
              "      <td>1</td>\n",
              "      <td>Thursday</td>\n",
              "      <td>weekday</td>\n",
              "      <td>1695 days 14:17:00</td>\n",
              "      <td>long_survival</td>\n",
              "      <td>0</td>\n",
              "      <td>False</td>\n",
              "    </tr>\n",
              "    <tr>\n",
              "      <th>19</th>\n",
              "      <td>5659</td>\n",
              "      <td>182307</td>\n",
              "      <td>283858</td>\n",
              "      <td>M</td>\n",
              "      <td>2149-09-17 21:03:00</td>\n",
              "      <td>2149-10-09 16:40:00</td>\n",
              "      <td>22</td>\n",
              "      <td>81</td>\n",
              "      <td>EMERGENCY</td>\n",
              "      <td>0</td>\n",
              "      <td>2149-09-23 10:28:21</td>\n",
              "      <td>2149-10-03 16:45:43</td>\n",
              "      <td>10.0</td>\n",
              "      <td>CSRU</td>\n",
              "      <td>0</td>\n",
              "      <td>51</td>\n",
              "      <td>0.581248</td>\n",
              "      <td>63256.0</td>\n",
              "      <td>3.0</td>\n",
              "      <td>43411</td>\n",
              "      <td>5357</td>\n",
              "      <td>M</td>\n",
              "      <td>2068-03-11</td>\n",
              "      <td>NaT</td>\n",
              "      <td>NaT</td>\n",
              "      <td>NaT</td>\n",
              "      <td>0</td>\n",
              "      <td>6879</td>\n",
              "      <td>2149-09-17 21:03:00</td>\n",
              "      <td>2149-10-09 16:40:00</td>\n",
              "      <td>None</td>\n",
              "      <td>EMERGENCY</td>\n",
              "      <td>EMERGENCY ROOM ADMIT</td>\n",
              "      <td>REHAB/DISTINCT PART HOSP</td>\n",
              "      <td>Medicare</td>\n",
              "      <td>None</td>\n",
              "      <td>CATHOLIC</td>\n",
              "      <td>MARRIED</td>\n",
              "      <td>WHITE</td>\n",
              "      <td>2149-09-17 12:26:00</td>\n",
              "      <td>2149-09-17 22:45:00</td>\n",
              "      <td>AORTIC VALVE MALFUNCTIONING</td>\n",
              "      <td>0</td>\n",
              "      <td>1</td>\n",
              "      <td>8.0</td>\n",
              "      <td>5.0</td>\n",
              "      <td>1.0</td>\n",
              "      <td>2.0</td>\n",
              "      <td>0.0</td>\n",
              "      <td>Wednesday</td>\n",
              "      <td>Thursday</td>\n",
              "      <td>Tuesday</td>\n",
              "      <td>1</td>\n",
              "      <td>Friday</td>\n",
              "      <td>weekday</td>\n",
              "      <td>NaT</td>\n",
              "      <td>long_survival</td>\n",
              "      <td>0</td>\n",
              "      <td>False</td>\n",
              "    </tr>\n",
              "  </tbody>\n",
              "</table>\n",
              "</div>"
            ],
            "text/plain": [
              "    subject_id  hadm_id  ...  survival_time_flag home_discharge_bool\n",
              "0          141   168006  ...                   1               False\n",
              "1          416   148709  ...                   0                True\n",
              "2          490   166850  ...                   1               False\n",
              "3          490   166850  ...                   1               False\n",
              "4          831   185983  ...                   1               False\n",
              "5         1054   183383  ...                   1               False\n",
              "6         1253   129963  ...                   0                True\n",
              "7         1381   181430  ...                   1               False\n",
              "8         1609   152284  ...                   1               False\n",
              "9         2035   146528  ...                   1               False\n",
              "10        3232   146611  ...                   1               False\n",
              "11        3808   194227  ...                   0                True\n",
              "12        3831   112264  ...                   1               False\n",
              "13        3852   120524  ...                   1               False\n",
              "14        4076   137717  ...                   1                True\n",
              "15        4339   178315  ...                   1               False\n",
              "16        4759   179664  ...                   0               False\n",
              "17        4988   124961  ...                   1               False\n",
              "18        5307   168261  ...                   0               False\n",
              "19        5659   182307  ...                   0               False\n",
              "\n",
              "[20 rows x 59 columns]"
            ]
          },
          "metadata": {
            "tags": []
          },
          "execution_count": 96
        }
      ]
    },
    {
      "cell_type": "code",
      "metadata": {
        "id": "h_ZpN2WQywx0",
        "colab_type": "code",
        "outputId": "ec16d5a6-5ea1-48db-9c02-324e2473e0ce",
        "colab": {
          "base_uri": "https://localhost:8080/",
          "height": 34
        }
      },
      "source": [
        "#True=discharged for home - Weekday\n",
        "df_filtered = data4[(data4.inday_icu_wkd == 'weekday') & (data4.home_discharge_bool == True)] \n",
        "df_filtered.shape[0]"
      ],
      "execution_count": 41,
      "outputs": [
        {
          "output_type": "execute_result",
          "data": {
            "text/plain": [
              "1051"
            ]
          },
          "metadata": {
            "tags": []
          },
          "execution_count": 41
        }
      ]
    },
    {
      "cell_type": "code",
      "metadata": {
        "id": "7i0RPYuvWOQc",
        "colab_type": "code",
        "colab": {
          "base_uri": "https://localhost:8080/",
          "height": 34
        },
        "outputId": "d0fe6131-7f2b-4702-9e99-881efb52ee8c"
      },
      "source": [
        "#False=discharged for home - Weekend\n",
        "df_filtered = data4[(data4.inday_icu_wkd == 'weekend') & (data4.home_discharge_bool == True)] \n",
        "df_filtered.shape[0]"
      ],
      "execution_count": 42,
      "outputs": [
        {
          "output_type": "execute_result",
          "data": {
            "text/plain": [
              "254"
            ]
          },
          "metadata": {
            "tags": []
          },
          "execution_count": 42
        }
      ]
    },
    {
      "cell_type": "code",
      "metadata": {
        "id": "zK7HcOreWa_r",
        "colab_type": "code",
        "colab": {
          "base_uri": "https://localhost:8080/",
          "height": 34
        },
        "outputId": "a0539e82-5b1c-4c76-a741-ba7850741b05"
      },
      "source": [
        "#True=discharged for other facilities - Weekday\n",
        "df_filtered = data4[(data4.inday_icu_wkd == 'weekday') & (data4.home_discharge_bool == False)] \n",
        "df_filtered.shape[0]"
      ],
      "execution_count": 43,
      "outputs": [
        {
          "output_type": "execute_result",
          "data": {
            "text/plain": [
              "2285"
            ]
          },
          "metadata": {
            "tags": []
          },
          "execution_count": 43
        }
      ]
    },
    {
      "cell_type": "code",
      "metadata": {
        "id": "tGqy57n7WvG_",
        "colab_type": "code",
        "colab": {
          "base_uri": "https://localhost:8080/",
          "height": 34
        },
        "outputId": "24ec5464-e15d-42de-b592-e0167519907a"
      },
      "source": [
        "#True=discharged for other facilities - Weekend\n",
        "df_filtered = data4[(data4.inday_icu_wkd == 'weekend') & (data4.home_discharge_bool == False)] \n",
        "df_filtered.shape[0]"
      ],
      "execution_count": 44,
      "outputs": [
        {
          "output_type": "execute_result",
          "data": {
            "text/plain": [
              "732"
            ]
          },
          "metadata": {
            "tags": []
          },
          "execution_count": 44
        }
      ]
    },
    {
      "cell_type": "code",
      "metadata": {
        "colab_type": "code",
        "outputId": "595bd9d8-132a-4d4d-c041-f349903e9b07",
        "id": "OjKAxT47FMGn",
        "colab": {
          "base_uri": "https://localhost:8080/",
          "height": 336
        }
      },
      "source": [
        "#Excluding age>300\n",
        "#For ICU mortality adjusting for admission type, age and sex\n",
        "adj_glm = smf.glm('home_discharge_bool ~ C(inday_icu_wkd) + C(admission_type_x) + admission_age +C(gender_x)', \n",
        "                     data=data4, family=sm.families.Binomial()).fit()\n",
        "adj_glm.summary2()\n",
        "# drop1(adj.glm,test=\"Chisq\")"
      ],
      "execution_count": 0,
      "outputs": [
        {
          "output_type": "execute_result",
          "data": {
            "text/html": [
              "<table class=\"simpletable\">\n",
              "<tr>\n",
              "        <td>Model:</td>                                    <td>GLM</td>                                  <td>AIC:</td>        <td>4961.6804</td> \n",
              "</tr>\n",
              "<tr>\n",
              "    <td>Link Function:</td>                               <td>logit</td>                                 <td>BIC:</td>       <td>-31181.5994</td>\n",
              "</tr>\n",
              "<tr>\n",
              "  <td>Dependent Variable:</td> <td>['home_discharge_bool[False]', 'home_discharge_bool[True]']</td> <td>Log-Likelihood:</td>   <td>-2474.8</td>  \n",
              "</tr>\n",
              "<tr>\n",
              "         <td>Date:</td>                             <td>2020-01-21 01:51</td>                          <td>LL-Null:</td>       <td>-2647.2</td>  \n",
              "</tr>\n",
              "<tr>\n",
              "   <td>No. Observations:</td>                             <td>4322</td>                                <td>Deviance:</td>      <td>4949.7</td>   \n",
              "</tr>\n",
              "<tr>\n",
              "       <td>Df Model:</td>                                   <td>5</td>                               <td>Pearson chi2:</td>   <td>4.27e+03</td>  \n",
              "</tr>\n",
              "<tr>\n",
              "     <td>Df Residuals:</td>                               <td>4316</td>                                 <td>Scale:</td>        <td>1.0000</td>   \n",
              "</tr>\n",
              "<tr>\n",
              "        <td>Method:</td>                                  <td>IRLS</td>                                    <td></td>              <td></td>      \n",
              "</tr>\n",
              "</table>\n",
              "<table class=\"simpletable\">\n",
              "<tr>\n",
              "                  <td></td>                  <th>Coef.</th>  <th>Std.Err.</th>     <th>z</th>     <th>P>|z|</th> <th>[0.025</th>  <th>0.975]</th> \n",
              "</tr>\n",
              "<tr>\n",
              "  <th>Intercept</th>                        <td>-2.6489</td>  <td>0.2066</td>  <td>-12.8240</td> <td>0.0000</td> <td>-3.0537</td> <td>-2.2440</td>\n",
              "</tr>\n",
              "<tr>\n",
              "  <th>C(inday_icu_wkd)[T.weekend]</th>      <td>0.2485</td>   <td>0.0859</td>   <td>2.8920</td>  <td>0.0038</td> <td>0.0801</td>  <td>0.4169</td> \n",
              "</tr>\n",
              "<tr>\n",
              "  <th>C(admission_type_x)[T.EMERGENCY]</th> <td>1.2226</td>   <td>0.1191</td>   <td>10.2619</td> <td>0.0000</td> <td>0.9891</td>  <td>1.4561</td> \n",
              "</tr>\n",
              "<tr>\n",
              "  <th>C(admission_type_x)[T.URGENT]</th>    <td>0.9227</td>   <td>0.2422</td>   <td>3.8098</td>  <td>0.0001</td> <td>0.4480</td>  <td>1.3974</td> \n",
              "</tr>\n",
              "<tr>\n",
              "  <th>C(gender_x)[T.M]</th>                 <td>-0.0908</td>  <td>0.0697</td>   <td>-1.3026</td> <td>0.1927</td> <td>-0.2275</td> <td>0.0458</td> \n",
              "</tr>\n",
              "<tr>\n",
              "  <th>admission_age</th>                    <td>0.0362</td>   <td>0.0024</td>   <td>15.3572</td> <td>0.0000</td> <td>0.0316</td>  <td>0.0409</td> \n",
              "</tr>\n",
              "</table>"
            ],
            "text/plain": [
              "<class 'statsmodels.iolib.summary2.Summary'>\n",
              "\"\"\"\n",
              "                                     Results: Generalized linear model\n",
              "===========================================================================================================\n",
              "Model:              GLM                                                         AIC:            4961.6804  \n",
              "Link Function:      logit                                                       BIC:            -31181.5994\n",
              "Dependent Variable: ['home_discharge_bool[False]', 'home_discharge_bool[True]'] Log-Likelihood: -2474.8    \n",
              "Date:               2020-01-21 01:51                                            LL-Null:        -2647.2    \n",
              "No. Observations:   4322                                                        Deviance:       4949.7     \n",
              "Df Model:           5                                                           Pearson chi2:   4.27e+03   \n",
              "Df Residuals:       4316                                                        Scale:          1.0000     \n",
              "Method:             IRLS                                                                                   \n",
              "----------------------------------------------------------------------------------------------------------------\n",
              "                                        Coef.       Std.Err.         z          P>|z|        [0.025       0.975]\n",
              "----------------------------------------------------------------------------------------------------------------\n",
              "Intercept                              -2.6489        0.2066      -12.8240      0.0000      -3.0537      -2.2440\n",
              "C(inday_icu_wkd)[T.weekend]             0.2485        0.0859        2.8920      0.0038       0.0801       0.4169\n",
              "C(admission_type_x)[T.EMERGENCY]        1.2226        0.1191       10.2619      0.0000       0.9891       1.4561\n",
              "C(admission_type_x)[T.URGENT]           0.9227        0.2422        3.8098      0.0001       0.4480       1.3974\n",
              "C(gender_x)[T.M]                       -0.0908        0.0697       -1.3026      0.1927      -0.2275       0.0458\n",
              "admission_age                           0.0362        0.0024       15.3572      0.0000       0.0316       0.0409\n",
              "===========================================================================================================\n",
              "\n",
              "\"\"\""
            ]
          },
          "metadata": {
            "tags": []
          },
          "execution_count": 98
        }
      ]
    },
    {
      "cell_type": "markdown",
      "metadata": {
        "id": "wHDik8ZOFNIp",
        "colab_type": "text"
      },
      "source": [
        "##Exclusive of in-house mortality\n",
        "The statistics of only those who were discharged alive"
      ]
    },
    {
      "cell_type": "code",
      "metadata": {
        "id": "AxeIeStgJqyc",
        "colab_type": "code",
        "colab": {
          "base_uri": "https://localhost:8080/",
          "height": 204
        },
        "outputId": "bb3793df-802b-4346-a09e-646b59f571fa"
      },
      "source": [
        "#Verify resulting DF\n",
        "df_survived[['discharge_location', 'home_discharge_bool', 'inday_icu_wkd']].head()"
      ],
      "execution_count": 31,
      "outputs": [
        {
          "output_type": "execute_result",
          "data": {
            "text/html": [
              "<div>\n",
              "<style scoped>\n",
              "    .dataframe tbody tr th:only-of-type {\n",
              "        vertical-align: middle;\n",
              "    }\n",
              "\n",
              "    .dataframe tbody tr th {\n",
              "        vertical-align: top;\n",
              "    }\n",
              "\n",
              "    .dataframe thead th {\n",
              "        text-align: right;\n",
              "    }\n",
              "</style>\n",
              "<table border=\"1\" class=\"dataframe\">\n",
              "  <thead>\n",
              "    <tr style=\"text-align: right;\">\n",
              "      <th></th>\n",
              "      <th>discharge_location</th>\n",
              "      <th>home_discharge_bool</th>\n",
              "      <th>inday_icu_wkd</th>\n",
              "    </tr>\n",
              "  </thead>\n",
              "  <tbody>\n",
              "    <tr>\n",
              "      <th>1</th>\n",
              "      <td>HOME HEALTH CARE</td>\n",
              "      <td>1.0</td>\n",
              "      <td>weekday</td>\n",
              "    </tr>\n",
              "    <tr>\n",
              "      <th>4</th>\n",
              "      <td>REHAB/DISTINCT PART HOSP</td>\n",
              "      <td>0.0</td>\n",
              "      <td>weekday</td>\n",
              "    </tr>\n",
              "    <tr>\n",
              "      <th>6</th>\n",
              "      <td>HOME</td>\n",
              "      <td>1.0</td>\n",
              "      <td>weekday</td>\n",
              "    </tr>\n",
              "    <tr>\n",
              "      <th>9</th>\n",
              "      <td>SNF</td>\n",
              "      <td>0.0</td>\n",
              "      <td>weekday</td>\n",
              "    </tr>\n",
              "    <tr>\n",
              "      <th>11</th>\n",
              "      <td>HOME</td>\n",
              "      <td>1.0</td>\n",
              "      <td>weekday</td>\n",
              "    </tr>\n",
              "  </tbody>\n",
              "</table>\n",
              "</div>"
            ],
            "text/plain": [
              "          discharge_location  home_discharge_bool inday_icu_wkd\n",
              "1           HOME HEALTH CARE                  1.0       weekday\n",
              "4   REHAB/DISTINCT PART HOSP                  0.0       weekday\n",
              "6                       HOME                  1.0       weekday\n",
              "9                        SNF                  0.0       weekday\n",
              "11                      HOME                  1.0       weekday"
            ]
          },
          "metadata": {
            "tags": []
          },
          "execution_count": 31
        }
      ]
    },
    {
      "cell_type": "markdown",
      "metadata": {
        "id": "HZukVnDmMD0s",
        "colab_type": "text"
      },
      "source": [
        "###Summary"
      ]
    },
    {
      "cell_type": "code",
      "metadata": {
        "id": "bq7bofx_MHFZ",
        "colab_type": "code",
        "colab": {
          "base_uri": "https://localhost:8080/",
          "height": 34
        },
        "outputId": "37feedc0-cf87-4ce6-ffdf-c4ca024c350d"
      },
      "source": [
        "#Surviving patients discharged for home (weekday ICU admission)\n",
        "df_filtered = df_survived[(df_survived.inday_icu_wkd == 'weekday') & (df_survived.home_discharge_bool == True)] \n",
        "df_filtered.shape[0]"
      ],
      "execution_count": 40,
      "outputs": [
        {
          "output_type": "execute_result",
          "data": {
            "text/plain": [
              "1051"
            ]
          },
          "metadata": {
            "tags": []
          },
          "execution_count": 40
        }
      ]
    },
    {
      "cell_type": "code",
      "metadata": {
        "id": "wA3tgSPSMM86",
        "colab_type": "code",
        "colab": {
          "base_uri": "https://localhost:8080/",
          "height": 34
        },
        "outputId": "ef7c425b-ac40-4ffc-b3f1-6ebd74f03421"
      },
      "source": [
        "#Surviving patients discharged for home (weekend ICU admission)\n",
        "df_filtered = df_survived[(df_survived.inday_icu_wkd == 'weekend') & (df_survived.home_discharge_bool == True)] \n",
        "df_filtered.shape[0]"
      ],
      "execution_count": 37,
      "outputs": [
        {
          "output_type": "execute_result",
          "data": {
            "text/plain": [
              "254"
            ]
          },
          "metadata": {
            "tags": []
          },
          "execution_count": 37
        }
      ]
    },
    {
      "cell_type": "code",
      "metadata": {
        "id": "LtblkXa_MQap",
        "colab_type": "code",
        "colab": {
          "base_uri": "https://localhost:8080/",
          "height": 34
        },
        "outputId": "06852367-7b20-4d77-eb58-2208f23246e3"
      },
      "source": [
        "#Surviving patients discharged for other facilities (weekday ICU admission)\n",
        "df_filtered = df_survived[(df_survived.inday_icu_wkd == 'weekday') & (df_survived.home_discharge_bool == False)] \n",
        "df_filtered.shape[0]"
      ],
      "execution_count": 38,
      "outputs": [
        {
          "output_type": "execute_result",
          "data": {
            "text/plain": [
              "1631"
            ]
          },
          "metadata": {
            "tags": []
          },
          "execution_count": 38
        }
      ]
    },
    {
      "cell_type": "code",
      "metadata": {
        "id": "74XsLgThMZD7",
        "colab_type": "code",
        "colab": {
          "base_uri": "https://localhost:8080/",
          "height": 34
        },
        "outputId": "b9dd343f-c6f0-4baa-b39a-00e00e5eed8d"
      },
      "source": [
        "#Surviving patients discharged for other facilities (weekend ICU admission)\n",
        "df_filtered = df_survived[(df_survived.inday_icu_wkd == 'weekend') & (df_survived.home_discharge_bool == False)] \n",
        "df_filtered.shape[0]"
      ],
      "execution_count": 39,
      "outputs": [
        {
          "output_type": "execute_result",
          "data": {
            "text/plain": [
              "467"
            ]
          },
          "metadata": {
            "tags": []
          },
          "execution_count": 39
        }
      ]
    },
    {
      "cell_type": "markdown",
      "metadata": {
        "id": "X_QgRci-zAuz",
        "colab_type": "text"
      },
      "source": [
        "#Grouping Emergency and Elective into one category"
      ]
    },
    {
      "cell_type": "code",
      "metadata": {
        "id": "tP5gU-16zHRT",
        "colab_type": "code",
        "outputId": "2af8fdaa-e3fd-4bda-aa2e-896e28aea990",
        "colab": {
          "base_uri": "https://localhost:8080/",
          "height": 85
        }
      },
      "source": [
        "data4['admission_type_x'].value_counts(dropna=False)"
      ],
      "execution_count": 0,
      "outputs": [
        {
          "output_type": "execute_result",
          "data": {
            "text/plain": [
              "EMERGENCY    3879\n",
              "ELECTIVE      339\n",
              "URGENT        104\n",
              "Name: admission_type_x, dtype: int64"
            ]
          },
          "metadata": {
            "tags": []
          },
          "execution_count": 99
        }
      ]
    },
    {
      "cell_type": "code",
      "metadata": {
        "id": "x1E4I-60zeo1",
        "colab_type": "code",
        "outputId": "7d9112c3-d0e0-40d3-8e81-31eae7475f5b",
        "colab": {
          "base_uri": "https://localhost:8080/",
          "height": 221
        }
      },
      "source": [
        "#admission_type_x\n",
        "data4.admission_type_x.str.contains('EMERGENCY')"
      ],
      "execution_count": 0,
      "outputs": [
        {
          "output_type": "execute_result",
          "data": {
            "text/plain": [
              "0       True\n",
              "1       True\n",
              "2       True\n",
              "3       True\n",
              "4       True\n",
              "        ... \n",
              "4317    True\n",
              "4318    True\n",
              "4319    True\n",
              "4320    True\n",
              "4321    True\n",
              "Name: admission_type_x, Length: 4322, dtype: bool"
            ]
          },
          "metadata": {
            "tags": []
          },
          "execution_count": 100
        }
      ]
    },
    {
      "cell_type": "code",
      "metadata": {
        "id": "ZZU7uTmbzhsI",
        "colab_type": "code",
        "outputId": "7ec43786-2044-428c-ab12-4436356210cd",
        "colab": {
          "base_uri": "https://localhost:8080/",
          "height": 1000
        }
      },
      "source": [
        "data4['adm_type_2'] = np.where(data4.admission_type_x == 'ELECTIVE', 'elective', 'emergency')\n",
        "data4.head(20)"
      ],
      "execution_count": 0,
      "outputs": [
        {
          "output_type": "execute_result",
          "data": {
            "text/html": [
              "<div>\n",
              "<style scoped>\n",
              "    .dataframe tbody tr th:only-of-type {\n",
              "        vertical-align: middle;\n",
              "    }\n",
              "\n",
              "    .dataframe tbody tr th {\n",
              "        vertical-align: top;\n",
              "    }\n",
              "\n",
              "    .dataframe thead th {\n",
              "        text-align: right;\n",
              "    }\n",
              "</style>\n",
              "<table border=\"1\" class=\"dataframe\">\n",
              "  <thead>\n",
              "    <tr style=\"text-align: right;\">\n",
              "      <th></th>\n",
              "      <th>subject_id</th>\n",
              "      <th>hadm_id</th>\n",
              "      <th>icustay_id</th>\n",
              "      <th>gender_x</th>\n",
              "      <th>admittime_hospital</th>\n",
              "      <th>dischtime_hospital</th>\n",
              "      <th>los_hospital</th>\n",
              "      <th>admission_age</th>\n",
              "      <th>admission_type_x</th>\n",
              "      <th>hospital_expire_flag_x</th>\n",
              "      <th>intime_icu</th>\n",
              "      <th>outtime_icu</th>\n",
              "      <th>los_icu</th>\n",
              "      <th>first_careunit</th>\n",
              "      <th>icustay_expire_flag</th>\n",
              "      <th>oasis</th>\n",
              "      <th>oasis_prob</th>\n",
              "      <th>row_id_x</th>\n",
              "      <th>seq_num</th>\n",
              "      <th>icd9_code</th>\n",
              "      <th>row_id_y</th>\n",
              "      <th>gender_y</th>\n",
              "      <th>dob</th>\n",
              "      <th>dod</th>\n",
              "      <th>dod_hosp</th>\n",
              "      <th>dod_ssn</th>\n",
              "      <th>expire_flag</th>\n",
              "      <th>row_id</th>\n",
              "      <th>admittime</th>\n",
              "      <th>dischtime</th>\n",
              "      <th>deathtime</th>\n",
              "      <th>admission_type_y</th>\n",
              "      <th>admission_location</th>\n",
              "      <th>discharge_location</th>\n",
              "      <th>insurance</th>\n",
              "      <th>language</th>\n",
              "      <th>religion</th>\n",
              "      <th>marital_status</th>\n",
              "      <th>ethnicity</th>\n",
              "      <th>edregtime</th>\n",
              "      <th>edouttime</th>\n",
              "      <th>diagnosis</th>\n",
              "      <th>hospital_expire_flag_y</th>\n",
              "      <th>has_chartevents_data</th>\n",
              "      <th>mingcs</th>\n",
              "      <th>gcsmotor</th>\n",
              "      <th>gcsverbal</th>\n",
              "      <th>gcseyes</th>\n",
              "      <th>endotrachflag</th>\n",
              "      <th>admitday_hospital</th>\n",
              "      <th>dischday_hospital</th>\n",
              "      <th>inday_icu</th>\n",
              "      <th>inday_icu_seq</th>\n",
              "      <th>outday_icu</th>\n",
              "      <th>inday_icu_wkd</th>\n",
              "      <th>survival_time</th>\n",
              "      <th>death_post_discharge_in_days</th>\n",
              "      <th>survival_time_flag</th>\n",
              "      <th>home_discharge_bool</th>\n",
              "      <th>adm_type_2</th>\n",
              "    </tr>\n",
              "  </thead>\n",
              "  <tbody>\n",
              "    <tr>\n",
              "      <th>0</th>\n",
              "      <td>141</td>\n",
              "      <td>168006</td>\n",
              "      <td>234668</td>\n",
              "      <td>M</td>\n",
              "      <td>2140-11-06 11:07:00</td>\n",
              "      <td>2140-11-09 20:36:00</td>\n",
              "      <td>3</td>\n",
              "      <td>80</td>\n",
              "      <td>EMERGENCY</td>\n",
              "      <td>1</td>\n",
              "      <td>2140-11-06 11:09:19</td>\n",
              "      <td>2140-11-09 22:35:29</td>\n",
              "      <td>3.0</td>\n",
              "      <td>MICU</td>\n",
              "      <td>1</td>\n",
              "      <td>53</td>\n",
              "      <td>0.641734</td>\n",
              "      <td>1784.0</td>\n",
              "      <td>2.0</td>\n",
              "      <td>43491</td>\n",
              "      <td>131</td>\n",
              "      <td>M</td>\n",
              "      <td>2060-05-03</td>\n",
              "      <td>2140-11-09</td>\n",
              "      <td>2140-11-09</td>\n",
              "      <td>2140-11-09</td>\n",
              "      <td>1</td>\n",
              "      <td>190</td>\n",
              "      <td>2140-11-06 11:07:00</td>\n",
              "      <td>2140-11-09 20:36:00</td>\n",
              "      <td>2140-11-09 20:36:00</td>\n",
              "      <td>EMERGENCY</td>\n",
              "      <td>EMERGENCY ROOM ADMIT</td>\n",
              "      <td>DEAD/EXPIRED</td>\n",
              "      <td>Medicare</td>\n",
              "      <td>None</td>\n",
              "      <td>OTHER</td>\n",
              "      <td>SINGLE</td>\n",
              "      <td>OTHER</td>\n",
              "      <td>2140-11-06 07:17:00</td>\n",
              "      <td>2140-11-06 12:07:00</td>\n",
              "      <td>DRA, SAH</td>\n",
              "      <td>1</td>\n",
              "      <td>1</td>\n",
              "      <td>14.0</td>\n",
              "      <td>6.0</td>\n",
              "      <td>4.0</td>\n",
              "      <td>4.0</td>\n",
              "      <td>0.0</td>\n",
              "      <td>Sunday</td>\n",
              "      <td>Wednesday</td>\n",
              "      <td>Sunday</td>\n",
              "      <td>6</td>\n",
              "      <td>Wednesday</td>\n",
              "      <td>weekend</td>\n",
              "      <td>-1 days +03:24:00</td>\n",
              "      <td>short_survival</td>\n",
              "      <td>1</td>\n",
              "      <td>False</td>\n",
              "      <td>emergency</td>\n",
              "    </tr>\n",
              "    <tr>\n",
              "      <th>1</th>\n",
              "      <td>416</td>\n",
              "      <td>148709</td>\n",
              "      <td>226936</td>\n",
              "      <td>F</td>\n",
              "      <td>2132-07-23 14:46:00</td>\n",
              "      <td>2132-08-11 17:19:00</td>\n",
              "      <td>19</td>\n",
              "      <td>56</td>\n",
              "      <td>EMERGENCY</td>\n",
              "      <td>0</td>\n",
              "      <td>2132-07-23 14:47:03</td>\n",
              "      <td>2132-08-08 17:03:29</td>\n",
              "      <td>16.0</td>\n",
              "      <td>MICU</td>\n",
              "      <td>0</td>\n",
              "      <td>55</td>\n",
              "      <td>0.698023</td>\n",
              "      <td>5023.0</td>\n",
              "      <td>1.0</td>\n",
              "      <td>430</td>\n",
              "      <td>392</td>\n",
              "      <td>F</td>\n",
              "      <td>2076-12-12</td>\n",
              "      <td>2136-11-11</td>\n",
              "      <td>NaT</td>\n",
              "      <td>2136-11-11</td>\n",
              "      <td>1</td>\n",
              "      <td>532</td>\n",
              "      <td>2132-07-23 14:46:00</td>\n",
              "      <td>2132-08-11 17:19:00</td>\n",
              "      <td>NaT</td>\n",
              "      <td>EMERGENCY</td>\n",
              "      <td>EMERGENCY ROOM ADMIT</td>\n",
              "      <td>HOME HEALTH CARE</td>\n",
              "      <td>Medicaid</td>\n",
              "      <td>HAIT</td>\n",
              "      <td>UNOBTAINABLE</td>\n",
              "      <td>MARRIED</td>\n",
              "      <td>BLACK/AFRICAN AMERICAN</td>\n",
              "      <td>2132-07-23 09:26:00</td>\n",
              "      <td>2132-07-23 15:08:00</td>\n",
              "      <td>SAH</td>\n",
              "      <td>0</td>\n",
              "      <td>1</td>\n",
              "      <td>13.0</td>\n",
              "      <td>6.0</td>\n",
              "      <td>4.0</td>\n",
              "      <td>3.0</td>\n",
              "      <td>0.0</td>\n",
              "      <td>Wednesday</td>\n",
              "      <td>Monday</td>\n",
              "      <td>Wednesday</td>\n",
              "      <td>2</td>\n",
              "      <td>Friday</td>\n",
              "      <td>weekday</td>\n",
              "      <td>1552 days 06:41:00</td>\n",
              "      <td>long_survival</td>\n",
              "      <td>0</td>\n",
              "      <td>True</td>\n",
              "      <td>emergency</td>\n",
              "    </tr>\n",
              "    <tr>\n",
              "      <th>2</th>\n",
              "      <td>490</td>\n",
              "      <td>166850</td>\n",
              "      <td>222952</td>\n",
              "      <td>M</td>\n",
              "      <td>2199-12-12 19:04:00</td>\n",
              "      <td>2199-12-13 20:33:00</td>\n",
              "      <td>1</td>\n",
              "      <td>87</td>\n",
              "      <td>EMERGENCY</td>\n",
              "      <td>1</td>\n",
              "      <td>2199-12-12 21:15:58</td>\n",
              "      <td>2199-12-13 20:33:59</td>\n",
              "      <td>1.0</td>\n",
              "      <td>SICU</td>\n",
              "      <td>1</td>\n",
              "      <td>58</td>\n",
              "      <td>0.772134</td>\n",
              "      <td>5788.0</td>\n",
              "      <td>1.0</td>\n",
              "      <td>43491</td>\n",
              "      <td>463</td>\n",
              "      <td>M</td>\n",
              "      <td>2112-11-20</td>\n",
              "      <td>2199-12-13</td>\n",
              "      <td>2199-12-13</td>\n",
              "      <td>2199-12-13</td>\n",
              "      <td>1</td>\n",
              "      <td>615</td>\n",
              "      <td>2199-12-12 19:04:00</td>\n",
              "      <td>2199-12-13 20:33:00</td>\n",
              "      <td>2199-12-13 20:33:00</td>\n",
              "      <td>EMERGENCY</td>\n",
              "      <td>EMERGENCY ROOM ADMIT</td>\n",
              "      <td>DEAD/EXPIRED</td>\n",
              "      <td>Medicare</td>\n",
              "      <td>None</td>\n",
              "      <td>UNOBTAINABLE</td>\n",
              "      <td>MARRIED</td>\n",
              "      <td>WHITE</td>\n",
              "      <td>2199-12-12 17:13:00</td>\n",
              "      <td>2199-12-12 22:06:00</td>\n",
              "      <td>CEREBRAL VASCULAR ACCIDENT</td>\n",
              "      <td>1</td>\n",
              "      <td>1</td>\n",
              "      <td>6.0</td>\n",
              "      <td>4.0</td>\n",
              "      <td>1.0</td>\n",
              "      <td>1.0</td>\n",
              "      <td>0.0</td>\n",
              "      <td>Thursday</td>\n",
              "      <td>Friday</td>\n",
              "      <td>Thursday</td>\n",
              "      <td>3</td>\n",
              "      <td>Friday</td>\n",
              "      <td>weekday</td>\n",
              "      <td>-1 days +03:27:00</td>\n",
              "      <td>short_survival</td>\n",
              "      <td>1</td>\n",
              "      <td>False</td>\n",
              "      <td>emergency</td>\n",
              "    </tr>\n",
              "    <tr>\n",
              "      <th>3</th>\n",
              "      <td>490</td>\n",
              "      <td>166850</td>\n",
              "      <td>222952</td>\n",
              "      <td>M</td>\n",
              "      <td>2199-12-12 19:04:00</td>\n",
              "      <td>2199-12-13 20:33:00</td>\n",
              "      <td>1</td>\n",
              "      <td>87</td>\n",
              "      <td>EMERGENCY</td>\n",
              "      <td>1</td>\n",
              "      <td>2199-12-12 21:15:58</td>\n",
              "      <td>2199-12-13 20:33:59</td>\n",
              "      <td>1.0</td>\n",
              "      <td>SICU</td>\n",
              "      <td>1</td>\n",
              "      <td>58</td>\n",
              "      <td>0.772134</td>\n",
              "      <td>5789.0</td>\n",
              "      <td>2.0</td>\n",
              "      <td>431</td>\n",
              "      <td>463</td>\n",
              "      <td>M</td>\n",
              "      <td>2112-11-20</td>\n",
              "      <td>2199-12-13</td>\n",
              "      <td>2199-12-13</td>\n",
              "      <td>2199-12-13</td>\n",
              "      <td>1</td>\n",
              "      <td>615</td>\n",
              "      <td>2199-12-12 19:04:00</td>\n",
              "      <td>2199-12-13 20:33:00</td>\n",
              "      <td>2199-12-13 20:33:00</td>\n",
              "      <td>EMERGENCY</td>\n",
              "      <td>EMERGENCY ROOM ADMIT</td>\n",
              "      <td>DEAD/EXPIRED</td>\n",
              "      <td>Medicare</td>\n",
              "      <td>None</td>\n",
              "      <td>UNOBTAINABLE</td>\n",
              "      <td>MARRIED</td>\n",
              "      <td>WHITE</td>\n",
              "      <td>2199-12-12 17:13:00</td>\n",
              "      <td>2199-12-12 22:06:00</td>\n",
              "      <td>CEREBRAL VASCULAR ACCIDENT</td>\n",
              "      <td>1</td>\n",
              "      <td>1</td>\n",
              "      <td>6.0</td>\n",
              "      <td>4.0</td>\n",
              "      <td>1.0</td>\n",
              "      <td>1.0</td>\n",
              "      <td>0.0</td>\n",
              "      <td>Thursday</td>\n",
              "      <td>Friday</td>\n",
              "      <td>Thursday</td>\n",
              "      <td>3</td>\n",
              "      <td>Friday</td>\n",
              "      <td>weekday</td>\n",
              "      <td>-1 days +03:27:00</td>\n",
              "      <td>short_survival</td>\n",
              "      <td>1</td>\n",
              "      <td>False</td>\n",
              "      <td>emergency</td>\n",
              "    </tr>\n",
              "    <tr>\n",
              "      <th>4</th>\n",
              "      <td>831</td>\n",
              "      <td>185983</td>\n",
              "      <td>223445</td>\n",
              "      <td>F</td>\n",
              "      <td>2151-06-30 09:44:00</td>\n",
              "      <td>2151-07-15 13:50:00</td>\n",
              "      <td>15</td>\n",
              "      <td>84</td>\n",
              "      <td>EMERGENCY</td>\n",
              "      <td>0</td>\n",
              "      <td>2151-06-30 09:44:47</td>\n",
              "      <td>2151-07-03 18:15:14</td>\n",
              "      <td>3.0</td>\n",
              "      <td>SICU</td>\n",
              "      <td>0</td>\n",
              "      <td>51</td>\n",
              "      <td>0.581248</td>\n",
              "      <td>9671.0</td>\n",
              "      <td>1.0</td>\n",
              "      <td>431</td>\n",
              "      <td>784</td>\n",
              "      <td>F</td>\n",
              "      <td>2067-05-06</td>\n",
              "      <td>2151-09-10</td>\n",
              "      <td>NaT</td>\n",
              "      <td>2151-09-10</td>\n",
              "      <td>1</td>\n",
              "      <td>1031</td>\n",
              "      <td>2151-06-30 09:44:00</td>\n",
              "      <td>2151-07-15 13:50:00</td>\n",
              "      <td>None</td>\n",
              "      <td>EMERGENCY</td>\n",
              "      <td>EMERGENCY ROOM ADMIT</td>\n",
              "      <td>REHAB/DISTINCT PART HOSP</td>\n",
              "      <td>Medicare</td>\n",
              "      <td>None</td>\n",
              "      <td>JEWISH</td>\n",
              "      <td>WIDOWED</td>\n",
              "      <td>WHITE</td>\n",
              "      <td>2151-06-30 08:22:00</td>\n",
              "      <td>2151-06-30 11:10:00</td>\n",
              "      <td>STROKE/TIA</td>\n",
              "      <td>0</td>\n",
              "      <td>1</td>\n",
              "      <td>7.0</td>\n",
              "      <td>4.0</td>\n",
              "      <td>1.0</td>\n",
              "      <td>2.0</td>\n",
              "      <td>0.0</td>\n",
              "      <td>Wednesday</td>\n",
              "      <td>Thursday</td>\n",
              "      <td>Wednesday</td>\n",
              "      <td>2</td>\n",
              "      <td>Saturday</td>\n",
              "      <td>weekday</td>\n",
              "      <td>56 days 10:10:00</td>\n",
              "      <td>short_survival</td>\n",
              "      <td>1</td>\n",
              "      <td>False</td>\n",
              "      <td>emergency</td>\n",
              "    </tr>\n",
              "    <tr>\n",
              "      <th>5</th>\n",
              "      <td>1054</td>\n",
              "      <td>183383</td>\n",
              "      <td>288218</td>\n",
              "      <td>M</td>\n",
              "      <td>2157-01-06 17:16:00</td>\n",
              "      <td>2157-01-08 15:00:00</td>\n",
              "      <td>2</td>\n",
              "      <td>79</td>\n",
              "      <td>EMERGENCY</td>\n",
              "      <td>1</td>\n",
              "      <td>2157-01-06 17:17:38</td>\n",
              "      <td>2157-01-07 22:01:06</td>\n",
              "      <td>1.0</td>\n",
              "      <td>SICU</td>\n",
              "      <td>0</td>\n",
              "      <td>51</td>\n",
              "      <td>0.581248</td>\n",
              "      <td>12291.0</td>\n",
              "      <td>1.0</td>\n",
              "      <td>430</td>\n",
              "      <td>998</td>\n",
              "      <td>M</td>\n",
              "      <td>2078-07-15</td>\n",
              "      <td>2157-01-08</td>\n",
              "      <td>2157-01-08</td>\n",
              "      <td>NaT</td>\n",
              "      <td>1</td>\n",
              "      <td>1310</td>\n",
              "      <td>2157-01-06 17:16:00</td>\n",
              "      <td>2157-01-08 15:00:00</td>\n",
              "      <td>2157-01-08 15:00:00</td>\n",
              "      <td>EMERGENCY</td>\n",
              "      <td>EMERGENCY ROOM ADMIT</td>\n",
              "      <td>DEAD/EXPIRED</td>\n",
              "      <td>Medicare</td>\n",
              "      <td>None</td>\n",
              "      <td>PROTESTANT QUAKER</td>\n",
              "      <td>MARRIED</td>\n",
              "      <td>WHITE</td>\n",
              "      <td>2157-01-06 14:49:00</td>\n",
              "      <td>2157-01-06 18:36:00</td>\n",
              "      <td>INTRACRANIAL HEMORRHAGE</td>\n",
              "      <td>1</td>\n",
              "      <td>1</td>\n",
              "      <td>6.0</td>\n",
              "      <td>4.0</td>\n",
              "      <td>1.0</td>\n",
              "      <td>1.0</td>\n",
              "      <td>0.0</td>\n",
              "      <td>Thursday</td>\n",
              "      <td>Saturday</td>\n",
              "      <td>Thursday</td>\n",
              "      <td>3</td>\n",
              "      <td>Friday</td>\n",
              "      <td>weekday</td>\n",
              "      <td>-1 days +09:00:00</td>\n",
              "      <td>short_survival</td>\n",
              "      <td>1</td>\n",
              "      <td>False</td>\n",
              "      <td>emergency</td>\n",
              "    </tr>\n",
              "    <tr>\n",
              "      <th>6</th>\n",
              "      <td>1253</td>\n",
              "      <td>129963</td>\n",
              "      <td>246324</td>\n",
              "      <td>F</td>\n",
              "      <td>2138-02-25 07:15:00</td>\n",
              "      <td>2138-03-06 14:00:00</td>\n",
              "      <td>9</td>\n",
              "      <td>58</td>\n",
              "      <td>ELECTIVE</td>\n",
              "      <td>0</td>\n",
              "      <td>2138-02-25 14:45:22</td>\n",
              "      <td>2138-02-26 21:39:17</td>\n",
              "      <td>1.0</td>\n",
              "      <td>SICU</td>\n",
              "      <td>0</td>\n",
              "      <td>13</td>\n",
              "      <td>0.010803</td>\n",
              "      <td>14362.0</td>\n",
              "      <td>3.0</td>\n",
              "      <td>431</td>\n",
              "      <td>1189</td>\n",
              "      <td>F</td>\n",
              "      <td>2080-11-28</td>\n",
              "      <td>NaT</td>\n",
              "      <td>NaT</td>\n",
              "      <td>NaT</td>\n",
              "      <td>0</td>\n",
              "      <td>1543</td>\n",
              "      <td>2138-02-25 07:15:00</td>\n",
              "      <td>2138-03-06 14:00:00</td>\n",
              "      <td>NaT</td>\n",
              "      <td>ELECTIVE</td>\n",
              "      <td>PHYS REFERRAL/NORMAL DELI</td>\n",
              "      <td>HOME</td>\n",
              "      <td>Private</td>\n",
              "      <td>None</td>\n",
              "      <td>JEWISH</td>\n",
              "      <td>MARRIED</td>\n",
              "      <td>WHITE</td>\n",
              "      <td>NaT</td>\n",
              "      <td>NaT</td>\n",
              "      <td>ANEURYSM/SDA</td>\n",
              "      <td>0</td>\n",
              "      <td>1</td>\n",
              "      <td>15.0</td>\n",
              "      <td>6.0</td>\n",
              "      <td>5.0</td>\n",
              "      <td>4.0</td>\n",
              "      <td>0.0</td>\n",
              "      <td>Tuesday</td>\n",
              "      <td>Thursday</td>\n",
              "      <td>Tuesday</td>\n",
              "      <td>1</td>\n",
              "      <td>Wednesday</td>\n",
              "      <td>weekday</td>\n",
              "      <td>NaT</td>\n",
              "      <td>long_survival</td>\n",
              "      <td>0</td>\n",
              "      <td>True</td>\n",
              "      <td>elective</td>\n",
              "    </tr>\n",
              "    <tr>\n",
              "      <th>7</th>\n",
              "      <td>1381</td>\n",
              "      <td>181430</td>\n",
              "      <td>291798</td>\n",
              "      <td>F</td>\n",
              "      <td>2189-01-02 14:25:00</td>\n",
              "      <td>2189-01-02 12:00:00</td>\n",
              "      <td>0</td>\n",
              "      <td>82</td>\n",
              "      <td>EMERGENCY</td>\n",
              "      <td>1</td>\n",
              "      <td>2189-01-02 14:28:39</td>\n",
              "      <td>2189-01-03 01:37:51</td>\n",
              "      <td>1.0</td>\n",
              "      <td>SICU</td>\n",
              "      <td>1</td>\n",
              "      <td>54</td>\n",
              "      <td>0.670490</td>\n",
              "      <td>15799.0</td>\n",
              "      <td>1.0</td>\n",
              "      <td>43300</td>\n",
              "      <td>1313</td>\n",
              "      <td>F</td>\n",
              "      <td>2107-07-15</td>\n",
              "      <td>2189-01-02</td>\n",
              "      <td>2189-01-02</td>\n",
              "      <td>2189-01-02</td>\n",
              "      <td>1</td>\n",
              "      <td>1699</td>\n",
              "      <td>2189-01-02 14:25:00</td>\n",
              "      <td>2189-01-02 12:00:00</td>\n",
              "      <td>2189-01-02 12:00:00</td>\n",
              "      <td>EMERGENCY</td>\n",
              "      <td>EMERGENCY ROOM ADMIT</td>\n",
              "      <td>DEAD/EXPIRED</td>\n",
              "      <td>Medicare</td>\n",
              "      <td>None</td>\n",
              "      <td>UNOBTAINABLE</td>\n",
              "      <td>MARRIED</td>\n",
              "      <td>WHITE</td>\n",
              "      <td>2189-01-02 10:31:00</td>\n",
              "      <td>2189-01-02 15:56:00</td>\n",
              "      <td>STROKE;TELEMETRY</td>\n",
              "      <td>1</td>\n",
              "      <td>1</td>\n",
              "      <td>15.0</td>\n",
              "      <td>3.0</td>\n",
              "      <td>0.0</td>\n",
              "      <td>1.0</td>\n",
              "      <td>1.0</td>\n",
              "      <td>Friday</td>\n",
              "      <td>Friday</td>\n",
              "      <td>Friday</td>\n",
              "      <td>4</td>\n",
              "      <td>Saturday</td>\n",
              "      <td>weekday</td>\n",
              "      <td>-1 days +12:00:00</td>\n",
              "      <td>short_survival</td>\n",
              "      <td>1</td>\n",
              "      <td>False</td>\n",
              "      <td>emergency</td>\n",
              "    </tr>\n",
              "    <tr>\n",
              "      <th>8</th>\n",
              "      <td>1609</td>\n",
              "      <td>152284</td>\n",
              "      <td>204311</td>\n",
              "      <td>F</td>\n",
              "      <td>2184-07-23 14:38:00</td>\n",
              "      <td>2184-07-24 15:38:00</td>\n",
              "      <td>1</td>\n",
              "      <td>80</td>\n",
              "      <td>EMERGENCY</td>\n",
              "      <td>1</td>\n",
              "      <td>2184-07-23 14:39:28</td>\n",
              "      <td>2184-07-24 17:58:01</td>\n",
              "      <td>1.0</td>\n",
              "      <td>SICU</td>\n",
              "      <td>1</td>\n",
              "      <td>52</td>\n",
              "      <td>0.611922</td>\n",
              "      <td>18103.0</td>\n",
              "      <td>1.0</td>\n",
              "      <td>4329</td>\n",
              "      <td>1523</td>\n",
              "      <td>F</td>\n",
              "      <td>2104-08-24</td>\n",
              "      <td>2184-07-24</td>\n",
              "      <td>2184-07-24</td>\n",
              "      <td>2184-07-24</td>\n",
              "      <td>1</td>\n",
              "      <td>1960</td>\n",
              "      <td>2184-07-23 14:38:00</td>\n",
              "      <td>2184-07-24 15:38:00</td>\n",
              "      <td>2184-07-24 15:38:00</td>\n",
              "      <td>EMERGENCY</td>\n",
              "      <td>EMERGENCY ROOM ADMIT</td>\n",
              "      <td>DEAD/EXPIRED</td>\n",
              "      <td>Medicare</td>\n",
              "      <td>CANT</td>\n",
              "      <td>OTHER</td>\n",
              "      <td>None</td>\n",
              "      <td>ASIAN</td>\n",
              "      <td>2184-07-23 10:01:00</td>\n",
              "      <td>2184-07-23 15:24:00</td>\n",
              "      <td>INTRACRANIAL HEMORRHAGE</td>\n",
              "      <td>1</td>\n",
              "      <td>1</td>\n",
              "      <td>15.0</td>\n",
              "      <td>1.0</td>\n",
              "      <td>0.0</td>\n",
              "      <td>1.0</td>\n",
              "      <td>1.0</td>\n",
              "      <td>Friday</td>\n",
              "      <td>Saturday</td>\n",
              "      <td>Friday</td>\n",
              "      <td>4</td>\n",
              "      <td>Saturday</td>\n",
              "      <td>weekday</td>\n",
              "      <td>-1 days +08:22:00</td>\n",
              "      <td>short_survival</td>\n",
              "      <td>1</td>\n",
              "      <td>False</td>\n",
              "      <td>emergency</td>\n",
              "    </tr>\n",
              "    <tr>\n",
              "      <th>9</th>\n",
              "      <td>2035</td>\n",
              "      <td>146528</td>\n",
              "      <td>216176</td>\n",
              "      <td>M</td>\n",
              "      <td>2191-04-19 21:10:00</td>\n",
              "      <td>2191-05-12 15:00:00</td>\n",
              "      <td>23</td>\n",
              "      <td>67</td>\n",
              "      <td>EMERGENCY</td>\n",
              "      <td>0</td>\n",
              "      <td>2191-04-19 21:13:13</td>\n",
              "      <td>2191-04-22 14:15:48</td>\n",
              "      <td>3.0</td>\n",
              "      <td>CCU</td>\n",
              "      <td>0</td>\n",
              "      <td>56</td>\n",
              "      <td>0.724202</td>\n",
              "      <td>22723.0</td>\n",
              "      <td>5.0</td>\n",
              "      <td>43491</td>\n",
              "      <td>1922</td>\n",
              "      <td>M</td>\n",
              "      <td>2124-01-14</td>\n",
              "      <td>2191-05-13</td>\n",
              "      <td>NaT</td>\n",
              "      <td>2191-05-13</td>\n",
              "      <td>1</td>\n",
              "      <td>2460</td>\n",
              "      <td>2191-04-19 21:10:00</td>\n",
              "      <td>2191-05-12 15:00:00</td>\n",
              "      <td>NaT</td>\n",
              "      <td>EMERGENCY</td>\n",
              "      <td>EMERGENCY ROOM ADMIT</td>\n",
              "      <td>SNF</td>\n",
              "      <td>Medicare</td>\n",
              "      <td>None</td>\n",
              "      <td>UNOBTAINABLE</td>\n",
              "      <td>None</td>\n",
              "      <td>WHITE</td>\n",
              "      <td>2191-04-19 17:27:00</td>\n",
              "      <td>2191-04-19 21:45:00</td>\n",
              "      <td>CONGESTIVE HEART FAILURE</td>\n",
              "      <td>0</td>\n",
              "      <td>1</td>\n",
              "      <td>7.0</td>\n",
              "      <td>4.0</td>\n",
              "      <td>2.0</td>\n",
              "      <td>1.0</td>\n",
              "      <td>0.0</td>\n",
              "      <td>Tuesday</td>\n",
              "      <td>Thursday</td>\n",
              "      <td>Tuesday</td>\n",
              "      <td>1</td>\n",
              "      <td>Friday</td>\n",
              "      <td>weekday</td>\n",
              "      <td>0 days 09:00:00</td>\n",
              "      <td>short_survival</td>\n",
              "      <td>1</td>\n",
              "      <td>False</td>\n",
              "      <td>emergency</td>\n",
              "    </tr>\n",
              "    <tr>\n",
              "      <th>10</th>\n",
              "      <td>3232</td>\n",
              "      <td>146611</td>\n",
              "      <td>275841</td>\n",
              "      <td>M</td>\n",
              "      <td>2150-04-06 11:19:00</td>\n",
              "      <td>2150-04-07 19:30:00</td>\n",
              "      <td>1</td>\n",
              "      <td>58</td>\n",
              "      <td>EMERGENCY</td>\n",
              "      <td>1</td>\n",
              "      <td>2150-04-06 11:24:00</td>\n",
              "      <td>2150-04-07 23:17:27</td>\n",
              "      <td>1.0</td>\n",
              "      <td>TSICU</td>\n",
              "      <td>1</td>\n",
              "      <td>58</td>\n",
              "      <td>0.772134</td>\n",
              "      <td>36091.0</td>\n",
              "      <td>9.0</td>\n",
              "      <td>4321</td>\n",
              "      <td>3059</td>\n",
              "      <td>M</td>\n",
              "      <td>2092-08-20</td>\n",
              "      <td>2150-04-07</td>\n",
              "      <td>2150-04-07</td>\n",
              "      <td>NaT</td>\n",
              "      <td>1</td>\n",
              "      <td>3897</td>\n",
              "      <td>2150-04-06 11:19:00</td>\n",
              "      <td>2150-04-07 19:30:00</td>\n",
              "      <td>2150-04-07 19:30:00</td>\n",
              "      <td>EMERGENCY</td>\n",
              "      <td>EMERGENCY ROOM ADMIT</td>\n",
              "      <td>DEAD/EXPIRED</td>\n",
              "      <td>Private</td>\n",
              "      <td>None</td>\n",
              "      <td>UNOBTAINABLE</td>\n",
              "      <td>None</td>\n",
              "      <td>WHITE</td>\n",
              "      <td>2150-04-06 08:16:00</td>\n",
              "      <td>2150-04-06 12:24:00</td>\n",
              "      <td>GI BLEED</td>\n",
              "      <td>1</td>\n",
              "      <td>1</td>\n",
              "      <td>15.0</td>\n",
              "      <td>1.0</td>\n",
              "      <td>0.0</td>\n",
              "      <td>1.0</td>\n",
              "      <td>1.0</td>\n",
              "      <td>Monday</td>\n",
              "      <td>Tuesday</td>\n",
              "      <td>Monday</td>\n",
              "      <td>0</td>\n",
              "      <td>Tuesday</td>\n",
              "      <td>weekday</td>\n",
              "      <td>-1 days +04:30:00</td>\n",
              "      <td>short_survival</td>\n",
              "      <td>1</td>\n",
              "      <td>False</td>\n",
              "      <td>emergency</td>\n",
              "    </tr>\n",
              "    <tr>\n",
              "      <th>11</th>\n",
              "      <td>3808</td>\n",
              "      <td>194227</td>\n",
              "      <td>201713</td>\n",
              "      <td>F</td>\n",
              "      <td>2150-11-19 18:16:00</td>\n",
              "      <td>2150-11-30 18:14:00</td>\n",
              "      <td>11</td>\n",
              "      <td>45</td>\n",
              "      <td>URGENT</td>\n",
              "      <td>0</td>\n",
              "      <td>2150-11-26 15:15:55</td>\n",
              "      <td>2150-11-28 18:00:27</td>\n",
              "      <td>2.0</td>\n",
              "      <td>MICU</td>\n",
              "      <td>0</td>\n",
              "      <td>13</td>\n",
              "      <td>0.010803</td>\n",
              "      <td>42063.0</td>\n",
              "      <td>3.0</td>\n",
              "      <td>430</td>\n",
              "      <td>3599</td>\n",
              "      <td>F</td>\n",
              "      <td>2105-03-16</td>\n",
              "      <td>NaT</td>\n",
              "      <td>NaT</td>\n",
              "      <td>NaT</td>\n",
              "      <td>0</td>\n",
              "      <td>4575</td>\n",
              "      <td>2150-11-19 18:16:00</td>\n",
              "      <td>2150-11-30 18:14:00</td>\n",
              "      <td>NaT</td>\n",
              "      <td>URGENT</td>\n",
              "      <td>PHYS REFERRAL/NORMAL DELI</td>\n",
              "      <td>HOME</td>\n",
              "      <td>Private</td>\n",
              "      <td>None</td>\n",
              "      <td>JEWISH</td>\n",
              "      <td>SINGLE</td>\n",
              "      <td>WHITE</td>\n",
              "      <td>NaT</td>\n",
              "      <td>NaT</td>\n",
              "      <td>NORMAL PREGNANCY</td>\n",
              "      <td>0</td>\n",
              "      <td>1</td>\n",
              "      <td>15.0</td>\n",
              "      <td>6.0</td>\n",
              "      <td>5.0</td>\n",
              "      <td>4.0</td>\n",
              "      <td>0.0</td>\n",
              "      <td>Thursday</td>\n",
              "      <td>Monday</td>\n",
              "      <td>Thursday</td>\n",
              "      <td>3</td>\n",
              "      <td>Saturday</td>\n",
              "      <td>weekday</td>\n",
              "      <td>NaT</td>\n",
              "      <td>long_survival</td>\n",
              "      <td>0</td>\n",
              "      <td>True</td>\n",
              "      <td>emergency</td>\n",
              "    </tr>\n",
              "    <tr>\n",
              "      <th>12</th>\n",
              "      <td>3831</td>\n",
              "      <td>112264</td>\n",
              "      <td>225380</td>\n",
              "      <td>F</td>\n",
              "      <td>2166-02-11 21:36:00</td>\n",
              "      <td>2166-02-12 12:00:00</td>\n",
              "      <td>1</td>\n",
              "      <td>87</td>\n",
              "      <td>EMERGENCY</td>\n",
              "      <td>1</td>\n",
              "      <td>2166-02-11 21:37:27</td>\n",
              "      <td>2166-02-13 07:38:37</td>\n",
              "      <td>2.0</td>\n",
              "      <td>SICU</td>\n",
              "      <td>1</td>\n",
              "      <td>55</td>\n",
              "      <td>0.698023</td>\n",
              "      <td>42334.0</td>\n",
              "      <td>1.0</td>\n",
              "      <td>431</td>\n",
              "      <td>3622</td>\n",
              "      <td>F</td>\n",
              "      <td>2079-11-28</td>\n",
              "      <td>2166-02-12</td>\n",
              "      <td>2166-02-12</td>\n",
              "      <td>NaT</td>\n",
              "      <td>1</td>\n",
              "      <td>4604</td>\n",
              "      <td>2166-02-11 21:36:00</td>\n",
              "      <td>2166-02-12 12:00:00</td>\n",
              "      <td>2166-02-12 12:00:00</td>\n",
              "      <td>EMERGENCY</td>\n",
              "      <td>EMERGENCY ROOM ADMIT</td>\n",
              "      <td>DEAD/EXPIRED</td>\n",
              "      <td>Medicare</td>\n",
              "      <td>None</td>\n",
              "      <td>UNOBTAINABLE</td>\n",
              "      <td>SINGLE</td>\n",
              "      <td>WHITE</td>\n",
              "      <td>2166-02-11 19:40:00</td>\n",
              "      <td>2166-02-11 22:39:00</td>\n",
              "      <td>HEAD BLEED</td>\n",
              "      <td>1</td>\n",
              "      <td>1</td>\n",
              "      <td>3.0</td>\n",
              "      <td>1.0</td>\n",
              "      <td>1.0</td>\n",
              "      <td>1.0</td>\n",
              "      <td>0.0</td>\n",
              "      <td>Tuesday</td>\n",
              "      <td>Wednesday</td>\n",
              "      <td>Tuesday</td>\n",
              "      <td>1</td>\n",
              "      <td>Thursday</td>\n",
              "      <td>weekday</td>\n",
              "      <td>-1 days +12:00:00</td>\n",
              "      <td>short_survival</td>\n",
              "      <td>1</td>\n",
              "      <td>False</td>\n",
              "      <td>emergency</td>\n",
              "    </tr>\n",
              "    <tr>\n",
              "      <th>13</th>\n",
              "      <td>3852</td>\n",
              "      <td>120524</td>\n",
              "      <td>263430</td>\n",
              "      <td>M</td>\n",
              "      <td>2149-12-26 14:48:00</td>\n",
              "      <td>2150-01-01 13:22:00</td>\n",
              "      <td>6</td>\n",
              "      <td>80</td>\n",
              "      <td>EMERGENCY</td>\n",
              "      <td>1</td>\n",
              "      <td>2149-12-26 14:50:09</td>\n",
              "      <td>2150-01-01 17:21:58</td>\n",
              "      <td>6.0</td>\n",
              "      <td>CSRU</td>\n",
              "      <td>1</td>\n",
              "      <td>66</td>\n",
              "      <td>0.903819</td>\n",
              "      <td>42521.0</td>\n",
              "      <td>1.0</td>\n",
              "      <td>43491</td>\n",
              "      <td>3641</td>\n",
              "      <td>M</td>\n",
              "      <td>2069-08-20</td>\n",
              "      <td>2150-01-01</td>\n",
              "      <td>2150-01-01</td>\n",
              "      <td>2150-01-01</td>\n",
              "      <td>1</td>\n",
              "      <td>4625</td>\n",
              "      <td>2149-12-26 14:48:00</td>\n",
              "      <td>2150-01-01 13:22:00</td>\n",
              "      <td>2150-01-01 13:22:00</td>\n",
              "      <td>EMERGENCY</td>\n",
              "      <td>TRANSFER FROM HOSP/EXTRAM</td>\n",
              "      <td>DEAD/EXPIRED</td>\n",
              "      <td>Medicare</td>\n",
              "      <td>HIND</td>\n",
              "      <td>UNOBTAINABLE</td>\n",
              "      <td>WIDOWED</td>\n",
              "      <td>OTHER</td>\n",
              "      <td>NaT</td>\n",
              "      <td>NaT</td>\n",
              "      <td>THORACIC AORTIC ANEURYSM</td>\n",
              "      <td>1</td>\n",
              "      <td>1</td>\n",
              "      <td>3.0</td>\n",
              "      <td>1.0</td>\n",
              "      <td>1.0</td>\n",
              "      <td>1.0</td>\n",
              "      <td>0.0</td>\n",
              "      <td>Friday</td>\n",
              "      <td>Thursday</td>\n",
              "      <td>Friday</td>\n",
              "      <td>4</td>\n",
              "      <td>Thursday</td>\n",
              "      <td>weekday</td>\n",
              "      <td>-1 days +10:38:00</td>\n",
              "      <td>short_survival</td>\n",
              "      <td>1</td>\n",
              "      <td>False</td>\n",
              "      <td>emergency</td>\n",
              "    </tr>\n",
              "    <tr>\n",
              "      <th>14</th>\n",
              "      <td>4076</td>\n",
              "      <td>137717</td>\n",
              "      <td>208541</td>\n",
              "      <td>M</td>\n",
              "      <td>2199-12-27 22:51:00</td>\n",
              "      <td>2200-01-07 10:04:00</td>\n",
              "      <td>11</td>\n",
              "      <td>50</td>\n",
              "      <td>EMERGENCY</td>\n",
              "      <td>0</td>\n",
              "      <td>2199-12-28 07:50:00</td>\n",
              "      <td>2200-01-01 21:06:00</td>\n",
              "      <td>4.0</td>\n",
              "      <td>SICU</td>\n",
              "      <td>0</td>\n",
              "      <td>13</td>\n",
              "      <td>0.010803</td>\n",
              "      <td>45636.0</td>\n",
              "      <td>1.0</td>\n",
              "      <td>430</td>\n",
              "      <td>3852</td>\n",
              "      <td>M</td>\n",
              "      <td>2149-11-12</td>\n",
              "      <td>2200-01-28</td>\n",
              "      <td>2200-01-28</td>\n",
              "      <td>2200-01-28</td>\n",
              "      <td>1</td>\n",
              "      <td>4941</td>\n",
              "      <td>2199-12-27 22:51:00</td>\n",
              "      <td>2200-01-07 10:04:00</td>\n",
              "      <td>NaT</td>\n",
              "      <td>EMERGENCY</td>\n",
              "      <td>EMERGENCY ROOM ADMIT</td>\n",
              "      <td>HOME</td>\n",
              "      <td>Private</td>\n",
              "      <td>None</td>\n",
              "      <td>CATHOLIC</td>\n",
              "      <td>MARRIED</td>\n",
              "      <td>UNKNOWN/NOT SPECIFIED</td>\n",
              "      <td>2199-12-27 06:33:00</td>\n",
              "      <td>2199-12-27 11:25:00</td>\n",
              "      <td>SAH</td>\n",
              "      <td>0</td>\n",
              "      <td>1</td>\n",
              "      <td>15.0</td>\n",
              "      <td>6.0</td>\n",
              "      <td>5.0</td>\n",
              "      <td>4.0</td>\n",
              "      <td>0.0</td>\n",
              "      <td>Friday</td>\n",
              "      <td>Tuesday</td>\n",
              "      <td>Saturday</td>\n",
              "      <td>5</td>\n",
              "      <td>Wednesday</td>\n",
              "      <td>weekend</td>\n",
              "      <td>20 days 13:56:00</td>\n",
              "      <td>short_survival</td>\n",
              "      <td>1</td>\n",
              "      <td>True</td>\n",
              "      <td>emergency</td>\n",
              "    </tr>\n",
              "    <tr>\n",
              "      <th>15</th>\n",
              "      <td>4339</td>\n",
              "      <td>178315</td>\n",
              "      <td>276382</td>\n",
              "      <td>F</td>\n",
              "      <td>2134-02-16 04:01:00</td>\n",
              "      <td>2134-02-16 12:00:00</td>\n",
              "      <td>0</td>\n",
              "      <td>86</td>\n",
              "      <td>EMERGENCY</td>\n",
              "      <td>1</td>\n",
              "      <td>2134-02-16 04:01:43</td>\n",
              "      <td>2134-02-17 00:37:28</td>\n",
              "      <td>1.0</td>\n",
              "      <td>SICU</td>\n",
              "      <td>1</td>\n",
              "      <td>53</td>\n",
              "      <td>0.641734</td>\n",
              "      <td>48545.0</td>\n",
              "      <td>1.0</td>\n",
              "      <td>430</td>\n",
              "      <td>4102</td>\n",
              "      <td>F</td>\n",
              "      <td>2048-03-21</td>\n",
              "      <td>2134-02-16</td>\n",
              "      <td>2134-02-16</td>\n",
              "      <td>2134-02-16</td>\n",
              "      <td>1</td>\n",
              "      <td>5258</td>\n",
              "      <td>2134-02-16 04:01:00</td>\n",
              "      <td>2134-02-16 12:00:00</td>\n",
              "      <td>2134-02-16 12:00:00</td>\n",
              "      <td>EMERGENCY</td>\n",
              "      <td>EMERGENCY ROOM ADMIT</td>\n",
              "      <td>DEAD/EXPIRED</td>\n",
              "      <td>Medicare</td>\n",
              "      <td>None</td>\n",
              "      <td>CATHOLIC</td>\n",
              "      <td>SINGLE</td>\n",
              "      <td>WHITE</td>\n",
              "      <td>2134-02-16 00:25:00</td>\n",
              "      <td>2134-02-16 04:56:00</td>\n",
              "      <td>SUBARACHNOID HEMORRHAGE,ANEURYSM</td>\n",
              "      <td>1</td>\n",
              "      <td>1</td>\n",
              "      <td>3.0</td>\n",
              "      <td>1.0</td>\n",
              "      <td>1.0</td>\n",
              "      <td>1.0</td>\n",
              "      <td>0.0</td>\n",
              "      <td>Tuesday</td>\n",
              "      <td>Tuesday</td>\n",
              "      <td>Tuesday</td>\n",
              "      <td>1</td>\n",
              "      <td>Wednesday</td>\n",
              "      <td>weekday</td>\n",
              "      <td>-1 days +12:00:00</td>\n",
              "      <td>short_survival</td>\n",
              "      <td>1</td>\n",
              "      <td>False</td>\n",
              "      <td>emergency</td>\n",
              "    </tr>\n",
              "    <tr>\n",
              "      <th>16</th>\n",
              "      <td>4759</td>\n",
              "      <td>179664</td>\n",
              "      <td>268219</td>\n",
              "      <td>F</td>\n",
              "      <td>2180-06-19 19:34:00</td>\n",
              "      <td>2180-08-09 18:31:00</td>\n",
              "      <td>51</td>\n",
              "      <td>70</td>\n",
              "      <td>EMERGENCY</td>\n",
              "      <td>0</td>\n",
              "      <td>2180-06-19 19:35:00</td>\n",
              "      <td>2180-07-14 16:31:19</td>\n",
              "      <td>25.0</td>\n",
              "      <td>MICU</td>\n",
              "      <td>0</td>\n",
              "      <td>54</td>\n",
              "      <td>0.670490</td>\n",
              "      <td>52958.0</td>\n",
              "      <td>5.0</td>\n",
              "      <td>43491</td>\n",
              "      <td>4506</td>\n",
              "      <td>F</td>\n",
              "      <td>2110-09-11</td>\n",
              "      <td>NaT</td>\n",
              "      <td>NaT</td>\n",
              "      <td>NaT</td>\n",
              "      <td>0</td>\n",
              "      <td>5756</td>\n",
              "      <td>2180-06-19 19:34:00</td>\n",
              "      <td>2180-08-09 18:31:00</td>\n",
              "      <td>NaT</td>\n",
              "      <td>EMERGENCY</td>\n",
              "      <td>EMERGENCY ROOM ADMIT</td>\n",
              "      <td>SNF</td>\n",
              "      <td>Private</td>\n",
              "      <td>None</td>\n",
              "      <td>NOT SPECIFIED</td>\n",
              "      <td>WIDOWED</td>\n",
              "      <td>BLACK/AFRICAN AMERICAN</td>\n",
              "      <td>2180-06-19 13:24:00</td>\n",
              "      <td>2180-06-19 22:42:00</td>\n",
              "      <td>CONGESTIVE HEART FAILURE;CHRONIC RENAL INSUFFI...</td>\n",
              "      <td>0</td>\n",
              "      <td>1</td>\n",
              "      <td>5.0</td>\n",
              "      <td>1.0</td>\n",
              "      <td>2.0</td>\n",
              "      <td>2.0</td>\n",
              "      <td>0.0</td>\n",
              "      <td>Monday</td>\n",
              "      <td>Wednesday</td>\n",
              "      <td>Monday</td>\n",
              "      <td>0</td>\n",
              "      <td>Friday</td>\n",
              "      <td>weekday</td>\n",
              "      <td>NaT</td>\n",
              "      <td>long_survival</td>\n",
              "      <td>0</td>\n",
              "      <td>False</td>\n",
              "      <td>emergency</td>\n",
              "    </tr>\n",
              "    <tr>\n",
              "      <th>17</th>\n",
              "      <td>4988</td>\n",
              "      <td>124961</td>\n",
              "      <td>264875</td>\n",
              "      <td>F</td>\n",
              "      <td>2139-05-27 01:39:00</td>\n",
              "      <td>2139-05-29 01:20:00</td>\n",
              "      <td>2</td>\n",
              "      <td>88</td>\n",
              "      <td>EMERGENCY</td>\n",
              "      <td>1</td>\n",
              "      <td>2139-05-27 01:41:45</td>\n",
              "      <td>2139-05-28 21:17:12</td>\n",
              "      <td>1.0</td>\n",
              "      <td>SICU</td>\n",
              "      <td>0</td>\n",
              "      <td>53</td>\n",
              "      <td>0.641734</td>\n",
              "      <td>55684.0</td>\n",
              "      <td>1.0</td>\n",
              "      <td>43491</td>\n",
              "      <td>4730</td>\n",
              "      <td>F</td>\n",
              "      <td>2051-03-17</td>\n",
              "      <td>2139-05-29</td>\n",
              "      <td>2139-05-29</td>\n",
              "      <td>2139-05-29</td>\n",
              "      <td>1</td>\n",
              "      <td>6051</td>\n",
              "      <td>2139-05-27 01:39:00</td>\n",
              "      <td>2139-05-29 01:20:00</td>\n",
              "      <td>2139-05-29 01:20:00</td>\n",
              "      <td>EMERGENCY</td>\n",
              "      <td>EMERGENCY ROOM ADMIT</td>\n",
              "      <td>DEAD/EXPIRED</td>\n",
              "      <td>Medicare</td>\n",
              "      <td>None</td>\n",
              "      <td>OTHER</td>\n",
              "      <td>WIDOWED</td>\n",
              "      <td>WHITE</td>\n",
              "      <td>2139-05-26 17:58:00</td>\n",
              "      <td>2139-05-27 02:50:00</td>\n",
              "      <td>STATUS EPILEPTICUS</td>\n",
              "      <td>1</td>\n",
              "      <td>1</td>\n",
              "      <td>3.0</td>\n",
              "      <td>1.0</td>\n",
              "      <td>1.0</td>\n",
              "      <td>1.0</td>\n",
              "      <td>0.0</td>\n",
              "      <td>Wednesday</td>\n",
              "      <td>Friday</td>\n",
              "      <td>Wednesday</td>\n",
              "      <td>2</td>\n",
              "      <td>Thursday</td>\n",
              "      <td>weekday</td>\n",
              "      <td>-1 days +22:40:00</td>\n",
              "      <td>short_survival</td>\n",
              "      <td>1</td>\n",
              "      <td>False</td>\n",
              "      <td>emergency</td>\n",
              "    </tr>\n",
              "    <tr>\n",
              "      <th>18</th>\n",
              "      <td>5307</td>\n",
              "      <td>168261</td>\n",
              "      <td>213258</td>\n",
              "      <td>M</td>\n",
              "      <td>2147-12-05 13:32:00</td>\n",
              "      <td>2148-01-04 09:43:00</td>\n",
              "      <td>30</td>\n",
              "      <td>73</td>\n",
              "      <td>EMERGENCY</td>\n",
              "      <td>0</td>\n",
              "      <td>2147-12-05 13:33:00</td>\n",
              "      <td>2148-01-04 09:43:00</td>\n",
              "      <td>30.0</td>\n",
              "      <td>CCU</td>\n",
              "      <td>0</td>\n",
              "      <td>52</td>\n",
              "      <td>0.611922</td>\n",
              "      <td>59419.0</td>\n",
              "      <td>1.0</td>\n",
              "      <td>431</td>\n",
              "      <td>5030</td>\n",
              "      <td>M</td>\n",
              "      <td>2074-11-18</td>\n",
              "      <td>2152-08-26</td>\n",
              "      <td>NaT</td>\n",
              "      <td>2152-08-26</td>\n",
              "      <td>1</td>\n",
              "      <td>6455</td>\n",
              "      <td>2147-12-05 13:32:00</td>\n",
              "      <td>2148-01-04 09:43:00</td>\n",
              "      <td>None</td>\n",
              "      <td>EMERGENCY</td>\n",
              "      <td>EMERGENCY ROOM ADMIT</td>\n",
              "      <td>DISC-TRAN CANCER/CHLDRN H</td>\n",
              "      <td>Medicare</td>\n",
              "      <td>None</td>\n",
              "      <td>JEWISH</td>\n",
              "      <td>MARRIED</td>\n",
              "      <td>WHITE</td>\n",
              "      <td>2147-12-05 09:14:00</td>\n",
              "      <td>2147-12-05 14:37:00</td>\n",
              "      <td>ICH</td>\n",
              "      <td>0</td>\n",
              "      <td>1</td>\n",
              "      <td>6.0</td>\n",
              "      <td>4.0</td>\n",
              "      <td>1.0</td>\n",
              "      <td>1.0</td>\n",
              "      <td>0.0</td>\n",
              "      <td>Tuesday</td>\n",
              "      <td>Thursday</td>\n",
              "      <td>Tuesday</td>\n",
              "      <td>1</td>\n",
              "      <td>Thursday</td>\n",
              "      <td>weekday</td>\n",
              "      <td>1695 days 14:17:00</td>\n",
              "      <td>long_survival</td>\n",
              "      <td>0</td>\n",
              "      <td>False</td>\n",
              "      <td>emergency</td>\n",
              "    </tr>\n",
              "    <tr>\n",
              "      <th>19</th>\n",
              "      <td>5659</td>\n",
              "      <td>182307</td>\n",
              "      <td>283858</td>\n",
              "      <td>M</td>\n",
              "      <td>2149-09-17 21:03:00</td>\n",
              "      <td>2149-10-09 16:40:00</td>\n",
              "      <td>22</td>\n",
              "      <td>81</td>\n",
              "      <td>EMERGENCY</td>\n",
              "      <td>0</td>\n",
              "      <td>2149-09-23 10:28:21</td>\n",
              "      <td>2149-10-03 16:45:43</td>\n",
              "      <td>10.0</td>\n",
              "      <td>CSRU</td>\n",
              "      <td>0</td>\n",
              "      <td>51</td>\n",
              "      <td>0.581248</td>\n",
              "      <td>63256.0</td>\n",
              "      <td>3.0</td>\n",
              "      <td>43411</td>\n",
              "      <td>5357</td>\n",
              "      <td>M</td>\n",
              "      <td>2068-03-11</td>\n",
              "      <td>NaT</td>\n",
              "      <td>NaT</td>\n",
              "      <td>NaT</td>\n",
              "      <td>0</td>\n",
              "      <td>6879</td>\n",
              "      <td>2149-09-17 21:03:00</td>\n",
              "      <td>2149-10-09 16:40:00</td>\n",
              "      <td>None</td>\n",
              "      <td>EMERGENCY</td>\n",
              "      <td>EMERGENCY ROOM ADMIT</td>\n",
              "      <td>REHAB/DISTINCT PART HOSP</td>\n",
              "      <td>Medicare</td>\n",
              "      <td>None</td>\n",
              "      <td>CATHOLIC</td>\n",
              "      <td>MARRIED</td>\n",
              "      <td>WHITE</td>\n",
              "      <td>2149-09-17 12:26:00</td>\n",
              "      <td>2149-09-17 22:45:00</td>\n",
              "      <td>AORTIC VALVE MALFUNCTIONING</td>\n",
              "      <td>0</td>\n",
              "      <td>1</td>\n",
              "      <td>8.0</td>\n",
              "      <td>5.0</td>\n",
              "      <td>1.0</td>\n",
              "      <td>2.0</td>\n",
              "      <td>0.0</td>\n",
              "      <td>Wednesday</td>\n",
              "      <td>Thursday</td>\n",
              "      <td>Tuesday</td>\n",
              "      <td>1</td>\n",
              "      <td>Friday</td>\n",
              "      <td>weekday</td>\n",
              "      <td>NaT</td>\n",
              "      <td>long_survival</td>\n",
              "      <td>0</td>\n",
              "      <td>False</td>\n",
              "      <td>emergency</td>\n",
              "    </tr>\n",
              "  </tbody>\n",
              "</table>\n",
              "</div>"
            ],
            "text/plain": [
              "    subject_id  hadm_id  ...  home_discharge_bool adm_type_2\n",
              "0          141   168006  ...                False  emergency\n",
              "1          416   148709  ...                 True  emergency\n",
              "2          490   166850  ...                False  emergency\n",
              "3          490   166850  ...                False  emergency\n",
              "4          831   185983  ...                False  emergency\n",
              "5         1054   183383  ...                False  emergency\n",
              "6         1253   129963  ...                 True   elective\n",
              "7         1381   181430  ...                False  emergency\n",
              "8         1609   152284  ...                False  emergency\n",
              "9         2035   146528  ...                False  emergency\n",
              "10        3232   146611  ...                False  emergency\n",
              "11        3808   194227  ...                 True  emergency\n",
              "12        3831   112264  ...                False  emergency\n",
              "13        3852   120524  ...                False  emergency\n",
              "14        4076   137717  ...                 True  emergency\n",
              "15        4339   178315  ...                False  emergency\n",
              "16        4759   179664  ...                False  emergency\n",
              "17        4988   124961  ...                False  emergency\n",
              "18        5307   168261  ...                False  emergency\n",
              "19        5659   182307  ...                False  emergency\n",
              "\n",
              "[20 rows x 60 columns]"
            ]
          },
          "metadata": {
            "tags": []
          },
          "execution_count": 101
        }
      ]
    },
    {
      "cell_type": "code",
      "metadata": {
        "id": "noaJeoMizot1",
        "colab_type": "code",
        "outputId": "e62729fb-b81b-4db7-8e64-c4d28f8672f4",
        "colab": {
          "base_uri": "https://localhost:8080/",
          "height": 34
        }
      },
      "source": [
        "#Investigating statistics\n",
        "df_filtered = data3[(data4.inday_icu_wkd == 'weekend') & (data4.adm_type_2 == 'emergency')] \n",
        "df_filtered.shape[0]"
      ],
      "execution_count": 0,
      "outputs": [
        {
          "output_type": "execute_result",
          "data": {
            "text/plain": [
              "974"
            ]
          },
          "metadata": {
            "tags": []
          },
          "execution_count": 102
        }
      ]
    },
    {
      "cell_type": "code",
      "metadata": {
        "id": "D-LwM_lvz6CH",
        "colab_type": "code",
        "colab": {}
      },
      "source": [
        "#Change 'adm_type_2' to boolean to run the model and predict on emergency\n",
        "#Create a binary column with all 'home' categories as 1\n",
        "data4['adm_type_2_bool'] = np.where(data4.adm_type_2 == 'emergency', 1, 0)"
      ],
      "execution_count": 0,
      "outputs": []
    },
    {
      "cell_type": "code",
      "metadata": {
        "id": "SoKnP02H12re",
        "colab_type": "code",
        "colab": {}
      },
      "source": [
        "#home_discharge_bool\n",
        "data4['home_discharge_flag'] = np.where(data4.home_discharge_bool == True, 1, 0)"
      ],
      "execution_count": 0,
      "outputs": []
    },
    {
      "cell_type": "markdown",
      "metadata": {
        "id": "Zv24Zu-zRV6p",
        "colab_type": "text"
      },
      "source": [
        "#Statistical Analysis: T-Test"
      ]
    },
    {
      "cell_type": "code",
      "metadata": {
        "id": "7vvIDCoWSQp4",
        "colab_type": "code",
        "outputId": "c9370553-835c-4412-9eae-26fee8ea1f00",
        "colab": {
          "base_uri": "https://localhost:8080/",
          "height": 383
        }
      },
      "source": [
        "data4.head()"
      ],
      "execution_count": 0,
      "outputs": [
        {
          "output_type": "execute_result",
          "data": {
            "text/html": [
              "<div>\n",
              "<style scoped>\n",
              "    .dataframe tbody tr th:only-of-type {\n",
              "        vertical-align: middle;\n",
              "    }\n",
              "\n",
              "    .dataframe tbody tr th {\n",
              "        vertical-align: top;\n",
              "    }\n",
              "\n",
              "    .dataframe thead th {\n",
              "        text-align: right;\n",
              "    }\n",
              "</style>\n",
              "<table border=\"1\" class=\"dataframe\">\n",
              "  <thead>\n",
              "    <tr style=\"text-align: right;\">\n",
              "      <th></th>\n",
              "      <th>subject_id</th>\n",
              "      <th>hadm_id</th>\n",
              "      <th>icustay_id</th>\n",
              "      <th>gender_x</th>\n",
              "      <th>admittime_hospital</th>\n",
              "      <th>dischtime_hospital</th>\n",
              "      <th>los_hospital</th>\n",
              "      <th>admission_age</th>\n",
              "      <th>admission_type_x</th>\n",
              "      <th>hospital_expire_flag_x</th>\n",
              "      <th>intime_icu</th>\n",
              "      <th>outtime_icu</th>\n",
              "      <th>los_icu</th>\n",
              "      <th>first_careunit</th>\n",
              "      <th>icustay_expire_flag</th>\n",
              "      <th>oasis</th>\n",
              "      <th>oasis_prob</th>\n",
              "      <th>row_id_x</th>\n",
              "      <th>seq_num</th>\n",
              "      <th>icd9_code</th>\n",
              "      <th>row_id_y</th>\n",
              "      <th>gender_y</th>\n",
              "      <th>dob</th>\n",
              "      <th>dod</th>\n",
              "      <th>dod_hosp</th>\n",
              "      <th>dod_ssn</th>\n",
              "      <th>expire_flag</th>\n",
              "      <th>row_id</th>\n",
              "      <th>admittime</th>\n",
              "      <th>dischtime</th>\n",
              "      <th>deathtime</th>\n",
              "      <th>admission_type_y</th>\n",
              "      <th>admission_location</th>\n",
              "      <th>discharge_location</th>\n",
              "      <th>insurance</th>\n",
              "      <th>language</th>\n",
              "      <th>religion</th>\n",
              "      <th>marital_status</th>\n",
              "      <th>ethnicity</th>\n",
              "      <th>edregtime</th>\n",
              "      <th>edouttime</th>\n",
              "      <th>diagnosis</th>\n",
              "      <th>hospital_expire_flag_y</th>\n",
              "      <th>has_chartevents_data</th>\n",
              "      <th>mingcs</th>\n",
              "      <th>gcsmotor</th>\n",
              "      <th>gcsverbal</th>\n",
              "      <th>gcseyes</th>\n",
              "      <th>endotrachflag</th>\n",
              "      <th>admitday_hospital</th>\n",
              "      <th>dischday_hospital</th>\n",
              "      <th>inday_icu</th>\n",
              "      <th>inday_icu_seq</th>\n",
              "      <th>outday_icu</th>\n",
              "      <th>inday_icu_wkd</th>\n",
              "      <th>survival_time</th>\n",
              "      <th>death_post_discharge_in_days</th>\n",
              "      <th>survival_time_flag</th>\n",
              "      <th>home_discharge_bool</th>\n",
              "      <th>adm_type_2</th>\n",
              "      <th>adm_type_2_bool</th>\n",
              "      <th>home_discharge_flag</th>\n",
              "    </tr>\n",
              "  </thead>\n",
              "  <tbody>\n",
              "    <tr>\n",
              "      <th>0</th>\n",
              "      <td>141</td>\n",
              "      <td>168006</td>\n",
              "      <td>234668</td>\n",
              "      <td>M</td>\n",
              "      <td>2140-11-06 11:07:00</td>\n",
              "      <td>2140-11-09 20:36:00</td>\n",
              "      <td>3</td>\n",
              "      <td>80</td>\n",
              "      <td>EMERGENCY</td>\n",
              "      <td>1</td>\n",
              "      <td>2140-11-06 11:09:19</td>\n",
              "      <td>2140-11-09 22:35:29</td>\n",
              "      <td>3.0</td>\n",
              "      <td>MICU</td>\n",
              "      <td>1</td>\n",
              "      <td>53</td>\n",
              "      <td>0.641734</td>\n",
              "      <td>1784.0</td>\n",
              "      <td>2.0</td>\n",
              "      <td>43491</td>\n",
              "      <td>131</td>\n",
              "      <td>M</td>\n",
              "      <td>2060-05-03</td>\n",
              "      <td>2140-11-09</td>\n",
              "      <td>2140-11-09</td>\n",
              "      <td>2140-11-09</td>\n",
              "      <td>1</td>\n",
              "      <td>190</td>\n",
              "      <td>2140-11-06 11:07:00</td>\n",
              "      <td>2140-11-09 20:36:00</td>\n",
              "      <td>2140-11-09 20:36:00</td>\n",
              "      <td>EMERGENCY</td>\n",
              "      <td>EMERGENCY ROOM ADMIT</td>\n",
              "      <td>DEAD/EXPIRED</td>\n",
              "      <td>Medicare</td>\n",
              "      <td>None</td>\n",
              "      <td>OTHER</td>\n",
              "      <td>SINGLE</td>\n",
              "      <td>OTHER</td>\n",
              "      <td>2140-11-06 07:17:00</td>\n",
              "      <td>2140-11-06 12:07:00</td>\n",
              "      <td>DRA, SAH</td>\n",
              "      <td>1</td>\n",
              "      <td>1</td>\n",
              "      <td>14.0</td>\n",
              "      <td>6.0</td>\n",
              "      <td>4.0</td>\n",
              "      <td>4.0</td>\n",
              "      <td>0.0</td>\n",
              "      <td>Sunday</td>\n",
              "      <td>Wednesday</td>\n",
              "      <td>Sunday</td>\n",
              "      <td>6</td>\n",
              "      <td>Wednesday</td>\n",
              "      <td>weekend</td>\n",
              "      <td>-1 days +03:24:00</td>\n",
              "      <td>short_survival</td>\n",
              "      <td>1</td>\n",
              "      <td>False</td>\n",
              "      <td>emergency</td>\n",
              "      <td>1</td>\n",
              "      <td>0</td>\n",
              "    </tr>\n",
              "    <tr>\n",
              "      <th>1</th>\n",
              "      <td>416</td>\n",
              "      <td>148709</td>\n",
              "      <td>226936</td>\n",
              "      <td>F</td>\n",
              "      <td>2132-07-23 14:46:00</td>\n",
              "      <td>2132-08-11 17:19:00</td>\n",
              "      <td>19</td>\n",
              "      <td>56</td>\n",
              "      <td>EMERGENCY</td>\n",
              "      <td>0</td>\n",
              "      <td>2132-07-23 14:47:03</td>\n",
              "      <td>2132-08-08 17:03:29</td>\n",
              "      <td>16.0</td>\n",
              "      <td>MICU</td>\n",
              "      <td>0</td>\n",
              "      <td>55</td>\n",
              "      <td>0.698023</td>\n",
              "      <td>5023.0</td>\n",
              "      <td>1.0</td>\n",
              "      <td>430</td>\n",
              "      <td>392</td>\n",
              "      <td>F</td>\n",
              "      <td>2076-12-12</td>\n",
              "      <td>2136-11-11</td>\n",
              "      <td>NaT</td>\n",
              "      <td>2136-11-11</td>\n",
              "      <td>1</td>\n",
              "      <td>532</td>\n",
              "      <td>2132-07-23 14:46:00</td>\n",
              "      <td>2132-08-11 17:19:00</td>\n",
              "      <td>NaT</td>\n",
              "      <td>EMERGENCY</td>\n",
              "      <td>EMERGENCY ROOM ADMIT</td>\n",
              "      <td>HOME HEALTH CARE</td>\n",
              "      <td>Medicaid</td>\n",
              "      <td>HAIT</td>\n",
              "      <td>UNOBTAINABLE</td>\n",
              "      <td>MARRIED</td>\n",
              "      <td>BLACK/AFRICAN AMERICAN</td>\n",
              "      <td>2132-07-23 09:26:00</td>\n",
              "      <td>2132-07-23 15:08:00</td>\n",
              "      <td>SAH</td>\n",
              "      <td>0</td>\n",
              "      <td>1</td>\n",
              "      <td>13.0</td>\n",
              "      <td>6.0</td>\n",
              "      <td>4.0</td>\n",
              "      <td>3.0</td>\n",
              "      <td>0.0</td>\n",
              "      <td>Wednesday</td>\n",
              "      <td>Monday</td>\n",
              "      <td>Wednesday</td>\n",
              "      <td>2</td>\n",
              "      <td>Friday</td>\n",
              "      <td>weekday</td>\n",
              "      <td>1552 days 06:41:00</td>\n",
              "      <td>long_survival</td>\n",
              "      <td>0</td>\n",
              "      <td>True</td>\n",
              "      <td>emergency</td>\n",
              "      <td>1</td>\n",
              "      <td>1</td>\n",
              "    </tr>\n",
              "    <tr>\n",
              "      <th>2</th>\n",
              "      <td>490</td>\n",
              "      <td>166850</td>\n",
              "      <td>222952</td>\n",
              "      <td>M</td>\n",
              "      <td>2199-12-12 19:04:00</td>\n",
              "      <td>2199-12-13 20:33:00</td>\n",
              "      <td>1</td>\n",
              "      <td>87</td>\n",
              "      <td>EMERGENCY</td>\n",
              "      <td>1</td>\n",
              "      <td>2199-12-12 21:15:58</td>\n",
              "      <td>2199-12-13 20:33:59</td>\n",
              "      <td>1.0</td>\n",
              "      <td>SICU</td>\n",
              "      <td>1</td>\n",
              "      <td>58</td>\n",
              "      <td>0.772134</td>\n",
              "      <td>5788.0</td>\n",
              "      <td>1.0</td>\n",
              "      <td>43491</td>\n",
              "      <td>463</td>\n",
              "      <td>M</td>\n",
              "      <td>2112-11-20</td>\n",
              "      <td>2199-12-13</td>\n",
              "      <td>2199-12-13</td>\n",
              "      <td>2199-12-13</td>\n",
              "      <td>1</td>\n",
              "      <td>615</td>\n",
              "      <td>2199-12-12 19:04:00</td>\n",
              "      <td>2199-12-13 20:33:00</td>\n",
              "      <td>2199-12-13 20:33:00</td>\n",
              "      <td>EMERGENCY</td>\n",
              "      <td>EMERGENCY ROOM ADMIT</td>\n",
              "      <td>DEAD/EXPIRED</td>\n",
              "      <td>Medicare</td>\n",
              "      <td>None</td>\n",
              "      <td>UNOBTAINABLE</td>\n",
              "      <td>MARRIED</td>\n",
              "      <td>WHITE</td>\n",
              "      <td>2199-12-12 17:13:00</td>\n",
              "      <td>2199-12-12 22:06:00</td>\n",
              "      <td>CEREBRAL VASCULAR ACCIDENT</td>\n",
              "      <td>1</td>\n",
              "      <td>1</td>\n",
              "      <td>6.0</td>\n",
              "      <td>4.0</td>\n",
              "      <td>1.0</td>\n",
              "      <td>1.0</td>\n",
              "      <td>0.0</td>\n",
              "      <td>Thursday</td>\n",
              "      <td>Friday</td>\n",
              "      <td>Thursday</td>\n",
              "      <td>3</td>\n",
              "      <td>Friday</td>\n",
              "      <td>weekday</td>\n",
              "      <td>-1 days +03:27:00</td>\n",
              "      <td>short_survival</td>\n",
              "      <td>1</td>\n",
              "      <td>False</td>\n",
              "      <td>emergency</td>\n",
              "      <td>1</td>\n",
              "      <td>0</td>\n",
              "    </tr>\n",
              "    <tr>\n",
              "      <th>3</th>\n",
              "      <td>490</td>\n",
              "      <td>166850</td>\n",
              "      <td>222952</td>\n",
              "      <td>M</td>\n",
              "      <td>2199-12-12 19:04:00</td>\n",
              "      <td>2199-12-13 20:33:00</td>\n",
              "      <td>1</td>\n",
              "      <td>87</td>\n",
              "      <td>EMERGENCY</td>\n",
              "      <td>1</td>\n",
              "      <td>2199-12-12 21:15:58</td>\n",
              "      <td>2199-12-13 20:33:59</td>\n",
              "      <td>1.0</td>\n",
              "      <td>SICU</td>\n",
              "      <td>1</td>\n",
              "      <td>58</td>\n",
              "      <td>0.772134</td>\n",
              "      <td>5789.0</td>\n",
              "      <td>2.0</td>\n",
              "      <td>431</td>\n",
              "      <td>463</td>\n",
              "      <td>M</td>\n",
              "      <td>2112-11-20</td>\n",
              "      <td>2199-12-13</td>\n",
              "      <td>2199-12-13</td>\n",
              "      <td>2199-12-13</td>\n",
              "      <td>1</td>\n",
              "      <td>615</td>\n",
              "      <td>2199-12-12 19:04:00</td>\n",
              "      <td>2199-12-13 20:33:00</td>\n",
              "      <td>2199-12-13 20:33:00</td>\n",
              "      <td>EMERGENCY</td>\n",
              "      <td>EMERGENCY ROOM ADMIT</td>\n",
              "      <td>DEAD/EXPIRED</td>\n",
              "      <td>Medicare</td>\n",
              "      <td>None</td>\n",
              "      <td>UNOBTAINABLE</td>\n",
              "      <td>MARRIED</td>\n",
              "      <td>WHITE</td>\n",
              "      <td>2199-12-12 17:13:00</td>\n",
              "      <td>2199-12-12 22:06:00</td>\n",
              "      <td>CEREBRAL VASCULAR ACCIDENT</td>\n",
              "      <td>1</td>\n",
              "      <td>1</td>\n",
              "      <td>6.0</td>\n",
              "      <td>4.0</td>\n",
              "      <td>1.0</td>\n",
              "      <td>1.0</td>\n",
              "      <td>0.0</td>\n",
              "      <td>Thursday</td>\n",
              "      <td>Friday</td>\n",
              "      <td>Thursday</td>\n",
              "      <td>3</td>\n",
              "      <td>Friday</td>\n",
              "      <td>weekday</td>\n",
              "      <td>-1 days +03:27:00</td>\n",
              "      <td>short_survival</td>\n",
              "      <td>1</td>\n",
              "      <td>False</td>\n",
              "      <td>emergency</td>\n",
              "      <td>1</td>\n",
              "      <td>0</td>\n",
              "    </tr>\n",
              "    <tr>\n",
              "      <th>4</th>\n",
              "      <td>831</td>\n",
              "      <td>185983</td>\n",
              "      <td>223445</td>\n",
              "      <td>F</td>\n",
              "      <td>2151-06-30 09:44:00</td>\n",
              "      <td>2151-07-15 13:50:00</td>\n",
              "      <td>15</td>\n",
              "      <td>84</td>\n",
              "      <td>EMERGENCY</td>\n",
              "      <td>0</td>\n",
              "      <td>2151-06-30 09:44:47</td>\n",
              "      <td>2151-07-03 18:15:14</td>\n",
              "      <td>3.0</td>\n",
              "      <td>SICU</td>\n",
              "      <td>0</td>\n",
              "      <td>51</td>\n",
              "      <td>0.581248</td>\n",
              "      <td>9671.0</td>\n",
              "      <td>1.0</td>\n",
              "      <td>431</td>\n",
              "      <td>784</td>\n",
              "      <td>F</td>\n",
              "      <td>2067-05-06</td>\n",
              "      <td>2151-09-10</td>\n",
              "      <td>NaT</td>\n",
              "      <td>2151-09-10</td>\n",
              "      <td>1</td>\n",
              "      <td>1031</td>\n",
              "      <td>2151-06-30 09:44:00</td>\n",
              "      <td>2151-07-15 13:50:00</td>\n",
              "      <td>None</td>\n",
              "      <td>EMERGENCY</td>\n",
              "      <td>EMERGENCY ROOM ADMIT</td>\n",
              "      <td>REHAB/DISTINCT PART HOSP</td>\n",
              "      <td>Medicare</td>\n",
              "      <td>None</td>\n",
              "      <td>JEWISH</td>\n",
              "      <td>WIDOWED</td>\n",
              "      <td>WHITE</td>\n",
              "      <td>2151-06-30 08:22:00</td>\n",
              "      <td>2151-06-30 11:10:00</td>\n",
              "      <td>STROKE/TIA</td>\n",
              "      <td>0</td>\n",
              "      <td>1</td>\n",
              "      <td>7.0</td>\n",
              "      <td>4.0</td>\n",
              "      <td>1.0</td>\n",
              "      <td>2.0</td>\n",
              "      <td>0.0</td>\n",
              "      <td>Wednesday</td>\n",
              "      <td>Thursday</td>\n",
              "      <td>Wednesday</td>\n",
              "      <td>2</td>\n",
              "      <td>Saturday</td>\n",
              "      <td>weekday</td>\n",
              "      <td>56 days 10:10:00</td>\n",
              "      <td>short_survival</td>\n",
              "      <td>1</td>\n",
              "      <td>False</td>\n",
              "      <td>emergency</td>\n",
              "      <td>1</td>\n",
              "      <td>0</td>\n",
              "    </tr>\n",
              "  </tbody>\n",
              "</table>\n",
              "</div>"
            ],
            "text/plain": [
              "   subject_id  hadm_id  ...  adm_type_2_bool home_discharge_flag\n",
              "0         141   168006  ...                1                   0\n",
              "1         416   148709  ...                1                   1\n",
              "2         490   166850  ...                1                   0\n",
              "3         490   166850  ...                1                   0\n",
              "4         831   185983  ...                1                   0\n",
              "\n",
              "[5 rows x 62 columns]"
            ]
          },
          "metadata": {
            "tags": []
          },
          "execution_count": 13
        }
      ]
    },
    {
      "cell_type": "markdown",
      "metadata": {
        "id": "hBR6YjvZRebp",
        "colab_type": "text"
      },
      "source": [
        "## GCS Scores\n",
        "Comparing mingcs between weekend and weekday groups"
      ]
    },
    {
      "cell_type": "code",
      "metadata": {
        "id": "aK8qOHYzR0Rz",
        "colab_type": "code",
        "outputId": "4a5159f0-8d6a-470d-a169-09eaea639b22",
        "colab": {
          "base_uri": "https://localhost:8080/",
          "height": 34
        }
      },
      "source": [
        "#Retrieve a list of mingcs values for weekday and weekend patients\n",
        "wkday_gcs = data4.mingcs.where(data4.inday_icu_wkd=='weekday')\n",
        "wkend_gcs = data4.mingcs.where(data4.inday_icu_wkd=='weekend')\n",
        "len(wkday_gcs), len(wkend_gcs), np.mean(wkday_gcs), np.mean(wkend_gcs)"
      ],
      "execution_count": 0,
      "outputs": [
        {
          "output_type": "execute_result",
          "data": {
            "text/plain": [
              "(4322, 4322, 12.936009658919408, 12.554192229038854)"
            ]
          },
          "metadata": {
            "tags": []
          },
          "execution_count": 25
        }
      ]
    },
    {
      "cell_type": "code",
      "metadata": {
        "id": "4OEUM_nXYfAV",
        "colab_type": "code",
        "outputId": "f921c9b3-60ec-4114-e6ab-f55bc2220987",
        "colab": {
          "base_uri": "https://localhost:8080/",
          "height": 34
        }
      },
      "source": [
        "#T-test of 2 independent samples\n",
        "scipy.stats.ttest_ind(wkday_gcs, wkend_gcs, nan_policy='omit')"
      ],
      "execution_count": 0,
      "outputs": [
        {
          "output_type": "execute_result",
          "data": {
            "text/plain": [
              "Ttest_indResult(statistic=3.1576588971113297, pvalue=0.0016014522920464137)"
            ]
          },
          "metadata": {
            "tags": []
          },
          "execution_count": 26
        }
      ]
    },
    {
      "cell_type": "markdown",
      "metadata": {
        "id": "bd8cl2dzRqdL",
        "colab_type": "text"
      },
      "source": [
        "##ICU Length of Stay\n",
        "Comparing los_icu between weekend and weekday groups"
      ]
    },
    {
      "cell_type": "code",
      "metadata": {
        "id": "ZPIg2YP8R04T",
        "colab_type": "code",
        "outputId": "5ed5351c-b180-4c36-b3a9-d31e8430ae6f",
        "colab": {
          "base_uri": "https://localhost:8080/",
          "height": 34
        }
      },
      "source": [
        "#Retrieve a list of los_icu values for weekday and weekend patients\n",
        "wkday_los_icu = data4.los_icu.where(data4.inday_icu_wkd=='weekday')\n",
        "wkend_los_icu = data4.los_icu.where(data4.inday_icu_wkd=='weekend')\n",
        "len(wkday_los_icu), len(wkend_los_icu), np.mean(wkday_los_icu), np.mean(wkend_los_icu)"
      ],
      "execution_count": 0,
      "outputs": [
        {
          "output_type": "execute_result",
          "data": {
            "text/plain": [
              "(4322, 4322, 5.5299760191846525, 5.805273833671399)"
            ]
          },
          "metadata": {
            "tags": []
          },
          "execution_count": 27
        }
      ]
    },
    {
      "cell_type": "code",
      "metadata": {
        "id": "5swXog4TZdPd",
        "colab_type": "code",
        "outputId": "9af9582c-3c25-4f29-e8c3-277be5329f63",
        "colab": {
          "base_uri": "https://localhost:8080/",
          "height": 34
        }
      },
      "source": [
        "#T-test of 2 independent samples\n",
        "scipy.stats.ttest_ind(wkday_los_icu, wkend_los_icu, nan_policy='omit')"
      ],
      "execution_count": 0,
      "outputs": [
        {
          "output_type": "execute_result",
          "data": {
            "text/plain": [
              "Ttest_indResult(statistic=-1.050099939267342, pvalue=0.2937309061234465)"
            ]
          },
          "metadata": {
            "tags": []
          },
          "execution_count": 29
        }
      ]
    },
    {
      "cell_type": "markdown",
      "metadata": {
        "id": "cYmr63miRvc7",
        "colab_type": "text"
      },
      "source": [
        "##Hospital Length of Stay\n",
        "Comparing los_hospital between weekend and weekday groups"
      ]
    },
    {
      "cell_type": "code",
      "metadata": {
        "id": "6167UsN4RydL",
        "colab_type": "code",
        "outputId": "e38c0190-3c1b-4e2d-d474-69c33704cfef",
        "colab": {
          "base_uri": "https://localhost:8080/",
          "height": 34
        }
      },
      "source": [
        "#Retrieve a list of los_hospital values for weekday and weekend patients\n",
        "wkday_los_hospital = data4.los_hospital.where(data4.inday_icu_wkd=='weekday')\n",
        "wkend_los_hospital = data4.los_hospital.where(data4.inday_icu_wkd=='weekend')\n",
        "len(wkday_los_hospital), len(wkend_los_hospital), np.mean(wkday_los_hospital), np.mean(wkend_los_hospital)"
      ],
      "execution_count": 0,
      "outputs": [
        {
          "output_type": "execute_result",
          "data": {
            "text/plain": [
              "(4322, 4322, 11.451139088729017, 11.181541582150102)"
            ]
          },
          "metadata": {
            "tags": []
          },
          "execution_count": 30
        }
      ]
    },
    {
      "cell_type": "code",
      "metadata": {
        "id": "YWUqq7nIagIu",
        "colab_type": "code",
        "outputId": "aab059c1-878c-4afa-e5b2-b4c261ffa372",
        "colab": {
          "base_uri": "https://localhost:8080/",
          "height": 34
        }
      },
      "source": [
        "#T-test of 2 independent samples\n",
        "scipy.stats.ttest_ind(wkday_los_hospital, wkend_los_hospital, nan_policy='omit')"
      ],
      "execution_count": 0,
      "outputs": [
        {
          "output_type": "execute_result",
          "data": {
            "text/plain": [
              "Ttest_indResult(statistic=0.6397901821898775, pvalue=0.5223429431335364)"
            ]
          },
          "metadata": {
            "tags": []
          },
          "execution_count": 31
        }
      ]
    },
    {
      "cell_type": "markdown",
      "metadata": {
        "id": "Tur3aBt80OVa",
        "colab_type": "text"
      },
      "source": [
        "#Model Training with Logistic Regression"
      ]
    },
    {
      "cell_type": "markdown",
      "metadata": {
        "id": "-OH_qrNr3evD",
        "colab_type": "text"
      },
      "source": [
        "##Simple Logistic Regression"
      ]
    },
    {
      "cell_type": "code",
      "metadata": {
        "id": "kWA3XkFH3jIx",
        "colab_type": "code",
        "outputId": "4fa508f4-85bd-4dfe-c2c9-35a619972eb9",
        "colab": {
          "base_uri": "https://localhost:8080/",
          "height": 252
        }
      },
      "source": [
        "#Simple model\n",
        "#Hospital mortality no adjustments made\n",
        "simple_glm = smf.glm('hospital_expire_flag_x ~ C(inday_icu_wkd)', \n",
        "                     data=data4, family=sm.families.Binomial()).fit()\n",
        "simple_glm.summary2()"
      ],
      "execution_count": 0,
      "outputs": [
        {
          "output_type": "execute_result",
          "data": {
            "text/html": [
              "<table class=\"simpletable\">\n",
              "<tr>\n",
              "        <td>Model:</td>                  <td>GLM</td>               <td>AIC:</td>        <td>4453.5106</td> \n",
              "</tr>\n",
              "<tr>\n",
              "    <td>Link Function:</td>             <td>logit</td>              <td>BIC:</td>       <td>-31715.2551</td>\n",
              "</tr>\n",
              "<tr>\n",
              "  <td>Dependent Variable:</td> <td>hospital_expire_flag_x</td> <td>Log-Likelihood:</td>   <td>-2224.8</td>  \n",
              "</tr>\n",
              "<tr>\n",
              "         <td>Date:</td>           <td>2020-01-21 02:11</td>       <td>LL-Null:</td>       <td>-2236.3</td>  \n",
              "</tr>\n",
              "<tr>\n",
              "   <td>No. Observations:</td>           <td>4322</td>             <td>Deviance:</td>      <td>4449.5</td>   \n",
              "</tr>\n",
              "<tr>\n",
              "       <td>Df Model:</td>                 <td>1</td>            <td>Pearson chi2:</td>   <td>4.32e+03</td>  \n",
              "</tr>\n",
              "<tr>\n",
              "     <td>Df Residuals:</td>             <td>4320</td>              <td>Scale:</td>        <td>1.0000</td>   \n",
              "</tr>\n",
              "<tr>\n",
              "        <td>Method:</td>                <td>IRLS</td>                 <td></td>              <td></td>      \n",
              "</tr>\n",
              "</table>\n",
              "<table class=\"simpletable\">\n",
              "<tr>\n",
              "               <td></td>                <th>Coef.</th>  <th>Std.Err.</th>     <th>z</th>     <th>P>|z|</th> <th>[0.025</th>  <th>0.975]</th> \n",
              "</tr>\n",
              "<tr>\n",
              "  <th>Intercept</th>                   <td>-1.4112</td>  <td>0.0436</td>  <td>-32.3592</td> <td>0.0000</td> <td>-1.4967</td> <td>-1.3257</td>\n",
              "</tr>\n",
              "<tr>\n",
              "  <th>C(inday_icu_wkd)[T.weekend]</th> <td>0.4103</td>   <td>0.0840</td>   <td>4.8823</td>  <td>0.0000</td> <td>0.2456</td>  <td>0.5750</td> \n",
              "</tr>\n",
              "</table>"
            ],
            "text/plain": [
              "<class 'statsmodels.iolib.summary2.Summary'>\n",
              "\"\"\"\n",
              "                     Results: Generalized linear model\n",
              "============================================================================\n",
              "Model:                GLM                      AIC:              4453.5106  \n",
              "Link Function:        logit                    BIC:              -31715.2551\n",
              "Dependent Variable:   hospital_expire_flag_x   Log-Likelihood:   -2224.8    \n",
              "Date:                 2020-01-21 02:11         LL-Null:          -2236.3    \n",
              "No. Observations:     4322                     Deviance:         4449.5     \n",
              "Df Model:             1                        Pearson chi2:     4.32e+03   \n",
              "Df Residuals:         4320                     Scale:            1.0000     \n",
              "Method:               IRLS                                                  \n",
              "----------------------------------------------------------------------------\n",
              "                             Coef.  Std.Err.    z     P>|z|   [0.025  0.975]\n",
              "----------------------------------------------------------------------------\n",
              "Intercept                   -1.4112   0.0436 -32.3592 0.0000 -1.4967 -1.3257\n",
              "C(inday_icu_wkd)[T.weekend]  0.4103   0.0840   4.8823 0.0000  0.2456  0.5750\n",
              "============================================================================\n",
              "\n",
              "\"\"\""
            ]
          },
          "metadata": {
            "tags": []
          },
          "execution_count": 113
        }
      ]
    },
    {
      "cell_type": "markdown",
      "metadata": {
        "id": "AAXwezS62qpO",
        "colab_type": "text"
      },
      "source": [
        "##Hospital Mortality"
      ]
    },
    {
      "cell_type": "code",
      "metadata": {
        "id": "yemK9N2D0lm6",
        "colab_type": "code",
        "outputId": "32074e42-2080-4804-8f9b-db637794683d",
        "colab": {
          "base_uri": "https://localhost:8080/",
          "height": 315
        }
      },
      "source": [
        "#For Hospital Mortality adjusting for admission type, age and sex\n",
        "adj_glm = smf.glm('hospital_expire_flag_x ~ C(inday_icu_wkd) + C(adm_type_2) + admission_age +C(gender_x)', \n",
        "                     data=data4, family=sm.families.Binomial()).fit()\n",
        "adj_glm.summary2()\n",
        "# drop1(adj.glm,test=\"Chisq\")"
      ],
      "execution_count": 0,
      "outputs": [
        {
          "output_type": "execute_result",
          "data": {
            "text/html": [
              "<table class=\"simpletable\">\n",
              "<tr>\n",
              "        <td>Model:</td>                  <td>GLM</td>               <td>AIC:</td>        <td>4293.8393</td> \n",
              "</tr>\n",
              "<tr>\n",
              "    <td>Link Function:</td>             <td>logit</td>              <td>BIC:</td>       <td>-31855.8120</td>\n",
              "</tr>\n",
              "<tr>\n",
              "  <td>Dependent Variable:</td> <td>hospital_expire_flag_x</td> <td>Log-Likelihood:</td>   <td>-2141.9</td>  \n",
              "</tr>\n",
              "<tr>\n",
              "         <td>Date:</td>           <td>2020-01-21 01:59</td>       <td>LL-Null:</td>       <td>-2236.3</td>  \n",
              "</tr>\n",
              "<tr>\n",
              "   <td>No. Observations:</td>           <td>4322</td>             <td>Deviance:</td>      <td>4283.8</td>   \n",
              "</tr>\n",
              "<tr>\n",
              "       <td>Df Model:</td>                 <td>4</td>            <td>Pearson chi2:</td>   <td>4.34e+03</td>  \n",
              "</tr>\n",
              "<tr>\n",
              "     <td>Df Residuals:</td>             <td>4317</td>              <td>Scale:</td>        <td>1.0000</td>   \n",
              "</tr>\n",
              "<tr>\n",
              "        <td>Method:</td>                <td>IRLS</td>                 <td></td>              <td></td>      \n",
              "</tr>\n",
              "</table>\n",
              "<table class=\"simpletable\">\n",
              "<tr>\n",
              "               <td></td>                <th>Coef.</th>  <th>Std.Err.</th>     <th>z</th>     <th>P>|z|</th> <th>[0.025</th>  <th>0.975]</th> \n",
              "</tr>\n",
              "<tr>\n",
              "  <th>Intercept</th>                   <td>-4.8898</td>  <td>0.3398</td>  <td>-14.3885</td> <td>0.0000</td> <td>-5.5559</td> <td>-4.2237</td>\n",
              "</tr>\n",
              "<tr>\n",
              "  <th>C(inday_icu_wkd)[T.weekend]</th> <td>0.3549</td>   <td>0.0857</td>   <td>4.1411</td>  <td>0.0000</td> <td>0.1869</td>  <td>0.5228</td> \n",
              "</tr>\n",
              "<tr>\n",
              "  <th>C(adm_type_2)[T.emergency]</th>  <td>1.8561</td>   <td>0.2682</td>   <td>6.9213</td>  <td>0.0000</td> <td>1.3305</td>  <td>2.3817</td> \n",
              "</tr>\n",
              "<tr>\n",
              "  <th>C(gender_x)[T.M]</th>            <td>-0.0467</td>  <td>0.0762</td>   <td>-0.6132</td> <td>0.5397</td> <td>-0.1961</td> <td>0.1026</td> \n",
              "</tr>\n",
              "<tr>\n",
              "  <th>admission_age</th>               <td>0.0255</td>   <td>0.0028</td>   <td>9.0808</td>  <td>0.0000</td> <td>0.0200</td>  <td>0.0310</td> \n",
              "</tr>\n",
              "</table>"
            ],
            "text/plain": [
              "<class 'statsmodels.iolib.summary2.Summary'>\n",
              "\"\"\"\n",
              "                     Results: Generalized linear model\n",
              "============================================================================\n",
              "Model:                GLM                      AIC:              4293.8393  \n",
              "Link Function:        logit                    BIC:              -31855.8120\n",
              "Dependent Variable:   hospital_expire_flag_x   Log-Likelihood:   -2141.9    \n",
              "Date:                 2020-01-21 01:59         LL-Null:          -2236.3    \n",
              "No. Observations:     4322                     Deviance:         4283.8     \n",
              "Df Model:             4                        Pearson chi2:     4.34e+03   \n",
              "Df Residuals:         4317                     Scale:            1.0000     \n",
              "Method:               IRLS                                                  \n",
              "----------------------------------------------------------------------------\n",
              "                             Coef.  Std.Err.    z     P>|z|   [0.025  0.975]\n",
              "----------------------------------------------------------------------------\n",
              "Intercept                   -4.8898   0.3398 -14.3885 0.0000 -5.5559 -4.2237\n",
              "C(inday_icu_wkd)[T.weekend]  0.3549   0.0857   4.1411 0.0000  0.1869  0.5228\n",
              "C(adm_type_2)[T.emergency]   1.8561   0.2682   6.9213 0.0000  1.3305  2.3817\n",
              "C(gender_x)[T.M]            -0.0467   0.0762  -0.6132 0.5397 -0.1961  0.1026\n",
              "admission_age                0.0255   0.0028   9.0808 0.0000  0.0200  0.0310\n",
              "============================================================================\n",
              "\n",
              "\"\"\""
            ]
          },
          "metadata": {
            "tags": []
          },
          "execution_count": 108
        }
      ]
    },
    {
      "cell_type": "markdown",
      "metadata": {
        "id": "BWh_uRYc2oQe",
        "colab_type": "text"
      },
      "source": [
        "##ICU Mortality"
      ]
    },
    {
      "cell_type": "code",
      "metadata": {
        "id": "aiUdU9OI0ftN",
        "colab_type": "code",
        "outputId": "dc41a74e-5856-4d1a-8212-5041abf6e023",
        "colab": {
          "base_uri": "https://localhost:8080/",
          "height": 315
        }
      },
      "source": [
        "#For ICU mortality adjusting for admission type, age and sex\n",
        "adj_glm = smf.glm('icustay_expire_flag ~ C(inday_icu_wkd) + C(adm_type_2) + admission_age +C(gender_x)', \n",
        "                     data=data4, family=sm.families.Binomial()).fit()\n",
        "adj_glm.summary2()\n",
        "# drop1(adj.glm,test=\"Chisq\")"
      ],
      "execution_count": 0,
      "outputs": [
        {
          "output_type": "execute_result",
          "data": {
            "text/html": [
              "<table class=\"simpletable\">\n",
              "<tr>\n",
              "        <td>Model:</td>                <td>GLM</td>              <td>AIC:</td>        <td>3711.1782</td> \n",
              "</tr>\n",
              "<tr>\n",
              "    <td>Link Function:</td>           <td>logit</td>             <td>BIC:</td>       <td>-32438.4730</td>\n",
              "</tr>\n",
              "<tr>\n",
              "  <td>Dependent Variable:</td> <td>icustay_expire_flag</td> <td>Log-Likelihood:</td>   <td>-1850.6</td>  \n",
              "</tr>\n",
              "<tr>\n",
              "         <td>Date:</td>         <td>2020-01-21 01:58</td>      <td>LL-Null:</td>       <td>-1891.1</td>  \n",
              "</tr>\n",
              "<tr>\n",
              "   <td>No. Observations:</td>         <td>4322</td>            <td>Deviance:</td>      <td>3701.2</td>   \n",
              "</tr>\n",
              "<tr>\n",
              "       <td>Df Model:</td>               <td>4</td>           <td>Pearson chi2:</td>   <td>4.31e+03</td>  \n",
              "</tr>\n",
              "<tr>\n",
              "     <td>Df Residuals:</td>           <td>4317</td>             <td>Scale:</td>        <td>1.0000</td>   \n",
              "</tr>\n",
              "<tr>\n",
              "        <td>Method:</td>              <td>IRLS</td>                <td></td>              <td></td>      \n",
              "</tr>\n",
              "</table>\n",
              "<table class=\"simpletable\">\n",
              "<tr>\n",
              "               <td></td>                <th>Coef.</th>  <th>Std.Err.</th>     <th>z</th>     <th>P>|z|</th> <th>[0.025</th>  <th>0.975]</th> \n",
              "</tr>\n",
              "<tr>\n",
              "  <th>Intercept</th>                   <td>-4.1506</td>  <td>0.3536</td>  <td>-11.7385</td> <td>0.0000</td> <td>-4.8437</td> <td>-3.4576</td>\n",
              "</tr>\n",
              "<tr>\n",
              "  <th>C(inday_icu_wkd)[T.weekend]</th> <td>0.2594</td>   <td>0.0950</td>   <td>2.7305</td>  <td>0.0063</td> <td>0.0732</td>  <td>0.4457</td> \n",
              "</tr>\n",
              "<tr>\n",
              "  <th>C(adm_type_2)[T.emergency]</th>  <td>1.5401</td>   <td>0.2774</td>   <td>5.5512</td>  <td>0.0000</td> <td>0.9963</td>  <td>2.0838</td> \n",
              "</tr>\n",
              "<tr>\n",
              "  <th>C(gender_x)[T.M]</th>            <td>-0.0345</td>  <td>0.0843</td>   <td>-0.4089</td> <td>0.6826</td> <td>-0.1998</td> <td>0.1308</td> \n",
              "</tr>\n",
              "<tr>\n",
              "  <th>admission_age</th>               <td>0.0143</td>   <td>0.0030</td>   <td>4.7714</td>  <td>0.0000</td> <td>0.0084</td>  <td>0.0202</td> \n",
              "</tr>\n",
              "</table>"
            ],
            "text/plain": [
              "<class 'statsmodels.iolib.summary2.Summary'>\n",
              "\"\"\"\n",
              "                     Results: Generalized linear model\n",
              "============================================================================\n",
              "Model:                 GLM                    AIC:               3711.1782  \n",
              "Link Function:         logit                  BIC:               -32438.4730\n",
              "Dependent Variable:    icustay_expire_flag    Log-Likelihood:    -1850.6    \n",
              "Date:                  2020-01-21 01:58       LL-Null:           -1891.1    \n",
              "No. Observations:      4322                   Deviance:          3701.2     \n",
              "Df Model:              4                      Pearson chi2:      4.31e+03   \n",
              "Df Residuals:          4317                   Scale:             1.0000     \n",
              "Method:                IRLS                                                 \n",
              "----------------------------------------------------------------------------\n",
              "                             Coef.  Std.Err.    z     P>|z|   [0.025  0.975]\n",
              "----------------------------------------------------------------------------\n",
              "Intercept                   -4.1506   0.3536 -11.7385 0.0000 -4.8437 -3.4576\n",
              "C(inday_icu_wkd)[T.weekend]  0.2594   0.0950   2.7305 0.0063  0.0732  0.4457\n",
              "C(adm_type_2)[T.emergency]   1.5401   0.2774   5.5512 0.0000  0.9963  2.0838\n",
              "C(gender_x)[T.M]            -0.0345   0.0843  -0.4089 0.6826 -0.1998  0.1308\n",
              "admission_age                0.0143   0.0030   4.7714 0.0000  0.0084  0.0202\n",
              "============================================================================\n",
              "\n",
              "\"\"\""
            ]
          },
          "metadata": {
            "tags": []
          },
          "execution_count": 107
        }
      ]
    },
    {
      "cell_type": "markdown",
      "metadata": {
        "id": "lPpUZRCo2f9e",
        "colab_type": "text"
      },
      "source": [
        "##Home Discharge"
      ]
    },
    {
      "cell_type": "markdown",
      "metadata": {
        "id": "sDEunACgM87c",
        "colab_type": "text"
      },
      "source": [
        "###Inclusive of mortality"
      ]
    },
    {
      "cell_type": "code",
      "metadata": {
        "id": "EDcy73ux0RHa",
        "colab_type": "code",
        "outputId": "58ae8b07-e769-4c6d-abf1-41c11c52bef4",
        "colab": {
          "base_uri": "https://localhost:8080/",
          "height": 315
        }
      },
      "source": [
        "#For Home Discharge adjusting for admission type, age and sex\n",
        "adj_glm = smf.glm('home_discharge_bool ~ C(inday_icu_wkd) + C(adm_type_2) + admission_age +C(gender_x)', \n",
        "                     data=data4, family=sm.families.Binomial()).fit()\n",
        "adj_glm.summary2()\n",
        "# drop1(adj.glm,test=\"Chisq\")"
      ],
      "execution_count": 0,
      "outputs": [
        {
          "output_type": "execute_result",
          "data": {
            "text/html": [
              "<table class=\"simpletable\">\n",
              "<tr>\n",
              "        <td>Model:</td>                                    <td>GLM</td>                                  <td>AIC:</td>        <td>4961.5274</td> \n",
              "</tr>\n",
              "<tr>\n",
              "    <td>Link Function:</td>                               <td>logit</td>                                 <td>BIC:</td>       <td>-31188.1238</td>\n",
              "</tr>\n",
              "<tr>\n",
              "  <td>Dependent Variable:</td> <td>['home_discharge_bool[False]', 'home_discharge_bool[True]']</td> <td>Log-Likelihood:</td>   <td>-2475.8</td>  \n",
              "</tr>\n",
              "<tr>\n",
              "         <td>Date:</td>                             <td>2020-01-21 01:57</td>                          <td>LL-Null:</td>       <td>-2647.2</td>  \n",
              "</tr>\n",
              "<tr>\n",
              "   <td>No. Observations:</td>                             <td>4322</td>                                <td>Deviance:</td>      <td>4951.5</td>   \n",
              "</tr>\n",
              "<tr>\n",
              "       <td>Df Model:</td>                                   <td>4</td>                               <td>Pearson chi2:</td>   <td>4.27e+03</td>  \n",
              "</tr>\n",
              "<tr>\n",
              "     <td>Df Residuals:</td>                               <td>4317</td>                                 <td>Scale:</td>        <td>1.0000</td>   \n",
              "</tr>\n",
              "<tr>\n",
              "        <td>Method:</td>                                  <td>IRLS</td>                                    <td></td>              <td></td>      \n",
              "</tr>\n",
              "</table>\n",
              "<table class=\"simpletable\">\n",
              "<tr>\n",
              "               <td></td>                <th>Coef.</th>  <th>Std.Err.</th>     <th>z</th>     <th>P>|z|</th> <th>[0.025</th>  <th>0.975]</th> \n",
              "</tr>\n",
              "<tr>\n",
              "  <th>Intercept</th>                   <td>-2.6432</td>  <td>0.2064</td>  <td>-12.8039</td> <td>0.0000</td> <td>-3.0479</td> <td>-2.2386</td>\n",
              "</tr>\n",
              "<tr>\n",
              "  <th>C(inday_icu_wkd)[T.weekend]</th> <td>0.2440</td>   <td>0.0858</td>   <td>2.8432</td>  <td>0.0045</td> <td>0.0758</td>  <td>0.4122</td> \n",
              "</tr>\n",
              "<tr>\n",
              "  <th>C(adm_type_2)[T.emergency]</th>  <td>1.2146</td>   <td>0.1190</td>   <td>10.2098</td> <td>0.0000</td> <td>0.9815</td>  <td>1.4478</td> \n",
              "</tr>\n",
              "<tr>\n",
              "  <th>C(gender_x)[T.M]</th>            <td>-0.0912</td>  <td>0.0697</td>   <td>-1.3085</td> <td>0.1907</td> <td>-0.2278</td> <td>0.0454</td> \n",
              "</tr>\n",
              "<tr>\n",
              "  <th>admission_age</th>               <td>0.0362</td>   <td>0.0024</td>   <td>15.3373</td> <td>0.0000</td> <td>0.0315</td>  <td>0.0408</td> \n",
              "</tr>\n",
              "</table>"
            ],
            "text/plain": [
              "<class 'statsmodels.iolib.summary2.Summary'>\n",
              "\"\"\"\n",
              "                                     Results: Generalized linear model\n",
              "===========================================================================================================\n",
              "Model:              GLM                                                         AIC:            4961.5274  \n",
              "Link Function:      logit                                                       BIC:            -31188.1238\n",
              "Dependent Variable: ['home_discharge_bool[False]', 'home_discharge_bool[True]'] Log-Likelihood: -2475.8    \n",
              "Date:               2020-01-21 01:57                                            LL-Null:        -2647.2    \n",
              "No. Observations:   4322                                                        Deviance:       4951.5     \n",
              "Df Model:           4                                                           Pearson chi2:   4.27e+03   \n",
              "Df Residuals:       4317                                                        Scale:          1.0000     \n",
              "Method:             IRLS                                                                                   \n",
              "-----------------------------------------------------------------------------------------------------------------\n",
              "                                    Coef.        Std.Err.          z           P>|z|         [0.025        0.975]\n",
              "-----------------------------------------------------------------------------------------------------------------\n",
              "Intercept                          -2.6432         0.2064       -12.8039       0.0000       -3.0479       -2.2386\n",
              "C(inday_icu_wkd)[T.weekend]         0.2440         0.0858         2.8432       0.0045        0.0758        0.4122\n",
              "C(adm_type_2)[T.emergency]          1.2146         0.1190        10.2098       0.0000        0.9815        1.4478\n",
              "C(gender_x)[T.M]                   -0.0912         0.0697        -1.3085       0.1907       -0.2278        0.0454\n",
              "admission_age                       0.0362         0.0024        15.3373       0.0000        0.0315        0.0408\n",
              "===========================================================================================================\n",
              "\n",
              "\"\"\""
            ]
          },
          "metadata": {
            "tags": []
          },
          "execution_count": 105
        }
      ]
    },
    {
      "cell_type": "code",
      "metadata": {
        "id": "R9iH2wQ-1yPv",
        "colab_type": "code",
        "outputId": "01b4f508-ac25-47d5-a7c9-d17a5eb44e6d",
        "colab": {
          "base_uri": "https://localhost:8080/",
          "height": 315
        }
      },
      "source": [
        "#Verification of home discharge. Identical to the run above\n",
        "#For Home Discharge adjusting for admission type, age and sex\n",
        "adj_glm = smf.glm('home_discharge_flag ~ C(inday_icu_wkd) + C(adm_type_2) + admission_age +C(gender_x)', \n",
        "                     data=data4, family=sm.families.Binomial()).fit()\n",
        "adj_glm.summary2()\n",
        "# drop1(adj.glm,test=\"Chisq\")"
      ],
      "execution_count": 0,
      "outputs": [
        {
          "output_type": "execute_result",
          "data": {
            "text/html": [
              "<table class=\"simpletable\">\n",
              "<tr>\n",
              "        <td>Model:</td>                <td>GLM</td>              <td>AIC:</td>        <td>4961.5274</td> \n",
              "</tr>\n",
              "<tr>\n",
              "    <td>Link Function:</td>           <td>logit</td>             <td>BIC:</td>       <td>-31188.1238</td>\n",
              "</tr>\n",
              "<tr>\n",
              "  <td>Dependent Variable:</td> <td>home_discharge_flag</td> <td>Log-Likelihood:</td>   <td>-2475.8</td>  \n",
              "</tr>\n",
              "<tr>\n",
              "         <td>Date:</td>         <td>2020-01-21 02:04</td>      <td>LL-Null:</td>       <td>-2647.2</td>  \n",
              "</tr>\n",
              "<tr>\n",
              "   <td>No. Observations:</td>         <td>4322</td>            <td>Deviance:</td>      <td>4951.5</td>   \n",
              "</tr>\n",
              "<tr>\n",
              "       <td>Df Model:</td>               <td>4</td>           <td>Pearson chi2:</td>   <td>4.27e+03</td>  \n",
              "</tr>\n",
              "<tr>\n",
              "     <td>Df Residuals:</td>           <td>4317</td>             <td>Scale:</td>        <td>1.0000</td>   \n",
              "</tr>\n",
              "<tr>\n",
              "        <td>Method:</td>              <td>IRLS</td>                <td></td>              <td></td>      \n",
              "</tr>\n",
              "</table>\n",
              "<table class=\"simpletable\">\n",
              "<tr>\n",
              "               <td></td>                <th>Coef.</th>  <th>Std.Err.</th>     <th>z</th>     <th>P>|z|</th> <th>[0.025</th>  <th>0.975]</th> \n",
              "</tr>\n",
              "<tr>\n",
              "  <th>Intercept</th>                   <td>2.6432</td>   <td>0.2064</td>   <td>12.8039</td> <td>0.0000</td> <td>2.2386</td>  <td>3.0479</td> \n",
              "</tr>\n",
              "<tr>\n",
              "  <th>C(inday_icu_wkd)[T.weekend]</th> <td>-0.2440</td>  <td>0.0858</td>   <td>-2.8432</td> <td>0.0045</td> <td>-0.4122</td> <td>-0.0758</td>\n",
              "</tr>\n",
              "<tr>\n",
              "  <th>C(adm_type_2)[T.emergency]</th>  <td>-1.2146</td>  <td>0.1190</td>  <td>-10.2098</td> <td>0.0000</td> <td>-1.4478</td> <td>-0.9815</td>\n",
              "</tr>\n",
              "<tr>\n",
              "  <th>C(gender_x)[T.M]</th>            <td>0.0912</td>   <td>0.0697</td>   <td>1.3085</td>  <td>0.1907</td> <td>-0.0454</td> <td>0.2278</td> \n",
              "</tr>\n",
              "<tr>\n",
              "  <th>admission_age</th>               <td>-0.0362</td>  <td>0.0024</td>  <td>-15.3373</td> <td>0.0000</td> <td>-0.0408</td> <td>-0.0315</td>\n",
              "</tr>\n",
              "</table>"
            ],
            "text/plain": [
              "<class 'statsmodels.iolib.summary2.Summary'>\n",
              "\"\"\"\n",
              "                     Results: Generalized linear model\n",
              "============================================================================\n",
              "Model:                 GLM                    AIC:               4961.5274  \n",
              "Link Function:         logit                  BIC:               -31188.1238\n",
              "Dependent Variable:    home_discharge_flag    Log-Likelihood:    -2475.8    \n",
              "Date:                  2020-01-21 02:04       LL-Null:           -2647.2    \n",
              "No. Observations:      4322                   Deviance:          4951.5     \n",
              "Df Model:              4                      Pearson chi2:      4.27e+03   \n",
              "Df Residuals:          4317                   Scale:             1.0000     \n",
              "Method:                IRLS                                                 \n",
              "----------------------------------------------------------------------------\n",
              "                             Coef.  Std.Err.    z     P>|z|   [0.025  0.975]\n",
              "----------------------------------------------------------------------------\n",
              "Intercept                    2.6432   0.2064  12.8039 0.0000  2.2386  3.0479\n",
              "C(inday_icu_wkd)[T.weekend] -0.2440   0.0858  -2.8432 0.0045 -0.4122 -0.0758\n",
              "C(adm_type_2)[T.emergency]  -1.2146   0.1190 -10.2098 0.0000 -1.4478 -0.9815\n",
              "C(gender_x)[T.M]             0.0912   0.0697   1.3085 0.1907 -0.0454  0.2278\n",
              "admission_age               -0.0362   0.0024 -15.3373 0.0000 -0.0408 -0.0315\n",
              "============================================================================\n",
              "\n",
              "\"\"\""
            ]
          },
          "metadata": {
            "tags": []
          },
          "execution_count": 111
        }
      ]
    },
    {
      "cell_type": "markdown",
      "metadata": {
        "id": "V6JZJhZDNBHK",
        "colab_type": "text"
      },
      "source": [
        "###Exclusive of mortality (only the survivors)"
      ]
    },
    {
      "cell_type": "code",
      "metadata": {
        "id": "Pc9AOM0yNE5a",
        "colab_type": "code",
        "colab": {
          "base_uri": "https://localhost:8080/",
          "height": 315
        },
        "outputId": "f3acb26d-f850-449a-aee1-dabe670b87e0"
      },
      "source": [
        "#For Home Discharge adjusting for admission type, age and sex\n",
        "adj_glm = smf.glm('home_discharge_bool ~ C(inday_icu_wkd) + C(adm_type_2) + admission_age +C(gender_x)', \n",
        "                     data=df_survived, family=sm.families.Binomial()).fit()\n",
        "adj_glm.summary2()\n",
        "# drop1(adj.glm,test=\"Chisq\")"
      ],
      "execution_count": 36,
      "outputs": [
        {
          "output_type": "execute_result",
          "data": {
            "text/html": [
              "<table class=\"simpletable\">\n",
              "<tr>\n",
              "        <td>Model:</td>                <td>GLM</td>              <td>AIC:</td>        <td>4308.8042</td> \n",
              "</tr>\n",
              "<tr>\n",
              "    <td>Link Function:</td>           <td>logit</td>             <td>BIC:</td>       <td>-23335.1340</td>\n",
              "</tr>\n",
              "<tr>\n",
              "  <td>Dependent Variable:</td> <td>home_discharge_bool</td> <td>Log-Likelihood:</td>   <td>-2149.4</td>  \n",
              "</tr>\n",
              "<tr>\n",
              "         <td>Date:</td>         <td>2020-01-21 22:31</td>      <td>LL-Null:</td>       <td>-2265.5</td>  \n",
              "</tr>\n",
              "<tr>\n",
              "   <td>No. Observations:</td>         <td>3403</td>            <td>Deviance:</td>      <td>4298.8</td>   \n",
              "</tr>\n",
              "<tr>\n",
              "       <td>Df Model:</td>               <td>4</td>           <td>Pearson chi2:</td>   <td>3.39e+03</td>  \n",
              "</tr>\n",
              "<tr>\n",
              "     <td>Df Residuals:</td>           <td>3398</td>             <td>Scale:</td>        <td>1.0000</td>   \n",
              "</tr>\n",
              "<tr>\n",
              "        <td>Method:</td>              <td>IRLS</td>                <td></td>              <td></td>      \n",
              "</tr>\n",
              "</table>\n",
              "<table class=\"simpletable\">\n",
              "<tr>\n",
              "               <td></td>                <th>Coef.</th>  <th>Std.Err.</th>     <th>z</th>     <th>P>|z|</th> <th>[0.025</th>  <th>0.975]</th> \n",
              "</tr>\n",
              "<tr>\n",
              "  <th>Intercept</th>                   <td>2.5341</td>   <td>0.2184</td>   <td>11.6045</td> <td>0.0000</td> <td>2.1061</td>  <td>2.9621</td> \n",
              "</tr>\n",
              "<tr>\n",
              "  <th>C(inday_icu_wkd)[T.weekend]</th> <td>-0.1358</td>  <td>0.0914</td>   <td>-1.4855</td> <td>0.1374</td> <td>-0.3150</td> <td>0.0434</td> \n",
              "</tr>\n",
              "<tr>\n",
              "  <th>C(adm_type_2)[T.emergency]</th>  <td>-0.9564</td>  <td>0.1225</td>   <td>-7.8100</td> <td>0.0000</td> <td>-1.1964</td> <td>-0.7164</td>\n",
              "</tr>\n",
              "<tr>\n",
              "  <th>C(gender_x)[T.M]</th>            <td>0.1008</td>   <td>0.0736</td>   <td>1.3699</td>  <td>0.1707</td> <td>-0.0434</td> <td>0.2450</td> \n",
              "</tr>\n",
              "<tr>\n",
              "  <th>admission_age</th>               <td>-0.0333</td>  <td>0.0025</td>  <td>-13.1304</td> <td>0.0000</td> <td>-0.0383</td> <td>-0.0284</td>\n",
              "</tr>\n",
              "</table>"
            ],
            "text/plain": [
              "<class 'statsmodels.iolib.summary2.Summary'>\n",
              "\"\"\"\n",
              "                     Results: Generalized linear model\n",
              "============================================================================\n",
              "Model:                 GLM                    AIC:               4308.8042  \n",
              "Link Function:         logit                  BIC:               -23335.1340\n",
              "Dependent Variable:    home_discharge_bool    Log-Likelihood:    -2149.4    \n",
              "Date:                  2020-01-21 22:31       LL-Null:           -2265.5    \n",
              "No. Observations:      3403                   Deviance:          4298.8     \n",
              "Df Model:              4                      Pearson chi2:      3.39e+03   \n",
              "Df Residuals:          3398                   Scale:             1.0000     \n",
              "Method:                IRLS                                                 \n",
              "----------------------------------------------------------------------------\n",
              "                             Coef.  Std.Err.    z     P>|z|   [0.025  0.975]\n",
              "----------------------------------------------------------------------------\n",
              "Intercept                    2.5341   0.2184  11.6045 0.0000  2.1061  2.9621\n",
              "C(inday_icu_wkd)[T.weekend] -0.1358   0.0914  -1.4855 0.1374 -0.3150  0.0434\n",
              "C(adm_type_2)[T.emergency]  -0.9564   0.1225  -7.8100 0.0000 -1.1964 -0.7164\n",
              "C(gender_x)[T.M]             0.1008   0.0736   1.3699 0.1707 -0.0434  0.2450\n",
              "admission_age               -0.0333   0.0025 -13.1304 0.0000 -0.0383 -0.0284\n",
              "============================================================================\n",
              "\n",
              "\"\"\""
            ]
          },
          "metadata": {
            "tags": []
          },
          "execution_count": 36
        }
      ]
    },
    {
      "cell_type": "markdown",
      "metadata": {
        "id": "UdCVGuUi2jxu",
        "colab_type": "text"
      },
      "source": [
        "##6-Month Mortality"
      ]
    },
    {
      "cell_type": "markdown",
      "metadata": {
        "id": "8X9hVhHihd0w",
        "colab_type": "text"
      },
      "source": [
        "###Inclusive of in-hospital mortality"
      ]
    },
    {
      "cell_type": "code",
      "metadata": {
        "id": "ULHIpqwN0xul",
        "colab_type": "code",
        "outputId": "4fcef6cd-cede-46f9-d042-0467e0a7fb79",
        "colab": {
          "base_uri": "https://localhost:8080/",
          "height": 315
        }
      },
      "source": [
        "#For Death post Discharge adjusting for admission type, age and sex\n",
        "adj_glm = smf.glm('death_post_discharge_in_days ~ C(inday_icu_wkd) + C(adm_type_2) + admission_age +C(gender_x)', \n",
        "                     data=data4, family=sm.families.Binomial()).fit()\n",
        "adj_glm.summary2()\n",
        "# drop1(adj.glm,test=\"Chisq\")"
      ],
      "execution_count": 0,
      "outputs": [
        {
          "output_type": "execute_result",
          "data": {
            "text/html": [
              "<table class=\"simpletable\">\n",
              "<tr>\n",
              "        <td>Model:</td>                                                      <td>GLM</td>                                                    <td>AIC:</td>        <td>5083.9337</td> \n",
              "</tr>\n",
              "<tr>\n",
              "    <td>Link Function:</td>                                                 <td>logit</td>                                                   <td>BIC:</td>       <td>-31065.7176</td>\n",
              "</tr>\n",
              "<tr>\n",
              "  <td>Dependent Variable:</td> <td>['death_post_discharge_in_days[long_survival]', 'death_post_discharge_in_days[short_survival]']</td> <td>Log-Likelihood:</td>   <td>-2537.0</td>  \n",
              "</tr>\n",
              "<tr>\n",
              "         <td>Date:</td>                                               <td>2020-01-21 02:01</td>                                            <td>LL-Null:</td>       <td>-2697.9</td>  \n",
              "</tr>\n",
              "<tr>\n",
              "   <td>No. Observations:</td>                                               <td>4322</td>                                                  <td>Deviance:</td>      <td>5073.9</td>   \n",
              "</tr>\n",
              "<tr>\n",
              "       <td>Df Model:</td>                                                     <td>4</td>                                                 <td>Pearson chi2:</td>   <td>4.36e+03</td>  \n",
              "</tr>\n",
              "<tr>\n",
              "     <td>Df Residuals:</td>                                                 <td>4317</td>                                                   <td>Scale:</td>        <td>1.0000</td>   \n",
              "</tr>\n",
              "<tr>\n",
              "        <td>Method:</td>                                                    <td>IRLS</td>                                                      <td></td>              <td></td>      \n",
              "</tr>\n",
              "</table>\n",
              "<table class=\"simpletable\">\n",
              "<tr>\n",
              "               <td></td>                <th>Coef.</th>  <th>Std.Err.</th>     <th>z</th>     <th>P>|z|</th> <th>[0.025</th>  <th>0.975]</th> \n",
              "</tr>\n",
              "<tr>\n",
              "  <th>Intercept</th>                   <td>4.7439</td>   <td>0.2634</td>   <td>18.0069</td> <td>0.0000</td> <td>4.2275</td>  <td>5.2602</td> \n",
              "</tr>\n",
              "<tr>\n",
              "  <th>C(inday_icu_wkd)[T.weekend]</th> <td>-0.3036</td>  <td>0.0789</td>   <td>-3.8479</td> <td>0.0001</td> <td>-0.4583</td> <td>-0.1490</td>\n",
              "</tr>\n",
              "<tr>\n",
              "  <th>C(adm_type_2)[T.emergency]</th>  <td>-1.4890</td>  <td>0.1798</td>   <td>-8.2820</td> <td>0.0000</td> <td>-1.8414</td> <td>-1.1367</td>\n",
              "</tr>\n",
              "<tr>\n",
              "  <th>C(gender_x)[T.M]</th>            <td>-0.0368</td>  <td>0.0683</td>   <td>-0.5385</td> <td>0.5902</td> <td>-0.1705</td> <td>0.0970</td> \n",
              "</tr>\n",
              "<tr>\n",
              "  <th>admission_age</th>               <td>-0.0363</td>  <td>0.0026</td>  <td>-14.1077</td> <td>0.0000</td> <td>-0.0413</td> <td>-0.0312</td>\n",
              "</tr>\n",
              "</table>"
            ],
            "text/plain": [
              "<class 'statsmodels.iolib.summary2.Summary'>\n",
              "\"\"\"\n",
              "                                                       Results: Generalized linear model\n",
              "===============================================================================================================================================\n",
              "Model:              GLM                                                                                             AIC:            5083.9337  \n",
              "Link Function:      logit                                                                                           BIC:            -31065.7176\n",
              "Dependent Variable: ['death_post_discharge_in_days[long_survival]', 'death_post_discharge_in_days[short_survival]'] Log-Likelihood: -2537.0    \n",
              "Date:               2020-01-21 02:01                                                                                LL-Null:        -2697.9    \n",
              "No. Observations:   4322                                                                                            Deviance:       5073.9     \n",
              "Df Model:           4                                                                                               Pearson chi2:   4.36e+03   \n",
              "Df Residuals:       4317                                                                                            Scale:          1.0000     \n",
              "Method:             IRLS                                                                                                                       \n",
              "------------------------------------------------------------------------------------------------------------------------------------------------------------\n",
              "                                            Coef.               Std.Err.                 z                  P>|z|                [0.025               0.975]\n",
              "------------------------------------------------------------------------------------------------------------------------------------------------------------\n",
              "Intercept                                   4.7439                0.2634               18.0069              0.0000               4.2275               5.2602\n",
              "C(inday_icu_wkd)[T.weekend]                -0.3036                0.0789               -3.8479              0.0001              -0.4583              -0.1490\n",
              "C(adm_type_2)[T.emergency]                 -1.4890                0.1798               -8.2820              0.0000              -1.8414              -1.1367\n",
              "C(gender_x)[T.M]                           -0.0368                0.0683               -0.5385              0.5902              -0.1705               0.0970\n",
              "admission_age                              -0.0363                0.0026              -14.1077              0.0000              -0.0413              -0.0312\n",
              "===============================================================================================================================================\n",
              "\n",
              "\"\"\""
            ]
          },
          "metadata": {
            "tags": []
          },
          "execution_count": 109
        }
      ]
    },
    {
      "cell_type": "code",
      "metadata": {
        "id": "FAwFAG2l0aVL",
        "colab_type": "code",
        "outputId": "16318134-4d32-4a64-afa2-18ca7ff431e7",
        "colab": {
          "base_uri": "https://localhost:8080/",
          "height": 315
        }
      },
      "source": [
        "#This is identical to the one above, measured against the flag variable for clarity\n",
        "#Short survival = 1\n",
        "#For Short and Long term Survival adjusting for admission type, age and sex\n",
        "adj_glm = smf.glm('survival_time_flag ~ C(inday_icu_wkd) + C(adm_type_2) + admission_age +C(gender_x)', \n",
        "                     data=data4, family=sm.families.Binomial()).fit()\n",
        "adj_glm.summary2()\n",
        "# drop1(adj.glm,test=\"Chisq\")"
      ],
      "execution_count": 0,
      "outputs": [
        {
          "output_type": "execute_result",
          "data": {
            "text/html": [
              "<table class=\"simpletable\">\n",
              "<tr>\n",
              "        <td>Model:</td>                <td>GLM</td>             <td>AIC:</td>        <td>5083.9337</td> \n",
              "</tr>\n",
              "<tr>\n",
              "    <td>Link Function:</td>           <td>logit</td>            <td>BIC:</td>       <td>-31065.7176</td>\n",
              "</tr>\n",
              "<tr>\n",
              "  <td>Dependent Variable:</td> <td>survival_time_flag</td> <td>Log-Likelihood:</td>   <td>-2537.0</td>  \n",
              "</tr>\n",
              "<tr>\n",
              "         <td>Date:</td>         <td>2020-01-21 01:57</td>     <td>LL-Null:</td>       <td>-2697.9</td>  \n",
              "</tr>\n",
              "<tr>\n",
              "   <td>No. Observations:</td>         <td>4322</td>           <td>Deviance:</td>      <td>5073.9</td>   \n",
              "</tr>\n",
              "<tr>\n",
              "       <td>Df Model:</td>               <td>4</td>          <td>Pearson chi2:</td>   <td>4.36e+03</td>  \n",
              "</tr>\n",
              "<tr>\n",
              "     <td>Df Residuals:</td>           <td>4317</td>            <td>Scale:</td>        <td>1.0000</td>   \n",
              "</tr>\n",
              "<tr>\n",
              "        <td>Method:</td>              <td>IRLS</td>               <td></td>              <td></td>      \n",
              "</tr>\n",
              "</table>\n",
              "<table class=\"simpletable\">\n",
              "<tr>\n",
              "               <td></td>                <th>Coef.</th>  <th>Std.Err.</th>     <th>z</th>     <th>P>|z|</th> <th>[0.025</th>  <th>0.975]</th> \n",
              "</tr>\n",
              "<tr>\n",
              "  <th>Intercept</th>                   <td>-4.7439</td>  <td>0.2634</td>  <td>-18.0069</td> <td>0.0000</td> <td>-5.2602</td> <td>-4.2275</td>\n",
              "</tr>\n",
              "<tr>\n",
              "  <th>C(inday_icu_wkd)[T.weekend]</th> <td>0.3036</td>   <td>0.0789</td>   <td>3.8479</td>  <td>0.0001</td> <td>0.1490</td>  <td>0.4583</td> \n",
              "</tr>\n",
              "<tr>\n",
              "  <th>C(adm_type_2)[T.emergency]</th>  <td>1.4890</td>   <td>0.1798</td>   <td>8.2820</td>  <td>0.0000</td> <td>1.1367</td>  <td>1.8414</td> \n",
              "</tr>\n",
              "<tr>\n",
              "  <th>C(gender_x)[T.M]</th>            <td>0.0368</td>   <td>0.0683</td>   <td>0.5385</td>  <td>0.5902</td> <td>-0.0970</td> <td>0.1705</td> \n",
              "</tr>\n",
              "<tr>\n",
              "  <th>admission_age</th>               <td>0.0363</td>   <td>0.0026</td>   <td>14.1077</td> <td>0.0000</td> <td>0.0312</td>  <td>0.0413</td> \n",
              "</tr>\n",
              "</table>"
            ],
            "text/plain": [
              "<class 'statsmodels.iolib.summary2.Summary'>\n",
              "\"\"\"\n",
              "                     Results: Generalized linear model\n",
              "============================================================================\n",
              "Model:                  GLM                   AIC:               5083.9337  \n",
              "Link Function:          logit                 BIC:               -31065.7176\n",
              "Dependent Variable:     survival_time_flag    Log-Likelihood:    -2537.0    \n",
              "Date:                   2020-01-21 01:57      LL-Null:           -2697.9    \n",
              "No. Observations:       4322                  Deviance:          5073.9     \n",
              "Df Model:               4                     Pearson chi2:      4.36e+03   \n",
              "Df Residuals:           4317                  Scale:             1.0000     \n",
              "Method:                 IRLS                                                \n",
              "----------------------------------------------------------------------------\n",
              "                             Coef.  Std.Err.    z     P>|z|   [0.025  0.975]\n",
              "----------------------------------------------------------------------------\n",
              "Intercept                   -4.7439   0.2634 -18.0069 0.0000 -5.2602 -4.2275\n",
              "C(inday_icu_wkd)[T.weekend]  0.3036   0.0789   3.8479 0.0001  0.1490  0.4583\n",
              "C(adm_type_2)[T.emergency]   1.4890   0.1798   8.2820 0.0000  1.1367  1.8414\n",
              "C(gender_x)[T.M]             0.0368   0.0683   0.5385 0.5902 -0.0970  0.1705\n",
              "admission_age                0.0363   0.0026  14.1077 0.0000  0.0312  0.0413\n",
              "============================================================================\n",
              "\n",
              "\"\"\""
            ]
          },
          "metadata": {
            "tags": []
          },
          "execution_count": 106
        }
      ]
    },
    {
      "cell_type": "markdown",
      "metadata": {
        "id": "hZj17IzWhmTv",
        "colab_type": "text"
      },
      "source": [
        "###Exclusive of in-hospital mortality\n",
        "This only includes patients who were discharged alive"
      ]
    },
    {
      "cell_type": "code",
      "metadata": {
        "id": "y71kBiawhx3g",
        "colab_type": "code",
        "colab": {
          "base_uri": "https://localhost:8080/",
          "height": 315
        },
        "outputId": "78294e07-1655-4add-bfb4-229ccd91f905"
      },
      "source": [
        "#Measured against the flag variable for clarity\n",
        "#Short survival = 1\n",
        "#For Short and Long term Survival adjusting for admission type, age and sex\n",
        "adj_glm = smf.glm('survival_time_flag ~ C(inday_icu_wkd) + C(adm_type_2) + admission_age +C(gender_x)', \n",
        "                     data=df_survived, family=sm.families.Binomial()).fit()\n",
        "adj_glm.summary2()\n",
        "# drop1(adj.glm,test=\"Chisq\")"
      ],
      "execution_count": 71,
      "outputs": [
        {
          "output_type": "execute_result",
          "data": {
            "text/html": [
              "<table class=\"simpletable\">\n",
              "<tr>\n",
              "        <td>Model:</td>                <td>GLM</td>             <td>AIC:</td>        <td>2500.8761</td> \n",
              "</tr>\n",
              "<tr>\n",
              "    <td>Link Function:</td>           <td>logit</td>            <td>BIC:</td>       <td>-25143.0622</td>\n",
              "</tr>\n",
              "<tr>\n",
              "  <td>Dependent Variable:</td> <td>survival_time_flag</td> <td>Log-Likelihood:</td>   <td>-1245.4</td>  \n",
              "</tr>\n",
              "<tr>\n",
              "         <td>Date:</td>         <td>2020-01-22 01:16</td>     <td>LL-Null:</td>       <td>-1327.4</td>  \n",
              "</tr>\n",
              "<tr>\n",
              "   <td>No. Observations:</td>         <td>3403</td>           <td>Deviance:</td>      <td>2490.9</td>   \n",
              "</tr>\n",
              "<tr>\n",
              "       <td>Df Model:</td>               <td>4</td>          <td>Pearson chi2:</td>   <td>3.52e+03</td>  \n",
              "</tr>\n",
              "<tr>\n",
              "     <td>Df Residuals:</td>           <td>3398</td>            <td>Scale:</td>        <td>1.0000</td>   \n",
              "</tr>\n",
              "<tr>\n",
              "        <td>Method:</td>              <td>IRLS</td>               <td></td>              <td></td>      \n",
              "</tr>\n",
              "</table>\n",
              "<table class=\"simpletable\">\n",
              "<tr>\n",
              "               <td></td>                <th>Coef.</th>  <th>Std.Err.</th>     <th>z</th>     <th>P>|z|</th> <th>[0.025</th>  <th>0.975]</th> \n",
              "</tr>\n",
              "<tr>\n",
              "  <th>Intercept</th>                   <td>-6.2165</td>  <td>0.4032</td>  <td>-15.4172</td> <td>0.0000</td> <td>-7.0068</td> <td>-5.4262</td>\n",
              "</tr>\n",
              "<tr>\n",
              "  <th>C(inday_icu_wkd)[T.weekend]</th> <td>0.1157</td>   <td>0.1246</td>   <td>0.9291</td>  <td>0.3528</td> <td>-0.1284</td> <td>0.3598</td> \n",
              "</tr>\n",
              "<tr>\n",
              "  <th>C(adm_type_2)[T.emergency]</th>  <td>0.9473</td>   <td>0.2304</td>   <td>4.1117</td>  <td>0.0000</td> <td>0.4958</td>  <td>1.3989</td> \n",
              "</tr>\n",
              "<tr>\n",
              "  <th>C(gender_x)[T.M]</th>            <td>0.1468</td>   <td>0.1049</td>   <td>1.4001</td>  <td>0.1615</td> <td>-0.0587</td> <td>0.3523</td> \n",
              "</tr>\n",
              "<tr>\n",
              "  <th>admission_age</th>               <td>0.0483</td>   <td>0.0044</td>   <td>11.0829</td> <td>0.0000</td> <td>0.0398</td>  <td>0.0569</td> \n",
              "</tr>\n",
              "</table>"
            ],
            "text/plain": [
              "<class 'statsmodels.iolib.summary2.Summary'>\n",
              "\"\"\"\n",
              "                     Results: Generalized linear model\n",
              "============================================================================\n",
              "Model:                  GLM                   AIC:               2500.8761  \n",
              "Link Function:          logit                 BIC:               -25143.0622\n",
              "Dependent Variable:     survival_time_flag    Log-Likelihood:    -1245.4    \n",
              "Date:                   2020-01-22 01:16      LL-Null:           -1327.4    \n",
              "No. Observations:       3403                  Deviance:          2490.9     \n",
              "Df Model:               4                     Pearson chi2:      3.52e+03   \n",
              "Df Residuals:           3398                  Scale:             1.0000     \n",
              "Method:                 IRLS                                                \n",
              "----------------------------------------------------------------------------\n",
              "                             Coef.  Std.Err.    z     P>|z|   [0.025  0.975]\n",
              "----------------------------------------------------------------------------\n",
              "Intercept                   -6.2165   0.4032 -15.4172 0.0000 -7.0068 -5.4262\n",
              "C(inday_icu_wkd)[T.weekend]  0.1157   0.1246   0.9291 0.3528 -0.1284  0.3598\n",
              "C(adm_type_2)[T.emergency]   0.9473   0.2304   4.1117 0.0000  0.4958  1.3989\n",
              "C(gender_x)[T.M]             0.1468   0.1049   1.4001 0.1615 -0.0587  0.3523\n",
              "admission_age                0.0483   0.0044  11.0829 0.0000  0.0398  0.0569\n",
              "============================================================================\n",
              "\n",
              "\"\"\""
            ]
          },
          "metadata": {
            "tags": []
          },
          "execution_count": 71
        }
      ]
    },
    {
      "cell_type": "markdown",
      "metadata": {
        "id": "Jp9REoQK9fuS",
        "colab_type": "text"
      },
      "source": [
        "#Save DF into Google Drive"
      ]
    },
    {
      "cell_type": "code",
      "metadata": {
        "id": "LmSqAaAp9jeA",
        "colab_type": "code",
        "colab": {}
      },
      "source": [
        "from pydrive.auth import GoogleAuth\n",
        "from pydrive.drive import GoogleDrive\n",
        "from google.colab import auth\n",
        "from google.colab import files\n",
        "from oauth2client.client import GoogleCredentials\n",
        "\n",
        "auth.authenticate_user()\n",
        "gauth = GoogleAuth()\n",
        "gauth.credentials = GoogleCredentials.get_application_default()\n",
        "drive = GoogleDrive(gauth)"
      ],
      "execution_count": 0,
      "outputs": []
    },
    {
      "cell_type": "code",
      "metadata": {
        "id": "8Qqcy1WF9xTA",
        "colab_type": "code",
        "colab": {}
      },
      "source": [
        "data4.to_pickle('data4.pkl')"
      ],
      "execution_count": 0,
      "outputs": []
    },
    {
      "cell_type": "code",
      "metadata": {
        "id": "ijaFIWcU-L_B",
        "colab_type": "code",
        "outputId": "dbdb68de-c593-4ad4-f403-e30b486506ba",
        "colab": {
          "base_uri": "https://localhost:8080/",
          "height": 34
        }
      },
      "source": [
        "!ls"
      ],
      "execution_count": 0,
      "outputs": [
        {
          "output_type": "stream",
          "text": [
            "adc.json  data4.pkl  sample_data\n"
          ],
          "name": "stdout"
        }
      ]
    },
    {
      "cell_type": "code",
      "metadata": {
        "id": "Ozr0CVTP-QOQ",
        "colab_type": "code",
        "colab": {}
      },
      "source": [
        "file = drive.CreateFile({'parents':[{u'id': '1QBA8enV6cplk7Q-o1T329RsdZAC_fD5C'}]}) # This refers to the /data folder \n",
        "file.SetContentFile(\"data4.pkl\") \n",
        "file.Upload()"
      ],
      "execution_count": 0,
      "outputs": []
    },
    {
      "cell_type": "markdown",
      "metadata": {
        "id": "sL3_nSK0-ych",
        "colab_type": "text"
      },
      "source": [
        "#Load DF from Google Drive"
      ]
    },
    {
      "cell_type": "code",
      "metadata": {
        "id": "EJGXgeqx-1cB",
        "colab_type": "code",
        "outputId": "843266bf-5e8e-42e3-8a62-2d2eea0f1dd9",
        "colab": {
          "base_uri": "https://localhost:8080/",
          "height": 122
        }
      },
      "source": [
        "from google.colab import drive\n",
        "drive.mount('/content/gdrive')\n",
        "data4 = pd.read_pickle(\"/content/gdrive/My Drive/data/data4.pkl\")"
      ],
      "execution_count": 2,
      "outputs": [
        {
          "output_type": "stream",
          "text": [
            "Go to this URL in a browser: https://accounts.google.com/o/oauth2/auth?client_id=947318989803-6bn6qk8qdgf4n4g3pfee6491hc0brc4i.apps.googleusercontent.com&redirect_uri=urn%3aietf%3awg%3aoauth%3a2.0%3aoob&response_type=code&scope=email%20https%3a%2f%2fwww.googleapis.com%2fauth%2fdocs.test%20https%3a%2f%2fwww.googleapis.com%2fauth%2fdrive%20https%3a%2f%2fwww.googleapis.com%2fauth%2fdrive.photos.readonly%20https%3a%2f%2fwww.googleapis.com%2fauth%2fpeopleapi.readonly\n",
            "\n",
            "Enter your authorization code:\n",
            "··········\n",
            "Mounted at /content/gdrive\n"
          ],
          "name": "stdout"
        }
      ]
    }
  ]
}