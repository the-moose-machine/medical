{
  "nbformat": 4,
  "nbformat_minor": 0,
  "metadata": {
    "colab": {
      "name": "WeekendStrokeMortality_accurate.ipynb",
      "provenance": [],
      "collapsed_sections": [
        "1hY_KJKV2VZ2",
        "d_4rWlougLII",
        "ecv_33Aygob6",
        "hDU3pczpgscu",
        "3V1TtBdRhEED",
        "xlq9rjkzlQ7p",
        "3y8QGyjUlTvY",
        "cpVzKhs9ll1X",
        "tAtYT-ZbmMbZ",
        "K-DFtY3eSzbU",
        "9PCqOUxZnpu4",
        "oIubJvc-rPBF",
        "1Tq3G7o_s4MA",
        "WNf9bkXIt3Yj",
        "gp3wRcU5qcfp",
        "IFfxiv3crI-4",
        "7z2EAqhQqj4u",
        "4kwqasfmvkwE",
        "avmp0hpPvpGY",
        "cs7uo-5jwZRo",
        "2AN87LnqxFhP",
        "m-hr5m8gxXfY",
        "sZ-4LlmZx_jD",
        "JIB03FjDFFlc",
        "wHDik8ZOFNIp",
        "X_QgRci-zAuz",
        "hBR6YjvZRebp",
        "bd8cl2dzRqdL",
        "cYmr63miRvc7",
        "-OH_qrNr3evD",
        "AAXwezS62qpO",
        "BWh_uRYc2oQe",
        "sDEunACgM87c",
        "UdCVGuUi2jxu",
        "8X9hVhHihd0w",
        "hZj17IzWhmTv",
        "Jp9REoQK9fuS",
        "sL3_nSK0-ych"
      ],
      "authorship_tag": "ABX9TyOdloLIUSxnWlUQsbFzIyPs",
      "include_colab_link": true
    },
    "kernelspec": {
      "name": "python3",
      "display_name": "Python 3"
    }
  },
  "cells": [
    {
      "cell_type": "markdown",
      "metadata": {
        "id": "view-in-github",
        "colab_type": "text"
      },
      "source": [
        "<a href=\"https://colab.research.google.com/github/the-moose-machine/medical/blob/master/WeekendStrokeMortality_accurate.ipynb\" target=\"_parent\"><img src=\"https://colab.research.google.com/assets/colab-badge.svg\" alt=\"Open In Colab\"/></a>"
      ]
    },
    {
      "cell_type": "markdown",
      "metadata": {
        "id": "mS1Bm5o7fkTt",
        "colab_type": "text"
      },
      "source": [
        "#The Weekend Effect of Mortality in Stroke Patients\n",
        "Developed at the Hack Aotearoa 2020 datathon."
      ]
    },
    {
      "cell_type": "markdown",
      "metadata": {
        "id": "1hY_KJKV2VZ2",
        "colab_type": "text"
      },
      "source": [
        "#Methodology Summary"
      ]
    },
    {
      "cell_type": "markdown",
      "metadata": {
        "id": "BiHZumAF2Xn-",
        "colab_type": "text"
      },
      "source": [
        "Platform: Google Colab\n",
        "Language: Python\n",
        "Packages: pandas, numpy, statsmodels, tableone, mimiciii\n",
        "Algorithm: generalised linear model\n",
        "\n",
        "Data: MIMIC-III tables: clinical, derived. Merged on 'subject_id', 'hadm_id', 'icustay_id'\n",
        "\n",
        "Data Processing: \n",
        "Dropping values:\n",
        "1. All rows with null values in the icu9_code field since only stroke patients were studied.\n",
        "2. Patient ages >= 90\n",
        "\n",
        "Data Size: 4,322 incidents for 3,729 individual patients\n",
        "\n",
        "Grouping by\n",
        "1. Days of the week: Weekdays and weekends\n",
        "2. Day of admission to ICU\n",
        "2. Day of admission to Hospital\n",
        "2. Ethnicity: White, black and other\n",
        "3. Home Discharge: Home or to other health providers\n",
        "4. Survival Period: short term < 6 months or long term >6 months\n",
        "5. Admission type: emergency (emergency and urgent) or elective\n",
        "6. GCS values: Mild -> GCS 13-15, Moderate -> GCS 9-12 OR Severe -> GCS 3-8\n",
        "\n",
        "Model: \n",
        "Generalised Linear Model\n",
        "binomial classifiers\n",
        "Adjusted for age, gender and type of admission, "
      ]
    },
    {
      "cell_type": "markdown",
      "metadata": {
        "id": "WSHQexg8f6da",
        "colab_type": "text"
      },
      "source": [
        "#Imports and Installations"
      ]
    },
    {
      "cell_type": "code",
      "metadata": {
        "id": "1QUd3gYcf9x3",
        "colab_type": "code",
        "colab": {}
      },
      "source": [
        "# Data processing libraries\n",
        "import pandas as pd\n",
        "import numpy as np\n",
        "import itertools\n",
        "import missingno as msno\n",
        "\n",
        "# Stats libraries\n",
        "import statsmodels.api as sm\n",
        "import statsmodels.formula.api as smf\n",
        "import scipy.stats\n",
        "\n",
        "# Image libraries\n",
        "import matplotlib.pyplot as plt\n",
        "\n",
        "\n",
        "# Make pandas dataframes prettier\n",
        "from IPython.display import display, HTML\n",
        "\n",
        "# Access data using Google BigQuery.\n",
        "import os\n",
        "from google.colab import auth\n",
        "from google.cloud import bigquery"
      ],
      "execution_count": 0,
      "outputs": []
    },
    {
      "cell_type": "code",
      "metadata": {
        "id": "NCm1xUu7gIzY",
        "colab_type": "code",
        "outputId": "288af511-97be-4dc5-e18a-c23027b6fb6e",
        "colab": {
          "base_uri": "https://localhost:8080/",
          "height": 211
        }
      },
      "source": [
        "# install and import tableone\n",
        "!pip install tableone\n",
        "from tableone import TableOne"
      ],
      "execution_count": 143,
      "outputs": [
        {
          "output_type": "stream",
          "text": [
            "Requirement already satisfied: tableone in /usr/local/lib/python3.6/dist-packages (0.6.6)\n",
            "Requirement already satisfied: scipy>=0.18.1 in /usr/local/lib/python3.6/dist-packages (from tableone) (1.4.1)\n",
            "Requirement already satisfied: statsmodels>=0.8.0 in /usr/local/lib/python3.6/dist-packages (from tableone) (0.10.2)\n",
            "Requirement already satisfied: numpy>=1.12.1 in /usr/local/lib/python3.6/dist-packages (from tableone) (1.17.5)\n",
            "Requirement already satisfied: tabulate>=0.8.2 in /usr/local/lib/python3.6/dist-packages (from tableone) (0.8.6)\n",
            "Requirement already satisfied: pandas>=0.22.0 in /usr/local/lib/python3.6/dist-packages (from tableone) (0.25.3)\n",
            "Requirement already satisfied: patsy>=0.4.0 in /usr/local/lib/python3.6/dist-packages (from statsmodels>=0.8.0->tableone) (0.5.1)\n",
            "Requirement already satisfied: pytz>=2017.2 in /usr/local/lib/python3.6/dist-packages (from pandas>=0.22.0->tableone) (2018.9)\n",
            "Requirement already satisfied: python-dateutil>=2.6.1 in /usr/local/lib/python3.6/dist-packages (from pandas>=0.22.0->tableone) (2.6.1)\n",
            "Requirement already satisfied: six in /usr/local/lib/python3.6/dist-packages (from patsy>=0.4.0->statsmodels>=0.8.0->tableone) (1.12.0)\n"
          ],
          "name": "stdout"
        }
      ]
    },
    {
      "cell_type": "markdown",
      "metadata": {
        "id": "d_4rWlougLII",
        "colab_type": "text"
      },
      "source": [
        "#MIMIC-III"
      ]
    },
    {
      "cell_type": "markdown",
      "metadata": {
        "id": "ecv_33Aygob6",
        "colab_type": "text"
      },
      "source": [
        "##Connect to MIMIC-III"
      ]
    },
    {
      "cell_type": "code",
      "metadata": {
        "id": "kG2MKJ5ogQVF",
        "colab_type": "code",
        "colab": {}
      },
      "source": [
        "auth.authenticate_user()"
      ],
      "execution_count": 0,
      "outputs": []
    },
    {
      "cell_type": "code",
      "metadata": {
        "id": "73muzFxngS70",
        "colab_type": "code",
        "colab": {}
      },
      "source": [
        "# add your project ID for billing\n",
        "project_id='hack-aotearoa'\n",
        "os.environ[\"GOOGLE_CLOUD_PROJECT\"]=project_id"
      ],
      "execution_count": 0,
      "outputs": []
    },
    {
      "cell_type": "markdown",
      "metadata": {
        "id": "hDU3pczpgscu",
        "colab_type": "text"
      },
      "source": [
        "##Extract Data"
      ]
    },
    {
      "cell_type": "code",
      "metadata": {
        "id": "eRlgs9ISgaG5",
        "colab_type": "code",
        "colab": {}
      },
      "source": [
        "# Run query and assign the results to a Pandas DataFrame\n",
        "# Requires the icustay_detail view from:\n",
        "# https://github.com/MIT-LCP/mimic-code/tree/master/concepts/demographics\n",
        "# And the OASIS score from:\n",
        "# https://github.com/MIT-LCP/mimic-code/tree/master/concepts/severityscores\n",
        "%%bigquery data\n",
        "\n",
        "WITH first_icu AS (\n",
        "    SELECT i.subject_id, i.hadm_id, i.icustay_id, i.gender, i.admittime admittime_hospital, \n",
        "      i.dischtime dischtime_hospital, i.los_hospital, i.admission_age, i.admission_type, \n",
        "      i.hospital_expire_flag, i.intime intime_icu, i.outtime outtime_icu, i.los_icu, \n",
        "      s.first_careunit\n",
        "    FROM `physionet-data.mimiciii_derived.icustay_detail` i\n",
        "    LEFT JOIN `physionet-data.mimiciii_clinical.icustays` s\n",
        "    ON i.icustay_id = s.icustay_id\n",
        "    WHERE i.hospstay_seq = 1\n",
        "      AND i.icustay_seq = 1\n",
        "      AND i.admission_age >= 16\n",
        ")\n",
        "SELECT f.*, o.icustay_expire_flag, o.oasis, o.oasis_prob\n",
        "FROM first_icu f\n",
        "LEFT JOIN `physionet-data.mimiciii_derived.oasis` o\n",
        "ON f.icustay_id = o.icustay_id;"
      ],
      "execution_count": 0,
      "outputs": []
    },
    {
      "cell_type": "code",
      "metadata": {
        "id": "osYyVwdeggQ6",
        "colab_type": "code",
        "colab": {}
      },
      "source": [
        "%%bigquery stroke_code\n",
        "\n",
        "SELECT *\n",
        "FROM `physionet-data.mimiciii_clinical.diagnoses_icd`\n",
        "WHERE ICD9_CODE like '433%' or icd9_CODE like '434%' or icd9_CODE like '430%' or icd9_CODE like '431%' or icd9_CODE like '432%'\n",
        ";"
      ],
      "execution_count": 0,
      "outputs": []
    },
    {
      "cell_type": "code",
      "metadata": {
        "id": "iv1uS6hGm1on",
        "colab_type": "code",
        "colab": {}
      },
      "source": [
        "%%bigquery patients\n",
        "\n",
        "SELECT *\n",
        "FROM `physionet-data.mimiciii_clinical.patients`;"
      ],
      "execution_count": 0,
      "outputs": []
    },
    {
      "cell_type": "code",
      "metadata": {
        "id": "5BG_FZO3gxBt",
        "colab_type": "code",
        "colab": {}
      },
      "source": [
        "%%bigquery admissions\n",
        "\n",
        "SELECT *\n",
        "FROM `physionet-data.mimiciii_clinical.admissions`;"
      ],
      "execution_count": 0,
      "outputs": []
    },
    {
      "cell_type": "code",
      "metadata": {
        "id": "q-kyxzJAg-2i",
        "colab_type": "code",
        "colab": {}
      },
      "source": [
        "%%bigquery gcsfirstday\n",
        "\n",
        "SELECT *\n",
        "FROM `physionet-data.mimiciii_derived.gcsfirstday`;"
      ],
      "execution_count": 0,
      "outputs": []
    },
    {
      "cell_type": "markdown",
      "metadata": {
        "id": "3V1TtBdRhEED",
        "colab_type": "text"
      },
      "source": [
        "##Load data into a single DataFrame"
      ]
    },
    {
      "cell_type": "code",
      "metadata": {
        "id": "BvDmhym5hNyT",
        "colab_type": "code",
        "outputId": "4568caa9-d337-4bd0-fd29-102209194156",
        "colab": {
          "base_uri": "https://localhost:8080/"
        }
      },
      "source": [
        "data.columns"
      ],
      "execution_count": 0,
      "outputs": [
        {
          "output_type": "execute_result",
          "data": {
            "text/plain": [
              "Index(['subject_id', 'hadm_id', 'icustay_id', 'gender', 'admittime_hospital',\n",
              "       'dischtime_hospital', 'los_hospital', 'admission_age', 'admission_type',\n",
              "       'hospital_expire_flag', 'intime_icu', 'outtime_icu', 'los_icu',\n",
              "       'first_careunit', 'icustay_expire_flag', 'oasis', 'oasis_prob'],\n",
              "      dtype='object')"
            ]
          },
          "metadata": {
            "tags": []
          },
          "execution_count": 9
        }
      ]
    },
    {
      "cell_type": "code",
      "metadata": {
        "id": "H55MkqZ0hWIT",
        "colab_type": "code",
        "outputId": "a4427769-78d1-4787-f326-4225354dceeb",
        "colab": {
          "base_uri": "https://localhost:8080/"
        }
      },
      "source": [
        "stroke_code.columns"
      ],
      "execution_count": 0,
      "outputs": [
        {
          "output_type": "execute_result",
          "data": {
            "text/plain": [
              "Index(['ROW_ID', 'SUBJECT_ID', 'HADM_ID', 'SEQ_NUM', 'ICD9_CODE'], dtype='object')"
            ]
          },
          "metadata": {
            "tags": []
          },
          "execution_count": 10
        }
      ]
    },
    {
      "cell_type": "code",
      "metadata": {
        "id": "9fsDDEyGm95I",
        "colab_type": "code",
        "outputId": "85b13c66-d844-4daa-8c0c-eb825357167d",
        "colab": {
          "base_uri": "https://localhost:8080/"
        }
      },
      "source": [
        "patients.columns"
      ],
      "execution_count": 0,
      "outputs": [
        {
          "output_type": "execute_result",
          "data": {
            "text/plain": [
              "Index(['ROW_ID', 'SUBJECT_ID', 'GENDER', 'DOB', 'DOD', 'DOD_HOSP', 'DOD_SSN',\n",
              "       'EXPIRE_FLAG'],\n",
              "      dtype='object')"
            ]
          },
          "metadata": {
            "tags": []
          },
          "execution_count": 34
        }
      ]
    },
    {
      "cell_type": "code",
      "metadata": {
        "id": "yqSEr-uqhZzj",
        "colab_type": "code",
        "outputId": "44f68615-1617-492e-f63a-b89dfaf6865b",
        "colab": {
          "base_uri": "https://localhost:8080/"
        }
      },
      "source": [
        "admissions.columns"
      ],
      "execution_count": 0,
      "outputs": [
        {
          "output_type": "execute_result",
          "data": {
            "text/plain": [
              "Index(['ROW_ID', 'SUBJECT_ID', 'HADM_ID', 'ADMITTIME', 'DISCHTIME',\n",
              "       'DEATHTIME', 'ADMISSION_TYPE', 'ADMISSION_LOCATION',\n",
              "       'DISCHARGE_LOCATION', 'INSURANCE', 'LANGUAGE', 'RELIGION',\n",
              "       'MARITAL_STATUS', 'ETHNICITY', 'EDREGTIME', 'EDOUTTIME', 'DIAGNOSIS',\n",
              "       'HOSPITAL_EXPIRE_FLAG', 'HAS_CHARTEVENTS_DATA'],\n",
              "      dtype='object')"
            ]
          },
          "metadata": {
            "tags": []
          },
          "execution_count": 11
        }
      ]
    },
    {
      "cell_type": "code",
      "metadata": {
        "id": "zYrTCAYMhbUy",
        "colab_type": "code",
        "outputId": "615aa65d-250c-44ac-d6c4-331a8dea4a1c",
        "colab": {
          "base_uri": "https://localhost:8080/"
        }
      },
      "source": [
        "gcsfirstday.columns"
      ],
      "execution_count": 0,
      "outputs": [
        {
          "output_type": "execute_result",
          "data": {
            "text/plain": [
              "Index(['SUBJECT_ID', 'HADM_ID', 'ICUSTAY_ID', 'MinGCS', 'GCSMotor',\n",
              "       'GCSVerbal', 'GCSEyes', 'EndoTrachFlag'],\n",
              "      dtype='object')"
            ]
          },
          "metadata": {
            "tags": []
          },
          "execution_count": 12
        }
      ]
    },
    {
      "cell_type": "code",
      "metadata": {
        "id": "VNPGBMighd8j",
        "colab_type": "code",
        "colab": {}
      },
      "source": [
        "#Rename columns to remove capitalization\n",
        "stroke_code = stroke_code.rename(columns={'ROW_ID':'row_id', 'SUBJECT_ID':'subject_id', 'HADM_ID':'hadm_id', 'SEQ_NUM':'seq_num', 'ICD9_CODE':'icd9_code'})\n",
        "\n",
        "patients = patients.rename(columns={'ROW_ID':'row_id', 'SUBJECT_ID':'subject_id', 'GENDER':'gender', 'DOB':'dob', 'DOD':'dod', 'DOD_HOSP':'dod_hosp', 'DOD_SSN':'dod_ssn', 'EXPIRE_FLAG':'expire_flag'})\n",
        "\n",
        "admissions = admissions.rename(columns={'ROW_ID':'row_id', 'SUBJECT_ID':'subject_id', 'HADM_ID':'hadm_id', 'ADMITTIME':'admittime', 'DISCHTIME':'dischtime',\n",
        "       'DEATHTIME':'deathtime', 'ADMISSION_TYPE':'admission_type', 'ADMISSION_LOCATION':'admission_location',\n",
        "       'DISCHARGE_LOCATION':'discharge_location', 'INSURANCE':'insurance', 'LANGUAGE':'language', 'RELIGION':'religion',\n",
        "       'MARITAL_STATUS':'marital_status', 'ETHNICITY':'ethnicity', 'EDREGTIME':'edregtime', 'EDOUTTIME':'edouttime', 'DIAGNOSIS':'diagnosis',\n",
        "       'HOSPITAL_EXPIRE_FLAG':'hospital_expire_flag', 'HAS_CHARTEVENTS_DATA':'has_chartevents_data'})\n",
        "\n",
        "gcsfirstday = gcsfirstday.rename(columns={'SUBJECT_ID':'subject_id', 'HADM_ID':'hadm_id', 'ICUSTAY_ID':'icustay_id', 'MinGCS':'mingcs', 'GCSMotor':'gcsmotor', 'GCSVerbal':'gcsverbal', 'GCSEyes':'gcseyes', 'EndoTrachFlag':'endotrachflag'})"
      ],
      "execution_count": 0,
      "outputs": []
    },
    {
      "cell_type": "code",
      "metadata": {
        "id": "MbNfT5bah8oS",
        "colab_type": "code",
        "outputId": "0402e730-b496-4bbe-ea66-340be5ab5a25",
        "colab": {
          "base_uri": "https://localhost:8080/"
        }
      },
      "source": [
        "stroke_code.columns, patients.columns, admissions.columns, gcsfirstday.columns"
      ],
      "execution_count": 0,
      "outputs": [
        {
          "output_type": "execute_result",
          "data": {
            "text/plain": [
              "(Index(['row_id', 'subject_id', 'hadm_id', 'seq_num', 'icd9_code'], dtype='object'),\n",
              " Index(['row_id', 'subject_id', 'gender', 'dob', 'dod', 'dod_hosp', 'dod_ssn',\n",
              "        'expire_flag'],\n",
              "       dtype='object'),\n",
              " Index(['row_id', 'subject_id', 'hadm_id', 'admittime', 'dischtime',\n",
              "        'deathtime', 'admission_type', 'admission_location',\n",
              "        'discharge_location', 'insurance', 'language', 'religion',\n",
              "        'marital_status', 'ethnicity', 'edregtime', 'edouttime', 'diagnosis',\n",
              "        'hospital_expire_flag', 'has_chartevents_data'],\n",
              "       dtype='object'),\n",
              " Index(['subject_id', 'hadm_id', 'icustay_id', 'mingcs', 'gcsmotor',\n",
              "        'gcsverbal', 'gcseyes', 'endotrachflag'],\n",
              "       dtype='object'))"
            ]
          },
          "metadata": {
            "tags": []
          },
          "execution_count": 36
        }
      ]
    },
    {
      "cell_type": "code",
      "metadata": {
        "id": "daHlDA07iHcl",
        "colab_type": "code",
        "outputId": "d61d3fe3-7394-4a57-82fd-1e76ccaf2056",
        "colab": {
          "base_uri": "https://localhost:8080/"
        }
      },
      "source": [
        "data.shape, stroke_code.shape, admissions.shape, gcsfirstday.shape"
      ],
      "execution_count": 0,
      "outputs": [
        {
          "output_type": "execute_result",
          "data": {
            "text/plain": [
              "((38558, 17), (5386, 5), (58976, 19), (61532, 8))"
            ]
          },
          "metadata": {
            "tags": []
          },
          "execution_count": 16
        }
      ]
    },
    {
      "cell_type": "code",
      "metadata": {
        "id": "7Wzqy-RKiiXS",
        "colab_type": "code",
        "colab": {}
      },
      "source": [
        "df = pd.merge(data, stroke_code, how='left', on=['subject_id', 'hadm_id'])"
      ],
      "execution_count": 0,
      "outputs": []
    },
    {
      "cell_type": "markdown",
      "metadata": {
        "id": "xlq9rjkzlQ7p",
        "colab_type": "text"
      },
      "source": [
        "#Data Processing"
      ]
    },
    {
      "cell_type": "markdown",
      "metadata": {
        "id": "3y8QGyjUlTvY",
        "colab_type": "text"
      },
      "source": [
        "##Dropping Null Values"
      ]
    },
    {
      "cell_type": "code",
      "metadata": {
        "id": "n_gfCpl8irfS",
        "colab_type": "code",
        "outputId": "c22d5ba1-2bcb-4ffd-e2b4-20a1482a3ba3",
        "colab": {
          "base_uri": "https://localhost:8080/"
        }
      },
      "source": [
        "df.columns"
      ],
      "execution_count": 0,
      "outputs": [
        {
          "output_type": "execute_result",
          "data": {
            "text/plain": [
              "Index(['subject_id', 'hadm_id', 'icustay_id', 'gender', 'admittime_hospital',\n",
              "       'dischtime_hospital', 'los_hospital', 'admission_age', 'admission_type',\n",
              "       'hospital_expire_flag', 'intime_icu', 'outtime_icu', 'los_icu',\n",
              "       'first_careunit', 'icustay_expire_flag', 'oasis', 'oasis_prob',\n",
              "       'row_id', 'seq_num', 'icd9_code'],\n",
              "      dtype='object')"
            ]
          },
          "metadata": {
            "tags": []
          },
          "execution_count": 19
        }
      ]
    },
    {
      "cell_type": "code",
      "metadata": {
        "id": "C9ukivuBi1IC",
        "colab_type": "code",
        "outputId": "a0f8b31a-a573-437b-8f05-4a667082b6e0",
        "colab": {
          "base_uri": "https://localhost:8080/"
        }
      },
      "source": [
        "df.shape"
      ],
      "execution_count": 0,
      "outputs": [
        {
          "output_type": "execute_result",
          "data": {
            "text/plain": [
              "(39187, 20)"
            ]
          },
          "metadata": {
            "tags": []
          },
          "execution_count": 20
        }
      ]
    },
    {
      "cell_type": "code",
      "metadata": {
        "id": "AEHf4dtfi2Ny",
        "colab_type": "code",
        "outputId": "8fe3fa98-e787-4023-92fc-c57d0bc5404d",
        "colab": {
          "base_uri": "https://localhost:8080/"
        }
      },
      "source": [
        "#Check the various categories in icd9_code data\n",
        "df.icd9_code.sort_values().unique()"
      ],
      "execution_count": 0,
      "outputs": [
        {
          "output_type": "execute_result",
          "data": {
            "text/plain": [
              "array(['430', '431', '4320', '4321', '4329', '43300', '43301', '43310',\n",
              "       '43311', '43320', '43321', '43330', '43331', '43380', '43381',\n",
              "       '43391', '43400', '43401', '43410', '43411', '43490', '43491', nan],\n",
              "      dtype=object)"
            ]
          },
          "metadata": {
            "tags": []
          },
          "execution_count": 21
        }
      ]
    },
    {
      "cell_type": "markdown",
      "metadata": {
        "id": "SOJHN_1xqhBn",
        "colab_type": "text"
      },
      "source": [
        "These codes correspond to stroke patients"
      ]
    },
    {
      "cell_type": "code",
      "metadata": {
        "id": "9W4rs8pcjIPi",
        "colab_type": "code",
        "outputId": "6bc7f9ec-f4c5-4f48-97d9-734708672be4",
        "colab": {
          "base_uri": "https://localhost:8080/"
        }
      },
      "source": [
        "#Visualise the null values\n",
        "msno.matrix(df)"
      ],
      "execution_count": 0,
      "outputs": [
        {
          "output_type": "execute_result",
          "data": {
            "text/plain": [
              "<matplotlib.axes._subplots.AxesSubplot at 0x7f2182728860>"
            ]
          },
          "metadata": {
            "tags": []
          },
          "execution_count": 23
        },
        {
          "output_type": "display_data",
          "data": {
            "image/png": "[encoded data removed]",
            "text/plain": [
              "<Figure size 1800x720 with 2 Axes>"
            ]
          },
          "metadata": {
            "tags": []
          }
        }
      ]
    },
    {
      "cell_type": "markdown",
      "metadata": {
        "id": "t80ptKskkHEN",
        "colab_type": "text"
      },
      "source": [
        "Several null values are present in row_id, seq_num and icd9_code. Minimal null values are present in outcome_icu and los_icu"
      ]
    },
    {
      "cell_type": "code",
      "metadata": {
        "id": "7kcmZ2YPjA7g",
        "colab_type": "code",
        "colab": {}
      },
      "source": [
        "#Identify rows without NaN values\n",
        "nonnan_rows_age = df[df['icd9_code'].isnotnull()]\n",
        "nan_rows_age"
      ],
      "execution_count": 0,
      "outputs": []
    },
    {
      "cell_type": "code",
      "metadata": {
        "id": "GWJl7VVlkuDV",
        "colab_type": "code",
        "colab": {}
      },
      "source": [
        "#Drop the Null values of icd9_code\n",
        "data = df.dropna(subset=['icd9_code'])"
      ],
      "execution_count": 0,
      "outputs": []
    },
    {
      "cell_type": "code",
      "metadata": {
        "id": "8NkzAEy7k4xY",
        "colab_type": "code",
        "outputId": "ca3c15c0-859b-4919-a281-dba2684e4980",
        "colab": {
          "base_uri": "https://localhost:8080/"
        }
      },
      "source": [
        "data.shape"
      ],
      "execution_count": 0,
      "outputs": [
        {
          "output_type": "execute_result",
          "data": {
            "text/plain": [
              "(4585, 20)"
            ]
          },
          "metadata": {
            "tags": []
          },
          "execution_count": 26
        }
      ]
    },
    {
      "cell_type": "markdown",
      "metadata": {
        "id": "7RDueo0ak-zo",
        "colab_type": "text"
      },
      "source": [
        "Dropping the data without icd9_code values reduces the data frame from 39,187 to 4,585. It will be seen later that this corresponds to 3,729 individual patients. This indicates that some of the patients may have been admitted more than once."
      ]
    },
    {
      "cell_type": "code",
      "metadata": {
        "id": "HEufrxsdlewn",
        "colab_type": "code",
        "outputId": "e39ce6b3-ef57-4346-8a96-3e4c7886618b",
        "colab": {
          "base_uri": "https://localhost:8080/"
        }
      },
      "source": [
        "#Visualise the null values\n",
        "msno.matrix(data)"
      ],
      "execution_count": 0,
      "outputs": [
        {
          "output_type": "execute_result",
          "data": {
            "text/plain": [
              "<matplotlib.axes._subplots.AxesSubplot at 0x7f21820ae390>"
            ]
          },
          "metadata": {
            "tags": []
          },
          "execution_count": 28
        },
        {
          "output_type": "display_data",
          "data": {
            "image/png": "[encoded data removed]",
            "text/plain": [
              "<Figure size 1800x720 with 2 Axes>"
            ]
          },
          "metadata": {
            "tags": []
          }
        }
      ]
    },
    {
      "cell_type": "markdown",
      "metadata": {
        "id": "zwxuaiMjljco",
        "colab_type": "text"
      },
      "source": [
        "All the null values have been taken care of."
      ]
    },
    {
      "cell_type": "markdown",
      "metadata": {
        "id": "cpVzKhs9ll1X",
        "colab_type": "text"
      },
      "source": [
        "##Dropping patients aged >= 90"
      ]
    },
    {
      "cell_type": "code",
      "metadata": {
        "id": "QP_ovT_slze4",
        "colab_type": "code",
        "outputId": "363c5f18-079c-451f-b14a-b66f12cd54ed",
        "colab": {
          "base_uri": "https://localhost:8080/"
        }
      },
      "source": [
        "data1 = data[data.admission_age < 300]\n",
        "data1.shape"
      ],
      "execution_count": 0,
      "outputs": [
        {
          "output_type": "execute_result",
          "data": {
            "text/plain": [
              "(4322, 20)"
            ]
          },
          "metadata": {
            "tags": []
          },
          "execution_count": 29
        }
      ]
    },
    {
      "cell_type": "code",
      "metadata": {
        "id": "DLglAkd8l4yX",
        "colab_type": "code",
        "outputId": "05b511e0-a1da-429a-a902-0b67e8318b48",
        "colab": {
          "base_uri": "https://localhost:8080/"
        }
      },
      "source": [
        "data.shape[0] - data1.shape[0]"
      ],
      "execution_count": 0,
      "outputs": [
        {
          "output_type": "execute_result",
          "data": {
            "text/plain": [
              "263"
            ]
          },
          "metadata": {
            "tags": []
          },
          "execution_count": 30
        }
      ]
    },
    {
      "cell_type": "markdown",
      "metadata": {
        "id": "BeDe-tvHl9IK",
        "colab_type": "text"
      },
      "source": [
        "Another 263 patients ($5.74\\%$ of 4,585) have been removed."
      ]
    },
    {
      "cell_type": "markdown",
      "metadata": {
        "id": "tAtYT-ZbmMbZ",
        "colab_type": "text"
      },
      "source": [
        "##Merging the remaining DFs into a single DF"
      ]
    },
    {
      "cell_type": "code",
      "metadata": {
        "id": "YQ5jsJlImbCX",
        "colab_type": "code",
        "outputId": "b7f371db-f8c1-4308-83da-a16e414a4a8b",
        "colab": {
          "base_uri": "https://localhost:8080/"
        }
      },
      "source": [
        "data2 = pd.merge(data1, patients, how='left', on=['subject_id'])\n",
        "data1.shape, data2.shape"
      ],
      "execution_count": 0,
      "outputs": [
        {
          "output_type": "execute_result",
          "data": {
            "text/plain": [
              "((4322, 20), (4322, 27))"
            ]
          },
          "metadata": {
            "tags": []
          },
          "execution_count": 38
        }
      ]
    },
    {
      "cell_type": "code",
      "metadata": {
        "id": "28yxZawFmtHJ",
        "colab_type": "code",
        "outputId": "53b7a8ad-7ed1-4db4-cb44-7726552b3f62",
        "colab": {
          "base_uri": "https://localhost:8080/"
        }
      },
      "source": [
        "data3 = pd.merge(data2, admissions, how='left', on=['subject_id', 'hadm_id'])\n",
        "data1.shape, data2.shape, data3.shape"
      ],
      "execution_count": 0,
      "outputs": [
        {
          "output_type": "execute_result",
          "data": {
            "text/plain": [
              "((4322, 20), (4322, 27), (4322, 44))"
            ]
          },
          "metadata": {
            "tags": []
          },
          "execution_count": 39
        }
      ]
    },
    {
      "cell_type": "code",
      "metadata": {
        "id": "rjuG2oHRnifq",
        "colab_type": "code",
        "outputId": "7280e9d6-8770-4a9a-d7cb-7cac058d59cd",
        "colab": {
          "base_uri": "https://localhost:8080/"
        }
      },
      "source": [
        "data4 = pd.merge(data3, gcsfirstday, how='left', on=['subject_id', 'hadm_id', 'icustay_id'])\n",
        "data1.shape, data2.shape, data3.shape, data4.shape"
      ],
      "execution_count": 0,
      "outputs": [
        {
          "output_type": "execute_result",
          "data": {
            "text/plain": [
              "((4322, 20), (4322, 27), (4322, 44), (4322, 49))"
            ]
          },
          "metadata": {
            "tags": []
          },
          "execution_count": 40
        }
      ]
    },
    {
      "cell_type": "markdown",
      "metadata": {
        "id": "K-DFtY3eSzbU",
        "colab_type": "text"
      },
      "source": [
        "##Dropping repeat patient admissions"
      ]
    },
    {
      "cell_type": "code",
      "metadata": {
        "id": "u32GM6xyS8gM",
        "colab_type": "code",
        "outputId": "a4a63163-3d86-42d9-eee5-191a3c921a97",
        "colab": {
          "base_uri": "https://localhost:8080/",
          "height": 382
        }
      },
      "source": [
        "#Check whether there are patients who were admitted repeatedly using subject_id\n",
        "data4['subject_id'].value_counts(dropna=False)[:20] #Top 20"
      ],
      "execution_count": 0,
      "outputs": [
        {
          "output_type": "execute_result",
          "data": {
            "text/plain": [
              "68764    5\n",
              "89901    5\n",
              "55689    4\n",
              "93394    3\n",
              "42894    3\n",
              "16227    3\n",
              "4814     3\n",
              "9471     3\n",
              "46303    3\n",
              "50358    3\n",
              "99863    3\n",
              "61207    3\n",
              "27972    3\n",
              "77579    3\n",
              "31191    3\n",
              "40513    3\n",
              "30063    3\n",
              "31476    3\n",
              "65237    3\n",
              "83963    3\n",
              "Name: subject_id, dtype: int64"
            ]
          },
          "metadata": {
            "tags": []
          },
          "execution_count": 75
        }
      ]
    },
    {
      "cell_type": "code",
      "metadata": {
        "id": "ZEly4LKqVlZ9",
        "colab_type": "code",
        "outputId": "30804117-7038-4f6b-bab4-dfea972781f2",
        "colab": {
          "base_uri": "https://localhost:8080/",
          "height": 216
        }
      },
      "source": [
        "#Check the sample of one patient\n",
        "data4.loc[data4['subject_id'] == 9471]"
      ],
      "execution_count": 90,
      "outputs": [
        {
          "output_type": "execute_result",
          "data": {
            "text/html": [
              "<div>\n",
              "<style scoped>\n",
              "    .dataframe tbody tr th:only-of-type {\n",
              "        vertical-align: middle;\n",
              "    }\n",
              "\n",
              "    .dataframe tbody tr th {\n",
              "        vertical-align: top;\n",
              "    }\n",
              "\n",
              "    .dataframe thead th {\n",
              "        text-align: right;\n",
              "    }\n",
              "</style>\n",
              "<table border=\"1\" class=\"dataframe\">\n",
              "  <thead>\n",
              "    <tr style=\"text-align: right;\">\n",
              "      <th></th>\n",
              "      <th>subject_id</th>\n",
              "      <th>hadm_id</th>\n",
              "      <th>icustay_id</th>\n",
              "      <th>gender_x</th>\n",
              "      <th>admittime_hospital</th>\n",
              "      <th>dischtime_hospital</th>\n",
              "      <th>los_hospital</th>\n",
              "      <th>admission_age</th>\n",
              "      <th>admission_type_x</th>\n",
              "      <th>hospital_expire_flag_x</th>\n",
              "      <th>intime_icu</th>\n",
              "      <th>outtime_icu</th>\n",
              "      <th>los_icu</th>\n",
              "      <th>first_careunit</th>\n",
              "      <th>icustay_expire_flag</th>\n",
              "      <th>oasis</th>\n",
              "      <th>oasis_prob</th>\n",
              "      <th>row_id_x</th>\n",
              "      <th>seq_num</th>\n",
              "      <th>icd9_code</th>\n",
              "      <th>row_id_y</th>\n",
              "      <th>gender_y</th>\n",
              "      <th>dob</th>\n",
              "      <th>dod</th>\n",
              "      <th>dod_hosp</th>\n",
              "      <th>dod_ssn</th>\n",
              "      <th>expire_flag</th>\n",
              "      <th>row_id</th>\n",
              "      <th>admittime</th>\n",
              "      <th>dischtime</th>\n",
              "      <th>deathtime</th>\n",
              "      <th>admission_type_y</th>\n",
              "      <th>admission_location</th>\n",
              "      <th>discharge_location</th>\n",
              "      <th>insurance</th>\n",
              "      <th>language</th>\n",
              "      <th>religion</th>\n",
              "      <th>marital_status</th>\n",
              "      <th>ethnicity</th>\n",
              "      <th>edregtime</th>\n",
              "      <th>edouttime</th>\n",
              "      <th>diagnosis</th>\n",
              "      <th>hospital_expire_flag_y</th>\n",
              "      <th>has_chartevents_data</th>\n",
              "      <th>mingcs</th>\n",
              "      <th>gcsmotor</th>\n",
              "      <th>gcsverbal</th>\n",
              "      <th>gcseyes</th>\n",
              "      <th>endotrachflag</th>\n",
              "      <th>admitday_hospital</th>\n",
              "      <th>dischday_hospital</th>\n",
              "      <th>inday_icu</th>\n",
              "      <th>inday_icu_seq</th>\n",
              "      <th>outday_icu</th>\n",
              "      <th>inday_icu_wkd</th>\n",
              "      <th>survival_time</th>\n",
              "      <th>death_post_discharge_in_days</th>\n",
              "      <th>survival_time_flag</th>\n",
              "      <th>home_discharge_bool</th>\n",
              "      <th>adm_type_2</th>\n",
              "      <th>adm_type_2_bool</th>\n",
              "      <th>home_discharge_flag</th>\n",
              "    </tr>\n",
              "  </thead>\n",
              "  <tbody>\n",
              "    <tr>\n",
              "      <th>3694</th>\n",
              "      <td>9471</td>\n",
              "      <td>129609</td>\n",
              "      <td>237383</td>\n",
              "      <td>F</td>\n",
              "      <td>2184-12-10 06:55:00</td>\n",
              "      <td>2185-01-08 18:50:00</td>\n",
              "      <td>29</td>\n",
              "      <td>44</td>\n",
              "      <td>EMERGENCY</td>\n",
              "      <td>0</td>\n",
              "      <td>2184-12-10 06:56:16</td>\n",
              "      <td>2185-01-05 03:17:39</td>\n",
              "      <td>26.0</td>\n",
              "      <td>SICU</td>\n",
              "      <td>0</td>\n",
              "      <td>41</td>\n",
              "      <td>0.279468</td>\n",
              "      <td>106246.0</td>\n",
              "      <td>1.0</td>\n",
              "      <td>430</td>\n",
              "      <td>8963</td>\n",
              "      <td>F</td>\n",
              "      <td>2140-03-05</td>\n",
              "      <td>NaT</td>\n",
              "      <td>NaT</td>\n",
              "      <td>NaT</td>\n",
              "      <td>0</td>\n",
              "      <td>11594</td>\n",
              "      <td>2184-12-10 06:55:00</td>\n",
              "      <td>2185-01-08 18:50:00</td>\n",
              "      <td>None</td>\n",
              "      <td>EMERGENCY</td>\n",
              "      <td>TRANSFER FROM HOSP/EXTRAM</td>\n",
              "      <td>HOME HEALTH CARE</td>\n",
              "      <td>Medicaid</td>\n",
              "      <td>None</td>\n",
              "      <td>NOT SPECIFIED</td>\n",
              "      <td>SINGLE</td>\n",
              "      <td>BLACK/AFRICAN AMERICAN</td>\n",
              "      <td>NaT</td>\n",
              "      <td>NaT</td>\n",
              "      <td>SUBARACHNOID HEMORRHAGE</td>\n",
              "      <td>0</td>\n",
              "      <td>1</td>\n",
              "      <td>11.0</td>\n",
              "      <td>5.0</td>\n",
              "      <td>3.0</td>\n",
              "      <td>3.0</td>\n",
              "      <td>0.0</td>\n",
              "      <td>Friday</td>\n",
              "      <td>Saturday</td>\n",
              "      <td>Friday</td>\n",
              "      <td>4</td>\n",
              "      <td>Wednesday</td>\n",
              "      <td>weekday</td>\n",
              "      <td>NaT</td>\n",
              "      <td>long_survival</td>\n",
              "      <td>0</td>\n",
              "      <td>True</td>\n",
              "      <td>emergency</td>\n",
              "      <td>1</td>\n",
              "      <td>1</td>\n",
              "    </tr>\n",
              "    <tr>\n",
              "      <th>3695</th>\n",
              "      <td>9471</td>\n",
              "      <td>129609</td>\n",
              "      <td>237383</td>\n",
              "      <td>F</td>\n",
              "      <td>2184-12-10 06:55:00</td>\n",
              "      <td>2185-01-08 18:50:00</td>\n",
              "      <td>29</td>\n",
              "      <td>44</td>\n",
              "      <td>EMERGENCY</td>\n",
              "      <td>0</td>\n",
              "      <td>2184-12-10 06:56:16</td>\n",
              "      <td>2185-01-05 03:17:39</td>\n",
              "      <td>26.0</td>\n",
              "      <td>SICU</td>\n",
              "      <td>0</td>\n",
              "      <td>41</td>\n",
              "      <td>0.279468</td>\n",
              "      <td>106248.0</td>\n",
              "      <td>3.0</td>\n",
              "      <td>43331</td>\n",
              "      <td>8963</td>\n",
              "      <td>F</td>\n",
              "      <td>2140-03-05</td>\n",
              "      <td>NaT</td>\n",
              "      <td>NaT</td>\n",
              "      <td>NaT</td>\n",
              "      <td>0</td>\n",
              "      <td>11594</td>\n",
              "      <td>2184-12-10 06:55:00</td>\n",
              "      <td>2185-01-08 18:50:00</td>\n",
              "      <td>None</td>\n",
              "      <td>EMERGENCY</td>\n",
              "      <td>TRANSFER FROM HOSP/EXTRAM</td>\n",
              "      <td>HOME HEALTH CARE</td>\n",
              "      <td>Medicaid</td>\n",
              "      <td>None</td>\n",
              "      <td>NOT SPECIFIED</td>\n",
              "      <td>SINGLE</td>\n",
              "      <td>BLACK/AFRICAN AMERICAN</td>\n",
              "      <td>NaT</td>\n",
              "      <td>NaT</td>\n",
              "      <td>SUBARACHNOID HEMORRHAGE</td>\n",
              "      <td>0</td>\n",
              "      <td>1</td>\n",
              "      <td>11.0</td>\n",
              "      <td>5.0</td>\n",
              "      <td>3.0</td>\n",
              "      <td>3.0</td>\n",
              "      <td>0.0</td>\n",
              "      <td>Friday</td>\n",
              "      <td>Saturday</td>\n",
              "      <td>Friday</td>\n",
              "      <td>4</td>\n",
              "      <td>Wednesday</td>\n",
              "      <td>weekday</td>\n",
              "      <td>NaT</td>\n",
              "      <td>long_survival</td>\n",
              "      <td>0</td>\n",
              "      <td>True</td>\n",
              "      <td>emergency</td>\n",
              "      <td>1</td>\n",
              "      <td>1</td>\n",
              "    </tr>\n",
              "    <tr>\n",
              "      <th>3696</th>\n",
              "      <td>9471</td>\n",
              "      <td>129609</td>\n",
              "      <td>237383</td>\n",
              "      <td>F</td>\n",
              "      <td>2184-12-10 06:55:00</td>\n",
              "      <td>2185-01-08 18:50:00</td>\n",
              "      <td>29</td>\n",
              "      <td>44</td>\n",
              "      <td>EMERGENCY</td>\n",
              "      <td>0</td>\n",
              "      <td>2184-12-10 06:56:16</td>\n",
              "      <td>2185-01-05 03:17:39</td>\n",
              "      <td>26.0</td>\n",
              "      <td>SICU</td>\n",
              "      <td>0</td>\n",
              "      <td>41</td>\n",
              "      <td>0.279468</td>\n",
              "      <td>106249.0</td>\n",
              "      <td>4.0</td>\n",
              "      <td>43491</td>\n",
              "      <td>8963</td>\n",
              "      <td>F</td>\n",
              "      <td>2140-03-05</td>\n",
              "      <td>NaT</td>\n",
              "      <td>NaT</td>\n",
              "      <td>NaT</td>\n",
              "      <td>0</td>\n",
              "      <td>11594</td>\n",
              "      <td>2184-12-10 06:55:00</td>\n",
              "      <td>2185-01-08 18:50:00</td>\n",
              "      <td>None</td>\n",
              "      <td>EMERGENCY</td>\n",
              "      <td>TRANSFER FROM HOSP/EXTRAM</td>\n",
              "      <td>HOME HEALTH CARE</td>\n",
              "      <td>Medicaid</td>\n",
              "      <td>None</td>\n",
              "      <td>NOT SPECIFIED</td>\n",
              "      <td>SINGLE</td>\n",
              "      <td>BLACK/AFRICAN AMERICAN</td>\n",
              "      <td>NaT</td>\n",
              "      <td>NaT</td>\n",
              "      <td>SUBARACHNOID HEMORRHAGE</td>\n",
              "      <td>0</td>\n",
              "      <td>1</td>\n",
              "      <td>11.0</td>\n",
              "      <td>5.0</td>\n",
              "      <td>3.0</td>\n",
              "      <td>3.0</td>\n",
              "      <td>0.0</td>\n",
              "      <td>Friday</td>\n",
              "      <td>Saturday</td>\n",
              "      <td>Friday</td>\n",
              "      <td>4</td>\n",
              "      <td>Wednesday</td>\n",
              "      <td>weekday</td>\n",
              "      <td>NaT</td>\n",
              "      <td>long_survival</td>\n",
              "      <td>0</td>\n",
              "      <td>True</td>\n",
              "      <td>emergency</td>\n",
              "      <td>1</td>\n",
              "      <td>1</td>\n",
              "    </tr>\n",
              "  </tbody>\n",
              "</table>\n",
              "</div>"
            ],
            "text/plain": [
              "      subject_id  hadm_id  ...  adm_type_2_bool home_discharge_flag\n",
              "3694        9471   129609  ...                1                   1\n",
              "3695        9471   129609  ...                1                   1\n",
              "3696        9471   129609  ...                1                   1\n",
              "\n",
              "[3 rows x 62 columns]"
            ]
          },
          "metadata": {
            "tags": []
          },
          "execution_count": 90
        }
      ]
    },
    {
      "cell_type": "markdown",
      "metadata": {
        "id": "XpWazkIPXEJX",
        "colab_type": "text"
      },
      "source": [
        "All the rows are identical to each other. This is data repetition and should be deleted."
      ]
    },
    {
      "cell_type": "code",
      "metadata": {
        "id": "_dya0h6IXMaR",
        "colab_type": "code",
        "colab": {
          "base_uri": "https://localhost:8080/",
          "height": 34
        },
        "outputId": "1888d4b3-be34-4a36-96bb-aa6444eb5fa9"
      },
      "source": [
        "data4 = data4.drop_duplicates(subset='subject_id', keep='first')\n",
        "data4.shape"
      ],
      "execution_count": 125,
      "outputs": [
        {
          "output_type": "execute_result",
          "data": {
            "text/plain": [
              "(3729, 62)"
            ]
          },
          "metadata": {
            "tags": []
          },
          "execution_count": 125
        }
      ]
    },
    {
      "cell_type": "code",
      "metadata": {
        "id": "qMMeAXE_xX_c",
        "colab_type": "code",
        "colab": {
          "base_uri": "https://localhost:8080/",
          "height": 225
        },
        "outputId": "5d38630c-20e4-4ea6-b62e-1c54ca427ed2"
      },
      "source": [
        "#Test to see if this worked\n",
        "#Check whether there are patients who were admitted repeatedly using subject_id\n",
        "data4['subject_id'].value_counts(dropna=False)"
      ],
      "execution_count": 126,
      "outputs": [
        {
          "output_type": "execute_result",
          "data": {
            "text/plain": [
              "24572    1\n",
              "70339    1\n",
              "8929     1\n",
              "19168    1\n",
              "23258    1\n",
              "        ..\n",
              "25886    1\n",
              "9813     1\n",
              "17690    1\n",
              "7449     1\n",
              "32768    1\n",
              "Name: subject_id, Length: 3729, dtype: int64"
            ]
          },
          "metadata": {
            "tags": []
          },
          "execution_count": 126
        }
      ]
    },
    {
      "cell_type": "markdown",
      "metadata": {
        "id": "9PCqOUxZnpu4",
        "colab_type": "text"
      },
      "source": [
        "#Data Investigation"
      ]
    },
    {
      "cell_type": "code",
      "metadata": {
        "id": "RDzIaJnNoBVu",
        "colab_type": "code",
        "outputId": "fe2cce80-cb94-443b-c117-389e8180377c",
        "colab": {
          "base_uri": "https://localhost:8080/",
          "height": 330
        }
      },
      "source": [
        "data4.head()"
      ],
      "execution_count": 127,
      "outputs": [
        {
          "output_type": "execute_result",
          "data": {
            "text/html": [
              "<div>\n",
              "<style scoped>\n",
              "    .dataframe tbody tr th:only-of-type {\n",
              "        vertical-align: middle;\n",
              "    }\n",
              "\n",
              "    .dataframe tbody tr th {\n",
              "        vertical-align: top;\n",
              "    }\n",
              "\n",
              "    .dataframe thead th {\n",
              "        text-align: right;\n",
              "    }\n",
              "</style>\n",
              "<table border=\"1\" class=\"dataframe\">\n",
              "  <thead>\n",
              "    <tr style=\"text-align: right;\">\n",
              "      <th></th>\n",
              "      <th>subject_id</th>\n",
              "      <th>hadm_id</th>\n",
              "      <th>icustay_id</th>\n",
              "      <th>gender_x</th>\n",
              "      <th>admittime_hospital</th>\n",
              "      <th>dischtime_hospital</th>\n",
              "      <th>los_hospital</th>\n",
              "      <th>admission_age</th>\n",
              "      <th>admission_type_x</th>\n",
              "      <th>hospital_expire_flag_x</th>\n",
              "      <th>intime_icu</th>\n",
              "      <th>outtime_icu</th>\n",
              "      <th>los_icu</th>\n",
              "      <th>first_careunit</th>\n",
              "      <th>icustay_expire_flag</th>\n",
              "      <th>oasis</th>\n",
              "      <th>oasis_prob</th>\n",
              "      <th>row_id_x</th>\n",
              "      <th>seq_num</th>\n",
              "      <th>icd9_code</th>\n",
              "      <th>row_id_y</th>\n",
              "      <th>gender_y</th>\n",
              "      <th>dob</th>\n",
              "      <th>dod</th>\n",
              "      <th>dod_hosp</th>\n",
              "      <th>dod_ssn</th>\n",
              "      <th>expire_flag</th>\n",
              "      <th>row_id</th>\n",
              "      <th>admittime</th>\n",
              "      <th>dischtime</th>\n",
              "      <th>deathtime</th>\n",
              "      <th>admission_type_y</th>\n",
              "      <th>admission_location</th>\n",
              "      <th>discharge_location</th>\n",
              "      <th>insurance</th>\n",
              "      <th>language</th>\n",
              "      <th>religion</th>\n",
              "      <th>marital_status</th>\n",
              "      <th>ethnicity</th>\n",
              "      <th>edregtime</th>\n",
              "      <th>edouttime</th>\n",
              "      <th>diagnosis</th>\n",
              "      <th>hospital_expire_flag_y</th>\n",
              "      <th>has_chartevents_data</th>\n",
              "      <th>mingcs</th>\n",
              "      <th>gcsmotor</th>\n",
              "      <th>gcsverbal</th>\n",
              "      <th>gcseyes</th>\n",
              "      <th>endotrachflag</th>\n",
              "      <th>admitday_hospital</th>\n",
              "      <th>dischday_hospital</th>\n",
              "      <th>inday_icu</th>\n",
              "      <th>inday_icu_seq</th>\n",
              "      <th>outday_icu</th>\n",
              "      <th>inday_icu_wkd</th>\n",
              "      <th>survival_time</th>\n",
              "      <th>death_post_discharge_in_days</th>\n",
              "      <th>survival_time_flag</th>\n",
              "      <th>home_discharge_bool</th>\n",
              "      <th>adm_type_2</th>\n",
              "      <th>adm_type_2_bool</th>\n",
              "      <th>home_discharge_flag</th>\n",
              "    </tr>\n",
              "  </thead>\n",
              "  <tbody>\n",
              "    <tr>\n",
              "      <th>0</th>\n",
              "      <td>141</td>\n",
              "      <td>168006</td>\n",
              "      <td>234668</td>\n",
              "      <td>M</td>\n",
              "      <td>2140-11-06 11:07:00</td>\n",
              "      <td>2140-11-09 20:36:00</td>\n",
              "      <td>3</td>\n",
              "      <td>80</td>\n",
              "      <td>EMERGENCY</td>\n",
              "      <td>1</td>\n",
              "      <td>2140-11-06 11:09:19</td>\n",
              "      <td>2140-11-09 22:35:29</td>\n",
              "      <td>3.0</td>\n",
              "      <td>MICU</td>\n",
              "      <td>1</td>\n",
              "      <td>53</td>\n",
              "      <td>0.641734</td>\n",
              "      <td>1784.0</td>\n",
              "      <td>2.0</td>\n",
              "      <td>43491</td>\n",
              "      <td>131</td>\n",
              "      <td>M</td>\n",
              "      <td>2060-05-03</td>\n",
              "      <td>2140-11-09</td>\n",
              "      <td>2140-11-09</td>\n",
              "      <td>2140-11-09</td>\n",
              "      <td>1</td>\n",
              "      <td>190</td>\n",
              "      <td>2140-11-06 11:07:00</td>\n",
              "      <td>2140-11-09 20:36:00</td>\n",
              "      <td>2140-11-09 20:36:00</td>\n",
              "      <td>EMERGENCY</td>\n",
              "      <td>EMERGENCY ROOM ADMIT</td>\n",
              "      <td>DEAD/EXPIRED</td>\n",
              "      <td>Medicare</td>\n",
              "      <td>None</td>\n",
              "      <td>OTHER</td>\n",
              "      <td>SINGLE</td>\n",
              "      <td>OTHER</td>\n",
              "      <td>2140-11-06 07:17:00</td>\n",
              "      <td>2140-11-06 12:07:00</td>\n",
              "      <td>DRA, SAH</td>\n",
              "      <td>1</td>\n",
              "      <td>1</td>\n",
              "      <td>14.0</td>\n",
              "      <td>6.0</td>\n",
              "      <td>4.0</td>\n",
              "      <td>4.0</td>\n",
              "      <td>0.0</td>\n",
              "      <td>Sunday</td>\n",
              "      <td>Wednesday</td>\n",
              "      <td>Sunday</td>\n",
              "      <td>6</td>\n",
              "      <td>Wednesday</td>\n",
              "      <td>weekend</td>\n",
              "      <td>-1 days +03:24:00</td>\n",
              "      <td>short_survival</td>\n",
              "      <td>1</td>\n",
              "      <td>False</td>\n",
              "      <td>emergency</td>\n",
              "      <td>1</td>\n",
              "      <td>0</td>\n",
              "    </tr>\n",
              "    <tr>\n",
              "      <th>1</th>\n",
              "      <td>416</td>\n",
              "      <td>148709</td>\n",
              "      <td>226936</td>\n",
              "      <td>F</td>\n",
              "      <td>2132-07-23 14:46:00</td>\n",
              "      <td>2132-08-11 17:19:00</td>\n",
              "      <td>19</td>\n",
              "      <td>56</td>\n",
              "      <td>EMERGENCY</td>\n",
              "      <td>0</td>\n",
              "      <td>2132-07-23 14:47:03</td>\n",
              "      <td>2132-08-08 17:03:29</td>\n",
              "      <td>16.0</td>\n",
              "      <td>MICU</td>\n",
              "      <td>0</td>\n",
              "      <td>55</td>\n",
              "      <td>0.698023</td>\n",
              "      <td>5023.0</td>\n",
              "      <td>1.0</td>\n",
              "      <td>430</td>\n",
              "      <td>392</td>\n",
              "      <td>F</td>\n",
              "      <td>2076-12-12</td>\n",
              "      <td>2136-11-11</td>\n",
              "      <td>NaT</td>\n",
              "      <td>2136-11-11</td>\n",
              "      <td>1</td>\n",
              "      <td>532</td>\n",
              "      <td>2132-07-23 14:46:00</td>\n",
              "      <td>2132-08-11 17:19:00</td>\n",
              "      <td>NaT</td>\n",
              "      <td>EMERGENCY</td>\n",
              "      <td>EMERGENCY ROOM ADMIT</td>\n",
              "      <td>HOME HEALTH CARE</td>\n",
              "      <td>Medicaid</td>\n",
              "      <td>HAIT</td>\n",
              "      <td>UNOBTAINABLE</td>\n",
              "      <td>MARRIED</td>\n",
              "      <td>BLACK/AFRICAN AMERICAN</td>\n",
              "      <td>2132-07-23 09:26:00</td>\n",
              "      <td>2132-07-23 15:08:00</td>\n",
              "      <td>SAH</td>\n",
              "      <td>0</td>\n",
              "      <td>1</td>\n",
              "      <td>13.0</td>\n",
              "      <td>6.0</td>\n",
              "      <td>4.0</td>\n",
              "      <td>3.0</td>\n",
              "      <td>0.0</td>\n",
              "      <td>Wednesday</td>\n",
              "      <td>Monday</td>\n",
              "      <td>Wednesday</td>\n",
              "      <td>2</td>\n",
              "      <td>Friday</td>\n",
              "      <td>weekday</td>\n",
              "      <td>1552 days 06:41:00</td>\n",
              "      <td>long_survival</td>\n",
              "      <td>0</td>\n",
              "      <td>True</td>\n",
              "      <td>emergency</td>\n",
              "      <td>1</td>\n",
              "      <td>1</td>\n",
              "    </tr>\n",
              "    <tr>\n",
              "      <th>2</th>\n",
              "      <td>490</td>\n",
              "      <td>166850</td>\n",
              "      <td>222952</td>\n",
              "      <td>M</td>\n",
              "      <td>2199-12-12 19:04:00</td>\n",
              "      <td>2199-12-13 20:33:00</td>\n",
              "      <td>1</td>\n",
              "      <td>87</td>\n",
              "      <td>EMERGENCY</td>\n",
              "      <td>1</td>\n",
              "      <td>2199-12-12 21:15:58</td>\n",
              "      <td>2199-12-13 20:33:59</td>\n",
              "      <td>1.0</td>\n",
              "      <td>SICU</td>\n",
              "      <td>1</td>\n",
              "      <td>58</td>\n",
              "      <td>0.772134</td>\n",
              "      <td>5788.0</td>\n",
              "      <td>1.0</td>\n",
              "      <td>43491</td>\n",
              "      <td>463</td>\n",
              "      <td>M</td>\n",
              "      <td>2112-11-20</td>\n",
              "      <td>2199-12-13</td>\n",
              "      <td>2199-12-13</td>\n",
              "      <td>2199-12-13</td>\n",
              "      <td>1</td>\n",
              "      <td>615</td>\n",
              "      <td>2199-12-12 19:04:00</td>\n",
              "      <td>2199-12-13 20:33:00</td>\n",
              "      <td>2199-12-13 20:33:00</td>\n",
              "      <td>EMERGENCY</td>\n",
              "      <td>EMERGENCY ROOM ADMIT</td>\n",
              "      <td>DEAD/EXPIRED</td>\n",
              "      <td>Medicare</td>\n",
              "      <td>None</td>\n",
              "      <td>UNOBTAINABLE</td>\n",
              "      <td>MARRIED</td>\n",
              "      <td>WHITE</td>\n",
              "      <td>2199-12-12 17:13:00</td>\n",
              "      <td>2199-12-12 22:06:00</td>\n",
              "      <td>CEREBRAL VASCULAR ACCIDENT</td>\n",
              "      <td>1</td>\n",
              "      <td>1</td>\n",
              "      <td>6.0</td>\n",
              "      <td>4.0</td>\n",
              "      <td>1.0</td>\n",
              "      <td>1.0</td>\n",
              "      <td>0.0</td>\n",
              "      <td>Thursday</td>\n",
              "      <td>Friday</td>\n",
              "      <td>Thursday</td>\n",
              "      <td>3</td>\n",
              "      <td>Friday</td>\n",
              "      <td>weekday</td>\n",
              "      <td>-1 days +03:27:00</td>\n",
              "      <td>short_survival</td>\n",
              "      <td>1</td>\n",
              "      <td>False</td>\n",
              "      <td>emergency</td>\n",
              "      <td>1</td>\n",
              "      <td>0</td>\n",
              "    </tr>\n",
              "    <tr>\n",
              "      <th>4</th>\n",
              "      <td>831</td>\n",
              "      <td>185983</td>\n",
              "      <td>223445</td>\n",
              "      <td>F</td>\n",
              "      <td>2151-06-30 09:44:00</td>\n",
              "      <td>2151-07-15 13:50:00</td>\n",
              "      <td>15</td>\n",
              "      <td>84</td>\n",
              "      <td>EMERGENCY</td>\n",
              "      <td>0</td>\n",
              "      <td>2151-06-30 09:44:47</td>\n",
              "      <td>2151-07-03 18:15:14</td>\n",
              "      <td>3.0</td>\n",
              "      <td>SICU</td>\n",
              "      <td>0</td>\n",
              "      <td>51</td>\n",
              "      <td>0.581248</td>\n",
              "      <td>9671.0</td>\n",
              "      <td>1.0</td>\n",
              "      <td>431</td>\n",
              "      <td>784</td>\n",
              "      <td>F</td>\n",
              "      <td>2067-05-06</td>\n",
              "      <td>2151-09-10</td>\n",
              "      <td>NaT</td>\n",
              "      <td>2151-09-10</td>\n",
              "      <td>1</td>\n",
              "      <td>1031</td>\n",
              "      <td>2151-06-30 09:44:00</td>\n",
              "      <td>2151-07-15 13:50:00</td>\n",
              "      <td>None</td>\n",
              "      <td>EMERGENCY</td>\n",
              "      <td>EMERGENCY ROOM ADMIT</td>\n",
              "      <td>REHAB/DISTINCT PART HOSP</td>\n",
              "      <td>Medicare</td>\n",
              "      <td>None</td>\n",
              "      <td>JEWISH</td>\n",
              "      <td>WIDOWED</td>\n",
              "      <td>WHITE</td>\n",
              "      <td>2151-06-30 08:22:00</td>\n",
              "      <td>2151-06-30 11:10:00</td>\n",
              "      <td>STROKE/TIA</td>\n",
              "      <td>0</td>\n",
              "      <td>1</td>\n",
              "      <td>7.0</td>\n",
              "      <td>4.0</td>\n",
              "      <td>1.0</td>\n",
              "      <td>2.0</td>\n",
              "      <td>0.0</td>\n",
              "      <td>Wednesday</td>\n",
              "      <td>Thursday</td>\n",
              "      <td>Wednesday</td>\n",
              "      <td>2</td>\n",
              "      <td>Saturday</td>\n",
              "      <td>weekday</td>\n",
              "      <td>56 days 10:10:00</td>\n",
              "      <td>short_survival</td>\n",
              "      <td>1</td>\n",
              "      <td>False</td>\n",
              "      <td>emergency</td>\n",
              "      <td>1</td>\n",
              "      <td>0</td>\n",
              "    </tr>\n",
              "    <tr>\n",
              "      <th>5</th>\n",
              "      <td>1054</td>\n",
              "      <td>183383</td>\n",
              "      <td>288218</td>\n",
              "      <td>M</td>\n",
              "      <td>2157-01-06 17:16:00</td>\n",
              "      <td>2157-01-08 15:00:00</td>\n",
              "      <td>2</td>\n",
              "      <td>79</td>\n",
              "      <td>EMERGENCY</td>\n",
              "      <td>1</td>\n",
              "      <td>2157-01-06 17:17:38</td>\n",
              "      <td>2157-01-07 22:01:06</td>\n",
              "      <td>1.0</td>\n",
              "      <td>SICU</td>\n",
              "      <td>0</td>\n",
              "      <td>51</td>\n",
              "      <td>0.581248</td>\n",
              "      <td>12291.0</td>\n",
              "      <td>1.0</td>\n",
              "      <td>430</td>\n",
              "      <td>998</td>\n",
              "      <td>M</td>\n",
              "      <td>2078-07-15</td>\n",
              "      <td>2157-01-08</td>\n",
              "      <td>2157-01-08</td>\n",
              "      <td>NaT</td>\n",
              "      <td>1</td>\n",
              "      <td>1310</td>\n",
              "      <td>2157-01-06 17:16:00</td>\n",
              "      <td>2157-01-08 15:00:00</td>\n",
              "      <td>2157-01-08 15:00:00</td>\n",
              "      <td>EMERGENCY</td>\n",
              "      <td>EMERGENCY ROOM ADMIT</td>\n",
              "      <td>DEAD/EXPIRED</td>\n",
              "      <td>Medicare</td>\n",
              "      <td>None</td>\n",
              "      <td>PROTESTANT QUAKER</td>\n",
              "      <td>MARRIED</td>\n",
              "      <td>WHITE</td>\n",
              "      <td>2157-01-06 14:49:00</td>\n",
              "      <td>2157-01-06 18:36:00</td>\n",
              "      <td>INTRACRANIAL HEMORRHAGE</td>\n",
              "      <td>1</td>\n",
              "      <td>1</td>\n",
              "      <td>6.0</td>\n",
              "      <td>4.0</td>\n",
              "      <td>1.0</td>\n",
              "      <td>1.0</td>\n",
              "      <td>0.0</td>\n",
              "      <td>Thursday</td>\n",
              "      <td>Saturday</td>\n",
              "      <td>Thursday</td>\n",
              "      <td>3</td>\n",
              "      <td>Friday</td>\n",
              "      <td>weekday</td>\n",
              "      <td>-1 days +09:00:00</td>\n",
              "      <td>short_survival</td>\n",
              "      <td>1</td>\n",
              "      <td>False</td>\n",
              "      <td>emergency</td>\n",
              "      <td>1</td>\n",
              "      <td>0</td>\n",
              "    </tr>\n",
              "  </tbody>\n",
              "</table>\n",
              "</div>"
            ],
            "text/plain": [
              "   subject_id  hadm_id  ...  adm_type_2_bool home_discharge_flag\n",
              "0         141   168006  ...                1                   0\n",
              "1         416   148709  ...                1                   1\n",
              "2         490   166850  ...                1                   0\n",
              "4         831   185983  ...                1                   0\n",
              "5        1054   183383  ...                1                   0\n",
              "\n",
              "[5 rows x 62 columns]"
            ]
          },
          "metadata": {
            "tags": []
          },
          "execution_count": 127
        }
      ]
    },
    {
      "cell_type": "code",
      "metadata": {
        "id": "3aSrOD7-o6BG",
        "colab_type": "code",
        "outputId": "f18e9408-9b66-4756-d0ae-7ee0be518e99",
        "colab": {
          "base_uri": "https://localhost:8080/",
          "height": 630
        }
      },
      "source": [
        "#Null values check\n",
        "msno.matrix(data4)"
      ],
      "execution_count": 130,
      "outputs": [
        {
          "output_type": "execute_result",
          "data": {
            "text/plain": [
              "<matplotlib.axes._subplots.AxesSubplot at 0x7fb4517c1c18>"
            ]
          },
          "metadata": {
            "tags": []
          },
          "execution_count": 130
        },
        {
          "output_type": "display_data",
          "data": {
            "image/png": "[encoded data removed]",
            "text/plain": [
              "<Figure size 1800x720 with 2 Axes>"
            ]
          },
          "metadata": {
            "tags": []
          }
        }
      ]
    },
    {
      "cell_type": "code",
      "metadata": {
        "id": "Y46wqI7ryPnM",
        "colab_type": "code",
        "colab": {
          "base_uri": "https://localhost:8080/",
          "height": 914
        },
        "outputId": "140b9361-c649-4f41-d047-e6db0777b326"
      },
      "source": [
        "data4.describe().T"
      ],
      "execution_count": 136,
      "outputs": [
        {
          "output_type": "execute_result",
          "data": {
            "text/html": [
              "<div>\n",
              "<style scoped>\n",
              "    .dataframe tbody tr th:only-of-type {\n",
              "        vertical-align: middle;\n",
              "    }\n",
              "\n",
              "    .dataframe tbody tr th {\n",
              "        vertical-align: top;\n",
              "    }\n",
              "\n",
              "    .dataframe thead th {\n",
              "        text-align: right;\n",
              "    }\n",
              "</style>\n",
              "<table border=\"1\" class=\"dataframe\">\n",
              "  <thead>\n",
              "    <tr style=\"text-align: right;\">\n",
              "      <th></th>\n",
              "      <th>count</th>\n",
              "      <th>mean</th>\n",
              "      <th>std</th>\n",
              "      <th>min</th>\n",
              "      <th>25%</th>\n",
              "      <th>50%</th>\n",
              "      <th>75%</th>\n",
              "      <th>max</th>\n",
              "    </tr>\n",
              "  </thead>\n",
              "  <tbody>\n",
              "    <tr>\n",
              "      <th>subject_id</th>\n",
              "      <td>3729</td>\n",
              "      <td>40924.9</td>\n",
              "      <td>29382.9</td>\n",
              "      <td>9</td>\n",
              "      <td>16227</td>\n",
              "      <td>30588</td>\n",
              "      <td>66105</td>\n",
              "      <td>99955</td>\n",
              "    </tr>\n",
              "    <tr>\n",
              "      <th>hadm_id</th>\n",
              "      <td>3729</td>\n",
              "      <td>149722</td>\n",
              "      <td>29021.9</td>\n",
              "      <td>100018</td>\n",
              "      <td>124812</td>\n",
              "      <td>149148</td>\n",
              "      <td>175432</td>\n",
              "      <td>199972</td>\n",
              "    </tr>\n",
              "    <tr>\n",
              "      <th>icustay_id</th>\n",
              "      <td>3729</td>\n",
              "      <td>250115</td>\n",
              "      <td>29134.3</td>\n",
              "      <td>200019</td>\n",
              "      <td>224615</td>\n",
              "      <td>249559</td>\n",
              "      <td>275601</td>\n",
              "      <td>299973</td>\n",
              "    </tr>\n",
              "    <tr>\n",
              "      <th>los_hospital</th>\n",
              "      <td>3729</td>\n",
              "      <td>11.2448</td>\n",
              "      <td>11.568</td>\n",
              "      <td>0</td>\n",
              "      <td>4</td>\n",
              "      <td>8</td>\n",
              "      <td>15</td>\n",
              "      <td>132</td>\n",
              "    </tr>\n",
              "    <tr>\n",
              "      <th>admission_age</th>\n",
              "      <td>3729</td>\n",
              "      <td>66.7989</td>\n",
              "      <td>14.7602</td>\n",
              "      <td>17</td>\n",
              "      <td>57</td>\n",
              "      <td>69</td>\n",
              "      <td>79</td>\n",
              "      <td>89</td>\n",
              "    </tr>\n",
              "    <tr>\n",
              "      <th>hospital_expire_flag_x</th>\n",
              "      <td>3729</td>\n",
              "      <td>0.214803</td>\n",
              "      <td>0.410741</td>\n",
              "      <td>0</td>\n",
              "      <td>0</td>\n",
              "      <td>0</td>\n",
              "      <td>0</td>\n",
              "      <td>1</td>\n",
              "    </tr>\n",
              "    <tr>\n",
              "      <th>los_icu</th>\n",
              "      <td>3729</td>\n",
              "      <td>5.40949</td>\n",
              "      <td>6.9967</td>\n",
              "      <td>0</td>\n",
              "      <td>1</td>\n",
              "      <td>3</td>\n",
              "      <td>6</td>\n",
              "      <td>65</td>\n",
              "    </tr>\n",
              "    <tr>\n",
              "      <th>icustay_expire_flag</th>\n",
              "      <td>3729</td>\n",
              "      <td>0.157683</td>\n",
              "      <td>0.364492</td>\n",
              "      <td>0</td>\n",
              "      <td>0</td>\n",
              "      <td>0</td>\n",
              "      <td>0</td>\n",
              "      <td>1</td>\n",
              "    </tr>\n",
              "    <tr>\n",
              "      <th>oasis</th>\n",
              "      <td>3729</td>\n",
              "      <td>32.1124</td>\n",
              "      <td>8.78685</td>\n",
              "      <td>7</td>\n",
              "      <td>26</td>\n",
              "      <td>32</td>\n",
              "      <td>38</td>\n",
              "      <td>66</td>\n",
              "    </tr>\n",
              "    <tr>\n",
              "      <th>oasis_prob</th>\n",
              "      <td>3729</td>\n",
              "      <td>0.155017</td>\n",
              "      <td>0.143251</td>\n",
              "      <td>0.00505605</td>\n",
              "      <td>0.0541872</td>\n",
              "      <td>0.109623</td>\n",
              "      <td>0.209226</td>\n",
              "      <td>0.903819</td>\n",
              "    </tr>\n",
              "    <tr>\n",
              "      <th>row_id_x</th>\n",
              "      <td>3729</td>\n",
              "      <td>339185</td>\n",
              "      <td>186242</td>\n",
              "      <td>42</td>\n",
              "      <td>180547</td>\n",
              "      <td>351602</td>\n",
              "      <td>499234</td>\n",
              "      <td>650888</td>\n",
              "    </tr>\n",
              "    <tr>\n",
              "      <th>seq_num</th>\n",
              "      <td>3729</td>\n",
              "      <td>2.59265</td>\n",
              "      <td>3.46155</td>\n",
              "      <td>1</td>\n",
              "      <td>1</td>\n",
              "      <td>1</td>\n",
              "      <td>2</td>\n",
              "      <td>29</td>\n",
              "    </tr>\n",
              "    <tr>\n",
              "      <th>row_id_y</th>\n",
              "      <td>3729</td>\n",
              "      <td>26381.4</td>\n",
              "      <td>13333.2</td>\n",
              "      <td>8</td>\n",
              "      <td>15344</td>\n",
              "      <td>28745</td>\n",
              "      <td>37721</td>\n",
              "      <td>46509</td>\n",
              "    </tr>\n",
              "    <tr>\n",
              "      <th>expire_flag</th>\n",
              "      <td>3729</td>\n",
              "      <td>0.468222</td>\n",
              "      <td>0.499056</td>\n",
              "      <td>0</td>\n",
              "      <td>0</td>\n",
              "      <td>0</td>\n",
              "      <td>1</td>\n",
              "      <td>1</td>\n",
              "    </tr>\n",
              "    <tr>\n",
              "      <th>row_id</th>\n",
              "      <td>3729</td>\n",
              "      <td>33839.1</td>\n",
              "      <td>16939.5</td>\n",
              "      <td>8</td>\n",
              "      <td>19823</td>\n",
              "      <td>37241</td>\n",
              "      <td>48207</td>\n",
              "      <td>58963</td>\n",
              "    </tr>\n",
              "    <tr>\n",
              "      <th>hospital_expire_flag_y</th>\n",
              "      <td>3729</td>\n",
              "      <td>0.214803</td>\n",
              "      <td>0.410741</td>\n",
              "      <td>0</td>\n",
              "      <td>0</td>\n",
              "      <td>0</td>\n",
              "      <td>0</td>\n",
              "      <td>1</td>\n",
              "    </tr>\n",
              "    <tr>\n",
              "      <th>has_chartevents_data</th>\n",
              "      <td>3729</td>\n",
              "      <td>1</td>\n",
              "      <td>0</td>\n",
              "      <td>1</td>\n",
              "      <td>1</td>\n",
              "      <td>1</td>\n",
              "      <td>1</td>\n",
              "      <td>1</td>\n",
              "    </tr>\n",
              "    <tr>\n",
              "      <th>mingcs</th>\n",
              "      <td>3698</td>\n",
              "      <td>12.8743</td>\n",
              "      <td>3.3193</td>\n",
              "      <td>3</td>\n",
              "      <td>12</td>\n",
              "      <td>15</td>\n",
              "      <td>15</td>\n",
              "      <td>15</td>\n",
              "    </tr>\n",
              "    <tr>\n",
              "      <th>gcsmotor</th>\n",
              "      <td>3656</td>\n",
              "      <td>4.69721</td>\n",
              "      <td>1.85211</td>\n",
              "      <td>1</td>\n",
              "      <td>4</td>\n",
              "      <td>6</td>\n",
              "      <td>6</td>\n",
              "      <td>6</td>\n",
              "    </tr>\n",
              "    <tr>\n",
              "      <th>gcsverbal</th>\n",
              "      <td>3668</td>\n",
              "      <td>2.55207</td>\n",
              "      <td>2.14291</td>\n",
              "      <td>0</td>\n",
              "      <td>0</td>\n",
              "      <td>2</td>\n",
              "      <td>5</td>\n",
              "      <td>5</td>\n",
              "    </tr>\n",
              "    <tr>\n",
              "      <th>gcseyes</th>\n",
              "      <td>3682</td>\n",
              "      <td>2.60972</td>\n",
              "      <td>1.25202</td>\n",
              "      <td>1</td>\n",
              "      <td>1</td>\n",
              "      <td>3</td>\n",
              "      <td>4</td>\n",
              "      <td>4</td>\n",
              "    </tr>\n",
              "    <tr>\n",
              "      <th>endotrachflag</th>\n",
              "      <td>3698</td>\n",
              "      <td>0.284478</td>\n",
              "      <td>0.451227</td>\n",
              "      <td>0</td>\n",
              "      <td>0</td>\n",
              "      <td>0</td>\n",
              "      <td>1</td>\n",
              "      <td>1</td>\n",
              "    </tr>\n",
              "    <tr>\n",
              "      <th>inday_icu_seq</th>\n",
              "      <td>3729</td>\n",
              "      <td>2.81282</td>\n",
              "      <td>1.95629</td>\n",
              "      <td>0</td>\n",
              "      <td>1</td>\n",
              "      <td>3</td>\n",
              "      <td>4</td>\n",
              "      <td>6</td>\n",
              "    </tr>\n",
              "    <tr>\n",
              "      <th>survival_time</th>\n",
              "      <td>1746</td>\n",
              "      <td>394 days 01:35:11.168384</td>\n",
              "      <td>738 days 15:13:31.604365</td>\n",
              "      <td>-11 days +12:29:00</td>\n",
              "      <td>-1 days +12:00:00</td>\n",
              "      <td>6 days 18:04:30</td>\n",
              "      <td>414 days 20:22:45</td>\n",
              "      <td>4120 days 09:43:00</td>\n",
              "    </tr>\n",
              "    <tr>\n",
              "      <th>survival_time_flag</th>\n",
              "      <td>3729</td>\n",
              "      <td>0.317243</td>\n",
              "      <td>0.465465</td>\n",
              "      <td>0</td>\n",
              "      <td>0</td>\n",
              "      <td>0</td>\n",
              "      <td>1</td>\n",
              "      <td>1</td>\n",
              "    </tr>\n",
              "    <tr>\n",
              "      <th>adm_type_2_bool</th>\n",
              "      <td>3729</td>\n",
              "      <td>0.921963</td>\n",
              "      <td>0.268266</td>\n",
              "      <td>0</td>\n",
              "      <td>1</td>\n",
              "      <td>1</td>\n",
              "      <td>1</td>\n",
              "      <td>1</td>\n",
              "    </tr>\n",
              "    <tr>\n",
              "      <th>home_discharge_flag</th>\n",
              "      <td>3729</td>\n",
              "      <td>0.314025</td>\n",
              "      <td>0.464189</td>\n",
              "      <td>0</td>\n",
              "      <td>0</td>\n",
              "      <td>0</td>\n",
              "      <td>1</td>\n",
              "      <td>1</td>\n",
              "    </tr>\n",
              "  </tbody>\n",
              "</table>\n",
              "</div>"
            ],
            "text/plain": [
              "                       count  ...                 max\n",
              "subject_id              3729  ...               99955\n",
              "hadm_id                 3729  ...              199972\n",
              "icustay_id              3729  ...              299973\n",
              "los_hospital            3729  ...                 132\n",
              "admission_age           3729  ...                  89\n",
              "hospital_expire_flag_x  3729  ...                   1\n",
              "los_icu                 3729  ...                  65\n",
              "icustay_expire_flag     3729  ...                   1\n",
              "oasis                   3729  ...                  66\n",
              "oasis_prob              3729  ...            0.903819\n",
              "row_id_x                3729  ...              650888\n",
              "seq_num                 3729  ...                  29\n",
              "row_id_y                3729  ...               46509\n",
              "expire_flag             3729  ...                   1\n",
              "row_id                  3729  ...               58963\n",
              "hospital_expire_flag_y  3729  ...                   1\n",
              "has_chartevents_data    3729  ...                   1\n",
              "mingcs                  3698  ...                  15\n",
              "gcsmotor                3656  ...                   6\n",
              "gcsverbal               3668  ...                   5\n",
              "gcseyes                 3682  ...                   4\n",
              "endotrachflag           3698  ...                   1\n",
              "inday_icu_seq           3729  ...                   6\n",
              "survival_time           1746  ...  4120 days 09:43:00\n",
              "survival_time_flag      3729  ...                   1\n",
              "adm_type_2_bool         3729  ...                   1\n",
              "home_discharge_flag     3729  ...                   1\n",
              "\n",
              "[27 rows x 8 columns]"
            ]
          },
          "metadata": {
            "tags": []
          },
          "execution_count": 136
        }
      ]
    },
    {
      "cell_type": "code",
      "metadata": {
        "colab_type": "code",
        "outputId": "9f409bfa-6cd2-425a-fd79-9c4faeadb1cc",
        "id": "GUE_x6LUpplZ",
        "colab": {
          "base_uri": "https://localhost:8080/",
          "height": 1000
        }
      },
      "source": [
        "#Investigate contents to identify categorical and continuous data\n",
        "for col in data4:\n",
        "   print(data4[col].value_counts(dropna=False))"
      ],
      "execution_count": 135,
      "outputs": [
        {
          "output_type": "stream",
          "text": [
            "24572    1\n",
            "70339    1\n",
            "8929     1\n",
            "19168    1\n",
            "23258    1\n",
            "        ..\n",
            "25886    1\n",
            "9813     1\n",
            "17690    1\n",
            "7449     1\n",
            "32768    1\n",
            "Name: subject_id, Length: 3729, dtype: int64\n",
            "105023    1\n",
            "148153    1\n",
            "115417    1\n",
            "191192    1\n",
            "115409    1\n",
            "         ..\n",
            "118131    1\n",
            "140658    1\n",
            "101743    1\n",
            "198603    1\n",
            "114688    1\n",
            "Name: hadm_id, Length: 3729, dtype: int64\n",
            "239615    1\n",
            "221897    1\n",
            "285406    1\n",
            "201251    1\n",
            "256732    1\n",
            "         ..\n",
            "204157    1\n",
            "284028    1\n",
            "214394    1\n",
            "261497    1\n",
            "204800    1\n",
            "Name: icustay_id, Length: 3729, dtype: int64\n",
            "M    2017\n",
            "F    1712\n",
            "Name: gender_x, dtype: int64\n",
            "2184-12-17 21:15:00    1\n",
            "2140-04-28 00:20:00    1\n",
            "2119-12-20 12:45:00    1\n",
            "2177-04-06 16:11:00    1\n",
            "2108-12-07 03:57:00    1\n",
            "                      ..\n",
            "2113-01-15 15:59:00    1\n",
            "2195-03-10 07:15:00    1\n",
            "2182-08-28 22:48:00    1\n",
            "2140-05-24 07:15:00    1\n",
            "2191-09-28 19:45:00    1\n",
            "Name: admittime_hospital, Length: 3729, dtype: int64\n",
            "2165-10-22 14:20:00    2\n",
            "2141-04-07 17:30:00    2\n",
            "2184-11-11 20:18:00    1\n",
            "2173-06-27 08:56:00    1\n",
            "2116-03-26 12:58:00    1\n",
            "                      ..\n",
            "2118-08-31 16:51:00    1\n",
            "2146-04-22 11:00:00    1\n",
            "2143-02-26 15:16:00    1\n",
            "2146-08-11 10:15:00    1\n",
            "2152-04-12 10:45:00    1\n",
            "Name: dischtime_hospital, Length: 3727, dtype: int64\n",
            "4      282\n",
            "5      259\n",
            "6      247\n",
            "3      232\n",
            "7      225\n",
            "      ... \n",
            "74       1\n",
            "72       1\n",
            "68       1\n",
            "64       1\n",
            "104      1\n",
            "Name: los_hospital, Length: 86, dtype: int64\n",
            "80    125\n",
            "82    117\n",
            "79    115\n",
            "72    106\n",
            "78    104\n",
            "     ... \n",
            "20      3\n",
            "17      2\n",
            "26      2\n",
            "25      2\n",
            "18      2\n",
            "Name: admission_age, Length: 73, dtype: int64\n",
            "EMERGENCY    3352\n",
            "ELECTIVE      291\n",
            "URGENT         86\n",
            "Name: admission_type_x, dtype: int64\n",
            "0    2928\n",
            "1     801\n",
            "Name: hospital_expire_flag_x, dtype: int64\n",
            "2118-10-04 17:37:58    1\n",
            "2175-04-28 01:25:00    1\n",
            "2114-10-12 09:16:07    1\n",
            "2126-01-08 21:14:39    1\n",
            "2111-03-15 00:08:01    1\n",
            "                      ..\n",
            "2179-09-12 16:40:13    1\n",
            "2108-05-17 01:25:37    1\n",
            "2122-11-22 23:06:41    1\n",
            "2109-01-11 20:45:00    1\n",
            "2155-11-18 12:49:31    1\n",
            "Name: intime_icu, Length: 3729, dtype: int64\n",
            "2120-06-26 22:11:13    1\n",
            "2161-12-30 21:27:04    1\n",
            "2183-10-25 03:33:43    1\n",
            "2101-01-26 19:09:40    1\n",
            "2123-09-28 17:33:36    1\n",
            "                      ..\n",
            "2141-02-05 17:00:00    1\n",
            "2195-05-12 01:10:25    1\n",
            "2154-05-22 13:01:26    1\n",
            "2179-09-16 18:03:52    1\n",
            "2170-01-11 21:37:24    1\n",
            "Name: outtime_icu, Length: 3729, dtype: int64\n",
            "1.0     1011\n",
            "2.0      695\n",
            "3.0      423\n",
            "4.0      254\n",
            "5.0      183\n",
            "6.0      151\n",
            "7.0      142\n",
            "8.0       89\n",
            "9.0       85\n",
            "0.0       80\n",
            "11.0      71\n",
            "10.0      68\n",
            "13.0      49\n",
            "12.0      47\n",
            "14.0      47\n",
            "16.0      33\n",
            "15.0      29\n",
            "17.0      27\n",
            "20.0      24\n",
            "19.0      23\n",
            "24.0      20\n",
            "21.0      19\n",
            "23.0      19\n",
            "18.0      17\n",
            "22.0      17\n",
            "26.0      12\n",
            "25.0      11\n",
            "27.0      10\n",
            "28.0       9\n",
            "29.0       7\n",
            "31.0       7\n",
            "32.0       5\n",
            "30.0       5\n",
            "40.0       4\n",
            "37.0       4\n",
            "42.0       3\n",
            "36.0       3\n",
            "33.0       3\n",
            "54.0       2\n",
            "41.0       2\n",
            "35.0       2\n",
            "43.0       2\n",
            "39.0       2\n",
            "45.0       2\n",
            "38.0       2\n",
            "52.0       2\n",
            "65.0       1\n",
            "46.0       1\n",
            "34.0       1\n",
            "62.0       1\n",
            "61.0       1\n",
            "50.0       1\n",
            "47.0       1\n",
            "Name: los_icu, dtype: int64\n",
            "SICU     1639\n",
            "MICU      681\n",
            "TSICU     563\n",
            "CSRU      457\n",
            "CCU       389\n",
            "Name: first_careunit, dtype: int64\n",
            "0    3141\n",
            "1     588\n",
            "Name: icustay_expire_flag, dtype: int64\n",
            "33    184\n",
            "35    174\n",
            "32    164\n",
            "30    161\n",
            "31    160\n",
            "34    159\n",
            "29    159\n",
            "28    145\n",
            "23    139\n",
            "27    139\n",
            "36    135\n",
            "25    134\n",
            "38    130\n",
            "24    126\n",
            "37    126\n",
            "26    124\n",
            "40    115\n",
            "39    104\n",
            "22    102\n",
            "21     94\n",
            "41     91\n",
            "42     84\n",
            "43     77\n",
            "20     69\n",
            "44     62\n",
            "19     58\n",
            "18     56\n",
            "45     52\n",
            "47     49\n",
            "17     44\n",
            "48     42\n",
            "46     34\n",
            "16     30\n",
            "50     28\n",
            "49     26\n",
            "51     22\n",
            "52     18\n",
            "53     16\n",
            "15     14\n",
            "13     13\n",
            "54     12\n",
            "14     12\n",
            "12     10\n",
            "55      7\n",
            "9       4\n",
            "56      3\n",
            "58      3\n",
            "59      3\n",
            "10      3\n",
            "11      3\n",
            "66      2\n",
            "60      2\n",
            "57      2\n",
            "7       2\n",
            "61      1\n",
            "8       1\n",
            "Name: oasis, dtype: int64\n",
            "0.122701    184\n",
            "0.152892    174\n",
            "0.109623    164\n",
            "0.087098    161\n",
            "0.097783    160\n",
            "0.137099    159\n",
            "0.077479    159\n",
            "0.068843    145\n",
            "0.037612    139\n",
            "0.061106    139\n",
            "0.170145    135\n",
            "0.048012    134\n",
            "0.209226    130\n",
            "0.042509    126\n",
            "0.188911    126\n",
            "0.054187    124\n",
            "0.254529    115\n",
            "0.231102    104\n",
            "0.033259    102\n",
            "0.029395     94\n",
            "0.279468     91\n",
            "0.305849     84\n",
            "0.333566     77\n",
            "0.025967     69\n",
            "0.362484     62\n",
            "0.022930     58\n",
            "0.020241     56\n",
            "0.392432     52\n",
            "0.454600     49\n",
            "0.017861     44\n",
            "0.486353     42\n",
            "0.423212     34\n",
            "0.015757     30\n",
            "0.549933     28\n",
            "0.518217     26\n",
            "0.581248     22\n",
            "0.611922     18\n",
            "0.641734     16\n",
            "0.013897     14\n",
            "0.010803     13\n",
            "0.012254     12\n",
            "0.670490     12\n",
            "0.009522     10\n",
            "0.698023      7\n",
            "0.006515      4\n",
            "0.008392      3\n",
            "0.724202      3\n",
            "0.793786      3\n",
            "0.007394      3\n",
            "0.772134      3\n",
            "0.813877      2\n",
            "0.903819      2\n",
            "0.748927      2\n",
            "0.005056      2\n",
            "0.832423      1\n",
            "0.005740      1\n",
            "Name: oasis_prob, dtype: int64\n",
            "524284.0    1\n",
            "344909.0    1\n",
            "71522.0     1\n",
            "78167.0     1\n",
            "379928.0    1\n",
            "           ..\n",
            "9941.0      1\n",
            "135047.0    1\n",
            "285343.0    1\n",
            "77051.0     1\n",
            "104448.0    1\n",
            "Name: row_id_x, Length: 3729, dtype: int64\n",
            "1.0     2456\n",
            "2.0      428\n",
            "3.0      153\n",
            "4.0      112\n",
            "5.0       98\n",
            "6.0       89\n",
            "7.0       61\n",
            "9.0       58\n",
            "8.0       54\n",
            "10.0      51\n",
            "12.0      31\n",
            "11.0      27\n",
            "13.0      20\n",
            "14.0      20\n",
            "17.0      15\n",
            "15.0      14\n",
            "21.0       7\n",
            "22.0       7\n",
            "16.0       6\n",
            "19.0       6\n",
            "18.0       5\n",
            "23.0       3\n",
            "20.0       3\n",
            "24.0       2\n",
            "25.0       1\n",
            "29.0       1\n",
            "28.0       1\n",
            "Name: seq_num, dtype: int64\n",
            "431      1060\n",
            "430       548\n",
            "43310     525\n",
            "43491     505\n",
            "43411     467\n",
            "4321      228\n",
            "43330     102\n",
            "43311      69\n",
            "4329       54\n",
            "43401      46\n",
            "43331      25\n",
            "43301      23\n",
            "43320      19\n",
            "43321      14\n",
            "43490      14\n",
            "43410      10\n",
            "43300       7\n",
            "43380       5\n",
            "4320        4\n",
            "43400       2\n",
            "43391       1\n",
            "43381       1\n",
            "Name: icd9_code, dtype: int64\n",
            "4094     1\n",
            "33413    1\n",
            "35484    1\n",
            "33429    1\n",
            "43668    1\n",
            "        ..\n",
            "42366    1\n",
            "43376    1\n",
            "26606    1\n",
            "36215    1\n",
            "16384    1\n",
            "Name: row_id_y, Length: 3729, dtype: int64\n",
            "M    2017\n",
            "F    1712\n",
            "Name: gender_y, dtype: int64\n",
            "2086-02-20    3\n",
            "2102-03-28    3\n",
            "2096-12-02    3\n",
            "2053-04-13    3\n",
            "2098-04-11    3\n",
            "             ..\n",
            "2125-03-17    1\n",
            "2037-06-19    1\n",
            "2097-01-18    1\n",
            "2073-01-27    1\n",
            "2099-06-12    1\n",
            "Name: dob, Length: 3577, dtype: int64\n",
            "NaT           1983\n",
            "2170-05-17       3\n",
            "2100-10-05       2\n",
            "2133-12-23       2\n",
            "2156-10-22       2\n",
            "              ... \n",
            "2174-03-04       1\n",
            "2184-06-12       1\n",
            "2203-12-13       1\n",
            "2131-09-18       1\n",
            "2116-03-26       1\n",
            "Name: dod, Length: 1713, dtype: int64\n",
            "NaT           2561\n",
            "2170-05-17       3\n",
            "2125-04-18       2\n",
            "2164-06-16       2\n",
            "2191-01-21       2\n",
            "              ... \n",
            "2153-02-27       1\n",
            "2117-02-01       1\n",
            "2145-03-02       1\n",
            "2207-01-14       1\n",
            "2114-11-05       1\n",
            "Name: dod_hosp, Length: 1155, dtype: int64\n",
            "NaT           2291\n",
            "2175-06-04       2\n",
            "2151-03-13       2\n",
            "2147-08-25       2\n",
            "2160-10-03       2\n",
            "              ... \n",
            "2184-06-12       1\n",
            "2203-12-13       1\n",
            "2129-06-06       1\n",
            "2109-05-05       1\n",
            "2116-03-26       1\n",
            "Name: dod_ssn, Length: 1418, dtype: int64\n",
            "0    1983\n",
            "1    1746\n",
            "Name: expire_flag, dtype: int64\n",
            "22525    1\n",
            "56291    1\n",
            "45923    1\n",
            "7010     1\n",
            "54111    1\n",
            "        ..\n",
            "47609    1\n",
            "1510     1\n",
            "15845    1\n",
            "58242    1\n",
            "13831    1\n",
            "Name: row_id, Length: 3729, dtype: int64\n",
            "2184-12-17 21:15:00    1\n",
            "2140-04-28 00:20:00    1\n",
            "2119-12-20 12:45:00    1\n",
            "2177-04-06 16:11:00    1\n",
            "2108-12-07 03:57:00    1\n",
            "                      ..\n",
            "2113-01-15 15:59:00    1\n",
            "2195-03-10 07:15:00    1\n",
            "2182-08-28 22:48:00    1\n",
            "2140-05-24 07:15:00    1\n",
            "2191-09-28 19:45:00    1\n",
            "Name: admittime, Length: 3729, dtype: int64\n",
            "2165-10-22 14:20:00    2\n",
            "2141-04-07 17:30:00    2\n",
            "2184-11-11 20:18:00    1\n",
            "2173-06-27 08:56:00    1\n",
            "2116-03-26 12:58:00    1\n",
            "                      ..\n",
            "2118-08-31 16:51:00    1\n",
            "2146-04-22 11:00:00    1\n",
            "2143-02-26 15:16:00    1\n",
            "2146-08-11 10:15:00    1\n",
            "2152-04-12 10:45:00    1\n",
            "Name: dischtime, Length: 3727, dtype: int64\n",
            "NaT                    2928\n",
            "2142-04-25 00:01:00       1\n",
            "2126-09-14 15:50:00       1\n",
            "2100-10-05 06:38:00       1\n",
            "2108-02-01 12:00:00       1\n",
            "                       ... \n",
            "2138-03-09 13:30:00       1\n",
            "2145-09-13 00:03:00       1\n",
            "2134-09-09 01:40:00       1\n",
            "2128-08-24 17:35:00       1\n",
            "2143-07-10 00:15:00       1\n",
            "Name: deathtime, Length: 802, dtype: int64\n",
            "EMERGENCY    3352\n",
            "ELECTIVE      291\n",
            "URGENT         86\n",
            "Name: admission_type_y, dtype: int64\n",
            "EMERGENCY ROOM ADMIT         1993\n",
            "CLINIC REFERRAL/PREMATURE     836\n",
            "TRANSFER FROM HOSP/EXTRAM     534\n",
            "PHYS REFERRAL/NORMAL DELI     359\n",
            "TRANSFER FROM SKILLED NUR       6\n",
            "TRANSFER FROM OTHER HEALT       1\n",
            "Name: admission_location, dtype: int64\n",
            "REHAB/DISTINCT PART HOSP     1031\n",
            "DEAD/EXPIRED                  801\n",
            "HOME                          662\n",
            "HOME HEALTH CARE              508\n",
            "SNF                           384\n",
            "LONG TERM CARE HOSPITAL       194\n",
            "SHORT TERM HOSPITAL            60\n",
            "DISC-TRAN CANCER/CHLDRN H      35\n",
            "HOSPICE-MEDICAL FACILITY       25\n",
            "HOSPICE-HOME                   17\n",
            "LEFT AGAINST MEDICAL ADVI       6\n",
            "DISCH-TRAN TO PSYCH HOSP        4\n",
            "HOME WITH HOME IV PROVIDR       1\n",
            "OTHER FACILITY                  1\n",
            "Name: discharge_location, dtype: int64\n",
            "Medicare      2138\n",
            "Private       1178\n",
            "Medicaid       269\n",
            "Government      93\n",
            "Self Pay        51\n",
            "Name: insurance, dtype: int64\n",
            "ENGL    2108\n",
            "NaN     1299\n",
            "SPAN      92\n",
            "PORT      41\n",
            "PTUN      40\n",
            "RUSS      36\n",
            "CANT      29\n",
            "HAIT      14\n",
            "MAND      12\n",
            "CAPE      11\n",
            "ITAL       8\n",
            "VIET       6\n",
            "HIND       6\n",
            "GREE       5\n",
            "ARAB       3\n",
            "AMER       2\n",
            "CAMB       2\n",
            "PERS       2\n",
            "FREN       2\n",
            "*AMH       1\n",
            "*KHM       1\n",
            "LAOT       1\n",
            "*ARM       1\n",
            "KORE       1\n",
            "ALBA       1\n",
            "*ROM       1\n",
            "*IBO       1\n",
            "*TEL       1\n",
            "POLI       1\n",
            "*URD       1\n",
            "Name: language, dtype: int64\n",
            "CATHOLIC                  1296\n",
            "NOT SPECIFIED              779\n",
            "UNOBTAINABLE               662\n",
            "PROTESTANT QUAKER          428\n",
            "JEWISH                     218\n",
            "OTHER                      154\n",
            "EPISCOPALIAN                44\n",
            "NaN                         39\n",
            "CHRISTIAN SCIENTIST         28\n",
            "GREEK ORTHODOX              19\n",
            "BUDDHIST                    13\n",
            "MUSLIM                      12\n",
            "UNITARIAN-UNIVERSALIST      12\n",
            "JEHOVAH'S WITNESS            7\n",
            "HINDU                        6\n",
            "ROMANIAN EAST. ORTH          6\n",
            "BAPTIST                      4\n",
            "7TH DAY ADVENTIST            1\n",
            "HEBREW                       1\n",
            "Name: religion, dtype: int64\n",
            "MARRIED              1944\n",
            "SINGLE                728\n",
            "WIDOWED               502\n",
            "NaN                   288\n",
            "DIVORCED              207\n",
            "UNKNOWN (DEFAULT)      35\n",
            "SEPARATED              24\n",
            "LIFE PARTNER            1\n",
            "Name: marital_status, dtype: int64\n",
            "WHITE                                        2705\n",
            "UNKNOWN/NOT SPECIFIED                         310\n",
            "BLACK/AFRICAN AMERICAN                        241\n",
            "HISPANIC OR LATINO                            100\n",
            "OTHER                                          99\n",
            "UNABLE TO OBTAIN                               70\n",
            "ASIAN                                          67\n",
            "PATIENT DECLINED TO ANSWER                     23\n",
            "HISPANIC/LATINO - PUERTO RICAN                 14\n",
            "HISPANIC/LATINO - DOMINICAN                    13\n",
            "ASIAN - CHINESE                                12\n",
            "BLACK/CAPE VERDEAN                              8\n",
            "MULTI RACE ETHNICITY                            8\n",
            "WHITE - RUSSIAN                                 7\n",
            "WHITE - BRAZILIAN                               6\n",
            "BLACK/HAITIAN                                   6\n",
            "WHITE - OTHER EUROPEAN                          5\n",
            "PORTUGUESE                                      5\n",
            "ASIAN - ASIAN INDIAN                            4\n",
            "MIDDLE EASTERN                                  3\n",
            "HISPANIC/LATINO - CUBAN                         2\n",
            "AMERICAN INDIAN/ALASKA NATIVE                   2\n",
            "HISPANIC/LATINO - COLOMBIAN                     2\n",
            "ASIAN - CAMBODIAN                               2\n",
            "BLACK/AFRICAN                                   2\n",
            "ASIAN - FILIPINO                                2\n",
            "ASIAN - VIETNAMESE                              2\n",
            "ASIAN - OTHER                                   2\n",
            "HISPANIC/LATINO - GUATEMALAN                    2\n",
            "WHITE - EASTERN EUROPEAN                        1\n",
            "ASIAN - JAPANESE                                1\n",
            "NATIVE HAWAIIAN OR OTHER PACIFIC ISLANDER       1\n",
            "ASIAN - KOREAN                                  1\n",
            "HISPANIC/LATINO - SALVADORAN                    1\n",
            "Name: ethnicity, dtype: int64\n",
            "NaT                    998\n",
            "2118-03-31 14:01:00      1\n",
            "2199-11-16 21:06:00      1\n",
            "2154-02-25 22:14:00      1\n",
            "2145-09-24 12:32:00      1\n",
            "                      ... \n",
            "2189-01-02 23:06:00      1\n",
            "2159-02-19 20:10:00      1\n",
            "2178-01-13 21:42:00      1\n",
            "2165-06-22 00:29:00      1\n",
            "2119-11-07 00:14:00      1\n",
            "Name: edregtime, Length: 2732, dtype: int64\n",
            "NaT                    998\n",
            "2108-12-07 05:22:00      1\n",
            "2124-03-31 13:30:00      1\n",
            "2143-05-25 23:26:00      1\n",
            "2186-07-09 02:25:00      1\n",
            "                      ... \n",
            "2125-03-11 23:48:00      1\n",
            "2193-02-01 03:03:00      1\n",
            "2187-05-21 15:33:00      1\n",
            "2172-05-10 00:44:00      1\n",
            "2193-05-11 12:03:00      1\n",
            "Name: edouttime, Length: 2732, dtype: int64\n",
            "INTRACRANIAL HEMORRHAGE                       438\n",
            "SUBARACHNOID HEMORRHAGE                       294\n",
            "STROKE;TELEMETRY;TRANSIENT ISCHEMIC ATTACK    241\n",
            "STROKE/TIA                                     76\n",
            "HEAD BLEED                                     70\n",
            "                                             ... \n",
            "AORTIC STENOSIS,\\CATH                           1\n",
            "BILATERAL SUBDURAL HEMORRHAGE                   1\n",
            "AFLUTTER                                        1\n",
            "UNSTABLE ANGINA;TELEMETRY                       1\n",
            "NECK FX;HAND WOUND                              1\n",
            "Name: diagnosis, Length: 1245, dtype: int64\n",
            "0    2928\n",
            "1     801\n",
            "Name: hospital_expire_flag_y, dtype: int64\n",
            "1    3729\n",
            "Name: has_chartevents_data, dtype: int64\n",
            "15.0    1862\n",
            "14.0     619\n",
            "13.0     254\n",
            "3.0      145\n",
            "12.0     134\n",
            "11.0     124\n",
            "10.0     118\n",
            "7.0      103\n",
            "9.0       95\n",
            "6.0       92\n",
            "8.0       90\n",
            "4.0       34\n",
            "NaN       31\n",
            "5.0       28\n",
            "Name: mingcs, dtype: int64\n",
            "6.0    2031\n",
            "1.0     588\n",
            "5.0     494\n",
            "4.0     381\n",
            "2.0      81\n",
            "3.0      81\n",
            "NaN      73\n",
            "Name: gcsmotor, dtype: int64\n",
            "5.0    1240\n",
            "0.0    1052\n",
            "1.0     621\n",
            "4.0     469\n",
            "2.0     194\n",
            "3.0      92\n",
            "NaN      61\n",
            "Name: gcsverbal, dtype: int64\n",
            "4.0    1235\n",
            "1.0    1212\n",
            "3.0     987\n",
            "2.0     248\n",
            "NaN      47\n",
            "Name: gcseyes, dtype: int64\n",
            "0.0    2646\n",
            "1.0    1052\n",
            "NaN      31\n",
            "Name: endotrachflag, dtype: int64\n",
            "Monday       599\n",
            "Tuesday      587\n",
            "Thursday     565\n",
            "Wednesday    560\n",
            "Friday       544\n",
            "Sunday       467\n",
            "Saturday     407\n",
            "Name: admitday_hospital, dtype: int64\n",
            "Friday       720\n",
            "Tuesday      651\n",
            "Wednesday    641\n",
            "Thursday     592\n",
            "Monday       480\n",
            "Saturday     392\n",
            "Sunday       253\n",
            "Name: dischday_hospital, dtype: int64\n",
            "Friday       599\n",
            "Monday       587\n",
            "Tuesday      575\n",
            "Thursday     561\n",
            "Wednesday    549\n",
            "Sunday       447\n",
            "Saturday     411\n",
            "Name: inday_icu, dtype: int64\n",
            "4    599\n",
            "0    587\n",
            "1    575\n",
            "3    561\n",
            "2    549\n",
            "6    447\n",
            "5    411\n",
            "Name: inday_icu_seq, dtype: int64\n",
            "Friday       603\n",
            "Tuesday      598\n",
            "Thursday     564\n",
            "Wednesday    563\n",
            "Monday       508\n",
            "Saturday     475\n",
            "Sunday       418\n",
            "Name: outday_icu, dtype: int64\n",
            "weekday    2871\n",
            "weekend     858\n",
            "Name: inday_icu_wkd, dtype: int64\n",
            "NaT                  1983\n",
            "-1 days +12:00:00      62\n",
            "-1 days +16:00:00      12\n",
            "-1 days +09:00:00       8\n",
            "-1 days +07:00:00       8\n",
            "                     ... \n",
            "1 days 06:33:00         1\n",
            "626 days 08:47:00       1\n",
            "45 days 11:00:00        1\n",
            "11 days 06:02:00        1\n",
            "-1 days +04:07:00       1\n",
            "Name: survival_time, Length: 1383, dtype: int64\n",
            "long_survival     2546\n",
            "short_survival    1183\n",
            "Name: death_post_discharge_in_days, dtype: int64\n",
            "0    2546\n",
            "1    1183\n",
            "Name: survival_time_flag, dtype: int64\n",
            "False    2558\n",
            "True     1171\n",
            "Name: home_discharge_bool, dtype: int64\n",
            "emergency    3438\n",
            "elective      291\n",
            "Name: adm_type_2, dtype: int64\n",
            "1    3438\n",
            "0     291\n",
            "Name: adm_type_2_bool, dtype: int64\n",
            "0    2558\n",
            "1    1171\n",
            "Name: home_discharge_flag, dtype: int64\n"
          ],
          "name": "stdout"
        }
      ]
    },
    {
      "cell_type": "markdown",
      "metadata": {
        "id": "_Dxv1xokpwhb",
        "colab_type": "text"
      },
      "source": [
        "##Addition of Categorical Features"
      ]
    },
    {
      "cell_type": "code",
      "metadata": {
        "id": "AyE4qGbYq4y1",
        "colab_type": "code",
        "colab": {}
      },
      "source": [
        "#Add columns for days of the week\n",
        "data4['admitday_hospital'] = data4.admittime_hospital.dt.weekday_name\n",
        "data4['dischday_hospital'] = data4.dischtime_hospital.dt.weekday_name\n",
        "data4['inday_icu'] = data4.intime_icu.dt.weekday_name\n",
        "data4['inday_icu_seq'] = data4.intime_icu.dt.weekday\n",
        "data4['outday_icu'] = data4.outtime_icu.dt.weekday_name"
      ],
      "execution_count": 0,
      "outputs": []
    },
    {
      "cell_type": "code",
      "metadata": {
        "id": "QlzkaEzsrF_r",
        "colab_type": "code",
        "outputId": "0fbc1e6e-7e3a-4e84-a7f5-2c704f4f08d6",
        "colab": {
          "base_uri": "https://localhost:8080/",
          "height": 156
        }
      },
      "source": [
        "data4['inday_icu'].value_counts()"
      ],
      "execution_count": 138,
      "outputs": [
        {
          "output_type": "execute_result",
          "data": {
            "text/plain": [
              "Friday       599\n",
              "Monday       587\n",
              "Tuesday      575\n",
              "Thursday     561\n",
              "Wednesday    549\n",
              "Sunday       447\n",
              "Saturday     411\n",
              "Name: inday_icu, dtype: int64"
            ]
          },
          "metadata": {
            "tags": []
          },
          "execution_count": 138
        }
      ]
    },
    {
      "cell_type": "code",
      "metadata": {
        "id": "DGmMtriGrKLW",
        "colab_type": "code",
        "outputId": "fda95326-008d-4c8e-f7d7-9ecc54be439d",
        "colab": {
          "base_uri": "https://localhost:8080/",
          "height": 69
        }
      },
      "source": [
        "data4['inday_icu_wkd'] = np.where(data4.intime_icu.dt.weekday <= 4, \n",
        "                                 'weekday','weekend')\n",
        "data4['inday_icu_wkd'].value_counts()"
      ],
      "execution_count": 139,
      "outputs": [
        {
          "output_type": "execute_result",
          "data": {
            "text/plain": [
              "weekday    2871\n",
              "weekend     858\n",
              "Name: inday_icu_wkd, dtype: int64"
            ]
          },
          "metadata": {
            "tags": []
          },
          "execution_count": 139
        }
      ]
    },
    {
      "cell_type": "markdown",
      "metadata": {
        "id": "oIubJvc-rPBF",
        "colab_type": "text"
      },
      "source": [
        "#Table One"
      ]
    },
    {
      "cell_type": "code",
      "metadata": {
        "id": "9wH9bwWTrXZF",
        "colab_type": "code",
        "outputId": "36ecd069-c0e3-4235-a73c-369f055632e5",
        "colab": {
          "base_uri": "https://localhost:8080/",
          "height": 771
        }
      },
      "source": [
        "#Table One\n",
        "columns = ['gender_x', 'los_hospital', 'admission_age', 'admission_type_x', 'hospital_expire_flag_x', \n",
        "           'los_icu','icustay_expire_flag', 'oasis', 'oasis_prob', 'first_careunit',\n",
        "           'inday_icu_wkd']\n",
        "\n",
        "groupby = 'inday_icu'\n",
        "\n",
        "pval = False\n",
        "\n",
        "categorical = ['gender_x','admission_type_x','hospital_expire_flag_x','icustay_expire_flag',\n",
        "               'first_careunit','inday_icu_wkd']\n",
        "\n",
        "t = TableOne(data4, columns=columns, categorical=categorical, groupby=groupby, pval=pval)\n",
        "t.tableone"
      ],
      "execution_count": 144,
      "outputs": [
        {
          "output_type": "execute_result",
          "data": {
            "text/html": [
              "<div>\n",
              "<style scoped>\n",
              "    .dataframe tbody tr th:only-of-type {\n",
              "        vertical-align: middle;\n",
              "    }\n",
              "\n",
              "    .dataframe tbody tr th {\n",
              "        vertical-align: top;\n",
              "    }\n",
              "\n",
              "    .dataframe thead tr th {\n",
              "        text-align: left;\n",
              "    }\n",
              "</style>\n",
              "<table border=\"1\" class=\"dataframe\">\n",
              "  <thead>\n",
              "    <tr>\n",
              "      <th></th>\n",
              "      <th></th>\n",
              "      <th colspan=\"8\" halign=\"left\">Grouped by inday_icu</th>\n",
              "    </tr>\n",
              "    <tr>\n",
              "      <th></th>\n",
              "      <th></th>\n",
              "      <th>Missing</th>\n",
              "      <th>Friday</th>\n",
              "      <th>Monday</th>\n",
              "      <th>Saturday</th>\n",
              "      <th>Sunday</th>\n",
              "      <th>Thursday</th>\n",
              "      <th>Tuesday</th>\n",
              "      <th>Wednesday</th>\n",
              "    </tr>\n",
              "  </thead>\n",
              "  <tbody>\n",
              "    <tr>\n",
              "      <th>n</th>\n",
              "      <th></th>\n",
              "      <td></td>\n",
              "      <td>599</td>\n",
              "      <td>587</td>\n",
              "      <td>411</td>\n",
              "      <td>447</td>\n",
              "      <td>561</td>\n",
              "      <td>575</td>\n",
              "      <td>549</td>\n",
              "    </tr>\n",
              "    <tr>\n",
              "      <th rowspan=\"2\" valign=\"top\">gender_x</th>\n",
              "      <th>F</th>\n",
              "      <td>0</td>\n",
              "      <td>286 (47.7)</td>\n",
              "      <td>283 (48.2)</td>\n",
              "      <td>177 (43.1)</td>\n",
              "      <td>203 (45.4)</td>\n",
              "      <td>268 (47.8)</td>\n",
              "      <td>241 (41.9)</td>\n",
              "      <td>254 (46.3)</td>\n",
              "    </tr>\n",
              "    <tr>\n",
              "      <th>M</th>\n",
              "      <td></td>\n",
              "      <td>313 (52.3)</td>\n",
              "      <td>304 (51.8)</td>\n",
              "      <td>234 (56.9)</td>\n",
              "      <td>244 (54.6)</td>\n",
              "      <td>293 (52.2)</td>\n",
              "      <td>334 (58.1)</td>\n",
              "      <td>295 (53.7)</td>\n",
              "    </tr>\n",
              "    <tr>\n",
              "      <th>los_hospital</th>\n",
              "      <th></th>\n",
              "      <td>0</td>\n",
              "      <td>11.3 (10.6)</td>\n",
              "      <td>10.8 (11.0)</td>\n",
              "      <td>11.6 (12.2)</td>\n",
              "      <td>10.8 (11.0)</td>\n",
              "      <td>11.4 (12.7)</td>\n",
              "      <td>11.0 (10.7)</td>\n",
              "      <td>11.9 (12.8)</td>\n",
              "    </tr>\n",
              "    <tr>\n",
              "      <th>admission_age</th>\n",
              "      <th></th>\n",
              "      <td>0</td>\n",
              "      <td>67.2 (14.7)</td>\n",
              "      <td>67.7 (14.1)</td>\n",
              "      <td>65.5 (15.3)</td>\n",
              "      <td>65.3 (15.8)</td>\n",
              "      <td>66.7 (14.8)</td>\n",
              "      <td>67.2 (14.9)</td>\n",
              "      <td>67.3 (14.0)</td>\n",
              "    </tr>\n",
              "    <tr>\n",
              "      <th rowspan=\"3\" valign=\"top\">admission_type_x</th>\n",
              "      <th>ELECTIVE</th>\n",
              "      <td>0</td>\n",
              "      <td>40 (6.7)</td>\n",
              "      <td>48 (8.2)</td>\n",
              "      <td>6 (1.5)</td>\n",
              "      <td>5 (1.1)</td>\n",
              "      <td>55 (9.8)</td>\n",
              "      <td>69 (12.0)</td>\n",
              "      <td>68 (12.4)</td>\n",
              "    </tr>\n",
              "    <tr>\n",
              "      <th>EMERGENCY</th>\n",
              "      <td></td>\n",
              "      <td>553 (92.3)</td>\n",
              "      <td>528 (89.9)</td>\n",
              "      <td>394 (95.9)</td>\n",
              "      <td>424 (94.9)</td>\n",
              "      <td>494 (88.1)</td>\n",
              "      <td>495 (86.1)</td>\n",
              "      <td>464 (84.5)</td>\n",
              "    </tr>\n",
              "    <tr>\n",
              "      <th>URGENT</th>\n",
              "      <td></td>\n",
              "      <td>6 (1.0)</td>\n",
              "      <td>11 (1.9)</td>\n",
              "      <td>11 (2.7)</td>\n",
              "      <td>18 (4.0)</td>\n",
              "      <td>12 (2.1)</td>\n",
              "      <td>11 (1.9)</td>\n",
              "      <td>17 (3.1)</td>\n",
              "    </tr>\n",
              "    <tr>\n",
              "      <th rowspan=\"2\" valign=\"top\">hospital_expire_flag_x</th>\n",
              "      <th>0</th>\n",
              "      <td>0</td>\n",
              "      <td>472 (78.8)</td>\n",
              "      <td>476 (81.1)</td>\n",
              "      <td>303 (73.7)</td>\n",
              "      <td>327 (73.2)</td>\n",
              "      <td>452 (80.6)</td>\n",
              "      <td>459 (79.8)</td>\n",
              "      <td>439 (80.0)</td>\n",
              "    </tr>\n",
              "    <tr>\n",
              "      <th>1</th>\n",
              "      <td></td>\n",
              "      <td>127 (21.2)</td>\n",
              "      <td>111 (18.9)</td>\n",
              "      <td>108 (26.3)</td>\n",
              "      <td>120 (26.8)</td>\n",
              "      <td>109 (19.4)</td>\n",
              "      <td>116 (20.2)</td>\n",
              "      <td>110 (20.0)</td>\n",
              "    </tr>\n",
              "    <tr>\n",
              "      <th>los_icu</th>\n",
              "      <th></th>\n",
              "      <td>0</td>\n",
              "      <td>5.1 (6.0)</td>\n",
              "      <td>5.4 (7.8)</td>\n",
              "      <td>5.7 (6.8)</td>\n",
              "      <td>5.6 (6.6)</td>\n",
              "      <td>5.3 (7.1)</td>\n",
              "      <td>5.5 (7.4)</td>\n",
              "      <td>5.5 (7.1)</td>\n",
              "    </tr>\n",
              "    <tr>\n",
              "      <th rowspan=\"2\" valign=\"top\">icustay_expire_flag</th>\n",
              "      <th>0</th>\n",
              "      <td>0</td>\n",
              "      <td>506 (84.5)</td>\n",
              "      <td>501 (85.3)</td>\n",
              "      <td>340 (82.7)</td>\n",
              "      <td>357 (79.9)</td>\n",
              "      <td>481 (85.7)</td>\n",
              "      <td>489 (85.0)</td>\n",
              "      <td>467 (85.1)</td>\n",
              "    </tr>\n",
              "    <tr>\n",
              "      <th>1</th>\n",
              "      <td></td>\n",
              "      <td>93 (15.5)</td>\n",
              "      <td>86 (14.7)</td>\n",
              "      <td>71 (17.3)</td>\n",
              "      <td>90 (20.1)</td>\n",
              "      <td>80 (14.3)</td>\n",
              "      <td>86 (15.0)</td>\n",
              "      <td>82 (14.9)</td>\n",
              "    </tr>\n",
              "    <tr>\n",
              "      <th>oasis</th>\n",
              "      <th></th>\n",
              "      <td>0</td>\n",
              "      <td>32.4 (9.1)</td>\n",
              "      <td>31.9 (8.5)</td>\n",
              "      <td>32.2 (8.6)</td>\n",
              "      <td>32.8 (8.7)</td>\n",
              "      <td>31.6 (8.8)</td>\n",
              "      <td>32.0 (8.9)</td>\n",
              "      <td>32.0 (8.7)</td>\n",
              "    </tr>\n",
              "    <tr>\n",
              "      <th>oasis_prob</th>\n",
              "      <th></th>\n",
              "      <td>0</td>\n",
              "      <td>0.2 (0.2)</td>\n",
              "      <td>0.2 (0.1)</td>\n",
              "      <td>0.2 (0.1)</td>\n",
              "      <td>0.2 (0.1)</td>\n",
              "      <td>0.1 (0.1)</td>\n",
              "      <td>0.2 (0.1)</td>\n",
              "      <td>0.2 (0.1)</td>\n",
              "    </tr>\n",
              "    <tr>\n",
              "      <th rowspan=\"5\" valign=\"top\">first_careunit</th>\n",
              "      <th>CCU</th>\n",
              "      <td>0</td>\n",
              "      <td>57 (9.5)</td>\n",
              "      <td>75 (12.8)</td>\n",
              "      <td>25 (6.1)</td>\n",
              "      <td>29 (6.5)</td>\n",
              "      <td>70 (12.5)</td>\n",
              "      <td>67 (11.7)</td>\n",
              "      <td>66 (12.0)</td>\n",
              "    </tr>\n",
              "    <tr>\n",
              "      <th>CSRU</th>\n",
              "      <td></td>\n",
              "      <td>97 (16.2)</td>\n",
              "      <td>89 (15.2)</td>\n",
              "      <td>19 (4.6)</td>\n",
              "      <td>19 (4.3)</td>\n",
              "      <td>76 (13.5)</td>\n",
              "      <td>83 (14.4)</td>\n",
              "      <td>74 (13.5)</td>\n",
              "    </tr>\n",
              "    <tr>\n",
              "      <th>MICU</th>\n",
              "      <td></td>\n",
              "      <td>100 (16.7)</td>\n",
              "      <td>114 (19.4)</td>\n",
              "      <td>83 (20.2)</td>\n",
              "      <td>84 (18.8)</td>\n",
              "      <td>91 (16.2)</td>\n",
              "      <td>103 (17.9)</td>\n",
              "      <td>106 (19.3)</td>\n",
              "    </tr>\n",
              "    <tr>\n",
              "      <th>SICU</th>\n",
              "      <td></td>\n",
              "      <td>253 (42.2)</td>\n",
              "      <td>226 (38.5)</td>\n",
              "      <td>202 (49.1)</td>\n",
              "      <td>247 (55.3)</td>\n",
              "      <td>239 (42.6)</td>\n",
              "      <td>256 (44.5)</td>\n",
              "      <td>216 (39.3)</td>\n",
              "    </tr>\n",
              "    <tr>\n",
              "      <th>TSICU</th>\n",
              "      <td></td>\n",
              "      <td>92 (15.4)</td>\n",
              "      <td>83 (14.1)</td>\n",
              "      <td>82 (20.0)</td>\n",
              "      <td>68 (15.2)</td>\n",
              "      <td>85 (15.2)</td>\n",
              "      <td>66 (11.5)</td>\n",
              "      <td>87 (15.8)</td>\n",
              "    </tr>\n",
              "    <tr>\n",
              "      <th rowspan=\"2\" valign=\"top\">inday_icu_wkd</th>\n",
              "      <th>weekday</th>\n",
              "      <td>0</td>\n",
              "      <td>599 (100.0)</td>\n",
              "      <td>587 (100.0)</td>\n",
              "      <td></td>\n",
              "      <td></td>\n",
              "      <td>561 (100.0)</td>\n",
              "      <td>575 (100.0)</td>\n",
              "      <td>549 (100.0)</td>\n",
              "    </tr>\n",
              "    <tr>\n",
              "      <th>weekend</th>\n",
              "      <td></td>\n",
              "      <td></td>\n",
              "      <td></td>\n",
              "      <td>411 (100.0)</td>\n",
              "      <td>447 (100.0)</td>\n",
              "      <td></td>\n",
              "      <td></td>\n",
              "      <td></td>\n",
              "    </tr>\n",
              "  </tbody>\n",
              "</table>\n",
              "</div>"
            ],
            "text/plain": [
              "                                 Grouped by inday_icu  ...             \n",
              "                                              Missing  ...    Wednesday\n",
              "n                                                      ...          549\n",
              "gender_x               F                            0  ...   254 (46.3)\n",
              "                       M                               ...   295 (53.7)\n",
              "los_hospital                                        0  ...  11.9 (12.8)\n",
              "admission_age                                       0  ...  67.3 (14.0)\n",
              "admission_type_x       ELECTIVE                     0  ...    68 (12.4)\n",
              "                       EMERGENCY                       ...   464 (84.5)\n",
              "                       URGENT                          ...     17 (3.1)\n",
              "hospital_expire_flag_x 0                            0  ...   439 (80.0)\n",
              "                       1                               ...   110 (20.0)\n",
              "los_icu                                             0  ...    5.5 (7.1)\n",
              "icustay_expire_flag    0                            0  ...   467 (85.1)\n",
              "                       1                               ...    82 (14.9)\n",
              "oasis                                               0  ...   32.0 (8.7)\n",
              "oasis_prob                                          0  ...    0.2 (0.1)\n",
              "first_careunit         CCU                          0  ...    66 (12.0)\n",
              "                       CSRU                            ...    74 (13.5)\n",
              "                       MICU                            ...   106 (19.3)\n",
              "                       SICU                            ...   216 (39.3)\n",
              "                       TSICU                           ...    87 (15.8)\n",
              "inday_icu_wkd          weekday                      0  ...  549 (100.0)\n",
              "                       weekend                         ...             \n",
              "\n",
              "[22 rows x 8 columns]"
            ]
          },
          "metadata": {
            "tags": []
          },
          "execution_count": 144
        }
      ]
    },
    {
      "cell_type": "code",
      "metadata": {
        "id": "uEyuaTEIrkIG",
        "colab_type": "code",
        "outputId": "6dc34011-7c33-43eb-9bbe-c8d28480dc91",
        "colab": {
          "base_uri": "https://localhost:8080/",
          "height": 708
        }
      },
      "source": [
        "columns = ['gender_x', 'los_hospital', 'admission_age', 'admission_type_x', 'hospital_expire_flag_x', \n",
        "           'los_icu','icustay_expire_flag', 'oasis', 'oasis_prob', 'first_careunit']\n",
        "\n",
        "groupby = 'inday_icu_wkd'\n",
        "\n",
        "pval = False\n",
        "\n",
        "categorical = ['gender_x','admission_type_x','hospital_expire_flag_x','icustay_expire_flag',\n",
        "               'first_careunit']\n",
        "\n",
        "t = TableOne(data4, columns=columns, categorical=categorical, groupby=groupby, pval=pval)\n",
        "t.tableone"
      ],
      "execution_count": 145,
      "outputs": [
        {
          "output_type": "execute_result",
          "data": {
            "text/html": [
              "<div>\n",
              "<style scoped>\n",
              "    .dataframe tbody tr th:only-of-type {\n",
              "        vertical-align: middle;\n",
              "    }\n",
              "\n",
              "    .dataframe tbody tr th {\n",
              "        vertical-align: top;\n",
              "    }\n",
              "\n",
              "    .dataframe thead tr th {\n",
              "        text-align: left;\n",
              "    }\n",
              "</style>\n",
              "<table border=\"1\" class=\"dataframe\">\n",
              "  <thead>\n",
              "    <tr>\n",
              "      <th></th>\n",
              "      <th></th>\n",
              "      <th colspan=\"3\" halign=\"left\">Grouped by inday_icu_wkd</th>\n",
              "    </tr>\n",
              "    <tr>\n",
              "      <th></th>\n",
              "      <th></th>\n",
              "      <th>Missing</th>\n",
              "      <th>weekday</th>\n",
              "      <th>weekend</th>\n",
              "    </tr>\n",
              "  </thead>\n",
              "  <tbody>\n",
              "    <tr>\n",
              "      <th>n</th>\n",
              "      <th></th>\n",
              "      <td></td>\n",
              "      <td>2871</td>\n",
              "      <td>858</td>\n",
              "    </tr>\n",
              "    <tr>\n",
              "      <th rowspan=\"2\" valign=\"top\">gender_x</th>\n",
              "      <th>F</th>\n",
              "      <td>0</td>\n",
              "      <td>1332 (46.4)</td>\n",
              "      <td>380 (44.3)</td>\n",
              "    </tr>\n",
              "    <tr>\n",
              "      <th>M</th>\n",
              "      <td></td>\n",
              "      <td>1539 (53.6)</td>\n",
              "      <td>478 (55.7)</td>\n",
              "    </tr>\n",
              "    <tr>\n",
              "      <th>los_hospital</th>\n",
              "      <th></th>\n",
              "      <td>0</td>\n",
              "      <td>11.3 (11.6)</td>\n",
              "      <td>11.2 (11.6)</td>\n",
              "    </tr>\n",
              "    <tr>\n",
              "      <th>admission_age</th>\n",
              "      <th></th>\n",
              "      <td>0</td>\n",
              "      <td>67.2 (14.5)</td>\n",
              "      <td>65.4 (15.6)</td>\n",
              "    </tr>\n",
              "    <tr>\n",
              "      <th rowspan=\"3\" valign=\"top\">admission_type_x</th>\n",
              "      <th>ELECTIVE</th>\n",
              "      <td>0</td>\n",
              "      <td>280 (9.8)</td>\n",
              "      <td>11 (1.3)</td>\n",
              "    </tr>\n",
              "    <tr>\n",
              "      <th>EMERGENCY</th>\n",
              "      <td></td>\n",
              "      <td>2534 (88.3)</td>\n",
              "      <td>818 (95.3)</td>\n",
              "    </tr>\n",
              "    <tr>\n",
              "      <th>URGENT</th>\n",
              "      <td></td>\n",
              "      <td>57 (2.0)</td>\n",
              "      <td>29 (3.4)</td>\n",
              "    </tr>\n",
              "    <tr>\n",
              "      <th rowspan=\"2\" valign=\"top\">hospital_expire_flag_x</th>\n",
              "      <th>0</th>\n",
              "      <td>0</td>\n",
              "      <td>2298 (80.0)</td>\n",
              "      <td>630 (73.4)</td>\n",
              "    </tr>\n",
              "    <tr>\n",
              "      <th>1</th>\n",
              "      <td></td>\n",
              "      <td>573 (20.0)</td>\n",
              "      <td>228 (26.6)</td>\n",
              "    </tr>\n",
              "    <tr>\n",
              "      <th>los_icu</th>\n",
              "      <th></th>\n",
              "      <td>0</td>\n",
              "      <td>5.3 (7.1)</td>\n",
              "      <td>5.6 (6.7)</td>\n",
              "    </tr>\n",
              "    <tr>\n",
              "      <th rowspan=\"2\" valign=\"top\">icustay_expire_flag</th>\n",
              "      <th>0</th>\n",
              "      <td>0</td>\n",
              "      <td>2444 (85.1)</td>\n",
              "      <td>697 (81.2)</td>\n",
              "    </tr>\n",
              "    <tr>\n",
              "      <th>1</th>\n",
              "      <td></td>\n",
              "      <td>427 (14.9)</td>\n",
              "      <td>161 (18.8)</td>\n",
              "    </tr>\n",
              "    <tr>\n",
              "      <th>oasis</th>\n",
              "      <th></th>\n",
              "      <td>0</td>\n",
              "      <td>32.0 (8.8)</td>\n",
              "      <td>32.5 (8.7)</td>\n",
              "    </tr>\n",
              "    <tr>\n",
              "      <th>oasis_prob</th>\n",
              "      <th></th>\n",
              "      <td>0</td>\n",
              "      <td>0.2 (0.1)</td>\n",
              "      <td>0.2 (0.1)</td>\n",
              "    </tr>\n",
              "    <tr>\n",
              "      <th rowspan=\"5\" valign=\"top\">first_careunit</th>\n",
              "      <th>CCU</th>\n",
              "      <td>0</td>\n",
              "      <td>335 (11.7)</td>\n",
              "      <td>54 (6.3)</td>\n",
              "    </tr>\n",
              "    <tr>\n",
              "      <th>CSRU</th>\n",
              "      <td></td>\n",
              "      <td>419 (14.6)</td>\n",
              "      <td>38 (4.4)</td>\n",
              "    </tr>\n",
              "    <tr>\n",
              "      <th>MICU</th>\n",
              "      <td></td>\n",
              "      <td>514 (17.9)</td>\n",
              "      <td>167 (19.5)</td>\n",
              "    </tr>\n",
              "    <tr>\n",
              "      <th>SICU</th>\n",
              "      <td></td>\n",
              "      <td>1190 (41.4)</td>\n",
              "      <td>449 (52.3)</td>\n",
              "    </tr>\n",
              "    <tr>\n",
              "      <th>TSICU</th>\n",
              "      <td></td>\n",
              "      <td>413 (14.4)</td>\n",
              "      <td>150 (17.5)</td>\n",
              "    </tr>\n",
              "  </tbody>\n",
              "</table>\n",
              "</div>"
            ],
            "text/plain": [
              "                                 Grouped by inday_icu_wkd  ...             \n",
              "                                                  Missing  ...      weekend\n",
              "n                                                          ...          858\n",
              "gender_x               F                                0  ...   380 (44.3)\n",
              "                       M                                   ...   478 (55.7)\n",
              "los_hospital                                            0  ...  11.2 (11.6)\n",
              "admission_age                                           0  ...  65.4 (15.6)\n",
              "admission_type_x       ELECTIVE                         0  ...     11 (1.3)\n",
              "                       EMERGENCY                           ...   818 (95.3)\n",
              "                       URGENT                              ...     29 (3.4)\n",
              "hospital_expire_flag_x 0                                0  ...   630 (73.4)\n",
              "                       1                                   ...   228 (26.6)\n",
              "los_icu                                                 0  ...    5.6 (6.7)\n",
              "icustay_expire_flag    0                                0  ...   697 (81.2)\n",
              "                       1                                   ...   161 (18.8)\n",
              "oasis                                                   0  ...   32.5 (8.7)\n",
              "oasis_prob                                              0  ...    0.2 (0.1)\n",
              "first_careunit         CCU                              0  ...     54 (6.3)\n",
              "                       CSRU                                ...     38 (4.4)\n",
              "                       MICU                                ...   167 (19.5)\n",
              "                       SICU                                ...   449 (52.3)\n",
              "                       TSICU                               ...   150 (17.5)\n",
              "\n",
              "[20 rows x 3 columns]"
            ]
          },
          "metadata": {
            "tags": []
          },
          "execution_count": 145
        }
      ]
    },
    {
      "cell_type": "markdown",
      "metadata": {
        "id": "1Tq3G7o_s4MA",
        "colab_type": "text"
      },
      "source": [
        "#Plotting the data"
      ]
    },
    {
      "cell_type": "code",
      "metadata": {
        "id": "PgvDz9aUtEHf",
        "colab_type": "code",
        "outputId": "bfcd89cc-885d-4870-ab53-7d3f7f7899a6",
        "colab": {
          "base_uri": "https://localhost:8080/",
          "height": 300
        }
      },
      "source": [
        "# Pivot data to summarise by day\n",
        "dat_dow = data4.groupby(['admission_type_x',\n",
        "                        'inday_icu_seq'])['hospital_expire_flag_x'].mean().reset_index()\n",
        "\n",
        "dat_dow = dat_dow.pivot(index='inday_icu_seq', \n",
        "                        columns='admission_type_x', values='hospital_expire_flag_x')\n",
        "\n",
        "dat_dow"
      ],
      "execution_count": 146,
      "outputs": [
        {
          "output_type": "execute_result",
          "data": {
            "text/html": [
              "<div>\n",
              "<style scoped>\n",
              "    .dataframe tbody tr th:only-of-type {\n",
              "        vertical-align: middle;\n",
              "    }\n",
              "\n",
              "    .dataframe tbody tr th {\n",
              "        vertical-align: top;\n",
              "    }\n",
              "\n",
              "    .dataframe thead th {\n",
              "        text-align: right;\n",
              "    }\n",
              "</style>\n",
              "<table border=\"1\" class=\"dataframe\">\n",
              "  <thead>\n",
              "    <tr style=\"text-align: right;\">\n",
              "      <th>admission_type_x</th>\n",
              "      <th>ELECTIVE</th>\n",
              "      <th>EMERGENCY</th>\n",
              "      <th>URGENT</th>\n",
              "    </tr>\n",
              "    <tr>\n",
              "      <th>inday_icu_seq</th>\n",
              "      <th></th>\n",
              "      <th></th>\n",
              "      <th></th>\n",
              "    </tr>\n",
              "  </thead>\n",
              "  <tbody>\n",
              "    <tr>\n",
              "      <th>0</th>\n",
              "      <td>0.020833</td>\n",
              "      <td>0.204545</td>\n",
              "      <td>0.181818</td>\n",
              "    </tr>\n",
              "    <tr>\n",
              "      <th>1</th>\n",
              "      <td>0.028986</td>\n",
              "      <td>0.220202</td>\n",
              "      <td>0.454545</td>\n",
              "    </tr>\n",
              "    <tr>\n",
              "      <th>2</th>\n",
              "      <td>0.088235</td>\n",
              "      <td>0.217672</td>\n",
              "      <td>0.176471</td>\n",
              "    </tr>\n",
              "    <tr>\n",
              "      <th>3</th>\n",
              "      <td>0.018182</td>\n",
              "      <td>0.212551</td>\n",
              "      <td>0.250000</td>\n",
              "    </tr>\n",
              "    <tr>\n",
              "      <th>4</th>\n",
              "      <td>0.050000</td>\n",
              "      <td>0.226040</td>\n",
              "      <td>0.000000</td>\n",
              "    </tr>\n",
              "    <tr>\n",
              "      <th>5</th>\n",
              "      <td>0.000000</td>\n",
              "      <td>0.263959</td>\n",
              "      <td>0.363636</td>\n",
              "    </tr>\n",
              "    <tr>\n",
              "      <th>6</th>\n",
              "      <td>0.400000</td>\n",
              "      <td>0.268868</td>\n",
              "      <td>0.222222</td>\n",
              "    </tr>\n",
              "  </tbody>\n",
              "</table>\n",
              "</div>"
            ],
            "text/plain": [
              "admission_type_x  ELECTIVE  EMERGENCY    URGENT\n",
              "inday_icu_seq                                  \n",
              "0                 0.020833   0.204545  0.181818\n",
              "1                 0.028986   0.220202  0.454545\n",
              "2                 0.088235   0.217672  0.176471\n",
              "3                 0.018182   0.212551  0.250000\n",
              "4                 0.050000   0.226040  0.000000\n",
              "5                 0.000000   0.263959  0.363636\n",
              "6                 0.400000   0.268868  0.222222"
            ]
          },
          "metadata": {
            "tags": []
          },
          "execution_count": 146
        }
      ]
    },
    {
      "cell_type": "code",
      "metadata": {
        "id": "NaufaHXLtU0_",
        "colab_type": "code",
        "outputId": "4b3df99e-e1b7-4537-840f-0f2f9c5b81bb",
        "colab": {
          "base_uri": "https://localhost:8080/",
          "height": 297
        }
      },
      "source": [
        "# day_map = {0:'Mon', 1:'Tue', 2:'Wed', 3:'Thu', 4:'Fri', 5:'Sat', 6:'Sun'}\n",
        "ax = dat_dow.plot()\n",
        "ax.set_ylabel(\"Hospital mortality rate\")"
      ],
      "execution_count": 147,
      "outputs": [
        {
          "output_type": "execute_result",
          "data": {
            "text/plain": [
              "Text(0, 0.5, 'Hospital mortality rate')"
            ]
          },
          "metadata": {
            "tags": []
          },
          "execution_count": 147
        },
        {
          "output_type": "display_data",
          "data": {
            "image/png": "[encoded data removed]",
            "text/plain": [
              "<Figure size 432x288 with 1 Axes>"
            ]
          },
          "metadata": {
            "tags": []
          }
        }
      ]
    },
    {
      "cell_type": "markdown",
      "metadata": {
        "id": "XcCDUX9CtsQA",
        "colab_type": "text"
      },
      "source": [
        "Elective stroke patients indicate patients who have come from the operation theatre."
      ]
    },
    {
      "cell_type": "code",
      "metadata": {
        "id": "E9k-C9zYtbqu",
        "colab_type": "code",
        "outputId": "22c2390d-93d0-4783-9d1f-a9f0b66aae2b",
        "colab": {
          "base_uri": "https://localhost:8080/",
          "height": 143
        }
      },
      "source": [
        "dat_wkd = data4.groupby(['admission_type_x','inday_icu_wkd'])['hospital_expire_flag_x'].mean().reset_index()\n",
        "dat_wkd = dat_wkd.pivot(index='inday_icu_wkd', columns='admission_type_x', values='hospital_expire_flag_x')\n",
        "dat_wkd.head()"
      ],
      "execution_count": 148,
      "outputs": [
        {
          "output_type": "execute_result",
          "data": {
            "text/html": [
              "<div>\n",
              "<style scoped>\n",
              "    .dataframe tbody tr th:only-of-type {\n",
              "        vertical-align: middle;\n",
              "    }\n",
              "\n",
              "    .dataframe tbody tr th {\n",
              "        vertical-align: top;\n",
              "    }\n",
              "\n",
              "    .dataframe thead th {\n",
              "        text-align: right;\n",
              "    }\n",
              "</style>\n",
              "<table border=\"1\" class=\"dataframe\">\n",
              "  <thead>\n",
              "    <tr style=\"text-align: right;\">\n",
              "      <th>admission_type_x</th>\n",
              "      <th>ELECTIVE</th>\n",
              "      <th>EMERGENCY</th>\n",
              "      <th>URGENT</th>\n",
              "    </tr>\n",
              "    <tr>\n",
              "      <th>inday_icu_wkd</th>\n",
              "      <th></th>\n",
              "      <th></th>\n",
              "      <th></th>\n",
              "    </tr>\n",
              "  </thead>\n",
              "  <tbody>\n",
              "    <tr>\n",
              "      <th>weekday</th>\n",
              "      <td>0.042857</td>\n",
              "      <td>0.216259</td>\n",
              "      <td>0.228070</td>\n",
              "    </tr>\n",
              "    <tr>\n",
              "      <th>weekend</th>\n",
              "      <td>0.181818</td>\n",
              "      <td>0.266504</td>\n",
              "      <td>0.275862</td>\n",
              "    </tr>\n",
              "  </tbody>\n",
              "</table>\n",
              "</div>"
            ],
            "text/plain": [
              "admission_type_x  ELECTIVE  EMERGENCY    URGENT\n",
              "inday_icu_wkd                                  \n",
              "weekday           0.042857   0.216259  0.228070\n",
              "weekend           0.181818   0.266504  0.275862"
            ]
          },
          "metadata": {
            "tags": []
          },
          "execution_count": 148
        }
      ]
    },
    {
      "cell_type": "code",
      "metadata": {
        "id": "f6kCuz6atqUg",
        "colab_type": "code",
        "outputId": "dce30e1e-3ceb-428b-ce0f-f1b3f890cb8f",
        "colab": {
          "base_uri": "https://localhost:8080/",
          "height": 297
        }
      },
      "source": [
        "ax = dat_wkd.plot()\n",
        "ax.set_ylabel(\"Hospital mortality rate\")"
      ],
      "execution_count": 149,
      "outputs": [
        {
          "output_type": "execute_result",
          "data": {
            "text/plain": [
              "Text(0, 0.5, 'Hospital mortality rate')"
            ]
          },
          "metadata": {
            "tags": []
          },
          "execution_count": 149
        },
        {
          "output_type": "display_data",
          "data": {
            "image/png": "[encoded data removed]",
            "text/plain": [
              "<Figure size 432x288 with 1 Axes>"
            ]
          },
          "metadata": {
            "tags": []
          }
        }
      ]
    },
    {
      "cell_type": "markdown",
      "metadata": {
        "id": "WNf9bkXIt3Yj",
        "colab_type": "text"
      },
      "source": [
        "#6-Month Mortality"
      ]
    },
    {
      "cell_type": "markdown",
      "metadata": {
        "id": "sHDY-4_kuB2A",
        "colab_type": "text"
      },
      "source": [
        "Add a column indicating the number of days that the patient survived post-discharge."
      ]
    },
    {
      "cell_type": "markdown",
      "metadata": {
        "id": "gp3wRcU5qcfp",
        "colab_type": "text"
      },
      "source": [
        "##Inclusive of in-hospital mortality"
      ]
    },
    {
      "cell_type": "code",
      "metadata": {
        "id": "SX7fZebmuZXh",
        "colab_type": "code",
        "colab": {}
      },
      "source": [
        "data4['survival_time'] = data4['dod'].sub(data4['dischtime_hospital'], axis=0)"
      ],
      "execution_count": 0,
      "outputs": []
    },
    {
      "cell_type": "code",
      "metadata": {
        "id": "zm0xTKvpudKM",
        "colab_type": "code",
        "colab": {}
      },
      "source": [
        "data4['death_post_discharge_in_days'] = np.where(data4.survival_time.dt.days <= 180, 'short_survival', 'long_survival')"
      ],
      "execution_count": 0,
      "outputs": []
    },
    {
      "cell_type": "code",
      "metadata": {
        "id": "rytCcde-vEDh",
        "colab_type": "code",
        "colab": {}
      },
      "source": [
        "#Turn it into a binary flag\n",
        "d = {'short_survival': 1, 'long_survival': 0}\n",
        "data4['survival_time_flag'] = data4['death_post_discharge_in_days'].map(d)"
      ],
      "execution_count": 0,
      "outputs": []
    },
    {
      "cell_type": "code",
      "metadata": {
        "id": "SsvFVdDNuid8",
        "colab_type": "code",
        "outputId": "4d9ca8f6-e656-4039-e3e1-5b82dcccf4c4",
        "colab": {
          "base_uri": "https://localhost:8080/",
          "height": 394
        }
      },
      "source": [
        "data4.head()"
      ],
      "execution_count": 0,
      "outputs": [
        {
          "output_type": "execute_result",
          "data": {
            "text/html": [
              "<div>\n",
              "<style scoped>\n",
              "    .dataframe tbody tr th:only-of-type {\n",
              "        vertical-align: middle;\n",
              "    }\n",
              "\n",
              "    .dataframe tbody tr th {\n",
              "        vertical-align: top;\n",
              "    }\n",
              "\n",
              "    .dataframe thead th {\n",
              "        text-align: right;\n",
              "    }\n",
              "</style>\n",
              "<table border=\"1\" class=\"dataframe\">\n",
              "  <thead>\n",
              "    <tr style=\"text-align: right;\">\n",
              "      <th></th>\n",
              "      <th>subject_id</th>\n",
              "      <th>hadm_id</th>\n",
              "      <th>icustay_id</th>\n",
              "      <th>gender_x</th>\n",
              "      <th>admittime_hospital</th>\n",
              "      <th>dischtime_hospital</th>\n",
              "      <th>los_hospital</th>\n",
              "      <th>admission_age</th>\n",
              "      <th>admission_type_x</th>\n",
              "      <th>hospital_expire_flag_x</th>\n",
              "      <th>intime_icu</th>\n",
              "      <th>outtime_icu</th>\n",
              "      <th>los_icu</th>\n",
              "      <th>first_careunit</th>\n",
              "      <th>icustay_expire_flag</th>\n",
              "      <th>oasis</th>\n",
              "      <th>oasis_prob</th>\n",
              "      <th>row_id_x</th>\n",
              "      <th>seq_num</th>\n",
              "      <th>icd9_code</th>\n",
              "      <th>row_id_y</th>\n",
              "      <th>gender_y</th>\n",
              "      <th>dob</th>\n",
              "      <th>dod</th>\n",
              "      <th>dod_hosp</th>\n",
              "      <th>dod_ssn</th>\n",
              "      <th>expire_flag</th>\n",
              "      <th>row_id</th>\n",
              "      <th>admittime</th>\n",
              "      <th>dischtime</th>\n",
              "      <th>deathtime</th>\n",
              "      <th>admission_type_y</th>\n",
              "      <th>admission_location</th>\n",
              "      <th>discharge_location</th>\n",
              "      <th>insurance</th>\n",
              "      <th>language</th>\n",
              "      <th>religion</th>\n",
              "      <th>marital_status</th>\n",
              "      <th>ethnicity</th>\n",
              "      <th>edregtime</th>\n",
              "      <th>edouttime</th>\n",
              "      <th>diagnosis</th>\n",
              "      <th>hospital_expire_flag_y</th>\n",
              "      <th>has_chartevents_data</th>\n",
              "      <th>mingcs</th>\n",
              "      <th>gcsmotor</th>\n",
              "      <th>gcsverbal</th>\n",
              "      <th>gcseyes</th>\n",
              "      <th>endotrachflag</th>\n",
              "      <th>admitday_hospital</th>\n",
              "      <th>dischday_hospital</th>\n",
              "      <th>inday_icu</th>\n",
              "      <th>inday_icu_seq</th>\n",
              "      <th>outday_icu</th>\n",
              "      <th>inday_icu_wkd</th>\n",
              "      <th>survival_time</th>\n",
              "      <th>death_post_discharge_in_days</th>\n",
              "      <th>survival_time_flag</th>\n",
              "      <th>home_discharge_bool</th>\n",
              "      <th>adm_type_2</th>\n",
              "      <th>adm_type_2_bool</th>\n",
              "      <th>home_discharge_flag</th>\n",
              "    </tr>\n",
              "  </thead>\n",
              "  <tbody>\n",
              "    <tr>\n",
              "      <th>0</th>\n",
              "      <td>141</td>\n",
              "      <td>168006</td>\n",
              "      <td>234668</td>\n",
              "      <td>M</td>\n",
              "      <td>2140-11-06 11:07:00</td>\n",
              "      <td>2140-11-09 20:36:00</td>\n",
              "      <td>3</td>\n",
              "      <td>80</td>\n",
              "      <td>EMERGENCY</td>\n",
              "      <td>1</td>\n",
              "      <td>2140-11-06 11:09:19</td>\n",
              "      <td>2140-11-09 22:35:29</td>\n",
              "      <td>3.0</td>\n",
              "      <td>MICU</td>\n",
              "      <td>1</td>\n",
              "      <td>53</td>\n",
              "      <td>0.641734</td>\n",
              "      <td>1784.0</td>\n",
              "      <td>2.0</td>\n",
              "      <td>43491</td>\n",
              "      <td>131</td>\n",
              "      <td>M</td>\n",
              "      <td>2060-05-03</td>\n",
              "      <td>2140-11-09</td>\n",
              "      <td>2140-11-09</td>\n",
              "      <td>2140-11-09</td>\n",
              "      <td>1</td>\n",
              "      <td>190</td>\n",
              "      <td>2140-11-06 11:07:00</td>\n",
              "      <td>2140-11-09 20:36:00</td>\n",
              "      <td>2140-11-09 20:36:00</td>\n",
              "      <td>EMERGENCY</td>\n",
              "      <td>EMERGENCY ROOM ADMIT</td>\n",
              "      <td>DEAD/EXPIRED</td>\n",
              "      <td>Medicare</td>\n",
              "      <td>None</td>\n",
              "      <td>OTHER</td>\n",
              "      <td>SINGLE</td>\n",
              "      <td>OTHER</td>\n",
              "      <td>2140-11-06 07:17:00</td>\n",
              "      <td>2140-11-06 12:07:00</td>\n",
              "      <td>DRA, SAH</td>\n",
              "      <td>1</td>\n",
              "      <td>1</td>\n",
              "      <td>14.0</td>\n",
              "      <td>6.0</td>\n",
              "      <td>4.0</td>\n",
              "      <td>4.0</td>\n",
              "      <td>0.0</td>\n",
              "      <td>Sunday</td>\n",
              "      <td>Wednesday</td>\n",
              "      <td>Sunday</td>\n",
              "      <td>6</td>\n",
              "      <td>Wednesday</td>\n",
              "      <td>weekend</td>\n",
              "      <td>-1 days +03:24:00</td>\n",
              "      <td>short_survival</td>\n",
              "      <td>1</td>\n",
              "      <td>False</td>\n",
              "      <td>emergency</td>\n",
              "      <td>1</td>\n",
              "      <td>0</td>\n",
              "    </tr>\n",
              "    <tr>\n",
              "      <th>1</th>\n",
              "      <td>416</td>\n",
              "      <td>148709</td>\n",
              "      <td>226936</td>\n",
              "      <td>F</td>\n",
              "      <td>2132-07-23 14:46:00</td>\n",
              "      <td>2132-08-11 17:19:00</td>\n",
              "      <td>19</td>\n",
              "      <td>56</td>\n",
              "      <td>EMERGENCY</td>\n",
              "      <td>0</td>\n",
              "      <td>2132-07-23 14:47:03</td>\n",
              "      <td>2132-08-08 17:03:29</td>\n",
              "      <td>16.0</td>\n",
              "      <td>MICU</td>\n",
              "      <td>0</td>\n",
              "      <td>55</td>\n",
              "      <td>0.698023</td>\n",
              "      <td>5023.0</td>\n",
              "      <td>1.0</td>\n",
              "      <td>430</td>\n",
              "      <td>392</td>\n",
              "      <td>F</td>\n",
              "      <td>2076-12-12</td>\n",
              "      <td>2136-11-11</td>\n",
              "      <td>NaT</td>\n",
              "      <td>2136-11-11</td>\n",
              "      <td>1</td>\n",
              "      <td>532</td>\n",
              "      <td>2132-07-23 14:46:00</td>\n",
              "      <td>2132-08-11 17:19:00</td>\n",
              "      <td>NaT</td>\n",
              "      <td>EMERGENCY</td>\n",
              "      <td>EMERGENCY ROOM ADMIT</td>\n",
              "      <td>HOME HEALTH CARE</td>\n",
              "      <td>Medicaid</td>\n",
              "      <td>HAIT</td>\n",
              "      <td>UNOBTAINABLE</td>\n",
              "      <td>MARRIED</td>\n",
              "      <td>BLACK/AFRICAN AMERICAN</td>\n",
              "      <td>2132-07-23 09:26:00</td>\n",
              "      <td>2132-07-23 15:08:00</td>\n",
              "      <td>SAH</td>\n",
              "      <td>0</td>\n",
              "      <td>1</td>\n",
              "      <td>13.0</td>\n",
              "      <td>6.0</td>\n",
              "      <td>4.0</td>\n",
              "      <td>3.0</td>\n",
              "      <td>0.0</td>\n",
              "      <td>Wednesday</td>\n",
              "      <td>Monday</td>\n",
              "      <td>Wednesday</td>\n",
              "      <td>2</td>\n",
              "      <td>Friday</td>\n",
              "      <td>weekday</td>\n",
              "      <td>1552 days 06:41:00</td>\n",
              "      <td>long_survival</td>\n",
              "      <td>0</td>\n",
              "      <td>True</td>\n",
              "      <td>emergency</td>\n",
              "      <td>1</td>\n",
              "      <td>1</td>\n",
              "    </tr>\n",
              "    <tr>\n",
              "      <th>2</th>\n",
              "      <td>490</td>\n",
              "      <td>166850</td>\n",
              "      <td>222952</td>\n",
              "      <td>M</td>\n",
              "      <td>2199-12-12 19:04:00</td>\n",
              "      <td>2199-12-13 20:33:00</td>\n",
              "      <td>1</td>\n",
              "      <td>87</td>\n",
              "      <td>EMERGENCY</td>\n",
              "      <td>1</td>\n",
              "      <td>2199-12-12 21:15:58</td>\n",
              "      <td>2199-12-13 20:33:59</td>\n",
              "      <td>1.0</td>\n",
              "      <td>SICU</td>\n",
              "      <td>1</td>\n",
              "      <td>58</td>\n",
              "      <td>0.772134</td>\n",
              "      <td>5788.0</td>\n",
              "      <td>1.0</td>\n",
              "      <td>43491</td>\n",
              "      <td>463</td>\n",
              "      <td>M</td>\n",
              "      <td>2112-11-20</td>\n",
              "      <td>2199-12-13</td>\n",
              "      <td>2199-12-13</td>\n",
              "      <td>2199-12-13</td>\n",
              "      <td>1</td>\n",
              "      <td>615</td>\n",
              "      <td>2199-12-12 19:04:00</td>\n",
              "      <td>2199-12-13 20:33:00</td>\n",
              "      <td>2199-12-13 20:33:00</td>\n",
              "      <td>EMERGENCY</td>\n",
              "      <td>EMERGENCY ROOM ADMIT</td>\n",
              "      <td>DEAD/EXPIRED</td>\n",
              "      <td>Medicare</td>\n",
              "      <td>None</td>\n",
              "      <td>UNOBTAINABLE</td>\n",
              "      <td>MARRIED</td>\n",
              "      <td>WHITE</td>\n",
              "      <td>2199-12-12 17:13:00</td>\n",
              "      <td>2199-12-12 22:06:00</td>\n",
              "      <td>CEREBRAL VASCULAR ACCIDENT</td>\n",
              "      <td>1</td>\n",
              "      <td>1</td>\n",
              "      <td>6.0</td>\n",
              "      <td>4.0</td>\n",
              "      <td>1.0</td>\n",
              "      <td>1.0</td>\n",
              "      <td>0.0</td>\n",
              "      <td>Thursday</td>\n",
              "      <td>Friday</td>\n",
              "      <td>Thursday</td>\n",
              "      <td>3</td>\n",
              "      <td>Friday</td>\n",
              "      <td>weekday</td>\n",
              "      <td>-1 days +03:27:00</td>\n",
              "      <td>short_survival</td>\n",
              "      <td>1</td>\n",
              "      <td>False</td>\n",
              "      <td>emergency</td>\n",
              "      <td>1</td>\n",
              "      <td>0</td>\n",
              "    </tr>\n",
              "    <tr>\n",
              "      <th>3</th>\n",
              "      <td>490</td>\n",
              "      <td>166850</td>\n",
              "      <td>222952</td>\n",
              "      <td>M</td>\n",
              "      <td>2199-12-12 19:04:00</td>\n",
              "      <td>2199-12-13 20:33:00</td>\n",
              "      <td>1</td>\n",
              "      <td>87</td>\n",
              "      <td>EMERGENCY</td>\n",
              "      <td>1</td>\n",
              "      <td>2199-12-12 21:15:58</td>\n",
              "      <td>2199-12-13 20:33:59</td>\n",
              "      <td>1.0</td>\n",
              "      <td>SICU</td>\n",
              "      <td>1</td>\n",
              "      <td>58</td>\n",
              "      <td>0.772134</td>\n",
              "      <td>5789.0</td>\n",
              "      <td>2.0</td>\n",
              "      <td>431</td>\n",
              "      <td>463</td>\n",
              "      <td>M</td>\n",
              "      <td>2112-11-20</td>\n",
              "      <td>2199-12-13</td>\n",
              "      <td>2199-12-13</td>\n",
              "      <td>2199-12-13</td>\n",
              "      <td>1</td>\n",
              "      <td>615</td>\n",
              "      <td>2199-12-12 19:04:00</td>\n",
              "      <td>2199-12-13 20:33:00</td>\n",
              "      <td>2199-12-13 20:33:00</td>\n",
              "      <td>EMERGENCY</td>\n",
              "      <td>EMERGENCY ROOM ADMIT</td>\n",
              "      <td>DEAD/EXPIRED</td>\n",
              "      <td>Medicare</td>\n",
              "      <td>None</td>\n",
              "      <td>UNOBTAINABLE</td>\n",
              "      <td>MARRIED</td>\n",
              "      <td>WHITE</td>\n",
              "      <td>2199-12-12 17:13:00</td>\n",
              "      <td>2199-12-12 22:06:00</td>\n",
              "      <td>CEREBRAL VASCULAR ACCIDENT</td>\n",
              "      <td>1</td>\n",
              "      <td>1</td>\n",
              "      <td>6.0</td>\n",
              "      <td>4.0</td>\n",
              "      <td>1.0</td>\n",
              "      <td>1.0</td>\n",
              "      <td>0.0</td>\n",
              "      <td>Thursday</td>\n",
              "      <td>Friday</td>\n",
              "      <td>Thursday</td>\n",
              "      <td>3</td>\n",
              "      <td>Friday</td>\n",
              "      <td>weekday</td>\n",
              "      <td>-1 days +03:27:00</td>\n",
              "      <td>short_survival</td>\n",
              "      <td>1</td>\n",
              "      <td>False</td>\n",
              "      <td>emergency</td>\n",
              "      <td>1</td>\n",
              "      <td>0</td>\n",
              "    </tr>\n",
              "    <tr>\n",
              "      <th>4</th>\n",
              "      <td>831</td>\n",
              "      <td>185983</td>\n",
              "      <td>223445</td>\n",
              "      <td>F</td>\n",
              "      <td>2151-06-30 09:44:00</td>\n",
              "      <td>2151-07-15 13:50:00</td>\n",
              "      <td>15</td>\n",
              "      <td>84</td>\n",
              "      <td>EMERGENCY</td>\n",
              "      <td>0</td>\n",
              "      <td>2151-06-30 09:44:47</td>\n",
              "      <td>2151-07-03 18:15:14</td>\n",
              "      <td>3.0</td>\n",
              "      <td>SICU</td>\n",
              "      <td>0</td>\n",
              "      <td>51</td>\n",
              "      <td>0.581248</td>\n",
              "      <td>9671.0</td>\n",
              "      <td>1.0</td>\n",
              "      <td>431</td>\n",
              "      <td>784</td>\n",
              "      <td>F</td>\n",
              "      <td>2067-05-06</td>\n",
              "      <td>2151-09-10</td>\n",
              "      <td>NaT</td>\n",
              "      <td>2151-09-10</td>\n",
              "      <td>1</td>\n",
              "      <td>1031</td>\n",
              "      <td>2151-06-30 09:44:00</td>\n",
              "      <td>2151-07-15 13:50:00</td>\n",
              "      <td>None</td>\n",
              "      <td>EMERGENCY</td>\n",
              "      <td>EMERGENCY ROOM ADMIT</td>\n",
              "      <td>REHAB/DISTINCT PART HOSP</td>\n",
              "      <td>Medicare</td>\n",
              "      <td>None</td>\n",
              "      <td>JEWISH</td>\n",
              "      <td>WIDOWED</td>\n",
              "      <td>WHITE</td>\n",
              "      <td>2151-06-30 08:22:00</td>\n",
              "      <td>2151-06-30 11:10:00</td>\n",
              "      <td>STROKE/TIA</td>\n",
              "      <td>0</td>\n",
              "      <td>1</td>\n",
              "      <td>7.0</td>\n",
              "      <td>4.0</td>\n",
              "      <td>1.0</td>\n",
              "      <td>2.0</td>\n",
              "      <td>0.0</td>\n",
              "      <td>Wednesday</td>\n",
              "      <td>Thursday</td>\n",
              "      <td>Wednesday</td>\n",
              "      <td>2</td>\n",
              "      <td>Saturday</td>\n",
              "      <td>weekday</td>\n",
              "      <td>56 days 10:10:00</td>\n",
              "      <td>short_survival</td>\n",
              "      <td>1</td>\n",
              "      <td>False</td>\n",
              "      <td>emergency</td>\n",
              "      <td>1</td>\n",
              "      <td>0</td>\n",
              "    </tr>\n",
              "  </tbody>\n",
              "</table>\n",
              "</div>"
            ],
            "text/plain": [
              "   subject_id  hadm_id  ...  adm_type_2_bool home_discharge_flag\n",
              "0         141   168006  ...                1                   0\n",
              "1         416   148709  ...                1                   1\n",
              "2         490   166850  ...                1                   0\n",
              "3         490   166850  ...                1                   0\n",
              "4         831   185983  ...                1                   0\n",
              "\n",
              "[5 rows x 62 columns]"
            ]
          },
          "metadata": {
            "tags": []
          },
          "execution_count": 45
        }
      ]
    },
    {
      "cell_type": "code",
      "metadata": {
        "id": "JTJg3VIVyzB9",
        "colab_type": "code",
        "outputId": "751888ed-bce9-4161-c87b-5028a238401b",
        "colab": {
          "base_uri": "https://localhost:8080/",
          "height": 34
        }
      },
      "source": [
        "#Patients surviving over the short term (weekday ICU admission)\n",
        "df_filtered = data4[(data4.inday_icu_wkd == 'weekday') & (data4.death_post_discharge_in_days == 'short_survival')]\n",
        "df_filtered.shape[0]"
      ],
      "execution_count": 151,
      "outputs": [
        {
          "output_type": "execute_result",
          "data": {
            "text/plain": [
              "865"
            ]
          },
          "metadata": {
            "tags": []
          },
          "execution_count": 151
        }
      ]
    },
    {
      "cell_type": "code",
      "metadata": {
        "id": "sLYFsWVJy3X9",
        "colab_type": "code",
        "outputId": "3d9f2e42-3fe3-46bd-9b42-60b8ac88b003",
        "colab": {
          "base_uri": "https://localhost:8080/",
          "height": 34
        }
      },
      "source": [
        "#Patients surviving over the short term (weekend ICU admission)\n",
        "df_filtered = data4[(data4.inday_icu_wkd == 'weekend') & (data4.death_post_discharge_in_days == 'short_survival')]\n",
        "df_filtered.shape[0]"
      ],
      "execution_count": 152,
      "outputs": [
        {
          "output_type": "execute_result",
          "data": {
            "text/plain": [
              "318"
            ]
          },
          "metadata": {
            "tags": []
          },
          "execution_count": 152
        }
      ]
    },
    {
      "cell_type": "code",
      "metadata": {
        "id": "RdoaoctYy-WN",
        "colab_type": "code",
        "outputId": "48cde0dc-37b6-42fc-98e5-2ccb636543ca",
        "colab": {
          "base_uri": "https://localhost:8080/",
          "height": 34
        }
      },
      "source": [
        "#Patients surviving over the long term (weekday ICU admission)\n",
        "df_filtered = data4[(data4.inday_icu_wkd == 'weekday') & (data4.death_post_discharge_in_days == 'long_survival')]\n",
        "df_filtered.shape[0]"
      ],
      "execution_count": 153,
      "outputs": [
        {
          "output_type": "execute_result",
          "data": {
            "text/plain": [
              "2006"
            ]
          },
          "metadata": {
            "tags": []
          },
          "execution_count": 153
        }
      ]
    },
    {
      "cell_type": "code",
      "metadata": {
        "id": "HOZrrdT0zEv-",
        "colab_type": "code",
        "outputId": "b2269e79-eb71-456d-b46a-cfc20cff2aef",
        "colab": {
          "base_uri": "https://localhost:8080/",
          "height": 34
        }
      },
      "source": [
        "#Patients surviving over the long term (weekend ICU admission)\n",
        "df_filtered = data4[(data4.inday_icu_wkd == 'weekend') & (data4.death_post_discharge_in_days == 'long_survival')]\n",
        "df_filtered.shape[0]"
      ],
      "execution_count": 154,
      "outputs": [
        {
          "output_type": "execute_result",
          "data": {
            "text/plain": [
              "540"
            ]
          },
          "metadata": {
            "tags": []
          },
          "execution_count": 154
        }
      ]
    },
    {
      "cell_type": "markdown",
      "metadata": {
        "id": "IFfxiv3crI-4",
        "colab_type": "text"
      },
      "source": [
        "## Creation of DF of Survivors\n",
        "These are patients who were discharged alive."
      ]
    },
    {
      "cell_type": "code",
      "metadata": {
        "id": "YEdGGHcEz22S",
        "colab_type": "code",
        "colab": {
          "base_uri": "https://localhost:8080/",
          "height": 278
        },
        "outputId": "860d9853-0937-4e6c-86f3-e91833878b9c"
      },
      "source": [
        "#Check the type of discharge\n",
        "data4['discharge_location'].value_counts(dropna=False)"
      ],
      "execution_count": 155,
      "outputs": [
        {
          "output_type": "execute_result",
          "data": {
            "text/plain": [
              "REHAB/DISTINCT PART HOSP     1031\n",
              "DEAD/EXPIRED                  801\n",
              "HOME                          662\n",
              "HOME HEALTH CARE              508\n",
              "SNF                           384\n",
              "LONG TERM CARE HOSPITAL       194\n",
              "SHORT TERM HOSPITAL            60\n",
              "DISC-TRAN CANCER/CHLDRN H      35\n",
              "HOSPICE-MEDICAL FACILITY       25\n",
              "HOSPICE-HOME                   17\n",
              "LEFT AGAINST MEDICAL ADVI       6\n",
              "DISCH-TRAN TO PSYCH HOSP        4\n",
              "HOME WITH HOME IV PROVIDR       1\n",
              "OTHER FACILITY                  1\n",
              "Name: discharge_location, dtype: int64"
            ]
          },
          "metadata": {
            "tags": []
          },
          "execution_count": 155
        }
      ]
    },
    {
      "cell_type": "code",
      "metadata": {
        "id": "3JlgkMIoFPW6",
        "colab_type": "code",
        "outputId": "46a26a18-c0b8-4e14-e116-6ab5bd515b5a",
        "colab": {
          "base_uri": "https://localhost:8080/",
          "height": 434
        }
      },
      "source": [
        "#Create DF of only those who survived\n",
        "df_survived = data4.where(data4.discharge_location.str.contains('DEAD') == False)\n",
        "df_survived.discharge_location, data4.discharge_location"
      ],
      "execution_count": 156,
      "outputs": [
        {
          "output_type": "execute_result",
          "data": {
            "text/plain": [
              "(0                            NaN\n",
              " 1               HOME HEALTH CARE\n",
              " 2                            NaN\n",
              " 4       REHAB/DISTINCT PART HOSP\n",
              " 5                            NaN\n",
              "                   ...           \n",
              " 4316            HOME HEALTH CARE\n",
              " 4318                         NaN\n",
              " 4319                         NaN\n",
              " 4320                HOSPICE-HOME\n",
              " 4321                         NaN\n",
              " Name: discharge_location, Length: 3729, dtype: object,\n",
              " 0                   DEAD/EXPIRED\n",
              " 1               HOME HEALTH CARE\n",
              " 2                   DEAD/EXPIRED\n",
              " 4       REHAB/DISTINCT PART HOSP\n",
              " 5                   DEAD/EXPIRED\n",
              "                   ...           \n",
              " 4316            HOME HEALTH CARE\n",
              " 4318                DEAD/EXPIRED\n",
              " 4319                DEAD/EXPIRED\n",
              " 4320                HOSPICE-HOME\n",
              " 4321                DEAD/EXPIRED\n",
              " Name: discharge_location, Length: 3729, dtype: object)"
            ]
          },
          "metadata": {
            "tags": []
          },
          "execution_count": 156
        }
      ]
    },
    {
      "cell_type": "code",
      "metadata": {
        "id": "ODmoRxhWJKEs",
        "colab_type": "code",
        "outputId": "6e9fcbb7-cd07-4eb0-b261-ac6109ecfd95",
        "colab": {
          "base_uri": "https://localhost:8080/",
          "height": 34
        }
      },
      "source": [
        "#Drop the Null values of discharge_location in survivors DF\n",
        "df_survived = df_survived.dropna(subset=['discharge_location'])\n",
        "data4.shape, df_survived.shape"
      ],
      "execution_count": 157,
      "outputs": [
        {
          "output_type": "execute_result",
          "data": {
            "text/plain": [
              "((3729, 62), (2928, 62))"
            ]
          },
          "metadata": {
            "tags": []
          },
          "execution_count": 157
        }
      ]
    },
    {
      "cell_type": "markdown",
      "metadata": {
        "id": "EdpJ9hWBKJhc",
        "colab_type": "text"
      },
      "source": [
        "The 801 patients (3,720 - 2,928) who were identified as 'DEAD/EXPIRED' have been dropped from the DF. This produces a cohort of 2,928 entries of patients who survived being admitted into the ICU and were discharged."
      ]
    },
    {
      "cell_type": "code",
      "metadata": {
        "id": "RmVMwOQiu1Sw",
        "colab_type": "code",
        "outputId": "db4a6a5c-8724-477a-aa48-78f9c5613857",
        "colab": {
          "base_uri": "https://localhost:8080/",
          "height": 206
        }
      },
      "source": [
        "#Verify resulting DF\n",
        "df_survived[['dischtime', 'dod','survival_time', 'death_post_discharge_in_days', 'survival_time_flag', 'discharge_location', 'home_discharge_bool', 'inday_icu_wkd']].head()"
      ],
      "execution_count": 159,
      "outputs": [
        {
          "output_type": "execute_result",
          "data": {
            "text/html": [
              "<div>\n",
              "<style scoped>\n",
              "    .dataframe tbody tr th:only-of-type {\n",
              "        vertical-align: middle;\n",
              "    }\n",
              "\n",
              "    .dataframe tbody tr th {\n",
              "        vertical-align: top;\n",
              "    }\n",
              "\n",
              "    .dataframe thead th {\n",
              "        text-align: right;\n",
              "    }\n",
              "</style>\n",
              "<table border=\"1\" class=\"dataframe\">\n",
              "  <thead>\n",
              "    <tr style=\"text-align: right;\">\n",
              "      <th></th>\n",
              "      <th>dischtime</th>\n",
              "      <th>dod</th>\n",
              "      <th>survival_time</th>\n",
              "      <th>death_post_discharge_in_days</th>\n",
              "      <th>survival_time_flag</th>\n",
              "      <th>discharge_location</th>\n",
              "      <th>home_discharge_bool</th>\n",
              "      <th>inday_icu_wkd</th>\n",
              "    </tr>\n",
              "  </thead>\n",
              "  <tbody>\n",
              "    <tr>\n",
              "      <th>1</th>\n",
              "      <td>2132-08-11 17:19:00</td>\n",
              "      <td>2136-11-11</td>\n",
              "      <td>1552 days 06:41:00</td>\n",
              "      <td>long_survival</td>\n",
              "      <td>0.0</td>\n",
              "      <td>HOME HEALTH CARE</td>\n",
              "      <td>1.0</td>\n",
              "      <td>weekday</td>\n",
              "    </tr>\n",
              "    <tr>\n",
              "      <th>4</th>\n",
              "      <td>2151-07-15 13:50:00</td>\n",
              "      <td>2151-09-10</td>\n",
              "      <td>56 days 10:10:00</td>\n",
              "      <td>short_survival</td>\n",
              "      <td>1.0</td>\n",
              "      <td>REHAB/DISTINCT PART HOSP</td>\n",
              "      <td>0.0</td>\n",
              "      <td>weekday</td>\n",
              "    </tr>\n",
              "    <tr>\n",
              "      <th>6</th>\n",
              "      <td>2138-03-06 14:00:00</td>\n",
              "      <td>NaT</td>\n",
              "      <td>NaT</td>\n",
              "      <td>long_survival</td>\n",
              "      <td>0.0</td>\n",
              "      <td>HOME</td>\n",
              "      <td>1.0</td>\n",
              "      <td>weekday</td>\n",
              "    </tr>\n",
              "    <tr>\n",
              "      <th>9</th>\n",
              "      <td>2191-05-12 15:00:00</td>\n",
              "      <td>2191-05-13</td>\n",
              "      <td>0 days 09:00:00</td>\n",
              "      <td>short_survival</td>\n",
              "      <td>1.0</td>\n",
              "      <td>SNF</td>\n",
              "      <td>0.0</td>\n",
              "      <td>weekday</td>\n",
              "    </tr>\n",
              "    <tr>\n",
              "      <th>11</th>\n",
              "      <td>2150-11-30 18:14:00</td>\n",
              "      <td>NaT</td>\n",
              "      <td>NaT</td>\n",
              "      <td>long_survival</td>\n",
              "      <td>0.0</td>\n",
              "      <td>HOME</td>\n",
              "      <td>1.0</td>\n",
              "      <td>weekday</td>\n",
              "    </tr>\n",
              "  </tbody>\n",
              "</table>\n",
              "</div>"
            ],
            "text/plain": [
              "             dischtime        dod  ... home_discharge_bool inday_icu_wkd\n",
              "1  2132-08-11 17:19:00 2136-11-11  ...                 1.0       weekday\n",
              "4  2151-07-15 13:50:00 2151-09-10  ...                 0.0       weekday\n",
              "6  2138-03-06 14:00:00        NaT  ...                 1.0       weekday\n",
              "9  2191-05-12 15:00:00 2191-05-13  ...                 0.0       weekday\n",
              "11 2150-11-30 18:14:00        NaT  ...                 1.0       weekday\n",
              "\n",
              "[5 rows x 8 columns]"
            ]
          },
          "metadata": {
            "tags": []
          },
          "execution_count": 159
        }
      ]
    },
    {
      "cell_type": "markdown",
      "metadata": {
        "id": "7z2EAqhQqj4u",
        "colab_type": "text"
      },
      "source": [
        "##Exclusive of in-hospital mortality"
      ]
    },
    {
      "cell_type": "code",
      "metadata": {
        "id": "r9DeorxUqmnX",
        "colab_type": "code",
        "outputId": "b14a7def-4849-4004-d958-4247b699f690",
        "colab": {
          "base_uri": "https://localhost:8080/",
          "height": 34
        }
      },
      "source": [
        "#Patients surviving over the short term (weekday ICU admission)\n",
        "df_filtered = df_survived[(df_survived.inday_icu_wkd == 'weekday') & (df_survived.death_post_discharge_in_days == 'short_survival')]\n",
        "df_filtered.shape[0]"
      ],
      "execution_count": 160,
      "outputs": [
        {
          "output_type": "execute_result",
          "data": {
            "text/plain": [
              "292"
            ]
          },
          "metadata": {
            "tags": []
          },
          "execution_count": 160
        }
      ]
    },
    {
      "cell_type": "code",
      "metadata": {
        "id": "ilAOpPWhyIK-",
        "colab_type": "code",
        "outputId": "e6c58563-d3c7-4075-c18c-a9d39f6ed06c",
        "colab": {
          "base_uri": "https://localhost:8080/",
          "height": 34
        }
      },
      "source": [
        "#Patients surviving over the short term (weekend ICU admission)\n",
        "df_filtered = df_survived[(df_survived.inday_icu_wkd == 'weekend') & (df_survived.death_post_discharge_in_days == 'short_survival')]\n",
        "df_filtered.shape[0]"
      ],
      "execution_count": 161,
      "outputs": [
        {
          "output_type": "execute_result",
          "data": {
            "text/plain": [
              "90"
            ]
          },
          "metadata": {
            "tags": []
          },
          "execution_count": 161
        }
      ]
    },
    {
      "cell_type": "code",
      "metadata": {
        "id": "l4yr8JDQyMvL",
        "colab_type": "code",
        "outputId": "51773dbb-a4ec-4885-9230-ae581f20b33b",
        "colab": {
          "base_uri": "https://localhost:8080/",
          "height": 34
        }
      },
      "source": [
        "#Patients surviving over the long term (weekday ICU admission)\n",
        "df_filtered = df_survived[(df_survived.inday_icu_wkd == 'weekday') & (df_survived.death_post_discharge_in_days == 'long_survival')]\n",
        "df_filtered.shape[0]"
      ],
      "execution_count": 162,
      "outputs": [
        {
          "output_type": "execute_result",
          "data": {
            "text/plain": [
              "2006"
            ]
          },
          "metadata": {
            "tags": []
          },
          "execution_count": 162
        }
      ]
    },
    {
      "cell_type": "code",
      "metadata": {
        "id": "90GPf8wfychr",
        "colab_type": "code",
        "outputId": "c3cf55ea-0c28-4c67-a0a0-5a8af3bb4e8d",
        "colab": {
          "base_uri": "https://localhost:8080/",
          "height": 34
        }
      },
      "source": [
        "#Patients surviving over the long term (weekend ICU admission)\n",
        "df_filtered = df_survived[(df_survived.inday_icu_wkd == 'weekend') & (df_survived.death_post_discharge_in_days == 'long_survival')]\n",
        "df_filtered.shape[0]"
      ],
      "execution_count": 163,
      "outputs": [
        {
          "output_type": "execute_result",
          "data": {
            "text/plain": [
              "540"
            ]
          },
          "metadata": {
            "tags": []
          },
          "execution_count": 163
        }
      ]
    },
    {
      "cell_type": "markdown",
      "metadata": {
        "id": "4kwqasfmvkwE",
        "colab_type": "text"
      },
      "source": [
        "#Adding Ethnicity, Marital Status and Insurance Status"
      ]
    },
    {
      "cell_type": "markdown",
      "metadata": {
        "id": "avmp0hpPvpGY",
        "colab_type": "text"
      },
      "source": [
        "##Ethnicity"
      ]
    },
    {
      "cell_type": "code",
      "metadata": {
        "id": "HHyB3aQ40gm_",
        "colab_type": "code",
        "colab": {
          "base_uri": "https://localhost:8080/",
          "height": 625
        },
        "outputId": "e6be9a45-7b3b-4f60-c844-2c5d496af73b"
      },
      "source": [
        "data4['ethnicity'].value_counts(dropna=False)"
      ],
      "execution_count": 164,
      "outputs": [
        {
          "output_type": "execute_result",
          "data": {
            "text/plain": [
              "WHITE                                        2705\n",
              "UNKNOWN/NOT SPECIFIED                         310\n",
              "BLACK/AFRICAN AMERICAN                        241\n",
              "HISPANIC OR LATINO                            100\n",
              "OTHER                                          99\n",
              "UNABLE TO OBTAIN                               70\n",
              "ASIAN                                          67\n",
              "PATIENT DECLINED TO ANSWER                     23\n",
              "HISPANIC/LATINO - PUERTO RICAN                 14\n",
              "HISPANIC/LATINO - DOMINICAN                    13\n",
              "ASIAN - CHINESE                                12\n",
              "BLACK/CAPE VERDEAN                              8\n",
              "MULTI RACE ETHNICITY                            8\n",
              "WHITE - RUSSIAN                                 7\n",
              "WHITE - BRAZILIAN                               6\n",
              "BLACK/HAITIAN                                   6\n",
              "WHITE - OTHER EUROPEAN                          5\n",
              "PORTUGUESE                                      5\n",
              "ASIAN - ASIAN INDIAN                            4\n",
              "MIDDLE EASTERN                                  3\n",
              "HISPANIC/LATINO - CUBAN                         2\n",
              "AMERICAN INDIAN/ALASKA NATIVE                   2\n",
              "HISPANIC/LATINO - COLOMBIAN                     2\n",
              "ASIAN - CAMBODIAN                               2\n",
              "BLACK/AFRICAN                                   2\n",
              "ASIAN - FILIPINO                                2\n",
              "ASIAN - VIETNAMESE                              2\n",
              "ASIAN - OTHER                                   2\n",
              "HISPANIC/LATINO - GUATEMALAN                    2\n",
              "WHITE - EASTERN EUROPEAN                        1\n",
              "ASIAN - JAPANESE                                1\n",
              "NATIVE HAWAIIAN OR OTHER PACIFIC ISLANDER       1\n",
              "ASIAN - KOREAN                                  1\n",
              "HISPANIC/LATINO - SALVADORAN                    1\n",
              "Name: ethnicity, dtype: int64"
            ]
          },
          "metadata": {
            "tags": []
          },
          "execution_count": 164
        }
      ]
    },
    {
      "cell_type": "markdown",
      "metadata": {
        "id": "9phwJGPgvynp",
        "colab_type": "text"
      },
      "source": [
        "Ethnicity will be categorised into BLACK, WHITE, OTHER and UNKNOWN. Run the code in the following box using the appropriate terminology."
      ]
    },
    {
      "cell_type": "code",
      "metadata": {
        "id": "WswTH7B-0pf1",
        "colab_type": "code",
        "colab": {
          "base_uri": "https://localhost:8080/",
          "height": 34
        },
        "outputId": "b8545703-0f8a-44ce-f7ad-a63c8722caf7"
      },
      "source": [
        "#Calculating number of patients categorised as 'black' and admitted in the weekday\n",
        "df_filtered = data4[(data4.inday_icu_wkd == 'weekday') & (data4.ethnicity.str.contains('^BLACK'))]\n",
        "df_filtered.shape[0]"
      ],
      "execution_count": 165,
      "outputs": [
        {
          "output_type": "execute_result",
          "data": {
            "text/plain": [
              "196"
            ]
          },
          "metadata": {
            "tags": []
          },
          "execution_count": 165
        }
      ]
    },
    {
      "cell_type": "code",
      "metadata": {
        "id": "JIrgEeLWv9Zo",
        "colab_type": "code",
        "outputId": "0fbfb199-6ac7-4e57-b687-11ec06689065",
        "colab": {
          "base_uri": "https://localhost:8080/",
          "height": 34
        }
      },
      "source": [
        "#Here, calculating number of patients categorised as 'black' and admitted in the weekend\n",
        "df_filtered = data4[(data4.inday_icu_wkd == 'weekend') & (data4.ethnicity.str.contains('^BLACK'))]\n",
        "df_filtered.shape[0]"
      ],
      "execution_count": 0,
      "outputs": [
        {
          "output_type": "execute_result",
          "data": {
            "text/plain": [
              "65"
            ]
          },
          "metadata": {
            "tags": []
          },
          "execution_count": 84
        }
      ]
    },
    {
      "cell_type": "code",
      "metadata": {
        "id": "vd93bm6S0tyU",
        "colab_type": "code",
        "colab": {
          "base_uri": "https://localhost:8080/",
          "height": 34
        },
        "outputId": "3be6b73d-0fbd-4533-8620-2d18e9335187"
      },
      "source": [
        "#Investigate stats\n",
        "#Here, calculating number of patients categorised as 'white' and admitted in the weekday\n",
        "df_filtered = data4[(data4.inday_icu_wkd == 'weekday') & (data4.ethnicity =='WHITE')]\n",
        "df_filtered.shape[0]"
      ],
      "execution_count": 168,
      "outputs": [
        {
          "output_type": "execute_result",
          "data": {
            "text/plain": [
              "2094"
            ]
          },
          "metadata": {
            "tags": []
          },
          "execution_count": 168
        }
      ]
    },
    {
      "cell_type": "code",
      "metadata": {
        "id": "r3Jlf7sP0_uF",
        "colab_type": "code",
        "colab": {
          "base_uri": "https://localhost:8080/",
          "height": 34
        },
        "outputId": "6c6a592d-6fe4-42be-a23b-697c60445992"
      },
      "source": [
        "#Investigate stats\n",
        "#Here, calculating number of patients categorised as 'white' and admitted in the weekend\n",
        "df_filtered = data4[(data4.inday_icu_wkd == 'weekend') & (data4.ethnicity =='WHITE')]\n",
        "df_filtered.shape[0]"
      ],
      "execution_count": 169,
      "outputs": [
        {
          "output_type": "execute_result",
          "data": {
            "text/plain": [
              "611"
            ]
          },
          "metadata": {
            "tags": []
          },
          "execution_count": 169
        }
      ]
    },
    {
      "cell_type": "code",
      "metadata": {
        "id": "S95DNFZS1Cd8",
        "colab_type": "code",
        "colab": {
          "base_uri": "https://localhost:8080/",
          "height": 34
        },
        "outputId": "bfc3b464-86cb-4eeb-87b3-94868bfb6d50"
      },
      "source": [
        "#Calculating number of patients categorised as 'unknown' and admitted in the weekday\n",
        "df_filtered = data4[(data4.inday_icu_wkd == 'weekday') & (data4.ethnicity.str.contains('^UNKNOWN'))]\n",
        "df_filtered.shape[0]"
      ],
      "execution_count": 170,
      "outputs": [
        {
          "output_type": "execute_result",
          "data": {
            "text/plain": [
              "234"
            ]
          },
          "metadata": {
            "tags": []
          },
          "execution_count": 170
        }
      ]
    },
    {
      "cell_type": "code",
      "metadata": {
        "id": "QqlEYwF-1Nim",
        "colab_type": "code",
        "colab": {
          "base_uri": "https://localhost:8080/",
          "height": 34
        },
        "outputId": "3624d5e3-93e1-45f5-88af-1e19c64923c6"
      },
      "source": [
        "#Calculating number of patients categorised as 'unknown' and admitted in the weekend\n",
        "df_filtered = data4[(data4.inday_icu_wkd == 'weekend') & (data4.ethnicity.str.contains('^UNKNOWN'))]\n",
        "df_filtered.shape[0]"
      ],
      "execution_count": 171,
      "outputs": [
        {
          "output_type": "execute_result",
          "data": {
            "text/plain": [
              "76"
            ]
          },
          "metadata": {
            "tags": []
          },
          "execution_count": 171
        }
      ]
    },
    {
      "cell_type": "code",
      "metadata": {
        "id": "tk_sCAY11QYp",
        "colab_type": "code",
        "colab": {
          "base_uri": "https://localhost:8080/",
          "height": 69
        },
        "outputId": "87d293b6-348c-4262-c829-1c5967b054d6"
      },
      "source": [
        "#Check total number of admissions into the ICU in weekdays vs weekends\n",
        "data4['inday_icu_wkd'].value_counts(dropna=False)"
      ],
      "execution_count": 172,
      "outputs": [
        {
          "output_type": "execute_result",
          "data": {
            "text/plain": [
              "weekday    2871\n",
              "weekend     858\n",
              "Name: inday_icu_wkd, dtype: int64"
            ]
          },
          "metadata": {
            "tags": []
          },
          "execution_count": 172
        }
      ]
    },
    {
      "cell_type": "code",
      "metadata": {
        "id": "PvDG10aK183n",
        "colab_type": "code",
        "colab": {
          "base_uri": "https://localhost:8080/",
          "height": 34
        },
        "outputId": "30311344-5634-4b3a-dfee-bc12b90eb14c"
      },
      "source": [
        "#Other ethnicities who were admitted in the weekday\n",
        "2871 - 196 - 2094 - 234"
      ],
      "execution_count": 173,
      "outputs": [
        {
          "output_type": "execute_result",
          "data": {
            "text/plain": [
              "347"
            ]
          },
          "metadata": {
            "tags": []
          },
          "execution_count": 173
        }
      ]
    },
    {
      "cell_type": "code",
      "metadata": {
        "id": "0lVb3JLA2FpI",
        "colab_type": "code",
        "colab": {
          "base_uri": "https://localhost:8080/",
          "height": 34
        },
        "outputId": "0edf6316-d3e3-4742-ebc4-3f1f6f49502b"
      },
      "source": [
        "#Other ethnicities who were admitted in the weekday\n",
        "858 - 65 - 611 - 76"
      ],
      "execution_count": 175,
      "outputs": [
        {
          "output_type": "execute_result",
          "data": {
            "text/plain": [
              "106"
            ]
          },
          "metadata": {
            "tags": []
          },
          "execution_count": 175
        }
      ]
    },
    {
      "cell_type": "markdown",
      "metadata": {
        "id": "cs7uo-5jwZRo",
        "colab_type": "text"
      },
      "source": [
        "##Marital Status"
      ]
    },
    {
      "cell_type": "code",
      "metadata": {
        "id": "Sa40-P02w7y_",
        "colab_type": "code",
        "outputId": "114a4c4b-32ec-498c-d6ff-740f8b19c9c9",
        "colab": {
          "base_uri": "https://localhost:8080/",
          "height": 173
        }
      },
      "source": [
        "data4['marital_status'].value_counts(dropna=False)"
      ],
      "execution_count": 177,
      "outputs": [
        {
          "output_type": "execute_result",
          "data": {
            "text/plain": [
              "MARRIED              1944\n",
              "SINGLE                728\n",
              "WIDOWED               502\n",
              "NaN                   288\n",
              "DIVORCED              207\n",
              "UNKNOWN (DEFAULT)      35\n",
              "SEPARATED              24\n",
              "LIFE PARTNER            1\n",
              "Name: marital_status, dtype: int64"
            ]
          },
          "metadata": {
            "tags": []
          },
          "execution_count": 177
        }
      ]
    },
    {
      "cell_type": "code",
      "metadata": {
        "id": "BTt3i2tDw-_Q",
        "colab_type": "code",
        "outputId": "2786278a-4b57-476c-c3e7-b5b596ed62f2",
        "colab": {
          "base_uri": "https://localhost:8080/",
          "height": 34
        }
      },
      "source": [
        "#Weekday - Married\n",
        "df_filtered = data4[(data4.inday_icu_wkd == 'weekday') & (data4.marital_status == 'MARRIED')]\n",
        "df_filtered.shape[0]"
      ],
      "execution_count": 226,
      "outputs": [
        {
          "output_type": "execute_result",
          "data": {
            "text/plain": [
              "1503"
            ]
          },
          "metadata": {
            "tags": []
          },
          "execution_count": 226
        }
      ]
    },
    {
      "cell_type": "code",
      "metadata": {
        "id": "d_jiHfZaEFoh",
        "colab_type": "code",
        "colab": {
          "base_uri": "https://localhost:8080/",
          "height": 34
        },
        "outputId": "7efc95ba-ad48-47a3-d96e-b9bec17bacbd"
      },
      "source": [
        "#Weekend - Married\n",
        "df_filtered = data4[(data4.inday_icu_wkd == 'weekend') & (data4.marital_status == 'MARRIED')]\n",
        "df_filtered.shape[0]"
      ],
      "execution_count": 225,
      "outputs": [
        {
          "output_type": "execute_result",
          "data": {
            "text/plain": [
              "441"
            ]
          },
          "metadata": {
            "tags": []
          },
          "execution_count": 225
        }
      ]
    },
    {
      "cell_type": "markdown",
      "metadata": {
        "id": "2AN87LnqxFhP",
        "colab_type": "text"
      },
      "source": [
        "##Insurance"
      ]
    },
    {
      "cell_type": "code",
      "metadata": {
        "id": "9G71QHgmxO6R",
        "colab_type": "code",
        "outputId": "6d6e1ef2-912e-45a5-bc36-a7c323ff6c58",
        "colab": {
          "base_uri": "https://localhost:8080/",
          "height": 121
        }
      },
      "source": [
        "data4['insurance'].value_counts(dropna=False)"
      ],
      "execution_count": 179,
      "outputs": [
        {
          "output_type": "execute_result",
          "data": {
            "text/plain": [
              "Medicare      2138\n",
              "Private       1178\n",
              "Medicaid       269\n",
              "Government      93\n",
              "Self Pay        51\n",
              "Name: insurance, dtype: int64"
            ]
          },
          "metadata": {
            "tags": []
          },
          "execution_count": 179
        }
      ]
    },
    {
      "cell_type": "code",
      "metadata": {
        "id": "HTGToQAGCMEA",
        "colab_type": "code",
        "colab": {
          "base_uri": "https://localhost:8080/",
          "height": 34
        },
        "outputId": "81577907-3a32-4eab-cfb7-c0e03e30c5cc"
      },
      "source": [
        "#Medicaid in the weekday\n",
        "df_filtered = data4[(data4.inday_icu_wkd == 'weekday') & (data4.insurance == 'Medicaid')]\n",
        "df_filtered.shape[0]"
      ],
      "execution_count": 221,
      "outputs": [
        {
          "output_type": "execute_result",
          "data": {
            "text/plain": [
              "195"
            ]
          },
          "metadata": {
            "tags": []
          },
          "execution_count": 221
        }
      ]
    },
    {
      "cell_type": "code",
      "metadata": {
        "id": "5Hr8hntPxQnv",
        "colab_type": "code",
        "outputId": "f2431c1f-7b01-4c63-84e7-b4b631f5ae2a",
        "colab": {
          "base_uri": "https://localhost:8080/",
          "height": 34
        }
      },
      "source": [
        "#Medicaid in the weekend\n",
        "df_filtered = data4[(data4.inday_icu_wkd == 'weekend') & (data4.insurance == 'Medicaid')]\n",
        "df_filtered.shape[0]"
      ],
      "execution_count": 222,
      "outputs": [
        {
          "output_type": "execute_result",
          "data": {
            "text/plain": [
              "74"
            ]
          },
          "metadata": {
            "tags": []
          },
          "execution_count": 222
        }
      ]
    },
    {
      "cell_type": "code",
      "metadata": {
        "id": "jnjZSbXICUWo",
        "colab_type": "code",
        "colab": {
          "base_uri": "https://localhost:8080/",
          "height": 34
        },
        "outputId": "e01b55af-4cc1-42e2-8c5f-887b563bca89"
      },
      "source": [
        "#Medicare in the weekday\n",
        "df_filtered = data4[(data4.inday_icu_wkd == 'weekday') & (data4.insurance == 'Medicare')]\n",
        "df_filtered.shape[0]"
      ],
      "execution_count": 223,
      "outputs": [
        {
          "output_type": "execute_result",
          "data": {
            "text/plain": [
              "1684"
            ]
          },
          "metadata": {
            "tags": []
          },
          "execution_count": 223
        }
      ]
    },
    {
      "cell_type": "code",
      "metadata": {
        "id": "-bx22EFFCX7i",
        "colab_type": "code",
        "colab": {
          "base_uri": "https://localhost:8080/",
          "height": 34
        },
        "outputId": "b3f51346-d473-4259-8e61-c9c144bd9ada"
      },
      "source": [
        "#Medicare in the weekend\n",
        "df_filtered = data4[(data4.inday_icu_wkd == 'weekend') & (data4.insurance == 'Medicare')]\n",
        "df_filtered.shape[0]"
      ],
      "execution_count": 224,
      "outputs": [
        {
          "output_type": "execute_result",
          "data": {
            "text/plain": [
              "454"
            ]
          },
          "metadata": {
            "tags": []
          },
          "execution_count": 224
        }
      ]
    },
    {
      "cell_type": "markdown",
      "metadata": {
        "id": "m-hr5m8gxXfY",
        "colab_type": "text"
      },
      "source": [
        "#GCS Values"
      ]
    },
    {
      "cell_type": "code",
      "metadata": {
        "id": "T3Q5W61ExbLQ",
        "colab_type": "code",
        "outputId": "c3ccb59c-5653-4e21-ba60-8309c1f60119",
        "colab": {
          "base_uri": "https://localhost:8080/",
          "height": 278
        }
      },
      "source": [
        "data4['mingcs'].value_counts(dropna=False)"
      ],
      "execution_count": 181,
      "outputs": [
        {
          "output_type": "execute_result",
          "data": {
            "text/plain": [
              "15.0    1862\n",
              "14.0     619\n",
              "13.0     254\n",
              "3.0      145\n",
              "12.0     134\n",
              "11.0     124\n",
              "10.0     118\n",
              "7.0      103\n",
              "9.0       95\n",
              "6.0       92\n",
              "8.0       90\n",
              "4.0       34\n",
              "NaN       31\n",
              "5.0       28\n",
              "Name: mingcs, dtype: int64"
            ]
          },
          "metadata": {
            "tags": []
          },
          "execution_count": 181
        }
      ]
    },
    {
      "cell_type": "markdown",
      "metadata": {
        "id": "rDLd7ma1xvBy",
        "colab_type": "text"
      },
      "source": [
        "These are the standards prescribed by the British Medical Journal.\n",
        "\n",
        "Mild -> GCS 13-15\n",
        "\n",
        "Moderate -> GCS 9-12\n",
        "\n",
        "Severe -> GCS 3-8"
      ]
    },
    {
      "cell_type": "code",
      "metadata": {
        "id": "wfgFAxGrx1Di",
        "colab_type": "code",
        "outputId": "c2fcbaeb-262e-46ca-ab6d-f99a475daf84",
        "colab": {
          "base_uri": "https://localhost:8080/",
          "height": 739
        }
      },
      "source": [
        "columns = ['gender_x', 'los_hospital', 'admission_age', 'admission_type_x', 'hospital_expire_flag_x', \n",
        "           'los_icu','icustay_expire_flag', 'oasis', 'oasis_prob', 'first_careunit', 'mingcs']\n",
        "\n",
        "groupby = 'inday_icu_wkd'\n",
        "\n",
        "pval = False\n",
        "\n",
        "categorical = ['gender_x','admission_type_x','hospital_expire_flag_x','icustay_expire_flag',\n",
        "               'first_careunit']\n",
        "\n",
        "t = TableOne(data4, columns=columns, categorical=categorical, groupby=groupby, pval=pval)\n",
        "t.tableone"
      ],
      "execution_count": 231,
      "outputs": [
        {
          "output_type": "execute_result",
          "data": {
            "text/html": [
              "<div>\n",
              "<style scoped>\n",
              "    .dataframe tbody tr th:only-of-type {\n",
              "        vertical-align: middle;\n",
              "    }\n",
              "\n",
              "    .dataframe tbody tr th {\n",
              "        vertical-align: top;\n",
              "    }\n",
              "\n",
              "    .dataframe thead tr th {\n",
              "        text-align: left;\n",
              "    }\n",
              "</style>\n",
              "<table border=\"1\" class=\"dataframe\">\n",
              "  <thead>\n",
              "    <tr>\n",
              "      <th></th>\n",
              "      <th></th>\n",
              "      <th colspan=\"3\" halign=\"left\">Grouped by inday_icu_wkd</th>\n",
              "    </tr>\n",
              "    <tr>\n",
              "      <th></th>\n",
              "      <th></th>\n",
              "      <th>Missing</th>\n",
              "      <th>weekday</th>\n",
              "      <th>weekend</th>\n",
              "    </tr>\n",
              "  </thead>\n",
              "  <tbody>\n",
              "    <tr>\n",
              "      <th>n</th>\n",
              "      <th></th>\n",
              "      <td></td>\n",
              "      <td>2871</td>\n",
              "      <td>858</td>\n",
              "    </tr>\n",
              "    <tr>\n",
              "      <th rowspan=\"2\" valign=\"top\">gender_x</th>\n",
              "      <th>F</th>\n",
              "      <td>0</td>\n",
              "      <td>1332 (46.4)</td>\n",
              "      <td>380 (44.3)</td>\n",
              "    </tr>\n",
              "    <tr>\n",
              "      <th>M</th>\n",
              "      <td></td>\n",
              "      <td>1539 (53.6)</td>\n",
              "      <td>478 (55.7)</td>\n",
              "    </tr>\n",
              "    <tr>\n",
              "      <th>los_hospital</th>\n",
              "      <th></th>\n",
              "      <td>0</td>\n",
              "      <td>11.3 (11.6)</td>\n",
              "      <td>11.2 (11.6)</td>\n",
              "    </tr>\n",
              "    <tr>\n",
              "      <th>admission_age</th>\n",
              "      <th></th>\n",
              "      <td>0</td>\n",
              "      <td>67.2 (14.5)</td>\n",
              "      <td>65.4 (15.6)</td>\n",
              "    </tr>\n",
              "    <tr>\n",
              "      <th rowspan=\"3\" valign=\"top\">admission_type_x</th>\n",
              "      <th>ELECTIVE</th>\n",
              "      <td>0</td>\n",
              "      <td>280 (9.8)</td>\n",
              "      <td>11 (1.3)</td>\n",
              "    </tr>\n",
              "    <tr>\n",
              "      <th>EMERGENCY</th>\n",
              "      <td></td>\n",
              "      <td>2534 (88.3)</td>\n",
              "      <td>818 (95.3)</td>\n",
              "    </tr>\n",
              "    <tr>\n",
              "      <th>URGENT</th>\n",
              "      <td></td>\n",
              "      <td>57 (2.0)</td>\n",
              "      <td>29 (3.4)</td>\n",
              "    </tr>\n",
              "    <tr>\n",
              "      <th rowspan=\"2\" valign=\"top\">hospital_expire_flag_x</th>\n",
              "      <th>0</th>\n",
              "      <td>0</td>\n",
              "      <td>2298 (80.0)</td>\n",
              "      <td>630 (73.4)</td>\n",
              "    </tr>\n",
              "    <tr>\n",
              "      <th>1</th>\n",
              "      <td></td>\n",
              "      <td>573 (20.0)</td>\n",
              "      <td>228 (26.6)</td>\n",
              "    </tr>\n",
              "    <tr>\n",
              "      <th>los_icu</th>\n",
              "      <th></th>\n",
              "      <td>0</td>\n",
              "      <td>5.3 (7.1)</td>\n",
              "      <td>5.6 (6.7)</td>\n",
              "    </tr>\n",
              "    <tr>\n",
              "      <th rowspan=\"2\" valign=\"top\">icustay_expire_flag</th>\n",
              "      <th>0</th>\n",
              "      <td>0</td>\n",
              "      <td>2444 (85.1)</td>\n",
              "      <td>697 (81.2)</td>\n",
              "    </tr>\n",
              "    <tr>\n",
              "      <th>1</th>\n",
              "      <td></td>\n",
              "      <td>427 (14.9)</td>\n",
              "      <td>161 (18.8)</td>\n",
              "    </tr>\n",
              "    <tr>\n",
              "      <th>oasis</th>\n",
              "      <th></th>\n",
              "      <td>0</td>\n",
              "      <td>32.0 (8.8)</td>\n",
              "      <td>32.5 (8.7)</td>\n",
              "    </tr>\n",
              "    <tr>\n",
              "      <th>oasis_prob</th>\n",
              "      <th></th>\n",
              "      <td>0</td>\n",
              "      <td>0.2 (0.1)</td>\n",
              "      <td>0.2 (0.1)</td>\n",
              "    </tr>\n",
              "    <tr>\n",
              "      <th rowspan=\"5\" valign=\"top\">first_careunit</th>\n",
              "      <th>CCU</th>\n",
              "      <td>0</td>\n",
              "      <td>335 (11.7)</td>\n",
              "      <td>54 (6.3)</td>\n",
              "    </tr>\n",
              "    <tr>\n",
              "      <th>CSRU</th>\n",
              "      <td></td>\n",
              "      <td>419 (14.6)</td>\n",
              "      <td>38 (4.4)</td>\n",
              "    </tr>\n",
              "    <tr>\n",
              "      <th>MICU</th>\n",
              "      <td></td>\n",
              "      <td>514 (17.9)</td>\n",
              "      <td>167 (19.5)</td>\n",
              "    </tr>\n",
              "    <tr>\n",
              "      <th>SICU</th>\n",
              "      <td></td>\n",
              "      <td>1190 (41.4)</td>\n",
              "      <td>449 (52.3)</td>\n",
              "    </tr>\n",
              "    <tr>\n",
              "      <th>TSICU</th>\n",
              "      <td></td>\n",
              "      <td>413 (14.4)</td>\n",
              "      <td>150 (17.5)</td>\n",
              "    </tr>\n",
              "    <tr>\n",
              "      <th>mingcs</th>\n",
              "      <th></th>\n",
              "      <td>31</td>\n",
              "      <td>12.9 (3.3)</td>\n",
              "      <td>12.6 (3.4)</td>\n",
              "    </tr>\n",
              "  </tbody>\n",
              "</table>\n",
              "</div>"
            ],
            "text/plain": [
              "                                 Grouped by inday_icu_wkd  ...             \n",
              "                                                  Missing  ...      weekend\n",
              "n                                                          ...          858\n",
              "gender_x               F                                0  ...   380 (44.3)\n",
              "                       M                                   ...   478 (55.7)\n",
              "los_hospital                                            0  ...  11.2 (11.6)\n",
              "admission_age                                           0  ...  65.4 (15.6)\n",
              "admission_type_x       ELECTIVE                         0  ...     11 (1.3)\n",
              "                       EMERGENCY                           ...   818 (95.3)\n",
              "                       URGENT                              ...     29 (3.4)\n",
              "hospital_expire_flag_x 0                                0  ...   630 (73.4)\n",
              "                       1                                   ...   228 (26.6)\n",
              "los_icu                                                 0  ...    5.6 (6.7)\n",
              "icustay_expire_flag    0                                0  ...   697 (81.2)\n",
              "                       1                                   ...   161 (18.8)\n",
              "oasis                                                   0  ...   32.5 (8.7)\n",
              "oasis_prob                                              0  ...    0.2 (0.1)\n",
              "first_careunit         CCU                              0  ...     54 (6.3)\n",
              "                       CSRU                                ...     38 (4.4)\n",
              "                       MICU                                ...   167 (19.5)\n",
              "                       SICU                                ...   449 (52.3)\n",
              "                       TSICU                               ...   150 (17.5)\n",
              "mingcs                                                 31  ...   12.6 (3.4)\n",
              "\n",
              "[21 rows x 3 columns]"
            ]
          },
          "metadata": {
            "tags": []
          },
          "execution_count": 231
        }
      ]
    },
    {
      "cell_type": "markdown",
      "metadata": {
        "id": "sZ-4LlmZx_jD",
        "colab_type": "text"
      },
      "source": [
        "#Discharge Destination"
      ]
    },
    {
      "cell_type": "markdown",
      "metadata": {
        "id": "JIB03FjDFFlc",
        "colab_type": "text"
      },
      "source": [
        "##Inclusive of in-house mortality"
      ]
    },
    {
      "cell_type": "code",
      "metadata": {
        "id": "LDxM9afuyc2D",
        "colab_type": "code",
        "outputId": "49b6a2ed-d948-4a7f-b2e1-2b1ebddcdc5c",
        "colab": {
          "base_uri": "https://localhost:8080/",
          "height": 278
        }
      },
      "source": [
        "data4['discharge_location'].value_counts(dropna=False)"
      ],
      "execution_count": 183,
      "outputs": [
        {
          "output_type": "execute_result",
          "data": {
            "text/plain": [
              "REHAB/DISTINCT PART HOSP     1031\n",
              "DEAD/EXPIRED                  801\n",
              "HOME                          662\n",
              "HOME HEALTH CARE              508\n",
              "SNF                           384\n",
              "LONG TERM CARE HOSPITAL       194\n",
              "SHORT TERM HOSPITAL            60\n",
              "DISC-TRAN CANCER/CHLDRN H      35\n",
              "HOSPICE-MEDICAL FACILITY       25\n",
              "HOSPICE-HOME                   17\n",
              "LEFT AGAINST MEDICAL ADVI       6\n",
              "DISCH-TRAN TO PSYCH HOSP        4\n",
              "HOME WITH HOME IV PROVIDR       1\n",
              "OTHER FACILITY                  1\n",
              "Name: discharge_location, dtype: int64"
            ]
          },
          "metadata": {
            "tags": []
          },
          "execution_count": 183
        }
      ]
    },
    {
      "cell_type": "code",
      "metadata": {
        "id": "wMDrEqHtyhRD",
        "colab_type": "code",
        "colab": {}
      },
      "source": [
        "#Identify all 'home' categories\n",
        "home = ['HOME', 'HOME HEALTH CARE', 'HOME WITH HOME IV PROVIDR']\n",
        "# The remaining are classified as 'other'"
      ],
      "execution_count": 0,
      "outputs": []
    },
    {
      "cell_type": "code",
      "metadata": {
        "id": "D_50PCw7yltz",
        "colab_type": "code",
        "outputId": "69c44c24-805f-44bf-e6b5-17b5f71e8da3",
        "colab": {
          "base_uri": "https://localhost:8080/",
          "height": 289
        }
      },
      "source": [
        "#Create a binary column with all 'home' categories as 1\n",
        "data4['home_discharge_bool'] = data4.discharge_location.str.contains('^HOME')\n",
        "data4.columns"
      ],
      "execution_count": 0,
      "outputs": [
        {
          "output_type": "execute_result",
          "data": {
            "text/plain": [
              "Index(['subject_id', 'hadm_id', 'icustay_id', 'gender_x', 'admittime_hospital',\n",
              "       'dischtime_hospital', 'los_hospital', 'admission_age',\n",
              "       'admission_type_x', 'hospital_expire_flag_x', 'intime_icu',\n",
              "       'outtime_icu', 'los_icu', 'first_careunit', 'icustay_expire_flag',\n",
              "       'oasis', 'oasis_prob', 'row_id_x', 'seq_num', 'icd9_code', 'row_id_y',\n",
              "       'gender_y', 'dob', 'dod', 'dod_hosp', 'dod_ssn', 'expire_flag',\n",
              "       'row_id', 'admittime', 'dischtime', 'deathtime', 'admission_type_y',\n",
              "       'admission_location', 'discharge_location', 'insurance', 'language',\n",
              "       'religion', 'marital_status', 'ethnicity', 'edregtime', 'edouttime',\n",
              "       'diagnosis', 'hospital_expire_flag_y', 'has_chartevents_data', 'mingcs',\n",
              "       'gcsmotor', 'gcsverbal', 'gcseyes', 'endotrachflag',\n",
              "       'admitday_hospital', 'dischday_hospital', 'inday_icu', 'inday_icu_seq',\n",
              "       'outday_icu', 'inday_icu_wkd', 'survival_time',\n",
              "       'death_post_discharge_in_days', 'survival_time_flag',\n",
              "       'home_discharge_bool'],\n",
              "      dtype='object')"
            ]
          },
          "metadata": {
            "tags": []
          },
          "execution_count": 95
        }
      ]
    },
    {
      "cell_type": "code",
      "metadata": {
        "id": "YKtkr7nyyuCj",
        "colab_type": "code",
        "outputId": "0047c088-e3dd-4133-d4a9-4ea072c31425",
        "colab": {
          "base_uri": "https://localhost:8080/",
          "height": 1000
        }
      },
      "source": [
        "data4.head(20)"
      ],
      "execution_count": 184,
      "outputs": [
        {
          "output_type": "execute_result",
          "data": {
            "text/html": [
              "<div>\n",
              "<style scoped>\n",
              "    .dataframe tbody tr th:only-of-type {\n",
              "        vertical-align: middle;\n",
              "    }\n",
              "\n",
              "    .dataframe tbody tr th {\n",
              "        vertical-align: top;\n",
              "    }\n",
              "\n",
              "    .dataframe thead th {\n",
              "        text-align: right;\n",
              "    }\n",
              "</style>\n",
              "<table border=\"1\" class=\"dataframe\">\n",
              "  <thead>\n",
              "    <tr style=\"text-align: right;\">\n",
              "      <th></th>\n",
              "      <th>subject_id</th>\n",
              "      <th>hadm_id</th>\n",
              "      <th>icustay_id</th>\n",
              "      <th>gender_x</th>\n",
              "      <th>admittime_hospital</th>\n",
              "      <th>dischtime_hospital</th>\n",
              "      <th>los_hospital</th>\n",
              "      <th>admission_age</th>\n",
              "      <th>admission_type_x</th>\n",
              "      <th>hospital_expire_flag_x</th>\n",
              "      <th>intime_icu</th>\n",
              "      <th>outtime_icu</th>\n",
              "      <th>los_icu</th>\n",
              "      <th>first_careunit</th>\n",
              "      <th>icustay_expire_flag</th>\n",
              "      <th>oasis</th>\n",
              "      <th>oasis_prob</th>\n",
              "      <th>row_id_x</th>\n",
              "      <th>seq_num</th>\n",
              "      <th>icd9_code</th>\n",
              "      <th>row_id_y</th>\n",
              "      <th>gender_y</th>\n",
              "      <th>dob</th>\n",
              "      <th>dod</th>\n",
              "      <th>dod_hosp</th>\n",
              "      <th>dod_ssn</th>\n",
              "      <th>expire_flag</th>\n",
              "      <th>row_id</th>\n",
              "      <th>admittime</th>\n",
              "      <th>dischtime</th>\n",
              "      <th>deathtime</th>\n",
              "      <th>admission_type_y</th>\n",
              "      <th>admission_location</th>\n",
              "      <th>discharge_location</th>\n",
              "      <th>insurance</th>\n",
              "      <th>language</th>\n",
              "      <th>religion</th>\n",
              "      <th>marital_status</th>\n",
              "      <th>ethnicity</th>\n",
              "      <th>edregtime</th>\n",
              "      <th>edouttime</th>\n",
              "      <th>diagnosis</th>\n",
              "      <th>hospital_expire_flag_y</th>\n",
              "      <th>has_chartevents_data</th>\n",
              "      <th>mingcs</th>\n",
              "      <th>gcsmotor</th>\n",
              "      <th>gcsverbal</th>\n",
              "      <th>gcseyes</th>\n",
              "      <th>endotrachflag</th>\n",
              "      <th>admitday_hospital</th>\n",
              "      <th>dischday_hospital</th>\n",
              "      <th>inday_icu</th>\n",
              "      <th>inday_icu_seq</th>\n",
              "      <th>outday_icu</th>\n",
              "      <th>inday_icu_wkd</th>\n",
              "      <th>survival_time</th>\n",
              "      <th>death_post_discharge_in_days</th>\n",
              "      <th>survival_time_flag</th>\n",
              "      <th>home_discharge_bool</th>\n",
              "      <th>adm_type_2</th>\n",
              "      <th>adm_type_2_bool</th>\n",
              "      <th>home_discharge_flag</th>\n",
              "    </tr>\n",
              "  </thead>\n",
              "  <tbody>\n",
              "    <tr>\n",
              "      <th>0</th>\n",
              "      <td>141</td>\n",
              "      <td>168006</td>\n",
              "      <td>234668</td>\n",
              "      <td>M</td>\n",
              "      <td>2140-11-06 11:07:00</td>\n",
              "      <td>2140-11-09 20:36:00</td>\n",
              "      <td>3</td>\n",
              "      <td>80</td>\n",
              "      <td>EMERGENCY</td>\n",
              "      <td>1</td>\n",
              "      <td>2140-11-06 11:09:19</td>\n",
              "      <td>2140-11-09 22:35:29</td>\n",
              "      <td>3.0</td>\n",
              "      <td>MICU</td>\n",
              "      <td>1</td>\n",
              "      <td>53</td>\n",
              "      <td>0.641734</td>\n",
              "      <td>1784.0</td>\n",
              "      <td>2.0</td>\n",
              "      <td>43491</td>\n",
              "      <td>131</td>\n",
              "      <td>M</td>\n",
              "      <td>2060-05-03</td>\n",
              "      <td>2140-11-09</td>\n",
              "      <td>2140-11-09</td>\n",
              "      <td>2140-11-09</td>\n",
              "      <td>1</td>\n",
              "      <td>190</td>\n",
              "      <td>2140-11-06 11:07:00</td>\n",
              "      <td>2140-11-09 20:36:00</td>\n",
              "      <td>2140-11-09 20:36:00</td>\n",
              "      <td>EMERGENCY</td>\n",
              "      <td>EMERGENCY ROOM ADMIT</td>\n",
              "      <td>DEAD/EXPIRED</td>\n",
              "      <td>Medicare</td>\n",
              "      <td>None</td>\n",
              "      <td>OTHER</td>\n",
              "      <td>SINGLE</td>\n",
              "      <td>OTHER</td>\n",
              "      <td>2140-11-06 07:17:00</td>\n",
              "      <td>2140-11-06 12:07:00</td>\n",
              "      <td>DRA, SAH</td>\n",
              "      <td>1</td>\n",
              "      <td>1</td>\n",
              "      <td>14.0</td>\n",
              "      <td>6.0</td>\n",
              "      <td>4.0</td>\n",
              "      <td>4.0</td>\n",
              "      <td>0.0</td>\n",
              "      <td>Sunday</td>\n",
              "      <td>Wednesday</td>\n",
              "      <td>Sunday</td>\n",
              "      <td>6</td>\n",
              "      <td>Wednesday</td>\n",
              "      <td>weekend</td>\n",
              "      <td>-1 days +03:24:00</td>\n",
              "      <td>short_survival</td>\n",
              "      <td>1</td>\n",
              "      <td>False</td>\n",
              "      <td>emergency</td>\n",
              "      <td>1</td>\n",
              "      <td>0</td>\n",
              "    </tr>\n",
              "    <tr>\n",
              "      <th>1</th>\n",
              "      <td>416</td>\n",
              "      <td>148709</td>\n",
              "      <td>226936</td>\n",
              "      <td>F</td>\n",
              "      <td>2132-07-23 14:46:00</td>\n",
              "      <td>2132-08-11 17:19:00</td>\n",
              "      <td>19</td>\n",
              "      <td>56</td>\n",
              "      <td>EMERGENCY</td>\n",
              "      <td>0</td>\n",
              "      <td>2132-07-23 14:47:03</td>\n",
              "      <td>2132-08-08 17:03:29</td>\n",
              "      <td>16.0</td>\n",
              "      <td>MICU</td>\n",
              "      <td>0</td>\n",
              "      <td>55</td>\n",
              "      <td>0.698023</td>\n",
              "      <td>5023.0</td>\n",
              "      <td>1.0</td>\n",
              "      <td>430</td>\n",
              "      <td>392</td>\n",
              "      <td>F</td>\n",
              "      <td>2076-12-12</td>\n",
              "      <td>2136-11-11</td>\n",
              "      <td>NaT</td>\n",
              "      <td>2136-11-11</td>\n",
              "      <td>1</td>\n",
              "      <td>532</td>\n",
              "      <td>2132-07-23 14:46:00</td>\n",
              "      <td>2132-08-11 17:19:00</td>\n",
              "      <td>NaT</td>\n",
              "      <td>EMERGENCY</td>\n",
              "      <td>EMERGENCY ROOM ADMIT</td>\n",
              "      <td>HOME HEALTH CARE</td>\n",
              "      <td>Medicaid</td>\n",
              "      <td>HAIT</td>\n",
              "      <td>UNOBTAINABLE</td>\n",
              "      <td>MARRIED</td>\n",
              "      <td>BLACK/AFRICAN AMERICAN</td>\n",
              "      <td>2132-07-23 09:26:00</td>\n",
              "      <td>2132-07-23 15:08:00</td>\n",
              "      <td>SAH</td>\n",
              "      <td>0</td>\n",
              "      <td>1</td>\n",
              "      <td>13.0</td>\n",
              "      <td>6.0</td>\n",
              "      <td>4.0</td>\n",
              "      <td>3.0</td>\n",
              "      <td>0.0</td>\n",
              "      <td>Wednesday</td>\n",
              "      <td>Monday</td>\n",
              "      <td>Wednesday</td>\n",
              "      <td>2</td>\n",
              "      <td>Friday</td>\n",
              "      <td>weekday</td>\n",
              "      <td>1552 days 06:41:00</td>\n",
              "      <td>long_survival</td>\n",
              "      <td>0</td>\n",
              "      <td>True</td>\n",
              "      <td>emergency</td>\n",
              "      <td>1</td>\n",
              "      <td>1</td>\n",
              "    </tr>\n",
              "    <tr>\n",
              "      <th>2</th>\n",
              "      <td>490</td>\n",
              "      <td>166850</td>\n",
              "      <td>222952</td>\n",
              "      <td>M</td>\n",
              "      <td>2199-12-12 19:04:00</td>\n",
              "      <td>2199-12-13 20:33:00</td>\n",
              "      <td>1</td>\n",
              "      <td>87</td>\n",
              "      <td>EMERGENCY</td>\n",
              "      <td>1</td>\n",
              "      <td>2199-12-12 21:15:58</td>\n",
              "      <td>2199-12-13 20:33:59</td>\n",
              "      <td>1.0</td>\n",
              "      <td>SICU</td>\n",
              "      <td>1</td>\n",
              "      <td>58</td>\n",
              "      <td>0.772134</td>\n",
              "      <td>5788.0</td>\n",
              "      <td>1.0</td>\n",
              "      <td>43491</td>\n",
              "      <td>463</td>\n",
              "      <td>M</td>\n",
              "      <td>2112-11-20</td>\n",
              "      <td>2199-12-13</td>\n",
              "      <td>2199-12-13</td>\n",
              "      <td>2199-12-13</td>\n",
              "      <td>1</td>\n",
              "      <td>615</td>\n",
              "      <td>2199-12-12 19:04:00</td>\n",
              "      <td>2199-12-13 20:33:00</td>\n",
              "      <td>2199-12-13 20:33:00</td>\n",
              "      <td>EMERGENCY</td>\n",
              "      <td>EMERGENCY ROOM ADMIT</td>\n",
              "      <td>DEAD/EXPIRED</td>\n",
              "      <td>Medicare</td>\n",
              "      <td>None</td>\n",
              "      <td>UNOBTAINABLE</td>\n",
              "      <td>MARRIED</td>\n",
              "      <td>WHITE</td>\n",
              "      <td>2199-12-12 17:13:00</td>\n",
              "      <td>2199-12-12 22:06:00</td>\n",
              "      <td>CEREBRAL VASCULAR ACCIDENT</td>\n",
              "      <td>1</td>\n",
              "      <td>1</td>\n",
              "      <td>6.0</td>\n",
              "      <td>4.0</td>\n",
              "      <td>1.0</td>\n",
              "      <td>1.0</td>\n",
              "      <td>0.0</td>\n",
              "      <td>Thursday</td>\n",
              "      <td>Friday</td>\n",
              "      <td>Thursday</td>\n",
              "      <td>3</td>\n",
              "      <td>Friday</td>\n",
              "      <td>weekday</td>\n",
              "      <td>-1 days +03:27:00</td>\n",
              "      <td>short_survival</td>\n",
              "      <td>1</td>\n",
              "      <td>False</td>\n",
              "      <td>emergency</td>\n",
              "      <td>1</td>\n",
              "      <td>0</td>\n",
              "    </tr>\n",
              "    <tr>\n",
              "      <th>4</th>\n",
              "      <td>831</td>\n",
              "      <td>185983</td>\n",
              "      <td>223445</td>\n",
              "      <td>F</td>\n",
              "      <td>2151-06-30 09:44:00</td>\n",
              "      <td>2151-07-15 13:50:00</td>\n",
              "      <td>15</td>\n",
              "      <td>84</td>\n",
              "      <td>EMERGENCY</td>\n",
              "      <td>0</td>\n",
              "      <td>2151-06-30 09:44:47</td>\n",
              "      <td>2151-07-03 18:15:14</td>\n",
              "      <td>3.0</td>\n",
              "      <td>SICU</td>\n",
              "      <td>0</td>\n",
              "      <td>51</td>\n",
              "      <td>0.581248</td>\n",
              "      <td>9671.0</td>\n",
              "      <td>1.0</td>\n",
              "      <td>431</td>\n",
              "      <td>784</td>\n",
              "      <td>F</td>\n",
              "      <td>2067-05-06</td>\n",
              "      <td>2151-09-10</td>\n",
              "      <td>NaT</td>\n",
              "      <td>2151-09-10</td>\n",
              "      <td>1</td>\n",
              "      <td>1031</td>\n",
              "      <td>2151-06-30 09:44:00</td>\n",
              "      <td>2151-07-15 13:50:00</td>\n",
              "      <td>None</td>\n",
              "      <td>EMERGENCY</td>\n",
              "      <td>EMERGENCY ROOM ADMIT</td>\n",
              "      <td>REHAB/DISTINCT PART HOSP</td>\n",
              "      <td>Medicare</td>\n",
              "      <td>None</td>\n",
              "      <td>JEWISH</td>\n",
              "      <td>WIDOWED</td>\n",
              "      <td>WHITE</td>\n",
              "      <td>2151-06-30 08:22:00</td>\n",
              "      <td>2151-06-30 11:10:00</td>\n",
              "      <td>STROKE/TIA</td>\n",
              "      <td>0</td>\n",
              "      <td>1</td>\n",
              "      <td>7.0</td>\n",
              "      <td>4.0</td>\n",
              "      <td>1.0</td>\n",
              "      <td>2.0</td>\n",
              "      <td>0.0</td>\n",
              "      <td>Wednesday</td>\n",
              "      <td>Thursday</td>\n",
              "      <td>Wednesday</td>\n",
              "      <td>2</td>\n",
              "      <td>Saturday</td>\n",
              "      <td>weekday</td>\n",
              "      <td>56 days 10:10:00</td>\n",
              "      <td>short_survival</td>\n",
              "      <td>1</td>\n",
              "      <td>False</td>\n",
              "      <td>emergency</td>\n",
              "      <td>1</td>\n",
              "      <td>0</td>\n",
              "    </tr>\n",
              "    <tr>\n",
              "      <th>5</th>\n",
              "      <td>1054</td>\n",
              "      <td>183383</td>\n",
              "      <td>288218</td>\n",
              "      <td>M</td>\n",
              "      <td>2157-01-06 17:16:00</td>\n",
              "      <td>2157-01-08 15:00:00</td>\n",
              "      <td>2</td>\n",
              "      <td>79</td>\n",
              "      <td>EMERGENCY</td>\n",
              "      <td>1</td>\n",
              "      <td>2157-01-06 17:17:38</td>\n",
              "      <td>2157-01-07 22:01:06</td>\n",
              "      <td>1.0</td>\n",
              "      <td>SICU</td>\n",
              "      <td>0</td>\n",
              "      <td>51</td>\n",
              "      <td>0.581248</td>\n",
              "      <td>12291.0</td>\n",
              "      <td>1.0</td>\n",
              "      <td>430</td>\n",
              "      <td>998</td>\n",
              "      <td>M</td>\n",
              "      <td>2078-07-15</td>\n",
              "      <td>2157-01-08</td>\n",
              "      <td>2157-01-08</td>\n",
              "      <td>NaT</td>\n",
              "      <td>1</td>\n",
              "      <td>1310</td>\n",
              "      <td>2157-01-06 17:16:00</td>\n",
              "      <td>2157-01-08 15:00:00</td>\n",
              "      <td>2157-01-08 15:00:00</td>\n",
              "      <td>EMERGENCY</td>\n",
              "      <td>EMERGENCY ROOM ADMIT</td>\n",
              "      <td>DEAD/EXPIRED</td>\n",
              "      <td>Medicare</td>\n",
              "      <td>None</td>\n",
              "      <td>PROTESTANT QUAKER</td>\n",
              "      <td>MARRIED</td>\n",
              "      <td>WHITE</td>\n",
              "      <td>2157-01-06 14:49:00</td>\n",
              "      <td>2157-01-06 18:36:00</td>\n",
              "      <td>INTRACRANIAL HEMORRHAGE</td>\n",
              "      <td>1</td>\n",
              "      <td>1</td>\n",
              "      <td>6.0</td>\n",
              "      <td>4.0</td>\n",
              "      <td>1.0</td>\n",
              "      <td>1.0</td>\n",
              "      <td>0.0</td>\n",
              "      <td>Thursday</td>\n",
              "      <td>Saturday</td>\n",
              "      <td>Thursday</td>\n",
              "      <td>3</td>\n",
              "      <td>Friday</td>\n",
              "      <td>weekday</td>\n",
              "      <td>-1 days +09:00:00</td>\n",
              "      <td>short_survival</td>\n",
              "      <td>1</td>\n",
              "      <td>False</td>\n",
              "      <td>emergency</td>\n",
              "      <td>1</td>\n",
              "      <td>0</td>\n",
              "    </tr>\n",
              "    <tr>\n",
              "      <th>6</th>\n",
              "      <td>1253</td>\n",
              "      <td>129963</td>\n",
              "      <td>246324</td>\n",
              "      <td>F</td>\n",
              "      <td>2138-02-25 07:15:00</td>\n",
              "      <td>2138-03-06 14:00:00</td>\n",
              "      <td>9</td>\n",
              "      <td>58</td>\n",
              "      <td>ELECTIVE</td>\n",
              "      <td>0</td>\n",
              "      <td>2138-02-25 14:45:22</td>\n",
              "      <td>2138-02-26 21:39:17</td>\n",
              "      <td>1.0</td>\n",
              "      <td>SICU</td>\n",
              "      <td>0</td>\n",
              "      <td>13</td>\n",
              "      <td>0.010803</td>\n",
              "      <td>14362.0</td>\n",
              "      <td>3.0</td>\n",
              "      <td>431</td>\n",
              "      <td>1189</td>\n",
              "      <td>F</td>\n",
              "      <td>2080-11-28</td>\n",
              "      <td>NaT</td>\n",
              "      <td>NaT</td>\n",
              "      <td>NaT</td>\n",
              "      <td>0</td>\n",
              "      <td>1543</td>\n",
              "      <td>2138-02-25 07:15:00</td>\n",
              "      <td>2138-03-06 14:00:00</td>\n",
              "      <td>NaT</td>\n",
              "      <td>ELECTIVE</td>\n",
              "      <td>PHYS REFERRAL/NORMAL DELI</td>\n",
              "      <td>HOME</td>\n",
              "      <td>Private</td>\n",
              "      <td>None</td>\n",
              "      <td>JEWISH</td>\n",
              "      <td>MARRIED</td>\n",
              "      <td>WHITE</td>\n",
              "      <td>NaT</td>\n",
              "      <td>NaT</td>\n",
              "      <td>ANEURYSM/SDA</td>\n",
              "      <td>0</td>\n",
              "      <td>1</td>\n",
              "      <td>15.0</td>\n",
              "      <td>6.0</td>\n",
              "      <td>5.0</td>\n",
              "      <td>4.0</td>\n",
              "      <td>0.0</td>\n",
              "      <td>Tuesday</td>\n",
              "      <td>Thursday</td>\n",
              "      <td>Tuesday</td>\n",
              "      <td>1</td>\n",
              "      <td>Wednesday</td>\n",
              "      <td>weekday</td>\n",
              "      <td>NaT</td>\n",
              "      <td>long_survival</td>\n",
              "      <td>0</td>\n",
              "      <td>True</td>\n",
              "      <td>elective</td>\n",
              "      <td>0</td>\n",
              "      <td>1</td>\n",
              "    </tr>\n",
              "    <tr>\n",
              "      <th>7</th>\n",
              "      <td>1381</td>\n",
              "      <td>181430</td>\n",
              "      <td>291798</td>\n",
              "      <td>F</td>\n",
              "      <td>2189-01-02 14:25:00</td>\n",
              "      <td>2189-01-02 12:00:00</td>\n",
              "      <td>0</td>\n",
              "      <td>82</td>\n",
              "      <td>EMERGENCY</td>\n",
              "      <td>1</td>\n",
              "      <td>2189-01-02 14:28:39</td>\n",
              "      <td>2189-01-03 01:37:51</td>\n",
              "      <td>1.0</td>\n",
              "      <td>SICU</td>\n",
              "      <td>1</td>\n",
              "      <td>54</td>\n",
              "      <td>0.670490</td>\n",
              "      <td>15799.0</td>\n",
              "      <td>1.0</td>\n",
              "      <td>43300</td>\n",
              "      <td>1313</td>\n",
              "      <td>F</td>\n",
              "      <td>2107-07-15</td>\n",
              "      <td>2189-01-02</td>\n",
              "      <td>2189-01-02</td>\n",
              "      <td>2189-01-02</td>\n",
              "      <td>1</td>\n",
              "      <td>1699</td>\n",
              "      <td>2189-01-02 14:25:00</td>\n",
              "      <td>2189-01-02 12:00:00</td>\n",
              "      <td>2189-01-02 12:00:00</td>\n",
              "      <td>EMERGENCY</td>\n",
              "      <td>EMERGENCY ROOM ADMIT</td>\n",
              "      <td>DEAD/EXPIRED</td>\n",
              "      <td>Medicare</td>\n",
              "      <td>None</td>\n",
              "      <td>UNOBTAINABLE</td>\n",
              "      <td>MARRIED</td>\n",
              "      <td>WHITE</td>\n",
              "      <td>2189-01-02 10:31:00</td>\n",
              "      <td>2189-01-02 15:56:00</td>\n",
              "      <td>STROKE;TELEMETRY</td>\n",
              "      <td>1</td>\n",
              "      <td>1</td>\n",
              "      <td>15.0</td>\n",
              "      <td>3.0</td>\n",
              "      <td>0.0</td>\n",
              "      <td>1.0</td>\n",
              "      <td>1.0</td>\n",
              "      <td>Friday</td>\n",
              "      <td>Friday</td>\n",
              "      <td>Friday</td>\n",
              "      <td>4</td>\n",
              "      <td>Saturday</td>\n",
              "      <td>weekday</td>\n",
              "      <td>-1 days +12:00:00</td>\n",
              "      <td>short_survival</td>\n",
              "      <td>1</td>\n",
              "      <td>False</td>\n",
              "      <td>emergency</td>\n",
              "      <td>1</td>\n",
              "      <td>0</td>\n",
              "    </tr>\n",
              "    <tr>\n",
              "      <th>8</th>\n",
              "      <td>1609</td>\n",
              "      <td>152284</td>\n",
              "      <td>204311</td>\n",
              "      <td>F</td>\n",
              "      <td>2184-07-23 14:38:00</td>\n",
              "      <td>2184-07-24 15:38:00</td>\n",
              "      <td>1</td>\n",
              "      <td>80</td>\n",
              "      <td>EMERGENCY</td>\n",
              "      <td>1</td>\n",
              "      <td>2184-07-23 14:39:28</td>\n",
              "      <td>2184-07-24 17:58:01</td>\n",
              "      <td>1.0</td>\n",
              "      <td>SICU</td>\n",
              "      <td>1</td>\n",
              "      <td>52</td>\n",
              "      <td>0.611922</td>\n",
              "      <td>18103.0</td>\n",
              "      <td>1.0</td>\n",
              "      <td>4329</td>\n",
              "      <td>1523</td>\n",
              "      <td>F</td>\n",
              "      <td>2104-08-24</td>\n",
              "      <td>2184-07-24</td>\n",
              "      <td>2184-07-24</td>\n",
              "      <td>2184-07-24</td>\n",
              "      <td>1</td>\n",
              "      <td>1960</td>\n",
              "      <td>2184-07-23 14:38:00</td>\n",
              "      <td>2184-07-24 15:38:00</td>\n",
              "      <td>2184-07-24 15:38:00</td>\n",
              "      <td>EMERGENCY</td>\n",
              "      <td>EMERGENCY ROOM ADMIT</td>\n",
              "      <td>DEAD/EXPIRED</td>\n",
              "      <td>Medicare</td>\n",
              "      <td>CANT</td>\n",
              "      <td>OTHER</td>\n",
              "      <td>None</td>\n",
              "      <td>ASIAN</td>\n",
              "      <td>2184-07-23 10:01:00</td>\n",
              "      <td>2184-07-23 15:24:00</td>\n",
              "      <td>INTRACRANIAL HEMORRHAGE</td>\n",
              "      <td>1</td>\n",
              "      <td>1</td>\n",
              "      <td>15.0</td>\n",
              "      <td>1.0</td>\n",
              "      <td>0.0</td>\n",
              "      <td>1.0</td>\n",
              "      <td>1.0</td>\n",
              "      <td>Friday</td>\n",
              "      <td>Saturday</td>\n",
              "      <td>Friday</td>\n",
              "      <td>4</td>\n",
              "      <td>Saturday</td>\n",
              "      <td>weekday</td>\n",
              "      <td>-1 days +08:22:00</td>\n",
              "      <td>short_survival</td>\n",
              "      <td>1</td>\n",
              "      <td>False</td>\n",
              "      <td>emergency</td>\n",
              "      <td>1</td>\n",
              "      <td>0</td>\n",
              "    </tr>\n",
              "    <tr>\n",
              "      <th>9</th>\n",
              "      <td>2035</td>\n",
              "      <td>146528</td>\n",
              "      <td>216176</td>\n",
              "      <td>M</td>\n",
              "      <td>2191-04-19 21:10:00</td>\n",
              "      <td>2191-05-12 15:00:00</td>\n",
              "      <td>23</td>\n",
              "      <td>67</td>\n",
              "      <td>EMERGENCY</td>\n",
              "      <td>0</td>\n",
              "      <td>2191-04-19 21:13:13</td>\n",
              "      <td>2191-04-22 14:15:48</td>\n",
              "      <td>3.0</td>\n",
              "      <td>CCU</td>\n",
              "      <td>0</td>\n",
              "      <td>56</td>\n",
              "      <td>0.724202</td>\n",
              "      <td>22723.0</td>\n",
              "      <td>5.0</td>\n",
              "      <td>43491</td>\n",
              "      <td>1922</td>\n",
              "      <td>M</td>\n",
              "      <td>2124-01-14</td>\n",
              "      <td>2191-05-13</td>\n",
              "      <td>NaT</td>\n",
              "      <td>2191-05-13</td>\n",
              "      <td>1</td>\n",
              "      <td>2460</td>\n",
              "      <td>2191-04-19 21:10:00</td>\n",
              "      <td>2191-05-12 15:00:00</td>\n",
              "      <td>NaT</td>\n",
              "      <td>EMERGENCY</td>\n",
              "      <td>EMERGENCY ROOM ADMIT</td>\n",
              "      <td>SNF</td>\n",
              "      <td>Medicare</td>\n",
              "      <td>None</td>\n",
              "      <td>UNOBTAINABLE</td>\n",
              "      <td>None</td>\n",
              "      <td>WHITE</td>\n",
              "      <td>2191-04-19 17:27:00</td>\n",
              "      <td>2191-04-19 21:45:00</td>\n",
              "      <td>CONGESTIVE HEART FAILURE</td>\n",
              "      <td>0</td>\n",
              "      <td>1</td>\n",
              "      <td>7.0</td>\n",
              "      <td>4.0</td>\n",
              "      <td>2.0</td>\n",
              "      <td>1.0</td>\n",
              "      <td>0.0</td>\n",
              "      <td>Tuesday</td>\n",
              "      <td>Thursday</td>\n",
              "      <td>Tuesday</td>\n",
              "      <td>1</td>\n",
              "      <td>Friday</td>\n",
              "      <td>weekday</td>\n",
              "      <td>0 days 09:00:00</td>\n",
              "      <td>short_survival</td>\n",
              "      <td>1</td>\n",
              "      <td>False</td>\n",
              "      <td>emergency</td>\n",
              "      <td>1</td>\n",
              "      <td>0</td>\n",
              "    </tr>\n",
              "    <tr>\n",
              "      <th>10</th>\n",
              "      <td>3232</td>\n",
              "      <td>146611</td>\n",
              "      <td>275841</td>\n",
              "      <td>M</td>\n",
              "      <td>2150-04-06 11:19:00</td>\n",
              "      <td>2150-04-07 19:30:00</td>\n",
              "      <td>1</td>\n",
              "      <td>58</td>\n",
              "      <td>EMERGENCY</td>\n",
              "      <td>1</td>\n",
              "      <td>2150-04-06 11:24:00</td>\n",
              "      <td>2150-04-07 23:17:27</td>\n",
              "      <td>1.0</td>\n",
              "      <td>TSICU</td>\n",
              "      <td>1</td>\n",
              "      <td>58</td>\n",
              "      <td>0.772134</td>\n",
              "      <td>36091.0</td>\n",
              "      <td>9.0</td>\n",
              "      <td>4321</td>\n",
              "      <td>3059</td>\n",
              "      <td>M</td>\n",
              "      <td>2092-08-20</td>\n",
              "      <td>2150-04-07</td>\n",
              "      <td>2150-04-07</td>\n",
              "      <td>NaT</td>\n",
              "      <td>1</td>\n",
              "      <td>3897</td>\n",
              "      <td>2150-04-06 11:19:00</td>\n",
              "      <td>2150-04-07 19:30:00</td>\n",
              "      <td>2150-04-07 19:30:00</td>\n",
              "      <td>EMERGENCY</td>\n",
              "      <td>EMERGENCY ROOM ADMIT</td>\n",
              "      <td>DEAD/EXPIRED</td>\n",
              "      <td>Private</td>\n",
              "      <td>None</td>\n",
              "      <td>UNOBTAINABLE</td>\n",
              "      <td>None</td>\n",
              "      <td>WHITE</td>\n",
              "      <td>2150-04-06 08:16:00</td>\n",
              "      <td>2150-04-06 12:24:00</td>\n",
              "      <td>GI BLEED</td>\n",
              "      <td>1</td>\n",
              "      <td>1</td>\n",
              "      <td>15.0</td>\n",
              "      <td>1.0</td>\n",
              "      <td>0.0</td>\n",
              "      <td>1.0</td>\n",
              "      <td>1.0</td>\n",
              "      <td>Monday</td>\n",
              "      <td>Tuesday</td>\n",
              "      <td>Monday</td>\n",
              "      <td>0</td>\n",
              "      <td>Tuesday</td>\n",
              "      <td>weekday</td>\n",
              "      <td>-1 days +04:30:00</td>\n",
              "      <td>short_survival</td>\n",
              "      <td>1</td>\n",
              "      <td>False</td>\n",
              "      <td>emergency</td>\n",
              "      <td>1</td>\n",
              "      <td>0</td>\n",
              "    </tr>\n",
              "    <tr>\n",
              "      <th>11</th>\n",
              "      <td>3808</td>\n",
              "      <td>194227</td>\n",
              "      <td>201713</td>\n",
              "      <td>F</td>\n",
              "      <td>2150-11-19 18:16:00</td>\n",
              "      <td>2150-11-30 18:14:00</td>\n",
              "      <td>11</td>\n",
              "      <td>45</td>\n",
              "      <td>URGENT</td>\n",
              "      <td>0</td>\n",
              "      <td>2150-11-26 15:15:55</td>\n",
              "      <td>2150-11-28 18:00:27</td>\n",
              "      <td>2.0</td>\n",
              "      <td>MICU</td>\n",
              "      <td>0</td>\n",
              "      <td>13</td>\n",
              "      <td>0.010803</td>\n",
              "      <td>42063.0</td>\n",
              "      <td>3.0</td>\n",
              "      <td>430</td>\n",
              "      <td>3599</td>\n",
              "      <td>F</td>\n",
              "      <td>2105-03-16</td>\n",
              "      <td>NaT</td>\n",
              "      <td>NaT</td>\n",
              "      <td>NaT</td>\n",
              "      <td>0</td>\n",
              "      <td>4575</td>\n",
              "      <td>2150-11-19 18:16:00</td>\n",
              "      <td>2150-11-30 18:14:00</td>\n",
              "      <td>NaT</td>\n",
              "      <td>URGENT</td>\n",
              "      <td>PHYS REFERRAL/NORMAL DELI</td>\n",
              "      <td>HOME</td>\n",
              "      <td>Private</td>\n",
              "      <td>None</td>\n",
              "      <td>JEWISH</td>\n",
              "      <td>SINGLE</td>\n",
              "      <td>WHITE</td>\n",
              "      <td>NaT</td>\n",
              "      <td>NaT</td>\n",
              "      <td>NORMAL PREGNANCY</td>\n",
              "      <td>0</td>\n",
              "      <td>1</td>\n",
              "      <td>15.0</td>\n",
              "      <td>6.0</td>\n",
              "      <td>5.0</td>\n",
              "      <td>4.0</td>\n",
              "      <td>0.0</td>\n",
              "      <td>Thursday</td>\n",
              "      <td>Monday</td>\n",
              "      <td>Thursday</td>\n",
              "      <td>3</td>\n",
              "      <td>Saturday</td>\n",
              "      <td>weekday</td>\n",
              "      <td>NaT</td>\n",
              "      <td>long_survival</td>\n",
              "      <td>0</td>\n",
              "      <td>True</td>\n",
              "      <td>emergency</td>\n",
              "      <td>1</td>\n",
              "      <td>1</td>\n",
              "    </tr>\n",
              "    <tr>\n",
              "      <th>12</th>\n",
              "      <td>3831</td>\n",
              "      <td>112264</td>\n",
              "      <td>225380</td>\n",
              "      <td>F</td>\n",
              "      <td>2166-02-11 21:36:00</td>\n",
              "      <td>2166-02-12 12:00:00</td>\n",
              "      <td>1</td>\n",
              "      <td>87</td>\n",
              "      <td>EMERGENCY</td>\n",
              "      <td>1</td>\n",
              "      <td>2166-02-11 21:37:27</td>\n",
              "      <td>2166-02-13 07:38:37</td>\n",
              "      <td>2.0</td>\n",
              "      <td>SICU</td>\n",
              "      <td>1</td>\n",
              "      <td>55</td>\n",
              "      <td>0.698023</td>\n",
              "      <td>42334.0</td>\n",
              "      <td>1.0</td>\n",
              "      <td>431</td>\n",
              "      <td>3622</td>\n",
              "      <td>F</td>\n",
              "      <td>2079-11-28</td>\n",
              "      <td>2166-02-12</td>\n",
              "      <td>2166-02-12</td>\n",
              "      <td>NaT</td>\n",
              "      <td>1</td>\n",
              "      <td>4604</td>\n",
              "      <td>2166-02-11 21:36:00</td>\n",
              "      <td>2166-02-12 12:00:00</td>\n",
              "      <td>2166-02-12 12:00:00</td>\n",
              "      <td>EMERGENCY</td>\n",
              "      <td>EMERGENCY ROOM ADMIT</td>\n",
              "      <td>DEAD/EXPIRED</td>\n",
              "      <td>Medicare</td>\n",
              "      <td>None</td>\n",
              "      <td>UNOBTAINABLE</td>\n",
              "      <td>SINGLE</td>\n",
              "      <td>WHITE</td>\n",
              "      <td>2166-02-11 19:40:00</td>\n",
              "      <td>2166-02-11 22:39:00</td>\n",
              "      <td>HEAD BLEED</td>\n",
              "      <td>1</td>\n",
              "      <td>1</td>\n",
              "      <td>3.0</td>\n",
              "      <td>1.0</td>\n",
              "      <td>1.0</td>\n",
              "      <td>1.0</td>\n",
              "      <td>0.0</td>\n",
              "      <td>Tuesday</td>\n",
              "      <td>Wednesday</td>\n",
              "      <td>Tuesday</td>\n",
              "      <td>1</td>\n",
              "      <td>Thursday</td>\n",
              "      <td>weekday</td>\n",
              "      <td>-1 days +12:00:00</td>\n",
              "      <td>short_survival</td>\n",
              "      <td>1</td>\n",
              "      <td>False</td>\n",
              "      <td>emergency</td>\n",
              "      <td>1</td>\n",
              "      <td>0</td>\n",
              "    </tr>\n",
              "    <tr>\n",
              "      <th>13</th>\n",
              "      <td>3852</td>\n",
              "      <td>120524</td>\n",
              "      <td>263430</td>\n",
              "      <td>M</td>\n",
              "      <td>2149-12-26 14:48:00</td>\n",
              "      <td>2150-01-01 13:22:00</td>\n",
              "      <td>6</td>\n",
              "      <td>80</td>\n",
              "      <td>EMERGENCY</td>\n",
              "      <td>1</td>\n",
              "      <td>2149-12-26 14:50:09</td>\n",
              "      <td>2150-01-01 17:21:58</td>\n",
              "      <td>6.0</td>\n",
              "      <td>CSRU</td>\n",
              "      <td>1</td>\n",
              "      <td>66</td>\n",
              "      <td>0.903819</td>\n",
              "      <td>42521.0</td>\n",
              "      <td>1.0</td>\n",
              "      <td>43491</td>\n",
              "      <td>3641</td>\n",
              "      <td>M</td>\n",
              "      <td>2069-08-20</td>\n",
              "      <td>2150-01-01</td>\n",
              "      <td>2150-01-01</td>\n",
              "      <td>2150-01-01</td>\n",
              "      <td>1</td>\n",
              "      <td>4625</td>\n",
              "      <td>2149-12-26 14:48:00</td>\n",
              "      <td>2150-01-01 13:22:00</td>\n",
              "      <td>2150-01-01 13:22:00</td>\n",
              "      <td>EMERGENCY</td>\n",
              "      <td>TRANSFER FROM HOSP/EXTRAM</td>\n",
              "      <td>DEAD/EXPIRED</td>\n",
              "      <td>Medicare</td>\n",
              "      <td>HIND</td>\n",
              "      <td>UNOBTAINABLE</td>\n",
              "      <td>WIDOWED</td>\n",
              "      <td>OTHER</td>\n",
              "      <td>NaT</td>\n",
              "      <td>NaT</td>\n",
              "      <td>THORACIC AORTIC ANEURYSM</td>\n",
              "      <td>1</td>\n",
              "      <td>1</td>\n",
              "      <td>3.0</td>\n",
              "      <td>1.0</td>\n",
              "      <td>1.0</td>\n",
              "      <td>1.0</td>\n",
              "      <td>0.0</td>\n",
              "      <td>Friday</td>\n",
              "      <td>Thursday</td>\n",
              "      <td>Friday</td>\n",
              "      <td>4</td>\n",
              "      <td>Thursday</td>\n",
              "      <td>weekday</td>\n",
              "      <td>-1 days +10:38:00</td>\n",
              "      <td>short_survival</td>\n",
              "      <td>1</td>\n",
              "      <td>False</td>\n",
              "      <td>emergency</td>\n",
              "      <td>1</td>\n",
              "      <td>0</td>\n",
              "    </tr>\n",
              "    <tr>\n",
              "      <th>14</th>\n",
              "      <td>4076</td>\n",
              "      <td>137717</td>\n",
              "      <td>208541</td>\n",
              "      <td>M</td>\n",
              "      <td>2199-12-27 22:51:00</td>\n",
              "      <td>2200-01-07 10:04:00</td>\n",
              "      <td>11</td>\n",
              "      <td>50</td>\n",
              "      <td>EMERGENCY</td>\n",
              "      <td>0</td>\n",
              "      <td>2199-12-28 07:50:00</td>\n",
              "      <td>2200-01-01 21:06:00</td>\n",
              "      <td>4.0</td>\n",
              "      <td>SICU</td>\n",
              "      <td>0</td>\n",
              "      <td>13</td>\n",
              "      <td>0.010803</td>\n",
              "      <td>45636.0</td>\n",
              "      <td>1.0</td>\n",
              "      <td>430</td>\n",
              "      <td>3852</td>\n",
              "      <td>M</td>\n",
              "      <td>2149-11-12</td>\n",
              "      <td>2200-01-28</td>\n",
              "      <td>2200-01-28</td>\n",
              "      <td>2200-01-28</td>\n",
              "      <td>1</td>\n",
              "      <td>4941</td>\n",
              "      <td>2199-12-27 22:51:00</td>\n",
              "      <td>2200-01-07 10:04:00</td>\n",
              "      <td>NaT</td>\n",
              "      <td>EMERGENCY</td>\n",
              "      <td>EMERGENCY ROOM ADMIT</td>\n",
              "      <td>HOME</td>\n",
              "      <td>Private</td>\n",
              "      <td>None</td>\n",
              "      <td>CATHOLIC</td>\n",
              "      <td>MARRIED</td>\n",
              "      <td>UNKNOWN/NOT SPECIFIED</td>\n",
              "      <td>2199-12-27 06:33:00</td>\n",
              "      <td>2199-12-27 11:25:00</td>\n",
              "      <td>SAH</td>\n",
              "      <td>0</td>\n",
              "      <td>1</td>\n",
              "      <td>15.0</td>\n",
              "      <td>6.0</td>\n",
              "      <td>5.0</td>\n",
              "      <td>4.0</td>\n",
              "      <td>0.0</td>\n",
              "      <td>Friday</td>\n",
              "      <td>Tuesday</td>\n",
              "      <td>Saturday</td>\n",
              "      <td>5</td>\n",
              "      <td>Wednesday</td>\n",
              "      <td>weekend</td>\n",
              "      <td>20 days 13:56:00</td>\n",
              "      <td>short_survival</td>\n",
              "      <td>1</td>\n",
              "      <td>True</td>\n",
              "      <td>emergency</td>\n",
              "      <td>1</td>\n",
              "      <td>1</td>\n",
              "    </tr>\n",
              "    <tr>\n",
              "      <th>15</th>\n",
              "      <td>4339</td>\n",
              "      <td>178315</td>\n",
              "      <td>276382</td>\n",
              "      <td>F</td>\n",
              "      <td>2134-02-16 04:01:00</td>\n",
              "      <td>2134-02-16 12:00:00</td>\n",
              "      <td>0</td>\n",
              "      <td>86</td>\n",
              "      <td>EMERGENCY</td>\n",
              "      <td>1</td>\n",
              "      <td>2134-02-16 04:01:43</td>\n",
              "      <td>2134-02-17 00:37:28</td>\n",
              "      <td>1.0</td>\n",
              "      <td>SICU</td>\n",
              "      <td>1</td>\n",
              "      <td>53</td>\n",
              "      <td>0.641734</td>\n",
              "      <td>48545.0</td>\n",
              "      <td>1.0</td>\n",
              "      <td>430</td>\n",
              "      <td>4102</td>\n",
              "      <td>F</td>\n",
              "      <td>2048-03-21</td>\n",
              "      <td>2134-02-16</td>\n",
              "      <td>2134-02-16</td>\n",
              "      <td>2134-02-16</td>\n",
              "      <td>1</td>\n",
              "      <td>5258</td>\n",
              "      <td>2134-02-16 04:01:00</td>\n",
              "      <td>2134-02-16 12:00:00</td>\n",
              "      <td>2134-02-16 12:00:00</td>\n",
              "      <td>EMERGENCY</td>\n",
              "      <td>EMERGENCY ROOM ADMIT</td>\n",
              "      <td>DEAD/EXPIRED</td>\n",
              "      <td>Medicare</td>\n",
              "      <td>None</td>\n",
              "      <td>CATHOLIC</td>\n",
              "      <td>SINGLE</td>\n",
              "      <td>WHITE</td>\n",
              "      <td>2134-02-16 00:25:00</td>\n",
              "      <td>2134-02-16 04:56:00</td>\n",
              "      <td>SUBARACHNOID HEMORRHAGE,ANEURYSM</td>\n",
              "      <td>1</td>\n",
              "      <td>1</td>\n",
              "      <td>3.0</td>\n",
              "      <td>1.0</td>\n",
              "      <td>1.0</td>\n",
              "      <td>1.0</td>\n",
              "      <td>0.0</td>\n",
              "      <td>Tuesday</td>\n",
              "      <td>Tuesday</td>\n",
              "      <td>Tuesday</td>\n",
              "      <td>1</td>\n",
              "      <td>Wednesday</td>\n",
              "      <td>weekday</td>\n",
              "      <td>-1 days +12:00:00</td>\n",
              "      <td>short_survival</td>\n",
              "      <td>1</td>\n",
              "      <td>False</td>\n",
              "      <td>emergency</td>\n",
              "      <td>1</td>\n",
              "      <td>0</td>\n",
              "    </tr>\n",
              "    <tr>\n",
              "      <th>16</th>\n",
              "      <td>4759</td>\n",
              "      <td>179664</td>\n",
              "      <td>268219</td>\n",
              "      <td>F</td>\n",
              "      <td>2180-06-19 19:34:00</td>\n",
              "      <td>2180-08-09 18:31:00</td>\n",
              "      <td>51</td>\n",
              "      <td>70</td>\n",
              "      <td>EMERGENCY</td>\n",
              "      <td>0</td>\n",
              "      <td>2180-06-19 19:35:00</td>\n",
              "      <td>2180-07-14 16:31:19</td>\n",
              "      <td>25.0</td>\n",
              "      <td>MICU</td>\n",
              "      <td>0</td>\n",
              "      <td>54</td>\n",
              "      <td>0.670490</td>\n",
              "      <td>52958.0</td>\n",
              "      <td>5.0</td>\n",
              "      <td>43491</td>\n",
              "      <td>4506</td>\n",
              "      <td>F</td>\n",
              "      <td>2110-09-11</td>\n",
              "      <td>NaT</td>\n",
              "      <td>NaT</td>\n",
              "      <td>NaT</td>\n",
              "      <td>0</td>\n",
              "      <td>5756</td>\n",
              "      <td>2180-06-19 19:34:00</td>\n",
              "      <td>2180-08-09 18:31:00</td>\n",
              "      <td>NaT</td>\n",
              "      <td>EMERGENCY</td>\n",
              "      <td>EMERGENCY ROOM ADMIT</td>\n",
              "      <td>SNF</td>\n",
              "      <td>Private</td>\n",
              "      <td>None</td>\n",
              "      <td>NOT SPECIFIED</td>\n",
              "      <td>WIDOWED</td>\n",
              "      <td>BLACK/AFRICAN AMERICAN</td>\n",
              "      <td>2180-06-19 13:24:00</td>\n",
              "      <td>2180-06-19 22:42:00</td>\n",
              "      <td>CONGESTIVE HEART FAILURE;CHRONIC RENAL INSUFFI...</td>\n",
              "      <td>0</td>\n",
              "      <td>1</td>\n",
              "      <td>5.0</td>\n",
              "      <td>1.0</td>\n",
              "      <td>2.0</td>\n",
              "      <td>2.0</td>\n",
              "      <td>0.0</td>\n",
              "      <td>Monday</td>\n",
              "      <td>Wednesday</td>\n",
              "      <td>Monday</td>\n",
              "      <td>0</td>\n",
              "      <td>Friday</td>\n",
              "      <td>weekday</td>\n",
              "      <td>NaT</td>\n",
              "      <td>long_survival</td>\n",
              "      <td>0</td>\n",
              "      <td>False</td>\n",
              "      <td>emergency</td>\n",
              "      <td>1</td>\n",
              "      <td>0</td>\n",
              "    </tr>\n",
              "    <tr>\n",
              "      <th>17</th>\n",
              "      <td>4988</td>\n",
              "      <td>124961</td>\n",
              "      <td>264875</td>\n",
              "      <td>F</td>\n",
              "      <td>2139-05-27 01:39:00</td>\n",
              "      <td>2139-05-29 01:20:00</td>\n",
              "      <td>2</td>\n",
              "      <td>88</td>\n",
              "      <td>EMERGENCY</td>\n",
              "      <td>1</td>\n",
              "      <td>2139-05-27 01:41:45</td>\n",
              "      <td>2139-05-28 21:17:12</td>\n",
              "      <td>1.0</td>\n",
              "      <td>SICU</td>\n",
              "      <td>0</td>\n",
              "      <td>53</td>\n",
              "      <td>0.641734</td>\n",
              "      <td>55684.0</td>\n",
              "      <td>1.0</td>\n",
              "      <td>43491</td>\n",
              "      <td>4730</td>\n",
              "      <td>F</td>\n",
              "      <td>2051-03-17</td>\n",
              "      <td>2139-05-29</td>\n",
              "      <td>2139-05-29</td>\n",
              "      <td>2139-05-29</td>\n",
              "      <td>1</td>\n",
              "      <td>6051</td>\n",
              "      <td>2139-05-27 01:39:00</td>\n",
              "      <td>2139-05-29 01:20:00</td>\n",
              "      <td>2139-05-29 01:20:00</td>\n",
              "      <td>EMERGENCY</td>\n",
              "      <td>EMERGENCY ROOM ADMIT</td>\n",
              "      <td>DEAD/EXPIRED</td>\n",
              "      <td>Medicare</td>\n",
              "      <td>None</td>\n",
              "      <td>OTHER</td>\n",
              "      <td>WIDOWED</td>\n",
              "      <td>WHITE</td>\n",
              "      <td>2139-05-26 17:58:00</td>\n",
              "      <td>2139-05-27 02:50:00</td>\n",
              "      <td>STATUS EPILEPTICUS</td>\n",
              "      <td>1</td>\n",
              "      <td>1</td>\n",
              "      <td>3.0</td>\n",
              "      <td>1.0</td>\n",
              "      <td>1.0</td>\n",
              "      <td>1.0</td>\n",
              "      <td>0.0</td>\n",
              "      <td>Wednesday</td>\n",
              "      <td>Friday</td>\n",
              "      <td>Wednesday</td>\n",
              "      <td>2</td>\n",
              "      <td>Thursday</td>\n",
              "      <td>weekday</td>\n",
              "      <td>-1 days +22:40:00</td>\n",
              "      <td>short_survival</td>\n",
              "      <td>1</td>\n",
              "      <td>False</td>\n",
              "      <td>emergency</td>\n",
              "      <td>1</td>\n",
              "      <td>0</td>\n",
              "    </tr>\n",
              "    <tr>\n",
              "      <th>18</th>\n",
              "      <td>5307</td>\n",
              "      <td>168261</td>\n",
              "      <td>213258</td>\n",
              "      <td>M</td>\n",
              "      <td>2147-12-05 13:32:00</td>\n",
              "      <td>2148-01-04 09:43:00</td>\n",
              "      <td>30</td>\n",
              "      <td>73</td>\n",
              "      <td>EMERGENCY</td>\n",
              "      <td>0</td>\n",
              "      <td>2147-12-05 13:33:00</td>\n",
              "      <td>2148-01-04 09:43:00</td>\n",
              "      <td>30.0</td>\n",
              "      <td>CCU</td>\n",
              "      <td>0</td>\n",
              "      <td>52</td>\n",
              "      <td>0.611922</td>\n",
              "      <td>59419.0</td>\n",
              "      <td>1.0</td>\n",
              "      <td>431</td>\n",
              "      <td>5030</td>\n",
              "      <td>M</td>\n",
              "      <td>2074-11-18</td>\n",
              "      <td>2152-08-26</td>\n",
              "      <td>NaT</td>\n",
              "      <td>2152-08-26</td>\n",
              "      <td>1</td>\n",
              "      <td>6455</td>\n",
              "      <td>2147-12-05 13:32:00</td>\n",
              "      <td>2148-01-04 09:43:00</td>\n",
              "      <td>None</td>\n",
              "      <td>EMERGENCY</td>\n",
              "      <td>EMERGENCY ROOM ADMIT</td>\n",
              "      <td>DISC-TRAN CANCER/CHLDRN H</td>\n",
              "      <td>Medicare</td>\n",
              "      <td>None</td>\n",
              "      <td>JEWISH</td>\n",
              "      <td>MARRIED</td>\n",
              "      <td>WHITE</td>\n",
              "      <td>2147-12-05 09:14:00</td>\n",
              "      <td>2147-12-05 14:37:00</td>\n",
              "      <td>ICH</td>\n",
              "      <td>0</td>\n",
              "      <td>1</td>\n",
              "      <td>6.0</td>\n",
              "      <td>4.0</td>\n",
              "      <td>1.0</td>\n",
              "      <td>1.0</td>\n",
              "      <td>0.0</td>\n",
              "      <td>Tuesday</td>\n",
              "      <td>Thursday</td>\n",
              "      <td>Tuesday</td>\n",
              "      <td>1</td>\n",
              "      <td>Thursday</td>\n",
              "      <td>weekday</td>\n",
              "      <td>1695 days 14:17:00</td>\n",
              "      <td>long_survival</td>\n",
              "      <td>0</td>\n",
              "      <td>False</td>\n",
              "      <td>emergency</td>\n",
              "      <td>1</td>\n",
              "      <td>0</td>\n",
              "    </tr>\n",
              "    <tr>\n",
              "      <th>19</th>\n",
              "      <td>5659</td>\n",
              "      <td>182307</td>\n",
              "      <td>283858</td>\n",
              "      <td>M</td>\n",
              "      <td>2149-09-17 21:03:00</td>\n",
              "      <td>2149-10-09 16:40:00</td>\n",
              "      <td>22</td>\n",
              "      <td>81</td>\n",
              "      <td>EMERGENCY</td>\n",
              "      <td>0</td>\n",
              "      <td>2149-09-23 10:28:21</td>\n",
              "      <td>2149-10-03 16:45:43</td>\n",
              "      <td>10.0</td>\n",
              "      <td>CSRU</td>\n",
              "      <td>0</td>\n",
              "      <td>51</td>\n",
              "      <td>0.581248</td>\n",
              "      <td>63256.0</td>\n",
              "      <td>3.0</td>\n",
              "      <td>43411</td>\n",
              "      <td>5357</td>\n",
              "      <td>M</td>\n",
              "      <td>2068-03-11</td>\n",
              "      <td>NaT</td>\n",
              "      <td>NaT</td>\n",
              "      <td>NaT</td>\n",
              "      <td>0</td>\n",
              "      <td>6879</td>\n",
              "      <td>2149-09-17 21:03:00</td>\n",
              "      <td>2149-10-09 16:40:00</td>\n",
              "      <td>None</td>\n",
              "      <td>EMERGENCY</td>\n",
              "      <td>EMERGENCY ROOM ADMIT</td>\n",
              "      <td>REHAB/DISTINCT PART HOSP</td>\n",
              "      <td>Medicare</td>\n",
              "      <td>None</td>\n",
              "      <td>CATHOLIC</td>\n",
              "      <td>MARRIED</td>\n",
              "      <td>WHITE</td>\n",
              "      <td>2149-09-17 12:26:00</td>\n",
              "      <td>2149-09-17 22:45:00</td>\n",
              "      <td>AORTIC VALVE MALFUNCTIONING</td>\n",
              "      <td>0</td>\n",
              "      <td>1</td>\n",
              "      <td>8.0</td>\n",
              "      <td>5.0</td>\n",
              "      <td>1.0</td>\n",
              "      <td>2.0</td>\n",
              "      <td>0.0</td>\n",
              "      <td>Wednesday</td>\n",
              "      <td>Thursday</td>\n",
              "      <td>Tuesday</td>\n",
              "      <td>1</td>\n",
              "      <td>Friday</td>\n",
              "      <td>weekday</td>\n",
              "      <td>NaT</td>\n",
              "      <td>long_survival</td>\n",
              "      <td>0</td>\n",
              "      <td>False</td>\n",
              "      <td>emergency</td>\n",
              "      <td>1</td>\n",
              "      <td>0</td>\n",
              "    </tr>\n",
              "    <tr>\n",
              "      <th>20</th>\n",
              "      <td>5836</td>\n",
              "      <td>186607</td>\n",
              "      <td>287189</td>\n",
              "      <td>F</td>\n",
              "      <td>2158-11-19 06:04:00</td>\n",
              "      <td>2158-11-19 14:27:00</td>\n",
              "      <td>0</td>\n",
              "      <td>80</td>\n",
              "      <td>EMERGENCY</td>\n",
              "      <td>1</td>\n",
              "      <td>2158-11-19 06:05:10</td>\n",
              "      <td>2158-11-19 16:49:34</td>\n",
              "      <td>0.0</td>\n",
              "      <td>SICU</td>\n",
              "      <td>1</td>\n",
              "      <td>54</td>\n",
              "      <td>0.670490</td>\n",
              "      <td>65651.0</td>\n",
              "      <td>1.0</td>\n",
              "      <td>4329</td>\n",
              "      <td>5526</td>\n",
              "      <td>F</td>\n",
              "      <td>2078-03-02</td>\n",
              "      <td>2158-11-19</td>\n",
              "      <td>2158-11-19</td>\n",
              "      <td>2158-11-19</td>\n",
              "      <td>1</td>\n",
              "      <td>7136</td>\n",
              "      <td>2158-11-19 06:04:00</td>\n",
              "      <td>2158-11-19 14:27:00</td>\n",
              "      <td>2158-11-19 14:27:00</td>\n",
              "      <td>EMERGENCY</td>\n",
              "      <td>EMERGENCY ROOM ADMIT</td>\n",
              "      <td>DEAD/EXPIRED</td>\n",
              "      <td>Medicare</td>\n",
              "      <td>None</td>\n",
              "      <td>UNOBTAINABLE</td>\n",
              "      <td>WIDOWED</td>\n",
              "      <td>WHITE</td>\n",
              "      <td>2158-11-18 20:03:00</td>\n",
              "      <td>2158-11-19 06:21:00</td>\n",
              "      <td>INTRACRANIAL HEMORRHAGE</td>\n",
              "      <td>1</td>\n",
              "      <td>1</td>\n",
              "      <td>15.0</td>\n",
              "      <td>2.0</td>\n",
              "      <td>0.0</td>\n",
              "      <td>1.0</td>\n",
              "      <td>1.0</td>\n",
              "      <td>Sunday</td>\n",
              "      <td>Sunday</td>\n",
              "      <td>Sunday</td>\n",
              "      <td>6</td>\n",
              "      <td>Sunday</td>\n",
              "      <td>weekend</td>\n",
              "      <td>-1 days +09:33:00</td>\n",
              "      <td>short_survival</td>\n",
              "      <td>1</td>\n",
              "      <td>False</td>\n",
              "      <td>emergency</td>\n",
              "      <td>1</td>\n",
              "      <td>0</td>\n",
              "    </tr>\n",
              "  </tbody>\n",
              "</table>\n",
              "</div>"
            ],
            "text/plain": [
              "    subject_id  hadm_id  ...  adm_type_2_bool home_discharge_flag\n",
              "0          141   168006  ...                1                   0\n",
              "1          416   148709  ...                1                   1\n",
              "2          490   166850  ...                1                   0\n",
              "4          831   185983  ...                1                   0\n",
              "5         1054   183383  ...                1                   0\n",
              "6         1253   129963  ...                0                   1\n",
              "7         1381   181430  ...                1                   0\n",
              "8         1609   152284  ...                1                   0\n",
              "9         2035   146528  ...                1                   0\n",
              "10        3232   146611  ...                1                   0\n",
              "11        3808   194227  ...                1                   1\n",
              "12        3831   112264  ...                1                   0\n",
              "13        3852   120524  ...                1                   0\n",
              "14        4076   137717  ...                1                   1\n",
              "15        4339   178315  ...                1                   0\n",
              "16        4759   179664  ...                1                   0\n",
              "17        4988   124961  ...                1                   0\n",
              "18        5307   168261  ...                1                   0\n",
              "19        5659   182307  ...                1                   0\n",
              "20        5836   186607  ...                1                   0\n",
              "\n",
              "[20 rows x 62 columns]"
            ]
          },
          "metadata": {
            "tags": []
          },
          "execution_count": 184
        }
      ]
    },
    {
      "cell_type": "code",
      "metadata": {
        "id": "h_ZpN2WQywx0",
        "colab_type": "code",
        "outputId": "3ca9f1fc-8b28-4101-86b6-eda3989db68d",
        "colab": {
          "base_uri": "https://localhost:8080/",
          "height": 34
        }
      },
      "source": [
        "#True=discharged for home - Weekday\n",
        "df_filtered = data4[(data4.inday_icu_wkd == 'weekday') & (data4.home_discharge_bool == True)] \n",
        "df_filtered.shape[0]"
      ],
      "execution_count": 185,
      "outputs": [
        {
          "output_type": "execute_result",
          "data": {
            "text/plain": [
              "937"
            ]
          },
          "metadata": {
            "tags": []
          },
          "execution_count": 185
        }
      ]
    },
    {
      "cell_type": "code",
      "metadata": {
        "id": "7i0RPYuvWOQc",
        "colab_type": "code",
        "outputId": "8bbdf2bf-4864-4329-bcbf-36ac378ea447",
        "colab": {
          "base_uri": "https://localhost:8080/",
          "height": 34
        }
      },
      "source": [
        "#False=discharged for home - Weekend\n",
        "df_filtered = data4[(data4.inday_icu_wkd == 'weekend') & (data4.home_discharge_bool == True)] \n",
        "df_filtered.shape[0]"
      ],
      "execution_count": 186,
      "outputs": [
        {
          "output_type": "execute_result",
          "data": {
            "text/plain": [
              "234"
            ]
          },
          "metadata": {
            "tags": []
          },
          "execution_count": 186
        }
      ]
    },
    {
      "cell_type": "code",
      "metadata": {
        "id": "zK7HcOreWa_r",
        "colab_type": "code",
        "outputId": "2cb68be5-7de3-4c27-9488-983de0f4123b",
        "colab": {
          "base_uri": "https://localhost:8080/",
          "height": 34
        }
      },
      "source": [
        "#True=discharged for other facilities - Weekday\n",
        "df_filtered = data4[(data4.inday_icu_wkd == 'weekday') & (data4.home_discharge_bool == False)] \n",
        "df_filtered.shape[0]"
      ],
      "execution_count": 187,
      "outputs": [
        {
          "output_type": "execute_result",
          "data": {
            "text/plain": [
              "1934"
            ]
          },
          "metadata": {
            "tags": []
          },
          "execution_count": 187
        }
      ]
    },
    {
      "cell_type": "code",
      "metadata": {
        "id": "tGqy57n7WvG_",
        "colab_type": "code",
        "outputId": "23b271d4-86a0-491d-eb93-e680780701a4",
        "colab": {
          "base_uri": "https://localhost:8080/",
          "height": 34
        }
      },
      "source": [
        "#True=discharged for other facilities - Weekend\n",
        "df_filtered = data4[(data4.inday_icu_wkd == 'weekend') & (data4.home_discharge_bool == False)] \n",
        "df_filtered.shape[0]"
      ],
      "execution_count": 188,
      "outputs": [
        {
          "output_type": "execute_result",
          "data": {
            "text/plain": [
              "624"
            ]
          },
          "metadata": {
            "tags": []
          },
          "execution_count": 188
        }
      ]
    },
    {
      "cell_type": "code",
      "metadata": {
        "colab_type": "code",
        "outputId": "b65c2934-d916-40b8-bdf0-470d6bbec0b7",
        "id": "OjKAxT47FMGn",
        "colab": {
          "base_uri": "https://localhost:8080/",
          "height": 342
        }
      },
      "source": [
        "#NOT REQUIRED YET - IT WILL BE RUN LATER\n",
        "#Excluding age>300\n",
        "#For ICU mortality adjusting for admission type, age and sex\n",
        "adj_glm = smf.glm('home_discharge_bool ~ C(inday_icu_wkd) + C(admission_type_x) + admission_age +C(gender_x)', \n",
        "                     data=data4, family=sm.families.Binomial()).fit()\n",
        "adj_glm.summary2()\n",
        "# drop1(adj.glm,test=\"Chisq\")"
      ],
      "execution_count": 189,
      "outputs": [
        {
          "output_type": "execute_result",
          "data": {
            "text/html": [
              "<table class=\"simpletable\">\n",
              "<tr>\n",
              "        <td>Model:</td>                                    <td>GLM</td>                                  <td>AIC:</td>        <td>4352.4461</td> \n",
              "</tr>\n",
              "<tr>\n",
              "    <td>Link Function:</td>                               <td>logit</td>                                 <td>BIC:</td>       <td>-26277.1164</td>\n",
              "</tr>\n",
              "<tr>\n",
              "  <td>Dependent Variable:</td> <td>['home_discharge_bool[False]', 'home_discharge_bool[True]']</td> <td>Log-Likelihood:</td>   <td>-2170.2</td>  \n",
              "</tr>\n",
              "<tr>\n",
              "         <td>Date:</td>                             <td>2020-01-22 06:08</td>                          <td>LL-Null:</td>       <td>-2320.5</td>  \n",
              "</tr>\n",
              "<tr>\n",
              "   <td>No. Observations:</td>                             <td>3729</td>                                <td>Deviance:</td>      <td>4340.4</td>   \n",
              "</tr>\n",
              "<tr>\n",
              "       <td>Df Model:</td>                                   <td>5</td>                               <td>Pearson chi2:</td>   <td>3.69e+03</td>  \n",
              "</tr>\n",
              "<tr>\n",
              "     <td>Df Residuals:</td>                               <td>3723</td>                                 <td>Scale:</td>        <td>1.0000</td>   \n",
              "</tr>\n",
              "<tr>\n",
              "        <td>Method:</td>                                  <td>IRLS</td>                                    <td></td>              <td></td>      \n",
              "</tr>\n",
              "</table>\n",
              "<table class=\"simpletable\">\n",
              "<tr>\n",
              "                  <td></td>                  <th>Coef.</th>  <th>Std.Err.</th>     <th>z</th>     <th>P>|z|</th> <th>[0.025</th>  <th>0.975]</th> \n",
              "</tr>\n",
              "<tr>\n",
              "  <th>Intercept</th>                        <td>-2.6997</td>  <td>0.2205</td>  <td>-12.2420</td> <td>0.0000</td> <td>-3.1319</td> <td>-2.2675</td>\n",
              "</tr>\n",
              "<tr>\n",
              "  <th>C(inday_icu_wkd)[T.weekend]</th>      <td>0.2417</td>   <td>0.0909</td>   <td>2.6598</td>  <td>0.0078</td> <td>0.0636</td>  <td>0.4199</td> \n",
              "</tr>\n",
              "<tr>\n",
              "  <th>C(admission_type_x)[T.EMERGENCY]</th> <td>1.2104</td>   <td>0.1284</td>   <td>9.4257</td>  <td>0.0000</td> <td>0.9587</td>  <td>1.4621</td> \n",
              "</tr>\n",
              "<tr>\n",
              "  <th>C(admission_type_x)[T.URGENT]</th>    <td>0.8878</td>   <td>0.2625</td>   <td>3.3827</td>  <td>0.0007</td> <td>0.3734</td>  <td>1.4023</td> \n",
              "</tr>\n",
              "<tr>\n",
              "  <th>C(gender_x)[T.M]</th>                 <td>-0.0755</td>  <td>0.0742</td>   <td>-1.0169</td> <td>0.3092</td> <td>-0.2210</td> <td>0.0700</td> \n",
              "</tr>\n",
              "<tr>\n",
              "  <th>admission_age</th>                    <td>0.0362</td>   <td>0.0025</td>   <td>14.4137</td> <td>0.0000</td> <td>0.0313</td>  <td>0.0411</td> \n",
              "</tr>\n",
              "</table>"
            ],
            "text/plain": [
              "<class 'statsmodels.iolib.summary2.Summary'>\n",
              "\"\"\"\n",
              "                                     Results: Generalized linear model\n",
              "===========================================================================================================\n",
              "Model:              GLM                                                         AIC:            4352.4461  \n",
              "Link Function:      logit                                                       BIC:            -26277.1164\n",
              "Dependent Variable: ['home_discharge_bool[False]', 'home_discharge_bool[True]'] Log-Likelihood: -2170.2    \n",
              "Date:               2020-01-22 06:08                                            LL-Null:        -2320.5    \n",
              "No. Observations:   3729                                                        Deviance:       4340.4     \n",
              "Df Model:           5                                                           Pearson chi2:   3.69e+03   \n",
              "Df Residuals:       3723                                                        Scale:          1.0000     \n",
              "Method:             IRLS                                                                                   \n",
              "----------------------------------------------------------------------------------------------------------------\n",
              "                                        Coef.       Std.Err.         z          P>|z|        [0.025       0.975]\n",
              "----------------------------------------------------------------------------------------------------------------\n",
              "Intercept                              -2.6997        0.2205      -12.2420      0.0000      -3.1319      -2.2675\n",
              "C(inday_icu_wkd)[T.weekend]             0.2417        0.0909        2.6598      0.0078       0.0636       0.4199\n",
              "C(admission_type_x)[T.EMERGENCY]        1.2104        0.1284        9.4257      0.0000       0.9587       1.4621\n",
              "C(admission_type_x)[T.URGENT]           0.8878        0.2625        3.3827      0.0007       0.3734       1.4023\n",
              "C(gender_x)[T.M]                       -0.0755        0.0742       -1.0169      0.3092      -0.2210       0.0700\n",
              "admission_age                           0.0362        0.0025       14.4137      0.0000       0.0313       0.0411\n",
              "===========================================================================================================\n",
              "\n",
              "\"\"\""
            ]
          },
          "metadata": {
            "tags": []
          },
          "execution_count": 189
        }
      ]
    },
    {
      "cell_type": "markdown",
      "metadata": {
        "id": "wHDik8ZOFNIp",
        "colab_type": "text"
      },
      "source": [
        "##Exclusive of in-house mortality\n",
        "The statistics of only those who were discharged alive"
      ]
    },
    {
      "cell_type": "code",
      "metadata": {
        "id": "AxeIeStgJqyc",
        "colab_type": "code",
        "outputId": "3135c4c4-974d-45cd-9de1-045690b76902",
        "colab": {
          "base_uri": "https://localhost:8080/",
          "height": 206
        }
      },
      "source": [
        "#Verify resulting DF\n",
        "df_survived[['discharge_location', 'home_discharge_bool', 'inday_icu_wkd']].head()"
      ],
      "execution_count": 190,
      "outputs": [
        {
          "output_type": "execute_result",
          "data": {
            "text/html": [
              "<div>\n",
              "<style scoped>\n",
              "    .dataframe tbody tr th:only-of-type {\n",
              "        vertical-align: middle;\n",
              "    }\n",
              "\n",
              "    .dataframe tbody tr th {\n",
              "        vertical-align: top;\n",
              "    }\n",
              "\n",
              "    .dataframe thead th {\n",
              "        text-align: right;\n",
              "    }\n",
              "</style>\n",
              "<table border=\"1\" class=\"dataframe\">\n",
              "  <thead>\n",
              "    <tr style=\"text-align: right;\">\n",
              "      <th></th>\n",
              "      <th>discharge_location</th>\n",
              "      <th>home_discharge_bool</th>\n",
              "      <th>inday_icu_wkd</th>\n",
              "    </tr>\n",
              "  </thead>\n",
              "  <tbody>\n",
              "    <tr>\n",
              "      <th>1</th>\n",
              "      <td>HOME HEALTH CARE</td>\n",
              "      <td>1.0</td>\n",
              "      <td>weekday</td>\n",
              "    </tr>\n",
              "    <tr>\n",
              "      <th>4</th>\n",
              "      <td>REHAB/DISTINCT PART HOSP</td>\n",
              "      <td>0.0</td>\n",
              "      <td>weekday</td>\n",
              "    </tr>\n",
              "    <tr>\n",
              "      <th>6</th>\n",
              "      <td>HOME</td>\n",
              "      <td>1.0</td>\n",
              "      <td>weekday</td>\n",
              "    </tr>\n",
              "    <tr>\n",
              "      <th>9</th>\n",
              "      <td>SNF</td>\n",
              "      <td>0.0</td>\n",
              "      <td>weekday</td>\n",
              "    </tr>\n",
              "    <tr>\n",
              "      <th>11</th>\n",
              "      <td>HOME</td>\n",
              "      <td>1.0</td>\n",
              "      <td>weekday</td>\n",
              "    </tr>\n",
              "  </tbody>\n",
              "</table>\n",
              "</div>"
            ],
            "text/plain": [
              "          discharge_location  home_discharge_bool inday_icu_wkd\n",
              "1           HOME HEALTH CARE                  1.0       weekday\n",
              "4   REHAB/DISTINCT PART HOSP                  0.0       weekday\n",
              "6                       HOME                  1.0       weekday\n",
              "9                        SNF                  0.0       weekday\n",
              "11                      HOME                  1.0       weekday"
            ]
          },
          "metadata": {
            "tags": []
          },
          "execution_count": 190
        }
      ]
    },
    {
      "cell_type": "markdown",
      "metadata": {
        "id": "HZukVnDmMD0s",
        "colab_type": "text"
      },
      "source": [
        "###Summary"
      ]
    },
    {
      "cell_type": "code",
      "metadata": {
        "id": "bq7bofx_MHFZ",
        "colab_type": "code",
        "outputId": "5125d01b-74d9-4249-c5a7-1014e8db849d",
        "colab": {
          "base_uri": "https://localhost:8080/",
          "height": 34
        }
      },
      "source": [
        "#Surviving patients discharged for home (weekday ICU admission)\n",
        "df_filtered = df_survived[(df_survived.inday_icu_wkd == 'weekday') & (df_survived.home_discharge_bool == True)] \n",
        "df_filtered.shape[0]"
      ],
      "execution_count": 191,
      "outputs": [
        {
          "output_type": "execute_result",
          "data": {
            "text/plain": [
              "937"
            ]
          },
          "metadata": {
            "tags": []
          },
          "execution_count": 191
        }
      ]
    },
    {
      "cell_type": "code",
      "metadata": {
        "id": "wA3tgSPSMM86",
        "colab_type": "code",
        "outputId": "4909edce-bdf5-4229-b06f-40e03b9f70b4",
        "colab": {
          "base_uri": "https://localhost:8080/",
          "height": 34
        }
      },
      "source": [
        "#Surviving patients discharged for home (weekend ICU admission)\n",
        "df_filtered = df_survived[(df_survived.inday_icu_wkd == 'weekend') & (df_survived.home_discharge_bool == True)] \n",
        "df_filtered.shape[0]"
      ],
      "execution_count": 192,
      "outputs": [
        {
          "output_type": "execute_result",
          "data": {
            "text/plain": [
              "234"
            ]
          },
          "metadata": {
            "tags": []
          },
          "execution_count": 192
        }
      ]
    },
    {
      "cell_type": "code",
      "metadata": {
        "id": "LtblkXa_MQap",
        "colab_type": "code",
        "outputId": "3bc62e4e-bc46-4a24-ebee-6708633cb5e4",
        "colab": {
          "base_uri": "https://localhost:8080/",
          "height": 34
        }
      },
      "source": [
        "#Surviving patients discharged for other facilities (weekday ICU admission)\n",
        "df_filtered = df_survived[(df_survived.inday_icu_wkd == 'weekday') & (df_survived.home_discharge_bool == False)] \n",
        "df_filtered.shape[0]"
      ],
      "execution_count": 193,
      "outputs": [
        {
          "output_type": "execute_result",
          "data": {
            "text/plain": [
              "1361"
            ]
          },
          "metadata": {
            "tags": []
          },
          "execution_count": 193
        }
      ]
    },
    {
      "cell_type": "code",
      "metadata": {
        "id": "74XsLgThMZD7",
        "colab_type": "code",
        "outputId": "b8f21da6-2292-4acc-d5c1-fe3e3883a926",
        "colab": {
          "base_uri": "https://localhost:8080/",
          "height": 34
        }
      },
      "source": [
        "#Surviving patients discharged for other facilities (weekend ICU admission)\n",
        "df_filtered = df_survived[(df_survived.inday_icu_wkd == 'weekend') & (df_survived.home_discharge_bool == False)] \n",
        "df_filtered.shape[0]"
      ],
      "execution_count": 194,
      "outputs": [
        {
          "output_type": "execute_result",
          "data": {
            "text/plain": [
              "396"
            ]
          },
          "metadata": {
            "tags": []
          },
          "execution_count": 194
        }
      ]
    },
    {
      "cell_type": "markdown",
      "metadata": {
        "id": "X_QgRci-zAuz",
        "colab_type": "text"
      },
      "source": [
        "#Grouping Emergency and Elective into one category"
      ]
    },
    {
      "cell_type": "code",
      "metadata": {
        "id": "tP5gU-16zHRT",
        "colab_type": "code",
        "outputId": "dd234c78-ab0c-4b92-cc2b-ae6e1f3ac4c1",
        "colab": {
          "base_uri": "https://localhost:8080/",
          "height": 86
        }
      },
      "source": [
        "data4['admission_type_x'].value_counts(dropna=False)"
      ],
      "execution_count": 195,
      "outputs": [
        {
          "output_type": "execute_result",
          "data": {
            "text/plain": [
              "EMERGENCY    3352\n",
              "ELECTIVE      291\n",
              "URGENT         86\n",
              "Name: admission_type_x, dtype: int64"
            ]
          },
          "metadata": {
            "tags": []
          },
          "execution_count": 195
        }
      ]
    },
    {
      "cell_type": "code",
      "metadata": {
        "id": "x1E4I-60zeo1",
        "colab_type": "code",
        "outputId": "4d2d0075-f696-47a0-9f86-0d00fe487440",
        "colab": {
          "base_uri": "https://localhost:8080/",
          "height": 225
        }
      },
      "source": [
        "#admission_type_x\n",
        "data4.admission_type_x.str.contains('EMERGENCY')"
      ],
      "execution_count": 196,
      "outputs": [
        {
          "output_type": "execute_result",
          "data": {
            "text/plain": [
              "0       True\n",
              "1       True\n",
              "2       True\n",
              "4       True\n",
              "5       True\n",
              "        ... \n",
              "4316    True\n",
              "4318    True\n",
              "4319    True\n",
              "4320    True\n",
              "4321    True\n",
              "Name: admission_type_x, Length: 3729, dtype: bool"
            ]
          },
          "metadata": {
            "tags": []
          },
          "execution_count": 196
        }
      ]
    },
    {
      "cell_type": "code",
      "metadata": {
        "id": "ZZU7uTmbzhsI",
        "colab_type": "code",
        "outputId": "7ec43786-2044-428c-ab12-4436356210cd",
        "colab": {
          "base_uri": "https://localhost:8080/",
          "height": 1000
        }
      },
      "source": [
        "data4['adm_type_2'] = np.where(data4.admission_type_x == 'ELECTIVE', 'elective', 'emergency')\n",
        "data4.head(20)"
      ],
      "execution_count": 0,
      "outputs": [
        {
          "output_type": "execute_result",
          "data": {
            "text/html": [
              "<div>\n",
              "<style scoped>\n",
              "    .dataframe tbody tr th:only-of-type {\n",
              "        vertical-align: middle;\n",
              "    }\n",
              "\n",
              "    .dataframe tbody tr th {\n",
              "        vertical-align: top;\n",
              "    }\n",
              "\n",
              "    .dataframe thead th {\n",
              "        text-align: right;\n",
              "    }\n",
              "</style>\n",
              "<table border=\"1\" class=\"dataframe\">\n",
              "  <thead>\n",
              "    <tr style=\"text-align: right;\">\n",
              "      <th></th>\n",
              "      <th>subject_id</th>\n",
              "      <th>hadm_id</th>\n",
              "      <th>icustay_id</th>\n",
              "      <th>gender_x</th>\n",
              "      <th>admittime_hospital</th>\n",
              "      <th>dischtime_hospital</th>\n",
              "      <th>los_hospital</th>\n",
              "      <th>admission_age</th>\n",
              "      <th>admission_type_x</th>\n",
              "      <th>hospital_expire_flag_x</th>\n",
              "      <th>intime_icu</th>\n",
              "      <th>outtime_icu</th>\n",
              "      <th>los_icu</th>\n",
              "      <th>first_careunit</th>\n",
              "      <th>icustay_expire_flag</th>\n",
              "      <th>oasis</th>\n",
              "      <th>oasis_prob</th>\n",
              "      <th>row_id_x</th>\n",
              "      <th>seq_num</th>\n",
              "      <th>icd9_code</th>\n",
              "      <th>row_id_y</th>\n",
              "      <th>gender_y</th>\n",
              "      <th>dob</th>\n",
              "      <th>dod</th>\n",
              "      <th>dod_hosp</th>\n",
              "      <th>dod_ssn</th>\n",
              "      <th>expire_flag</th>\n",
              "      <th>row_id</th>\n",
              "      <th>admittime</th>\n",
              "      <th>dischtime</th>\n",
              "      <th>deathtime</th>\n",
              "      <th>admission_type_y</th>\n",
              "      <th>admission_location</th>\n",
              "      <th>discharge_location</th>\n",
              "      <th>insurance</th>\n",
              "      <th>language</th>\n",
              "      <th>religion</th>\n",
              "      <th>marital_status</th>\n",
              "      <th>ethnicity</th>\n",
              "      <th>edregtime</th>\n",
              "      <th>edouttime</th>\n",
              "      <th>diagnosis</th>\n",
              "      <th>hospital_expire_flag_y</th>\n",
              "      <th>has_chartevents_data</th>\n",
              "      <th>mingcs</th>\n",
              "      <th>gcsmotor</th>\n",
              "      <th>gcsverbal</th>\n",
              "      <th>gcseyes</th>\n",
              "      <th>endotrachflag</th>\n",
              "      <th>admitday_hospital</th>\n",
              "      <th>dischday_hospital</th>\n",
              "      <th>inday_icu</th>\n",
              "      <th>inday_icu_seq</th>\n",
              "      <th>outday_icu</th>\n",
              "      <th>inday_icu_wkd</th>\n",
              "      <th>survival_time</th>\n",
              "      <th>death_post_discharge_in_days</th>\n",
              "      <th>survival_time_flag</th>\n",
              "      <th>home_discharge_bool</th>\n",
              "      <th>adm_type_2</th>\n",
              "    </tr>\n",
              "  </thead>\n",
              "  <tbody>\n",
              "    <tr>\n",
              "      <th>0</th>\n",
              "      <td>141</td>\n",
              "      <td>168006</td>\n",
              "      <td>234668</td>\n",
              "      <td>M</td>\n",
              "      <td>2140-11-06 11:07:00</td>\n",
              "      <td>2140-11-09 20:36:00</td>\n",
              "      <td>3</td>\n",
              "      <td>80</td>\n",
              "      <td>EMERGENCY</td>\n",
              "      <td>1</td>\n",
              "      <td>2140-11-06 11:09:19</td>\n",
              "      <td>2140-11-09 22:35:29</td>\n",
              "      <td>3.0</td>\n",
              "      <td>MICU</td>\n",
              "      <td>1</td>\n",
              "      <td>53</td>\n",
              "      <td>0.641734</td>\n",
              "      <td>1784.0</td>\n",
              "      <td>2.0</td>\n",
              "      <td>43491</td>\n",
              "      <td>131</td>\n",
              "      <td>M</td>\n",
              "      <td>2060-05-03</td>\n",
              "      <td>2140-11-09</td>\n",
              "      <td>2140-11-09</td>\n",
              "      <td>2140-11-09</td>\n",
              "      <td>1</td>\n",
              "      <td>190</td>\n",
              "      <td>2140-11-06 11:07:00</td>\n",
              "      <td>2140-11-09 20:36:00</td>\n",
              "      <td>2140-11-09 20:36:00</td>\n",
              "      <td>EMERGENCY</td>\n",
              "      <td>EMERGENCY ROOM ADMIT</td>\n",
              "      <td>DEAD/EXPIRED</td>\n",
              "      <td>Medicare</td>\n",
              "      <td>None</td>\n",
              "      <td>OTHER</td>\n",
              "      <td>SINGLE</td>\n",
              "      <td>OTHER</td>\n",
              "      <td>2140-11-06 07:17:00</td>\n",
              "      <td>2140-11-06 12:07:00</td>\n",
              "      <td>DRA, SAH</td>\n",
              "      <td>1</td>\n",
              "      <td>1</td>\n",
              "      <td>14.0</td>\n",
              "      <td>6.0</td>\n",
              "      <td>4.0</td>\n",
              "      <td>4.0</td>\n",
              "      <td>0.0</td>\n",
              "      <td>Sunday</td>\n",
              "      <td>Wednesday</td>\n",
              "      <td>Sunday</td>\n",
              "      <td>6</td>\n",
              "      <td>Wednesday</td>\n",
              "      <td>weekend</td>\n",
              "      <td>-1 days +03:24:00</td>\n",
              "      <td>short_survival</td>\n",
              "      <td>1</td>\n",
              "      <td>False</td>\n",
              "      <td>emergency</td>\n",
              "    </tr>\n",
              "    <tr>\n",
              "      <th>1</th>\n",
              "      <td>416</td>\n",
              "      <td>148709</td>\n",
              "      <td>226936</td>\n",
              "      <td>F</td>\n",
              "      <td>2132-07-23 14:46:00</td>\n",
              "      <td>2132-08-11 17:19:00</td>\n",
              "      <td>19</td>\n",
              "      <td>56</td>\n",
              "      <td>EMERGENCY</td>\n",
              "      <td>0</td>\n",
              "      <td>2132-07-23 14:47:03</td>\n",
              "      <td>2132-08-08 17:03:29</td>\n",
              "      <td>16.0</td>\n",
              "      <td>MICU</td>\n",
              "      <td>0</td>\n",
              "      <td>55</td>\n",
              "      <td>0.698023</td>\n",
              "      <td>5023.0</td>\n",
              "      <td>1.0</td>\n",
              "      <td>430</td>\n",
              "      <td>392</td>\n",
              "      <td>F</td>\n",
              "      <td>2076-12-12</td>\n",
              "      <td>2136-11-11</td>\n",
              "      <td>NaT</td>\n",
              "      <td>2136-11-11</td>\n",
              "      <td>1</td>\n",
              "      <td>532</td>\n",
              "      <td>2132-07-23 14:46:00</td>\n",
              "      <td>2132-08-11 17:19:00</td>\n",
              "      <td>NaT</td>\n",
              "      <td>EMERGENCY</td>\n",
              "      <td>EMERGENCY ROOM ADMIT</td>\n",
              "      <td>HOME HEALTH CARE</td>\n",
              "      <td>Medicaid</td>\n",
              "      <td>HAIT</td>\n",
              "      <td>UNOBTAINABLE</td>\n",
              "      <td>MARRIED</td>\n",
              "      <td>BLACK/AFRICAN AMERICAN</td>\n",
              "      <td>2132-07-23 09:26:00</td>\n",
              "      <td>2132-07-23 15:08:00</td>\n",
              "      <td>SAH</td>\n",
              "      <td>0</td>\n",
              "      <td>1</td>\n",
              "      <td>13.0</td>\n",
              "      <td>6.0</td>\n",
              "      <td>4.0</td>\n",
              "      <td>3.0</td>\n",
              "      <td>0.0</td>\n",
              "      <td>Wednesday</td>\n",
              "      <td>Monday</td>\n",
              "      <td>Wednesday</td>\n",
              "      <td>2</td>\n",
              "      <td>Friday</td>\n",
              "      <td>weekday</td>\n",
              "      <td>1552 days 06:41:00</td>\n",
              "      <td>long_survival</td>\n",
              "      <td>0</td>\n",
              "      <td>True</td>\n",
              "      <td>emergency</td>\n",
              "    </tr>\n",
              "    <tr>\n",
              "      <th>2</th>\n",
              "      <td>490</td>\n",
              "      <td>166850</td>\n",
              "      <td>222952</td>\n",
              "      <td>M</td>\n",
              "      <td>2199-12-12 19:04:00</td>\n",
              "      <td>2199-12-13 20:33:00</td>\n",
              "      <td>1</td>\n",
              "      <td>87</td>\n",
              "      <td>EMERGENCY</td>\n",
              "      <td>1</td>\n",
              "      <td>2199-12-12 21:15:58</td>\n",
              "      <td>2199-12-13 20:33:59</td>\n",
              "      <td>1.0</td>\n",
              "      <td>SICU</td>\n",
              "      <td>1</td>\n",
              "      <td>58</td>\n",
              "      <td>0.772134</td>\n",
              "      <td>5788.0</td>\n",
              "      <td>1.0</td>\n",
              "      <td>43491</td>\n",
              "      <td>463</td>\n",
              "      <td>M</td>\n",
              "      <td>2112-11-20</td>\n",
              "      <td>2199-12-13</td>\n",
              "      <td>2199-12-13</td>\n",
              "      <td>2199-12-13</td>\n",
              "      <td>1</td>\n",
              "      <td>615</td>\n",
              "      <td>2199-12-12 19:04:00</td>\n",
              "      <td>2199-12-13 20:33:00</td>\n",
              "      <td>2199-12-13 20:33:00</td>\n",
              "      <td>EMERGENCY</td>\n",
              "      <td>EMERGENCY ROOM ADMIT</td>\n",
              "      <td>DEAD/EXPIRED</td>\n",
              "      <td>Medicare</td>\n",
              "      <td>None</td>\n",
              "      <td>UNOBTAINABLE</td>\n",
              "      <td>MARRIED</td>\n",
              "      <td>WHITE</td>\n",
              "      <td>2199-12-12 17:13:00</td>\n",
              "      <td>2199-12-12 22:06:00</td>\n",
              "      <td>CEREBRAL VASCULAR ACCIDENT</td>\n",
              "      <td>1</td>\n",
              "      <td>1</td>\n",
              "      <td>6.0</td>\n",
              "      <td>4.0</td>\n",
              "      <td>1.0</td>\n",
              "      <td>1.0</td>\n",
              "      <td>0.0</td>\n",
              "      <td>Thursday</td>\n",
              "      <td>Friday</td>\n",
              "      <td>Thursday</td>\n",
              "      <td>3</td>\n",
              "      <td>Friday</td>\n",
              "      <td>weekday</td>\n",
              "      <td>-1 days +03:27:00</td>\n",
              "      <td>short_survival</td>\n",
              "      <td>1</td>\n",
              "      <td>False</td>\n",
              "      <td>emergency</td>\n",
              "    </tr>\n",
              "    <tr>\n",
              "      <th>3</th>\n",
              "      <td>490</td>\n",
              "      <td>166850</td>\n",
              "      <td>222952</td>\n",
              "      <td>M</td>\n",
              "      <td>2199-12-12 19:04:00</td>\n",
              "      <td>2199-12-13 20:33:00</td>\n",
              "      <td>1</td>\n",
              "      <td>87</td>\n",
              "      <td>EMERGENCY</td>\n",
              "      <td>1</td>\n",
              "      <td>2199-12-12 21:15:58</td>\n",
              "      <td>2199-12-13 20:33:59</td>\n",
              "      <td>1.0</td>\n",
              "      <td>SICU</td>\n",
              "      <td>1</td>\n",
              "      <td>58</td>\n",
              "      <td>0.772134</td>\n",
              "      <td>5789.0</td>\n",
              "      <td>2.0</td>\n",
              "      <td>431</td>\n",
              "      <td>463</td>\n",
              "      <td>M</td>\n",
              "      <td>2112-11-20</td>\n",
              "      <td>2199-12-13</td>\n",
              "      <td>2199-12-13</td>\n",
              "      <td>2199-12-13</td>\n",
              "      <td>1</td>\n",
              "      <td>615</td>\n",
              "      <td>2199-12-12 19:04:00</td>\n",
              "      <td>2199-12-13 20:33:00</td>\n",
              "      <td>2199-12-13 20:33:00</td>\n",
              "      <td>EMERGENCY</td>\n",
              "      <td>EMERGENCY ROOM ADMIT</td>\n",
              "      <td>DEAD/EXPIRED</td>\n",
              "      <td>Medicare</td>\n",
              "      <td>None</td>\n",
              "      <td>UNOBTAINABLE</td>\n",
              "      <td>MARRIED</td>\n",
              "      <td>WHITE</td>\n",
              "      <td>2199-12-12 17:13:00</td>\n",
              "      <td>2199-12-12 22:06:00</td>\n",
              "      <td>CEREBRAL VASCULAR ACCIDENT</td>\n",
              "      <td>1</td>\n",
              "      <td>1</td>\n",
              "      <td>6.0</td>\n",
              "      <td>4.0</td>\n",
              "      <td>1.0</td>\n",
              "      <td>1.0</td>\n",
              "      <td>0.0</td>\n",
              "      <td>Thursday</td>\n",
              "      <td>Friday</td>\n",
              "      <td>Thursday</td>\n",
              "      <td>3</td>\n",
              "      <td>Friday</td>\n",
              "      <td>weekday</td>\n",
              "      <td>-1 days +03:27:00</td>\n",
              "      <td>short_survival</td>\n",
              "      <td>1</td>\n",
              "      <td>False</td>\n",
              "      <td>emergency</td>\n",
              "    </tr>\n",
              "    <tr>\n",
              "      <th>4</th>\n",
              "      <td>831</td>\n",
              "      <td>185983</td>\n",
              "      <td>223445</td>\n",
              "      <td>F</td>\n",
              "      <td>2151-06-30 09:44:00</td>\n",
              "      <td>2151-07-15 13:50:00</td>\n",
              "      <td>15</td>\n",
              "      <td>84</td>\n",
              "      <td>EMERGENCY</td>\n",
              "      <td>0</td>\n",
              "      <td>2151-06-30 09:44:47</td>\n",
              "      <td>2151-07-03 18:15:14</td>\n",
              "      <td>3.0</td>\n",
              "      <td>SICU</td>\n",
              "      <td>0</td>\n",
              "      <td>51</td>\n",
              "      <td>0.581248</td>\n",
              "      <td>9671.0</td>\n",
              "      <td>1.0</td>\n",
              "      <td>431</td>\n",
              "      <td>784</td>\n",
              "      <td>F</td>\n",
              "      <td>2067-05-06</td>\n",
              "      <td>2151-09-10</td>\n",
              "      <td>NaT</td>\n",
              "      <td>2151-09-10</td>\n",
              "      <td>1</td>\n",
              "      <td>1031</td>\n",
              "      <td>2151-06-30 09:44:00</td>\n",
              "      <td>2151-07-15 13:50:00</td>\n",
              "      <td>None</td>\n",
              "      <td>EMERGENCY</td>\n",
              "      <td>EMERGENCY ROOM ADMIT</td>\n",
              "      <td>REHAB/DISTINCT PART HOSP</td>\n",
              "      <td>Medicare</td>\n",
              "      <td>None</td>\n",
              "      <td>JEWISH</td>\n",
              "      <td>WIDOWED</td>\n",
              "      <td>WHITE</td>\n",
              "      <td>2151-06-30 08:22:00</td>\n",
              "      <td>2151-06-30 11:10:00</td>\n",
              "      <td>STROKE/TIA</td>\n",
              "      <td>0</td>\n",
              "      <td>1</td>\n",
              "      <td>7.0</td>\n",
              "      <td>4.0</td>\n",
              "      <td>1.0</td>\n",
              "      <td>2.0</td>\n",
              "      <td>0.0</td>\n",
              "      <td>Wednesday</td>\n",
              "      <td>Thursday</td>\n",
              "      <td>Wednesday</td>\n",
              "      <td>2</td>\n",
              "      <td>Saturday</td>\n",
              "      <td>weekday</td>\n",
              "      <td>56 days 10:10:00</td>\n",
              "      <td>short_survival</td>\n",
              "      <td>1</td>\n",
              "      <td>False</td>\n",
              "      <td>emergency</td>\n",
              "    </tr>\n",
              "    <tr>\n",
              "      <th>5</th>\n",
              "      <td>1054</td>\n",
              "      <td>183383</td>\n",
              "      <td>288218</td>\n",
              "      <td>M</td>\n",
              "      <td>2157-01-06 17:16:00</td>\n",
              "      <td>2157-01-08 15:00:00</td>\n",
              "      <td>2</td>\n",
              "      <td>79</td>\n",
              "      <td>EMERGENCY</td>\n",
              "      <td>1</td>\n",
              "      <td>2157-01-06 17:17:38</td>\n",
              "      <td>2157-01-07 22:01:06</td>\n",
              "      <td>1.0</td>\n",
              "      <td>SICU</td>\n",
              "      <td>0</td>\n",
              "      <td>51</td>\n",
              "      <td>0.581248</td>\n",
              "      <td>12291.0</td>\n",
              "      <td>1.0</td>\n",
              "      <td>430</td>\n",
              "      <td>998</td>\n",
              "      <td>M</td>\n",
              "      <td>2078-07-15</td>\n",
              "      <td>2157-01-08</td>\n",
              "      <td>2157-01-08</td>\n",
              "      <td>NaT</td>\n",
              "      <td>1</td>\n",
              "      <td>1310</td>\n",
              "      <td>2157-01-06 17:16:00</td>\n",
              "      <td>2157-01-08 15:00:00</td>\n",
              "      <td>2157-01-08 15:00:00</td>\n",
              "      <td>EMERGENCY</td>\n",
              "      <td>EMERGENCY ROOM ADMIT</td>\n",
              "      <td>DEAD/EXPIRED</td>\n",
              "      <td>Medicare</td>\n",
              "      <td>None</td>\n",
              "      <td>PROTESTANT QUAKER</td>\n",
              "      <td>MARRIED</td>\n",
              "      <td>WHITE</td>\n",
              "      <td>2157-01-06 14:49:00</td>\n",
              "      <td>2157-01-06 18:36:00</td>\n",
              "      <td>INTRACRANIAL HEMORRHAGE</td>\n",
              "      <td>1</td>\n",
              "      <td>1</td>\n",
              "      <td>6.0</td>\n",
              "      <td>4.0</td>\n",
              "      <td>1.0</td>\n",
              "      <td>1.0</td>\n",
              "      <td>0.0</td>\n",
              "      <td>Thursday</td>\n",
              "      <td>Saturday</td>\n",
              "      <td>Thursday</td>\n",
              "      <td>3</td>\n",
              "      <td>Friday</td>\n",
              "      <td>weekday</td>\n",
              "      <td>-1 days +09:00:00</td>\n",
              "      <td>short_survival</td>\n",
              "      <td>1</td>\n",
              "      <td>False</td>\n",
              "      <td>emergency</td>\n",
              "    </tr>\n",
              "    <tr>\n",
              "      <th>6</th>\n",
              "      <td>1253</td>\n",
              "      <td>129963</td>\n",
              "      <td>246324</td>\n",
              "      <td>F</td>\n",
              "      <td>2138-02-25 07:15:00</td>\n",
              "      <td>2138-03-06 14:00:00</td>\n",
              "      <td>9</td>\n",
              "      <td>58</td>\n",
              "      <td>ELECTIVE</td>\n",
              "      <td>0</td>\n",
              "      <td>2138-02-25 14:45:22</td>\n",
              "      <td>2138-02-26 21:39:17</td>\n",
              "      <td>1.0</td>\n",
              "      <td>SICU</td>\n",
              "      <td>0</td>\n",
              "      <td>13</td>\n",
              "      <td>0.010803</td>\n",
              "      <td>14362.0</td>\n",
              "      <td>3.0</td>\n",
              "      <td>431</td>\n",
              "      <td>1189</td>\n",
              "      <td>F</td>\n",
              "      <td>2080-11-28</td>\n",
              "      <td>NaT</td>\n",
              "      <td>NaT</td>\n",
              "      <td>NaT</td>\n",
              "      <td>0</td>\n",
              "      <td>1543</td>\n",
              "      <td>2138-02-25 07:15:00</td>\n",
              "      <td>2138-03-06 14:00:00</td>\n",
              "      <td>NaT</td>\n",
              "      <td>ELECTIVE</td>\n",
              "      <td>PHYS REFERRAL/NORMAL DELI</td>\n",
              "      <td>HOME</td>\n",
              "      <td>Private</td>\n",
              "      <td>None</td>\n",
              "      <td>JEWISH</td>\n",
              "      <td>MARRIED</td>\n",
              "      <td>WHITE</td>\n",
              "      <td>NaT</td>\n",
              "      <td>NaT</td>\n",
              "      <td>ANEURYSM/SDA</td>\n",
              "      <td>0</td>\n",
              "      <td>1</td>\n",
              "      <td>15.0</td>\n",
              "      <td>6.0</td>\n",
              "      <td>5.0</td>\n",
              "      <td>4.0</td>\n",
              "      <td>0.0</td>\n",
              "      <td>Tuesday</td>\n",
              "      <td>Thursday</td>\n",
              "      <td>Tuesday</td>\n",
              "      <td>1</td>\n",
              "      <td>Wednesday</td>\n",
              "      <td>weekday</td>\n",
              "      <td>NaT</td>\n",
              "      <td>long_survival</td>\n",
              "      <td>0</td>\n",
              "      <td>True</td>\n",
              "      <td>elective</td>\n",
              "    </tr>\n",
              "    <tr>\n",
              "      <th>7</th>\n",
              "      <td>1381</td>\n",
              "      <td>181430</td>\n",
              "      <td>291798</td>\n",
              "      <td>F</td>\n",
              "      <td>2189-01-02 14:25:00</td>\n",
              "      <td>2189-01-02 12:00:00</td>\n",
              "      <td>0</td>\n",
              "      <td>82</td>\n",
              "      <td>EMERGENCY</td>\n",
              "      <td>1</td>\n",
              "      <td>2189-01-02 14:28:39</td>\n",
              "      <td>2189-01-03 01:37:51</td>\n",
              "      <td>1.0</td>\n",
              "      <td>SICU</td>\n",
              "      <td>1</td>\n",
              "      <td>54</td>\n",
              "      <td>0.670490</td>\n",
              "      <td>15799.0</td>\n",
              "      <td>1.0</td>\n",
              "      <td>43300</td>\n",
              "      <td>1313</td>\n",
              "      <td>F</td>\n",
              "      <td>2107-07-15</td>\n",
              "      <td>2189-01-02</td>\n",
              "      <td>2189-01-02</td>\n",
              "      <td>2189-01-02</td>\n",
              "      <td>1</td>\n",
              "      <td>1699</td>\n",
              "      <td>2189-01-02 14:25:00</td>\n",
              "      <td>2189-01-02 12:00:00</td>\n",
              "      <td>2189-01-02 12:00:00</td>\n",
              "      <td>EMERGENCY</td>\n",
              "      <td>EMERGENCY ROOM ADMIT</td>\n",
              "      <td>DEAD/EXPIRED</td>\n",
              "      <td>Medicare</td>\n",
              "      <td>None</td>\n",
              "      <td>UNOBTAINABLE</td>\n",
              "      <td>MARRIED</td>\n",
              "      <td>WHITE</td>\n",
              "      <td>2189-01-02 10:31:00</td>\n",
              "      <td>2189-01-02 15:56:00</td>\n",
              "      <td>STROKE;TELEMETRY</td>\n",
              "      <td>1</td>\n",
              "      <td>1</td>\n",
              "      <td>15.0</td>\n",
              "      <td>3.0</td>\n",
              "      <td>0.0</td>\n",
              "      <td>1.0</td>\n",
              "      <td>1.0</td>\n",
              "      <td>Friday</td>\n",
              "      <td>Friday</td>\n",
              "      <td>Friday</td>\n",
              "      <td>4</td>\n",
              "      <td>Saturday</td>\n",
              "      <td>weekday</td>\n",
              "      <td>-1 days +12:00:00</td>\n",
              "      <td>short_survival</td>\n",
              "      <td>1</td>\n",
              "      <td>False</td>\n",
              "      <td>emergency</td>\n",
              "    </tr>\n",
              "    <tr>\n",
              "      <th>8</th>\n",
              "      <td>1609</td>\n",
              "      <td>152284</td>\n",
              "      <td>204311</td>\n",
              "      <td>F</td>\n",
              "      <td>2184-07-23 14:38:00</td>\n",
              "      <td>2184-07-24 15:38:00</td>\n",
              "      <td>1</td>\n",
              "      <td>80</td>\n",
              "      <td>EMERGENCY</td>\n",
              "      <td>1</td>\n",
              "      <td>2184-07-23 14:39:28</td>\n",
              "      <td>2184-07-24 17:58:01</td>\n",
              "      <td>1.0</td>\n",
              "      <td>SICU</td>\n",
              "      <td>1</td>\n",
              "      <td>52</td>\n",
              "      <td>0.611922</td>\n",
              "      <td>18103.0</td>\n",
              "      <td>1.0</td>\n",
              "      <td>4329</td>\n",
              "      <td>1523</td>\n",
              "      <td>F</td>\n",
              "      <td>2104-08-24</td>\n",
              "      <td>2184-07-24</td>\n",
              "      <td>2184-07-24</td>\n",
              "      <td>2184-07-24</td>\n",
              "      <td>1</td>\n",
              "      <td>1960</td>\n",
              "      <td>2184-07-23 14:38:00</td>\n",
              "      <td>2184-07-24 15:38:00</td>\n",
              "      <td>2184-07-24 15:38:00</td>\n",
              "      <td>EMERGENCY</td>\n",
              "      <td>EMERGENCY ROOM ADMIT</td>\n",
              "      <td>DEAD/EXPIRED</td>\n",
              "      <td>Medicare</td>\n",
              "      <td>CANT</td>\n",
              "      <td>OTHER</td>\n",
              "      <td>None</td>\n",
              "      <td>ASIAN</td>\n",
              "      <td>2184-07-23 10:01:00</td>\n",
              "      <td>2184-07-23 15:24:00</td>\n",
              "      <td>INTRACRANIAL HEMORRHAGE</td>\n",
              "      <td>1</td>\n",
              "      <td>1</td>\n",
              "      <td>15.0</td>\n",
              "      <td>1.0</td>\n",
              "      <td>0.0</td>\n",
              "      <td>1.0</td>\n",
              "      <td>1.0</td>\n",
              "      <td>Friday</td>\n",
              "      <td>Saturday</td>\n",
              "      <td>Friday</td>\n",
              "      <td>4</td>\n",
              "      <td>Saturday</td>\n",
              "      <td>weekday</td>\n",
              "      <td>-1 days +08:22:00</td>\n",
              "      <td>short_survival</td>\n",
              "      <td>1</td>\n",
              "      <td>False</td>\n",
              "      <td>emergency</td>\n",
              "    </tr>\n",
              "    <tr>\n",
              "      <th>9</th>\n",
              "      <td>2035</td>\n",
              "      <td>146528</td>\n",
              "      <td>216176</td>\n",
              "      <td>M</td>\n",
              "      <td>2191-04-19 21:10:00</td>\n",
              "      <td>2191-05-12 15:00:00</td>\n",
              "      <td>23</td>\n",
              "      <td>67</td>\n",
              "      <td>EMERGENCY</td>\n",
              "      <td>0</td>\n",
              "      <td>2191-04-19 21:13:13</td>\n",
              "      <td>2191-04-22 14:15:48</td>\n",
              "      <td>3.0</td>\n",
              "      <td>CCU</td>\n",
              "      <td>0</td>\n",
              "      <td>56</td>\n",
              "      <td>0.724202</td>\n",
              "      <td>22723.0</td>\n",
              "      <td>5.0</td>\n",
              "      <td>43491</td>\n",
              "      <td>1922</td>\n",
              "      <td>M</td>\n",
              "      <td>2124-01-14</td>\n",
              "      <td>2191-05-13</td>\n",
              "      <td>NaT</td>\n",
              "      <td>2191-05-13</td>\n",
              "      <td>1</td>\n",
              "      <td>2460</td>\n",
              "      <td>2191-04-19 21:10:00</td>\n",
              "      <td>2191-05-12 15:00:00</td>\n",
              "      <td>NaT</td>\n",
              "      <td>EMERGENCY</td>\n",
              "      <td>EMERGENCY ROOM ADMIT</td>\n",
              "      <td>SNF</td>\n",
              "      <td>Medicare</td>\n",
              "      <td>None</td>\n",
              "      <td>UNOBTAINABLE</td>\n",
              "      <td>None</td>\n",
              "      <td>WHITE</td>\n",
              "      <td>2191-04-19 17:27:00</td>\n",
              "      <td>2191-04-19 21:45:00</td>\n",
              "      <td>CONGESTIVE HEART FAILURE</td>\n",
              "      <td>0</td>\n",
              "      <td>1</td>\n",
              "      <td>7.0</td>\n",
              "      <td>4.0</td>\n",
              "      <td>2.0</td>\n",
              "      <td>1.0</td>\n",
              "      <td>0.0</td>\n",
              "      <td>Tuesday</td>\n",
              "      <td>Thursday</td>\n",
              "      <td>Tuesday</td>\n",
              "      <td>1</td>\n",
              "      <td>Friday</td>\n",
              "      <td>weekday</td>\n",
              "      <td>0 days 09:00:00</td>\n",
              "      <td>short_survival</td>\n",
              "      <td>1</td>\n",
              "      <td>False</td>\n",
              "      <td>emergency</td>\n",
              "    </tr>\n",
              "    <tr>\n",
              "      <th>10</th>\n",
              "      <td>3232</td>\n",
              "      <td>146611</td>\n",
              "      <td>275841</td>\n",
              "      <td>M</td>\n",
              "      <td>2150-04-06 11:19:00</td>\n",
              "      <td>2150-04-07 19:30:00</td>\n",
              "      <td>1</td>\n",
              "      <td>58</td>\n",
              "      <td>EMERGENCY</td>\n",
              "      <td>1</td>\n",
              "      <td>2150-04-06 11:24:00</td>\n",
              "      <td>2150-04-07 23:17:27</td>\n",
              "      <td>1.0</td>\n",
              "      <td>TSICU</td>\n",
              "      <td>1</td>\n",
              "      <td>58</td>\n",
              "      <td>0.772134</td>\n",
              "      <td>36091.0</td>\n",
              "      <td>9.0</td>\n",
              "      <td>4321</td>\n",
              "      <td>3059</td>\n",
              "      <td>M</td>\n",
              "      <td>2092-08-20</td>\n",
              "      <td>2150-04-07</td>\n",
              "      <td>2150-04-07</td>\n",
              "      <td>NaT</td>\n",
              "      <td>1</td>\n",
              "      <td>3897</td>\n",
              "      <td>2150-04-06 11:19:00</td>\n",
              "      <td>2150-04-07 19:30:00</td>\n",
              "      <td>2150-04-07 19:30:00</td>\n",
              "      <td>EMERGENCY</td>\n",
              "      <td>EMERGENCY ROOM ADMIT</td>\n",
              "      <td>DEAD/EXPIRED</td>\n",
              "      <td>Private</td>\n",
              "      <td>None</td>\n",
              "      <td>UNOBTAINABLE</td>\n",
              "      <td>None</td>\n",
              "      <td>WHITE</td>\n",
              "      <td>2150-04-06 08:16:00</td>\n",
              "      <td>2150-04-06 12:24:00</td>\n",
              "      <td>GI BLEED</td>\n",
              "      <td>1</td>\n",
              "      <td>1</td>\n",
              "      <td>15.0</td>\n",
              "      <td>1.0</td>\n",
              "      <td>0.0</td>\n",
              "      <td>1.0</td>\n",
              "      <td>1.0</td>\n",
              "      <td>Monday</td>\n",
              "      <td>Tuesday</td>\n",
              "      <td>Monday</td>\n",
              "      <td>0</td>\n",
              "      <td>Tuesday</td>\n",
              "      <td>weekday</td>\n",
              "      <td>-1 days +04:30:00</td>\n",
              "      <td>short_survival</td>\n",
              "      <td>1</td>\n",
              "      <td>False</td>\n",
              "      <td>emergency</td>\n",
              "    </tr>\n",
              "    <tr>\n",
              "      <th>11</th>\n",
              "      <td>3808</td>\n",
              "      <td>194227</td>\n",
              "      <td>201713</td>\n",
              "      <td>F</td>\n",
              "      <td>2150-11-19 18:16:00</td>\n",
              "      <td>2150-11-30 18:14:00</td>\n",
              "      <td>11</td>\n",
              "      <td>45</td>\n",
              "      <td>URGENT</td>\n",
              "      <td>0</td>\n",
              "      <td>2150-11-26 15:15:55</td>\n",
              "      <td>2150-11-28 18:00:27</td>\n",
              "      <td>2.0</td>\n",
              "      <td>MICU</td>\n",
              "      <td>0</td>\n",
              "      <td>13</td>\n",
              "      <td>0.010803</td>\n",
              "      <td>42063.0</td>\n",
              "      <td>3.0</td>\n",
              "      <td>430</td>\n",
              "      <td>3599</td>\n",
              "      <td>F</td>\n",
              "      <td>2105-03-16</td>\n",
              "      <td>NaT</td>\n",
              "      <td>NaT</td>\n",
              "      <td>NaT</td>\n",
              "      <td>0</td>\n",
              "      <td>4575</td>\n",
              "      <td>2150-11-19 18:16:00</td>\n",
              "      <td>2150-11-30 18:14:00</td>\n",
              "      <td>NaT</td>\n",
              "      <td>URGENT</td>\n",
              "      <td>PHYS REFERRAL/NORMAL DELI</td>\n",
              "      <td>HOME</td>\n",
              "      <td>Private</td>\n",
              "      <td>None</td>\n",
              "      <td>JEWISH</td>\n",
              "      <td>SINGLE</td>\n",
              "      <td>WHITE</td>\n",
              "      <td>NaT</td>\n",
              "      <td>NaT</td>\n",
              "      <td>NORMAL PREGNANCY</td>\n",
              "      <td>0</td>\n",
              "      <td>1</td>\n",
              "      <td>15.0</td>\n",
              "      <td>6.0</td>\n",
              "      <td>5.0</td>\n",
              "      <td>4.0</td>\n",
              "      <td>0.0</td>\n",
              "      <td>Thursday</td>\n",
              "      <td>Monday</td>\n",
              "      <td>Thursday</td>\n",
              "      <td>3</td>\n",
              "      <td>Saturday</td>\n",
              "      <td>weekday</td>\n",
              "      <td>NaT</td>\n",
              "      <td>long_survival</td>\n",
              "      <td>0</td>\n",
              "      <td>True</td>\n",
              "      <td>emergency</td>\n",
              "    </tr>\n",
              "    <tr>\n",
              "      <th>12</th>\n",
              "      <td>3831</td>\n",
              "      <td>112264</td>\n",
              "      <td>225380</td>\n",
              "      <td>F</td>\n",
              "      <td>2166-02-11 21:36:00</td>\n",
              "      <td>2166-02-12 12:00:00</td>\n",
              "      <td>1</td>\n",
              "      <td>87</td>\n",
              "      <td>EMERGENCY</td>\n",
              "      <td>1</td>\n",
              "      <td>2166-02-11 21:37:27</td>\n",
              "      <td>2166-02-13 07:38:37</td>\n",
              "      <td>2.0</td>\n",
              "      <td>SICU</td>\n",
              "      <td>1</td>\n",
              "      <td>55</td>\n",
              "      <td>0.698023</td>\n",
              "      <td>42334.0</td>\n",
              "      <td>1.0</td>\n",
              "      <td>431</td>\n",
              "      <td>3622</td>\n",
              "      <td>F</td>\n",
              "      <td>2079-11-28</td>\n",
              "      <td>2166-02-12</td>\n",
              "      <td>2166-02-12</td>\n",
              "      <td>NaT</td>\n",
              "      <td>1</td>\n",
              "      <td>4604</td>\n",
              "      <td>2166-02-11 21:36:00</td>\n",
              "      <td>2166-02-12 12:00:00</td>\n",
              "      <td>2166-02-12 12:00:00</td>\n",
              "      <td>EMERGENCY</td>\n",
              "      <td>EMERGENCY ROOM ADMIT</td>\n",
              "      <td>DEAD/EXPIRED</td>\n",
              "      <td>Medicare</td>\n",
              "      <td>None</td>\n",
              "      <td>UNOBTAINABLE</td>\n",
              "      <td>SINGLE</td>\n",
              "      <td>WHITE</td>\n",
              "      <td>2166-02-11 19:40:00</td>\n",
              "      <td>2166-02-11 22:39:00</td>\n",
              "      <td>HEAD BLEED</td>\n",
              "      <td>1</td>\n",
              "      <td>1</td>\n",
              "      <td>3.0</td>\n",
              "      <td>1.0</td>\n",
              "      <td>1.0</td>\n",
              "      <td>1.0</td>\n",
              "      <td>0.0</td>\n",
              "      <td>Tuesday</td>\n",
              "      <td>Wednesday</td>\n",
              "      <td>Tuesday</td>\n",
              "      <td>1</td>\n",
              "      <td>Thursday</td>\n",
              "      <td>weekday</td>\n",
              "      <td>-1 days +12:00:00</td>\n",
              "      <td>short_survival</td>\n",
              "      <td>1</td>\n",
              "      <td>False</td>\n",
              "      <td>emergency</td>\n",
              "    </tr>\n",
              "    <tr>\n",
              "      <th>13</th>\n",
              "      <td>3852</td>\n",
              "      <td>120524</td>\n",
              "      <td>263430</td>\n",
              "      <td>M</td>\n",
              "      <td>2149-12-26 14:48:00</td>\n",
              "      <td>2150-01-01 13:22:00</td>\n",
              "      <td>6</td>\n",
              "      <td>80</td>\n",
              "      <td>EMERGENCY</td>\n",
              "      <td>1</td>\n",
              "      <td>2149-12-26 14:50:09</td>\n",
              "      <td>2150-01-01 17:21:58</td>\n",
              "      <td>6.0</td>\n",
              "      <td>CSRU</td>\n",
              "      <td>1</td>\n",
              "      <td>66</td>\n",
              "      <td>0.903819</td>\n",
              "      <td>42521.0</td>\n",
              "      <td>1.0</td>\n",
              "      <td>43491</td>\n",
              "      <td>3641</td>\n",
              "      <td>M</td>\n",
              "      <td>2069-08-20</td>\n",
              "      <td>2150-01-01</td>\n",
              "      <td>2150-01-01</td>\n",
              "      <td>2150-01-01</td>\n",
              "      <td>1</td>\n",
              "      <td>4625</td>\n",
              "      <td>2149-12-26 14:48:00</td>\n",
              "      <td>2150-01-01 13:22:00</td>\n",
              "      <td>2150-01-01 13:22:00</td>\n",
              "      <td>EMERGENCY</td>\n",
              "      <td>TRANSFER FROM HOSP/EXTRAM</td>\n",
              "      <td>DEAD/EXPIRED</td>\n",
              "      <td>Medicare</td>\n",
              "      <td>HIND</td>\n",
              "      <td>UNOBTAINABLE</td>\n",
              "      <td>WIDOWED</td>\n",
              "      <td>OTHER</td>\n",
              "      <td>NaT</td>\n",
              "      <td>NaT</td>\n",
              "      <td>THORACIC AORTIC ANEURYSM</td>\n",
              "      <td>1</td>\n",
              "      <td>1</td>\n",
              "      <td>3.0</td>\n",
              "      <td>1.0</td>\n",
              "      <td>1.0</td>\n",
              "      <td>1.0</td>\n",
              "      <td>0.0</td>\n",
              "      <td>Friday</td>\n",
              "      <td>Thursday</td>\n",
              "      <td>Friday</td>\n",
              "      <td>4</td>\n",
              "      <td>Thursday</td>\n",
              "      <td>weekday</td>\n",
              "      <td>-1 days +10:38:00</td>\n",
              "      <td>short_survival</td>\n",
              "      <td>1</td>\n",
              "      <td>False</td>\n",
              "      <td>emergency</td>\n",
              "    </tr>\n",
              "    <tr>\n",
              "      <th>14</th>\n",
              "      <td>4076</td>\n",
              "      <td>137717</td>\n",
              "      <td>208541</td>\n",
              "      <td>M</td>\n",
              "      <td>2199-12-27 22:51:00</td>\n",
              "      <td>2200-01-07 10:04:00</td>\n",
              "      <td>11</td>\n",
              "      <td>50</td>\n",
              "      <td>EMERGENCY</td>\n",
              "      <td>0</td>\n",
              "      <td>2199-12-28 07:50:00</td>\n",
              "      <td>2200-01-01 21:06:00</td>\n",
              "      <td>4.0</td>\n",
              "      <td>SICU</td>\n",
              "      <td>0</td>\n",
              "      <td>13</td>\n",
              "      <td>0.010803</td>\n",
              "      <td>45636.0</td>\n",
              "      <td>1.0</td>\n",
              "      <td>430</td>\n",
              "      <td>3852</td>\n",
              "      <td>M</td>\n",
              "      <td>2149-11-12</td>\n",
              "      <td>2200-01-28</td>\n",
              "      <td>2200-01-28</td>\n",
              "      <td>2200-01-28</td>\n",
              "      <td>1</td>\n",
              "      <td>4941</td>\n",
              "      <td>2199-12-27 22:51:00</td>\n",
              "      <td>2200-01-07 10:04:00</td>\n",
              "      <td>NaT</td>\n",
              "      <td>EMERGENCY</td>\n",
              "      <td>EMERGENCY ROOM ADMIT</td>\n",
              "      <td>HOME</td>\n",
              "      <td>Private</td>\n",
              "      <td>None</td>\n",
              "      <td>CATHOLIC</td>\n",
              "      <td>MARRIED</td>\n",
              "      <td>UNKNOWN/NOT SPECIFIED</td>\n",
              "      <td>2199-12-27 06:33:00</td>\n",
              "      <td>2199-12-27 11:25:00</td>\n",
              "      <td>SAH</td>\n",
              "      <td>0</td>\n",
              "      <td>1</td>\n",
              "      <td>15.0</td>\n",
              "      <td>6.0</td>\n",
              "      <td>5.0</td>\n",
              "      <td>4.0</td>\n",
              "      <td>0.0</td>\n",
              "      <td>Friday</td>\n",
              "      <td>Tuesday</td>\n",
              "      <td>Saturday</td>\n",
              "      <td>5</td>\n",
              "      <td>Wednesday</td>\n",
              "      <td>weekend</td>\n",
              "      <td>20 days 13:56:00</td>\n",
              "      <td>short_survival</td>\n",
              "      <td>1</td>\n",
              "      <td>True</td>\n",
              "      <td>emergency</td>\n",
              "    </tr>\n",
              "    <tr>\n",
              "      <th>15</th>\n",
              "      <td>4339</td>\n",
              "      <td>178315</td>\n",
              "      <td>276382</td>\n",
              "      <td>F</td>\n",
              "      <td>2134-02-16 04:01:00</td>\n",
              "      <td>2134-02-16 12:00:00</td>\n",
              "      <td>0</td>\n",
              "      <td>86</td>\n",
              "      <td>EMERGENCY</td>\n",
              "      <td>1</td>\n",
              "      <td>2134-02-16 04:01:43</td>\n",
              "      <td>2134-02-17 00:37:28</td>\n",
              "      <td>1.0</td>\n",
              "      <td>SICU</td>\n",
              "      <td>1</td>\n",
              "      <td>53</td>\n",
              "      <td>0.641734</td>\n",
              "      <td>48545.0</td>\n",
              "      <td>1.0</td>\n",
              "      <td>430</td>\n",
              "      <td>4102</td>\n",
              "      <td>F</td>\n",
              "      <td>2048-03-21</td>\n",
              "      <td>2134-02-16</td>\n",
              "      <td>2134-02-16</td>\n",
              "      <td>2134-02-16</td>\n",
              "      <td>1</td>\n",
              "      <td>5258</td>\n",
              "      <td>2134-02-16 04:01:00</td>\n",
              "      <td>2134-02-16 12:00:00</td>\n",
              "      <td>2134-02-16 12:00:00</td>\n",
              "      <td>EMERGENCY</td>\n",
              "      <td>EMERGENCY ROOM ADMIT</td>\n",
              "      <td>DEAD/EXPIRED</td>\n",
              "      <td>Medicare</td>\n",
              "      <td>None</td>\n",
              "      <td>CATHOLIC</td>\n",
              "      <td>SINGLE</td>\n",
              "      <td>WHITE</td>\n",
              "      <td>2134-02-16 00:25:00</td>\n",
              "      <td>2134-02-16 04:56:00</td>\n",
              "      <td>SUBARACHNOID HEMORRHAGE,ANEURYSM</td>\n",
              "      <td>1</td>\n",
              "      <td>1</td>\n",
              "      <td>3.0</td>\n",
              "      <td>1.0</td>\n",
              "      <td>1.0</td>\n",
              "      <td>1.0</td>\n",
              "      <td>0.0</td>\n",
              "      <td>Tuesday</td>\n",
              "      <td>Tuesday</td>\n",
              "      <td>Tuesday</td>\n",
              "      <td>1</td>\n",
              "      <td>Wednesday</td>\n",
              "      <td>weekday</td>\n",
              "      <td>-1 days +12:00:00</td>\n",
              "      <td>short_survival</td>\n",
              "      <td>1</td>\n",
              "      <td>False</td>\n",
              "      <td>emergency</td>\n",
              "    </tr>\n",
              "    <tr>\n",
              "      <th>16</th>\n",
              "      <td>4759</td>\n",
              "      <td>179664</td>\n",
              "      <td>268219</td>\n",
              "      <td>F</td>\n",
              "      <td>2180-06-19 19:34:00</td>\n",
              "      <td>2180-08-09 18:31:00</td>\n",
              "      <td>51</td>\n",
              "      <td>70</td>\n",
              "      <td>EMERGENCY</td>\n",
              "      <td>0</td>\n",
              "      <td>2180-06-19 19:35:00</td>\n",
              "      <td>2180-07-14 16:31:19</td>\n",
              "      <td>25.0</td>\n",
              "      <td>MICU</td>\n",
              "      <td>0</td>\n",
              "      <td>54</td>\n",
              "      <td>0.670490</td>\n",
              "      <td>52958.0</td>\n",
              "      <td>5.0</td>\n",
              "      <td>43491</td>\n",
              "      <td>4506</td>\n",
              "      <td>F</td>\n",
              "      <td>2110-09-11</td>\n",
              "      <td>NaT</td>\n",
              "      <td>NaT</td>\n",
              "      <td>NaT</td>\n",
              "      <td>0</td>\n",
              "      <td>5756</td>\n",
              "      <td>2180-06-19 19:34:00</td>\n",
              "      <td>2180-08-09 18:31:00</td>\n",
              "      <td>NaT</td>\n",
              "      <td>EMERGENCY</td>\n",
              "      <td>EMERGENCY ROOM ADMIT</td>\n",
              "      <td>SNF</td>\n",
              "      <td>Private</td>\n",
              "      <td>None</td>\n",
              "      <td>NOT SPECIFIED</td>\n",
              "      <td>WIDOWED</td>\n",
              "      <td>BLACK/AFRICAN AMERICAN</td>\n",
              "      <td>2180-06-19 13:24:00</td>\n",
              "      <td>2180-06-19 22:42:00</td>\n",
              "      <td>CONGESTIVE HEART FAILURE;CHRONIC RENAL INSUFFI...</td>\n",
              "      <td>0</td>\n",
              "      <td>1</td>\n",
              "      <td>5.0</td>\n",
              "      <td>1.0</td>\n",
              "      <td>2.0</td>\n",
              "      <td>2.0</td>\n",
              "      <td>0.0</td>\n",
              "      <td>Monday</td>\n",
              "      <td>Wednesday</td>\n",
              "      <td>Monday</td>\n",
              "      <td>0</td>\n",
              "      <td>Friday</td>\n",
              "      <td>weekday</td>\n",
              "      <td>NaT</td>\n",
              "      <td>long_survival</td>\n",
              "      <td>0</td>\n",
              "      <td>False</td>\n",
              "      <td>emergency</td>\n",
              "    </tr>\n",
              "    <tr>\n",
              "      <th>17</th>\n",
              "      <td>4988</td>\n",
              "      <td>124961</td>\n",
              "      <td>264875</td>\n",
              "      <td>F</td>\n",
              "      <td>2139-05-27 01:39:00</td>\n",
              "      <td>2139-05-29 01:20:00</td>\n",
              "      <td>2</td>\n",
              "      <td>88</td>\n",
              "      <td>EMERGENCY</td>\n",
              "      <td>1</td>\n",
              "      <td>2139-05-27 01:41:45</td>\n",
              "      <td>2139-05-28 21:17:12</td>\n",
              "      <td>1.0</td>\n",
              "      <td>SICU</td>\n",
              "      <td>0</td>\n",
              "      <td>53</td>\n",
              "      <td>0.641734</td>\n",
              "      <td>55684.0</td>\n",
              "      <td>1.0</td>\n",
              "      <td>43491</td>\n",
              "      <td>4730</td>\n",
              "      <td>F</td>\n",
              "      <td>2051-03-17</td>\n",
              "      <td>2139-05-29</td>\n",
              "      <td>2139-05-29</td>\n",
              "      <td>2139-05-29</td>\n",
              "      <td>1</td>\n",
              "      <td>6051</td>\n",
              "      <td>2139-05-27 01:39:00</td>\n",
              "      <td>2139-05-29 01:20:00</td>\n",
              "      <td>2139-05-29 01:20:00</td>\n",
              "      <td>EMERGENCY</td>\n",
              "      <td>EMERGENCY ROOM ADMIT</td>\n",
              "      <td>DEAD/EXPIRED</td>\n",
              "      <td>Medicare</td>\n",
              "      <td>None</td>\n",
              "      <td>OTHER</td>\n",
              "      <td>WIDOWED</td>\n",
              "      <td>WHITE</td>\n",
              "      <td>2139-05-26 17:58:00</td>\n",
              "      <td>2139-05-27 02:50:00</td>\n",
              "      <td>STATUS EPILEPTICUS</td>\n",
              "      <td>1</td>\n",
              "      <td>1</td>\n",
              "      <td>3.0</td>\n",
              "      <td>1.0</td>\n",
              "      <td>1.0</td>\n",
              "      <td>1.0</td>\n",
              "      <td>0.0</td>\n",
              "      <td>Wednesday</td>\n",
              "      <td>Friday</td>\n",
              "      <td>Wednesday</td>\n",
              "      <td>2</td>\n",
              "      <td>Thursday</td>\n",
              "      <td>weekday</td>\n",
              "      <td>-1 days +22:40:00</td>\n",
              "      <td>short_survival</td>\n",
              "      <td>1</td>\n",
              "      <td>False</td>\n",
              "      <td>emergency</td>\n",
              "    </tr>\n",
              "    <tr>\n",
              "      <th>18</th>\n",
              "      <td>5307</td>\n",
              "      <td>168261</td>\n",
              "      <td>213258</td>\n",
              "      <td>M</td>\n",
              "      <td>2147-12-05 13:32:00</td>\n",
              "      <td>2148-01-04 09:43:00</td>\n",
              "      <td>30</td>\n",
              "      <td>73</td>\n",
              "      <td>EMERGENCY</td>\n",
              "      <td>0</td>\n",
              "      <td>2147-12-05 13:33:00</td>\n",
              "      <td>2148-01-04 09:43:00</td>\n",
              "      <td>30.0</td>\n",
              "      <td>CCU</td>\n",
              "      <td>0</td>\n",
              "      <td>52</td>\n",
              "      <td>0.611922</td>\n",
              "      <td>59419.0</td>\n",
              "      <td>1.0</td>\n",
              "      <td>431</td>\n",
              "      <td>5030</td>\n",
              "      <td>M</td>\n",
              "      <td>2074-11-18</td>\n",
              "      <td>2152-08-26</td>\n",
              "      <td>NaT</td>\n",
              "      <td>2152-08-26</td>\n",
              "      <td>1</td>\n",
              "      <td>6455</td>\n",
              "      <td>2147-12-05 13:32:00</td>\n",
              "      <td>2148-01-04 09:43:00</td>\n",
              "      <td>None</td>\n",
              "      <td>EMERGENCY</td>\n",
              "      <td>EMERGENCY ROOM ADMIT</td>\n",
              "      <td>DISC-TRAN CANCER/CHLDRN H</td>\n",
              "      <td>Medicare</td>\n",
              "      <td>None</td>\n",
              "      <td>JEWISH</td>\n",
              "      <td>MARRIED</td>\n",
              "      <td>WHITE</td>\n",
              "      <td>2147-12-05 09:14:00</td>\n",
              "      <td>2147-12-05 14:37:00</td>\n",
              "      <td>ICH</td>\n",
              "      <td>0</td>\n",
              "      <td>1</td>\n",
              "      <td>6.0</td>\n",
              "      <td>4.0</td>\n",
              "      <td>1.0</td>\n",
              "      <td>1.0</td>\n",
              "      <td>0.0</td>\n",
              "      <td>Tuesday</td>\n",
              "      <td>Thursday</td>\n",
              "      <td>Tuesday</td>\n",
              "      <td>1</td>\n",
              "      <td>Thursday</td>\n",
              "      <td>weekday</td>\n",
              "      <td>1695 days 14:17:00</td>\n",
              "      <td>long_survival</td>\n",
              "      <td>0</td>\n",
              "      <td>False</td>\n",
              "      <td>emergency</td>\n",
              "    </tr>\n",
              "    <tr>\n",
              "      <th>19</th>\n",
              "      <td>5659</td>\n",
              "      <td>182307</td>\n",
              "      <td>283858</td>\n",
              "      <td>M</td>\n",
              "      <td>2149-09-17 21:03:00</td>\n",
              "      <td>2149-10-09 16:40:00</td>\n",
              "      <td>22</td>\n",
              "      <td>81</td>\n",
              "      <td>EMERGENCY</td>\n",
              "      <td>0</td>\n",
              "      <td>2149-09-23 10:28:21</td>\n",
              "      <td>2149-10-03 16:45:43</td>\n",
              "      <td>10.0</td>\n",
              "      <td>CSRU</td>\n",
              "      <td>0</td>\n",
              "      <td>51</td>\n",
              "      <td>0.581248</td>\n",
              "      <td>63256.0</td>\n",
              "      <td>3.0</td>\n",
              "      <td>43411</td>\n",
              "      <td>5357</td>\n",
              "      <td>M</td>\n",
              "      <td>2068-03-11</td>\n",
              "      <td>NaT</td>\n",
              "      <td>NaT</td>\n",
              "      <td>NaT</td>\n",
              "      <td>0</td>\n",
              "      <td>6879</td>\n",
              "      <td>2149-09-17 21:03:00</td>\n",
              "      <td>2149-10-09 16:40:00</td>\n",
              "      <td>None</td>\n",
              "      <td>EMERGENCY</td>\n",
              "      <td>EMERGENCY ROOM ADMIT</td>\n",
              "      <td>REHAB/DISTINCT PART HOSP</td>\n",
              "      <td>Medicare</td>\n",
              "      <td>None</td>\n",
              "      <td>CATHOLIC</td>\n",
              "      <td>MARRIED</td>\n",
              "      <td>WHITE</td>\n",
              "      <td>2149-09-17 12:26:00</td>\n",
              "      <td>2149-09-17 22:45:00</td>\n",
              "      <td>AORTIC VALVE MALFUNCTIONING</td>\n",
              "      <td>0</td>\n",
              "      <td>1</td>\n",
              "      <td>8.0</td>\n",
              "      <td>5.0</td>\n",
              "      <td>1.0</td>\n",
              "      <td>2.0</td>\n",
              "      <td>0.0</td>\n",
              "      <td>Wednesday</td>\n",
              "      <td>Thursday</td>\n",
              "      <td>Tuesday</td>\n",
              "      <td>1</td>\n",
              "      <td>Friday</td>\n",
              "      <td>weekday</td>\n",
              "      <td>NaT</td>\n",
              "      <td>long_survival</td>\n",
              "      <td>0</td>\n",
              "      <td>False</td>\n",
              "      <td>emergency</td>\n",
              "    </tr>\n",
              "  </tbody>\n",
              "</table>\n",
              "</div>"
            ],
            "text/plain": [
              "    subject_id  hadm_id  ...  home_discharge_bool adm_type_2\n",
              "0          141   168006  ...                False  emergency\n",
              "1          416   148709  ...                 True  emergency\n",
              "2          490   166850  ...                False  emergency\n",
              "3          490   166850  ...                False  emergency\n",
              "4          831   185983  ...                False  emergency\n",
              "5         1054   183383  ...                False  emergency\n",
              "6         1253   129963  ...                 True   elective\n",
              "7         1381   181430  ...                False  emergency\n",
              "8         1609   152284  ...                False  emergency\n",
              "9         2035   146528  ...                False  emergency\n",
              "10        3232   146611  ...                False  emergency\n",
              "11        3808   194227  ...                 True  emergency\n",
              "12        3831   112264  ...                False  emergency\n",
              "13        3852   120524  ...                False  emergency\n",
              "14        4076   137717  ...                 True  emergency\n",
              "15        4339   178315  ...                False  emergency\n",
              "16        4759   179664  ...                False  emergency\n",
              "17        4988   124961  ...                False  emergency\n",
              "18        5307   168261  ...                False  emergency\n",
              "19        5659   182307  ...                False  emergency\n",
              "\n",
              "[20 rows x 60 columns]"
            ]
          },
          "metadata": {
            "tags": []
          },
          "execution_count": 101
        }
      ]
    },
    {
      "cell_type": "code",
      "metadata": {
        "id": "IkrL3olnEjB5",
        "colab_type": "code",
        "colab": {
          "base_uri": "https://localhost:8080/",
          "height": 34
        },
        "outputId": "7ef3b672-5f95-40e3-89f4-0860c1df9d97"
      },
      "source": [
        "#Emergency - Weekday\n",
        "df_filtered = data4[(data4.inday_icu_wkd == 'weekday') & (data4.adm_type_2 == 'emergency')] \n",
        "df_filtered.shape[0]"
      ],
      "execution_count": 227,
      "outputs": [
        {
          "output_type": "execute_result",
          "data": {
            "text/plain": [
              "2591"
            ]
          },
          "metadata": {
            "tags": []
          },
          "execution_count": 227
        }
      ]
    },
    {
      "cell_type": "code",
      "metadata": {
        "id": "noaJeoMizot1",
        "colab_type": "code",
        "outputId": "645662f9-c5be-4691-fe79-b253dd72c83c",
        "colab": {
          "base_uri": "https://localhost:8080/",
          "height": 34
        }
      },
      "source": [
        "#Emergency - Weekend\n",
        "df_filtered = data4[(data4.inday_icu_wkd == 'weekend') & (data4.adm_type_2 == 'emergency')] \n",
        "df_filtered.shape[0]"
      ],
      "execution_count": 228,
      "outputs": [
        {
          "output_type": "execute_result",
          "data": {
            "text/plain": [
              "847"
            ]
          },
          "metadata": {
            "tags": []
          },
          "execution_count": 228
        }
      ]
    },
    {
      "cell_type": "code",
      "metadata": {
        "id": "D-LwM_lvz6CH",
        "colab_type": "code",
        "colab": {}
      },
      "source": [
        "#Change 'adm_type_2' to boolean to run the model and predict on emergency\n",
        "#Create a binary column with all 'home' categories as 1\n",
        "data4['adm_type_2_bool'] = np.where(data4.adm_type_2 == 'emergency', 1, 0)"
      ],
      "execution_count": 0,
      "outputs": []
    },
    {
      "cell_type": "code",
      "metadata": {
        "id": "SoKnP02H12re",
        "colab_type": "code",
        "colab": {}
      },
      "source": [
        "#home_discharge_bool\n",
        "data4['home_discharge_flag'] = np.where(data4.home_discharge_bool == True, 1, 0)"
      ],
      "execution_count": 0,
      "outputs": []
    },
    {
      "cell_type": "markdown",
      "metadata": {
        "id": "Zv24Zu-zRV6p",
        "colab_type": "text"
      },
      "source": [
        "#Statistical Analysis: T-Test"
      ]
    },
    {
      "cell_type": "code",
      "metadata": {
        "id": "7vvIDCoWSQp4",
        "colab_type": "code",
        "outputId": "c04ad608-0424-46eb-91f2-4a14e9a2b4d9",
        "colab": {
          "base_uri": "https://localhost:8080/",
          "height": 330
        }
      },
      "source": [
        "data4.head()"
      ],
      "execution_count": 199,
      "outputs": [
        {
          "output_type": "execute_result",
          "data": {
            "text/html": [
              "<div>\n",
              "<style scoped>\n",
              "    .dataframe tbody tr th:only-of-type {\n",
              "        vertical-align: middle;\n",
              "    }\n",
              "\n",
              "    .dataframe tbody tr th {\n",
              "        vertical-align: top;\n",
              "    }\n",
              "\n",
              "    .dataframe thead th {\n",
              "        text-align: right;\n",
              "    }\n",
              "</style>\n",
              "<table border=\"1\" class=\"dataframe\">\n",
              "  <thead>\n",
              "    <tr style=\"text-align: right;\">\n",
              "      <th></th>\n",
              "      <th>subject_id</th>\n",
              "      <th>hadm_id</th>\n",
              "      <th>icustay_id</th>\n",
              "      <th>gender_x</th>\n",
              "      <th>admittime_hospital</th>\n",
              "      <th>dischtime_hospital</th>\n",
              "      <th>los_hospital</th>\n",
              "      <th>admission_age</th>\n",
              "      <th>admission_type_x</th>\n",
              "      <th>hospital_expire_flag_x</th>\n",
              "      <th>intime_icu</th>\n",
              "      <th>outtime_icu</th>\n",
              "      <th>los_icu</th>\n",
              "      <th>first_careunit</th>\n",
              "      <th>icustay_expire_flag</th>\n",
              "      <th>oasis</th>\n",
              "      <th>oasis_prob</th>\n",
              "      <th>row_id_x</th>\n",
              "      <th>seq_num</th>\n",
              "      <th>icd9_code</th>\n",
              "      <th>row_id_y</th>\n",
              "      <th>gender_y</th>\n",
              "      <th>dob</th>\n",
              "      <th>dod</th>\n",
              "      <th>dod_hosp</th>\n",
              "      <th>dod_ssn</th>\n",
              "      <th>expire_flag</th>\n",
              "      <th>row_id</th>\n",
              "      <th>admittime</th>\n",
              "      <th>dischtime</th>\n",
              "      <th>deathtime</th>\n",
              "      <th>admission_type_y</th>\n",
              "      <th>admission_location</th>\n",
              "      <th>discharge_location</th>\n",
              "      <th>insurance</th>\n",
              "      <th>language</th>\n",
              "      <th>religion</th>\n",
              "      <th>marital_status</th>\n",
              "      <th>ethnicity</th>\n",
              "      <th>edregtime</th>\n",
              "      <th>edouttime</th>\n",
              "      <th>diagnosis</th>\n",
              "      <th>hospital_expire_flag_y</th>\n",
              "      <th>has_chartevents_data</th>\n",
              "      <th>mingcs</th>\n",
              "      <th>gcsmotor</th>\n",
              "      <th>gcsverbal</th>\n",
              "      <th>gcseyes</th>\n",
              "      <th>endotrachflag</th>\n",
              "      <th>admitday_hospital</th>\n",
              "      <th>dischday_hospital</th>\n",
              "      <th>inday_icu</th>\n",
              "      <th>inday_icu_seq</th>\n",
              "      <th>outday_icu</th>\n",
              "      <th>inday_icu_wkd</th>\n",
              "      <th>survival_time</th>\n",
              "      <th>death_post_discharge_in_days</th>\n",
              "      <th>survival_time_flag</th>\n",
              "      <th>home_discharge_bool</th>\n",
              "      <th>adm_type_2</th>\n",
              "      <th>adm_type_2_bool</th>\n",
              "      <th>home_discharge_flag</th>\n",
              "    </tr>\n",
              "  </thead>\n",
              "  <tbody>\n",
              "    <tr>\n",
              "      <th>0</th>\n",
              "      <td>141</td>\n",
              "      <td>168006</td>\n",
              "      <td>234668</td>\n",
              "      <td>M</td>\n",
              "      <td>2140-11-06 11:07:00</td>\n",
              "      <td>2140-11-09 20:36:00</td>\n",
              "      <td>3</td>\n",
              "      <td>80</td>\n",
              "      <td>EMERGENCY</td>\n",
              "      <td>1</td>\n",
              "      <td>2140-11-06 11:09:19</td>\n",
              "      <td>2140-11-09 22:35:29</td>\n",
              "      <td>3.0</td>\n",
              "      <td>MICU</td>\n",
              "      <td>1</td>\n",
              "      <td>53</td>\n",
              "      <td>0.641734</td>\n",
              "      <td>1784.0</td>\n",
              "      <td>2.0</td>\n",
              "      <td>43491</td>\n",
              "      <td>131</td>\n",
              "      <td>M</td>\n",
              "      <td>2060-05-03</td>\n",
              "      <td>2140-11-09</td>\n",
              "      <td>2140-11-09</td>\n",
              "      <td>2140-11-09</td>\n",
              "      <td>1</td>\n",
              "      <td>190</td>\n",
              "      <td>2140-11-06 11:07:00</td>\n",
              "      <td>2140-11-09 20:36:00</td>\n",
              "      <td>2140-11-09 20:36:00</td>\n",
              "      <td>EMERGENCY</td>\n",
              "      <td>EMERGENCY ROOM ADMIT</td>\n",
              "      <td>DEAD/EXPIRED</td>\n",
              "      <td>Medicare</td>\n",
              "      <td>None</td>\n",
              "      <td>OTHER</td>\n",
              "      <td>SINGLE</td>\n",
              "      <td>OTHER</td>\n",
              "      <td>2140-11-06 07:17:00</td>\n",
              "      <td>2140-11-06 12:07:00</td>\n",
              "      <td>DRA, SAH</td>\n",
              "      <td>1</td>\n",
              "      <td>1</td>\n",
              "      <td>14.0</td>\n",
              "      <td>6.0</td>\n",
              "      <td>4.0</td>\n",
              "      <td>4.0</td>\n",
              "      <td>0.0</td>\n",
              "      <td>Sunday</td>\n",
              "      <td>Wednesday</td>\n",
              "      <td>Sunday</td>\n",
              "      <td>6</td>\n",
              "      <td>Wednesday</td>\n",
              "      <td>weekend</td>\n",
              "      <td>-1 days +03:24:00</td>\n",
              "      <td>short_survival</td>\n",
              "      <td>1</td>\n",
              "      <td>False</td>\n",
              "      <td>emergency</td>\n",
              "      <td>1</td>\n",
              "      <td>0</td>\n",
              "    </tr>\n",
              "    <tr>\n",
              "      <th>1</th>\n",
              "      <td>416</td>\n",
              "      <td>148709</td>\n",
              "      <td>226936</td>\n",
              "      <td>F</td>\n",
              "      <td>2132-07-23 14:46:00</td>\n",
              "      <td>2132-08-11 17:19:00</td>\n",
              "      <td>19</td>\n",
              "      <td>56</td>\n",
              "      <td>EMERGENCY</td>\n",
              "      <td>0</td>\n",
              "      <td>2132-07-23 14:47:03</td>\n",
              "      <td>2132-08-08 17:03:29</td>\n",
              "      <td>16.0</td>\n",
              "      <td>MICU</td>\n",
              "      <td>0</td>\n",
              "      <td>55</td>\n",
              "      <td>0.698023</td>\n",
              "      <td>5023.0</td>\n",
              "      <td>1.0</td>\n",
              "      <td>430</td>\n",
              "      <td>392</td>\n",
              "      <td>F</td>\n",
              "      <td>2076-12-12</td>\n",
              "      <td>2136-11-11</td>\n",
              "      <td>NaT</td>\n",
              "      <td>2136-11-11</td>\n",
              "      <td>1</td>\n",
              "      <td>532</td>\n",
              "      <td>2132-07-23 14:46:00</td>\n",
              "      <td>2132-08-11 17:19:00</td>\n",
              "      <td>NaT</td>\n",
              "      <td>EMERGENCY</td>\n",
              "      <td>EMERGENCY ROOM ADMIT</td>\n",
              "      <td>HOME HEALTH CARE</td>\n",
              "      <td>Medicaid</td>\n",
              "      <td>HAIT</td>\n",
              "      <td>UNOBTAINABLE</td>\n",
              "      <td>MARRIED</td>\n",
              "      <td>BLACK/AFRICAN AMERICAN</td>\n",
              "      <td>2132-07-23 09:26:00</td>\n",
              "      <td>2132-07-23 15:08:00</td>\n",
              "      <td>SAH</td>\n",
              "      <td>0</td>\n",
              "      <td>1</td>\n",
              "      <td>13.0</td>\n",
              "      <td>6.0</td>\n",
              "      <td>4.0</td>\n",
              "      <td>3.0</td>\n",
              "      <td>0.0</td>\n",
              "      <td>Wednesday</td>\n",
              "      <td>Monday</td>\n",
              "      <td>Wednesday</td>\n",
              "      <td>2</td>\n",
              "      <td>Friday</td>\n",
              "      <td>weekday</td>\n",
              "      <td>1552 days 06:41:00</td>\n",
              "      <td>long_survival</td>\n",
              "      <td>0</td>\n",
              "      <td>True</td>\n",
              "      <td>emergency</td>\n",
              "      <td>1</td>\n",
              "      <td>1</td>\n",
              "    </tr>\n",
              "    <tr>\n",
              "      <th>2</th>\n",
              "      <td>490</td>\n",
              "      <td>166850</td>\n",
              "      <td>222952</td>\n",
              "      <td>M</td>\n",
              "      <td>2199-12-12 19:04:00</td>\n",
              "      <td>2199-12-13 20:33:00</td>\n",
              "      <td>1</td>\n",
              "      <td>87</td>\n",
              "      <td>EMERGENCY</td>\n",
              "      <td>1</td>\n",
              "      <td>2199-12-12 21:15:58</td>\n",
              "      <td>2199-12-13 20:33:59</td>\n",
              "      <td>1.0</td>\n",
              "      <td>SICU</td>\n",
              "      <td>1</td>\n",
              "      <td>58</td>\n",
              "      <td>0.772134</td>\n",
              "      <td>5788.0</td>\n",
              "      <td>1.0</td>\n",
              "      <td>43491</td>\n",
              "      <td>463</td>\n",
              "      <td>M</td>\n",
              "      <td>2112-11-20</td>\n",
              "      <td>2199-12-13</td>\n",
              "      <td>2199-12-13</td>\n",
              "      <td>2199-12-13</td>\n",
              "      <td>1</td>\n",
              "      <td>615</td>\n",
              "      <td>2199-12-12 19:04:00</td>\n",
              "      <td>2199-12-13 20:33:00</td>\n",
              "      <td>2199-12-13 20:33:00</td>\n",
              "      <td>EMERGENCY</td>\n",
              "      <td>EMERGENCY ROOM ADMIT</td>\n",
              "      <td>DEAD/EXPIRED</td>\n",
              "      <td>Medicare</td>\n",
              "      <td>None</td>\n",
              "      <td>UNOBTAINABLE</td>\n",
              "      <td>MARRIED</td>\n",
              "      <td>WHITE</td>\n",
              "      <td>2199-12-12 17:13:00</td>\n",
              "      <td>2199-12-12 22:06:00</td>\n",
              "      <td>CEREBRAL VASCULAR ACCIDENT</td>\n",
              "      <td>1</td>\n",
              "      <td>1</td>\n",
              "      <td>6.0</td>\n",
              "      <td>4.0</td>\n",
              "      <td>1.0</td>\n",
              "      <td>1.0</td>\n",
              "      <td>0.0</td>\n",
              "      <td>Thursday</td>\n",
              "      <td>Friday</td>\n",
              "      <td>Thursday</td>\n",
              "      <td>3</td>\n",
              "      <td>Friday</td>\n",
              "      <td>weekday</td>\n",
              "      <td>-1 days +03:27:00</td>\n",
              "      <td>short_survival</td>\n",
              "      <td>1</td>\n",
              "      <td>False</td>\n",
              "      <td>emergency</td>\n",
              "      <td>1</td>\n",
              "      <td>0</td>\n",
              "    </tr>\n",
              "    <tr>\n",
              "      <th>4</th>\n",
              "      <td>831</td>\n",
              "      <td>185983</td>\n",
              "      <td>223445</td>\n",
              "      <td>F</td>\n",
              "      <td>2151-06-30 09:44:00</td>\n",
              "      <td>2151-07-15 13:50:00</td>\n",
              "      <td>15</td>\n",
              "      <td>84</td>\n",
              "      <td>EMERGENCY</td>\n",
              "      <td>0</td>\n",
              "      <td>2151-06-30 09:44:47</td>\n",
              "      <td>2151-07-03 18:15:14</td>\n",
              "      <td>3.0</td>\n",
              "      <td>SICU</td>\n",
              "      <td>0</td>\n",
              "      <td>51</td>\n",
              "      <td>0.581248</td>\n",
              "      <td>9671.0</td>\n",
              "      <td>1.0</td>\n",
              "      <td>431</td>\n",
              "      <td>784</td>\n",
              "      <td>F</td>\n",
              "      <td>2067-05-06</td>\n",
              "      <td>2151-09-10</td>\n",
              "      <td>NaT</td>\n",
              "      <td>2151-09-10</td>\n",
              "      <td>1</td>\n",
              "      <td>1031</td>\n",
              "      <td>2151-06-30 09:44:00</td>\n",
              "      <td>2151-07-15 13:50:00</td>\n",
              "      <td>None</td>\n",
              "      <td>EMERGENCY</td>\n",
              "      <td>EMERGENCY ROOM ADMIT</td>\n",
              "      <td>REHAB/DISTINCT PART HOSP</td>\n",
              "      <td>Medicare</td>\n",
              "      <td>None</td>\n",
              "      <td>JEWISH</td>\n",
              "      <td>WIDOWED</td>\n",
              "      <td>WHITE</td>\n",
              "      <td>2151-06-30 08:22:00</td>\n",
              "      <td>2151-06-30 11:10:00</td>\n",
              "      <td>STROKE/TIA</td>\n",
              "      <td>0</td>\n",
              "      <td>1</td>\n",
              "      <td>7.0</td>\n",
              "      <td>4.0</td>\n",
              "      <td>1.0</td>\n",
              "      <td>2.0</td>\n",
              "      <td>0.0</td>\n",
              "      <td>Wednesday</td>\n",
              "      <td>Thursday</td>\n",
              "      <td>Wednesday</td>\n",
              "      <td>2</td>\n",
              "      <td>Saturday</td>\n",
              "      <td>weekday</td>\n",
              "      <td>56 days 10:10:00</td>\n",
              "      <td>short_survival</td>\n",
              "      <td>1</td>\n",
              "      <td>False</td>\n",
              "      <td>emergency</td>\n",
              "      <td>1</td>\n",
              "      <td>0</td>\n",
              "    </tr>\n",
              "    <tr>\n",
              "      <th>5</th>\n",
              "      <td>1054</td>\n",
              "      <td>183383</td>\n",
              "      <td>288218</td>\n",
              "      <td>M</td>\n",
              "      <td>2157-01-06 17:16:00</td>\n",
              "      <td>2157-01-08 15:00:00</td>\n",
              "      <td>2</td>\n",
              "      <td>79</td>\n",
              "      <td>EMERGENCY</td>\n",
              "      <td>1</td>\n",
              "      <td>2157-01-06 17:17:38</td>\n",
              "      <td>2157-01-07 22:01:06</td>\n",
              "      <td>1.0</td>\n",
              "      <td>SICU</td>\n",
              "      <td>0</td>\n",
              "      <td>51</td>\n",
              "      <td>0.581248</td>\n",
              "      <td>12291.0</td>\n",
              "      <td>1.0</td>\n",
              "      <td>430</td>\n",
              "      <td>998</td>\n",
              "      <td>M</td>\n",
              "      <td>2078-07-15</td>\n",
              "      <td>2157-01-08</td>\n",
              "      <td>2157-01-08</td>\n",
              "      <td>NaT</td>\n",
              "      <td>1</td>\n",
              "      <td>1310</td>\n",
              "      <td>2157-01-06 17:16:00</td>\n",
              "      <td>2157-01-08 15:00:00</td>\n",
              "      <td>2157-01-08 15:00:00</td>\n",
              "      <td>EMERGENCY</td>\n",
              "      <td>EMERGENCY ROOM ADMIT</td>\n",
              "      <td>DEAD/EXPIRED</td>\n",
              "      <td>Medicare</td>\n",
              "      <td>None</td>\n",
              "      <td>PROTESTANT QUAKER</td>\n",
              "      <td>MARRIED</td>\n",
              "      <td>WHITE</td>\n",
              "      <td>2157-01-06 14:49:00</td>\n",
              "      <td>2157-01-06 18:36:00</td>\n",
              "      <td>INTRACRANIAL HEMORRHAGE</td>\n",
              "      <td>1</td>\n",
              "      <td>1</td>\n",
              "      <td>6.0</td>\n",
              "      <td>4.0</td>\n",
              "      <td>1.0</td>\n",
              "      <td>1.0</td>\n",
              "      <td>0.0</td>\n",
              "      <td>Thursday</td>\n",
              "      <td>Saturday</td>\n",
              "      <td>Thursday</td>\n",
              "      <td>3</td>\n",
              "      <td>Friday</td>\n",
              "      <td>weekday</td>\n",
              "      <td>-1 days +09:00:00</td>\n",
              "      <td>short_survival</td>\n",
              "      <td>1</td>\n",
              "      <td>False</td>\n",
              "      <td>emergency</td>\n",
              "      <td>1</td>\n",
              "      <td>0</td>\n",
              "    </tr>\n",
              "  </tbody>\n",
              "</table>\n",
              "</div>"
            ],
            "text/plain": [
              "   subject_id  hadm_id  ...  adm_type_2_bool home_discharge_flag\n",
              "0         141   168006  ...                1                   0\n",
              "1         416   148709  ...                1                   1\n",
              "2         490   166850  ...                1                   0\n",
              "4         831   185983  ...                1                   0\n",
              "5        1054   183383  ...                1                   0\n",
              "\n",
              "[5 rows x 62 columns]"
            ]
          },
          "metadata": {
            "tags": []
          },
          "execution_count": 199
        }
      ]
    },
    {
      "cell_type": "markdown",
      "metadata": {
        "id": "hBR6YjvZRebp",
        "colab_type": "text"
      },
      "source": [
        "## GCS Scores\n",
        "Comparing mingcs between weekend and weekday groups"
      ]
    },
    {
      "cell_type": "code",
      "metadata": {
        "id": "aK8qOHYzR0Rz",
        "colab_type": "code",
        "outputId": "9b022b83-3ac3-49f2-95cb-001d91828b14",
        "colab": {
          "base_uri": "https://localhost:8080/",
          "height": 34
        }
      },
      "source": [
        "#Retrieve a list of mingcs values for weekday and weekend patients\n",
        "wkday_gcs = data4.mingcs.where(data4.inday_icu_wkd=='weekday')\n",
        "wkend_gcs = data4.mingcs.where(data4.inday_icu_wkd=='weekend')\n",
        "len(wkday_gcs), len(wkend_gcs), np.mean(wkend_gcs), np.mean(wkday_gcs)"
      ],
      "execution_count": 229,
      "outputs": [
        {
          "output_type": "execute_result",
          "data": {
            "text/plain": [
              "(3729, 3729, 12.64, 12.944171348314606)"
            ]
          },
          "metadata": {
            "tags": []
          },
          "execution_count": 229
        }
      ]
    },
    {
      "cell_type": "code",
      "metadata": {
        "id": "4OEUM_nXYfAV",
        "colab_type": "code",
        "outputId": "c36fa308-cade-4459-b40d-d6830c284b21",
        "colab": {
          "base_uri": "https://localhost:8080/",
          "height": 34
        }
      },
      "source": [
        "#T-test of 2 independent samples\n",
        "scipy.stats.ttest_ind(wkend_gcs, wkday_gcs, nan_policy='omit')"
      ],
      "execution_count": 230,
      "outputs": [
        {
          "output_type": "execute_result",
          "data": {
            "text/plain": [
              "Ttest_indResult(statistic=-2.3460254435659573, pvalue=0.019027377694946626)"
            ]
          },
          "metadata": {
            "tags": []
          },
          "execution_count": 230
        }
      ]
    },
    {
      "cell_type": "markdown",
      "metadata": {
        "id": "bd8cl2dzRqdL",
        "colab_type": "text"
      },
      "source": [
        "##ICU Length of Stay\n",
        "Comparing los_icu between weekend and weekday groups"
      ]
    },
    {
      "cell_type": "code",
      "metadata": {
        "id": "ZPIg2YP8R04T",
        "colab_type": "code",
        "outputId": "09f8a21a-9872-4773-da72-84256830ed32",
        "colab": {
          "base_uri": "https://localhost:8080/",
          "height": 34
        }
      },
      "source": [
        "#Retrieve a list of los_icu values for weekday and weekend patients\n",
        "wkday_los_icu = data4.los_icu.where(data4.inday_icu_wkd=='weekday')\n",
        "wkend_los_icu = data4.los_icu.where(data4.inday_icu_wkd=='weekend')\n",
        "len(wkday_los_icu), len(wkend_los_icu), np.mean(wkday_los_icu), np.mean(wkend_los_icu)"
      ],
      "execution_count": 202,
      "outputs": [
        {
          "output_type": "execute_result",
          "data": {
            "text/plain": [
              "(3729, 3729, 5.340299547196099, 5.641025641025641)"
            ]
          },
          "metadata": {
            "tags": []
          },
          "execution_count": 202
        }
      ]
    },
    {
      "cell_type": "code",
      "metadata": {
        "id": "5swXog4TZdPd",
        "colab_type": "code",
        "outputId": "3c9d815a-7846-4174-ad49-997325ba680a",
        "colab": {
          "base_uri": "https://localhost:8080/",
          "height": 34
        }
      },
      "source": [
        "#T-test of 2 independent samples\n",
        "scipy.stats.ttest_ind(wkday_los_icu, wkend_los_icu, nan_policy='omit')"
      ],
      "execution_count": 203,
      "outputs": [
        {
          "output_type": "execute_result",
          "data": {
            "text/plain": [
              "Ttest_indResult(statistic=-1.104726749630691, pvalue=0.2693493219413157)"
            ]
          },
          "metadata": {
            "tags": []
          },
          "execution_count": 203
        }
      ]
    },
    {
      "cell_type": "markdown",
      "metadata": {
        "id": "cYmr63miRvc7",
        "colab_type": "text"
      },
      "source": [
        "##Hospital Length of Stay\n",
        "Comparing los_hospital between weekend and weekday groups"
      ]
    },
    {
      "cell_type": "code",
      "metadata": {
        "id": "6167UsN4RydL",
        "colab_type": "code",
        "outputId": "750c999f-7637-4138-eaa0-0981ca658685",
        "colab": {
          "base_uri": "https://localhost:8080/",
          "height": 34
        }
      },
      "source": [
        "#Retrieve a list of los_hospital values for weekday and weekend patients\n",
        "wkday_los_hospital = data4.los_hospital.where(data4.inday_icu_wkd=='weekday')\n",
        "wkend_los_hospital = data4.los_hospital.where(data4.inday_icu_wkd=='weekend')\n",
        "len(wkday_los_hospital), len(wkend_los_hospital), np.mean(wkday_los_hospital), np.mean(wkend_los_hospital)"
      ],
      "execution_count": 204,
      "outputs": [
        {
          "output_type": "execute_result",
          "data": {
            "text/plain": [
              "(3729, 3729, 11.25496342737722, 11.21095571095571)"
            ]
          },
          "metadata": {
            "tags": []
          },
          "execution_count": 204
        }
      ]
    },
    {
      "cell_type": "code",
      "metadata": {
        "id": "YWUqq7nIagIu",
        "colab_type": "code",
        "outputId": "490e80a6-9f3c-4c78-c14d-54778bf00cc0",
        "colab": {
          "base_uri": "https://localhost:8080/",
          "height": 34
        }
      },
      "source": [
        "#T-test of 2 independent samples\n",
        "scipy.stats.ttest_ind(wkday_los_hospital, wkend_los_hospital, nan_policy='omit')"
      ],
      "execution_count": 232,
      "outputs": [
        {
          "output_type": "execute_result",
          "data": {
            "text/plain": [
              "Ttest_indResult(statistic=0.09776337650869653, pvalue=0.9221254463404264)"
            ]
          },
          "metadata": {
            "tags": []
          },
          "execution_count": 232
        }
      ]
    },
    {
      "cell_type": "markdown",
      "metadata": {
        "id": "Tur3aBt80OVa",
        "colab_type": "text"
      },
      "source": [
        "#Model Training with Logistic Regression"
      ]
    },
    {
      "cell_type": "markdown",
      "metadata": {
        "id": "-OH_qrNr3evD",
        "colab_type": "text"
      },
      "source": [
        "##Simple Logistic Regression"
      ]
    },
    {
      "cell_type": "code",
      "metadata": {
        "id": "kWA3XkFH3jIx",
        "colab_type": "code",
        "outputId": "e733a656-b0ac-4a60-fdac-44f86bf685ff",
        "colab": {
          "base_uri": "https://localhost:8080/",
          "height": 256
        }
      },
      "source": [
        "#Simple model\n",
        "#Hospital mortality no adjustments made\n",
        "simple_glm = smf.glm('hospital_expire_flag_x ~ C(inday_icu_wkd)', \n",
        "                     data=data4, family=sm.families.Binomial()).fit()\n",
        "simple_glm.summary2()"
      ],
      "execution_count": 233,
      "outputs": [
        {
          "output_type": "execute_result",
          "data": {
            "text/html": [
              "<table class=\"simpletable\">\n",
              "<tr>\n",
              "        <td>Model:</td>                  <td>GLM</td>               <td>AIC:</td>        <td>3867.4925</td> \n",
              "</tr>\n",
              "<tr>\n",
              "    <td>Link Function:</td>             <td>logit</td>              <td>BIC:</td>       <td>-26786.9656</td>\n",
              "</tr>\n",
              "<tr>\n",
              "  <td>Dependent Variable:</td> <td>hospital_expire_flag_x</td> <td>Log-Likelihood:</td>   <td>-1931.7</td>  \n",
              "</tr>\n",
              "<tr>\n",
              "         <td>Date:</td>           <td>2020-01-22 07:40</td>       <td>LL-Null:</td>       <td>-1940.0</td>  \n",
              "</tr>\n",
              "<tr>\n",
              "   <td>No. Observations:</td>           <td>3729</td>             <td>Deviance:</td>      <td>3863.5</td>   \n",
              "</tr>\n",
              "<tr>\n",
              "       <td>Df Model:</td>                 <td>1</td>            <td>Pearson chi2:</td>   <td>3.73e+03</td>  \n",
              "</tr>\n",
              "<tr>\n",
              "     <td>Df Residuals:</td>             <td>3727</td>              <td>Scale:</td>        <td>1.0000</td>   \n",
              "</tr>\n",
              "<tr>\n",
              "        <td>Method:</td>                <td>IRLS</td>                 <td></td>              <td></td>      \n",
              "</tr>\n",
              "</table>\n",
              "<table class=\"simpletable\">\n",
              "<tr>\n",
              "               <td></td>                <th>Coef.</th>  <th>Std.Err.</th>     <th>z</th>     <th>P>|z|</th> <th>[0.025</th>  <th>0.975]</th> \n",
              "</tr>\n",
              "<tr>\n",
              "  <th>Intercept</th>                   <td>-1.3889</td>  <td>0.0467</td>  <td>-29.7447</td> <td>0.0000</td> <td>-1.4804</td> <td>-1.2974</td>\n",
              "</tr>\n",
              "<tr>\n",
              "  <th>C(inday_icu_wkd)[T.weekend]</th> <td>0.3725</td>   <td>0.0903</td>   <td>4.1256</td>  <td>0.0000</td> <td>0.1956</td>  <td>0.5495</td> \n",
              "</tr>\n",
              "</table>"
            ],
            "text/plain": [
              "<class 'statsmodels.iolib.summary2.Summary'>\n",
              "\"\"\"\n",
              "                     Results: Generalized linear model\n",
              "============================================================================\n",
              "Model:                GLM                      AIC:              3867.4925  \n",
              "Link Function:        logit                    BIC:              -26786.9656\n",
              "Dependent Variable:   hospital_expire_flag_x   Log-Likelihood:   -1931.7    \n",
              "Date:                 2020-01-22 07:40         LL-Null:          -1940.0    \n",
              "No. Observations:     3729                     Deviance:         3863.5     \n",
              "Df Model:             1                        Pearson chi2:     3.73e+03   \n",
              "Df Residuals:         3727                     Scale:            1.0000     \n",
              "Method:               IRLS                                                  \n",
              "----------------------------------------------------------------------------\n",
              "                             Coef.  Std.Err.    z     P>|z|   [0.025  0.975]\n",
              "----------------------------------------------------------------------------\n",
              "Intercept                   -1.3889   0.0467 -29.7447 0.0000 -1.4804 -1.2974\n",
              "C(inday_icu_wkd)[T.weekend]  0.3725   0.0903   4.1256 0.0000  0.1956  0.5495\n",
              "============================================================================\n",
              "\n",
              "\"\"\""
            ]
          },
          "metadata": {
            "tags": []
          },
          "execution_count": 233
        }
      ]
    },
    {
      "cell_type": "markdown",
      "metadata": {
        "id": "AAXwezS62qpO",
        "colab_type": "text"
      },
      "source": [
        "##Hospital Mortality"
      ]
    },
    {
      "cell_type": "code",
      "metadata": {
        "id": "yemK9N2D0lm6",
        "colab_type": "code",
        "outputId": "2c9e4a94-d035-4050-8843-b69b3990f06d",
        "colab": {
          "base_uri": "https://localhost:8080/",
          "height": 320
        }
      },
      "source": [
        "#For Hospital Mortality adjusting for admission type, age and sex\n",
        "adj_glm = smf.glm('hospital_expire_flag_x ~ C(inday_icu_wkd) + C(adm_type_2) + admission_age +C(gender_x)', \n",
        "                     data=data4, family=sm.families.Binomial()).fit()\n",
        "adj_glm.summary2()\n",
        "# drop1(adj.glm,test=\"Chisq\")"
      ],
      "execution_count": 207,
      "outputs": [
        {
          "output_type": "execute_result",
          "data": {
            "text/html": [
              "<table class=\"simpletable\">\n",
              "<tr>\n",
              "        <td>Model:</td>                  <td>GLM</td>               <td>AIC:</td>        <td>3732.9672</td> \n",
              "</tr>\n",
              "<tr>\n",
              "    <td>Link Function:</td>             <td>logit</td>              <td>BIC:</td>       <td>-26902.8192</td>\n",
              "</tr>\n",
              "<tr>\n",
              "  <td>Dependent Variable:</td> <td>hospital_expire_flag_x</td> <td>Log-Likelihood:</td>   <td>-1861.5</td>  \n",
              "</tr>\n",
              "<tr>\n",
              "         <td>Date:</td>           <td>2020-01-22 06:11</td>       <td>LL-Null:</td>       <td>-1940.0</td>  \n",
              "</tr>\n",
              "<tr>\n",
              "   <td>No. Observations:</td>           <td>3729</td>             <td>Deviance:</td>      <td>3723.0</td>   \n",
              "</tr>\n",
              "<tr>\n",
              "       <td>Df Model:</td>                 <td>4</td>            <td>Pearson chi2:</td>   <td>3.75e+03</td>  \n",
              "</tr>\n",
              "<tr>\n",
              "     <td>Df Residuals:</td>             <td>3724</td>              <td>Scale:</td>        <td>1.0000</td>   \n",
              "</tr>\n",
              "<tr>\n",
              "        <td>Method:</td>                <td>IRLS</td>                 <td></td>              <td></td>      \n",
              "</tr>\n",
              "</table>\n",
              "<table class=\"simpletable\">\n",
              "<tr>\n",
              "               <td></td>                <th>Coef.</th>  <th>Std.Err.</th>     <th>z</th>     <th>P>|z|</th> <th>[0.025</th>  <th>0.975]</th> \n",
              "</tr>\n",
              "<tr>\n",
              "  <th>Intercept</th>                   <td>-4.7888</td>  <td>0.3561</td>  <td>-13.4483</td> <td>0.0000</td> <td>-5.4867</td> <td>-4.0909</td>\n",
              "</tr>\n",
              "<tr>\n",
              "  <th>C(inday_icu_wkd)[T.weekend]</th> <td>0.3298</td>   <td>0.0921</td>   <td>3.5803</td>  <td>0.0003</td> <td>0.1493</td>  <td>0.5104</td> \n",
              "</tr>\n",
              "<tr>\n",
              "  <th>C(adm_type_2)[T.emergency]</th>  <td>1.7832</td>   <td>0.2784</td>   <td>6.4056</td>  <td>0.0000</td> <td>1.2375</td>  <td>2.3288</td> \n",
              "</tr>\n",
              "<tr>\n",
              "  <th>C(gender_x)[T.M]</th>            <td>-0.0342</td>  <td>0.0817</td>   <td>-0.4182</td> <td>0.6758</td> <td>-0.1943</td> <td>0.1260</td> \n",
              "</tr>\n",
              "<tr>\n",
              "  <th>admission_age</th>               <td>0.0253</td>   <td>0.0030</td>   <td>8.4404</td>  <td>0.0000</td> <td>0.0195</td>  <td>0.0312</td> \n",
              "</tr>\n",
              "</table>"
            ],
            "text/plain": [
              "<class 'statsmodels.iolib.summary2.Summary'>\n",
              "\"\"\"\n",
              "                     Results: Generalized linear model\n",
              "============================================================================\n",
              "Model:                GLM                      AIC:              3732.9672  \n",
              "Link Function:        logit                    BIC:              -26902.8192\n",
              "Dependent Variable:   hospital_expire_flag_x   Log-Likelihood:   -1861.5    \n",
              "Date:                 2020-01-22 06:11         LL-Null:          -1940.0    \n",
              "No. Observations:     3729                     Deviance:         3723.0     \n",
              "Df Model:             4                        Pearson chi2:     3.75e+03   \n",
              "Df Residuals:         3724                     Scale:            1.0000     \n",
              "Method:               IRLS                                                  \n",
              "----------------------------------------------------------------------------\n",
              "                             Coef.  Std.Err.    z     P>|z|   [0.025  0.975]\n",
              "----------------------------------------------------------------------------\n",
              "Intercept                   -4.7888   0.3561 -13.4483 0.0000 -5.4867 -4.0909\n",
              "C(inday_icu_wkd)[T.weekend]  0.3298   0.0921   3.5803 0.0003  0.1493  0.5104\n",
              "C(adm_type_2)[T.emergency]   1.7832   0.2784   6.4056 0.0000  1.2375  2.3288\n",
              "C(gender_x)[T.M]            -0.0342   0.0817  -0.4182 0.6758 -0.1943  0.1260\n",
              "admission_age                0.0253   0.0030   8.4404 0.0000  0.0195  0.0312\n",
              "============================================================================\n",
              "\n",
              "\"\"\""
            ]
          },
          "metadata": {
            "tags": []
          },
          "execution_count": 207
        }
      ]
    },
    {
      "cell_type": "markdown",
      "metadata": {
        "id": "BWh_uRYc2oQe",
        "colab_type": "text"
      },
      "source": [
        "##ICU Mortality"
      ]
    },
    {
      "cell_type": "code",
      "metadata": {
        "id": "aiUdU9OI0ftN",
        "colab_type": "code",
        "outputId": "7c5d8ed7-4e51-41fd-aca6-1b04268dd430",
        "colab": {
          "base_uri": "https://localhost:8080/",
          "height": 320
        }
      },
      "source": [
        "#For ICU mortality adjusting for admission type, age and sex\n",
        "adj_glm = smf.glm('icustay_expire_flag ~ C(inday_icu_wkd) + C(adm_type_2) + admission_age +C(gender_x)', \n",
        "                     data=data4, family=sm.families.Binomial()).fit()\n",
        "adj_glm.summary2()\n",
        "# drop1(adj.glm,test=\"Chisq\")"
      ],
      "execution_count": 208,
      "outputs": [
        {
          "output_type": "execute_result",
          "data": {
            "text/html": [
              "<table class=\"simpletable\">\n",
              "<tr>\n",
              "        <td>Model:</td>                <td>GLM</td>              <td>AIC:</td>        <td>3197.3224</td> \n",
              "</tr>\n",
              "<tr>\n",
              "    <td>Link Function:</td>           <td>logit</td>             <td>BIC:</td>       <td>-27438.4640</td>\n",
              "</tr>\n",
              "<tr>\n",
              "  <td>Dependent Variable:</td> <td>icustay_expire_flag</td> <td>Log-Likelihood:</td>   <td>-1593.7</td>  \n",
              "</tr>\n",
              "<tr>\n",
              "         <td>Date:</td>         <td>2020-01-22 06:11</td>      <td>LL-Null:</td>       <td>-1625.1</td>  \n",
              "</tr>\n",
              "<tr>\n",
              "   <td>No. Observations:</td>         <td>3729</td>            <td>Deviance:</td>      <td>3187.3</td>   \n",
              "</tr>\n",
              "<tr>\n",
              "       <td>Df Model:</td>               <td>4</td>           <td>Pearson chi2:</td>   <td>3.72e+03</td>  \n",
              "</tr>\n",
              "<tr>\n",
              "     <td>Df Residuals:</td>           <td>3724</td>             <td>Scale:</td>        <td>1.0000</td>   \n",
              "</tr>\n",
              "<tr>\n",
              "        <td>Method:</td>              <td>IRLS</td>                <td></td>              <td></td>      \n",
              "</tr>\n",
              "</table>\n",
              "<table class=\"simpletable\">\n",
              "<tr>\n",
              "               <td></td>                <th>Coef.</th>  <th>Std.Err.</th>     <th>z</th>     <th>P>|z|</th> <th>[0.025</th>  <th>0.975]</th> \n",
              "</tr>\n",
              "<tr>\n",
              "  <th>Intercept</th>                   <td>-4.0387</td>  <td>0.3718</td>  <td>-10.8613</td> <td>0.0000</td> <td>-4.7675</td> <td>-3.3099</td>\n",
              "</tr>\n",
              "<tr>\n",
              "  <th>C(inday_icu_wkd)[T.weekend]</th> <td>0.2261</td>   <td>0.1029</td>   <td>2.1966</td>  <td>0.0281</td> <td>0.0244</td>  <td>0.4278</td> \n",
              "</tr>\n",
              "<tr>\n",
              "  <th>C(adm_type_2)[T.emergency]</th>  <td>1.4533</td>   <td>0.2887</td>   <td>5.0340</td>  <td>0.0000</td> <td>0.8875</td>  <td>2.0191</td> \n",
              "</tr>\n",
              "<tr>\n",
              "  <th>C(gender_x)[T.M]</th>            <td>-0.0182</td>  <td>0.0910</td>   <td>-0.2002</td> <td>0.8413</td> <td>-0.1966</td> <td>0.1602</td> \n",
              "</tr>\n",
              "<tr>\n",
              "  <th>admission_age</th>               <td>0.0138</td>   <td>0.0032</td>   <td>4.2925</td>  <td>0.0000</td> <td>0.0075</td>  <td>0.0201</td> \n",
              "</tr>\n",
              "</table>"
            ],
            "text/plain": [
              "<class 'statsmodels.iolib.summary2.Summary'>\n",
              "\"\"\"\n",
              "                     Results: Generalized linear model\n",
              "============================================================================\n",
              "Model:                 GLM                    AIC:               3197.3224  \n",
              "Link Function:         logit                  BIC:               -27438.4640\n",
              "Dependent Variable:    icustay_expire_flag    Log-Likelihood:    -1593.7    \n",
              "Date:                  2020-01-22 06:11       LL-Null:           -1625.1    \n",
              "No. Observations:      3729                   Deviance:          3187.3     \n",
              "Df Model:              4                      Pearson chi2:      3.72e+03   \n",
              "Df Residuals:          3724                   Scale:             1.0000     \n",
              "Method:                IRLS                                                 \n",
              "----------------------------------------------------------------------------\n",
              "                             Coef.  Std.Err.    z     P>|z|   [0.025  0.975]\n",
              "----------------------------------------------------------------------------\n",
              "Intercept                   -4.0387   0.3718 -10.8613 0.0000 -4.7675 -3.3099\n",
              "C(inday_icu_wkd)[T.weekend]  0.2261   0.1029   2.1966 0.0281  0.0244  0.4278\n",
              "C(adm_type_2)[T.emergency]   1.4533   0.2887   5.0340 0.0000  0.8875  2.0191\n",
              "C(gender_x)[T.M]            -0.0182   0.0910  -0.2002 0.8413 -0.1966  0.1602\n",
              "admission_age                0.0138   0.0032   4.2925 0.0000  0.0075  0.0201\n",
              "============================================================================\n",
              "\n",
              "\"\"\""
            ]
          },
          "metadata": {
            "tags": []
          },
          "execution_count": 208
        }
      ]
    },
    {
      "cell_type": "markdown",
      "metadata": {
        "id": "lPpUZRCo2f9e",
        "colab_type": "text"
      },
      "source": [
        "##Home Discharge"
      ]
    },
    {
      "cell_type": "markdown",
      "metadata": {
        "id": "sDEunACgM87c",
        "colab_type": "text"
      },
      "source": [
        "###Inclusive of mortality"
      ]
    },
    {
      "cell_type": "code",
      "metadata": {
        "id": "EDcy73ux0RHa",
        "colab_type": "code",
        "outputId": "e43b9ea6-755e-4847-ca87-42923610db2a",
        "colab": {
          "base_uri": "https://localhost:8080/",
          "height": 320
        }
      },
      "source": [
        "#For Home Discharge adjusting for admission type, age and sex\n",
        "adj_glm = smf.glm('home_discharge_bool ~ C(inday_icu_wkd) + C(adm_type_2) + admission_age +C(gender_x)', \n",
        "                     data=data4, family=sm.families.Binomial()).fit()\n",
        "adj_glm.summary2()\n",
        "# drop1(adj.glm,test=\"Chisq\")"
      ],
      "execution_count": 209,
      "outputs": [
        {
          "output_type": "execute_result",
          "data": {
            "text/html": [
              "<table class=\"simpletable\">\n",
              "<tr>\n",
              "        <td>Model:</td>                                    <td>GLM</td>                                  <td>AIC:</td>        <td>4352.2690</td> \n",
              "</tr>\n",
              "<tr>\n",
              "    <td>Link Function:</td>                               <td>logit</td>                                 <td>BIC:</td>       <td>-26283.5174</td>\n",
              "</tr>\n",
              "<tr>\n",
              "  <td>Dependent Variable:</td> <td>['home_discharge_bool[False]', 'home_discharge_bool[True]']</td> <td>Log-Likelihood:</td>   <td>-2171.1</td>  \n",
              "</tr>\n",
              "<tr>\n",
              "         <td>Date:</td>                             <td>2020-01-22 06:11</td>                          <td>LL-Null:</td>       <td>-2320.5</td>  \n",
              "</tr>\n",
              "<tr>\n",
              "   <td>No. Observations:</td>                             <td>3729</td>                                <td>Deviance:</td>      <td>4342.3</td>   \n",
              "</tr>\n",
              "<tr>\n",
              "       <td>Df Model:</td>                                   <td>4</td>                               <td>Pearson chi2:</td>   <td>3.69e+03</td>  \n",
              "</tr>\n",
              "<tr>\n",
              "     <td>Df Residuals:</td>                               <td>3724</td>                                 <td>Scale:</td>        <td>1.0000</td>   \n",
              "</tr>\n",
              "<tr>\n",
              "        <td>Method:</td>                                  <td>IRLS</td>                                    <td></td>              <td></td>      \n",
              "</tr>\n",
              "</table>\n",
              "<table class=\"simpletable\">\n",
              "<tr>\n",
              "               <td></td>                <th>Coef.</th>  <th>Std.Err.</th>     <th>z</th>     <th>P>|z|</th> <th>[0.025</th>  <th>0.975]</th> \n",
              "</tr>\n",
              "<tr>\n",
              "  <th>Intercept</th>                   <td>-2.6946</td>  <td>0.2204</td>  <td>-12.2248</td> <td>0.0000</td> <td>-3.1266</td> <td>-2.2626</td>\n",
              "</tr>\n",
              "<tr>\n",
              "  <th>C(inday_icu_wkd)[T.weekend]</th> <td>0.2368</td>   <td>0.0908</td>   <td>2.6089</td>  <td>0.0091</td> <td>0.0589</td>  <td>0.4147</td> \n",
              "</tr>\n",
              "<tr>\n",
              "  <th>C(adm_type_2)[T.emergency]</th>  <td>1.2024</td>   <td>0.1283</td>   <td>9.3749</td>  <td>0.0000</td> <td>0.9510</td>  <td>1.4537</td> \n",
              "</tr>\n",
              "<tr>\n",
              "  <th>C(gender_x)[T.M]</th>            <td>-0.0765</td>  <td>0.0742</td>   <td>-1.0305</td> <td>0.3028</td> <td>-0.2219</td> <td>0.0690</td> \n",
              "</tr>\n",
              "<tr>\n",
              "  <th>admission_age</th>               <td>0.0361</td>   <td>0.0025</td>   <td>14.3980</td> <td>0.0000</td> <td>0.0312</td>  <td>0.0411</td> \n",
              "</tr>\n",
              "</table>"
            ],
            "text/plain": [
              "<class 'statsmodels.iolib.summary2.Summary'>\n",
              "\"\"\"\n",
              "                                     Results: Generalized linear model\n",
              "===========================================================================================================\n",
              "Model:              GLM                                                         AIC:            4352.2690  \n",
              "Link Function:      logit                                                       BIC:            -26283.5174\n",
              "Dependent Variable: ['home_discharge_bool[False]', 'home_discharge_bool[True]'] Log-Likelihood: -2171.1    \n",
              "Date:               2020-01-22 06:11                                            LL-Null:        -2320.5    \n",
              "No. Observations:   3729                                                        Deviance:       4342.3     \n",
              "Df Model:           4                                                           Pearson chi2:   3.69e+03   \n",
              "Df Residuals:       3724                                                        Scale:          1.0000     \n",
              "Method:             IRLS                                                                                   \n",
              "-----------------------------------------------------------------------------------------------------------------\n",
              "                                    Coef.        Std.Err.          z           P>|z|         [0.025        0.975]\n",
              "-----------------------------------------------------------------------------------------------------------------\n",
              "Intercept                          -2.6946         0.2204       -12.2248       0.0000       -3.1266       -2.2626\n",
              "C(inday_icu_wkd)[T.weekend]         0.2368         0.0908         2.6089       0.0091        0.0589        0.4147\n",
              "C(adm_type_2)[T.emergency]          1.2024         0.1283         9.3749       0.0000        0.9510        1.4537\n",
              "C(gender_x)[T.M]                   -0.0765         0.0742        -1.0305       0.3028       -0.2219        0.0690\n",
              "admission_age                       0.0361         0.0025        14.3980       0.0000        0.0312        0.0411\n",
              "===========================================================================================================\n",
              "\n",
              "\"\"\""
            ]
          },
          "metadata": {
            "tags": []
          },
          "execution_count": 209
        }
      ]
    },
    {
      "cell_type": "code",
      "metadata": {
        "id": "R9iH2wQ-1yPv",
        "colab_type": "code",
        "outputId": "7947caf1-5b4f-421d-8897-ed4d8443f311",
        "colab": {
          "base_uri": "https://localhost:8080/",
          "height": 320
        }
      },
      "source": [
        "#Verification of home discharge. Identical to the run above\n",
        "#For Home Discharge adjusting for admission type, age and sex\n",
        "adj_glm = smf.glm('home_discharge_flag ~ C(inday_icu_wkd) + C(adm_type_2) + admission_age +C(gender_x)', \n",
        "                     data=data4, family=sm.families.Binomial()).fit()\n",
        "adj_glm.summary2()\n",
        "# drop1(adj.glm,test=\"Chisq\")"
      ],
      "execution_count": 210,
      "outputs": [
        {
          "output_type": "execute_result",
          "data": {
            "text/html": [
              "<table class=\"simpletable\">\n",
              "<tr>\n",
              "        <td>Model:</td>                <td>GLM</td>              <td>AIC:</td>        <td>4352.2690</td> \n",
              "</tr>\n",
              "<tr>\n",
              "    <td>Link Function:</td>           <td>logit</td>             <td>BIC:</td>       <td>-26283.5174</td>\n",
              "</tr>\n",
              "<tr>\n",
              "  <td>Dependent Variable:</td> <td>home_discharge_flag</td> <td>Log-Likelihood:</td>   <td>-2171.1</td>  \n",
              "</tr>\n",
              "<tr>\n",
              "         <td>Date:</td>         <td>2020-01-22 06:11</td>      <td>LL-Null:</td>       <td>-2320.5</td>  \n",
              "</tr>\n",
              "<tr>\n",
              "   <td>No. Observations:</td>         <td>3729</td>            <td>Deviance:</td>      <td>4342.3</td>   \n",
              "</tr>\n",
              "<tr>\n",
              "       <td>Df Model:</td>               <td>4</td>           <td>Pearson chi2:</td>   <td>3.69e+03</td>  \n",
              "</tr>\n",
              "<tr>\n",
              "     <td>Df Residuals:</td>           <td>3724</td>             <td>Scale:</td>        <td>1.0000</td>   \n",
              "</tr>\n",
              "<tr>\n",
              "        <td>Method:</td>              <td>IRLS</td>                <td></td>              <td></td>      \n",
              "</tr>\n",
              "</table>\n",
              "<table class=\"simpletable\">\n",
              "<tr>\n",
              "               <td></td>                <th>Coef.</th>  <th>Std.Err.</th>     <th>z</th>     <th>P>|z|</th> <th>[0.025</th>  <th>0.975]</th> \n",
              "</tr>\n",
              "<tr>\n",
              "  <th>Intercept</th>                   <td>2.6946</td>   <td>0.2204</td>   <td>12.2248</td> <td>0.0000</td> <td>2.2626</td>  <td>3.1266</td> \n",
              "</tr>\n",
              "<tr>\n",
              "  <th>C(inday_icu_wkd)[T.weekend]</th> <td>-0.2368</td>  <td>0.0908</td>   <td>-2.6089</td> <td>0.0091</td> <td>-0.4147</td> <td>-0.0589</td>\n",
              "</tr>\n",
              "<tr>\n",
              "  <th>C(adm_type_2)[T.emergency]</th>  <td>-1.2024</td>  <td>0.1283</td>   <td>-9.3749</td> <td>0.0000</td> <td>-1.4537</td> <td>-0.9510</td>\n",
              "</tr>\n",
              "<tr>\n",
              "  <th>C(gender_x)[T.M]</th>            <td>0.0765</td>   <td>0.0742</td>   <td>1.0305</td>  <td>0.3028</td> <td>-0.0690</td> <td>0.2219</td> \n",
              "</tr>\n",
              "<tr>\n",
              "  <th>admission_age</th>               <td>-0.0361</td>  <td>0.0025</td>  <td>-14.3980</td> <td>0.0000</td> <td>-0.0411</td> <td>-0.0312</td>\n",
              "</tr>\n",
              "</table>"
            ],
            "text/plain": [
              "<class 'statsmodels.iolib.summary2.Summary'>\n",
              "\"\"\"\n",
              "                     Results: Generalized linear model\n",
              "============================================================================\n",
              "Model:                 GLM                    AIC:               4352.2690  \n",
              "Link Function:         logit                  BIC:               -26283.5174\n",
              "Dependent Variable:    home_discharge_flag    Log-Likelihood:    -2171.1    \n",
              "Date:                  2020-01-22 06:11       LL-Null:           -2320.5    \n",
              "No. Observations:      3729                   Deviance:          4342.3     \n",
              "Df Model:              4                      Pearson chi2:      3.69e+03   \n",
              "Df Residuals:          3724                   Scale:             1.0000     \n",
              "Method:                IRLS                                                 \n",
              "----------------------------------------------------------------------------\n",
              "                             Coef.  Std.Err.    z     P>|z|   [0.025  0.975]\n",
              "----------------------------------------------------------------------------\n",
              "Intercept                    2.6946   0.2204  12.2248 0.0000  2.2626  3.1266\n",
              "C(inday_icu_wkd)[T.weekend] -0.2368   0.0908  -2.6089 0.0091 -0.4147 -0.0589\n",
              "C(adm_type_2)[T.emergency]  -1.2024   0.1283  -9.3749 0.0000 -1.4537 -0.9510\n",
              "C(gender_x)[T.M]             0.0765   0.0742   1.0305 0.3028 -0.0690  0.2219\n",
              "admission_age               -0.0361   0.0025 -14.3980 0.0000 -0.0411 -0.0312\n",
              "============================================================================\n",
              "\n",
              "\"\"\""
            ]
          },
          "metadata": {
            "tags": []
          },
          "execution_count": 210
        }
      ]
    },
    {
      "cell_type": "markdown",
      "metadata": {
        "id": "V6JZJhZDNBHK",
        "colab_type": "text"
      },
      "source": [
        "###Exclusive of mortality (only the survivors)"
      ]
    },
    {
      "cell_type": "code",
      "metadata": {
        "id": "Pc9AOM0yNE5a",
        "colab_type": "code",
        "outputId": "924bb443-0dc4-465f-ac79-5649ac2967da",
        "colab": {
          "base_uri": "https://localhost:8080/",
          "height": 320
        }
      },
      "source": [
        "#For Home Discharge adjusting for admission type, age and sex\n",
        "adj_glm = smf.glm('home_discharge_bool ~ C(inday_icu_wkd) + C(adm_type_2) + admission_age +C(gender_x)', \n",
        "                     data=df_survived, family=sm.families.Binomial()).fit()\n",
        "adj_glm.summary2()\n",
        "# drop1(adj.glm,test=\"Chisq\")"
      ],
      "execution_count": 211,
      "outputs": [
        {
          "output_type": "execute_result",
          "data": {
            "text/html": [
              "<table class=\"simpletable\">\n",
              "<tr>\n",
              "        <td>Model:</td>                <td>GLM</td>              <td>AIC:</td>        <td>3748.2225</td> \n",
              "</tr>\n",
              "<tr>\n",
              "    <td>Link Function:</td>           <td>logit</td>             <td>BIC:</td>       <td>-19593.3823</td>\n",
              "</tr>\n",
              "<tr>\n",
              "  <td>Dependent Variable:</td> <td>home_discharge_bool</td> <td>Log-Likelihood:</td>   <td>-1869.1</td>  \n",
              "</tr>\n",
              "<tr>\n",
              "         <td>Date:</td>         <td>2020-01-22 06:11</td>      <td>LL-Null:</td>       <td>-1970.5</td>  \n",
              "</tr>\n",
              "<tr>\n",
              "   <td>No. Observations:</td>         <td>2928</td>            <td>Deviance:</td>      <td>3738.2</td>   \n",
              "</tr>\n",
              "<tr>\n",
              "       <td>Df Model:</td>               <td>4</td>           <td>Pearson chi2:</td>   <td>2.92e+03</td>  \n",
              "</tr>\n",
              "<tr>\n",
              "     <td>Df Residuals:</td>           <td>2923</td>             <td>Scale:</td>        <td>1.0000</td>   \n",
              "</tr>\n",
              "<tr>\n",
              "        <td>Method:</td>              <td>IRLS</td>                <td></td>              <td></td>      \n",
              "</tr>\n",
              "</table>\n",
              "<table class=\"simpletable\">\n",
              "<tr>\n",
              "               <td></td>                <th>Coef.</th>  <th>Std.Err.</th>     <th>z</th>     <th>P>|z|</th> <th>[0.025</th>  <th>0.975]</th> \n",
              "</tr>\n",
              "<tr>\n",
              "  <th>Intercept</th>                   <td>2.6131</td>   <td>0.2345</td>   <td>11.1424</td> <td>0.0000</td> <td>2.1535</td>  <td>3.0727</td> \n",
              "</tr>\n",
              "<tr>\n",
              "  <th>C(inday_icu_wkd)[T.weekend]</th> <td>-0.1371</td>  <td>0.0971</td>   <td>-1.4125</td> <td>0.1578</td> <td>-0.3274</td> <td>0.0532</td> \n",
              "</tr>\n",
              "<tr>\n",
              "  <th>C(adm_type_2)[T.emergency]</th>  <td>-0.9446</td>  <td>0.1326</td>   <td>-7.1248</td> <td>0.0000</td> <td>-1.2045</td> <td>-0.6848</td>\n",
              "</tr>\n",
              "<tr>\n",
              "  <th>C(gender_x)[T.M]</th>            <td>0.0915</td>   <td>0.0787</td>   <td>1.1628</td>  <td>0.2449</td> <td>-0.0627</td> <td>0.2457</td> \n",
              "</tr>\n",
              "<tr>\n",
              "  <th>admission_age</th>               <td>-0.0336</td>  <td>0.0027</td>  <td>-12.3257</td> <td>0.0000</td> <td>-0.0389</td> <td>-0.0282</td>\n",
              "</tr>\n",
              "</table>"
            ],
            "text/plain": [
              "<class 'statsmodels.iolib.summary2.Summary'>\n",
              "\"\"\"\n",
              "                     Results: Generalized linear model\n",
              "============================================================================\n",
              "Model:                 GLM                    AIC:               3748.2225  \n",
              "Link Function:         logit                  BIC:               -19593.3823\n",
              "Dependent Variable:    home_discharge_bool    Log-Likelihood:    -1869.1    \n",
              "Date:                  2020-01-22 06:11       LL-Null:           -1970.5    \n",
              "No. Observations:      2928                   Deviance:          3738.2     \n",
              "Df Model:              4                      Pearson chi2:      2.92e+03   \n",
              "Df Residuals:          2923                   Scale:             1.0000     \n",
              "Method:                IRLS                                                 \n",
              "----------------------------------------------------------------------------\n",
              "                             Coef.  Std.Err.    z     P>|z|   [0.025  0.975]\n",
              "----------------------------------------------------------------------------\n",
              "Intercept                    2.6131   0.2345  11.1424 0.0000  2.1535  3.0727\n",
              "C(inday_icu_wkd)[T.weekend] -0.1371   0.0971  -1.4125 0.1578 -0.3274  0.0532\n",
              "C(adm_type_2)[T.emergency]  -0.9446   0.1326  -7.1248 0.0000 -1.2045 -0.6848\n",
              "C(gender_x)[T.M]             0.0915   0.0787   1.1628 0.2449 -0.0627  0.2457\n",
              "admission_age               -0.0336   0.0027 -12.3257 0.0000 -0.0389 -0.0282\n",
              "============================================================================\n",
              "\n",
              "\"\"\""
            ]
          },
          "metadata": {
            "tags": []
          },
          "execution_count": 211
        }
      ]
    },
    {
      "cell_type": "markdown",
      "metadata": {
        "id": "UdCVGuUi2jxu",
        "colab_type": "text"
      },
      "source": [
        "##6-Month Mortality"
      ]
    },
    {
      "cell_type": "markdown",
      "metadata": {
        "id": "8X9hVhHihd0w",
        "colab_type": "text"
      },
      "source": [
        "###Inclusive of in-hospital mortality"
      ]
    },
    {
      "cell_type": "code",
      "metadata": {
        "id": "ULHIpqwN0xul",
        "colab_type": "code",
        "outputId": "6e82198c-f694-4a3a-c668-0dbe05a2e6d4",
        "colab": {
          "base_uri": "https://localhost:8080/",
          "height": 320
        }
      },
      "source": [
        "#For Death post Discharge adjusting for admission type, age and sex\n",
        "adj_glm = smf.glm('death_post_discharge_in_days ~ C(inday_icu_wkd) + C(adm_type_2) + admission_age +C(gender_x)', \n",
        "                     data=data4, family=sm.families.Binomial()).fit()\n",
        "adj_glm.summary2()\n",
        "# drop1(adj.glm,test=\"Chisq\")"
      ],
      "execution_count": 212,
      "outputs": [
        {
          "output_type": "execute_result",
          "data": {
            "text/html": [
              "<table class=\"simpletable\">\n",
              "<tr>\n",
              "        <td>Model:</td>                                                      <td>GLM</td>                                                    <td>AIC:</td>        <td>4385.2155</td> \n",
              "</tr>\n",
              "<tr>\n",
              "    <td>Link Function:</td>                                                 <td>logit</td>                                                   <td>BIC:</td>       <td>-26250.5709</td>\n",
              "</tr>\n",
              "<tr>\n",
              "  <td>Dependent Variable:</td> <td>['death_post_discharge_in_days[long_survival]', 'death_post_discharge_in_days[short_survival]']</td> <td>Log-Likelihood:</td>   <td>-2187.6</td>  \n",
              "</tr>\n",
              "<tr>\n",
              "         <td>Date:</td>                                               <td>2020-01-22 06:12</td>                                            <td>LL-Null:</td>       <td>-2329.8</td>  \n",
              "</tr>\n",
              "<tr>\n",
              "   <td>No. Observations:</td>                                               <td>3729</td>                                                  <td>Deviance:</td>      <td>4375.2</td>   \n",
              "</tr>\n",
              "<tr>\n",
              "       <td>Df Model:</td>                                                     <td>4</td>                                                 <td>Pearson chi2:</td>   <td>3.78e+03</td>  \n",
              "</tr>\n",
              "<tr>\n",
              "     <td>Df Residuals:</td>                                                 <td>3724</td>                                                   <td>Scale:</td>        <td>1.0000</td>   \n",
              "</tr>\n",
              "<tr>\n",
              "        <td>Method:</td>                                                    <td>IRLS</td>                                                      <td></td>              <td></td>      \n",
              "</tr>\n",
              "</table>\n",
              "<table class=\"simpletable\">\n",
              "<tr>\n",
              "               <td></td>                <th>Coef.</th>  <th>Std.Err.</th>     <th>z</th>     <th>P>|z|</th> <th>[0.025</th>  <th>0.975]</th> \n",
              "</tr>\n",
              "<tr>\n",
              "  <th>Intercept</th>                   <td>4.7783</td>   <td>0.2844</td>   <td>16.8017</td> <td>0.0000</td> <td>4.2209</td>  <td>5.3357</td> \n",
              "</tr>\n",
              "<tr>\n",
              "  <th>C(inday_icu_wkd)[T.weekend]</th> <td>-0.2931</td>  <td>0.0849</td>   <td>-3.4512</td> <td>0.0006</td> <td>-0.4596</td> <td>-0.1266</td>\n",
              "</tr>\n",
              "<tr>\n",
              "  <th>C(adm_type_2)[T.emergency]</th>  <td>-1.5190</td>  <td>0.1959</td>   <td>-7.7522</td> <td>0.0000</td> <td>-1.9030</td> <td>-1.1350</td>\n",
              "</tr>\n",
              "<tr>\n",
              "  <th>C(gender_x)[T.M]</th>            <td>-0.0127</td>  <td>0.0735</td>   <td>-0.1733</td> <td>0.8624</td> <td>-0.1567</td> <td>0.1312</td> \n",
              "</tr>\n",
              "<tr>\n",
              "  <th>admission_age</th>               <td>-0.0367</td>  <td>0.0028</td>  <td>-13.2756</td> <td>0.0000</td> <td>-0.0421</td> <td>-0.0313</td>\n",
              "</tr>\n",
              "</table>"
            ],
            "text/plain": [
              "<class 'statsmodels.iolib.summary2.Summary'>\n",
              "\"\"\"\n",
              "                                                       Results: Generalized linear model\n",
              "===============================================================================================================================================\n",
              "Model:              GLM                                                                                             AIC:            4385.2155  \n",
              "Link Function:      logit                                                                                           BIC:            -26250.5709\n",
              "Dependent Variable: ['death_post_discharge_in_days[long_survival]', 'death_post_discharge_in_days[short_survival]'] Log-Likelihood: -2187.6    \n",
              "Date:               2020-01-22 06:12                                                                                LL-Null:        -2329.8    \n",
              "No. Observations:   3729                                                                                            Deviance:       4375.2     \n",
              "Df Model:           4                                                                                               Pearson chi2:   3.78e+03   \n",
              "Df Residuals:       3724                                                                                            Scale:          1.0000     \n",
              "Method:             IRLS                                                                                                                       \n",
              "------------------------------------------------------------------------------------------------------------------------------------------------------------\n",
              "                                            Coef.               Std.Err.                 z                  P>|z|                [0.025               0.975]\n",
              "------------------------------------------------------------------------------------------------------------------------------------------------------------\n",
              "Intercept                                   4.7783                0.2844               16.8017              0.0000               4.2209               5.3357\n",
              "C(inday_icu_wkd)[T.weekend]                -0.2931                0.0849               -3.4512              0.0006              -0.4596              -0.1266\n",
              "C(adm_type_2)[T.emergency]                 -1.5190                0.1959               -7.7522              0.0000              -1.9030              -1.1350\n",
              "C(gender_x)[T.M]                           -0.0127                0.0735               -0.1733              0.8624              -0.1567               0.1312\n",
              "admission_age                              -0.0367                0.0028              -13.2756              0.0000              -0.0421              -0.0313\n",
              "===============================================================================================================================================\n",
              "\n",
              "\"\"\""
            ]
          },
          "metadata": {
            "tags": []
          },
          "execution_count": 212
        }
      ]
    },
    {
      "cell_type": "code",
      "metadata": {
        "id": "FAwFAG2l0aVL",
        "colab_type": "code",
        "outputId": "af4ec300-a2cf-4366-bb07-16e5ec5ec68c",
        "colab": {
          "base_uri": "https://localhost:8080/",
          "height": 320
        }
      },
      "source": [
        "#This is identical to the one above, measured against the flag variable for clarity\n",
        "#Short survival = 1\n",
        "#For Short and Long term Survival adjusting for admission type, age and sex\n",
        "adj_glm = smf.glm('survival_time_flag ~ C(inday_icu_wkd) + C(adm_type_2) + admission_age +C(gender_x)', \n",
        "                     data=data4, family=sm.families.Binomial()).fit()\n",
        "adj_glm.summary2()\n",
        "# drop1(adj.glm,test=\"Chisq\")"
      ],
      "execution_count": 213,
      "outputs": [
        {
          "output_type": "execute_result",
          "data": {
            "text/html": [
              "<table class=\"simpletable\">\n",
              "<tr>\n",
              "        <td>Model:</td>                <td>GLM</td>             <td>AIC:</td>        <td>4385.2155</td> \n",
              "</tr>\n",
              "<tr>\n",
              "    <td>Link Function:</td>           <td>logit</td>            <td>BIC:</td>       <td>-26250.5709</td>\n",
              "</tr>\n",
              "<tr>\n",
              "  <td>Dependent Variable:</td> <td>survival_time_flag</td> <td>Log-Likelihood:</td>   <td>-2187.6</td>  \n",
              "</tr>\n",
              "<tr>\n",
              "         <td>Date:</td>         <td>2020-01-22 06:12</td>     <td>LL-Null:</td>       <td>-2329.8</td>  \n",
              "</tr>\n",
              "<tr>\n",
              "   <td>No. Observations:</td>         <td>3729</td>           <td>Deviance:</td>      <td>4375.2</td>   \n",
              "</tr>\n",
              "<tr>\n",
              "       <td>Df Model:</td>               <td>4</td>          <td>Pearson chi2:</td>   <td>3.78e+03</td>  \n",
              "</tr>\n",
              "<tr>\n",
              "     <td>Df Residuals:</td>           <td>3724</td>            <td>Scale:</td>        <td>1.0000</td>   \n",
              "</tr>\n",
              "<tr>\n",
              "        <td>Method:</td>              <td>IRLS</td>               <td></td>              <td></td>      \n",
              "</tr>\n",
              "</table>\n",
              "<table class=\"simpletable\">\n",
              "<tr>\n",
              "               <td></td>                <th>Coef.</th>  <th>Std.Err.</th>     <th>z</th>     <th>P>|z|</th> <th>[0.025</th>  <th>0.975]</th> \n",
              "</tr>\n",
              "<tr>\n",
              "  <th>Intercept</th>                   <td>-4.7783</td>  <td>0.2844</td>  <td>-16.8017</td> <td>0.0000</td> <td>-5.3357</td> <td>-4.2209</td>\n",
              "</tr>\n",
              "<tr>\n",
              "  <th>C(inday_icu_wkd)[T.weekend]</th> <td>0.2931</td>   <td>0.0849</td>   <td>3.4512</td>  <td>0.0006</td> <td>0.1266</td>  <td>0.4596</td> \n",
              "</tr>\n",
              "<tr>\n",
              "  <th>C(adm_type_2)[T.emergency]</th>  <td>1.5190</td>   <td>0.1959</td>   <td>7.7522</td>  <td>0.0000</td> <td>1.1350</td>  <td>1.9030</td> \n",
              "</tr>\n",
              "<tr>\n",
              "  <th>C(gender_x)[T.M]</th>            <td>0.0127</td>   <td>0.0735</td>   <td>0.1733</td>  <td>0.8624</td> <td>-0.1312</td> <td>0.1567</td> \n",
              "</tr>\n",
              "<tr>\n",
              "  <th>admission_age</th>               <td>0.0367</td>   <td>0.0028</td>   <td>13.2756</td> <td>0.0000</td> <td>0.0313</td>  <td>0.0421</td> \n",
              "</tr>\n",
              "</table>"
            ],
            "text/plain": [
              "<class 'statsmodels.iolib.summary2.Summary'>\n",
              "\"\"\"\n",
              "                     Results: Generalized linear model\n",
              "============================================================================\n",
              "Model:                  GLM                   AIC:               4385.2155  \n",
              "Link Function:          logit                 BIC:               -26250.5709\n",
              "Dependent Variable:     survival_time_flag    Log-Likelihood:    -2187.6    \n",
              "Date:                   2020-01-22 06:12      LL-Null:           -2329.8    \n",
              "No. Observations:       3729                  Deviance:          4375.2     \n",
              "Df Model:               4                     Pearson chi2:      3.78e+03   \n",
              "Df Residuals:           3724                  Scale:             1.0000     \n",
              "Method:                 IRLS                                                \n",
              "----------------------------------------------------------------------------\n",
              "                             Coef.  Std.Err.    z     P>|z|   [0.025  0.975]\n",
              "----------------------------------------------------------------------------\n",
              "Intercept                   -4.7783   0.2844 -16.8017 0.0000 -5.3357 -4.2209\n",
              "C(inday_icu_wkd)[T.weekend]  0.2931   0.0849   3.4512 0.0006  0.1266  0.4596\n",
              "C(adm_type_2)[T.emergency]   1.5190   0.1959   7.7522 0.0000  1.1350  1.9030\n",
              "C(gender_x)[T.M]             0.0127   0.0735   0.1733 0.8624 -0.1312  0.1567\n",
              "admission_age                0.0367   0.0028  13.2756 0.0000  0.0313  0.0421\n",
              "============================================================================\n",
              "\n",
              "\"\"\""
            ]
          },
          "metadata": {
            "tags": []
          },
          "execution_count": 213
        }
      ]
    },
    {
      "cell_type": "markdown",
      "metadata": {
        "id": "hZj17IzWhmTv",
        "colab_type": "text"
      },
      "source": [
        "###Exclusive of in-hospital mortality\n",
        "This only includes patients who were discharged alive"
      ]
    },
    {
      "cell_type": "code",
      "metadata": {
        "id": "y71kBiawhx3g",
        "colab_type": "code",
        "outputId": "ad4033c7-2f62-4a99-c195-fc69107965e6",
        "colab": {
          "base_uri": "https://localhost:8080/",
          "height": 320
        }
      },
      "source": [
        "#Measured against the flag variable for clarity\n",
        "#Short survival = 1\n",
        "#For Short and Long term Survival adjusting for admission type, age and sex\n",
        "adj_glm = smf.glm('survival_time_flag ~ C(inday_icu_wkd) + C(adm_type_2) + admission_age +C(gender_x)', \n",
        "                     data=df_survived, family=sm.families.Binomial()).fit()\n",
        "adj_glm.summary2()\n",
        "# drop1(adj.glm,test=\"Chisq\")"
      ],
      "execution_count": 214,
      "outputs": [
        {
          "output_type": "execute_result",
          "data": {
            "text/html": [
              "<table class=\"simpletable\">\n",
              "<tr>\n",
              "        <td>Model:</td>                <td>GLM</td>             <td>AIC:</td>        <td>2125.2559</td> \n",
              "</tr>\n",
              "<tr>\n",
              "    <td>Link Function:</td>           <td>logit</td>            <td>BIC:</td>       <td>-21216.3490</td>\n",
              "</tr>\n",
              "<tr>\n",
              "  <td>Dependent Variable:</td> <td>survival_time_flag</td> <td>Log-Likelihood:</td>   <td>-1057.6</td>  \n",
              "</tr>\n",
              "<tr>\n",
              "         <td>Date:</td>         <td>2020-01-22 06:12</td>     <td>LL-Null:</td>       <td>-1133.9</td>  \n",
              "</tr>\n",
              "<tr>\n",
              "   <td>No. Observations:</td>         <td>2928</td>           <td>Deviance:</td>      <td>2115.3</td>   \n",
              "</tr>\n",
              "<tr>\n",
              "       <td>Df Model:</td>               <td>4</td>          <td>Pearson chi2:</td>   <td>3.04e+03</td>  \n",
              "</tr>\n",
              "<tr>\n",
              "     <td>Df Residuals:</td>           <td>2923</td>            <td>Scale:</td>        <td>1.0000</td>   \n",
              "</tr>\n",
              "<tr>\n",
              "        <td>Method:</td>              <td>IRLS</td>               <td></td>              <td></td>      \n",
              "</tr>\n",
              "</table>\n",
              "<table class=\"simpletable\">\n",
              "<tr>\n",
              "               <td></td>                <th>Coef.</th>  <th>Std.Err.</th>     <th>z</th>     <th>P>|z|</th> <th>[0.025</th>  <th>0.975]</th> \n",
              "</tr>\n",
              "<tr>\n",
              "  <th>Intercept</th>                   <td>-6.4381</td>  <td>0.4456</td>  <td>-14.4494</td> <td>0.0000</td> <td>-7.3114</td> <td>-5.5649</td>\n",
              "</tr>\n",
              "<tr>\n",
              "  <th>C(inday_icu_wkd)[T.weekend]</th> <td>0.1370</td>   <td>0.1344</td>   <td>1.0196</td>  <td>0.3079</td> <td>-0.1264</td> <td>0.4004</td> \n",
              "</tr>\n",
              "<tr>\n",
              "  <th>C(adm_type_2)[T.emergency]</th>  <td>1.0387</td>   <td>0.2603</td>   <td>3.9910</td>  <td>0.0001</td> <td>0.5286</td>  <td>1.5487</td> \n",
              "</tr>\n",
              "<tr>\n",
              "  <th>C(gender_x)[T.M]</th>            <td>0.0668</td>   <td>0.1134</td>   <td>0.5890</td>  <td>0.5558</td> <td>-0.1554</td> <td>0.2890</td> \n",
              "</tr>\n",
              "<tr>\n",
              "  <th>admission_age</th>               <td>0.0506</td>   <td>0.0048</td>   <td>10.5874</td> <td>0.0000</td> <td>0.0413</td>  <td>0.0600</td> \n",
              "</tr>\n",
              "</table>"
            ],
            "text/plain": [
              "<class 'statsmodels.iolib.summary2.Summary'>\n",
              "\"\"\"\n",
              "                     Results: Generalized linear model\n",
              "============================================================================\n",
              "Model:                  GLM                   AIC:               2125.2559  \n",
              "Link Function:          logit                 BIC:               -21216.3490\n",
              "Dependent Variable:     survival_time_flag    Log-Likelihood:    -1057.6    \n",
              "Date:                   2020-01-22 06:12      LL-Null:           -1133.9    \n",
              "No. Observations:       2928                  Deviance:          2115.3     \n",
              "Df Model:               4                     Pearson chi2:      3.04e+03   \n",
              "Df Residuals:           2923                  Scale:             1.0000     \n",
              "Method:                 IRLS                                                \n",
              "----------------------------------------------------------------------------\n",
              "                             Coef.  Std.Err.    z     P>|z|   [0.025  0.975]\n",
              "----------------------------------------------------------------------------\n",
              "Intercept                   -6.4381   0.4456 -14.4494 0.0000 -7.3114 -5.5649\n",
              "C(inday_icu_wkd)[T.weekend]  0.1370   0.1344   1.0196 0.3079 -0.1264  0.4004\n",
              "C(adm_type_2)[T.emergency]   1.0387   0.2603   3.9910 0.0001  0.5286  1.5487\n",
              "C(gender_x)[T.M]             0.0668   0.1134   0.5890 0.5558 -0.1554  0.2890\n",
              "admission_age                0.0506   0.0048  10.5874 0.0000  0.0413  0.0600\n",
              "============================================================================\n",
              "\n",
              "\"\"\""
            ]
          },
          "metadata": {
            "tags": []
          },
          "execution_count": 214
        }
      ]
    },
    {
      "cell_type": "markdown",
      "metadata": {
        "id": "Jp9REoQK9fuS",
        "colab_type": "text"
      },
      "source": [
        "#Save DF into Google Drive"
      ]
    },
    {
      "cell_type": "code",
      "metadata": {
        "id": "LmSqAaAp9jeA",
        "colab_type": "code",
        "colab": {}
      },
      "source": [
        "from pydrive.auth import GoogleAuth\n",
        "from pydrive.drive import GoogleDrive\n",
        "from google.colab import auth\n",
        "from google.colab import files\n",
        "from oauth2client.client import GoogleCredentials\n",
        "\n",
        "auth.authenticate_user()\n",
        "gauth = GoogleAuth()\n",
        "gauth.credentials = GoogleCredentials.get_application_default()\n",
        "drive = GoogleDrive(gauth)"
      ],
      "execution_count": 0,
      "outputs": []
    },
    {
      "cell_type": "code",
      "metadata": {
        "id": "8Qqcy1WF9xTA",
        "colab_type": "code",
        "colab": {}
      },
      "source": [
        "data4.to_pickle('data4.pkl')"
      ],
      "execution_count": 0,
      "outputs": []
    },
    {
      "cell_type": "code",
      "metadata": {
        "id": "e2QTftQ84gcz",
        "colab_type": "code",
        "colab": {}
      },
      "source": [
        "df_survived.to_pickle('df_survived.pkl')"
      ],
      "execution_count": 0,
      "outputs": []
    },
    {
      "cell_type": "code",
      "metadata": {
        "id": "ijaFIWcU-L_B",
        "colab_type": "code",
        "outputId": "0c111b30-8c72-451b-f7f8-9a74a3c3c11a",
        "colab": {
          "base_uri": "https://localhost:8080/",
          "height": 34
        }
      },
      "source": [
        "!ls"
      ],
      "execution_count": 218,
      "outputs": [
        {
          "output_type": "stream",
          "text": [
            "adc.json  data4.pkl  df_survived.pkl  gdrive  sample_data\n"
          ],
          "name": "stdout"
        }
      ]
    },
    {
      "cell_type": "code",
      "metadata": {
        "id": "Ozr0CVTP-QOQ",
        "colab_type": "code",
        "colab": {}
      },
      "source": [
        "file = drive.CreateFile({'parents':[{u'id': '1QBA8enV6cplk7Q-o1T329RsdZAC_fD5C'}]}) # This refers to the /data folder \n",
        "file.SetContentFile(\"data4.pkl\") \n",
        "file.Upload()"
      ],
      "execution_count": 0,
      "outputs": []
    },
    {
      "cell_type": "code",
      "metadata": {
        "id": "zrB9Q5WY4ruQ",
        "colab_type": "code",
        "colab": {}
      },
      "source": [
        "file = drive.CreateFile({'parents':[{u'id': '1QBA8enV6cplk7Q-o1T329RsdZAC_fD5C'}]}) # This refers to the /data folder \n",
        "file.SetContentFile(\"df_survived.pkl\") \n",
        "file.Upload()"
      ],
      "execution_count": 0,
      "outputs": []
    },
    {
      "cell_type": "markdown",
      "metadata": {
        "id": "sL3_nSK0-ych",
        "colab_type": "text"
      },
      "source": [
        "#Load DF from Google Drive"
      ]
    },
    {
      "cell_type": "code",
      "metadata": {
        "id": "EJGXgeqx-1cB",
        "colab_type": "code",
        "outputId": "843266bf-5e8e-42e3-8a62-2d2eea0f1dd9",
        "colab": {
          "base_uri": "https://localhost:8080/",
          "height": 122
        }
      },
      "source": [
        "from google.colab import drive\n",
        "drive.mount('/content/gdrive')\n",
        "data4 = pd.read_pickle(\"/content/gdrive/My Drive/data/data4.pkl\")\n",
        "df_survived = pd.read_pickle(\"/content/gdrive/My Drive/data/df_survived.pkl\")"
      ],
      "execution_count": 0,
      "outputs": [
        {
          "output_type": "stream",
          "text": [
            "Go to this URL in a browser: https://accounts.google.com/o/oauth2/auth?client_id=947318989803-6bn6qk8qdgf4n4g3pfee6491hc0brc4i.apps.googleusercontent.com&redirect_uri=urn%3aietf%3awg%3aoauth%3a2.0%3aoob&response_type=code&scope=email%20https%3a%2f%2fwww.googleapis.com%2fauth%2fdocs.test%20https%3a%2f%2fwww.googleapis.com%2fauth%2fdrive%20https%3a%2f%2fwww.googleapis.com%2fauth%2fdrive.photos.readonly%20https%3a%2f%2fwww.googleapis.com%2fauth%2fpeopleapi.readonly\n",
            "\n",
            "Enter your authorization code:\n",
            "··········\n",
            "Mounted at /content/gdrive\n"
          ],
          "name": "stdout"
        }
      ]
    }
  ]
}