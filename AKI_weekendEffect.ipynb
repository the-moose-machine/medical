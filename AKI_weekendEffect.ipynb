{
  "nbformat": 4,
  "nbformat_minor": 0,
  "metadata": {
    "colab": {
      "name": "AKI-weekendEffect.ipynb",
      "provenance": [],
      "authorship_tag": "ABX9TyNMAGtoWgRfOTPcySCpbWfQ"
    },
    "kernelspec": {
      "name": "python3",
      "display_name": "Python 3"
    }
  },
  "cells": [
    {
      "cell_type": "markdown",
      "metadata": {
        "id": "SiApMjvSX5oG",
        "colab_type": "text"
      },
      "source": [
        "#The Weekend Effect of Mortality in Patients with Acute Kidney Infection"
      ]
    },
    {
      "cell_type": "markdown",
      "metadata": {
        "id": "B24nLPS5kI5I",
        "colab_type": "text"
      },
      "source": [
        "#Imports and Installations"
      ]
    },
    {
      "cell_type": "code",
      "metadata": {
        "id": "oCY6DO1HkUy4",
        "colab_type": "code",
        "colab": {
          "base_uri": "https://localhost:8080/",
          "height": 272
        },
        "outputId": "01c2d0b8-2ec4-437c-9268-b572c61d656d"
      },
      "source": [
        "# Data processing libraries\n",
        "import pandas as pd\n",
        "import numpy as np\n",
        "import itertools\n",
        "import missingno as msno\n",
        "\n",
        "# Stats libraries\n",
        "import statsmodels.api as sm\n",
        "import statsmodels.formula.api as smf\n",
        "import scipy.stats\n",
        "\n",
        "# Image libraries\n",
        "import matplotlib.pyplot as plt\n",
        "\n",
        "\n",
        "# Make pandas dataframes prettier\n",
        "from IPython.display import display, HTML\n",
        "\n",
        "# Access data using Google BigQuery.\n",
        "import os\n",
        "from google.colab import auth\n",
        "from google.cloud import bigquery\n",
        "import seaborn as sns\n",
        "\n",
        "# install and import tableone\n",
        "!pip install tableone\n",
        "from tableone import TableOne"
      ],
      "execution_count": 1,
      "outputs": [
        {
          "output_type": "stream",
          "text": [
            "/usr/local/lib/python3.6/dist-packages/statsmodels/tools/_testing.py:19: FutureWarning: pandas.util.testing is deprecated. Use the functions in the public API at pandas.testing instead.\n",
            "  import pandas.util.testing as tm\n"
          ],
          "name": "stderr"
        },
        {
          "output_type": "stream",
          "text": [
            "Collecting tableone\n",
            "  Downloading https://files.pythonhosted.org/packages/c4/36/2024cb104612c61448e6eb6f6c97185ea5bf012f076ea599506033fe8ce5/tableone-0.7.6-py2.py3-none-any.whl\n",
            "Requirement already satisfied: tabulate>=0.8.2 in /usr/local/lib/python3.6/dist-packages (from tableone) (0.8.7)\n",
            "Requirement already satisfied: statsmodels>=0.8.0 in /usr/local/lib/python3.6/dist-packages (from tableone) (0.10.2)\n",
            "Requirement already satisfied: numpy>=1.12.1 in /usr/local/lib/python3.6/dist-packages (from tableone) (1.18.4)\n",
            "Requirement already satisfied: pandas>=0.22.0 in /usr/local/lib/python3.6/dist-packages (from tableone) (1.0.3)\n",
            "Requirement already satisfied: scipy>=0.18.1 in /usr/local/lib/python3.6/dist-packages (from tableone) (1.4.1)\n",
            "Requirement already satisfied: patsy>=0.4.0 in /usr/local/lib/python3.6/dist-packages (from statsmodels>=0.8.0->tableone) (0.5.1)\n",
            "Requirement already satisfied: python-dateutil>=2.6.1 in /usr/local/lib/python3.6/dist-packages (from pandas>=0.22.0->tableone) (2.8.1)\n",
            "Requirement already satisfied: pytz>=2017.2 in /usr/local/lib/python3.6/dist-packages (from pandas>=0.22.0->tableone) (2018.9)\n",
            "Requirement already satisfied: six in /usr/local/lib/python3.6/dist-packages (from patsy>=0.4.0->statsmodels>=0.8.0->tableone) (1.12.0)\n",
            "Installing collected packages: tableone\n",
            "Successfully installed tableone-0.7.6\n"
          ],
          "name": "stdout"
        }
      ]
    },
    {
      "cell_type": "markdown",
      "metadata": {
        "id": "IycNjZtGkgGW",
        "colab_type": "text"
      },
      "source": [
        "#MIMIC-III"
      ]
    },
    {
      "cell_type": "markdown",
      "metadata": {
        "id": "88m4406tkldQ",
        "colab_type": "text"
      },
      "source": [
        "##Connect to MIMIC-III"
      ]
    },
    {
      "cell_type": "code",
      "metadata": {
        "id": "wn_12KdYkqOY",
        "colab_type": "code",
        "colab": {}
      },
      "source": [
        "auth.authenticate_user()"
      ],
      "execution_count": 0,
      "outputs": []
    },
    {
      "cell_type": "code",
      "metadata": {
        "id": "wjdbvICGkuA_",
        "colab_type": "code",
        "colab": {}
      },
      "source": [
        "# add your project ID for billing\n",
        "project_id='physionet-data'\n",
        "os.environ[\"GOOGLE_CLOUD_PROJECT\"]=project_id"
      ],
      "execution_count": 0,
      "outputs": []
    },
    {
      "cell_type": "markdown",
      "metadata": {
        "id": "Rpc4rIajlNNW",
        "colab_type": "text"
      },
      "source": [
        "##Extract data"
      ]
    },
    {
      "cell_type": "markdown",
      "metadata": {
        "id": "i5_ZXsNqt1Xj",
        "colab_type": "text"
      },
      "source": [
        "Data extraction cannot be done directly using Google Colab. For instance, if you try to run:\n",
        "\n",
        "```\n",
        "%%bigquery patients\n",
        "\n",
        "SELECT *\n",
        "FROM `physionet-data.mimiciii_clinical.patients`;\n",
        "```\n",
        "\n",
        "You get the following error:\n",
        "\n",
        "```\n",
        "ERROR:\n",
        " 403 POST https://bigquery.googleapis.com/bigquery/v2/projects/physionet-data/jobs: Access Denied: Project physionet-data: User does not have bigquery.jobs.create permission in project physionet-data.\n",
        "\n",
        "(job ID: 899daff0-6c46-4450-bf88-48e32ad37cd0)\n",
        "```\n",
        "\n",
        "Therefore, the easiest way is to go directly to BigQuery, run the query and save the output on to Google Drive. The tables can then be accessed directly from Google Drive on Colab.\n",
        "For instance, to get the same information as the query above. \n",
        "1. Open [BigQuery](https://console.cloud.google.com/bigquery?pli=1&project=hack-aotearoa&page=jobs)\n",
        "\n",
        "1.   Enter the SQL query in the Query Editor and click 'Run' (CTRL + Enter):\n",
        "\n",
        "```\n",
        "SELECT *\n",
        "FROM `physionet-data.mimiciii_clinical.patients`;\n",
        "```\n",
        "\n",
        "2.   Click 'Save Results' which is located next to Query Results. Give permission to save in CSV format on Google Drive.\n",
        "2.   Access the file on Google Drive. It will be saved in a time-stamped folder titled 'bq-results-2020...'\n",
        "2.   Change the file name to 'patients.csv'"
      ]
    },
    {
      "cell_type": "markdown",
      "metadata": {
        "id": "IX15xeUHwzzu",
        "colab_type": "text"
      },
      "source": [
        "##BigQuery SQL queries"
      ]
    },
    {
      "cell_type": "markdown",
      "metadata": {
        "id": "XEx5HxkCxkp7",
        "colab_type": "text"
      },
      "source": [
        "icd_diagnosis\n",
        "```\n",
        "SELECT *\n",
        "FROM `physionet-data.mimiciii_clinical.d_icd_diagnoses`\n",
        "WHERE ICD9_CODE like '99591';\n",
        "```\n",
        "\n",
        "Output: 1 row\n",
        "\n",
        "|Row|\tROW_ID|\tICD9_CODE|\tSHORT_TITLE|\tLONG_TITLE|\n",
        "|---|---|---|---|---|\n",
        "|1\t|11403 |99591 | Sepsis |  Sepsis|"
      ]
    },
    {
      "cell_type": "markdown",
      "metadata": {
        "id": "7FbdClw-_85V",
        "colab_type": "text"
      },
      "source": [
        "diagnosis_icd\n",
        "```\n",
        "SELECT *\n",
        "FROM `physionet-data.mimiciii_clinical.diagnoses_icd`\n",
        "WHERE ICD9_CODE like '99591';\n",
        "```\n",
        "Output: 1,272 rows\n",
        "\n",
        "|Row|\tROW_ID|\tSUBJECT_ID|\tHADM_ID|\tSEQ_NUM|\tICD9_CODE|\n",
        "|---|---|---|---|---|---|\n",
        "\n"
      ]
    },
    {
      "cell_type": "markdown",
      "metadata": {
        "id": "9GBxyvWeAwUm",
        "colab_type": "text"
      },
      "source": [
        "angus_sepsis where explicit_sepsis = 1\n",
        "```\n",
        "SELECT *\n",
        "FROM `physionet-data.mimiciii_derived.angus_sepsis`\n",
        "WHERE explicit_sepsis = 1;\n",
        "```\n",
        "Output: 4,085 rows\n",
        "\n",
        "|Row|\tsubject_id|\thadm_id|\tinfection|\texplicit_sepsis|\torgan_dysfunction|\tmech_vent|\tangus|\n",
        "|---|---|---|---|---|---|---|---|\t\n",
        "|1\t|15952| 180799| 1 | 1| 0 | 1 | 1 |"
      ]
    },
    {
      "cell_type": "markdown",
      "metadata": {
        "id": "QDFKhdEXCFQQ",
        "colab_type": "text"
      },
      "source": [
        "explicit_sepsis where sepsis=1\n",
        "```\n",
        "SELECT *\n",
        "FROM `physionet-data.mimiciii_derived.explicit_sepsis`\n",
        "WHERE sepsis = 1;\n",
        "```\n",
        "\n",
        "Output: 4,085 rows\n",
        "\n",
        "| Row\t| subject_id\t| hadm_id\t| severe_sepsis\t| septic_shock\t| sepsis |\n",
        "|---|---|---|---|---|---|\n",
        "| 1\t|21 |111970| 1 | 1 | 1 |\n"
      ]
    },
    {
      "cell_type": "markdown",
      "metadata": {
        "id": "M7_qkfEjUmaC",
        "colab_type": "text"
      },
      "source": [
        "sepsis_cdc_surveillance where sepsis=1\n",
        "\n",
        "\n",
        "```\n",
        "SELECT *\n",
        "FROM `physionet-data.mimiciii_derived.sepsis_cdc_surveillance`\n",
        "WHERE sepsis = 1;\n",
        "```\n",
        "Output: 4,151 rows\n",
        "\n",
        "|Row\t|icustay_id|\tsepsis|\tsepsis_simple|\tsuspected_infection_time|\trenal|\thematologic|\thepatic|\tcoagulation|\trespiratory|\tcardiovascular|\t\n",
        "|---|---|---|---|---|---|---|---|---|---|---|\n",
        "|1|\t214027|      1|       0|               2142-07-12T00:00:00|         0|       1|           0|       0|           0|           0|"
      ]
    },
    {
      "cell_type": "markdown",
      "metadata": {
        "id": "NiRcLTcaWKfS",
        "colab_type": "text"
      },
      "source": [
        "sepsis_nqf_500 where sepsis=1\n",
        "\n",
        "```\n",
        "SELECT *\n",
        "FROM `physionet-data.mimiciii_derived.sepsis_nqf_0500`\n",
        "WHERE sepsis = 1;\n",
        "```\n",
        "Output: 6,329\n",
        "\n",
        "|Row|\ticustay_id|\tsepsis|\tsepsis_dx|\tsirs_positive|\torgan_failure|\tsirs|\tcardiovascular|\trenal|\thepatic|\thematologic|\tcoagulation|\tmetabolism|\n",
        "|---|---|---|---|---|---|---|---|---|---|---|---|---|\t\n",
        "|1\t|208792|1|1|1|1|2|0|0|0|0|0|1|\n"
      ]
    },
    {
      "cell_type": "markdown",
      "metadata": {
        "id": "g4DPlYcHZWPN",
        "colab_type": "text"
      },
      "source": [
        "elixhauser_quan where RENAL_FAILURE=1\n",
        "\n",
        "```\n",
        "SELECT *\n",
        "FROM `physionet-data.mimiciii_derived.elixhauser_quan`\n",
        "WHERE RENAL_FAILURE = 1;\n",
        "```\n",
        "Output: 8,185 rows\n",
        "\n",
        "|Row|\thadm_id|\tCONGESTIVE_HEART_FAILURE|\tCARDIAC_ARRHYTHMIAS|\tVALVULAR_DISEASE|\tPULMONARY_CIRCULATION|\tPERIPHERAL_VASCULAR|\tHYPERTENSION|\tPARALYSIS|\tOTHER_NEUROLOGICAL|\tCHRONIC_PULMONARY|\tDIABETES_UNCOMPLICATED|\tDIABETES_COMPLICATED|\tHYPOTHYROIDISM|\tRENAL_FAILURE|\tLIVER_DISEASE|\tPEPTIC_ULCER|\tAIDS|\tLYMPHOMA|\tMETASTATIC_CANCER|\tSOLID_TUMOR|\tRHEUMATOID_ARTHRITIS|\tCOAGULOPATHY|\tOBESITY|\tWEIGHT_LOSS|\tFLUID_ELECTROLYTE|\tBLOOD_LOSS_ANEMIA|\tDEFICIENCY_ANEMIAS|\tALCOHOL_ABUSE|\tDRUG_ABUSE|\tPSYCHOSES|\tDEPRESSION|\t\n",
        "|---|---|---|---|---|---|---|---|---|---|---|---|---|---|---|---|---|---|---|---|---|---|---|---|---|---|---|---|---|---|---|---|\n",
        "|1|100001|0|0|0|0|0|1|0|0|0|0|1|0|1|0|0|0|0|0|0|0|0|0|0|0|0|0|0|0|0|0|\n"
      ]
    },
    {
      "cell_type": "markdown",
      "metadata": {
        "id": "4tB33srmew7c",
        "colab_type": "text"
      },
      "source": [
        "elixhauser_quan\n",
        "\n",
        "```\n",
        "SELECT *\n",
        "FROM `physionet-data.mimiciii_derived.elixhauser_quan`;\n",
        "```\n",
        "Output: 58,976 rows\n",
        "\n",
        "|Row|\thadm_id|\tCONGESTIVE_HEART_FAILURE|\tCARDIAC_ARRHYTHMIAS|\tVALVULAR_DISEASE|\tPULMONARY_CIRCULATION|\tPERIPHERAL_VASCULAR|\tHYPERTENSION|\tPARALYSIS|\tOTHER_NEUROLOGICAL|\tCHRONIC_PULMONARY|\tDIABETES_UNCOMPLICATED|\tDIABETES_COMPLICATED|\tHYPOTHYROIDISM|\tRENAL_FAILURE|\tLIVER_DISEASE|\tPEPTIC_ULCER|\tAIDS|\tLYMPHOMA|\tMETASTATIC_CANCER|\tSOLID_TUMOR|\tRHEUMATOID_ARTHRITIS|\tCOAGULOPATHY|\tOBESITY|\tWEIGHT_LOSS|\tFLUID_ELECTROLYTE|\tBLOOD_LOSS_ANEMIA|\tDEFICIENCY_ANEMIAS|\tALCOHOL_ABUSE|\tDRUG_ABUSE|\tPSYCHOSES|\tDEPRESSION|\t\n",
        "|---|---|---|---|---|---|---|---|---|---|---|---|---|---|---|---|---|---|---|---|---|---|---|---|---|---|---|---|---|---|---|---|\n",
        "|1|100001|0|0|0|0|0|1|0|0|0|0|1|0|1|0|0|0|0|0|0|0|0|0|0|0|0|0|0|0|0|0|\n"
      ]
    },
    {
      "cell_type": "markdown",
      "metadata": {
        "id": "a29pWBrQgDr-",
        "colab_type": "text"
      },
      "source": [
        "abx_micro_poe\n",
        "\n",
        "```\n",
        "SELECT *\n",
        "FROM `physionet-data.mimiciii_derived.abx_micro_poe`;\n",
        "```\n",
        "Output: 697,920 rows\n",
        "\n",
        "|Row|\ticustay_id|\tantibiotic_name|\tantibiotic_time|\tlast72_charttime|\tnext24_charttime|\tsuspected_infection_time|\tspecimen|\tpositiveculture|\n",
        "|---|---|---|---|---|---|---|---|---|\t\n",
        "|1|200003|Vancomycin|2199-08-06T00:00:00|2199-08-04T09:53:00|null|2199-08-04T09:53:00|BILE|1|"
      ]
    },
    {
      "cell_type": "markdown",
      "metadata": {
        "id": "Y5Fl7Rw2hLx0",
        "colab_type": "text"
      },
      "source": [
        "suspinfect_poe \n",
        "\n",
        "```\n",
        "SELECT *\n",
        "FROM `physionet-data.mimiciii_derived.suspinfect_poe`;\n",
        "```\n",
        "Output: 61,532 rows\n",
        "\n",
        "|Row|\ticustay_id|\tantibiotic_name|\tantibiotic_time|\tsuspected_infection_time|\tspecimen|\tpositiveculture|\t\n",
        "|---|---|---|---|---|---|---|\n",
        "|1|200024|Azithromycin |2127-02-21T00:00:00|null|null|null|"
      ]
    },
    {
      "cell_type": "markdown",
      "metadata": {
        "id": "v618Xwr9ix0U",
        "colab_type": "text"
      },
      "source": [
        "suspicion_of_infection \n",
        "\n",
        "```\n",
        "SELECT *\n",
        "FROM `physionet-data.mimiciii_derived.suspicion_of_infection`;\n",
        "```\n",
        "\n",
        "Output: 1,374,912 rows\n",
        "\n",
        "|Row|\ticustay_id|\tantibiotic_name|\tantibiotic_time|\tlast72_charttime|\tnext24_charttime|\tsuspected_infection_time|\tspecimen|\tpositiveculture|\n",
        "|---|---|---|---|---|---|---|---|---|\n",
        "|1\t|200001|CefTAZidime|2181-11-18T00:00:00|null|2181-11-18T11:45:00|2181-11-18T11:45:00|BLOOD CULTURE|0|"
      ]
    },
    {
      "cell_type": "markdown",
      "metadata": {
        "id": "aAutfqpHjt_-",
        "colab_type": "text"
      },
      "source": [
        "rrtfirstday \n",
        "\n",
        "```\n",
        "SELECT *\n",
        "FROM `physionet-data.mimiciii_derived.rrtfirstday`;\n",
        "```\n",
        "Output: 61,532 rows\n",
        "\n",
        "|Row|\tsubject_id|\thadm_id|\ticustay_id|\tRRT|\n",
        "|---|---|---|---|---|\t\n",
        "|1|55973|152234|200001|1|"
      ]
    },
    {
      "cell_type": "markdown",
      "metadata": {
        "id": "YqpYBmyLkMAs",
        "colab_type": "text"
      },
      "source": [
        "rrt\n",
        "\n",
        "```\n",
        "SELECT *\n",
        "FROM `physionet-data.mimiciii_derived.rrt`;\n",
        "```\n",
        "Output: 61,532 rows\n",
        "\n",
        "|Row|\tsubject_id|\thadm_id|\ticustay_id|\tRRT|\t\n",
        "|---|---|---|---|---|\n",
        "|1 | 55973|152234|200001|1|"
      ]
    },
    {
      "cell_type": "markdown",
      "metadata": {
        "id": "KGkr6zmvk8Wq",
        "colab_type": "text"
      },
      "source": [
        "crrtdurations \n",
        "\n",
        "```\n",
        "SELECT *\n",
        "FROM `physionet-data.mimiciii_derived.crrtdurations`;\n",
        "```\n",
        "Output: 5,891 rows\n",
        "\n",
        "|Row|\ticustay_id|\tnum|\tstarttime|\tendtime|\tduration_hours|\t\n",
        "|---|---|---|---|---|---|\n",
        "|1\t|null|1|2133-11-08T22:00:00|2133-11-09T11:00:00|13|"
      ]
    },
    {
      "cell_type": "markdown",
      "metadata": {
        "id": "HD6brKuJljm4",
        "colab_type": "text"
      },
      "source": [
        "dobutaminedurations \n",
        "\n",
        "```\n",
        "SELECT *\n",
        "FROM `physionet-data.mimiciii_derived.dobutaminedurations`;\n",
        "```\n",
        "Output: 1,792 rows\n",
        "\n",
        "|Row|\ticustay_id|\tvasonum|\tstarttime|\tendtime|\tduration_hours|\t\n",
        "|---|---|---|---|---|---|\n",
        "|1\t|200030|1|2150-11-13T19:30:00|2150-11-15T08:00:00|37|"
      ]
    },
    {
      "cell_type": "markdown",
      "metadata": {
        "id": "SwvKBU5dmRbP",
        "colab_type": "text"
      },
      "source": [
        "dopaminedurations\n",
        "\n",
        "```\n",
        "SELECT *\n",
        "FROM `physionet-data.mimiciii_derived.dopaminedurations`;\n",
        "```\n",
        "Output: 6,524 rows\n",
        "\n",
        "|Row|\ticustay_id|\tvasonum|\tstarttime|\tendtime|\tduration_hours|\t\n",
        "|---|---|---|---|---|---|\n",
        "|1|200024|1|2127-03-03T16:17:00|2127-03-03T20:35:00|4|"
      ]
    },
    {
      "cell_type": "markdown",
      "metadata": {
        "id": "Sn-BEJdEm2eX",
        "colab_type": "text"
      },
      "source": [
        "norepinephrinedurations \n",
        "```\n",
        "SELECT *\n",
        "FROM `physionet-data.mimiciii_derived.norepinephrinedurations`;\n",
        "```\n",
        "Output: 23,188 rows\n",
        "\n",
        "|Row|\ticustay_id|\tvasonum|\tstarttime|\tendtime|\tduration_hours|\t\n",
        "|---|---|---|---|---|---|\n",
        "|1\t|200102|1|2193-06-25T07:08:00|2193-06-27T14:00:00|55|2|"
      ]
    },
    {
      "cell_type": "markdown",
      "metadata": {
        "id": "Cu5-RXJFnVR8",
        "colab_type": "text"
      },
      "source": [
        "phenylephrinedurations\n",
        "```\n",
        "SELECT *\n",
        "FROM `physionet-data.mimiciii_derived.phenylephrinedurations`;\n",
        "```\n",
        "Output: 33,141 rows\n",
        "\n",
        "|Row|\ticustay_id|\tvasonum|\tstarttime|\tendtime|\tduration_hours|\t\n",
        "|---|---|---|---|---|---|\n",
        "|1\t|200003|3|2199-08-04T09:30:00|2199-08-05T10:00:00|25|"
      ]
    },
    {
      "cell_type": "markdown",
      "metadata": {
        "id": "1VcqedAgn09T",
        "colab_type": "text"
      },
      "source": [
        "milrinonedurations\n",
        "```\n",
        "SELECT *\n",
        "FROM `physionet-data.mimiciii_derived.milrinonedurations`;\n",
        "```\n",
        "Output: 3,600 rows\n",
        "\n",
        "|Row|\ticustay_id|\tvasonum|\tstarttime|\tendtime|\tduration_hours|\t\n",
        "|---|---|---|---|---|---|\n",
        "|1\t|200210|1|2177-07-27T23:45:00|2177-07-28T14:00:00|15|"
      ]
    },
    {
      "cell_type": "markdown",
      "metadata": {
        "id": "X1tqkKlXoj1T",
        "colab_type": "text"
      },
      "source": [
        "vasopressindurations\n",
        "\n",
        "```\n",
        "SELECT *\n",
        "FROM `physionet-data.mimiciii_derived.vasopressindurations`;\n",
        "```\n",
        "Output: 4,190 rows\n",
        "\n",
        "|Row|\ticustay_id|\tvasonum|\tstarttime|\tendtime|\tduration_hours|\t\n",
        "|---|---|---|---|---|---|\n",
        "|1\t|null|1|2133-11-07T04:40:00|2133-11-08T09:19:00|29|"
      ]
    },
    {
      "cell_type": "markdown",
      "metadata": {
        "id": "iIXnGnO6pGte",
        "colab_type": "text"
      },
      "source": [
        "fluid_balance\n",
        "\n",
        "```\n",
        "SELECT *\n",
        "FROM `physionet-data.mimiciii_derived.fluid_balance`;\n",
        "```\n",
        "Output: 6,794,786 rows\n",
        "\n",
        "|Row|\ticustay_id|\tstarttime|\tendtime|\trate_all|\trate_in|\trate_out|\n",
        "|---|---|---|---|---|---|---|\t\n",
        "|1\t|null|2097-12-07T11:00:00|2097-12-07T12:00:00|214.0|347.3333|133.3333|"
      ]
    },
    {
      "cell_type": "markdown",
      "metadata": {
        "id": "xXbVXwUzqHrZ",
        "colab_type": "text"
      },
      "source": [
        "uofirstday \n",
        "\n",
        "```\n",
        "SELECT *\n",
        "FROM `physionet-data.mimiciii_derived.uofirstday`;\n",
        "```\n",
        "Output: 53,359 rows\n",
        "\n",
        "|Row|\tsubject_id|\thadm_id|\ticustay_id|\tUrineOutput|\n",
        "|---|---|---|---|---|\t\n",
        "|1\t|3|145834|211552|497.0|"
      ]
    },
    {
      "cell_type": "markdown",
      "metadata": {
        "id": "j1J04qArqenb",
        "colab_type": "text"
      },
      "source": [
        "urineoutput\n",
        "\n",
        "```\n",
        "SELECT *\n",
        "FROM `physionet-data.mimiciii_derived.urineoutput`;\n",
        "```\n",
        "Output: 3,361,794 rows\n",
        "\n",
        "|Row|\ticustay_id|\tcharttime|\tvalue|\n",
        "|---|---|---|---|\t\n",
        "|1\t|236980|2174-12-27T21:00:00|175.0|"
      ]
    },
    {
      "cell_type": "markdown",
      "metadata": {
        "id": "yf_QEJT2q7wR",
        "colab_type": "text"
      },
      "source": [
        "labevents where ITEMID=50912\n",
        "\n",
        "```\n",
        "SELECT *\n",
        "FROM `physionet-data.mimiciii_clinical.labevents`\n",
        "WHERE ITEMID=50912;\n",
        "```\n",
        "\n",
        "Output: 797,389 rows\n",
        "\n",
        "|Row|\tROW_ID|\tSUBJECT_ID|\tHADM_ID|\tITEMID|\tCHARTTIME|\tVALUE|\tVALUENUM|\tVALUEUOM|\tFLAG|\t\n",
        "|---|---|---|---|---|---|---|---|---|---|\n",
        "|1\t|245182|384|130196|50912|2161-05-23T06:55:00|6.5|6.5|mg/dL|abnormal|"
      ]
    }
  ]
}